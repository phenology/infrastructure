{
 "cells": [
  {
   "cell_type": "markdown",
   "metadata": {},
   "source": [
    "# Kmeans over a set of GeoTiffs\n",
    "\n",
    "This notebook loads a set of GeoTiffs into a **RDD** of Tiles, with each Tile being a band in the GeoTiff. Each GeoTiff file contains [**MODIS MCD12Q2 v005**](https://lpdaac.usgs.gov/dataset_discovery/modis/modis_products_table/mcd12q2) for one year over the entire USA. The data ranges from 2001 until 2014.\n",
    "\n",
    "Kmeans takes years as dimensions. Hence, the matrix has cells as rows and the years as columns. To cluster on all years, the matrix needs to be transposed. The notebook has two flavors of matrix transpose, locally by the Spark-driver or distributed using the Spark-workers. Once transposed the matrix is converted to a **RDD** of dense vectors to be used by **Kmeans** algorithm from **Spark-MLlib**. The end result is a grid where each cell has a cluster ID which is then saved into a SingleBand GeoTiff. By saving the result into a GeoTiff, the reader can plot it using a Python notebook as the one defined in the [python examples](../examples/python).\n",
    "\n",
    "<span style=\"color:red\">In this notebook the reader only needs to modify the variables in **Mode of Operation Setup**</span>."
   ]
  },
  {
   "cell_type": "markdown",
   "metadata": {},
   "source": [
    "## Dependencies"
   ]
  },
  {
   "cell_type": "code",
   "execution_count": 1,
   "metadata": {},
   "outputs": [
    {
     "data": {
      "text/plain": [
       "...\n"
      ]
     },
     "metadata": {},
     "output_type": "display_data"
    }
   ],
   "source": [
    "import sys.process._\n",
    "\n",
    "import java.io.{ByteArrayInputStream, ByteArrayOutputStream, ObjectInputStream, ObjectOutputStream}\n",
    "\n",
    "\n",
    "import geotrellis.proj4.CRS\n",
    "import geotrellis.raster.{CellType, ArrayTile, DoubleArrayTile, Tile, UByteCellType}\n",
    "import geotrellis.raster.io.geotiff._\n",
    "import geotrellis.raster.io.geotiff.writer.GeoTiffWriter\n",
    "import geotrellis.raster.io.geotiff.{GeoTiff, SinglebandGeoTiff}\n",
    "import geotrellis.spark.io.hadoop._\n",
    "import org.apache.hadoop.io._\n",
    "import geotrellis.vector.{Extent, ProjectedExtent}\n",
    "import org.apache.spark.broadcast.Broadcast\n",
    "import org.apache.spark.mllib.clustering.{KMeans, KMeansModel}\n",
    "import org.apache.spark.mllib.linalg.distributed.{CoordinateMatrix, MatrixEntry, RowMatrix}\n",
    "import org.apache.spark.mllib.linalg.{Vector, Vectors}\n",
    "import org.apache.spark.rdd.RDD\n",
    "import org.apache.spark.{SparkConf, SparkContext}\n",
    "\n",
    "import org.apache.hadoop.io.{IOUtils, SequenceFile}\n",
    "import org.apache.hadoop.io.SequenceFile.Writer\n",
    "\n",
    "//Spire is a numeric library for Scala which is intended to be generic, fast, and precise.\n",
    "import spire.syntax.cfor._"
   ]
  },
  {
   "cell_type": "markdown",
   "metadata": {},
   "source": [
    "## Mode of operation\n",
    "\n",
    "Here the user can define the mode of operation.\n",
    "* **rdd_offline_mode**: If false it means the notebook will create all data from scratch and store protected_extent and num_cols_rows into HDFS. Otherwise, these data structures are read from HDFS.\n",
    "* **matrix_offline_mode**: If false it means the notebook will create a mtrix,  transposed it and save it to HDFS. Otherwise, these data structures are read from HDFS.\n",
    "* **kmeans_offline_mode**: If false it means the notebook will train kmeans and run kemans and store kmeans model into HDFS. Otherwise, these data structures are read from HDFS.\n",
    "\n",
    "It is also possible to define which directory of GeoTiffs is to be used and on which **band** to run Kmeans. The options are\n",
    "* **all** which are a multi-band (**8 bands**) GeoTiffs\n",
    "* Or choose single band ones:\n",
    "    0. Onset_Greenness_Increase\n",
    "    1. Onset_Greenness_Maximum\n",
    "    2. Onset_Greenness_Decrease\n",
    "    3. Onset_Greenness_Minimum\n",
    "    4. NBAR_EVI_Onset_Greenness_Minimum\n",
    "    5. NBAR_EVI_Onset_Greenness_Maximum\n",
    "    6. NBAR_EVI_Area\n",
    "    7. Dynamics_QC\n",
    "\n",
    "For kmeans the user can define the **number of iterations** and **number of clusters** as an inclusive range. Such range is defined using **minClusters**, **maxClusters**, and **stepClusters**. These variables will set a loop starting at **minClusters** and stopping at **maxClusters** (inclusive), iterating **stepClusters** at the time. <span style=\"color:red\">Note that when using a range **kemans offline mode** is not possible and it will be reset to **online mode**</span>."
   ]
  },
  {
   "cell_type": "markdown",
   "metadata": {},
   "source": [
    "### Mode of Operation setup\n",
    "<a id='mode_of_operation_setup'></a>"
   ]
  },
  {
   "cell_type": "code",
   "execution_count": 2,
   "metadata": {},
   "outputs": [
    {
     "data": {
      "text/plain": [
       "rdd_offline_mode = true\n",
       "matrix_offline_mode = true\n",
       "kmeans_offline_mode = true\n",
       "dir_path = hdfs:///user/hadoop/avhrr/\n",
       "offline_dir_path = hdfs:///user/emma/avhrr/\n",
       "geoTiff_dir = SOST\n",
       "band_num = 0\n",
       "toBeMasked = true\n",
       "mask_path = hdfs:///user/hadoop/usa_mask.tif\n",
       "numIterations = 75\n",
       "minClusters = 18\n",
       "maxClusters = 18\n",
       "stepClusters = 1\n",
       "save_kmeans_model = false\n"
      ]
     },
     "metadata": {},
     "output_type": "display_data"
    },
    {
     "data": {
      "text/plain": [
       "false"
      ]
     },
     "execution_count": 2,
     "metadata": {},
     "output_type": "execute_result"
    }
   ],
   "source": [
    "//Operation mode\n",
    "var rdd_offline_mode = true\n",
    "var matrix_offline_mode = true\n",
    "var kmeans_offline_mode = true\n",
    "\n",
    "//GeoTiffs to be read from \"hdfs:///user/hadoop/modis/\"\n",
    "var dir_path = \"hdfs:///user/hadoop/avhrr/\"\n",
    "var offline_dir_path = \"hdfs:///user/emma/avhrr/\"\n",
    "/*\n",
    "Choose all and then the band or the dir which has the band extracted.\n",
    "0: Onset_Greenness_Increase\n",
    "1: Onset_Greenness_Maximum\n",
    "2: Onset_Greenness_Decrease\n",
    "3: Onset_Greenness_Minimum\n",
    "4: NBAR_EVI_Onset_Greenness_Minimum\n",
    "5: NBAR_EVI_Onset_Greenness_Maximum\n",
    "6: NBAR_EVI_Area\n",
    "7: Dynamics_QC\n",
    "\n",
    "for example:\n",
    "var geoTiff_dir = \"Onset_Greenness_Increase\" \n",
    "var band_num = 0\n",
    "*/\n",
    "var geoTiff_dir = \"SOST\" \n",
    "var band_num = 0\n",
    "\n",
    "//Years between (inclusive) 1989 - 2014\n",
    "var satellite_first_year = 1989\n",
    "var satellite_last_year = 2014\n",
    "\n",
    "//Mask\n",
    "val toBeMasked = true\n",
    "val mask_path = \"hdfs:///user/hadoop/usa_mask.tif\"\n",
    "\n",
    "//Kmeans number of iterations and clusters\n",
    "var numIterations = 75\n",
    "var minClusters = 18\n",
    "var maxClusters = 18\n",
    "var stepClusters = 1\n",
    "var save_kmeans_model = false"
   ]
  },
  {
   "cell_type": "markdown",
   "metadata": {},
   "source": [
    "\n",
    "<span style=\"color:red\">DON'T MODIFY ANY PIECE OF CODE FROM HERE ON!!!</span>.\n"
   ]
  },
  {
   "cell_type": "markdown",
   "metadata": {},
   "source": [
    "### Mode of operation validation"
   ]
  },
  {
   "cell_type": "code",
   "execution_count": 3,
   "metadata": {},
   "outputs": [
    {
     "data": {
      "text/plain": [
       "Waiting for a Spark session to start..."
      ]
     },
     "metadata": {},
     "output_type": "display_data"
    },
    {
     "name": "stdout",
     "output_type": "stream",
     "text": [
      "1\n",
      "\"Kmeans\" offline mode is not set properly, i.e., either it was set to false and the required file does not exist or vice-versa. We will reset it to false\n"
     ]
    },
    {
     "data": {
      "text/plain": [
       "single_band = true\n",
       "mask_str = _mask\n",
       "grid0_path = hdfs:///user/emma/avhrr/SOST/grid0_0_mask\n",
       "grid0_index_path = hdfs:///user/emma/avhrr/SOST/grid0_index_0_mask\n",
       "grids_noNaN_path = hdfs:///user/emma/avhrr/SOST/grids_noNaN_0_mask\n",
       "metadata_path = hdfs:///user/emma/avhrr/SOST/metadata_0_mask\n",
       "grids_matrix_path = hdfs:///user/emma/avhrr/SOST/grids_matrix_0_mask\n",
       "conf = Configuration: core-default.xml, core-site.xml, mapred-default.xml, mapred-site.xml, yarn-default.xml, yarn-site.xml, hdfs-default.xml, hdfs-site.xml, file:/usr/lib/spark-2.1.1-bin-without-hadoop/conf/hive-site.xml\n",
       "fs = DFS[DFSClient[clientName=DFSClient_NONMAPREDUCE_1745959938_36, ugi=emma (auth:SIMPLE)]]...\n"
      ]
     },
     "metadata": {},
     "output_type": "display_data"
    },
    {
     "data": {
      "text/plain": [
       "DFS[DFSClient[clientName=DFSClient_NONMAPREDUCE_1745959938_36, ugi=emma (auth:SIMPLE)]]"
      ]
     },
     "execution_count": 3,
     "metadata": {},
     "output_type": "execute_result"
    }
   ],
   "source": [
    "//Validation, do not modify these lines.\n",
    "var single_band = false\n",
    "if (geoTiff_dir == \"all\") {\n",
    "    single_band = false\n",
    "} else {\n",
    "    single_band = true\n",
    "    if (band_num > 0) {\n",
    "        println(\"Since it is single band, we will use band 0!!!\")\n",
    "        band_num  = 0\n",
    "    }\n",
    "}\n",
    "\n",
    "if (minClusters > maxClusters) {\n",
    "    maxClusters = minClusters\n",
    "    stepClusters = 1\n",
    "}\n",
    "if (stepClusters < 1) {\n",
    "    stepClusters = 1\n",
    "}\n",
    "\n",
    "//Paths to store data structures for Offline runs\n",
    "var mask_str = \"\"\n",
    "if (toBeMasked)\n",
    "    mask_str = \"_mask\"\n",
    "var grid0_path = offline_dir_path + geoTiff_dir + \"/grid0\" + \"_\"+ band_num + mask_str\n",
    "var grid0_index_path = offline_dir_path + geoTiff_dir + \"/grid0_index\" + \"_\"+ band_num + mask_str\n",
    "var grids_noNaN_path = offline_dir_path + geoTiff_dir + \"/grids_noNaN\" + \"_\"+ band_num + mask_str\n",
    "var metadata_path = offline_dir_path + geoTiff_dir + \"/metadata\" + \"_\"+ band_num + mask_str\n",
    "var grids_matrix_path = offline_dir_path + geoTiff_dir + \"/grids_matrix\" + \"_\"+ band_num + mask_str\n",
    "\n",
    "//Check offline modes\n",
    "var conf = sc.hadoopConfiguration\n",
    "var fs = org.apache.hadoop.fs.FileSystem.get(conf)\n",
    "\n",
    "val rdd_offline_exists = fs.exists(new org.apache.hadoop.fs.Path(grid0_path))\n",
    "val matrix_offline_exists = fs.exists(new org.apache.hadoop.fs.Path(grids_matrix_path))\n",
    "                                      \n",
    "if (rdd_offline_mode != rdd_offline_exists) {\n",
    "    println(\"\\\"Load GeoTiffs\\\" offline mode is not set properly, i.e., either it was set to false and the required file does not exist or vice-versa. We will reset it to \" + rdd_offline_exists.toString())\n",
    "    rdd_offline_mode = rdd_offline_exists\n",
    "} \n",
    "if (matrix_offline_mode != matrix_offline_exists) {\n",
    "    println(\"\\\"Matrix\\\" offline mode is not set properly, i.e., either it was set to false and the required file does not exist or vice-versa. We will reset it to \" + matrix_offline_exists.toString())\n",
    "    matrix_offline_mode = matrix_offline_exists\n",
    "}\n",
    "\n",
    "if (!fs.exists(new org.apache.hadoop.fs.Path(mask_path))) {\n",
    "    println(\"The mask path: \" + mask_path + \" is invalid!!!\")\n",
    "}\n",
    "\n",
    "//Years\n",
    "val satellite_years = 1980 to 2015\n",
    "\n",
    "if (!satellite_years.contains(satellite_first_year) || !(satellite_years.contains(satellite_last_year))) {\n",
    "  println(\"Invalid range of years for \" + geoTiff_dir + \". I should be between \" + satellite_first_year + \" and \" + satellite_last_year)\n",
    "  System.exit(0)\n",
    "}\n",
    "\n",
    "var satellite_years_range = (satellite_years.indexOf(satellite_first_year), satellite_years.indexOf(satellite_last_year))\n",
    "\n",
    "var num_kmeans :Int  = 1\n",
    "if (minClusters != maxClusters) {\n",
    "    num_kmeans = ((maxClusters - minClusters) / stepClusters) + 1\n",
    "}\n",
    "println(num_kmeans)\n",
    "var kmeans_model_paths :Array[String] = Array.fill[String](num_kmeans)(\"\")\n",
    "var wssse_path :String = offline_dir_path + geoTiff_dir + \"/wssse\"\n",
    "var geotiff_hdfs_paths :Array[String] = Array.fill[String](num_kmeans)(\"\")\n",
    "var geotiff_tmp_paths :Array[String] = Array.fill[String](num_kmeans)(\"\")\n",
    "\n",
    "if (num_kmeans > 1) {\n",
    "    var numClusters_id = 0\n",
    "    cfor(minClusters)(_ <= maxClusters, _ + stepClusters) { numClusters =>\n",
    "        kmeans_model_paths(numClusters_id) = offline_dir_path + geoTiff_dir + \"/kmeans_model_\" + band_num + \"_\" + numClusters + \"_\" + numIterations\n",
    "        \n",
    "        //Check if the file exists\n",
    "        val kmeans_exist = fs.exists(new org.apache.hadoop.fs.Path(kmeans_model_paths(numClusters_id)))\n",
    "        if (kmeans_exist && !kmeans_offline_mode) {\n",
    "            println(\"The kmeans model path \" + kmeans_model_paths(numClusters_id) + \" exists, please remove it.\")\n",
    "        } else if (!kmeans_exist && kmeans_offline_mode) {\n",
    "            kmeans_offline_mode = false\n",
    "        }\n",
    "        \n",
    "        geotiff_hdfs_paths(numClusters_id) = offline_dir_path + geoTiff_dir + \"/clusters_\" + band_num + \"_\" + numClusters + \"_\" + numIterations + \".tif\"\n",
    "        geotiff_tmp_paths(numClusters_id) = \"/tmp/clusters_\" + band_num + \"_\" + geoTiff_dir + \"_\" + numClusters + \"_\" + numIterations + \".tif\"\n",
    "        if (fs.exists(new org.apache.hadoop.fs.Path(geotiff_hdfs_paths(numClusters_id)))) {\n",
    "            println(\"There is already a GeoTiff with the path: \" + geotiff_hdfs_paths(numClusters_id) + \". Please make either a copy or move it to another location, otherwise, it will be over-written.\")\n",
    "        }\n",
    "        numClusters_id += 1\n",
    "    }\n",
    "    kmeans_offline_mode = false\n",
    "} else { \n",
    "    kmeans_model_paths(0) = offline_dir_path + geoTiff_dir + \"/kmeans_model_\" + band_num + \"_\" + minClusters + \"_\" + numIterations\n",
    "    val kmeans_offline_exists = fs.exists(new org.apache.hadoop.fs.Path(kmeans_model_paths(0)))\n",
    "    if (kmeans_offline_mode != kmeans_offline_exists) {\n",
    "        println(\"\\\"Kmeans\\\" offline mode is not set properly, i.e., either it was set to false and the required file does not exist or vice-versa. We will reset it to \" + kmeans_offline_exists.toString())\n",
    "        kmeans_offline_mode = kmeans_offline_exists\n",
    "    }\n",
    "    geotiff_hdfs_paths(0) = offline_dir_path + geoTiff_dir + \"/clusters_\" + band_num + \"_\" + minClusters + \"_\" + numIterations + \".tif\"\n",
    "    geotiff_tmp_paths(0) = \"/tmp/clusters_\" + band_num + \"_\" + geoTiff_dir + \"_\" + minClusters + \"_\" + numIterations + \".tif\"\n",
    "    if (fs.exists(new org.apache.hadoop.fs.Path(geotiff_hdfs_paths(0)))) {\n",
    "        println(\"There is already a GeoTiff with the path: \" + geotiff_hdfs_paths(0) + \". Please make either a copy or move it to another location, otherwise, it will be over-written.\")\n",
    "    }\n",
    "}"
   ]
  },
  {
   "cell_type": "markdown",
   "metadata": {},
   "source": [
    "## Functions to (de)serialize any structure into Array[Byte]"
   ]
  },
  {
   "cell_type": "code",
   "execution_count": 4,
   "metadata": {},
   "outputs": [
    {
     "data": {
      "text/plain": [
       "serialize: (value: Any)Array[Byte]\n",
       "deserialize: (bytes: Array[Byte])Any\n"
      ]
     },
     "metadata": {},
     "output_type": "display_data"
    }
   ],
   "source": [
    "def serialize(value: Any): Array[Byte] = {\n",
    "    val out_stream: ByteArrayOutputStream = new ByteArrayOutputStream()\n",
    "    val obj_out_stream = new ObjectOutputStream(out_stream)\n",
    "    obj_out_stream.writeObject(value)\n",
    "    obj_out_stream.close\n",
    "    out_stream.toByteArray\n",
    "}\n",
    "\n",
    "def deserialize(bytes: Array[Byte]): Any = {\n",
    "    val obj_in_stream = new ObjectInputStream(new ByteArrayInputStream(bytes))\n",
    "    val value = obj_in_stream.readObject\n",
    "    obj_in_stream.close\n",
    "    value\n",
    "}"
   ]
  },
  {
   "cell_type": "markdown",
   "metadata": {},
   "source": [
    "## Load GeoTiffs\n",
    "\n",
    "Using GeoTrellis all GeoTiffs of a directory will be loaded into a RDD. Using the RDD, we extract a grid from the first file to lated store the Kmeans cluster_IDS, we build an Index for populate such grid and we filter out here all NaN values."
   ]
  },
  {
   "cell_type": "code",
   "execution_count": 5,
   "metadata": {},
   "outputs": [
    {
     "name": "stdout",
     "output_type": "stream",
     "text": [
      "Elapsed time: 10963401055ns                                                     \n"
     ]
    },
    {
     "data": {
      "text/plain": [
       "t0 = 46687030638138\n",
       "projected_extent = ProjectedExtent(Extent(-126.30312894720473, 14.29219617034159, -56.162671563152486, 49.25462702827337),geotrellis.proj4.CRS$$anon$3@41d0d1b7)\n",
       "grid0 = MapPartitionsRDD[14] at objectFile at <console>:100\n",
       "grid0_index = MapPartitionsRDD[16] at objectFile at <console>:101\n",
       "grids_noNaN_RDD = MapPartitionsRDD[12] at objectFile at <console>:99\n",
       "num_cols_rows = (7808,3892)\n",
       "cellT = uint8raw\n",
       "grids_RDD = EmptyRDD[3] at emptyRDD at <console>:83\n",
       "mask_tile0 = FloatRawArrayTile([F@7b005e01,7808,3892)\n"
      ]
     },
     "metadata": {},
     "output_type": "display_data"
    },
    {
     "data": {
      "text/plain": [
       "grid_cell...\n"
      ]
     },
     "metadata": {},
     "output_type": "display_data"
    },
    {
     "data": {
      "text/plain": [
       "FloatRawArrayTile([F@7b005e01,7808,3892)"
      ]
     },
     "execution_count": 5,
     "metadata": {},
     "output_type": "execute_result"
    }
   ],
   "source": [
    "val t0 = System.nanoTime()\n",
    "//Global variables\n",
    "var projected_extent = new ProjectedExtent(new Extent(0,0,0,0), CRS.fromName(\"EPSG:3857\"))\n",
    "var grid0: RDD[(Long, Double)] = sc.emptyRDD\n",
    "var grid0_index: RDD[Long] = sc.emptyRDD\n",
    "var grids_noNaN_RDD: RDD[Array[Double]] = sc.emptyRDD\n",
    "var num_cols_rows :(Int, Int) = (0, 0)\n",
    "var cellT :CellType = UByteCellType\n",
    "var grids_RDD :RDD[Array[Double]] = sc.emptyRDD\n",
    "var mask_tile0 :Tile = new SinglebandGeoTiff(geotrellis.raster.ArrayTile.empty(cellT, num_cols_rows._1, num_cols_rows._2), projected_extent.extent, projected_extent.crs, Tags.empty, GeoTiffOptions.DEFAULT).tile\n",
    "var grid_cells_size :Long = 0\n",
    "\n",
    "//Load Mask\n",
    "if (toBeMasked) {\n",
    "    val mask_tiles_RDD = sc.hadoopGeoTiffRDD(mask_path).values\n",
    "    val mask_tiles_withIndex = mask_tiles_RDD.zipWithIndex().map{case (e,v) => (v,e)}\n",
    "    mask_tile0 = (mask_tiles_withIndex.filter(m => m._1==0).values.collect())(0)\n",
    "}\n",
    "\n",
    "//Local variables\n",
    "val pattern: String = \"tif\"\n",
    "val filepath: String = dir_path + geoTiff_dir\n",
    "\n",
    "if (rdd_offline_mode) {\n",
    "    grids_noNaN_RDD = sc.objectFile(grids_noNaN_path)\n",
    "    grid0 = sc.objectFile(grid0_path)\n",
    "    grid0_index = sc.objectFile(grid0_index_path)\n",
    "\n",
    "    val metadata = sc.sequenceFile(metadata_path, classOf[IntWritable], classOf[BytesWritable]).map(_._2.copyBytes()).collect()\n",
    "    projected_extent = deserialize(metadata(0)).asInstanceOf[ProjectedExtent]\n",
    "    num_cols_rows = (deserialize(metadata(1)).asInstanceOf[Int], deserialize(metadata(2)).asInstanceOf[Int])\n",
    "    cellT = deserialize(metadata(3)).asInstanceOf[CellType]  \n",
    "} else {\n",
    "    if (single_band) {\n",
    "        //Lets load a Singleband GeoTiffs and return RDD just with the tiles.\n",
    "        var tiles_RDD :RDD[Tile] = sc.hadoopGeoTiffRDD(filepath, pattern).values\n",
    "            \n",
    "        //Retrive the numbre of cols and rows of the Tile's grid\n",
    "        val tiles_withIndex = tiles_RDD.zipWithIndex().map{case (e,v) => (v,e)}\n",
    "        val tile0 = (tiles_withIndex.filter(m => m._1==0).values.collect())(0)\n",
    "        num_cols_rows = (tile0.cols,tile0.rows)\n",
    "        cellT = tile0.cellType\n",
    "    \n",
    "        if (toBeMasked) {\n",
    "            val mask_tile_broad :Broadcast[Tile] = sc.broadcast(mask_tile0)\n",
    "            grids_RDD = tiles_RDD.map(m => m.localInverseMask(mask_tile_broad.value, 1, -1000).toArrayDouble())\n",
    "        } else {\n",
    "            grids_RDD = tiles_RDD.map(m => m.toArrayDouble())\n",
    "        }\n",
    "    } else {\n",
    "        //Lets load Multiband GeoTiffs and return RDD just with the tiles.\n",
    "        val tiles_RDD = sc.hadoopMultibandGeoTiffRDD(filepath, pattern).values\n",
    "    \n",
    "        //Retrive the numbre of cols and rows of the Tile's grid\n",
    "        val tiles_withIndex = tiles_RDD.zipWithIndex().map{case (e,v) => (v,e)}\n",
    "        val tile0 = (tiles_withIndex.filter(m => m._1==0).values.collect())(0)\n",
    "        num_cols_rows = (tile0.cols,tile0.rows)\n",
    "        cellT = tile0.cellType\n",
    "    \n",
    "        //Lets read the average of the Spring-Index which is stored in the 4th band\n",
    "        val band_numB :Broadcast[Int] = sc.broadcast(band_num)\n",
    "        if (toBeMasked) {\n",
    "            val mask_tile_broad :Broadcast[Tile] = sc.broadcast(mask_tile0)\n",
    "            grids_RDD = tiles_RDD.map(m => m.band(band_numB.value).localInverseMask(mask_tile_broad.value, 1, -1000).toArrayDouble())\n",
    "        } else {\n",
    "            grids_RDD = tiles_RDD.map(m => m.band(band_numB.value).toArrayDouble())\n",
    "        }\n",
    "    }\n",
    "\n",
    "    //Retrieve the ProjectExtent which contains metadata such as CRS and bounding box\n",
    "    val projected_extents_withIndex = sc.hadoopGeoTiffRDD(filepath, pattern).keys.zipWithIndex().map{case (e,v) => (v,e)}\n",
    "    projected_extent = (projected_extents_withIndex.filter(m => m._1 == 0).values.collect())(0)\n",
    "\n",
    "    //Get Index for each Cell\n",
    "    val grids_withIndex = grids_RDD.zipWithIndex().map { case (e, v) => (v, e) }\n",
    "    if (toBeMasked) {\n",
    "        grid0_index = grids_withIndex.filter(m => m._1 == 0).values.flatMap(m => m).zipWithIndex.filter(m => m._1 != -1000.0).map { case (v, i) => (i) }\n",
    "    } else {\n",
    "        grid0_index = grids_withIndex.filter(m => m._1 == 0).values.flatMap(m => m).zipWithIndex.map { case (v, i) => (i) }\n",
    "\n",
    "    }\n",
    "    //Get the Tile's grid\n",
    "    grid0 = grids_withIndex.filter(m => m._1 == 0).values.flatMap( m => m).zipWithIndex.map{case (v,i) => (i,v)}\n",
    "\n",
    "    //Lets filter out NaN\n",
    "    if (toBeMasked) {\n",
    "        grids_noNaN_RDD = grids_RDD.map(m => m.filter(m => m != -1000.0))\n",
    "    } else {\n",
    "        grids_noNaN_RDD = grids_RDD\n",
    "    }\n",
    "    //Store data in HDFS\n",
    "    grid0.saveAsObjectFile(grid0_path)\n",
    "    grid0_index.saveAsObjectFile(grid0_index_path)\n",
    "    grids_noNaN_RDD.saveAsObjectFile(grids_noNaN_path)\n",
    "    \n",
    "    val grids_noNaN_RDD_withIndex = grids_noNaN_RDD.zipWithIndex().map { case (e, v) => (v, e) }\n",
    "    grids_noNaN_RDD = grids_noNaN_RDD_withIndex.filterByRange(satellite_years_range._1, satellite_years_range._2).values\n",
    "    \n",
    "    val writer: SequenceFile.Writer = SequenceFile.createWriter(conf,\n",
    "        Writer.file(metadata_path),\n",
    "        Writer.keyClass(classOf[IntWritable]),\n",
    "        Writer.valueClass(classOf[BytesWritable])\n",
    "    )\n",
    "\n",
    "    writer.append(new IntWritable(1), new BytesWritable(serialize(projected_extent)))\n",
    "    writer.append(new IntWritable(2), new BytesWritable(serialize(num_cols_rows._1)))\n",
    "    writer.append(new IntWritable(3), new BytesWritable(serialize(num_cols_rows._2)))\n",
    "    writer.append(new IntWritable(4), new BytesWritable(serialize(cellT)))\n",
    "    writer.hflush()\n",
    "    writer.close()\n",
    "}\n",
    "grid_cells_size = grid0_index.count().toInt\n",
    "val t1 = System.nanoTime()\n",
    "println(\"Elapsed time: \" + (t1 - t0) + \"ns\")"
   ]
  },
  {
   "cell_type": "code",
   "execution_count": 6,
   "metadata": {},
   "outputs": [
    {
     "name": "stdout",
     "output_type": "stream",
     "text": [
      "[Stage 3:======================================================>  (26 + 1) / 27]"
     ]
    },
    {
     "data": {
      "text/plain": [
       "10115631"
      ]
     },
     "execution_count": 6,
     "metadata": {},
     "output_type": "execute_result"
    }
   ],
   "source": [
    "grid0_index.count()"
   ]
  },
  {
   "cell_type": "code",
   "execution_count": 7,
   "metadata": {},
   "outputs": [
    {
     "data": {
      "text/plain": [
       "res = MapPartitionsRDD[19] at map at <console>:58\n"
      ]
     },
     "metadata": {},
     "output_type": "display_data"
    },
    {
     "data": {
      "text/plain": [
       "MapPartitionsRDD[19] at map at <console>:58"
      ]
     },
     "execution_count": 7,
     "metadata": {},
     "output_type": "execute_result"
    }
   ],
   "source": [
    "val res = grids_noNaN_RDD.map(m => m.size)"
   ]
  },
  {
   "cell_type": "code",
   "execution_count": 8,
   "metadata": {},
   "outputs": [
    {
     "name": "stdout",
     "output_type": "stream",
     "text": [
      "[Stage 4:====================================================>    (24 + 2) / 26]"
     ]
    },
    {
     "data": {
      "text/plain": [
       "[10115631, 10115631, 10115631, 10115631, 10115631, 10115631, 10115631, 10115631, 10115631, 10115631, 10115631, 10115631, 10115631, 10115631, 10115631, 10115631, 10115631, 10115631, 10115631, 10115631, 10115631, 10115631, 10115631, 10115631, 10115631, 10115631]"
      ]
     },
     "execution_count": 8,
     "metadata": {},
     "output_type": "execute_result"
    }
   ],
   "source": [
    "res.collect()"
   ]
  },
  {
   "cell_type": "markdown",
   "metadata": {},
   "source": [
    "## Matrix\n",
    "\n",
    "We need to do a Matrix transpose to have clusters per cell and not per year. With a GeoTiff representing a single year, the loaded data looks liks this:\n",
    "```\n",
    "bands_RDD.map(s => Vectors.dense(s)).cache()\n",
    "\n",
    "//The vectors are rows and therefore the matrix will look like this:\n",
    "[\n",
    "Vectors.dense(0.0, 1.0, 2.0),\n",
    "Vectors.dense(3.0, 4.0, 5.0),\n",
    "Vectors.dense(6.0, 7.0, 8.0),\n",
    "Vectors.dense(9.0, 0.0, 1.0)\n",
    "]\n",
    "```\n",
    "\n",
    "To achieve that we convert the **RDD[Vector]** into a distributed Matrix, a [**CoordinateMatrix**](https://spark.apache.org/docs/latest/mllib-data-types.html#coordinatematrix), which as a **transpose** method."
   ]
  },
  {
   "cell_type": "code",
   "execution_count": 9,
   "metadata": {},
   "outputs": [
    {
     "name": "stdout",
     "output_type": "stream",
     "text": [
      "Elapsed time: 105526406ns\n"
     ]
    },
    {
     "data": {
      "text/plain": [
       "t0 = 46708214638977\n",
       "grids_matrix = MapPartitionsRDD[22] at objectFile at <console>:75\n",
       "grid_cells_sizeB = Broadcast(10)\n",
       "t1 = 46708320165383\n"
      ]
     },
     "metadata": {},
     "output_type": "display_data"
    },
    {
     "data": {
      "text/plain": [
       "46708320165383"
      ]
     },
     "execution_count": 9,
     "metadata": {},
     "output_type": "execute_result"
    }
   ],
   "source": [
    "val t0 = System.nanoTime()\n",
    "//Global variables\n",
    "var grids_matrix: RDD[Vector] = sc.emptyRDD\n",
    "val grid_cells_sizeB = sc.broadcast(grid_cells_size)\n",
    "\n",
    "if (matrix_offline_mode) {\n",
    "    grids_matrix = sc.objectFile(grids_matrix_path)\n",
    "} else {\n",
    "    val mat :RowMatrix = new RowMatrix(grids_noNaN_RDD.map(m => m.zipWithIndex).map(m => m.filter(!_._1.isNaN)).map(m => Vectors.sparse(grid_cells_sizeB.value.toInt, m.map(v => v._2), m.map(v => v._1))))\n",
    "    // Split the matrix into one number per line.\n",
    "    val byColumnAndRow = mat.rows.zipWithIndex.map {\n",
    "        case (row, rowIndex) => row.toArray.zipWithIndex.map {\n",
    "            case (number, columnIndex) => new MatrixEntry(rowIndex, columnIndex, number)\n",
    "        }   \n",
    "    }.flatMap(x => x)\n",
    "    \n",
    "    val matt: CoordinateMatrix = new CoordinateMatrix(byColumnAndRow)\n",
    "    val matt_T = matt.transpose()\n",
    "    //grids_matrix = matt_T.toRowMatrix().rows\n",
    "    grids_matrix = matt_T.toIndexedRowMatrix().rows.sortBy(_.index).map(_.vector)\n",
    "    grids_matrix.saveAsObjectFile(grids_matrix_path)\n",
    "}\n",
    "val t1 = System.nanoTime()\n",
    "println(\"Elapsed time: \" + (t1 - t0) + \"ns\")"
   ]
  },
  {
   "cell_type": "markdown",
   "metadata": {
    "collapsed": true
   },
   "source": [
    "## Kmeans\n",
    "\n",
    "We use Kmeans from Sparl-MLlib. The user should only modify the variables on Kmeans setup."
   ]
  },
  {
   "cell_type": "markdown",
   "metadata": {},
   "source": [
    "### Kmeans Training"
   ]
  },
  {
   "cell_type": "code",
   "execution_count": 10,
   "metadata": {},
   "outputs": [
    {
     "name": "stdout",
     "output_type": "stream",
     "text": [
      "18\n",
      "Within Set Sum of Squared Errors = 4.4041105228863226E11                        \n",
      "We will delete the wssse file\n",
      "Lets create it with the new data\n",
      "Elapsed time: 242680068414ns\n"
     ]
    },
    {
     "data": {
      "text/plain": [
       "t0 = 46709880102412\n",
       "kmeans_models = Array(org.apache.spark.mllib.clustering.KMeansModel@359e27ca)\n",
       "wssse_data = List((2,35,6.281697927369641E11), (3,35,5.843197255442158E11), (4,35,5.574289149814163E11), (5,35,5.276943809948959E11), (6,35,5.136070634290901E11), (7,35,4.9937888440249774E11), (8,35,4.9311821404946277E11), (9,35,4.838515055580271E11), (10,35,4.798542547476693E11), (11,35,4.7323297056703436E11), (12,35,4.671958128254339E11), (13,35,4.5866040054326794E11), (14,35,4.5548726263775037E11), (15,35,4.515019533644096E11), (16,35,4.4583101100674805E11), (17,35,4.438638846034233E11), (18,35,4.3967035532729364E11), (19,35,4.3996804002525604E11), (20,35,4.334172575635536E11), (21,35,4.331638238508667E...\n"
      ]
     },
     "metadata": {},
     "output_type": "display_data"
    },
    {
     "data": {
      "text/plain": [
       "List((2,35,6.281697927369641E11), (3,35,5.843197255442158E11), (4,35,5.574289149814163E11), (5,35,5.276943809948959E11), (6,35,5.136070634290901E11), (7,35,4.9937888440249774E11), (8,35,4.9311821404946277E11), (9,35,4.838515055580271E11), (10,35,4.798542547476693E11), (11,35,4.7323297056703436E11), (12,35,4.671958128254339E11), (13,35,4.5866040054326794E11), (14,35,4.5548726263775037E11), (15,35,4.515019533644096E11), (16,35,4.4583101100674805E11), (17,35,4.438638846034233E11), (18,35,4.3967035532729364E11), (19,35,4.3996804002525604E11), (20,35,4.334172575635536E11), (21,35,4.331638238508667E11), (22,35,4.295550702489807E11), (23,35,4.282566779032344E11), (24,35,4.2326081676395526E11), (25,35,4.2136332411314667E11), (18,75,4.4041105228863226E11))"
      ]
     },
     "execution_count": 10,
     "metadata": {},
     "output_type": "execute_result"
    }
   ],
   "source": [
    "val t0 = System.nanoTime()\n",
    "//Global variables\n",
    "var kmeans_models :Array[KMeansModel] = new Array[KMeansModel](num_kmeans)\n",
    "var wssse_data :List[(Int, Int, Double)] = List.empty\n",
    "\n",
    "if (kmeans_offline_mode) {\n",
    "    var numClusters_id = 0\n",
    "    cfor(minClusters)(_ <= maxClusters, _ + stepClusters) { numClusters =>\n",
    "        if (!fs.exists(new org.apache.hadoop.fs.Path(kmeans_model_paths(numClusters_id)))) {\n",
    "            println(\"One of the files does not exist, we will abort!!!\")\n",
    "            System.exit(0)\n",
    "        } else {\n",
    "            kmeans_models(numClusters_id) = KMeansModel.load(sc, kmeans_model_paths(numClusters_id))\n",
    "        }\n",
    "        numClusters_id += 1\n",
    "    }\n",
    "    val wssse_data_RDD :RDD[(Int, Int, Double)]  = sc.objectFile(wssse_path)\n",
    "    wssse_data  = wssse_data_RDD.collect().toList\n",
    "} else {\n",
    "    var numClusters_id = 0\n",
    "    if (fs.exists(new org.apache.hadoop.fs.Path(wssse_path))) {\n",
    "        val wssse_data_RDD :RDD[(Int, Int, Double)]  = sc.objectFile(wssse_path)\n",
    "        wssse_data  = wssse_data_RDD.collect().toList\n",
    "    }\n",
    "    grids_matrix.cache()\n",
    "    cfor(minClusters)(_ <= maxClusters, _ + stepClusters) { numClusters =>\n",
    "        println(numClusters)\n",
    "        kmeans_models(numClusters_id) = {\n",
    "            KMeans.train(grids_matrix, numClusters, numIterations)\n",
    "        }\n",
    "\n",
    "        // Evaluate clustering by computing Within Set Sum of Squared Errors\n",
    "        val WSSSE = kmeans_models(numClusters_id).computeCost(grids_matrix)\n",
    "        println(\"Within Set Sum of Squared Errors = \" + WSSSE)\n",
    "                \n",
    "        wssse_data = wssse_data :+ (numClusters, numIterations, WSSSE)\n",
    "        \n",
    "        //Save kmeans model\n",
    "        if (save_kmeans_model) {\n",
    "            if (!fs.exists(new org.apache.hadoop.fs.Path(kmeans_model_paths(numClusters_id)))) {\n",
    "                kmeans_models(numClusters_id).save(sc, kmeans_model_paths(numClusters_id))\n",
    "            }\n",
    "        }\n",
    "        numClusters_id += 1\n",
    "    }\n",
    "\n",
    "    //Un-persist it to save memory\n",
    "    grids_matrix.unpersist()\n",
    "    \n",
    "    if (fs.exists(new org.apache.hadoop.fs.Path(wssse_path))) {\n",
    "        println(\"We will delete the wssse file\")\n",
    "        try { fs.delete(new org.apache.hadoop.fs.Path(wssse_path), true) } catch { case _ : Throwable => { } }\n",
    "    }\n",
    "    \n",
    "    println(\"Lets create it with the new data\")\n",
    "    sc.parallelize(wssse_data, 1).saveAsObjectFile(wssse_path)\n",
    "}\n",
    "val t1 = System.nanoTime()\n",
    "println(\"Elapsed time: \" + (t1 - t0) + \"ns\")"
   ]
  },
  {
   "cell_type": "markdown",
   "metadata": {},
   "source": [
    "### Inspect WSSSE"
   ]
  },
  {
   "cell_type": "code",
   "execution_count": 11,
   "metadata": {},
   "outputs": [
    {
     "name": "stdout",
     "output_type": "stream",
     "text": [
      "List((2,35,6.281697927369641E11), (3,35,5.843197255442158E11), (4,35,5.574289149814163E11), (5,35,5.276943809948959E11), (6,35,5.136070634290901E11), (7,35,4.9937888440249774E11), (8,35,4.9311821404946277E11), (9,35,4.838515055580271E11), (10,35,4.798542547476693E11), (11,35,4.7323297056703436E11), (12,35,4.671958128254339E11), (13,35,4.5866040054326794E11), (14,35,4.5548726263775037E11), (15,35,4.515019533644096E11), (16,35,4.4583101100674805E11), (17,35,4.438638846034233E11), (18,35,4.3967035532729364E11), (19,35,4.3996804002525604E11), (20,35,4.334172575635536E11), (21,35,4.331638238508667E11), (22,35,4.295550702489807E11), (23,35,4.282566779032344E11), (24,35,4.2326081676395526E11), (25,35,4.2136332411314667E11), (18,75,4.4041105228863226E11))\n",
      "List((2,35,6.281697927369641E11), (3,35,5.843197255442158E11), (4,35,5.574289149814163E11), (5,35,5.276943809948959E11), (6,35,5.136070634290901E11), (7,35,4.9937888440249774E11), (8,35,4.9311821404946277E11), (9,35,4.838515055580271E11), (10,35,4.798542547476693E11), (11,35,4.7323297056703436E11), (12,35,4.671958128254339E11), (13,35,4.5866040054326794E11), (14,35,4.5548726263775037E11), (15,35,4.515019533644096E11), (16,35,4.4583101100674805E11), (17,35,4.438638846034233E11), (18,35,4.3967035532729364E11), (19,35,4.3996804002525604E11), (20,35,4.334172575635536E11), (21,35,4.331638238508667E11), (22,35,4.295550702489807E11), (23,35,4.282566779032344E11), (24,35,4.2326081676395526E11), (25,35,4.2136332411314667E11), (18,75,4.4041105228863226E11))\n",
      "Elapsed time: 139305238ns\n"
     ]
    },
    {
     "data": {
      "text/plain": [
       "t0 = 46954132545768\n",
       "t1 = 46954271851006\n"
      ]
     },
     "metadata": {},
     "output_type": "display_data"
    },
    {
     "data": {
      "text/plain": [
       "46954271851006"
      ]
     },
     "execution_count": 11,
     "metadata": {},
     "output_type": "execute_result"
    }
   ],
   "source": [
    "val t0 = System.nanoTime()\n",
    "//current\n",
    "println(wssse_data)\n",
    "\n",
    "//from disk\n",
    "if (fs.exists(new org.apache.hadoop.fs.Path(wssse_path))) {\n",
    "    var wssse_data_tmp :RDD[(Int, Int, Double)] = sc.objectFile(wssse_path)//.collect()//.toList\n",
    "    println(wssse_data_tmp.collect().toList)    \n",
    "}\n",
    "val t1 = System.nanoTime()\n",
    "println(\"Elapsed time: \" + (t1 - t0) + \"ns\")"
   ]
  },
  {
   "cell_type": "markdown",
   "metadata": {},
   "source": [
    "### Run Kmeans clustering\n",
    "\n",
    "Run Kmeans and obtain the clusters per each cell."
   ]
  },
  {
   "cell_type": "code",
   "execution_count": 12,
   "metadata": {},
   "outputs": [
    {
     "name": "stdout",
     "output_type": "stream",
     "text": [
      "Elapsed time: 28253089ns\n"
     ]
    },
    {
     "data": {
      "text/plain": [
       "t0 = 46954948878254\n",
       "kmeans_res = Array(MapPartitionsRDD[199] at map at KMeansModel.scala:69)\n",
       "numClusters_id = 1\n",
       "t1 = 46954977131343\n"
      ]
     },
     "metadata": {},
     "output_type": "display_data"
    },
    {
     "data": {
      "text/plain": [
       "46954977131343"
      ]
     },
     "execution_count": 12,
     "metadata": {},
     "output_type": "execute_result"
    }
   ],
   "source": [
    "val t0 = System.nanoTime()\n",
    "//Cache it so kmeans is more efficient\n",
    "grids_matrix.cache()\n",
    "\n",
    "var kmeans_res: Array[RDD[Int]] = Array.fill(num_kmeans)(sc.emptyRDD)\n",
    "var numClusters_id = 0\n",
    "cfor(minClusters)(_ <= maxClusters, _ + stepClusters) { numClusters =>\n",
    "    kmeans_res(numClusters_id) = kmeans_models(numClusters_id).predict(grids_matrix)\n",
    "    numClusters_id += 1\n",
    "}\n",
    "\n",
    "//Un-persist it to save memory\n",
    "grids_matrix.unpersist()\n",
    "val t1 = System.nanoTime()\n",
    "println(\"Elapsed time: \" + (t1 - t0) + \"ns\")"
   ]
  },
  {
   "cell_type": "markdown",
   "metadata": {},
   "source": [
    "#### Sanity test\n",
    "\n",
    "It can be skipped, it only shows the cluster ID for the first 50 cells"
   ]
  },
  {
   "cell_type": "code",
   "execution_count": 13,
   "metadata": {},
   "outputs": [
    {
     "name": "stdout",
     "output_type": "stream",
     "text": [
      "16161616161616161616161616161616161616161616161633333333333331616161616161616161616161616161616161616161616161633333333333331616161616161616161616161616161616161616161616163333333333333161616161616161616161616161616161616161616161616163333333333333150\n",
      "Elapsed time: 258806317ns\n"
     ]
    },
    {
     "data": {
      "text/plain": [
       "t0 = 46956220682902\n",
       "kmeans_res_out = Array(16, 16, 16, 16, 16, 16, 16, 16, 16, 16, 16, 16, 16, 16, 16, 16, 16, 16, 16, 16, 16, 16, 16, 16, 3, 3, 3, 3, 3, 3, 3, 3, 3, 3, 3, 3, 3, 16, 16, 16, 16, 16, 16, 16, 16, 16, 16, 16, 16, 16, 16, 16, 16, 16, 16, 16, 16, 16, 16, 16, 16, 16, 3, 3, 3, 3, 3, 3, 3, 3, 3, 3, 3, 3, 3, 16, 16, 16, 16, 16, 16, 16, 16, 16, 16, 16, 16, 16, 16, 16, 16, 16, 16, 16, 16, 16, 16, 16, 16, 3, 3, 3, 3, 3, 3, 3, 3, 3, 3, 3, 3, 3, 16, 16, 16, 16, 16, 16, 16, 16, 16, 16, 16, 16, 16, 16, 16, 16, 16, 16, 16, 16, 16, 16, 16, 16, 16, 3, 3, 3, 3, 3, 3, 3, 3, 3, 3, 3, 3, 3)\n",
       "t1 = 46956479489219\n"
      ]
     },
     "metadata": {},
     "output_type": "display_data"
    },
    {
     "data": {
      "text/plain": [
       "46956479489219"
      ]
     },
     "execution_count": 13,
     "metadata": {},
     "output_type": "execute_result"
    }
   ],
   "source": [
    "val t0 = System.nanoTime()\n",
    "val kmeans_res_out = kmeans_res(0).filter(_!= 0).filter(_!=1).take(150)\n",
    "kmeans_res_out.foreach(print)\n",
    "\n",
    "println(kmeans_res_out.size)\n",
    "val t1 = System.nanoTime()\n",
    "println(\"Elapsed time: \" + (t1 - t0) + \"ns\")"
   ]
  },
  {
   "cell_type": "markdown",
   "metadata": {},
   "source": [
    "## Build GeoTiff with Kmeans cluster_IDs\n",
    "\n",
    "The Grid with the cluster IDs is stored in a SingleBand GeoTiff and uploaded to HDFS."
   ]
  },
  {
   "cell_type": "markdown",
   "metadata": {},
   "source": [
    "### Assign cluster ID to each grid cell and save the grid as SingleBand GeoTiff\n",
    "\n",
    "To assign the clusterID to each grid cell it is necessary to get the indices of gird cells they belong to. The process is not straight forward because the ArrayDouble used for the creation of each dense Vector does not contain the NaN values, therefore there is not a direct between the indices in the Tile's grid and the ones in **kmeans_res** (kmeans result).\n",
    "\n",
    "To join the two RDDS the knowledge was obtaing from a stackoverflow post on [how to perform basic joins of two rdd tables in spark using python](https://stackoverflow.com/questions/31257077/how-do-you-perform-basic-joins-of-two-rdd-tables-in-spark-using-python)."
   ]
  },
  {
   "cell_type": "code",
   "execution_count": 14,
   "metadata": {},
   "outputs": [
    {
     "name": "stdout",
     "output_type": "stream",
     "text": [
      "[Stage 180:=================================================>     (29 + 3) / 32]hadoop dfs -copyFromLocal -f /tmp/clusters_0_SOST_18_75.tif hdfs:///user/emma/avhrr/SOST/clusters_0_18_75.tif\n",
      "DEPRECATED: Use of this script to execute hdfs command is deprecated.\n",
      "Instead use the hdfs command for it.\n",
      "\n",
      "rm -fr /tmp/clusters_0_SOST_18_75.tif\n",
      "Elapsed time: 85018567328ns\n"
     ]
    },
    {
     "data": {
      "text/plain": [
       "t0 = 46957953765144\n",
       "numClusters_id = 1\n",
       "grid0_index_I = MapPartitionsRDD[203] at map at <console>:77\n",
       "t1 = 47042972332472\n"
      ]
     },
     "metadata": {},
     "output_type": "display_data"
    },
    {
     "data": {
      "text/plain": [
       "warning: there were two feature warnings; re-run with -feature for details\n"
      ]
     },
     "metadata": {},
     "output_type": "display_data"
    },
    {
     "data": {
      "text/plain": [
       "47042972332472"
      ]
     },
     "execution_count": 14,
     "metadata": {},
     "output_type": "execute_result"
    }
   ],
   "source": [
    "val t0 = System.nanoTime()\n",
    "var numClusters_id = 0\n",
    "val grid0_index_I = grid0_index.zipWithIndex().map{ case (v,i) => (i,v)}\n",
    "cfor(minClusters)(_ <= maxClusters, _ + stepClusters) { numClusters =>\n",
    "    //Merge two RDDs, one containing the clusters_ID indices and the other one the indices of a Tile's grid cells\n",
    "    val cluster_cell_pos = ((kmeans_res(numClusters_id).zipWithIndex().map{ case (v,i) => (i,v)}).join(grid0_index_I).map{ case (k,(v,i)) => (v,i)})\n",
    "\n",
    "    //Associate a Cluster_IDs to respective Grid_cell\n",
    "    val grid_clusters = grid0.map{ case (i, v) => if (v == 0.0) (i,Double.NaN) else (i,v)}.leftOuterJoin(cluster_cell_pos.map{ case (c,i) => (i.toLong, c)})\n",
    "\n",
    "    //Convert all None to NaN\n",
    "    val grid_clusters_res = grid_clusters.sortByKey(true).map{case (k, (v, c)) => if (c == None) (k, Double.NaN) else (k, c.get.toDouble)}\n",
    "    \n",
    "    //Define a Tile\n",
    "    val cluster_cells :Array[Double] = grid_clusters_res.values.collect()\n",
    "    val cluster_cellsD = DoubleArrayTile(cluster_cells, num_cols_rows._1, num_cols_rows._2)\n",
    "    //val cluster_tile = geotrellis.raster.DoubleArrayTile.empty(num_cols_rows._1, num_cols_rows._2)\n",
    "    //cfor(0)(_ < num_cols_rows._1, _ + 1) { col =>\n",
    "    //    cfor(0)(_ < num_cols_rows._2, _ + 1) { row =>\n",
    "    //        val v = cluster_cellsD.getDouble(col, row)\n",
    "    //        if (v != Double.NaN)\n",
    "    //            cluster_tile.setDouble(col, row, v)\n",
    "    //    }\n",
    "    //}\n",
    "\n",
    "    //val geoTif = new SinglebandGeoTiff(cluster_tile, projected_extent.extent, projected_extent.crs, Tags.empty, GeoTiffOptions(compression.DeflateCompression))\n",
    "    val geoTif = new SinglebandGeoTiff(cluster_cellsD, projected_extent.extent, projected_extent.crs, Tags.empty, GeoTiffOptions(compression.DeflateCompression))\n",
    "    //val corr_tile_projec = cluster_tile.reproject(projected_extent.extent, projected_extent.crs, CRS.fromName(\"EPSG:4326\"))\n",
    "    //val geoTif = new SinglebandGeoTiff(corr_tile_projec, corr_tile_projec.extent, CRS.fromName(\"EPSG:4326\"), Tags.empty, GeoTiffOptions(compression.DeflateCompression))\n",
    "    \n",
    "    //Save to /tmp/\n",
    "    GeoTiffWriter.write(geoTif, geotiff_tmp_paths(numClusters_id))\n",
    "\n",
    "    //Upload to HDFS\n",
    "    var cmd = \"hadoop dfs -copyFromLocal -f \" + geotiff_tmp_paths(numClusters_id) + \" \" + geotiff_hdfs_paths(numClusters_id)\n",
    "    println(cmd)\n",
    "    Process(cmd)!\n",
    "    \n",
    "    //Remove from /tmp/\n",
    "    cmd = \"rm -fr \" + geotiff_tmp_paths(numClusters_id)\n",
    "    println(cmd)\n",
    "    Process(cmd)!\n",
    "    \n",
    "    numClusters_id += 1\n",
    "}\n",
    "val t1 = System.nanoTime()\n",
    "println(\"Elapsed time: \" + (t1 - t0) + \"ns\")"
   ]
  },
  {
   "cell_type": "markdown",
   "metadata": {},
   "source": [
    "# [Visualize results](plot_kmeans_clusters.ipynb) --------------- [Plot WSSE](kmeans_wsse.ipynb)"
   ]
  }
 ],
 "metadata": {
  "kernelspec": {
   "display_name": "Apache Toree - Scala",
   "language": "scala",
   "name": "apache_toree_scala"
  },
  "language_info": {
   "codemirror_mode": "text/x-scala",
   "file_extension": ".scala",
   "mimetype": "text/x-scala",
   "name": "scala",
   "pygments_lexer": "scala",
   "version": "2.11.8"
  }
 },
 "nbformat": 4,
 "nbformat_minor": 2
}
