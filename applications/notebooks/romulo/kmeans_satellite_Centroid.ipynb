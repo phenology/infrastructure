{
 "cells": [
  {
   "cell_type": "markdown",
   "metadata": {},
   "source": [
    "# Kmeans over a set of GeoTiffs\n",
    "\n",
    "This notebook loads a set of GeoTiffs into a **RDD** of Tiles, with each Tile being a band in the GeoTiff. Each GeoTiff file contains [**MODIS MCD12Q2 v005**](https://lpdaac.usgs.gov/dataset_discovery/modis/modis_products_table/mcd12q2) for one year over the entire USA. The data ranges from 2001 until 2014.\n",
    "\n",
    "Kmeans takes years as dimensions. Hence, the matrix has cells as rows and the years as columns. To cluster on all years, the matrix needs to be transposed. The notebook has two flavors of matrix transpose, locally by the Spark-driver or distributed using the Spark-workers. Once transposed the matrix is converted to a **RDD** of dense vectors to be used by **Kmeans** algorithm from **Spark-MLlib**. The end result is a grid where each cell has a cluster ID which is then saved into a SingleBand GeoTiff. By saving the result into a GeoTiff, the reader can plot it using a Python notebook as the one defined in the [python examples](../examples/python).\n",
    "\n",
    "<span style=\"color:red\">In this notebook the reader only needs to modify the variables in **Mode of Operation Setup**</span>."
   ]
  },
  {
   "cell_type": "markdown",
   "metadata": {},
   "source": [
    "## Dependencies"
   ]
  },
  {
   "cell_type": "code",
   "execution_count": 25,
   "metadata": {},
   "outputs": [],
   "source": [
    "import java.io.{ByteArrayInputStream, ByteArrayOutputStream, ObjectInputStream, ObjectOutputStream}\n",
    "\n",
    "import geotrellis.proj4.CRS\n",
    "import geotrellis.raster.io.geotiff.writer.GeoTiffWriter\n",
    "import geotrellis.raster.io.geotiff.{SinglebandGeoTiff, _}\n",
    "import geotrellis.raster.{CellType, DoubleArrayTile, MultibandTile, Tile, UByteCellType}\n",
    "import geotrellis.spark.io.hadoop._\n",
    "import geotrellis.vector.{Extent, ProjectedExtent}\n",
    "import org.apache.hadoop.io.SequenceFile.Writer\n",
    "import org.apache.hadoop.io.{SequenceFile, _}\n",
    "import org.apache.spark.broadcast.Broadcast\n",
    "import org.apache.spark.mllib.clustering.{KMeans, KMeansModel}\n",
    "import org.apache.spark.mllib.linalg.distributed._\n",
    "import org.apache.spark.mllib.linalg.{Vector, Vectors}\n",
    "import org.apache.spark.rdd.RDD\n",
    "import org.apache.spark.{SparkConf, SparkContext}\n",
    "\n",
    "import scala.sys.process._\n",
    "\n",
    "//Spire is a numeric library for Scala which is intended to be generic, fast, and precise.\n",
    "import spire.syntax.cfor._"
   ]
  },
  {
   "cell_type": "markdown",
   "metadata": {},
   "source": [
    "## Mode of operation\n",
    "\n",
    "Here the user can define the mode of operation.\n",
    "* **rdd_offline_mode**: If false it means the notebook will create all data from scratch and store protected_extent and num_cols_rows into HDFS. Otherwise, these data structures are read from HDFS.\n",
    "* **matrix_offline_mode**: If false it means the notebook will create a mtrix,  transposed it and save it to HDFS. Otherwise, these data structures are read from HDFS.\n",
    "* **kmeans_offline_mode**: If false it means the notebook will train kmeans and run kemans and store kmeans model into HDFS. Otherwise, these data structures are read from HDFS.\n",
    "\n",
    "It is also possible to define which directory of GeoTiffs is to be used and on which **band** to run Kmeans. The options are\n",
    "* **all** which are a multi-band (**8 bands**) GeoTiffs\n",
    "* Or choose single band ones:\n",
    "    0. Onset_Greenness_Increase\n",
    "    1. Onset_Greenness_Maximum\n",
    "    2. Onset_Greenness_Decrease\n",
    "    3. Onset_Greenness_Minimum\n",
    "    4. NBAR_EVI_Onset_Greenness_Minimum\n",
    "    5. NBAR_EVI_Onset_Greenness_Maximum\n",
    "    6. NBAR_EVI_Area\n",
    "    7. Dynamics_QC\n",
    "\n",
    "For kmeans the user can define the **number of iterations** and **number of clusters** as an inclusive range. Such range is defined using **minClusters**, **maxClusters**, and **stepClusters**. These variables will set a loop starting at **minClusters** and stopping at **maxClusters** (inclusive), iterating **stepClusters** at the time. <span style=\"color:red\">Note that when using a range **kemans offline mode** is not possible and it will be reset to **online mode**</span>."
   ]
  },
  {
   "cell_type": "markdown",
   "metadata": {},
   "source": [
    "### Mode of Operation setup\n",
    "<a id='mode_of_operation_setup'></a>"
   ]
  },
  {
   "cell_type": "code",
   "execution_count": 26,
   "metadata": {},
   "outputs": [
    {
     "data": {
      "text/plain": [
       "rdd_offline_mode = true\n",
       "matrix_offline_mode = true\n",
       "kmeans_offline_mode = true\n",
       "dir_path = hdfs:///user/hadoop/avhrr/\n",
       "offline_dir_path = hdfs:///user/emma/avhrr/\n",
       "geoTiff_dir = SOST\n",
       "band_num = 0\n",
       "satellite_timeseries = (1989,2014)\n",
       "satellite_first_year = 1989\n",
       "satellite_last_year = 2014\n",
       "toBeMasked = true\n",
       "mask_path = hdfs:///user/hadoop/usa_mask.tif\n",
       "numIterations = 75\n",
       "minClusters = 100\n",
       "maxClusters = 100\n",
       "stepClusters = 10\n",
       "save_rdds = false\n",
       "save_matrix = false\n",
       "save_kmeans_model = false\n"
      ]
     },
     "metadata": {},
     "output_type": "display_data"
    },
    {
     "data": {
      "text/plain": [
       "false"
      ]
     },
     "execution_count": 26,
     "metadata": {},
     "output_type": "execute_result"
    }
   ],
   "source": [
    "var rdd_offline_mode = true\n",
    "var matrix_offline_mode = true\n",
    "var kmeans_offline_mode = true\n",
    "\n",
    "//GeoTiffs to be read from \"hdfs:///user/hadoop/modis/\"\n",
    "var dir_path = \"hdfs:///user/hadoop/avhrr/\"\n",
    "var offline_dir_path = \"hdfs:///user/emma/avhrr/\"\n",
    "var geoTiff_dir = \"SOST\"\n",
    "var band_num = 0\n",
    "\n",
    "//Years between (inclusive) 1989 - 2014\n",
    "val satellite_timeseries = (1989, 2014)\n",
    "var satellite_first_year = 1989\n",
    "var satellite_last_year = 2014\n",
    "\n",
    "//Mask\n",
    "val toBeMasked = true\n",
    "val mask_path = \"hdfs:///user/hadoop/usa_mask.tif\"\n",
    "\n",
    "//Kmeans number of iterations and clusters\n",
    "var numIterations = 75\n",
    "var minClusters = 100\n",
    "var maxClusters = 100\n",
    "var stepClusters = 10\n",
    "var save_rdds = false\n",
    "var save_matrix = false\n",
    "var save_kmeans_model = false"
   ]
  },
  {
   "cell_type": "markdown",
   "metadata": {},
   "source": [
    "\n",
    "<span style=\"color:red\">DON'T MODIFY ANY PIECE OF CODE FROM HERE ON!!!</span>.\n"
   ]
  },
  {
   "cell_type": "markdown",
   "metadata": {},
   "source": [
    "### Mode of operation validation"
   ]
  },
  {
   "cell_type": "code",
   "execution_count": 27,
   "metadata": {},
   "outputs": [
    {
     "name": "stdout",
     "output_type": "stream",
     "text": [
      "\"Load GeoTiffs\" offline mode is not set properly, i.e., either it was set to false and the required file does not exist or vice-versa. We will reset it to false\n",
      "\"Matrix\" offline mode is not set properly, i.e., either it was set to false and the required file does not exist or vice-versa. We will reset it to false\n",
      "1\n",
      "\"Kmeans\" offline mode is not set properly, i.e., either it was set to false and the required file does not exist or vice-versa. We will reset it to false\n",
      "There is already a GeoTiff with the path: hdfs:///user/emma/avhrr/SOSTCentroid/clusters_0_100_75.tif. Please make either a copy or move it to another location, otherwise, it will be over-written.\n"
     ]
    },
    {
     "data": {
      "text/plain": [
       "single_band = true\n",
       "pattern = *.tif\n",
       "mask_str = _mask\n",
       "grid0_path = hdfs:///user/emma/avhrr/SOSTCentroid/grid0_0_mask\n",
       "grid0_index_path = hdfs:///user/emma/avhrr/SOSTCentroid/grid0_index_0_mask\n",
       "grids_noNaN_path = hdfs:///user/emma/avhrr/SOSTCentroid/grids_noNaN_0_mask\n",
       "metadata_path = hdfs:///user/emma/avhrr/SOSTCentroid/metadata_0_mask\n",
       "grids_matrix_path = hdfs:///user/emma/avhrr/SOSTCentroid/grids_matrix_0_mask\n",
       "grids_matrix_index_path = hdfs:///user/emma/avhrr/SOST/grids_matrix_index_0_mask\n",
       "conf = Configuration: core-default.xml, core-site.xml, mapred-default.xml, mapred-site.xml, yarn-default.xml, yarn-site.xml, hdfs-default.xml, hdfs-site.xml, file:/usr/lib/spark-2.1.1-bin-withou...\n"
      ]
     },
     "metadata": {},
     "output_type": "display_data"
    },
    {
     "data": {
      "text/plain": [
       "Configuration: core-default.xml, core-site.xml, mapred-default.xml, mapred-site.xml, yarn-default.xml, yarn-site.xml, hdfs-default.xml, hdfs-site.xml, file:/usr/lib/spark-2.1.1-bin-without-hadoop/conf/hive-site.xml"
      ]
     },
     "execution_count": 27,
     "metadata": {},
     "output_type": "execute_result"
    }
   ],
   "source": [
    "//Validation, do not modify these lines.\n",
    "var single_band = false\n",
    "if (geoTiff_dir == \"all\") {\n",
    "    single_band = false\n",
    "} else {\n",
    "    single_band = true\n",
    "    if (band_num > 0) {\n",
    "        println(\"Since it is single band, we will use band 0!!!\")\n",
    "        band_num  = 0\n",
    "    }\n",
    "}\n",
    "\n",
    "if (minClusters > maxClusters) {\n",
    "    maxClusters = minClusters\n",
    "    stepClusters = 1\n",
    "}\n",
    "if (stepClusters < 1) {\n",
    "    stepClusters = 1\n",
    "}\n",
    "\n",
    "val pattern: String = \"*.tif\"\n",
    "\n",
    "//Paths to store data structures for Offline runs\n",
    "var mask_str = \"\"\n",
    "if (toBeMasked)\n",
    "    mask_str = \"_mask\"\n",
    "var grid0_path = offline_dir_path + geoTiff_dir + \"Centroid/grid0\" + \"_\"+ band_num + mask_str\n",
    "var grid0_index_path = offline_dir_path + geoTiff_dir + \"Centroid/grid0_index\" + \"_\"+ band_num + mask_str\n",
    "var grids_noNaN_path = offline_dir_path + geoTiff_dir + \"Centroid/grids_noNaN\" + \"_\"+ band_num + mask_str\n",
    "var metadata_path = offline_dir_path + geoTiff_dir + \"Centroid/metadata\" + \"_\"+ band_num + mask_str\n",
    "var grids_matrix_path = offline_dir_path + geoTiff_dir + \"Centroid/grids_matrix\" + \"_\"+ band_num + mask_str\n",
    "var grids_matrix_index_path = offline_dir_path + geoTiff_dir + \"/grids_matrix_index\" + \"_\" + band_num + mask_str\n",
    "\n",
    "//Check offline modes\n",
    "var conf = sc.hadoopConfiguration\n",
    "var fs = org.apache.hadoop.fs.FileSystem.get(conf)\n",
    "\n",
    "val rdd_offline_exists = fs.exists(new org.apache.hadoop.fs.Path(grid0_path))\n",
    "val matrix_offline_exists = fs.exists(new org.apache.hadoop.fs.Path(grids_matrix_path))\n",
    "                                      \n",
    "if (rdd_offline_mode != rdd_offline_exists) {\n",
    "    println(\"\\\"Load GeoTiffs\\\" offline mode is not set properly, i.e., either it was set to false and the required file does not exist or vice-versa. We will reset it to \" + rdd_offline_exists.toString())\n",
    "    rdd_offline_mode = rdd_offline_exists\n",
    "} \n",
    "if (matrix_offline_mode != matrix_offline_exists) {\n",
    "    println(\"\\\"Matrix\\\" offline mode is not set properly, i.e., either it was set to false and the required file does not exist or vice-versa. We will reset it to \" + matrix_offline_exists.toString())\n",
    "    matrix_offline_mode = matrix_offline_exists\n",
    "}\n",
    "\n",
    "if (!fs.exists(new org.apache.hadoop.fs.Path(mask_path))) {\n",
    "    println(\"The mask path: \" + mask_path + \" is invalid!!!\")\n",
    "}\n",
    "\n",
    "//Years\n",
    "val satellite_years = satellite_timeseries._1 to satellite_timeseries._2\n",
    "\n",
    "if (!satellite_years.contains(satellite_first_year) || !(satellite_years.contains(satellite_last_year))) {\n",
    "  println(\"Invalid range of years for \" + geoTiff_dir + \". I should be between \" + satellite_first_year + \" and \" + satellite_last_year)\n",
    "  System.exit(0)\n",
    "}\n",
    "\n",
    "var satellite_years_range = (satellite_years.indexOf(satellite_first_year), satellite_years.indexOf(satellite_last_year))\n",
    "\n",
    "var num_kmeans :Int  = 1\n",
    "if (minClusters != maxClusters) {\n",
    "    num_kmeans = ((maxClusters - minClusters) / stepClusters) + 1\n",
    "}\n",
    "println(num_kmeans)\n",
    "var kmeans_model_paths :Array[String] = Array.fill[String](num_kmeans)(\"\")\n",
    "var wssse_path :String = offline_dir_path + geoTiff_dir + \"Centroid/\" + numIterations + \"_wssse\"\n",
    "var geotiff_hdfs_paths :Array[String] = Array.fill[String](num_kmeans)(\"\")\n",
    "var geotiff_tmp_paths :Array[String] = Array.fill[String](num_kmeans)(\"\")\n",
    "var numClusters_id = 0\n",
    "\n",
    "if (num_kmeans > 1) {\n",
    "    numClusters_id = 0\n",
    "    cfor(minClusters)(_ <= maxClusters, _ + stepClusters) { numClusters =>\n",
    "        kmeans_model_paths(numClusters_id) = offline_dir_path + geoTiff_dir + \"Centroid/kmeans_model_\" + band_num + \"_\" + numClusters + \"_\" + numIterations\n",
    "        \n",
    "        //Check if the file exists\n",
    "        val kmeans_exist = fs.exists(new org.apache.hadoop.fs.Path(kmeans_model_paths(numClusters_id)))\n",
    "        if (kmeans_exist && !kmeans_offline_mode) {\n",
    "            println(\"The kmeans model path \" + kmeans_model_paths(numClusters_id) + \" exists, please remove it.\")\n",
    "        } else if (!kmeans_exist && kmeans_offline_mode) {\n",
    "            kmeans_offline_mode = false\n",
    "        }\n",
    "        \n",
    "        geotiff_hdfs_paths(numClusters_id) = offline_dir_path + geoTiff_dir + \"Centroid/clusters_\" + band_num + \"_\" + numClusters + \"_\" + numIterations + \".tif\"\n",
    "        geotiff_tmp_paths(numClusters_id) = \"/tmp/clusters_\" + band_num + \"_\" + geoTiff_dir + \"_\" + numClusters + \"_\" + numIterations + \".tif\"\n",
    "        if (fs.exists(new org.apache.hadoop.fs.Path(geotiff_hdfs_paths(numClusters_id)))) {\n",
    "            println(\"There is already a GeoTiff with the path: \" + geotiff_hdfs_paths(numClusters_id) + \". Please make either a copy or move it to another location, otherwise, it will be over-written.\")\n",
    "        }\n",
    "        numClusters_id += 1\n",
    "    }\n",
    "    kmeans_offline_mode = false\n",
    "} else { \n",
    "    kmeans_model_paths(0) = offline_dir_path + geoTiff_dir + \"Centroid/kmeans_model_\" + band_num + \"_\" + minClusters + \"_\" + numIterations\n",
    "    val kmeans_offline_exists = fs.exists(new org.apache.hadoop.fs.Path(kmeans_model_paths(0)))\n",
    "    if (kmeans_offline_mode != kmeans_offline_exists) {\n",
    "        println(\"\\\"Kmeans\\\" offline mode is not set properly, i.e., either it was set to false and the required file does not exist or vice-versa. We will reset it to \" + kmeans_offline_exists.toString())\n",
    "        kmeans_offline_mode = kmeans_offline_exists\n",
    "    }\n",
    "    geotiff_hdfs_paths(0) = offline_dir_path + geoTiff_dir + \"Centroid/clusters_\" + band_num + \"_\" + minClusters + \"_\" + numIterations + \".tif\"\n",
    "    geotiff_tmp_paths(0) = \"/tmp/clusters_\" + band_num + \"_\" + geoTiff_dir + \"_\" + minClusters + \"_\" + numIterations + \".tif\"\n",
    "    if (fs.exists(new org.apache.hadoop.fs.Path(geotiff_hdfs_paths(0)))) {\n",
    "        println(\"There is already a GeoTiff with the path: \" + geotiff_hdfs_paths(0) + \". Please make either a copy or move it to another location, otherwise, it will be over-written.\")\n",
    "    }\n",
    "}"
   ]
  },
  {
   "cell_type": "markdown",
   "metadata": {},
   "source": [
    "## Functions to (de)serialize any structure into Array[Byte]"
   ]
  },
  {
   "cell_type": "code",
   "execution_count": 28,
   "metadata": {},
   "outputs": [
    {
     "data": {
      "text/plain": [
       "serialize: (value: Any)Array[Byte]\n",
       "deserialize: (bytes: Array[Byte])Any\n"
      ]
     },
     "metadata": {},
     "output_type": "display_data"
    }
   ],
   "source": [
    "def serialize(value: Any): Array[Byte] = {\n",
    "    val out_stream: ByteArrayOutputStream = new ByteArrayOutputStream()\n",
    "    val obj_out_stream = new ObjectOutputStream(out_stream)\n",
    "    obj_out_stream.writeObject(value)\n",
    "    obj_out_stream.close\n",
    "    out_stream.toByteArray\n",
    "}\n",
    "\n",
    "def deserialize(bytes: Array[Byte]): Any = {\n",
    "    val obj_in_stream = new ObjectInputStream(new ByteArrayInputStream(bytes))\n",
    "    val value = obj_in_stream.readObject\n",
    "    obj_in_stream.close\n",
    "    value\n",
    "}"
   ]
  },
  {
   "cell_type": "markdown",
   "metadata": {},
   "source": [
    "## Load GeoTiffs\n",
    "\n",
    "Using GeoTrellis all GeoTiffs of a directory will be loaded into a RDD. Using the RDD, we extract a grid from the first file to lated store the Kmeans cluster_IDS, we build an Index for populate such grid and we filter out here all NaN values."
   ]
  },
  {
   "cell_type": "code",
   "execution_count": 29,
   "metadata": {},
   "outputs": [
    {
     "data": {
      "text/plain": [
       "hadoopGeoTiffRDD: (satellite_filepath: String, pattern: String)org.apache.spark.rdd.RDD[(Int, (geotrellis.vector.ProjectedExtent, geotrellis.raster.Tile))]\n"
      ]
     },
     "metadata": {},
     "output_type": "display_data"
    }
   ],
   "source": [
    "def hadoopGeoTiffRDD(satellite_filepath :String, pattern :String): RDD[(Int, (ProjectedExtent, Tile))] = {\n",
    "  val listFiles = sc.binaryFiles(satellite_filepath + \"/\" + pattern).sortBy(_._1).keys.collect()\n",
    "  var prevRDD :RDD[(Int,(ProjectedExtent, Tile))] = sc.emptyRDD\n",
    "\n",
    "  cfor(0)(_ < listFiles.length, _ + 1) { k =>\n",
    "    val filePath :String = listFiles(k)\n",
    "    val kB = sc.broadcast(k)\n",
    "    val currRDD = sc.hadoopGeoTiffRDD(filePath).map(m => (kB.value, m))\n",
    "    prevRDD = currRDD.union(prevRDD)\n",
    "    //kB.destroy()\n",
    "  }\n",
    "  prevRDD.sortBy(_._1)\n",
    "}"
   ]
  },
  {
   "cell_type": "code",
   "execution_count": 30,
   "metadata": {},
   "outputs": [
    {
     "data": {
      "text/plain": [
       "hadoopMultibandGeoTiffRDD: (satellite_filepath: String, pattern: String)org.apache.spark.rdd.RDD[(Int, (geotrellis.vector.ProjectedExtent, geotrellis.raster.MultibandTile))]\n"
      ]
     },
     "metadata": {},
     "output_type": "display_data"
    }
   ],
   "source": [
    "def hadoopMultibandGeoTiffRDD(satellite_filepath :String, pattern :String): RDD[(Int, (ProjectedExtent, MultibandTile))] = {\n",
    "  val listFiles = sc.binaryFiles(satellite_filepath + \"/\" + pattern).sortBy(_._1).keys.collect()\n",
    "  var prevRDD :RDD[(Int,(ProjectedExtent, MultibandTile))] = sc.emptyRDD\n",
    "\n",
    "  cfor(0)(_ < listFiles.length, _ + 1) { k =>\n",
    "    val filePath :String = listFiles(k)\n",
    "    val kB = sc.broadcast(k)\n",
    "    val currRDD = sc.hadoopMultibandGeoTiffRDD(filePath).map(m => (kB.value,m))\n",
    "    prevRDD = currRDD.union(prevRDD)\n",
    "    //kB.destroy()\n",
    "  }\n",
    "  prevRDD.sortBy(_._1)\n",
    "}"
   ]
  },
  {
   "cell_type": "code",
   "execution_count": 31,
   "metadata": {},
   "outputs": [
    {
     "name": "stdout",
     "output_type": "stream",
     "text": [
      "Elapsed time: 39520391598ns                                                     \n"
     ]
    },
    {
     "data": {
      "text/plain": [
       "t0 = 48343881592286\n",
       "projected_extent = ProjectedExtent(Extent(-126.30312894720473, 14.29219617034159, -56.162671563152486, 49.25462702827337),geotrellis.proj4.CRS$$anon$3@41d0d1b7)\n",
       "grid0 = MapPartitionsRDD[430] at map at <console>:218\n",
       "grid0_index = MapPartitionsRDD[425] at map at <console>:212\n",
       "grids_noNaN_RDD = MapPartitionsRDD[433] at map at <console>:236\n",
       "num_cols_rows = (7808,3892)\n",
       "cellT = int16ud-1000\n",
       "grids_RDD = MapPartitionsRDD[419] at map at <console>:180\n",
       "mask_tile0 = FloatRawArrayTile([F@249d1a0,7808,3892)\n"
      ]
     },
     "metadata": {},
     "output_type": "display_data"
    },
    {
     "data": {
      "text/plain": [
       "gri...\n"
      ]
     },
     "metadata": {},
     "output_type": "display_data"
    },
    {
     "data": {
      "text/plain": [
       "FloatRawArrayTile([F@249d1a0,7808,3892)"
      ]
     },
     "execution_count": 31,
     "metadata": {},
     "output_type": "execute_result"
    }
   ],
   "source": [
    "var t0 = System.nanoTime()\n",
    "//Global variables\n",
    "var projected_extent = new ProjectedExtent(new Extent(0,0,0,0), CRS.fromName(\"EPSG:3857\"))\n",
    "var grid0: RDD[(Long, Double)] = sc.emptyRDD\n",
    "var grid0_index: RDD[Long] = sc.emptyRDD\n",
    "var grids_noNaN_RDD: RDD[(Int, Array[Double])] = sc.emptyRDD\n",
    "var num_cols_rows :(Int, Int) = (0, 0)\n",
    "var cellT :CellType = UByteCellType\n",
    "var grids_RDD :RDD[(Int, Array[Double])] = sc.emptyRDD\n",
    "var mask_tile0 :Tile = new SinglebandGeoTiff(geotrellis.raster.ArrayTile.empty(cellT, num_cols_rows._1, num_cols_rows._2), projected_extent.extent, projected_extent.crs, Tags.empty, GeoTiffOptions.DEFAULT).tile\n",
    "var grid_cells_size :Long = 0\n",
    "\n",
    "//Load Mask\n",
    "if (toBeMasked) {\n",
    "  val mask_tiles_RDD = sc.hadoopGeoTiffRDD(mask_path).values\n",
    "  val mask_tiles_withIndex = mask_tiles_RDD.zipWithIndex().map{case (e,v) => (v,e)}\n",
    "  mask_tile0 = (mask_tiles_withIndex.filter(m => m._1==0).values.collect())(0)\n",
    "}\n",
    "\n",
    "//Local variables\n",
    "val filepath: String = dir_path + geoTiff_dir\n",
    "\n",
    "if (rdd_offline_mode) {\n",
    "  grids_noNaN_RDD = sc.objectFile(grids_noNaN_path)\n",
    "  grid0 = sc.objectFile(grid0_path)\n",
    "  grid0_index = sc.objectFile(grid0_index_path)\n",
    "\n",
    "  val metadata = sc.sequenceFile(metadata_path, classOf[IntWritable], classOf[BytesWritable]).map(_._2.copyBytes()).collect()\n",
    "  projected_extent = deserialize(metadata(0)).asInstanceOf[ProjectedExtent]\n",
    "  num_cols_rows = (deserialize(metadata(1)).asInstanceOf[Int], deserialize(metadata(2)).asInstanceOf[Int])\n",
    "  cellT = deserialize(metadata(3)).asInstanceOf[CellType]\n",
    "} else {\n",
    "  if (single_band) {\n",
    "    //Lets load a Singleband GeoTiffs and return RDD just with the tiles.\n",
    "    var geos_RDD = hadoopGeoTiffRDD(filepath, pattern)\n",
    "    var tiles_RDD = geos_RDD.map{ case (i,(p,t)) => (i,t)}\n",
    "\n",
    "    //Retrive the numbre of cols and rows of the Tile's grid\n",
    "    val tiles_withIndex = tiles_RDD//.zipWithIndex().map{case (e,v) => (v,e)}\n",
    "    val tile0 = (tiles_withIndex.filter(m => m._1==0).values.collect())(0)\n",
    "    num_cols_rows = (tile0.cols,tile0.rows)\n",
    "    cellT = tile0.cellType\n",
    "\n",
    "    //Retrieve the ProjectExtent which contains metadata such as CRS and bounding box\n",
    "    val projected_extents_withIndex = geos_RDD.map{ case (i,(p,t)) => (i,p)}//.keys.zipWithIndex().map { case (e, v) => (v, e) }\n",
    "    projected_extent = (projected_extents_withIndex.filter(m => m._1 == 0).values.collect()) (0)\n",
    "\n",
    "    if (toBeMasked) {\n",
    "      val mask_tile_broad :Broadcast[Tile] = sc.broadcast(mask_tile0)\n",
    "      grids_RDD = tiles_RDD.map{ case (i,m) => (i,m.localInverseMask(mask_tile_broad.value, 1, -1000).toArrayDouble())}\n",
    "    } else {\n",
    "      grids_RDD = tiles_RDD.map{ case (i,m) => (i, m.toArrayDouble())}\n",
    "    }\n",
    "  } else {\n",
    "    //Lets load Multiband GeoTiffs and return RDD just with the tiles.\n",
    "    val geos_RDD = hadoopMultibandGeoTiffRDD(filepath, pattern)\n",
    "    var tiles_RDD = geos_RDD.map{ case (i,(p,t)) => (i,t)}\n",
    "\n",
    "    //Retrive the numbre of cols and rows of the Tile's grid\n",
    "    val tiles_withIndex = tiles_RDD//.zipWithIndex().map{case (e,v) => (v,e)}\n",
    "    val tile0 = (tiles_withIndex.filter(m => m._1==0).values.collect())(0)\n",
    "    num_cols_rows = (tile0.cols,tile0.rows)\n",
    "    cellT = tile0.cellType\n",
    "\n",
    "    //Retrieve the ProjectExtent which contains metadata such as CRS and bounding box\n",
    "    val projected_extents_withIndex = geos_RDD.map{ case (i,(p,t)) => (i,p)}//.keys.zipWithIndex().map { case (e, v) => (v, e) }\n",
    "    projected_extent = (projected_extents_withIndex.filter(m => m._1 == 0).values.collect()) (0)\n",
    "\n",
    "    //Lets read the average of the Spring-Index which is stored in the 4th band\n",
    "    val band_numB :Broadcast[Int] = sc.broadcast(band_num)\n",
    "    if (toBeMasked) {\n",
    "      val mask_tile_broad :Broadcast[Tile] = sc.broadcast(mask_tile0)\n",
    "      grids_RDD = tiles_RDD.map{ case (i,m) => (i,m.band(band_numB.value).localInverseMask(mask_tile_broad.value, 1, -1000).toArrayDouble())}\n",
    "    } else {\n",
    "      grids_RDD = tiles_RDD.map{ case (i,m) => (i, m.band(band_numB.value).toArrayDouble())}\n",
    "    }\n",
    "  }\n",
    "\n",
    "  //Get Index for each Cell\n",
    "  val grids_withIndex = grids_RDD//.zipWithIndex().map { case (e, v) => (v, e) }\n",
    "  if (toBeMasked) {\n",
    "    grid0_index = grids_withIndex.filter(m => m._1 == 0).values.flatMap(m => m).zipWithIndex.filter(m => m._1 != -1000.0).map { case (v, i) => (i) }\n",
    "  } else {\n",
    "    grid0_index = grids_withIndex.filter(m => m._1 == 0).values.flatMap(m => m).zipWithIndex.map { case (v, i) => (i) }\n",
    "\n",
    "  }\n",
    "  //Get the Tile's grid\n",
    "  grid0 = grids_withIndex.filter(m => m._1 == 0).values.flatMap( m => m).zipWithIndex.map{case (v,i) => (i,v)}\n",
    "\n",
    "  //Lets filter out NaN\n",
    "  if (toBeMasked) {\n",
    "    grids_noNaN_RDD = grids_RDD.map{case (i,m) => (i,m.filter(m => m != -1000.0))}\n",
    "  } else {\n",
    "    grids_noNaN_RDD = grids_RDD\n",
    "  }\n",
    "  //Store data in HDFS\n",
    "  if (save_rdds) {\n",
    "    grid0.saveAsObjectFile(grid0_path)\n",
    "    grid0_index.saveAsObjectFile(grid0_index_path)\n",
    "    grids_noNaN_RDD.saveAsObjectFile(grids_noNaN_path)\n",
    "  }\n",
    "\n",
    "  val grids_noNaN_RDD_withIndex = grids_noNaN_RDD//.zipWithIndex().map { case (e, v) => (v, e) }\n",
    "  val sat_year_diff = satellite_first_year-satellite_timeseries._1\n",
    "  val sat_year_diffB = sc.broadcast(sat_year_diff)\n",
    "  grids_noNaN_RDD = grids_noNaN_RDD_withIndex.filterByRange(satellite_years_range._1, satellite_years_range._2).map{ case(i,a) => (i-(sat_year_diffB.value),a)}\n",
    "\n",
    "  if (save_rdds) {\n",
    "    val writer: SequenceFile.Writer = SequenceFile.createWriter(conf,\n",
    "      Writer.file(metadata_path),\n",
    "      Writer.keyClass(classOf[IntWritable]),\n",
    "      Writer.valueClass(classOf[BytesWritable])\n",
    "    )\n",
    "\n",
    "    writer.append(new IntWritable(1), new BytesWritable(serialize(projected_extent)))\n",
    "    writer.append(new IntWritable(2), new BytesWritable(serialize(num_cols_rows._1)))\n",
    "    writer.append(new IntWritable(3), new BytesWritable(serialize(num_cols_rows._2)))\n",
    "    writer.append(new IntWritable(4), new BytesWritable(serialize(cellT)))\n",
    "    writer.hflush()\n",
    "    writer.close()\n",
    "  }\n",
    "}\n",
    "grid_cells_size = grid0_index.count().toInt\n",
    "var t1 = System.nanoTime()\n",
    "println(\"Elapsed time: \" + (t1 - t0) + \"ns\")"
   ]
  },
  {
   "cell_type": "markdown",
   "metadata": {},
   "source": [
    "## Matrix\n",
    "\n",
    "We need to do a Matrix transpose to have clusters per cell and not per year. With a GeoTiff representing a single year, the loaded data looks liks this:\n",
    "```\n",
    "bands_RDD.map(s => Vectors.dense(s)).cache()\n",
    "\n",
    "//The vectors are rows and therefore the matrix will look like this:\n",
    "[\n",
    "Vectors.dense(0.0, 1.0, 2.0),\n",
    "Vectors.dense(3.0, 4.0, 5.0),\n",
    "Vectors.dense(6.0, 7.0, 8.0),\n",
    "Vectors.dense(9.0, 0.0, 1.0)\n",
    "]\n",
    "```\n",
    "\n",
    "To achieve that we convert the **RDD[Vector]** into a distributed Matrix, a [**CoordinateMatrix**](https://spark.apache.org/docs/latest/mllib-data-types.html#coordinatematrix), which as a **transpose** method."
   ]
  },
  {
   "cell_type": "code",
   "execution_count": 32,
   "metadata": {},
   "outputs": [
    {
     "name": "stdout",
     "output_type": "stream",
     "text": [
      "[Stage 222:====================================================>(998 + 1) / 999]Elapsed time: 119432269162ns\n"
     ]
    },
    {
     "data": {
      "text/plain": [
       "t0 = 48387700284281\n",
       "grids_matrix = MapPartitionsRDD[450] at map at <console>:121\n",
       "grids_matrix_index = MapPartitionsRDD[453] at map at <console>:122\n",
       "grid_cells_sizeB = Broadcast(235)\n",
       "t1 = 48507132553443\n"
      ]
     },
     "metadata": {},
     "output_type": "display_data"
    },
    {
     "data": {
      "text/plain": [
       "48507132553443"
      ]
     },
     "execution_count": 32,
     "metadata": {},
     "output_type": "execute_result"
    }
   ],
   "source": [
    "t0 = System.nanoTime()\n",
    "//Global variables\n",
    "var grids_matrix: RDD[Vector] = sc.emptyRDD\n",
    "var grids_matrix_index :RDD[(Long, Long)] = sc.emptyRDD\n",
    "val grid_cells_sizeB = sc.broadcast(grid_cells_size)\n",
    "\n",
    "if (matrix_offline_mode) {\n",
    "  grids_matrix = sc.objectFile(grids_matrix_path)\n",
    "  grids_matrix_index = sc.objectFile(grids_matrix_index_path)\n",
    "} else {\n",
    "  val mat :IndexedRowMatrix = new IndexedRowMatrix(grids_noNaN_RDD.map{ case (i, m) => (i,m.zipWithIndex)}.map{ case (i,m) => (i,m.filter(!_._1.isNaN))}.map{ case (i,m) =>  new IndexedRow(i.toLong, Vectors.sparse(grid_cells_sizeB.value.toInt, m.map(v => v._2), m.map(v => v._1)))})\n",
    "  val mat_T = mat.toCoordinateMatrix().transpose().toIndexedRowMatrix().rows.sortBy(_.index)\n",
    "  grids_matrix = mat_T.map(_.vector)\n",
    "  grids_matrix_index = mat_T.map(_.index).zipWithIndex().map{ case (v,i) => (i,v)}\n",
    "\n",
    "  if (save_matrix) {\n",
    "    grids_matrix.saveAsObjectFile(grids_matrix_path)\n",
    "    grids_matrix_index.saveAsObjectFile(grids_matrix_index_path)\n",
    "  }\n",
    "}\n",
    "t1 = System.nanoTime()\n",
    "println(\"Elapsed time: \" + (t1 - t0) + \"ns\")"
   ]
  },
  {
   "cell_type": "markdown",
   "metadata": {
    "collapsed": true
   },
   "source": [
    "## Kmeans\n",
    "\n",
    "We use Kmeans from Sparl-MLlib. The user should only modify the variables on Kmeans setup."
   ]
  },
  {
   "cell_type": "markdown",
   "metadata": {},
   "source": [
    "### Kmeans Training"
   ]
  },
  {
   "cell_type": "code",
   "execution_count": 33,
   "metadata": {},
   "outputs": [
    {
     "name": "stdout",
     "output_type": "stream",
     "text": [
      "100\n",
      "Within Set Sum of Squared Errors = 3.43689166359523E11                          \n",
      "We will delete the wssse file\n",
      "Lets create it with the new data\n",
      "Elapsed time: 846303429441ns\n"
     ]
    },
    {
     "data": {
      "text/plain": [
       "t0 = 48510241404738\n",
       "kmeans_models = Array(org.apache.spark.mllib.clustering.KMeansModel@5196c5b6)\n",
       "wssse_data = List((100,75,3.449339654066865E11), (100,75,2.3108488905427658E11), (100,75,3.444388891620569E11), (100,75,3.43689166359523E11))\n",
       "numClusters_id = 1\n",
       "t1 = 49356544834179\n"
      ]
     },
     "metadata": {},
     "output_type": "display_data"
    },
    {
     "data": {
      "text/plain": [
       "49356544834179"
      ]
     },
     "execution_count": 33,
     "metadata": {},
     "output_type": "execute_result"
    }
   ],
   "source": [
    "t0 = System.nanoTime()\n",
    "//Global variables\n",
    "var kmeans_models :Array[KMeansModel] = new Array[KMeansModel](num_kmeans)\n",
    "var wssse_data :List[(Int, Int, Double)] = List.empty\n",
    "var numClusters_id = 0\n",
    "\n",
    "if (kmeans_offline_mode) {\n",
    "    numClusters_id = 0\n",
    "    cfor(minClusters)(_ <= maxClusters, _ + stepClusters) { numClusters =>\n",
    "        if (!fs.exists(new org.apache.hadoop.fs.Path(kmeans_model_paths(numClusters_id)))) {\n",
    "            println(\"One of the files does not exist, we will abort!!!\")\n",
    "            System.exit(0)\n",
    "        } else {\n",
    "            kmeans_models(numClusters_id) = KMeansModel.load(sc, kmeans_model_paths(numClusters_id))\n",
    "        }\n",
    "        numClusters_id += 1\n",
    "    }\n",
    "    val wssse_data_RDD :RDD[(Int, Int, Double)]  = sc.objectFile(wssse_path)\n",
    "    wssse_data  = wssse_data_RDD.collect().toList\n",
    "} else {\n",
    "    numClusters_id = 0\n",
    "    if (fs.exists(new org.apache.hadoop.fs.Path(wssse_path))) {\n",
    "        val wssse_data_RDD :RDD[(Int, Int, Double)]  = sc.objectFile(wssse_path)\n",
    "        wssse_data  = wssse_data_RDD.collect().toList\n",
    "    }\n",
    "    grids_matrix.cache()\n",
    "    cfor(minClusters)(_ <= maxClusters, _ + stepClusters) { numClusters =>\n",
    "        println(numClusters)\n",
    "        kmeans_models(numClusters_id) = {\n",
    "            KMeans.train(grids_matrix, numClusters, numIterations)\n",
    "        }\n",
    "\n",
    "        // Evaluate clustering by computing Within Set Sum of Squared Errors\n",
    "        val WSSSE = kmeans_models(numClusters_id).computeCost(grids_matrix)\n",
    "        println(\"Within Set Sum of Squared Errors = \" + WSSSE)\n",
    "                \n",
    "        wssse_data = wssse_data :+ (numClusters, numIterations, WSSSE)\n",
    "        \n",
    "        //Save kmeans model\n",
    "        if (save_kmeans_model) {\n",
    "            if (!fs.exists(new org.apache.hadoop.fs.Path(kmeans_model_paths(numClusters_id)))) {\n",
    "                kmeans_models(numClusters_id).save(sc, kmeans_model_paths(numClusters_id))\n",
    "            }\n",
    "        }\n",
    "        numClusters_id += 1\n",
    "        \n",
    "        if (fs.exists(new org.apache.hadoop.fs.Path(wssse_path))) {\n",
    "            println(\"We will delete the wssse file\")\n",
    "            try { fs.delete(new org.apache.hadoop.fs.Path(wssse_path), true) } catch { case _ : Throwable => { } }\n",
    "        }\n",
    "    \n",
    "        println(\"Lets create it with the new data\")\n",
    "        sc.parallelize(wssse_data, 1).saveAsObjectFile(wssse_path)\n",
    "    }\n",
    "\n",
    "    //Un-persist it to save memory\n",
    "    grids_matrix.unpersist()\n",
    "    \n",
    "\n",
    "}\n",
    "t1 = System.nanoTime()\n",
    "println(\"Elapsed time: \" + (t1 - t0) + \"ns\")"
   ]
  },
  {
   "cell_type": "markdown",
   "metadata": {},
   "source": [
    "### Inspect WSSSE"
   ]
  },
  {
   "cell_type": "code",
   "execution_count": 34,
   "metadata": {},
   "outputs": [
    {
     "name": "stdout",
     "output_type": "stream",
     "text": [
      "List((100,75,3.449339654066865E11), (100,75,2.3108488905427658E11), (100,75,3.444388891620569E11), (100,75,3.43689166359523E11))\n",
      "Elapsed time: 280676722ns\n"
     ]
    },
    {
     "data": {
      "text/plain": [
       "t0 = 49360971382059\n",
       "t1 = 49361252058781\n"
      ]
     },
     "metadata": {},
     "output_type": "display_data"
    },
    {
     "data": {
      "text/plain": [
       "49361252058781"
      ]
     },
     "execution_count": 34,
     "metadata": {},
     "output_type": "execute_result"
    }
   ],
   "source": [
    "t0 = System.nanoTime()\n",
    "\n",
    "//from disk\n",
    "if (fs.exists(new org.apache.hadoop.fs.Path(wssse_path))) {\n",
    "    var wssse_data_tmp :RDD[(Int, Int, Double)] = sc.objectFile(wssse_path)//.collect()//.toList\n",
    "    println(wssse_data_tmp.collect().toList)    \n",
    "}\n",
    "t1 = System.nanoTime()\n",
    "println(\"Elapsed time: \" + (t1 - t0) + \"ns\")"
   ]
  },
  {
   "cell_type": "markdown",
   "metadata": {},
   "source": [
    "### Run Kmeans clustering\n",
    "\n",
    "Run Kmeans and obtain the clusters per each cell."
   ]
  },
  {
   "cell_type": "code",
   "execution_count": 35,
   "metadata": {},
   "outputs": [
    {
     "data": {
      "text/plain": [
       "t0 = 49362682754039\n",
       "kmeans_res = Array(MapPartitionsRDD[630] at map at KMeansModel.scala:69)\n",
       "kmeans_centroids = Array(Array(109.99212360272712, 43.09513078731158, 90.6423409797496, 76.9855102157896, 87.08981929820068, 126.74140419124107, 146.16983469105807, 59.1629199543447, 93.79790620063895, 144.87019519519518, 114.73571046458993, 106.38721687868446, 95.47544387323393, 103.52874480621611, 87.3471052631579, 38.43081011479138, 111.15146892031596, 102.46639438870639, 89.83979218694256, 99.88593903638152, 98.32035308097097, 70.4260866433793, 98.78981500100544, 119.26303310423482, 128.76199163000322, 111.0458742748905, 101.72412075498549, 156.84788712497132, 87.73242850218128, 106.39377975344378, 97.69150195828401, 108.47598...\n"
      ]
     },
     "metadata": {},
     "output_type": "display_data"
    },
    {
     "data": {
      "text/plain": [
       "[[109.99212360272712, 43.09513078731158, 90.6423409797496, 76.9855102157896, 87.08981929820068, 126.74140419124107, 146.16983469105807, 59.1629199543447, 93.79790620063895, 144.87019519519518, 114.73571046458993, 106.38721687868446, 95.47544387323393, 103.52874480621611, 87.3471052631579, 38.43081011479138, 111.15146892031596, 102.46639438870639, 89.83979218694256, 99.88593903638152, 98.32035308097097, 70.4260866433793, 98.78981500100544, 119.26303310423482, 128.76199163000322, 111.0458742748905, 101.72412075498549, 156.84788712497132, 87.73242850218128, 106.39377975344378, 97.69150195828401, 108.47598363553715, 88.26449614849737, 98.4363607138987, 125.19569226229993, 93.47414787624541, 101.95847026225915, 90.06155437030587, 84.7938408583251, 120.82635766170876, 175.0720307646798, 79.76823258869908, 94.25517013544764, -26.03991577680854, 107.40016158227914, 54.904761904761905, 91.06534596336009, 135.8769305370348, 130.09745956667683, 109.82615544974297, 123.62112046291425, 74.69125084490635, 103.73633832894788, 130.6012961127277, 177.00995493374586, 119.02405043475785, 75.11559942224362, 125.55604498108515, 74.7440006769335, 126.42238018803026, 146.51272446843672, 118.11481379056048, 94.6015145746076, 173.7664814105021, 154.33850554785022, 116.74208966637988, 93.73893176279446, 174.06487695749442, -29.90297066127104, 151.21767062202406, 111.230123607508, 116.20397896133116, 68.43096561860942, 57.015169397103115, 81.60706669905795, 174.80697800216373, 21.992628630399526, 100.08050315997126, 119.69367337190171, 87.58877222603282, 95.54170066916924, 87.28274892650145, 92.15621716287215, 84.33771587743732, 144.72991764879924, 105.30351350919521, 99.62789126675312, 91.66442698160346, 137.4111495004202, 103.28923433107326, 111.37022853099113, 94.69257493582445, 166.2890392699682, 90.87998470446848, 118.97842952671557, 99.98169678830436, 98.8642826026692, 20.581183743031282, 154.68998167379354, 129.5363204223782]]"
      ]
     },
     "execution_count": 35,
     "metadata": {},
     "output_type": "execute_result"
    }
   ],
   "source": [
    "t0 = System.nanoTime()\n",
    "//Cache it so kmeans is more efficient\n",
    "grids_matrix.cache()\n",
    "var kmeans_res: Array[RDD[Int]] = Array.fill(num_kmeans)(sc.emptyRDD)\n",
    "var kmeans_centroids: Array[Array[Double]] = Array.fill(num_kmeans)(Array.emptyDoubleArray)\n",
    "numClusters_id = 0\n",
    "cfor(minClusters)(_ <= maxClusters, _ + stepClusters) { numClusters =>\n",
    "  kmeans_res(numClusters_id) = kmeans_models(numClusters_id).predict(grids_matrix)\n",
    "  kmeans_centroids(numClusters_id) = kmeans_models(numClusters_id).clusterCenters.map(m => m(0))\n",
    "  numClusters_id += 1\n",
    "}"
   ]
  },
  {
   "cell_type": "markdown",
   "metadata": {},
   "source": [
    "#### Sanity test\n",
    "\n",
    "It can be skipped, it only shows the cluster ID for the first 50 cells"
   ]
  },
  {
   "cell_type": "code",
   "execution_count": 36,
   "metadata": {},
   "outputs": [
    {
     "name": "stdout",
     "output_type": "stream",
     "text": [
      "131313131313131313133313131313331313131313131313871313131313131313131313333313131333331313131313132613131313131313131313131313131313131313131313131326131313131313131313131313131313131313131313131313131313131313131313131313131313131313131313333313262613131313131313131313131313131313131313131313132626150\n",
      "Elapsed time: 880077528ns\n"
     ]
    },
    {
     "data": {
      "text/plain": [
       "t0 = 49364356259919\n",
       "kmeans_res_out = Array(13, 13, 13, 13, 13, 13, 13, 13, 13, 13, 33, 13, 13, 13, 13, 33, 13, 13, 13, 13, 13, 13, 13, 13, 87, 13, 13, 13, 13, 13, 13, 13, 13, 13, 13, 13, 33, 33, 13, 13, 13, 33, 33, 13, 13, 13, 13, 13, 13, 26, 13, 13, 13, 13, 13, 13, 13, 13, 13, 13, 13, 13, 13, 13, 13, 13, 13, 13, 13, 13, 13, 13, 13, 13, 26, 13, 13, 13, 13, 13, 13, 13, 13, 13, 13, 13, 13, 13, 13, 13, 13, 13, 13, 13, 13, 13, 13, 13, 13, 13, 13, 13, 13, 13, 13, 13, 13, 13, 13, 13, 13, 13, 13, 13, 13, 13, 13, 13, 13, 13, 33, 33, 13, 26, 26, 13, 13, 13, 13, 13, 13, 13, 13, 13, 13, 13, 13, 13, 13, 13, 13, 13, 13, 13, 13, 13, 13, 13, 26, 26)\n",
       "t1 = 49365236337447\n"
      ]
     },
     "metadata": {},
     "output_type": "display_data"
    },
    {
     "data": {
      "text/plain": [
       "49365236337447"
      ]
     },
     "execution_count": 36,
     "metadata": {},
     "output_type": "execute_result"
    }
   ],
   "source": [
    "t0 = System.nanoTime()\n",
    "val kmeans_res_out = kmeans_res(0).filter(_!= 0).filter(_!=1).take(150)\n",
    "kmeans_res_out.foreach(print)\n",
    "\n",
    "println(kmeans_res_out.size)\n",
    "t1 = System.nanoTime()\n",
    "println(\"Elapsed time: \" + (t1 - t0) + \"ns\")"
   ]
  },
  {
   "cell_type": "markdown",
   "metadata": {},
   "source": [
    "## Build GeoTiff with Kmeans cluster_IDs\n",
    "\n",
    "The Grid with the cluster IDs is stored in a SingleBand GeoTiff and uploaded to HDFS."
   ]
  },
  {
   "cell_type": "markdown",
   "metadata": {},
   "source": [
    "### Assign cluster ID to each grid cell and save the grid as SingleBand GeoTiff\n",
    "\n",
    "To assign the clusterID to each grid cell it is necessary to get the indices of gird cells they belong to. The process is not straight forward because the ArrayDouble used for the creation of each dense Vector does not contain the NaN values, therefore there is not a direct between the indices in the Tile's grid and the ones in **kmeans_res** (kmeans result).\n",
    "\n",
    "To join the two RDDS the knowledge was obtaing from a stackoverflow post on [how to perform basic joins of two rdd tables in spark using python](https://stackoverflow.com/questions/31257077/how-do-you-perform-basic-joins-of-two-rdd-tables-in-spark-using-python)."
   ]
  },
  {
   "cell_type": "code",
   "execution_count": 37,
   "metadata": {},
   "outputs": [
    {
     "name": "stdout",
     "output_type": "stream",
     "text": [
      "[Stage 664:===================================================>(999 + 1) / 1000]]0]hadoop dfs -copyFromLocal -f /tmp/clusters_0_SOST_100_75.tif hdfs:///user/emma/avhrr/SOSTCentroid/clusters_0_100_75.tif\n",
      "DEPRECATED: Use of this script to execute hdfs command is deprecated.\n",
      "Instead use the hdfs command for it.\n",
      "\n",
      "rm -fr /tmp/clusters_0_SOST_100_75.tif\n",
      "Elapsed time: 136270799169ns\n"
     ]
    },
    {
     "data": {
      "text/plain": [
       "t0 = 49367011438475\n",
       "numClusters_id = 1\n",
       "grid0_index_I = MapPartitionsRDD[634] at map at <console>:113\n",
       "t1 = 49503282237644\n"
      ]
     },
     "metadata": {},
     "output_type": "display_data"
    },
    {
     "data": {
      "text/plain": [
       "warning: there were two feature warnings; re-run with -feature for details\n"
      ]
     },
     "metadata": {},
     "output_type": "display_data"
    },
    {
     "data": {
      "text/plain": [
       "49503282237644"
      ]
     },
     "execution_count": 37,
     "metadata": {},
     "output_type": "execute_result"
    }
   ],
   "source": [
    "t0 = System.nanoTime()\n",
    "numClusters_id = 0\n",
    "val grid0_index_I = grid0_index.zipWithIndex().map{ case (v,i) => (i,v)}\n",
    "grid0_index_I.cache()\n",
    "grids_matrix_index.cache()\n",
    "\n",
    "cfor(minClusters)(_ <= maxClusters, _ + stepClusters) { numClusters =>\n",
    "  val kmeans_out = (kmeans_res(numClusters_id).zipWithIndex().map{ case (v,i) => (i,v)}).join(grids_matrix_index).map{ case (z,(k,i)) => (i,k)}\n",
    "  val cluster_cell_pos = (kmeans_out.join(grid0_index_I).map{ case (k,(v,i)) => (v,i)})\n",
    "    \n",
    "  //Associate a Cluster_IDs to respective Grid_cell\n",
    "  val grid_clusters = grid0.map{ case (i, v) => if (v == 0.0) (i,Double.NaN) else (i,v)}.leftOuterJoin(cluster_cell_pos.map{ case (c,i) => (i.toLong, c)})\n",
    "\n",
    "  //Convert all None to NaN\n",
    "  val grid_clusters_res = grid_clusters.sortByKey(true).map{case (k, (v, c)) => if (c == None) (k, Int.MaxValue) else (k, c.get)}\n",
    "\n",
    "  //Define a Tile\n",
    "  val cluster_cellsID :Array[Int] = grid_clusters_res.values.collect()\n",
    "  var cluster_cells :Array[Double] = Array.fill(cluster_cellsID.length)(Double.NaN)\n",
    "  cfor(0)(_ < cluster_cellsID.size, _ + 1) { cellID =>\n",
    "    if (cluster_cellsID(cellID) != Int.MaxValue) {\n",
    "      cluster_cells(cellID) = kmeans_centroids(numClusters_id)(cluster_cellsID(cellID))\n",
    "    }\n",
    "  }\n",
    "  val cluster_cellsD = DoubleArrayTile(cluster_cells, num_cols_rows._1, num_cols_rows._2)\n",
    "  val geoTif = new SinglebandGeoTiff(cluster_cellsD, projected_extent.extent, projected_extent.crs, Tags.empty, GeoTiffOptions(compression.DeflateCompression))\n",
    "\n",
    "  //Save to /tmp/\n",
    "  GeoTiffWriter.write(geoTif, geotiff_tmp_paths(numClusters_id))\n",
    "\n",
    "  //Upload to HDFS\n",
    "  var cmd = \"hadoop dfs -copyFromLocal -f \" + geotiff_tmp_paths(numClusters_id) + \" \" + geotiff_hdfs_paths(numClusters_id)\n",
    "  println(cmd)\n",
    "  Process(cmd)!\n",
    "\n",
    "  //Remove from /tmp/\n",
    "  cmd = \"rm -fr \" + geotiff_tmp_paths(numClusters_id)\n",
    "  println(cmd)\n",
    "  Process(cmd)!\n",
    "\n",
    "  numClusters_id += 1\n",
    "}\n",
    "t1 = System.nanoTime()\n",
    "println(\"Elapsed time: \" + (t1 - t0) + \"ns\")"
   ]
  },
  {
   "cell_type": "markdown",
   "metadata": {},
   "source": [
    "# [Visualize results](plot_kmeans_clusters.ipynb) --------------- [Plot WSSE](kmeans_wsse.ipynb)"
   ]
  }
 ],
 "metadata": {
  "kernelspec": {
   "display_name": "Apache Toree - Scala",
   "language": "scala",
   "name": "apache_toree_scala"
  },
  "language_info": {
   "codemirror_mode": "text/x-scala",
   "file_extension": ".scala",
   "mimetype": "text/x-scala",
   "name": "scala",
   "pygments_lexer": "scala",
   "version": "2.11.8"
  }
 },
 "nbformat": 4,
 "nbformat_minor": 2
}
