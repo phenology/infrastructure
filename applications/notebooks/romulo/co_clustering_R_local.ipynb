{
 "cells": [
  {
   "cell_type": "markdown",
   "metadata": {},
   "source": [
    "## Bregman block average co-clustering algorithm.\n",
    "\n",
    "The implementation of Bregman block average co-clustering algorithm (Banerjee et al., 2007) is inpired in the [single node impementation](https://github.com/fnyanez/bbac), [Copyright (c) 2016 Felipe Yanez](https://github.com/fnyanez/bbac/blob/master/LICENSE.md)."
   ]
  },
  {
   "cell_type": "markdown",
   "metadata": {},
   "source": [
    "### Support functions\n",
    "\n",
    "Translation is done using [R documentation about Matrix Algebra](http://www.statmethods.net/advstats/matrix.html)."
   ]
  },
  {
   "cell_type": "markdown",
   "metadata": {},
   "source": [
    "#### R\n",
    "```\n",
    "calculate_average <- function(Left, Z, Right, W, epsilon) {\n",
    "  if (is.null(W)) {\n",
    "      W <- array(1, dim(Z))\n",
    "  } else {\n",
    "      Z <- W * Z\n",
    "  }\n",
    "  numerator <- t(Left) %*% Z %*% Right + mean(Z) * epsilon\n",
    "  denominator <- t(Left) %*% W %*% Right + epsilon\n",
    "  return(numerator/denominator)\n",
    "}\n",
    "```"
   ]
  },
  {
   "cell_type": "code",
   "execution_count": 1,
   "metadata": {},
   "outputs": [],
   "source": [
    "calculate_average <- function(Left, matrixDF, Right, W, epsilon) {\n",
    "    if (is.null(W)) {\n",
    "        #A 2D array, i.e., a Matrix for which each cell is set with the value 1\n",
    "        W <- array(1, dim(matrixDF))\n",
    "    } else {\n",
    "        # Element-wise multiplication\n",
    "        matrixDF <- W * matrixDF\n",
    "    }\n",
    "    # t(Left) is Matrix transpose\n",
    "    # %*% means matrix mutiplication\n",
    "    # mean(matrix) gives a single value which is the mean of all values in the matrix\n",
    "        # y=mean(x,'r') (or, equivalently, y=mean(x,1)) is the rowwise mean.\n",
    "        # y=mean(x,'c') (or, equivalently, y=mean(x,2)) is the columnwise mean. \n",
    "    # Right + means(matrix) is a element-wise addition\n",
    "    numerator <- t(Left) %*% matrixDF %*% Right + mean(matrixDF) * epsilon\n",
    "    \n",
    "    denominator <- t(Left) %*% W %*% Right + epsilon\n",
    "    return(numerator/denominator)\n",
    "}"
   ]
  },
  {
   "cell_type": "markdown",
   "metadata": {
    "collapsed": true
   },
   "source": [
    "#### R\n",
    "\n",
    "```\n",
    "coCavg <- function(dist, row_col, R, Z, C, W, epsilon) {\n",
    "  CoCavg <- calculate_average(R, Z, C, W, epsilon)\n",
    "  if (row_col==\"row\") {\n",
    "    return(list(Zrowc = array(dist, dim(Z)), Zrowv = CoCavg %*% t(C)))\n",
    "  } else if (row_col==\"col\") {\n",
    "    return(list(Zcolc = array(dist, dim(Z)), Zcolv = R %*% CoCavg))\n",
    "  }\n",
    "}\n",
    "```"
   ]
  },
  {
   "cell_type": "code",
   "execution_count": 2,
   "metadata": {},
   "outputs": [],
   "source": [
    "coCavg <- function(dist, row_col, R, matrixDF, C, W, epsilon) {\n",
    "    CoCavg <- calculate_average(R, matrixDF, C, W, epsilon)\n",
    "    if (row_col==\"row\") {\n",
    "        #Creates a list and names the elements. Such names can then be used to access them in an easy way.\n",
    "        return(list(Zrowc = array(dist, dim(matrixDF)), Zrowv = CoCavg %*% t(C)))\n",
    "    } else if (row_col==\"col\") {\n",
    "        return(list(Zcolc = array(dist, dim(matrixDF)), Zcolv = R %*% CoCavg))\n",
    "    }\n",
    "}"
   ]
  },
  {
   "cell_type": "markdown",
   "metadata": {},
   "source": [
    "#### R\n",
    "\n",
    "```\n",
    "similarity_measure <- function(dist, Z, X, Y, W, epsilon) {\n",
    "  if (is.null(W)) W <- array(1, dim(Z))\n",
    "  if (dist==0) {\n",
    "    euc <- function(i) rowSums(W * (Z - X - rep(Y[i,], each = dim(Z)[1]))^2)\n",
    "    return(sapply(1:dim(Y)[1], euc))\n",
    "  } else if (dist==1) {\n",
    "    return((W * X) %*% t(Y + epsilon) - (W * Z) %*% log(t(Y + epsilon)))\n",
    "  }\n",
    "}\n",
    "```"
   ]
  },
  {
   "cell_type": "code",
   "execution_count": 3,
   "metadata": {},
   "outputs": [],
   "source": [
    "similarity_measure <- function(dist, matrixDF, X, Y, W, epsilon) {\n",
    "    if (is.null(W))\n",
    "        W <- array(1, dim(matrixDF))\n",
    "    if (dist==0) {\n",
    "        # rowSums sum values of Raster objects.\n",
    "        # rep vector several times, but with each we repeat the values, in this case has many as the matrixDF rows\n",
    "        #> rep(1:4, 2)\n",
    "        #  [1] 1 2 3 4 1 2 3 4\n",
    "        # > rep(1:4, each = 2)       # not the same.\n",
    "        #  [1] 1 1 2 2 3 3 4 4\n",
    "        euc <- function(i) rowSums(W * (matrixDF - X - rep(Y[i,], each = dim(matrixDF)[1]))^2)\n",
    "            return(sapply(1:dim(Y)[1], euc))\n",
    "    } else if (dist==1) {\n",
    "        # log(t(Y + epsilon)): sum epsilon to all elements of Y, transpose it and do the log to each element of the transpose matrix  \n",
    "        return((W * X) %*% t(Y + epsilon) - (W * Z) %*% log(t(Y + epsilon)))\n",
    "    }\n",
    "}"
   ]
  },
  {
   "cell_type": "markdown",
   "metadata": {},
   "source": [
    "#### R\n",
    "\n",
    "```\n",
    "assign_cluster <- function(dist, Z, X, Y, W, epsilon) {\n",
    "  D <- similarity_measure(dist, Z, X, Y, W, epsilon)\n",
    "  id <- sapply(1:dim(D)[1], function(i) sort(D[i,], index.return = TRUE)$ix[1])\n",
    "  res <- sapply(1:dim(D)[1], function(i) sort(D[i,])[1]^(2-dist))\n",
    "  return(list(Cluster = diag(dim(Y)[1])[id,], Error = sum(res)))\n",
    "}\n",
    "```"
   ]
  },
  {
   "cell_type": "code",
   "execution_count": 4,
   "metadata": {},
   "outputs": [],
   "source": [
    "assign_cluster <- function(dist, matrixDF, X, Y, W, epsilon) {\n",
    "    D <- similarity_measure(dist, matrixDF, X, Y, W, epsilon)\n",
    "    # apply(Matrix, <row or col>, func) -> <row or col> 1 is row-wise, 2 is col-wise\n",
    "    # sapply is like lapply (it applies a function to each element of a list and the result is also a list) consumes data as a vector. \n",
    "    # dim(D)[1] gives number of rows.\n",
    "    # sort a each row increasing order and return index, we get the indice of the highest value \n",
    "    id <- sapply(1:dim(D)[1], function(i) sort(D[i,], index.return = TRUE)$ix[1])\n",
    "    res <- sapply(1:dim(D)[1], function(i) sort(D[i,])[1]^(2-dist))\n",
    "    \n",
    "    # Create an identity matrix, diag(dim(Y)[1]), which has num_rows and num_cols = dim(Y)[1], i.e., number of rows of Y, and set diagonal to 1.\n",
    "    # dim(Y)[1])[id,] -> Give me the row from the identity matrix which has indice \"id\"\n",
    "    return(list(Cluster = diag(dim(Y)[1])[id,], Error = sum(res)))\n",
    "}"
   ]
  },
  {
   "cell_type": "markdown",
   "metadata": {},
   "source": [
    "### BBAC\n",
    "```\n",
    "Z - m x n data matrix, \n",
    "W - m x n measure matrix, \n",
    "k - num row clusters,\n",
    "l - num col clusters\n",
    "```"
   ]
  },
  {
   "cell_type": "code",
   "execution_count": 5,
   "metadata": {},
   "outputs": [],
   "source": [
    "bbac <- function(Z, k, l, W = NULL, distance = \"euclidean\", errobj = 1e-6, niters = 100, nruns = 5, epsilon = 1e-8) {\n",
    "  \n",
    "  error <- Inf\n",
    "  error_now <- Inf\n",
    "  dist <- pmatch(tolower(distance), c(\"euclidean\",\"divergence\")) - 1\n",
    "  \n",
    "  for (r in 1:nruns) {\n",
    "    \n",
    "    # Initialization of R and C\n",
    "      \n",
    "    #Create an identity matrix\n",
    "      # Get row which is a random sample (betwewn numRowC and num of rows) with replacement\n",
    "    R <- diag(k)[base::sample(k, dim(Z)[1], replace = TRUE),]\n",
    "    C <- diag(l)[base::sample(l, dim(Z)[2], replace = TRUE),]\n",
    "    \n",
    "    for (s in 1:niters) {\n",
    "      \n",
    "      # Row estimation\n",
    "      rs <- coCavg(dist, \"row\", R, Z, C, W, epsilon)\n",
    "      ra <- assign_cluster(dist, Z, rs$Zrowc, rs$Zrowv, W, epsilon)\n",
    "      R  <- ra$Cluster\n",
    "      \n",
    "      # Column estimation\n",
    "      cs <- coCavg(dist, \"col\", R, Z, C, W, epsilon)\n",
    "      ca <- assign_cluster(dist, t(Z), t(cs$Zcolc), t(cs$Zcolv), W, epsilon)\n",
    "      C  <- ca$Cluster\n",
    "      \n",
    "      # \n",
    "      if (abs(ca$Error - error_now) < errobj) {\n",
    "        status <- paste(\"converged in\",s,\"iterations\")\n",
    "        return(list(R = R, C = C, status = status))\n",
    "      }\n",
    "      \n",
    "      # Update objective value\n",
    "      error_now <- ca$Error\n",
    "      \n",
    "    }\n",
    "    \n",
    "    # Keep pair with min error\n",
    "    if (error_now < error) {\n",
    "      R_star <- R\n",
    "      C_star <- C\n",
    "      error <- error_now\n",
    "    }\n",
    "    \n",
    "  }\n",
    "  \n",
    "  status <- paste(\"reached maximum of\", niters, \"iterations\")\n",
    "  return(list(R = R_star, C = C_star, status = status))\n",
    "  \n",
    "}"
   ]
  },
  {
   "cell_type": "markdown",
   "metadata": {},
   "source": [
    "### Load Data\n",
    "\n",
    "The data will be loaded from a matrix create in Scala and saved as Parquet file."
   ]
  },
  {
   "cell_type": "markdown",
   "metadata": {},
   "source": [
    "#### Simulated matrix"
   ]
  },
  {
   "cell_type": "code",
   "execution_count": 6,
   "metadata": {},
   "outputs": [],
   "source": [
    "set.seed(1)\n",
    "Z <- matrix(rep(1:4, 25), 10, 10)"
   ]
  },
  {
   "cell_type": "markdown",
   "metadata": {},
   "source": [
    "#### GeoTiffs"
   ]
  },
  {
   "cell_type": "code",
   "execution_count": 7,
   "metadata": {},
   "outputs": [
    {
     "name": "stderr",
     "output_type": "stream",
     "text": [
      "Loading required package: sp\n"
     ]
    }
   ],
   "source": [
    "library(raster)"
   ]
  },
  {
   "cell_type": "markdown",
   "metadata": {},
   "source": [
    "#### Load Mask"
   ]
  },
  {
   "cell_type": "code",
   "execution_count": 8,
   "metadata": {},
   "outputs": [],
   "source": [
    "#mask <- raster('/data/local/home/pheno/data/usa_state_masks/california.tif', band=1)\n",
    "mask <- raster('/data/local/home/pheno/data/usa_state_masks/connecticut.tif', band=1)\n",
    "#mask <- raster('/data/local/home/pheno/data/usa_state_masks/rhodeIsland.tif', band=1)"
   ]
  },
  {
   "cell_type": "code",
   "execution_count": 9,
   "metadata": {},
   "outputs": [],
   "source": [
    "rMask <- as.vector(as.matrix(mask))\n",
    "#mask_index <- which(!is.na(rMask))"
   ]
  },
  {
   "cell_type": "markdown",
   "metadata": {},
   "source": [
    "#### Load GeoTiffs"
   ]
  },
  {
   "cell_type": "code",
   "execution_count": 10,
   "metadata": {},
   "outputs": [],
   "source": [
    "r1980 <- raster('/data/local/home/pheno/data/spring-index/light/BloomFinal/1980.tif', band=4)\n",
    "r1981 <- raster('/data/local/home/pheno/data/spring-index/light/BloomFinal/1981.tif', band=4)\n",
    "r1982 <- raster('/data/local/home/pheno/data/spring-index/light/BloomFinal/1982.tif', band=4)\n",
    "r1983 <- raster('/data/local/home/pheno/data/spring-index/light/BloomFinal/1983.tif', band=4)"
   ]
  },
  {
   "cell_type": "code",
   "execution_count": 11,
   "metadata": {},
   "outputs": [
    {
     "data": {
      "text/plain": [
       "class       : RasterLayer \n",
       "band        : 4  (of  4  bands)\n",
       "dimensions  : 3892, 7808, 30388736  (nrow, ncol, ncell)\n",
       "resolution  : 0.008983153, 0.008983153  (x, y)\n",
       "extent      : -126.3031, -56.16267, 14.2922, 49.25463  (xmin, xmax, ymin, ymax)\n",
       "coord. ref. : +proj=longlat +datum=WGS84 +no_defs +ellps=WGS84 +towgs84=0,0,0 \n",
       "data source : /data/local/home/pheno/data/spring-index/light/BloomFinal/1980.tif \n",
       "names       : X1980 \n"
      ]
     },
     "metadata": {},
     "output_type": "display_data"
    }
   ],
   "source": [
    "r1980"
   ]
  },
  {
   "cell_type": "markdown",
   "metadata": {},
   "source": [
    "#### Apply mask"
   ]
  },
  {
   "cell_type": "code",
   "execution_count": 12,
   "metadata": {},
   "outputs": [],
   "source": [
    "r1980M <- mask(r1980, mask)\n",
    "r1981M <- mask(r1981, mask)\n",
    "r1982M <- mask(r1982, mask)\n",
    "r1983M <- mask(r1983, mask)"
   ]
  },
  {
   "cell_type": "markdown",
   "metadata": {},
   "source": [
    "#### To Matrix"
   ]
  },
  {
   "cell_type": "code",
   "execution_count": 13,
   "metadata": {},
   "outputs": [],
   "source": [
    "m1980 <- as.matrix(r1980M)\n",
    "m1981 <- as.matrix(r1981M)\n",
    "m1982 <- as.matrix(r1982M)\n",
    "m1983 <- as.matrix(r1983M)"
   ]
  },
  {
   "cell_type": "markdown",
   "metadata": {},
   "source": [
    "#### To Vector\n",
    "\n",
    "To Vector concatenates column by column. If you need to do row by row, you need to transpose it."
   ]
  },
  {
   "cell_type": "code",
   "execution_count": 14,
   "metadata": {},
   "outputs": [],
   "source": [
    "v1980 <- as.vector(m1980)\n",
    "v1981 <- as.vector(m1981)\n",
    "v1982 <- as.vector(m1982)\n",
    "v1983 <- as.vector(m1983)"
   ]
  },
  {
   "cell_type": "markdown",
   "metadata": {},
   "source": [
    "#### Create Input Matrix"
   ]
  },
  {
   "cell_type": "code",
   "execution_count": 30,
   "metadata": {},
   "outputs": [
    {
     "data": {
      "text/html": [
       "<ol class=list-inline>\n",
       "\t<li>16999</li>\n",
       "\t<li>4</li>\n",
       "</ol>\n"
      ],
      "text/latex": [
       "\\begin{enumerate*}\n",
       "\\item 16999\n",
       "\\item 4\n",
       "\\end{enumerate*}\n"
      ],
      "text/markdown": [
       "1. 16999\n",
       "2. 4\n",
       "\n",
       "\n"
      ],
      "text/plain": [
       "[1] 16999     4"
      ]
     },
     "metadata": {},
     "output_type": "display_data"
    }
   ],
   "source": [
    "Zindex <- which(!is.na(v1980))\n",
    "Z <- cbind( v1980[!is.na(v1980)], v1981[!is.na(v1981)], v1982[!is.na(v1982)], v1983[!is.na(v1983)])\n",
    "dim(Z)"
   ]
  },
  {
   "cell_type": "markdown",
   "metadata": {
    "collapsed": true
   },
   "source": [
    "### Run "
   ]
  },
  {
   "cell_type": "code",
   "execution_count": 16,
   "metadata": {},
   "outputs": [],
   "source": [
    "# Run co-clustering algorithm\n",
    "K <- 200\n",
    "L <- 3\n",
    "bbac_res <- bbac(Z, k = K, l = L, distance = \"e\")"
   ]
  },
  {
   "cell_type": "code",
   "execution_count": 17,
   "metadata": {},
   "outputs": [
    {
     "data": {
      "text/html": [
       "'converged in 34 iterations'"
      ],
      "text/latex": [
       "'converged in 34 iterations'"
      ],
      "text/markdown": [
       "'converged in 34 iterations'"
      ],
      "text/plain": [
       "[1] \"converged in 34 iterations\""
      ]
     },
     "metadata": {},
     "output_type": "display_data"
    }
   ],
   "source": [
    "R <- bbac_res$R\n",
    "C <- bbac_res$C\n",
    "bbac_res$status"
   ]
  },
  {
   "cell_type": "markdown",
   "metadata": {},
   "source": [
    "### Clean results\n",
    "Remove the groups which contains zero elements and for each cell get the row-group ID."
   ]
  },
  {
   "cell_type": "markdown",
   "metadata": {},
   "source": [
    "#### R"
   ]
  },
  {
   "cell_type": "code",
   "execution_count": 18,
   "metadata": {},
   "outputs": [],
   "source": [
    "#dim(R)\n",
    "\n",
    "#We go to remove of row-groups with 0 rows assigned\n",
    "RT <- t(R)\n",
    "RTRowSums <- rowSums(RT)\n",
    "RTClean <- RT[which(RTRowSums > 0),]\n",
    "row_clus_num <- dim(RTClean)[1]\n",
    "\n",
    "#Collect the row-group indice for each row\n",
    "R <- t(RTClean)\n",
    "rIndices <- which(R > 0, arr.in=TRUE)\n",
    "rFrame <- as.data.frame(rIndices)\n",
    "colnames(rFrame) <- c(\"cell\", \"row_clus\")"
   ]
  },
  {
   "cell_type": "markdown",
   "metadata": {},
   "source": [
    "#### C"
   ]
  },
  {
   "cell_type": "code",
   "execution_count": 19,
   "metadata": {},
   "outputs": [],
   "source": [
    "#dim(C)\n",
    "\n",
    "#We go to remove of col-groups with 0 rows assigned\n",
    "CT <- t(C)\n",
    "CTRowSums <- rowSums(CT)\n",
    "CTClean <- CT[which(CTRowSums > 0),]\n",
    "col_clus_num <- dim(CTClean)[1]\n",
    "\n",
    "\n",
    "#Collect the col-group indice for each col\n",
    "C <- t(CTClean)\n",
    "cIndices <- which(C > 0, arr.in=TRUE)\n",
    "cFrame <- as.data.frame(cIndices)\n",
    "colnames(cFrame) <- c(\"year\",\"col_clus\")"
   ]
  },
  {
   "cell_type": "markdown",
   "metadata": {},
   "source": [
    "### Create co_cluster matrix for Kmeans"
   ]
  },
  {
   "cell_type": "code",
   "execution_count": 20,
   "metadata": {},
   "outputs": [],
   "source": [
    "all_years <- seq(1,dim(Z)[2], 1)\n",
    "all_cells <- seq(1,dim(Z)[1], 1)\n",
    "\n",
    "co_clusters <- matrix(, row_clus_num, col_clus_num)\n",
    "\n",
    "for (col_clus_ID in (1:col_clus_num)){\n",
    "    years <- cFrame[cFrame$col_clus == col_clus_ID,]$year\n",
    "    for (row_clus_ID in (1:row_clus_num)) {\n",
    "        cells <- rFrame[rFrame$row_clus == row_clus_ID,]$cell\n",
    "\n",
    "        #mask_clust[row_clus_ID, col_clus_ID] \n",
    "        other_years <- !(all_years %in% (years))\n",
    "        other_cells <- !(all_cells %in% (cells))\n",
    "        co_clusters[row_clus_ID, col_clus_ID] <- round(mean(Z[other_cells, other_years]))\n",
    "    }\n",
    "}\n",
    "#co_clusters"
   ]
  },
  {
   "cell_type": "markdown",
   "metadata": {},
   "source": [
    "### Build a matrix for each col_cluster with average spring-index"
   ]
  },
  {
   "cell_type": "code",
   "execution_count": 22,
   "metadata": {},
   "outputs": [],
   "source": [
    "col_clus_matrices <- matrix(, dim(Z)[1], col_clus_num)\n",
    "\n",
    "for (col_clus_ID in (1:col_clus_num)){\n",
    "    for (row_clus_ID in (1:row_clus_num)) {      \n",
    "        #Set all the cells in row_clus_ID to the average value or co_cluster_ID\n",
    "        cells_to_set <- rFrame[rFrame$row_clus == row_clus_ID,]$cell\n",
    "        \n",
    "        #Set co_cluster average\n",
    "        col_clus_matrices[cells_to_set, col_clus_ID] = co_clusters[row_clus_ID, col_clus_ID]\n",
    "    }\n",
    "}"
   ]
  },
  {
   "cell_type": "markdown",
   "metadata": {},
   "source": [
    "### Build Rasters"
   ]
  },
  {
   "cell_type": "code",
   "execution_count": 41,
   "metadata": {},
   "outputs": [
    {
     "data": {
      "image/png": "[encoded data removed]",
      "text/plain": [
       "Plot with title “2”"
      ]
     },
     "metadata": {},
     "output_type": "display_data"
    },
    {
     "data": {
      "image/png": "[encoded data removed]"
     },
     "metadata": {},
     "output_type": "display_data"
    },
    {
     "data": {
      "image/png": "[encoded data removed]",
      "text/plain": [
       "Plot with title “3”"
      ]
     },
     "metadata": {},
     "output_type": "display_data"
    }
   ],
   "source": [
    "rasters <- vector(\"list\", col_clus_num)\n",
    "for (col_clus_ID in (1:col_clus_num)){\n",
    "    years <- cFrame[cFrame$col_clus == col_clus_ID,]$year\n",
    "    \n",
    "    res <- rep(NA, ncell(mask))\n",
    "    res[Zindex] = col_clus_matrices[,col_clus_ID]\n",
    "    mat <- matrix(res, nrow(mask), ncol(mask))\n",
    "    raster <- raster(mat)\n",
    "    projection(raster) <- projection(mask)\n",
    "    extent(raster) <- extent(mask)\n",
    "    res(raster) <- res(mask)\n",
    "    plot(raster, main = years)\n",
    "    #readline(prompt=\"Press [enter] to continue once you see a plot!!!\")\n",
    "}"
   ]
  },
  {
   "cell_type": "markdown",
   "metadata": {},
   "source": [
    "## Kmeans"
   ]
  },
  {
   "cell_type": "code",
   "execution_count": 55,
   "metadata": {},
   "outputs": [
    {
     "data": {
      "text/plain": [
       "K-means clustering with 2 clusters of sizes 33, 5\n",
       "\n",
       "Cluster means:\n",
       "  [,1] [,2]  [,3]\n",
       "1  129  127 127.0\n",
       "2  129  128 127.2\n",
       "\n",
       "Clustering vector:\n",
       " [1] 2 1 1 2 1 1 1 1 1 2 1 1 1 1 1 1 1 1 1 1 1 1 1 2 1 1 1 1 1 1 1 1 1 1 1 2 1 1\n",
       "\n",
       "Within cluster sum of squares by cluster:\n",
       "[1] 0.0 0.8\n",
       " (between_SS / total_SS =  85.0 %)\n",
       "\n",
       "Available components:\n",
       "\n",
       "[1] \"cluster\"      \"centers\"      \"totss\"        \"withinss\"     \"tot.withinss\"\n",
       "[6] \"betweenss\"    \"size\"         \"iter\"         \"ifault\"      "
      ]
     },
     "metadata": {},
     "output_type": "display_data"
    },
    {
     "data": {
      "image/png": "[encoded data removed]",
      "text/plain": [
       "plot without title"
      ]
     },
     "metadata": {},
     "output_type": "display_data"
    }
   ],
   "source": [
    "(cl <- kmeans(co_clusters, 2, nstart = 25))\n",
    "plot(co_clusters, col = cl$cluster)\n",
    "points(cl$centers, col = 1:5, pch = 8)"
   ]
  },
  {
   "cell_type": "markdown",
   "metadata": {},
   "source": [
    "### Build matrix with kmeans results"
   ]
  },
  {
   "cell_type": "code",
   "execution_count": 56,
   "metadata": {},
   "outputs": [],
   "source": [
    "kmeans_vector = array(, dim(Z)[1])\n",
    "\n",
    "for (row_clus_ID in (1:row_clus_num)) {      \n",
    "    #Set to cluster_ID\n",
    "    cells_to_set <- rFrame[rFrame$row_clus == row_clus_ID,]$cell\n",
    "    \n",
    "    #Set to centroid value\n",
    "    #\n",
    "    \n",
    "    kmeans_vector[cells_to_set] = cl$cluster[row_clus_ID]\n",
    "}\n"
   ]
  },
  {
   "cell_type": "markdown",
   "metadata": {},
   "source": [
    "### Plot Kmeans"
   ]
  },
  {
   "cell_type": "code",
   "execution_count": 57,
   "metadata": {},
   "outputs": [
    {
     "data": {
      "image/png": "[encoded data removed]",
      "text/plain": [
       "Plot with title “”"
      ]
     },
     "metadata": {},
     "output_type": "display_data"
    }
   ],
   "source": [
    "res <- rep(NA, ncell(mask))\n",
    "res[Zindex] = kmeans_vector\n",
    "mat <- matrix(res, nrow(mask), ncol(mask))\n",
    "raster <- raster(mat)\n",
    "projection(raster) <- projection(mask)\n",
    "extent(raster) <- extent(mask)\n",
    "res(raster) <- res(mask)\n",
    "plot(raster)"
   ]
  },
  {
   "cell_type": "code",
   "execution_count": null,
   "metadata": {},
   "outputs": [],
   "source": []
  }
 ],
 "metadata": {
  "kernelspec": {
   "display_name": "R",
   "language": "R",
   "name": "ir"
  },
  "language_info": {
   "codemirror_mode": "r",
   "file_extension": ".r",
   "mimetype": "text/x-r-source",
   "name": "R",
   "pygments_lexer": "r",
   "version": "3.4.1"
  }
 },
 "nbformat": 4,
 "nbformat_minor": 2
}
