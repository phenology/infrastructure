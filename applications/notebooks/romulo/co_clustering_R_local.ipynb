{
 "cells": [
  {
   "cell_type": "markdown",
   "metadata": {},
   "source": [
    "## Bregman block average co-clustering algorithm.\n",
    "\n",
    "The implementation of Bregman block average co-clustering algorithm (Banerjee et al., 2007) is inpired in the [single node impementation](https://github.com/fnyanez/bbac), [Copyright (c) 2016 Felipe Yanez](https://github.com/fnyanez/bbac/blob/master/LICENSE.md)."
   ]
  },
  {
   "cell_type": "markdown",
   "metadata": {},
   "source": [
    "### Support functions\n",
    "\n",
    "Translation is done using [R documentation about Matrix Algebra](http://www.statmethods.net/advstats/matrix.html)."
   ]
  },
  {
   "cell_type": "markdown",
   "metadata": {},
   "source": [
    "#### R\n",
    "```\n",
    "calculate_average <- function(Left, Z, Right, W, epsilon) {\n",
    "  if (is.null(W)) {\n",
    "      W <- array(1, dim(Z))\n",
    "  } else {\n",
    "      Z <- W * Z\n",
    "  }\n",
    "  numerator <- t(Left) %*% Z %*% Right + mean(Z) * epsilon\n",
    "  denominator <- t(Left) %*% W %*% Right + epsilon\n",
    "  return(numerator/denominator)\n",
    "}\n",
    "```"
   ]
  },
  {
   "cell_type": "code",
   "execution_count": 202,
   "metadata": {},
   "outputs": [],
   "source": [
    "calculate_average <- function(Left, matrixDF, Right, W, epsilon) {\n",
    "    if (is.null(W)) {\n",
    "        #A 2D array, i.e., a Matrix for which each cell is set with the value 1\n",
    "        W <- array(1, dim(matrixDF))\n",
    "    } else {\n",
    "        # Element-wise multiplication\n",
    "        matrixDF <- W * matrixDF\n",
    "    }\n",
    "    # t(Left) is Matrix transpose\n",
    "    # %*% means matrix mutiplication\n",
    "    # mean(matrix) gives a single value which is the mean of all values in the matrix\n",
    "        # y=mean(x,'r') (or, equivalently, y=mean(x,1)) is the rowwise mean.\n",
    "        # y=mean(x,'c') (or, equivalently, y=mean(x,2)) is the columnwise mean. \n",
    "    # Right + means(matrix) is a element-wise addition\n",
    "    numerator <- t(Left) %*% matrixDF %*% Right + mean(matrixDF) * epsilon\n",
    "    \n",
    "    denominator <- t(Left) %*% W %*% Right + epsilon\n",
    "    return(numerator/denominator)\n",
    "}"
   ]
  },
  {
   "cell_type": "markdown",
   "metadata": {
    "collapsed": true
   },
   "source": [
    "#### R\n",
    "\n",
    "```\n",
    "coCavg <- function(dist, row_col, R, Z, C, W, epsilon) {\n",
    "  CoCavg <- calculate_average(R, Z, C, W, epsilon)\n",
    "  if (row_col==\"row\") {\n",
    "    return(list(Zrowc = array(dist, dim(Z)), Zrowv = CoCavg %*% t(C)))\n",
    "  } else if (row_col==\"col\") {\n",
    "    return(list(Zcolc = array(dist, dim(Z)), Zcolv = R %*% CoCavg))\n",
    "  }\n",
    "}\n",
    "```"
   ]
  },
  {
   "cell_type": "code",
   "execution_count": 203,
   "metadata": {},
   "outputs": [],
   "source": [
    "coCavg <- function(dist, row_col, R, matrixDF, C, W, epsilon) {\n",
    "    CoCavg <- calculate_average(R, matrixDF, C, W, epsilon)\n",
    "    if (row_col==\"row\") {\n",
    "        #Creates a list and names the elements. Such names can then be used to access them in an easy way.\n",
    "        return(list(Zrowc = array(dist, dim(matrixDF)), Zrowv = CoCavg %*% t(C)))\n",
    "    } else if (row_col==\"col\") {\n",
    "        return(list(Zcolc = array(dist, dim(matrixDF)), Zcolv = R %*% CoCavg))\n",
    "    }\n",
    "}"
   ]
  },
  {
   "cell_type": "markdown",
   "metadata": {},
   "source": [
    "#### R\n",
    "\n",
    "```\n",
    "similarity_measure <- function(dist, Z, X, Y, W, epsilon) {\n",
    "  if (is.null(W)) W <- array(1, dim(Z))\n",
    "  if (dist==0) {\n",
    "    euc <- function(i) rowSums(W * (Z - X - rep(Y[i,], each = dim(Z)[1]))^2)\n",
    "    return(sapply(1:dim(Y)[1], euc))\n",
    "  } else if (dist==1) {\n",
    "    return((W * X) %*% t(Y + epsilon) - (W * Z) %*% log(t(Y + epsilon)))\n",
    "  }\n",
    "}\n",
    "```"
   ]
  },
  {
   "cell_type": "code",
   "execution_count": 204,
   "metadata": {},
   "outputs": [],
   "source": [
    "similarity_measure <- function(dist, matrixDF, X, Y, W, epsilon) {\n",
    "    if (is.null(W))\n",
    "        W <- array(1, dim(matrixDF))\n",
    "    if (dist==0) {\n",
    "        # rowSums sum values of Raster objects.\n",
    "        # rep vector several times, but with each we repeat the values, in this case has many as the matrixDF rows\n",
    "        #> rep(1:4, 2)\n",
    "        #  [1] 1 2 3 4 1 2 3 4\n",
    "        # > rep(1:4, each = 2)       # not the same.\n",
    "        #  [1] 1 1 2 2 3 3 4 4\n",
    "        euc <- function(i) rowSums(W * (matrixDF - X - rep(Y[i,], each = dim(matrixDF)[1]))^2)\n",
    "            return(sapply(1:dim(Y)[1], euc))\n",
    "    } else if (dist==1) {\n",
    "        # log(t(Y + epsilon)): sum epsilon to all elements of Y, transpose it and do the log to each element of the transpose matrix  \n",
    "        return((W * X) %*% t(Y + epsilon) - (W * Z) %*% log(t(Y + epsilon)))\n",
    "    }\n",
    "}"
   ]
  },
  {
   "cell_type": "markdown",
   "metadata": {},
   "source": [
    "#### R\n",
    "\n",
    "```\n",
    "assign_cluster <- function(dist, Z, X, Y, W, epsilon) {\n",
    "  D <- similarity_measure(dist, Z, X, Y, W, epsilon)\n",
    "  id <- sapply(1:dim(D)[1], function(i) sort(D[i,], index.return = TRUE)$ix[1])\n",
    "  res <- sapply(1:dim(D)[1], function(i) sort(D[i,])[1]^(2-dist))\n",
    "  return(list(Cluster = diag(dim(Y)[1])[id,], Error = sum(res)))\n",
    "}\n",
    "```"
   ]
  },
  {
   "cell_type": "code",
   "execution_count": 205,
   "metadata": {},
   "outputs": [],
   "source": [
    "assign_cluster <- function(dist, matrixDF, X, Y, W, epsilon) {\n",
    "    D <- similarity_measure(dist, matrixDF, X, Y, W, epsilon)\n",
    "    # apply(Matrix, <row or col>, func) -> <row or col> 1 is row-wise, 2 is col-wise\n",
    "    # sapply is like lapply (it applies a function to each element of a list and the result is also a list) consumes data as a vector. \n",
    "    # dim(D)[1] gives number of rows.\n",
    "    # sort a each row increasing order and return index, we get the indice of the highest value \n",
    "    id <- sapply(1:dim(D)[1], function(i) sort(D[i,], index.return = TRUE)$ix[1])\n",
    "    res <- sapply(1:dim(D)[1], function(i) sort(D[i,])[1]^(2-dist))\n",
    "    \n",
    "    # Create an identity matrix, diag(dim(Y)[1]), which has num_rows and num_cols = dim(Y)[1], i.e., number of rows of Y, and set diagonal to 1.\n",
    "    # dim(Y)[1])[id,] -> Give me the row from the identity matrix which has indice \"id\"\n",
    "    return(list(Cluster = diag(dim(Y)[1])[id,], Error = sum(res)))\n",
    "}"
   ]
  },
  {
   "cell_type": "markdown",
   "metadata": {},
   "source": [
    "### BBAC\n",
    "```\n",
    "Z - m x n data matrix, \n",
    "W - m x n measure matrix, \n",
    "k - num row clusters,\n",
    "l - num col clusters\n",
    "```"
   ]
  },
  {
   "cell_type": "code",
   "execution_count": 206,
   "metadata": {},
   "outputs": [],
   "source": [
    "bbac <- function(Z, k, l, W = NULL, distance = \"euclidean\", errobj = 1e-6, niters = 100, nruns = 5, epsilon = 1e-8) {\n",
    "  \n",
    "  error <- Inf\n",
    "  error_now <- Inf\n",
    "  dist <- pmatch(tolower(distance), c(\"euclidean\",\"divergence\")) - 1\n",
    "  \n",
    "  for (r in 1:nruns) {\n",
    "    \n",
    "    # Initialization of R and C\n",
    "      \n",
    "    #Create an identity matrix\n",
    "      # Get row which is a random sample (betwewn numRowC and num of rows) with replacement\n",
    "    R <- diag(k)[base::sample(k, dim(Z)[1], replace = TRUE),]\n",
    "    C <- diag(l)[base::sample(l, dim(Z)[2], replace = TRUE),]\n",
    "    \n",
    "    for (s in 1:niters) {\n",
    "      \n",
    "      # Row estimation\n",
    "      rs <- coCavg(dist, \"row\", R, Z, C, W, epsilon)\n",
    "      ra <- assign_cluster(dist, Z, rs$Zrowc, rs$Zrowv, W, epsilon)\n",
    "      R  <- ra$Cluster\n",
    "      \n",
    "      # Column estimation\n",
    "      cs <- coCavg(dist, \"col\", R, Z, C, W, epsilon)\n",
    "      ca <- assign_cluster(dist, t(Z), t(cs$Zcolc), t(cs$Zcolv), W, epsilon)\n",
    "      C  <- ca$Cluster\n",
    "      \n",
    "      # \n",
    "      if (abs(ca$Error - error_now) < errobj) {\n",
    "        status <- paste(\"converged in\",s,\"iterations\")\n",
    "        return(list(R = R, C = C, status = status))\n",
    "      }\n",
    "      \n",
    "      # Update objective value\n",
    "      error_now <- ca$Error\n",
    "      \n",
    "    }\n",
    "    \n",
    "    # Keep pair with min error\n",
    "    if (error_now < error) {\n",
    "      R_star <- R\n",
    "      C_star <- C\n",
    "      error <- error_now\n",
    "    }\n",
    "    \n",
    "  }\n",
    "  \n",
    "  status <- paste(\"reached maximum of\", niters, \"iterations\")\n",
    "  return(list(R = R_star, C = C_star, status = status))\n",
    "  \n",
    "}"
   ]
  },
  {
   "cell_type": "markdown",
   "metadata": {},
   "source": [
    "### Load Data\n",
    "\n",
    "The data will be loaded from a matrix create in Scala and saved as Parquet file."
   ]
  },
  {
   "cell_type": "markdown",
   "metadata": {},
   "source": [
    "#### Simulated matrix"
   ]
  },
  {
   "cell_type": "code",
   "execution_count": 207,
   "metadata": {},
   "outputs": [],
   "source": [
    "set.seed(1)\n",
    "Z <- matrix(rep(1:4, 25), 10, 10)"
   ]
  },
  {
   "cell_type": "markdown",
   "metadata": {},
   "source": [
    "#### GeoTiffs"
   ]
  },
  {
   "cell_type": "code",
   "execution_count": 208,
   "metadata": {},
   "outputs": [],
   "source": [
    "library(raster)"
   ]
  },
  {
   "cell_type": "markdown",
   "metadata": {},
   "source": [
    "#### Load Mask"
   ]
  },
  {
   "cell_type": "code",
   "execution_count": 209,
   "metadata": {},
   "outputs": [],
   "source": [
    "mask <- raster('/data/local/home/pheno/data/usa_state_masks/california.tif', band=1)\n",
    "#mask <- raster('/data/local/home/pheno/data/usa_state_masks/connecticut.tif', band=1)\n",
    "#mask <- raster('/data/local/home/pheno/data/usa_state_masks/rhodeIsland.tif', band=1)"
   ]
  },
  {
   "cell_type": "code",
   "execution_count": 210,
   "metadata": {},
   "outputs": [],
   "source": [
    "rMask <- as.vector(as.matrix(mask))\n",
    "mask_index <- which(!is.na(rMask))"
   ]
  },
  {
   "cell_type": "markdown",
   "metadata": {},
   "source": [
    "#### Load GeoTiffs"
   ]
  },
  {
   "cell_type": "code",
   "execution_count": 211,
   "metadata": {},
   "outputs": [],
   "source": [
    "r1980 <- raster('/data/local/home/pheno/data/spring-index/light/BloomFinal/1980.tif', band=4)\n",
    "r1981 <- raster('/data/local/home/pheno/data/spring-index/light/BloomFinal/1980.tif', band=4)\n",
    "r1982 <- raster('/data/local/home/pheno/data/spring-index/light/BloomFinal/1980.tif', band=4)\n",
    "r1983 <- raster('/data/local/home/pheno/data/spring-index/light/BloomFinal/1980.tif', band=4)"
   ]
  },
  {
   "cell_type": "code",
   "execution_count": 215,
   "metadata": {},
   "outputs": [
    {
     "data": {
      "text/plain": [
       "class       : RasterLayer \n",
       "band        : 4  (of  4  bands)\n",
       "dimensions  : 3892, 7808, 30388736  (nrow, ncol, ncell)\n",
       "resolution  : 0.008983153, 0.008983153  (x, y)\n",
       "extent      : -126.3031, -56.16267, 14.2922, 49.25463  (xmin, xmax, ymin, ymax)\n",
       "coord. ref. : +proj=longlat +datum=WGS84 +no_defs +ellps=WGS84 +towgs84=0,0,0 \n",
       "data source : /data/local/home/pheno/data/spring-index/light/BloomFinal/1980.tif \n",
       "names       : X1980 \n"
      ]
     },
     "metadata": {},
     "output_type": "display_data"
    }
   ],
   "source": [
    "r1980"
   ]
  },
  {
   "cell_type": "markdown",
   "metadata": {},
   "source": [
    "#### Apply mask"
   ]
  },
  {
   "cell_type": "code",
   "execution_count": 212,
   "metadata": {},
   "outputs": [
    {
     "name": "stderr",
     "output_type": "stream",
     "text": [
      "Warning message in writeBin(v, x@file@con, size = x@file@dsize):\n",
      "“problem writing to connection”Warning message in writeBin(v, x@file@con, size = x@file@dsize):\n",
      "“problem writing to connection”Warning message in writeBin(v, x@file@con, size = x@file@dsize):\n",
      "“problem writing to connection”Warning message in writeBin(v, x@file@con, size = x@file@dsize):\n",
      "“problem writing to connection”"
     ]
    },
    {
     "ename": "ERROR",
     "evalue": "Error in matrix(unlist(ini), ncol = 2, byrow = TRUE): 'data' must be of a vector type, was 'NULL'\n",
     "output_type": "error",
     "traceback": [
      "Error in matrix(unlist(ini), ncol = 2, byrow = TRUE): 'data' must be of a vector type, was 'NULL'\nTraceback:\n",
      "1. mask(r1980, mask)",
      "2. mask(r1980, mask)",
      "3. .local(x, mask, ...)",
      "4. writeStop(out)",
      "5. writeStop(out)",
      "6. .stopRasterWriting(x)",
      "7. raster(filename, native = TRUE)",
      "8. raster(filename, native = TRUE)",
      "9. .local(x, ...)",
      "10. .rasterObjectFromFile(x, band = band, objecttype = \"RasterLayer\", \n  .     ...)",
      "11. .rasterFromRasterFile(grdfile, band = band, objecttype, ...)",
      "12. readIniFile(filename)",
      "13. matrix(unlist(ini), ncol = 2, byrow = TRUE)"
     ]
    }
   ],
   "source": [
    "r1980M <- mask(r1980, mask)\n",
    "r1981M <- mask(r1981, mask)\n",
    "r1982M <- mask(r1982, mask)\n",
    "r1983M <- mask(r1983, mask)"
   ]
  },
  {
   "cell_type": "markdown",
   "metadata": {},
   "source": [
    "#### To Matrix"
   ]
  },
  {
   "cell_type": "code",
   "execution_count": null,
   "metadata": {},
   "outputs": [],
   "source": [
    "m1980 <- as.matrix(r1980M)\n",
    "m1981 <- as.matrix(r1981M)\n",
    "m1982 <- as.matrix(r1982M)\n",
    "m1983 <- as.matrix(r1983M)"
   ]
  },
  {
   "cell_type": "markdown",
   "metadata": {},
   "source": [
    "#### To Vector\n",
    "\n",
    "To Vector concatenates column by column. If you need to do row by row, you need to transpose it."
   ]
  },
  {
   "cell_type": "code",
   "execution_count": null,
   "metadata": {},
   "outputs": [],
   "source": [
    "v1980 <- as.vector(m1980)\n",
    "v1981 <- as.vector(m1981)\n",
    "v1982 <- as.vector(m1982)\n",
    "v1983 <- as.vector(m1983)"
   ]
  },
  {
   "cell_type": "markdown",
   "metadata": {},
   "source": [
    "#### Create Input Matrix"
   ]
  },
  {
   "cell_type": "code",
   "execution_count": null,
   "metadata": {},
   "outputs": [],
   "source": [
    "Z <- cbind( v1980[!is.na(v1980)], v1981[!is.na(v1981)], v1982[!is.na(v1982)], v1983[!is.na(v1983)])\n",
    "dim(Z)"
   ]
  },
  {
   "cell_type": "markdown",
   "metadata": {
    "collapsed": true
   },
   "source": [
    "### Run "
   ]
  },
  {
   "cell_type": "code",
   "execution_count": null,
   "metadata": {},
   "outputs": [],
   "source": [
    "# Run co-clustering algorithm\n",
    "K <- 200\n",
    "L <- 3\n",
    "bbac_res <- bbac(Z, k = K, l = L, distance = \"e\")"
   ]
  },
  {
   "cell_type": "code",
   "execution_count": null,
   "metadata": {},
   "outputs": [],
   "source": [
    "R <- bbac_res$R\n",
    "C <- bbac_res$C\n",
    "bbac_res$status"
   ]
  },
  {
   "cell_type": "code",
   "execution_count": null,
   "metadata": {},
   "outputs": [],
   "source": [
    "dim(R)\n",
    "rIndices <- which(R > 0, arr.in=TRUE)\n",
    "rFrame = as.data.frame(rIndices)\n",
    "rIndices[order(rFrame$row),]"
   ]
  },
  {
   "cell_type": "code",
   "execution_count": null,
   "metadata": {},
   "outputs": [],
   "source": [
    "dim(C)\n",
    "cIndices <- which(C > 0, arr.in=TRUE)\n",
    "cFrame = as.data.frame(cIndices)\n",
    "cFrame[order(cFrame$row),]"
   ]
  },
  {
   "cell_type": "code",
   "execution_count": null,
   "metadata": {},
   "outputs": [],
   "source": [
    "clusterID <- matrix(seq(1,(K*L),1), K, L)"
   ]
  },
  {
   "cell_type": "code",
   "execution_count": null,
   "metadata": {},
   "outputs": [],
   "source": [
    "mClusterID <- matrix(, length(mask_index), dim(Z)[2])"
   ]
  },
  {
   "cell_type": "code",
   "execution_count": null,
   "metadata": {},
   "outputs": [],
   "source": [
    "for (rowID in seq(1,dim(Z)[1])) {\n",
    "    for (colID in seq(1,dim(z)[2]))\n",
    "        mClusterID[rowID, colID] <- clusterID[rFrame[rFrame$row== rowID,]$col, cFrame[cFrame$row == colID,]$col]\n",
    "}"
   ]
  },
  {
   "cell_type": "markdown",
   "metadata": {},
   "source": [
    "### Build result"
   ]
  },
  {
   "cell_type": "code",
   "execution_count": null,
   "metadata": {},
   "outputs": [],
   "source": [
    "res1980 <- rep(NA, ncell(mask))\n",
    "res1980[mask_index] = mClusterID[,1]\n",
    "res1981 <- rep(NA, ncell(mask))\n",
    "res1981[mask_index] = mClusterID[,2]\n",
    "res1982 <- rep(NA, ncell(mask))\n",
    "res1982[mask_index] = mClusterID[,3]\n",
    "res1983 <- rep(NA, ncell(mask))\n",
    "res1983[mask_index] = mClusterID[,4]"
   ]
  },
  {
   "cell_type": "code",
   "execution_count": null,
   "metadata": {},
   "outputs": [],
   "source": [
    "mat1980 <- matrix(res1980, nrow(mask), ncol(mask))\n",
    "mat1981 <- matrix(res1981, nrow(mask), ncol(mask))\n",
    "mat1982 <- matrix(res1982, nrow(mask), ncol(mask))\n",
    "mat1983 <- matrix(res1983, nrow(mask), ncol(mask))"
   ]
  },
  {
   "cell_type": "code",
   "execution_count": null,
   "metadata": {},
   "outputs": [],
   "source": [
    "raster1980 <- raster(mask)\n",
    "projection(raster1980) <- projection(mask)\n",
    "extent(raster1980) <- extent(mask)\n",
    "res(raster1980) <- res(mask)\n",
    "\n",
    "raster1981 <- raster(mat1981)\n",
    "projection(raster1981) <- projection(mask)\n",
    "extent(raster1981) <- extent(mask)\n",
    "res(raster1981) <- res(mask)\n",
    "\n",
    "raster1982 <- raster(mat1982)\n",
    "projection(raster1982) <- projection(mask)\n",
    "extent(raster1982) <- extent(mask)\n",
    "res(raster1982) <- res(mask)\n",
    "\n",
    "raster1983 <- raster(mat1983)\n",
    "projection(raster1983) <- projection(mask)\n",
    "extent(raster1983) <- extent(mask)\n",
    "res(raster1983) <- res(mask)"
   ]
  },
  {
   "cell_type": "markdown",
   "metadata": {},
   "source": [
    "### Plot results"
   ]
  },
  {
   "cell_type": "code",
   "execution_count": null,
   "metadata": {},
   "outputs": [],
   "source": [
    "plot(raster1980)"
   ]
  },
  {
   "cell_type": "code",
   "execution_count": null,
   "metadata": {},
   "outputs": [],
   "source": [
    "plot(raster1981)"
   ]
  },
  {
   "cell_type": "code",
   "execution_count": null,
   "metadata": {},
   "outputs": [],
   "source": [
    "plot(raster1982)"
   ]
  },
  {
   "cell_type": "code",
   "execution_count": null,
   "metadata": {},
   "outputs": [],
   "source": [
    "plot(raster1983)"
   ]
  },
  {
   "cell_type": "code",
   "execution_count": null,
   "metadata": {},
   "outputs": [],
   "source": []
  }
 ],
 "metadata": {
  "kernelspec": {
   "display_name": "R",
   "language": "R",
   "name": "ir"
  },
  "language_info": {
   "codemirror_mode": "r",
   "file_extension": ".r",
   "mimetype": "text/x-r-source",
   "name": "R",
   "pygments_lexer": "r",
   "version": "3.4.1"
  }
 },
 "nbformat": 4,
 "nbformat_minor": 2
}
