{
 "cells": [
  {
   "cell_type": "markdown",
   "metadata": {},
   "source": [
    "## Bregman block average co-clustering algorithm.\n",
    "\n",
    "The implementation of Bregman block average co-clustering algorithm (Banerjee et al., 2007) is inpired in the [single node impementation](https://github.com/fnyanez/bbac), [Copyright (c) 2016 Felipe Yanez](https://github.com/fnyanez/bbac/blob/master/LICENSE.md)."
   ]
  },
  {
   "cell_type": "markdown",
   "metadata": {},
   "source": [
    "### Support functions\n",
    "\n",
    "Translation is done using [R documentation about Matrix Algebra](http://www.statmethods.net/advstats/matrix.html)."
   ]
  },
  {
   "cell_type": "markdown",
   "metadata": {},
   "source": [
    "#### R\n",
    "```\n",
    "calculate_average <- function(Left, Z, Right, W, epsilon) {\n",
    "  if (is.null(W)) {\n",
    "      W <- array(1, dim(Z))\n",
    "  } else {\n",
    "      Z <- W * Z\n",
    "  }\n",
    "  numerator <- t(Left) %*% Z %*% Right + mean(Z) * epsilon\n",
    "  denominator <- t(Left) %*% W %*% Right + epsilon\n",
    "  return(numerator/denominator)\n",
    "}\n",
    "```"
   ]
  },
  {
   "cell_type": "code",
   "execution_count": 1,
   "metadata": {},
   "outputs": [],
   "source": [
    "calculate_average <- function(Left, matrixDF, Right, W, epsilon) {\n",
    "    if (is.null(W)) {\n",
    "        #A 2D array, i.e., a Matrix for which each cell is set with the value 1\n",
    "        W <- array(1, dim(matrixDF))\n",
    "    } else {\n",
    "        # Element-wise multiplication\n",
    "        matrixDF <- W * matrixDF\n",
    "    }\n",
    "    # t(Left) is Matrix transpose\n",
    "    # %*% means matrix mutiplication\n",
    "    # mean(matrix) gives a single value which is the mean of all values in the matrix\n",
    "        # y=mean(x,'r') (or, equivalently, y=mean(x,1)) is the rowwise mean.\n",
    "        # y=mean(x,'c') (or, equivalently, y=mean(x,2)) is the columnwise mean. \n",
    "    # Right + means(matrix) is a element-wise addition\n",
    "    numerator <- t(Left) %*% matrixDF %*% Right + mean(matrixDF) * epsilon\n",
    "    \n",
    "    denominator <- t(Left) %*% W %*% Right + epsilon\n",
    "    return(numerator/denominator)\n",
    "}"
   ]
  },
  {
   "cell_type": "markdown",
   "metadata": {
    "collapsed": true
   },
   "source": [
    "#### R\n",
    "\n",
    "```\n",
    "coCavg <- function(dist, row_col, R, Z, C, W, epsilon) {\n",
    "  CoCavg <- calculate_average(R, Z, C, W, epsilon)\n",
    "  if (row_col==\"row\") {\n",
    "    return(list(Zrowc = array(dist, dim(Z)), Zrowv = CoCavg %*% t(C)))\n",
    "  } else if (row_col==\"col\") {\n",
    "    return(list(Zcolc = array(dist, dim(Z)), Zcolv = R %*% CoCavg))\n",
    "  }\n",
    "}\n",
    "```"
   ]
  },
  {
   "cell_type": "code",
   "execution_count": 2,
   "metadata": {},
   "outputs": [],
   "source": [
    "coCavg <- function(dist, row_col, R, matrixDF, C, W, epsilon) {\n",
    "    CoCavg <- calculate_average(R, matrixDF, C, W, epsilon)\n",
    "    if (row_col==\"row\") {\n",
    "        #Creates a list and names the elements. Such names can then be used to access them in an easy way.\n",
    "        return(list(Zrowc = array(dist, dim(matrixDF)), Zrowv = CoCavg %*% t(C)))\n",
    "    } else if (row_col==\"col\") {\n",
    "        return(list(Zcolc = array(dist, dim(matrixDF)), Zcolv = R %*% CoCavg))\n",
    "    }\n",
    "}"
   ]
  },
  {
   "cell_type": "markdown",
   "metadata": {},
   "source": [
    "#### R\n",
    "\n",
    "```\n",
    "similarity_measure <- function(dist, Z, X, Y, W, epsilon) {\n",
    "  if (is.null(W)) W <- array(1, dim(Z))\n",
    "  if (dist==0) {\n",
    "    euc <- function(i) rowSums(W * (Z - X - rep(Y[i,], each = dim(Z)[1]))^2)\n",
    "    return(sapply(1:dim(Y)[1], euc))\n",
    "  } else if (dist==1) {\n",
    "    return((W * X) %*% t(Y + epsilon) - (W * Z) %*% log(t(Y + epsilon)))\n",
    "  }\n",
    "}\n",
    "```"
   ]
  },
  {
   "cell_type": "code",
   "execution_count": 3,
   "metadata": {},
   "outputs": [],
   "source": [
    "similarity_measure <- function(dist, matrixDF, X, Y, W, epsilon) {\n",
    "    if (is.null(W))\n",
    "        W <- array(1, dim(matrixDF))\n",
    "    if (dist==0) {\n",
    "        # rowSums sum values of Raster objects.\n",
    "        # rep vector several times, but with each we repeat the values, in this case has many as the matrixDF rows\n",
    "        #> rep(1:4, 2)\n",
    "        #  [1] 1 2 3 4 1 2 3 4\n",
    "        # > rep(1:4, each = 2)       # not the same.\n",
    "        #  [1] 1 1 2 2 3 3 4 4\n",
    "        euc <- function(i) rowSums(W * (matrixDF - X - rep(Y[i,], each = dim(matrixDF)[1]))^2)\n",
    "            return(sapply(1:dim(Y)[1], euc))\n",
    "    } else if (dist==1) {\n",
    "        # log(t(Y + epsilon)): sum epsilon to all elements of Y, transpose it and do the log to each element of the transpose matrix  \n",
    "        return((W * X) %*% t(Y + epsilon) - (W * Z) %*% log(t(Y + epsilon)))\n",
    "    }\n",
    "}"
   ]
  },
  {
   "cell_type": "markdown",
   "metadata": {},
   "source": [
    "#### R\n",
    "\n",
    "```\n",
    "assign_cluster <- function(dist, Z, X, Y, W, epsilon) {\n",
    "  D <- similarity_measure(dist, Z, X, Y, W, epsilon)\n",
    "  id <- sapply(1:dim(D)[1], function(i) sort(D[i,], index.return = TRUE)$ix[1])\n",
    "  res <- sapply(1:dim(D)[1], function(i) sort(D[i,])[1]^(2-dist))\n",
    "  return(list(Cluster = diag(dim(Y)[1])[id,], Error = sum(res)))\n",
    "}\n",
    "```"
   ]
  },
  {
   "cell_type": "code",
   "execution_count": 4,
   "metadata": {},
   "outputs": [],
   "source": [
    "assign_cluster <- function(dist, matrixDF, X, Y, W, epsilon) {\n",
    "    D <- similarity_measure(dist, matrixDF, X, Y, W, epsilon)\n",
    "    # apply(Matrix, <row or col>, func) -> <row or col> 1 is row-wise, 2 is col-wise\n",
    "    # sapply is like lapply (it applies a function to each element of a list and the result is also a list) consumes data as a vector. \n",
    "    # dim(D)[1] gives number of rows.\n",
    "    # sort a each row increasing order and return index, we get the indice of the highest value \n",
    "    id <- sapply(1:dim(D)[1], function(i) sort(D[i,], index.return = TRUE)$ix[1])\n",
    "    res <- sapply(1:dim(D)[1], function(i) sort(D[i,])[1]^(2-dist))\n",
    "    \n",
    "    # Create an identity matrix, diag(dim(Y)[1]), which has num_rows and num_cols = dim(Y)[1], i.e., number of rows of Y, and set diagonal to 1.\n",
    "    # dim(Y)[1])[id,] -> Give me the row from the identity matrix which has indice \"id\"\n",
    "    return(list(Cluster = diag(dim(Y)[1])[id,], Error = sum(res)))\n",
    "}"
   ]
  },
  {
   "cell_type": "markdown",
   "metadata": {},
   "source": [
    "### BBAC\n",
    "```\n",
    "Z - m x n data matrix, \n",
    "W - m x n measure matrix, \n",
    "k - num row clusters,\n",
    "l - num col clusters\n",
    "```"
   ]
  },
  {
   "cell_type": "code",
   "execution_count": 5,
   "metadata": {},
   "outputs": [],
   "source": [
    "bbac <- function(Z, k, l, W = NULL, distance = \"euclidean\", errobj = 1e-6, niters = 100, nruns = 5, epsilon = 1e-8) {\n",
    "  \n",
    "  error <- Inf\n",
    "  error_now <- Inf\n",
    "  dist <- pmatch(tolower(distance), c(\"euclidean\",\"divergence\")) - 1\n",
    "  \n",
    "  for (r in 1:nruns) {\n",
    "    \n",
    "    # Initialization of R and C\n",
    "      \n",
    "    #Create an identity matrix\n",
    "      # Get row which is a random sample (betwewn numRowC and num of rows) with replacement\n",
    "    R <- diag(k)[base::sample(k, dim(Z)[1], replace = TRUE),]\n",
    "    C <- diag(l)[base::sample(l, dim(Z)[2], replace = TRUE),]\n",
    "    \n",
    "    for (s in 1:niters) {\n",
    "      \n",
    "      # Row estimation\n",
    "      rs <- coCavg(dist, \"row\", R, Z, C, W, epsilon)\n",
    "      ra <- assign_cluster(dist, Z, rs$Zrowc, rs$Zrowv, W, epsilon)\n",
    "      R  <- ra$Cluster\n",
    "      \n",
    "      # Column estimation\n",
    "      cs <- coCavg(dist, \"col\", R, Z, C, W, epsilon)\n",
    "      ca <- assign_cluster(dist, t(Z), t(cs$Zcolc), t(cs$Zcolv), W, epsilon)\n",
    "      C  <- ca$Cluster\n",
    "      \n",
    "      # \n",
    "      if (abs(ca$Error - error_now) < errobj) {\n",
    "        status <- paste(\"converged in\",s,\"iterations\")\n",
    "        return(list(R = R, C = C, status = status))\n",
    "      }\n",
    "      \n",
    "      # Update objective value\n",
    "      error_now <- ca$Error\n",
    "      \n",
    "    }\n",
    "    \n",
    "    # Keep pair with min error\n",
    "    if (error_now < error) {\n",
    "      R_star <- R\n",
    "      C_star <- C\n",
    "      error <- error_now\n",
    "    }\n",
    "    \n",
    "  }\n",
    "  \n",
    "  status <- paste(\"reached maximum of\", niters, \"iterations\")\n",
    "  return(list(R = R_star, C = C_star, status = status))\n",
    "  \n",
    "}"
   ]
  },
  {
   "cell_type": "markdown",
   "metadata": {},
   "source": [
    "### Load Data\n",
    "\n",
    "The data will be loaded from a matrix create in Scala and saved as Parquet file."
   ]
  },
  {
   "cell_type": "markdown",
   "metadata": {},
   "source": [
    "#### Simulated matrix"
   ]
  },
  {
   "cell_type": "code",
   "execution_count": 6,
   "metadata": {},
   "outputs": [],
   "source": [
    "set.seed(1)\n",
    "Z <- matrix(rep(1:4, 25), 10, 10)"
   ]
  },
  {
   "cell_type": "markdown",
   "metadata": {},
   "source": [
    "#### GeoTiffs"
   ]
  },
  {
   "cell_type": "code",
   "execution_count": 7,
   "metadata": {},
   "outputs": [
    {
     "name": "stderr",
     "output_type": "stream",
     "text": [
      "Loading required package: sp\n"
     ]
    }
   ],
   "source": [
    "library(raster)"
   ]
  },
  {
   "cell_type": "markdown",
   "metadata": {},
   "source": [
    "#### Load Mask"
   ]
  },
  {
   "cell_type": "code",
   "execution_count": 8,
   "metadata": {},
   "outputs": [],
   "source": [
    "mask <- raster('/data/local/home/pheno/data/usa_state_masks/california.tif', band=1)\n",
    "#mask <- raster('/data/local/home/pheno/data/usa_state_masks/connecticut.tif', band=1)\n",
    "#mask <- raster('/data/local/home/pheno/data/usa_state_masks/rhodeIsland.tif', band=1)"
   ]
  },
  {
   "cell_type": "code",
   "execution_count": 9,
   "metadata": {},
   "outputs": [],
   "source": [
    "rMask <- as.vector(as.matrix(mask))\n",
    "mask_index <- which(!is.na(rMask))"
   ]
  },
  {
   "cell_type": "markdown",
   "metadata": {},
   "source": [
    "#### Load GeoTiffs"
   ]
  },
  {
   "cell_type": "code",
   "execution_count": 10,
   "metadata": {},
   "outputs": [],
   "source": [
    "r1980 <- raster('/data/local/home/pheno/data/spring-index/light/BloomFinal/1980.tif', band=4)\n",
    "r1981 <- raster('/data/local/home/pheno/data/spring-index/light/BloomFinal/1980.tif', band=4)\n",
    "r1982 <- raster('/data/local/home/pheno/data/spring-index/light/BloomFinal/1980.tif', band=4)\n",
    "r1983 <- raster('/data/local/home/pheno/data/spring-index/light/BloomFinal/1980.tif', band=4)"
   ]
  },
  {
   "cell_type": "code",
   "execution_count": 11,
   "metadata": {},
   "outputs": [
    {
     "data": {
      "text/plain": [
       "class       : RasterLayer \n",
       "band        : 4  (of  4  bands)\n",
       "dimensions  : 3892, 7808, 30388736  (nrow, ncol, ncell)\n",
       "resolution  : 0.008983153, 0.008983153  (x, y)\n",
       "extent      : -126.3031, -56.16267, 14.2922, 49.25463  (xmin, xmax, ymin, ymax)\n",
       "coord. ref. : +proj=longlat +datum=WGS84 +no_defs +ellps=WGS84 +towgs84=0,0,0 \n",
       "data source : /data/local/home/pheno/data/spring-index/light/BloomFinal/1980.tif \n",
       "names       : X1980 \n"
      ]
     },
     "metadata": {},
     "output_type": "display_data"
    }
   ],
   "source": [
    "r1980"
   ]
  },
  {
   "cell_type": "markdown",
   "metadata": {},
   "source": [
    "#### Apply mask"
   ]
  },
  {
   "cell_type": "code",
   "execution_count": 12,
   "metadata": {},
   "outputs": [],
   "source": [
    "r1980M <- mask(r1980, mask)\n",
    "r1981M <- mask(r1981, mask)\n",
    "r1982M <- mask(r1982, mask)\n",
    "r1983M <- mask(r1983, mask)"
   ]
  },
  {
   "cell_type": "markdown",
   "metadata": {},
   "source": [
    "#### To Matrix"
   ]
  },
  {
   "cell_type": "code",
   "execution_count": 13,
   "metadata": {},
   "outputs": [],
   "source": [
    "m1980 <- as.matrix(r1980M)\n",
    "m1981 <- as.matrix(r1981M)\n",
    "m1982 <- as.matrix(r1982M)\n",
    "m1983 <- as.matrix(r1983M)"
   ]
  },
  {
   "cell_type": "markdown",
   "metadata": {},
   "source": [
    "#### To Vector\n",
    "\n",
    "To Vector concatenates column by column. If you need to do row by row, you need to transpose it."
   ]
  },
  {
   "cell_type": "code",
   "execution_count": 14,
   "metadata": {},
   "outputs": [],
   "source": [
    "v1980 <- as.vector(m1980)\n",
    "v1981 <- as.vector(m1981)\n",
    "v1982 <- as.vector(m1982)\n",
    "v1983 <- as.vector(m1983)"
   ]
  },
  {
   "cell_type": "markdown",
   "metadata": {},
   "source": [
    "#### Create Input Matrix"
   ]
  },
  {
   "cell_type": "code",
   "execution_count": 15,
   "metadata": {},
   "outputs": [
    {
     "data": {
      "text/html": [
       "<ol class=list-inline>\n",
       "\t<li>510849</li>\n",
       "\t<li>4</li>\n",
       "</ol>\n"
      ],
      "text/latex": [
       "\\begin{enumerate*}\n",
       "\\item 510849\n",
       "\\item 4\n",
       "\\end{enumerate*}\n"
      ],
      "text/markdown": [
       "1. 510849\n",
       "2. 4\n",
       "\n",
       "\n"
      ],
      "text/plain": [
       "[1] 510849      4"
      ]
     },
     "metadata": {},
     "output_type": "display_data"
    }
   ],
   "source": [
    "Z <- cbind( v1980[!is.na(v1980)], v1981[!is.na(v1981)], v1982[!is.na(v1982)], v1983[!is.na(v1983)])\n",
    "dim(Z)"
   ]
  },
  {
   "cell_type": "markdown",
   "metadata": {
    "collapsed": true
   },
   "source": [
    "### Run "
   ]
  },
  {
   "cell_type": "code",
   "execution_count": 16,
   "metadata": {},
   "outputs": [],
   "source": [
    "# Run co-clustering algorithm\n",
    "K <- 200\n",
    "L <- 3\n",
    "bbac_res <- bbac(Z, k = K, l = L, distance = \"e\")"
   ]
  },
  {
   "cell_type": "code",
   "execution_count": 17,
   "metadata": {},
   "outputs": [
    {
     "data": {
      "text/html": [
       "'converged in 50 iterations'"
      ],
      "text/latex": [
       "'converged in 50 iterations'"
      ],
      "text/markdown": [
       "'converged in 50 iterations'"
      ],
      "text/plain": [
       "[1] \"converged in 50 iterations\""
      ]
     },
     "metadata": {},
     "output_type": "display_data"
    }
   ],
   "source": [
    "R <- bbac_res$R\n",
    "C <- bbac_res$C\n",
    "bbac_res$status"
   ]
  },
  {
   "cell_type": "code",
   "execution_count": 18,
   "metadata": {},
   "outputs": [
    {
     "data": {
      "text/html": [
       "<ol class=list-inline>\n",
       "\t<li>510849</li>\n",
       "\t<li>200</li>\n",
       "</ol>\n"
      ],
      "text/latex": [
       "\\begin{enumerate*}\n",
       "\\item 510849\n",
       "\\item 200\n",
       "\\end{enumerate*}\n"
      ],
      "text/markdown": [
       "1. 510849\n",
       "2. 200\n",
       "\n",
       "\n"
      ],
      "text/plain": [
       "[1] 510849    200"
      ]
     },
     "metadata": {},
     "output_type": "display_data"
    },
    {
     "data": {
      "text/html": [
       "<table>\n",
       "<thead><tr><th scope=col>row</th><th scope=col>col</th></tr></thead>\n",
       "<tbody>\n",
       "\t<tr><td> 1</td><td>10</td></tr>\n",
       "\t<tr><td> 2</td><td>11</td></tr>\n",
       "\t<tr><td> 3</td><td> 7</td></tr>\n",
       "\t<tr><td> 4</td><td>10</td></tr>\n",
       "\t<tr><td> 5</td><td>73</td></tr>\n",
       "\t<tr><td> 6</td><td> 2</td></tr>\n",
       "\t<tr><td> 7</td><td>11</td></tr>\n",
       "\t<tr><td> 8</td><td> 9</td></tr>\n",
       "\t<tr><td> 9</td><td>11</td></tr>\n",
       "\t<tr><td>10</td><td> 7</td></tr>\n",
       "\t<tr><td>11</td><td> 9</td></tr>\n",
       "\t<tr><td>12</td><td>12</td></tr>\n",
       "\t<tr><td>13</td><td>73</td></tr>\n",
       "\t<tr><td>14</td><td>10</td></tr>\n",
       "\t<tr><td>15</td><td>10</td></tr>\n",
       "\t<tr><td>16</td><td> 9</td></tr>\n",
       "\t<tr><td>17</td><td>12</td></tr>\n",
       "\t<tr><td>18</td><td> 9</td></tr>\n",
       "\t<tr><td>19</td><td> 3</td></tr>\n",
       "\t<tr><td>20</td><td> 7</td></tr>\n",
       "\t<tr><td>21</td><td> 8</td></tr>\n",
       "\t<tr><td>22</td><td> 2</td></tr>\n",
       "\t<tr><td>23</td><td> 2</td></tr>\n",
       "\t<tr><td>24</td><td> 4</td></tr>\n",
       "\t<tr><td>25</td><td> 9</td></tr>\n",
       "\t<tr><td>26</td><td>11</td></tr>\n",
       "\t<tr><td>27</td><td> 9</td></tr>\n",
       "\t<tr><td>28</td><td> 9</td></tr>\n",
       "\t<tr><td>29</td><td> 8</td></tr>\n",
       "\t<tr><td>30</td><td>73</td></tr>\n",
       "\t<tr><td>⋮</td><td>⋮</td></tr>\n",
       "\t<tr><td>510820</td><td>24    </td></tr>\n",
       "\t<tr><td>510821</td><td>24    </td></tr>\n",
       "\t<tr><td>510822</td><td>24    </td></tr>\n",
       "\t<tr><td>510823</td><td>24    </td></tr>\n",
       "\t<tr><td>510824</td><td>24    </td></tr>\n",
       "\t<tr><td>510825</td><td>24    </td></tr>\n",
       "\t<tr><td>510826</td><td>24    </td></tr>\n",
       "\t<tr><td>510827</td><td>24    </td></tr>\n",
       "\t<tr><td>510828</td><td>24    </td></tr>\n",
       "\t<tr><td>510829</td><td>24    </td></tr>\n",
       "\t<tr><td>510830</td><td>24    </td></tr>\n",
       "\t<tr><td>510831</td><td>24    </td></tr>\n",
       "\t<tr><td>510832</td><td>24    </td></tr>\n",
       "\t<tr><td>510833</td><td>24    </td></tr>\n",
       "\t<tr><td>510834</td><td>24    </td></tr>\n",
       "\t<tr><td>510835</td><td>24    </td></tr>\n",
       "\t<tr><td>510836</td><td>24    </td></tr>\n",
       "\t<tr><td>510837</td><td>24    </td></tr>\n",
       "\t<tr><td>510838</td><td>24    </td></tr>\n",
       "\t<tr><td>510839</td><td>24    </td></tr>\n",
       "\t<tr><td>510840</td><td>24    </td></tr>\n",
       "\t<tr><td>510841</td><td>24    </td></tr>\n",
       "\t<tr><td>510842</td><td>24    </td></tr>\n",
       "\t<tr><td>510843</td><td>24    </td></tr>\n",
       "\t<tr><td>510844</td><td>24    </td></tr>\n",
       "\t<tr><td>510845</td><td>24    </td></tr>\n",
       "\t<tr><td>510846</td><td>24    </td></tr>\n",
       "\t<tr><td>510847</td><td>24    </td></tr>\n",
       "\t<tr><td>510848</td><td>24    </td></tr>\n",
       "\t<tr><td>510849</td><td>24    </td></tr>\n",
       "</tbody>\n",
       "</table>\n"
      ],
      "text/latex": [
       "\\begin{tabular}{ll}\n",
       " row & col\\\\\n",
       "\\hline\n",
       "\t  1 & 10\\\\\n",
       "\t  2 & 11\\\\\n",
       "\t  3 &  7\\\\\n",
       "\t  4 & 10\\\\\n",
       "\t  5 & 73\\\\\n",
       "\t  6 &  2\\\\\n",
       "\t  7 & 11\\\\\n",
       "\t  8 &  9\\\\\n",
       "\t  9 & 11\\\\\n",
       "\t 10 &  7\\\\\n",
       "\t 11 &  9\\\\\n",
       "\t 12 & 12\\\\\n",
       "\t 13 & 73\\\\\n",
       "\t 14 & 10\\\\\n",
       "\t 15 & 10\\\\\n",
       "\t 16 &  9\\\\\n",
       "\t 17 & 12\\\\\n",
       "\t 18 &  9\\\\\n",
       "\t 19 &  3\\\\\n",
       "\t 20 &  7\\\\\n",
       "\t 21 &  8\\\\\n",
       "\t 22 &  2\\\\\n",
       "\t 23 &  2\\\\\n",
       "\t 24 &  4\\\\\n",
       "\t 25 &  9\\\\\n",
       "\t 26 & 11\\\\\n",
       "\t 27 &  9\\\\\n",
       "\t 28 &  9\\\\\n",
       "\t 29 &  8\\\\\n",
       "\t 30 & 73\\\\\n",
       "\t ⋮ & ⋮\\\\\n",
       "\t 510820 & 24    \\\\\n",
       "\t 510821 & 24    \\\\\n",
       "\t 510822 & 24    \\\\\n",
       "\t 510823 & 24    \\\\\n",
       "\t 510824 & 24    \\\\\n",
       "\t 510825 & 24    \\\\\n",
       "\t 510826 & 24    \\\\\n",
       "\t 510827 & 24    \\\\\n",
       "\t 510828 & 24    \\\\\n",
       "\t 510829 & 24    \\\\\n",
       "\t 510830 & 24    \\\\\n",
       "\t 510831 & 24    \\\\\n",
       "\t 510832 & 24    \\\\\n",
       "\t 510833 & 24    \\\\\n",
       "\t 510834 & 24    \\\\\n",
       "\t 510835 & 24    \\\\\n",
       "\t 510836 & 24    \\\\\n",
       "\t 510837 & 24    \\\\\n",
       "\t 510838 & 24    \\\\\n",
       "\t 510839 & 24    \\\\\n",
       "\t 510840 & 24    \\\\\n",
       "\t 510841 & 24    \\\\\n",
       "\t 510842 & 24    \\\\\n",
       "\t 510843 & 24    \\\\\n",
       "\t 510844 & 24    \\\\\n",
       "\t 510845 & 24    \\\\\n",
       "\t 510846 & 24    \\\\\n",
       "\t 510847 & 24    \\\\\n",
       "\t 510848 & 24    \\\\\n",
       "\t 510849 & 24    \\\\\n",
       "\\end{tabular}\n"
      ],
      "text/markdown": [
       "\n",
       "row | col | \n",
       "|---|---|---|---|---|---|---|---|---|---|---|---|---|---|---|---|---|---|---|---|---|---|---|---|---|---|---|---|---|---|---|---|---|---|---|---|---|---|---|---|---|---|---|---|---|---|---|---|---|---|---|---|---|---|---|---|---|---|---|---|---|\n",
       "|  1 | 10 | \n",
       "|  2 | 11 | \n",
       "|  3 |  7 | \n",
       "|  4 | 10 | \n",
       "|  5 | 73 | \n",
       "|  6 |  2 | \n",
       "|  7 | 11 | \n",
       "|  8 |  9 | \n",
       "|  9 | 11 | \n",
       "| 10 |  7 | \n",
       "| 11 |  9 | \n",
       "| 12 | 12 | \n",
       "| 13 | 73 | \n",
       "| 14 | 10 | \n",
       "| 15 | 10 | \n",
       "| 16 |  9 | \n",
       "| 17 | 12 | \n",
       "| 18 |  9 | \n",
       "| 19 |  3 | \n",
       "| 20 |  7 | \n",
       "| 21 |  8 | \n",
       "| 22 |  2 | \n",
       "| 23 |  2 | \n",
       "| 24 |  4 | \n",
       "| 25 |  9 | \n",
       "| 26 | 11 | \n",
       "| 27 |  9 | \n",
       "| 28 |  9 | \n",
       "| 29 |  8 | \n",
       "| 30 | 73 | \n",
       "| ⋮ | ⋮ | \n",
       "| 510820 | 24     | \n",
       "| 510821 | 24     | \n",
       "| 510822 | 24     | \n",
       "| 510823 | 24     | \n",
       "| 510824 | 24     | \n",
       "| 510825 | 24     | \n",
       "| 510826 | 24     | \n",
       "| 510827 | 24     | \n",
       "| 510828 | 24     | \n",
       "| 510829 | 24     | \n",
       "| 510830 | 24     | \n",
       "| 510831 | 24     | \n",
       "| 510832 | 24     | \n",
       "| 510833 | 24     | \n",
       "| 510834 | 24     | \n",
       "| 510835 | 24     | \n",
       "| 510836 | 24     | \n",
       "| 510837 | 24     | \n",
       "| 510838 | 24     | \n",
       "| 510839 | 24     | \n",
       "| 510840 | 24     | \n",
       "| 510841 | 24     | \n",
       "| 510842 | 24     | \n",
       "| 510843 | 24     | \n",
       "| 510844 | 24     | \n",
       "| 510845 | 24     | \n",
       "| 510846 | 24     | \n",
       "| 510847 | 24     | \n",
       "| 510848 | 24     | \n",
       "| 510849 | 24     | \n",
       "\n",
       "\n"
      ],
      "text/plain": [
       "      row    col\n",
       " [1,]  1     10 \n",
       " [2,]  2     11 \n",
       " [3,]  3      7 \n",
       " [4,]  4     10 \n",
       " [5,]  5     73 \n",
       " [6,]  6      2 \n",
       " [7,]  7     11 \n",
       " [8,]  8      9 \n",
       " [9,]  9     11 \n",
       "[10,] 10      7 \n",
       "[11,] 11      9 \n",
       "[12,] 12     12 \n",
       "[13,] 13     73 \n",
       "[14,] 14     10 \n",
       "[15,] 15     10 \n",
       "[16,] 16      9 \n",
       "[17,] 17     12 \n",
       "[18,] 18      9 \n",
       "[19,] 19      3 \n",
       "[20,] 20      7 \n",
       "[21,] 21      8 \n",
       "[22,] 22      2 \n",
       "[23,] 23      2 \n",
       "[24,] 24      4 \n",
       "[25,] 25      9 \n",
       "[26,] 26     11 \n",
       "[27,] 27      9 \n",
       "[28,] 28      9 \n",
       "[29,] 29      8 \n",
       "[30,] 30     73 \n",
       "[31,] ⋮      ⋮  \n",
       "[32,] 510820 24 \n",
       "[33,] 510821 24 \n",
       "[34,] 510822 24 \n",
       "[35,] 510823 24 \n",
       "[36,] 510824 24 \n",
       "[37,] 510825 24 \n",
       "[38,] 510826 24 \n",
       "[39,] 510827 24 \n",
       "[40,] 510828 24 \n",
       "[41,] 510829 24 \n",
       "[42,] 510830 24 \n",
       "[43,] 510831 24 \n",
       "[44,] 510832 24 \n",
       "[45,] 510833 24 \n",
       "[46,] 510834 24 \n",
       "[47,] 510835 24 \n",
       "[48,] 510836 24 \n",
       "[49,] 510837 24 \n",
       "[50,] 510838 24 \n",
       "[51,] 510839 24 \n",
       "[52,] 510840 24 \n",
       "[53,] 510841 24 \n",
       "[54,] 510842 24 \n",
       "[55,] 510843 24 \n",
       "[56,] 510844 24 \n",
       "[57,] 510845 24 \n",
       "[58,] 510846 24 \n",
       "[59,] 510847 24 \n",
       "[60,] 510848 24 \n",
       "[61,] 510849 24 "
      ]
     },
     "metadata": {},
     "output_type": "display_data"
    }
   ],
   "source": [
    "dim(R)\n",
    "rIndices <- which(R > 0, arr.in=TRUE)\n",
    "rFrame = as.data.frame(rIndices)\n",
    "rIndices[order(rFrame$row),]"
   ]
  },
  {
   "cell_type": "code",
   "execution_count": 19,
   "metadata": {},
   "outputs": [
    {
     "data": {
      "text/html": [
       "<ol class=list-inline>\n",
       "\t<li>4</li>\n",
       "\t<li>3</li>\n",
       "</ol>\n"
      ],
      "text/latex": [
       "\\begin{enumerate*}\n",
       "\\item 4\n",
       "\\item 3\n",
       "\\end{enumerate*}\n"
      ],
      "text/markdown": [
       "1. 4\n",
       "2. 3\n",
       "\n",
       "\n"
      ],
      "text/plain": [
       "[1] 4 3"
      ]
     },
     "metadata": {},
     "output_type": "display_data"
    },
    {
     "data": {
      "text/html": [
       "<table>\n",
       "<thead><tr><th scope=col>row</th><th scope=col>col</th></tr></thead>\n",
       "<tbody>\n",
       "\t<tr><td>1</td><td>1</td></tr>\n",
       "\t<tr><td>2</td><td>1</td></tr>\n",
       "\t<tr><td>3</td><td>1</td></tr>\n",
       "\t<tr><td>4</td><td>1</td></tr>\n",
       "</tbody>\n",
       "</table>\n"
      ],
      "text/latex": [
       "\\begin{tabular}{r|ll}\n",
       " row & col\\\\\n",
       "\\hline\n",
       "\t 1 & 1\\\\\n",
       "\t 2 & 1\\\\\n",
       "\t 3 & 1\\\\\n",
       "\t 4 & 1\\\\\n",
       "\\end{tabular}\n"
      ],
      "text/markdown": [
       "\n",
       "row | col | \n",
       "|---|---|---|---|\n",
       "| 1 | 1 | \n",
       "| 2 | 1 | \n",
       "| 3 | 1 | \n",
       "| 4 | 1 | \n",
       "\n",
       "\n"
      ],
      "text/plain": [
       "  row col\n",
       "1 1   1  \n",
       "2 2   1  \n",
       "3 3   1  \n",
       "4 4   1  "
      ]
     },
     "metadata": {},
     "output_type": "display_data"
    }
   ],
   "source": [
    "dim(C)\n",
    "cIndices <- which(C > 0, arr.in=TRUE)\n",
    "cFrame = as.data.frame(cIndices)\n",
    "cFrame[order(cFrame$row),]"
   ]
  },
  {
   "cell_type": "code",
   "execution_count": 20,
   "metadata": {},
   "outputs": [],
   "source": [
    "clusterID <- matrix(seq(1,(K*L),1), K, L)"
   ]
  },
  {
   "cell_type": "code",
   "execution_count": 21,
   "metadata": {},
   "outputs": [],
   "source": [
    "mClusterID <- matrix(, length(mask_index), dim(Z)[2])"
   ]
  },
  {
   "cell_type": "code",
   "execution_count": 23,
   "metadata": {},
   "outputs": [],
   "source": [
    "for (rowID in seq(1,dim(Z)[1])) {\n",
    "    for (colID in seq(1,dim(Z)[2]))\n",
    "        mClusterID[rowID, colID] <- clusterID[rFrame[rFrame$row== rowID,]$col, cFrame[cFrame$row == colID,]$col]\n",
    "}"
   ]
  },
  {
   "cell_type": "markdown",
   "metadata": {},
   "source": [
    "### Build result"
   ]
  },
  {
   "cell_type": "code",
   "execution_count": 24,
   "metadata": {},
   "outputs": [],
   "source": [
    "res1980 <- rep(NA, ncell(mask))\n",
    "res1980[mask_index] = mClusterID[,1]\n",
    "res1981 <- rep(NA, ncell(mask))\n",
    "res1981[mask_index] = mClusterID[,2]\n",
    "res1982 <- rep(NA, ncell(mask))\n",
    "res1982[mask_index] = mClusterID[,3]\n",
    "res1983 <- rep(NA, ncell(mask))\n",
    "res1983[mask_index] = mClusterID[,4]"
   ]
  },
  {
   "cell_type": "code",
   "execution_count": 25,
   "metadata": {},
   "outputs": [],
   "source": [
    "mat1980 <- matrix(res1980, nrow(mask), ncol(mask))\n",
    "mat1981 <- matrix(res1981, nrow(mask), ncol(mask))\n",
    "mat1982 <- matrix(res1982, nrow(mask), ncol(mask))\n",
    "mat1983 <- matrix(res1983, nrow(mask), ncol(mask))"
   ]
  },
  {
   "cell_type": "code",
   "execution_count": 31,
   "metadata": {},
   "outputs": [],
   "source": [
    "raster1980 <- raster(mat1980)\n",
    "projection(raster1980) <- projection(mask)\n",
    "extent(raster1980) <- extent(mask)\n",
    "res(raster1980) <- res(mask)\n",
    "\n",
    "raster1981 <- raster(mat1981)\n",
    "projection(raster1981) <- projection(mask)\n",
    "extent(raster1981) <- extent(mask)\n",
    "res(raster1981) <- res(mask)\n",
    "\n",
    "raster1982 <- raster(mat1982)\n",
    "projection(raster1982) <- projection(mask)\n",
    "extent(raster1982) <- extent(mask)\n",
    "res(raster1982) <- res(mask)\n",
    "\n",
    "raster1983 <- raster(mat1983)\n",
    "projection(raster1983) <- projection(mask)\n",
    "extent(raster1983) <- extent(mask)\n",
    "res(raster1983) <- res(mask)"
   ]
  },
  {
   "cell_type": "markdown",
   "metadata": {},
   "source": [
    "### Plot results"
   ]
  },
  {
   "cell_type": "code",
   "execution_count": 32,
   "metadata": {},
   "outputs": [
    {
     "data": {
      "image/png": "[encoded data removed]",
      "text/plain": [
       "Plot with title “”"
      ]
     },
     "metadata": {},
     "output_type": "display_data"
    }
   ],
   "source": [
    "plot(raster1980)"
   ]
  },
  {
   "cell_type": "code",
   "execution_count": 33,
   "metadata": {},
   "outputs": [
    {
     "data": {
      "image/png": "[encoded data removed]",
      "text/plain": [
       "Plot with title “”"
      ]
     },
     "metadata": {},
     "output_type": "display_data"
    }
   ],
   "source": [
    "plot(raster1981)"
   ]
  },
  {
   "cell_type": "code",
   "execution_count": 34,
   "metadata": {},
   "outputs": [
    {
     "data": {
      "image/png": "[encoded data removed]",
      "text/plain": [
       "Plot with title “”"
      ]
     },
     "metadata": {},
     "output_type": "display_data"
    }
   ],
   "source": [
    "plot(raster1982)"
   ]
  },
  {
   "cell_type": "code",
   "execution_count": 35,
   "metadata": {},
   "outputs": [
    {
     "data": {
      "image/png": "[encoded data removed]",
      "text/plain": [
       "Plot with title “”"
      ]
     },
     "metadata": {},
     "output_type": "display_data"
    }
   ],
   "source": [
    "plot(raster1983)"
   ]
  },
  {
   "cell_type": "code",
   "execution_count": null,
   "metadata": {},
   "outputs": [],
   "source": []
  }
 ],
 "metadata": {
  "kernelspec": {
   "display_name": "R",
   "language": "R",
   "name": "ir"
  },
  "language_info": {
   "codemirror_mode": "r",
   "file_extension": ".r",
   "mimetype": "text/x-r-source",
   "name": "R",
   "pygments_lexer": "r",
   "version": "3.4.1"
  }
 },
 "nbformat": 4,
 "nbformat_minor": 2
}
