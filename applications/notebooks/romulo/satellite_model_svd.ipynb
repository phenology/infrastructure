{
 "cells": [
  {
   "cell_type": "markdown",
   "metadata": {},
   "source": [
    "# SVD between a Model and Satellite data\n",
    "\n",
    "This notebook shows how to multiply two matrices and calculate SVD. Each matrix is created out a set of GeoTiffs for a series of years. Both matrices should have the same dimension.\n",
    "\n",
    "For demonstration we will use from a model (spring-index) and from a satellite (AVHRR)."
   ]
  },
  {
   "cell_type": "markdown",
   "metadata": {},
   "source": [
    "## Dependencies"
   ]
  },
  {
   "cell_type": "code",
   "execution_count": 1,
   "metadata": {},
   "outputs": [],
   "source": [
    "import java.io.{ByteArrayInputStream, ByteArrayOutputStream, ObjectInputStream, ObjectOutputStream}\n",
    "\n",
    "import geotrellis.proj4.CRS\n",
    "import geotrellis.raster.io.geotiff.writer.GeoTiffWriter\n",
    "import geotrellis.raster.io.geotiff.{SinglebandGeoTiff, _}\n",
    "import geotrellis.raster.{CellType, DoubleArrayTile, Tile, UByteCellType}\n",
    "import geotrellis.spark.io.hadoop._\n",
    "import geotrellis.vector.{Extent, ProjectedExtent}\n",
    "import org.apache.hadoop.io.SequenceFile.Writer\n",
    "import org.apache.hadoop.io.{SequenceFile, _}\n",
    "import org.apache.spark.broadcast.Broadcast\n",
    "import org.apache.spark.mllib.linalg._\n",
    "import org.apache.spark.mllib.linalg.distributed._\n",
    "import org.apache.spark.mllib.stat.{MultivariateStatisticalSummary, Statistics}\n",
    "import org.apache.spark.rdd.RDD\n",
    "import org.apache.spark.storage.StorageLevel\n",
    "import org.apache.spark.{SparkConf, SparkContext}\n",
    "import spire.syntax.cfor.cfor\n",
    "\n",
    "import scala.sys.process.Process"
   ]
  },
  {
   "cell_type": "markdown",
   "metadata": {},
   "source": [
    "## Mode of operation\n",
    "\n",
    "Here the user can define the mode of operation.\n",
    "* **rdd_offline_mode**: If false it means the notebook will create all data from scratch and store protected_extent and num_cols_rows into HDFS. Otherwise, these data structures are read from HDFS.\n",
    "\n",
    "It is also possible to define which directory of GeoTiffs is to be used and on which **band** to run Kmeans. The options are\n",
    "* **all** which are a multi-band (**8 bands**) GeoTiffs\n",
    "* Or choose single band ones:\n",
    "    0. Onset_Greenness_Increase\n",
    "    1. Onset_Greenness_Maximum\n",
    "    2. Onset_Greenness_Decrease\n",
    "    3. Onset_Greenness_Minimum\n",
    "    4. NBAR_EVI_Onset_Greenness_Minimum\n",
    "    5. NBAR_EVI_Onset_Greenness_Maximum\n",
    "    6. NBAR_EVI_Area\n",
    "    7. Dynamics_QC\n",
    "\n",
    "<span style=\"color:red\">Note that when using a range **kemans offline mode** is not possible and it will be reset to **online mode**</span>."
   ]
  },
  {
   "cell_type": "markdown",
   "metadata": {},
   "source": [
    "### Mode of Operation setup\n",
    "<a id='mode_of_operation_setup'></a>"
   ]
  },
  {
   "cell_type": "code",
   "execution_count": 2,
   "metadata": {},
   "outputs": [
    {
     "data": {
      "text/plain": [
       "model_rdd_offline_mode = true\n",
       "model_matrix_offline_mode = true\n",
       "satellite_rdd_offline_mode = true\n",
       "satellite_matrix_offline_mode = true\n",
       "model_path = hdfs:///user/hadoop/spring-index/\n",
       "model_dir = BloomGridmet\n",
       "model_band_num = 3\n",
       "satellite_path = hdfs:///user/hadoop/spring-index/\n",
       "satellite_dir = LeafGridmet\n",
       "sat_band_num = 3\n",
       "out_path = hdfs:///user/pheno/svd/spark/BloomGridmetLeafGridmet/\n",
       "satellite_first_year = 1989\n",
       "satellite_last_year = 2014\n",
       "model_first_year = 1989\n",
       "model_last_year = 2014\n",
       "modToBeMasked = true\n",
       "satToBeMasked = true\n",
       "mod_mask_path = hdfs:///user/hadoop/usa_mask_gridmet.tif\n",
       "sat_mask_path = hdfs:///user/hadoop/usa_mask_gridmet.tif\n"
      ]
     },
     "metadata": {},
     "output_type": "display_data"
    },
    {
     "data": {
      "text/plain": [
       "matrix_mode: ...\n"
      ]
     },
     "metadata": {},
     "output_type": "display_data"
    },
    {
     "data": {
      "text/plain": [
       "hdfs:///user/hadoop/usa_mask_gridmet.tif"
      ]
     },
     "execution_count": 2,
     "metadata": {},
     "output_type": "execute_result"
    }
   ],
   "source": [
    "var model_rdd_offline_mode = true\n",
    "var model_matrix_offline_mode = true\n",
    "var satellite_rdd_offline_mode = true\n",
    "var satellite_matrix_offline_mode = true\n",
    "\n",
    "//Using spring-index model\n",
    "var model_path = \"hdfs:///user/hadoop/spring-index/\"\n",
    "var model_dir = \"BloomGridmet\"\n",
    "var model_band_num = 3  //First band is 0\n",
    "\n",
    "//Using AVHRR Satellite data\n",
    "//var satellite_path = \"hdfs:///user/hadoop/avhrr/\"\n",
    "//var satellite_dir = \"SOST4Km\"\n",
    "var satellite_path = \"hdfs:///user/hadoop/spring-index/\"\n",
    "var satellite_dir = \"LeafGridmet\"\n",
    "var sat_band_num = 3  //First band is 0\n",
    "\n",
    "var out_path = \"hdfs:///user/pheno/svd/spark/\" + model_dir + satellite_dir + \"/\"\n",
    "\n",
    "//Years between (inclusive) 1989 - 2014\n",
    "var satellite_first_year = 1989\n",
    "var satellite_last_year = 2014\n",
    "\n",
    "//Years between (inclusive) 1980 - 2015\n",
    "var model_first_year = 1989\n",
    "var model_last_year = 2014\n",
    "\n",
    "//Mask\n",
    "val modToBeMasked = true\n",
    "val satToBeMasked = true\n",
    "//val mask_path = \"hdfs:///user/hadoop/usa_mask_low.tif\"\n",
    "val mod_mask_path = \"hdfs:///user/hadoop/usa_mask_gridmet.tif\"\n",
    "val sat_mask_path = \"hdfs:///user/hadoop/usa_mask_gridmet.tif\"\n",
    "\n",
    "//Matrix Mode: 0 Normal, 1 SC, 2 SR\n",
    "val matrix_mode = 0\n",
    "\n",
    "val save_rdds = true\n",
    "val save_matrix = true"
   ]
  },
  {
   "cell_type": "markdown",
   "metadata": {},
   "source": [
    "\n",
    "<span style=\"color:red\">DON'T MODIFY ANY PIECE OF CODE FROM HERE ON!!!</span>.\n"
   ]
  },
  {
   "cell_type": "markdown",
   "metadata": {},
   "source": [
    "### Mode of operation validation"
   ]
  },
  {
   "cell_type": "code",
   "execution_count": 3,
   "metadata": {},
   "outputs": [
    {
     "data": {
      "text/plain": [
       "Waiting for a Spark session to start..."
      ]
     },
     "metadata": {},
     "output_type": "display_data"
    },
    {
     "name": "stdout",
     "output_type": "stream",
     "text": [
      "\"Load GeoTiffs\" offline mode is not set properly, i.e., either it was set to false and the required file does not exist or vice-versa. We will reset it to false\n",
      "\"Matrix\" offline mode is not set properly, i.e., either it was set to false and the required file does not exist or vice-versa. We will reset it to false\n",
      "\"Load GeoTiffs\" offline mode is not set properly, i.e., either it was set to false and the required file does not exist or vice-versa. We will reset it to false\n",
      "\"Matrix\" offline mode is not set properly, i.e., either it was set to false and the required file does not exist or vice-versa. We will reset it to false\n",
      "[Stage 2:=====================================================>(999 + 1) / 1000]"
     ]
    },
    {
     "data": {
      "text/plain": [
       "conf = Configuration: core-default.xml, core-site.xml, mapred-default.xml, mapred-site.xml, yarn-default.xml, yarn-site.xml, hdfs-default.xml, hdfs-site.xml, file:/usr/lib/spark-2.1.1-bin-without-hadoop/conf/hive-site.xml\n",
       "fs = DFS[DFSClient[clientName=DFSClient_NONMAPREDUCE_-229384411_50, ugi=pheno (auth:SIMPLE)]]\n",
       "mod_mask_str = _mask\n",
       "sat_mask_str = _mask\n",
       "model_grid0_path = hdfs:///user/pheno/svd/spark/BloomGridmetLeafGridmet/BloomGridmet_grid0\n",
       "model_grid0_index_path = hdfs:///user/pheno/svd/spark/BloomGridmetLeafGridmet/BloomGridmet_grid0_index\n",
       "satellite_grid0_path = hdfs:///user/pheno/svd/spark/BloomGridmetLeafGridmet/LeafGridmet_grid0\n"
      ]
     },
     "metadata": {},
     "output_type": "display_data"
    },
    {
     "data": {
      "text/plain": [
       "matrix_mode_str: String = \"\"\n",
       "satellite_g...\n"
      ]
     },
     "metadata": {},
     "output_type": "display_data"
    },
    {
     "data": {
      "text/plain": [
       "hdfs:///user/pheno/svd/spark/BloomGridmetLeafGridmet/LeafGridmet_grid0"
      ]
     },
     "execution_count": 3,
     "metadata": {},
     "output_type": "execute_result"
    }
   ],
   "source": [
    "//Check offline modes\n",
    "var conf = sc.hadoopConfiguration\n",
    "var fs = org.apache.hadoop.fs.FileSystem.get(conf)\n",
    "\n",
    "//Paths to store data structures for Offline runs\n",
    "var mod_mask_str = \"\"\n",
    "var sat_mask_str = \"\"\n",
    "if (modToBeMasked)\n",
    "  mod_mask_str = \"_mask\"\n",
    "if (satToBeMasked)\n",
    "  sat_mask_str = \"_mask\"\n",
    "\n",
    "val matrix_mode_str = matrix_mode match {\n",
    "  case 1 => \"_Sc_Mc\"\n",
    "  case 2 => \"_Sr_Mr\"\n",
    "  case _ => \"\"\n",
    "}\n",
    "\n",
    "var model_grid0_path = out_path + model_dir + \"_grid0\"\n",
    "var model_grid0_index_path = out_path + model_dir + \"_grid0_index\"\n",
    "var satellite_grid0_path = out_path + satellite_dir + \"_grid0\"\n",
    "var satellite_grid0_index_path = out_path + satellite_dir + \"_grid0_index\"\n",
    "\n",
    "var model_grid_path = out_path + model_dir + \"_grid\"\n",
    "var satellite_grid_path = out_path + satellite_dir + \"_grid\"\n",
    "var model_matrix_path = out_path + model_dir + \"_matrix\"\n",
    "var satellite_matrix_path = out_path + satellite_dir + \"_matrix\"\n",
    "var metadata_path = out_path + model_dir + \"_metadata\"\n",
    "\n",
    "var sc_path = out_path + model_dir + \"_sc\"\n",
    "var mc_path = out_path + model_dir + \"_mc\"\n",
    "\n",
    "val model_rdd_offline_exists = fs.exists(new org.apache.hadoop.fs.Path(model_grid_path))\n",
    "val model_matrix_offline_exists = fs.exists(new org.apache.hadoop.fs.Path(model_matrix_path))\n",
    "val satellite_rdd_offline_exists = fs.exists(new org.apache.hadoop.fs.Path(satellite_grid_path))\n",
    "val satellite_matrix_offline_exists = fs.exists(new org.apache.hadoop.fs.Path(satellite_matrix_path))\n",
    "\n",
    "if (model_rdd_offline_mode != model_rdd_offline_exists) {\n",
    "  println(\"\\\"Load GeoTiffs\\\" offline mode is not set properly, i.e., either it was set to false and the required file does not exist or vice-versa. We will reset it to \" + model_rdd_offline_exists.toString())\n",
    "  model_rdd_offline_mode = model_rdd_offline_exists\n",
    "}\n",
    "\n",
    "if (model_matrix_offline_mode != model_matrix_offline_exists) {\n",
    "  println(\"\\\"Matrix\\\" offline mode is not set properly, i.e., either it was set to false and the required file does not exist or vice-versa. We will reset it to \" + model_matrix_offline_exists.toString())\n",
    "  model_matrix_offline_mode = model_matrix_offline_exists\n",
    "}\n",
    "\n",
    "var model_skip_rdd = false\n",
    "if (model_matrix_offline_exists) {\n",
    "    println(\"Since we have a matrix, the load of the grids RDD will be skipped!!!\")\n",
    "    model_skip_rdd = true\n",
    "}\n",
    "\n",
    "if (satellite_rdd_offline_mode != satellite_rdd_offline_exists) {\n",
    "  println(\"\\\"Load GeoTiffs\\\" offline mode is not set properly, i.e., either it was set to false and the required file does not exist or vice-versa. We will reset it to \" + satellite_rdd_offline_exists.toString())\n",
    "  satellite_rdd_offline_mode = satellite_rdd_offline_exists\n",
    "}\n",
    "\n",
    "if (satellite_matrix_offline_mode != satellite_matrix_offline_exists) {\n",
    "  println(\"\\\"Matrix\\\" offline mode is not set properly, i.e., either it was set to false and the required file does not exist or vice-versa. We will reset it to \" + satellite_matrix_offline_exists.toString())\n",
    "  satellite_matrix_offline_mode = satellite_matrix_offline_exists\n",
    "}\n",
    "\n",
    "var satellite_skip_rdd = false\n",
    "if (satellite_matrix_offline_exists) {\n",
    "    println(\"Since we have a matrix, the load of the grids RDD will be skipped!!!\")\n",
    "    satellite_skip_rdd = true\n",
    "}\n",
    "\n",
    "//Years\n",
    "val model_years = 1989 to 2014\n",
    "val satellite_years = 1989 to 2014\n",
    "\n",
    "if (!satellite_years.contains(satellite_first_year) || !(satellite_years.contains(satellite_last_year))) {\n",
    "  println(\"Invalid range of years for \" + satellite_dir + \". I should be between \" + satellite_first_year + \" and \" + satellite_last_year)\n",
    "  System.exit(0)\n",
    "}\n",
    "\n",
    "if (!model_years.contains(model_first_year) || !(model_years.contains(model_last_year))) {\n",
    "  println(\"Invalid range of years for \" + model_dir + \". I should be between \" + model_first_year + \" and \" + model_last_year)\n",
    "  System.exit(0)\n",
    "}\n",
    "\n",
    "if ( ((satellite_last_year - model_first_year) > (model_last_year - model_first_year)) || ((satellite_last_year - model_first_year) > (model_last_year - model_first_year))) {\n",
    "  println(\"The range of years for each data set should be of the same length.\");\n",
    "  System.exit(0)\n",
    "}\n",
    "\n",
    "var model_years_range = (model_years.indexOf(model_first_year), model_years.indexOf(model_last_year))\n",
    "var satellite_years_range = (satellite_years.indexOf(satellite_first_year), satellite_years.indexOf(satellite_last_year))\n",
    "\n",
    "//Global variables\n",
    "var projected_extent = new ProjectedExtent(new Extent(0,0,0,0), CRS.fromName(\"EPSG:3857\"))\n",
    "var model_grid0: RDD[(Long, Double)] = sc.emptyRDD\n",
    "var model_grid0_index: RDD[Long] = sc.emptyRDD\n",
    "var mod_grids_RDD: RDD[Array[Double]] = sc.emptyRDD\n",
    "var model_grids_RDD: RDD[Array[Double]] = sc.emptyRDD\n",
    "var model_grids: RDD[Array[Double]] = sc.emptyRDD\n",
    "val rows = sc.parallelize(Array[Double]()).map(m => Vectors.dense(m))\n",
    "var model_summary: MultivariateStatisticalSummary = new RowMatrix(rows).computeColumnSummaryStatistics()\n",
    "var model_std :Array[Double] = new Array[Double](0)\n",
    "\n",
    "var satellite_grid0: RDD[(Long, Double)] = sc.emptyRDD\n",
    "var satellite_grid0_index: RDD[Long] = sc.emptyRDD\n",
    "var sat_grids_RDD: RDD[Array[Double]] = sc.emptyRDD\n",
    "var satellite_grids_RDD: RDD[Array[Double]] = sc.emptyRDD\n",
    "var satellite_grids: RDD[Array[Double]] = sc.emptyRDD\n",
    "var satellite_summary: MultivariateStatisticalSummary = new RowMatrix(rows).computeColumnSummaryStatistics()\n",
    "var satellite_std :Array[Double] = new Array[Double](0)\n",
    "\n",
    "var num_cols_rows :(Int, Int) = (0, 0)\n",
    "var cellT :CellType = UByteCellType\n",
    "var mod_mask_tile0 :Tile = new SinglebandGeoTiff(geotrellis.raster.ArrayTile.empty(cellT, num_cols_rows._1, num_cols_rows._2), projected_extent.extent, projected_extent.crs, Tags.empty, GeoTiffOptions.DEFAULT).tile\n",
    "var sat_mask_tile0 :Tile = new SinglebandGeoTiff(geotrellis.raster.ArrayTile.empty(cellT, num_cols_rows._1, num_cols_rows._2), projected_extent.extent, projected_extent.crs, Tags.empty, GeoTiffOptions.DEFAULT).tile\n",
    "var satellite_cells_size :Long = 0\n",
    "var model_cells_size :Long = 0\n",
    "var t0 : Long = 0\n",
    "var t1 : Long = 0"
   ]
  },
  {
   "cell_type": "markdown",
   "metadata": {},
   "source": [
    "## Functions to (de)serialize any structure into Array[Byte]"
   ]
  },
  {
   "cell_type": "code",
   "execution_count": 4,
   "metadata": {},
   "outputs": [
    {
     "data": {
      "text/plain": [
       "serialize: (value: Any)Array[Byte]\n",
       "deserialize: (bytes: Array[Byte])Any\n"
      ]
     },
     "metadata": {},
     "output_type": "display_data"
    }
   ],
   "source": [
    "def serialize(value: Any): Array[Byte] = {\n",
    "    val out_stream: ByteArrayOutputStream = new ByteArrayOutputStream()\n",
    "    val obj_out_stream = new ObjectOutputStream(out_stream)\n",
    "    obj_out_stream.writeObject(value)\n",
    "    obj_out_stream.close\n",
    "    out_stream.toByteArray\n",
    "}\n",
    "\n",
    "def deserialize(bytes: Array[Byte]): Any = {\n",
    "    val obj_in_stream = new ObjectInputStream(new ByteArrayInputStream(bytes))\n",
    "    val value = obj_in_stream.readObject\n",
    "    obj_in_stream.close\n",
    "    value\n",
    "}"
   ]
  },
  {
   "cell_type": "markdown",
   "metadata": {},
   "source": [
    "## Load GeoTiffs\n",
    "\n",
    "Using GeoTrellis all GeoTiffs of a directory will be loaded into a RDD. Using the RDD, we extract a grid from the first file to lated store the Kmeans cluster_IDS, we build an Index for populate such grid and we filter out here all NaN values."
   ]
  },
  {
   "cell_type": "code",
   "execution_count": 5,
   "metadata": {},
   "outputs": [
    {
     "name": "stdout",
     "output_type": "stream",
     "text": [
      "Elapsed time: 2986256226ns\n"
     ]
    },
    {
     "data": {
      "text/plain": [
       "t0 = 46391994956114\n",
       "pattern = tif\n",
       "satellite_filepath = hdfs:///user/hadoop/spring-index/LeafGridmet\n",
       "model_filepath = hdfs:///user/hadoop/spring-index//BloomGridmet\n",
       "t1 = 46394981212340\n"
      ]
     },
     "metadata": {},
     "output_type": "display_data"
    },
    {
     "data": {
      "text/plain": [
       "46394981212340"
      ]
     },
     "execution_count": 5,
     "metadata": {},
     "output_type": "execute_result"
    }
   ],
   "source": [
    "t0 = System.nanoTime()\n",
    "\n",
    "//Load Mask\n",
    "if (modToBeMasked) {\n",
    "  val mask_tiles_RDD = sc.hadoopGeoTiffRDD(mod_mask_path).values\n",
    "  val mask_tiles_withIndex = mask_tiles_RDD.zipWithIndex().map { case (e, v) => (v, e) }\n",
    "  mod_mask_tile0 = (mask_tiles_withIndex.filter(m => m._1 == 0).filter(m => !m._1.isNaN).values.collect()) (0)\n",
    "}\n",
    "\n",
    "if (satToBeMasked) {\n",
    "  val mask_tiles_RDD = sc.hadoopGeoTiffRDD(sat_mask_path).values\n",
    "  val mask_tiles_withIndex = mask_tiles_RDD.zipWithIndex().map { case (e, v) => (v, e) }\n",
    "  sat_mask_tile0 = (mask_tiles_withIndex.filter(m => m._1 == 0).filter(m => !m._1.isNaN).values.collect()) (0)\n",
    "}\n",
    "\n",
    "//Local variables\n",
    "val pattern: String = \"tif\"\n",
    "val satellite_filepath: String = satellite_path + satellite_dir\n",
    "val model_filepath: String = model_path + \"/\" + model_dir\n",
    "\n",
    "t1 = System.nanoTime()\n",
    "println(\"Elapsed time: \" + (t1 - t0) + \"ns\")"
   ]
  },
  {
   "cell_type": "markdown",
   "metadata": {},
   "source": [
    "### Satellite data"
   ]
  },
  {
   "cell_type": "code",
   "execution_count": 6,
   "metadata": {},
   "outputs": [
    {
     "name": "stdout",
     "output_type": "stream",
     "text": [
      "Number of cells is: 483850                                                      \n",
      "Elapsed time: 24362767512ns\n"
     ]
    },
    {
     "data": {
      "text/plain": [
       "t0 = 46397923199754\n",
       "satellite_grids_withIndex = MapPartitionsRDD[59] at map at <console>:137\n",
       "satellite_grids = MapPartitionsRDD[61] at values at <console>:140\n",
       "satellite_summary = org.apache.spark.mllib.stat.MultivariateOnlineSummarizer@212fba8d\n",
       "satellite_std = [D@3ca35e59\n",
       "satellite_cells_size = 483850\n",
       "t1 = 46422285967266\n"
      ]
     },
     "metadata": {},
     "output_type": "display_data"
    },
    {
     "data": {
      "text/plain": [
       "46422285967266"
      ]
     },
     "execution_count": 6,
     "metadata": {},
     "output_type": "execute_result"
    }
   ],
   "source": [
    "t0 = System.nanoTime()\n",
    "if (satellite_rdd_offline_mode) {\n",
    "  satellite_grids_RDD = sc.objectFile(satellite_grid_path)\n",
    "  satellite_grid0 = sc.objectFile(satellite_grid0_path)\n",
    "  satellite_grid0_index = sc.objectFile(satellite_grid0_index_path)\n",
    "} else {\n",
    "  //Lets load MODIS Singleband GeoTiffs and return RDD just with the tiles.\n",
    "  if (sat_band_num == 0) {\n",
    "    val satellite_geos_RDD = sc.hadoopGeoTiffRDD(satellite_filepath, pattern)\n",
    "    val satellite_tiles_RDD = satellite_geos_RDD.values\n",
    "\n",
    "    if (satToBeMasked) {\n",
    "      val mask_tile_broad: Broadcast[Tile] = sc.broadcast(sat_mask_tile0)\n",
    "      sat_grids_RDD = satellite_tiles_RDD.map(m => m.localInverseMask(mask_tile_broad.value, 1, -2000).toArrayDouble().map(m => if (m == -1000) Double.NaN else m))\n",
    "    } else {\n",
    "      sat_grids_RDD = satellite_tiles_RDD.map(m => m.toArrayDouble())\n",
    "    }\n",
    "  } else {\n",
    "    val satellite_geos_RDD = sc.hadoopMultibandGeoTiffRDD(satellite_filepath, pattern)\n",
    "    val satellite_tiles_RDD = satellite_geos_RDD.values\n",
    "\n",
    "    val band_numB: Broadcast[Int] = sc.broadcast(sat_band_num)\n",
    "    if (satToBeMasked) {\n",
    "      val mask_tile_broad: Broadcast[Tile] = sc.broadcast(sat_mask_tile0)\n",
    "      sat_grids_RDD = satellite_tiles_RDD.map(m => m.band(band_numB.value).localInverseMask(mask_tile_broad.value, 1, -2000).toArrayDouble().map(m => if (m == -1000) Double.NaN else m))\n",
    "    } else {\n",
    "      sat_grids_RDD = satellite_tiles_RDD.map(m => m.band(band_numB.value).toArrayDouble())\n",
    "    }\n",
    "  }\n",
    "\n",
    "  //Get Index for each Cell\n",
    "  val grids_withIndex = sat_grids_RDD.zipWithIndex().map { case (e, v) => (v, e) }\n",
    "  if (satToBeMasked) {\n",
    "    satellite_grid0_index = grids_withIndex.filter(m => m._1 == 0).values.flatMap(m => m).zipWithIndex.filter(m => m._1 != -2000.0).map { case (v, i) => (i) }\n",
    "  } else {\n",
    "    satellite_grid0_index = grids_withIndex.filter(m => m._1 == 0).values.flatMap(m => m).zipWithIndex.map { case (v, i) => (i) }\n",
    "  }\n",
    "\n",
    "  //Get the Tile's grid\n",
    "  satellite_grid0 = grids_withIndex.filter(m => m._1 == 0).values.flatMap(m => m).zipWithIndex.map { case (v, i) => (i, v) }\n",
    "\n",
    "  //Lets filter out NaN\n",
    "  if (satToBeMasked) {\n",
    "    satellite_grids_RDD = sat_grids_RDD.map(m => m.filter(m => m != -2000.0))\n",
    "  } else {\n",
    "    satellite_grids_RDD = sat_grids_RDD\n",
    "  }\n",
    "\n",
    "  //Store in HDFS\n",
    "  if (save_rdds) {\n",
    "    satellite_grids_RDD.saveAsObjectFile(satellite_grid_path)\n",
    "    satellite_grid0.saveAsObjectFile(satellite_grid0_path)\n",
    "    satellite_grid0_index.saveAsObjectFile(satellite_grid0_index_path)\n",
    "  }\n",
    "}\n",
    "val satellite_grids_withIndex = satellite_grids_RDD.zipWithIndex().map { case (e, v) => (v, e) }\n",
    "\n",
    "//Filter out the range of years:\n",
    "satellite_grids = satellite_grids_withIndex.filterByRange(satellite_years_range._1, satellite_years_range._2).values\n",
    "satellite_grids.persist(StorageLevel.DISK_ONLY)\n",
    "\n",
    "//Collect Stats:\n",
    "satellite_summary = Statistics.colStats(satellite_grids.map(m => Vectors.dense(m)))\n",
    "satellite_std = satellite_summary.variance.toArray.map(m => scala.math.sqrt(m))\n",
    "\n",
    "satellite_cells_size = satellite_grid0_index.count().toInt\n",
    "println(\"Number of cells is: \" + satellite_cells_size)\n",
    "t1 = System.nanoTime()\n",
    "println(\"Elapsed time: \" + (t1 - t0) + \"ns\")"
   ]
  },
  {
   "cell_type": "markdown",
   "metadata": {},
   "source": [
    "### Model data"
   ]
  },
  {
   "cell_type": "code",
   "execution_count": 7,
   "metadata": {},
   "outputs": [
    {
     "name": "stdout",
     "output_type": "stream",
     "text": [
      "Elapsed time: 28729097684ns                                                     \n"
     ]
    },
    {
     "data": {
      "text/plain": [
       "t0 = 46425693415191\n",
       "model_grids_withIndex = MapPartitionsRDD[101] at map at <console>:186\n",
       "model_grids = MapPartitionsRDD[103] at values at <console>:189\n",
       "model_summary = org.apache.spark.mllib.stat.MultivariateOnlineSummarizer@18ad605e\n",
       "model_tile0_index = MapPartitionsRDD[111] at flatMap at <console>:196\n",
       "model_cells_size = 483850\n",
       "t1 = 46454422512875\n"
      ]
     },
     "metadata": {},
     "output_type": "display_data"
    },
    {
     "data": {
      "text/plain": [
       "46454422512875"
      ]
     },
     "execution_count": 7,
     "metadata": {},
     "output_type": "execute_result"
    }
   ],
   "source": [
    "t0 = System.nanoTime()\n",
    "\n",
    "if (model_rdd_offline_mode) {\n",
    "  model_grids_RDD = sc.objectFile(model_grid_path)\n",
    "  model_grid0 = sc.objectFile(model_grid0_path)\n",
    "  model_grid0_index = sc.objectFile(model_grid0_index_path)\n",
    "  val metadata = sc.sequenceFile(metadata_path, classOf[IntWritable], classOf[BytesWritable]).map(_._2.copyBytes()).collect()\n",
    "  projected_extent = deserialize(metadata(0)).asInstanceOf[ProjectedExtent]\n",
    "  num_cols_rows = (deserialize(metadata(1)).asInstanceOf[Int], deserialize(metadata(2)).asInstanceOf[Int])\n",
    "  cellT = deserialize(metadata(3)).asInstanceOf[CellType]\n",
    "} else {\n",
    "  if (model_band_num == 0) {\n",
    "    val model_geos_RDD = sc.hadoopGeoTiffRDD(model_filepath, pattern)\n",
    "    val model_tiles_RDD = model_geos_RDD.values\n",
    "\n",
    "    //Retrieve the number of cols and rows of the Tile's grid\n",
    "    val tiles_withIndex = model_tiles_RDD.zipWithIndex().map { case (v, i) => (i, v) }\n",
    "    val tile0 = (tiles_withIndex.filter(m => m._1 == 0).values.collect()) (0)\n",
    "\n",
    "    num_cols_rows = (tile0.cols, tile0.rows)\n",
    "    cellT = tile0.cellType\n",
    "\n",
    "    //Retrieve the ProjectExtent which contains metadata such as CRS and bounding box\n",
    "    val projected_extents_withIndex = model_geos_RDD.keys.zipWithIndex().map { case (e, v) => (v, e) }\n",
    "    projected_extent = (projected_extents_withIndex.filter(m => m._1 == 0).values.collect()) (0)\n",
    "\n",
    "    if (modToBeMasked) {\n",
    "      val mask_tile_broad: Broadcast[Tile] = sc.broadcast(mod_mask_tile0)\n",
    "      mod_grids_RDD = model_tiles_RDD.map(m => m.localInverseMask(mask_tile_broad.value, 1, -1000).toArrayDouble())\n",
    "    } else {\n",
    "      mod_grids_RDD = model_tiles_RDD.map(m => m.toArrayDouble())\n",
    "    }\n",
    "  } else {\n",
    "    val model_geos_RDD = sc.hadoopMultibandGeoTiffRDD(model_filepath, pattern)\n",
    "    val model_tiles_RDD = model_geos_RDD.values\n",
    "\n",
    "    //Retrieve the number of cols and rows of the Tile's grid\n",
    "    val tiles_withIndex = model_tiles_RDD.zipWithIndex().map { case (v, i) => (i, v) }\n",
    "    val tile0 = (tiles_withIndex.filter(m => m._1 == 0).values.collect()) (0)\n",
    "\n",
    "    num_cols_rows = (tile0.cols, tile0.rows)\n",
    "    cellT = tile0.cellType\n",
    "\n",
    "    //Retrieve the ProjectExtent which contains metadata such as CRS and bounding box\n",
    "    val projected_extents_withIndex = model_geos_RDD.keys.zipWithIndex().map { case (e, v) => (v, e) }\n",
    "    projected_extent = (projected_extents_withIndex.filter(m => m._1 == 0).values.collect()) (0)\n",
    "\n",
    "    val band_numB: Broadcast[Int] = sc.broadcast(model_band_num)\n",
    "    if (modToBeMasked) {\n",
    "      val mask_tile_broad: Broadcast[Tile] = sc.broadcast(mod_mask_tile0)\n",
    "      mod_grids_RDD = model_tiles_RDD.map(m => m.band(band_numB.value).localInverseMask(mask_tile_broad.value, 1, -1000).toArrayDouble())\n",
    "    } else {\n",
    "      mod_grids_RDD = model_tiles_RDD.map(m => m.band(band_numB.value).toArrayDouble())\n",
    "    }\n",
    "  }\n",
    "\n",
    "  //Get Index for each Cell\n",
    "  val grids_withIndex = mod_grids_RDD.zipWithIndex().map { case (e, v) => (v, e) }\n",
    "  if (modToBeMasked) {\n",
    "    model_grid0_index = grids_withIndex.filter(m => m._1 == 0).values.flatMap(m => m).zipWithIndex.filter(m => m._1 != -1000.0).map { case (v, i) => (i) }\n",
    "  } else {\n",
    "    model_grid0_index = grids_withIndex.filter(m => m._1 == 0).values.flatMap(m => m).zipWithIndex.map { case (v, i) => (i) }\n",
    "  }\n",
    "\n",
    "  //Get the Tile's grid\n",
    "  model_grid0 = grids_withIndex.filter(m => m._1 == 0).values.flatMap( m => m).zipWithIndex.map{case (v,i) => (i,v)}\n",
    "\n",
    "  //Lets filter out NaN\n",
    "  if (modToBeMasked) {\n",
    "    model_grids_RDD = mod_grids_RDD.map(m => m.filter(m => m != -1000.0))\n",
    "  } else {\n",
    "    model_grids_RDD = mod_grids_RDD\n",
    "  }\n",
    "\n",
    "  //Store data in HDFS\n",
    "  model_grids_RDD.saveAsObjectFile(model_grid_path)\n",
    "  model_grid0.saveAsObjectFile(model_grid0_path)\n",
    "  model_grid0_index.saveAsObjectFile(model_grid0_index_path)\n",
    "\n",
    "  val writer: SequenceFile.Writer = SequenceFile.createWriter(conf,\n",
    "    Writer.file(metadata_path),\n",
    "    Writer.keyClass(classOf[IntWritable]),\n",
    "    Writer.valueClass(classOf[BytesWritable])\n",
    "  )\n",
    "\n",
    "  writer.append(new IntWritable(1), new BytesWritable(serialize(projected_extent)))\n",
    "  writer.append(new IntWritable(2), new BytesWritable(serialize(num_cols_rows._1)))\n",
    "  writer.append(new IntWritable(3), new BytesWritable(serialize(num_cols_rows._2)))\n",
    "  writer.append(new IntWritable(4), new BytesWritable(serialize(cellT)))\n",
    "  writer.hflush()\n",
    "  writer.close()\n",
    "}\n",
    "\n",
    "val model_grids_withIndex = model_grids_RDD.zipWithIndex().map { case (e, v) => (v, e) }\n",
    "\n",
    "//Filter out the range of years:\n",
    "model_grids = model_grids_withIndex.filterByRange(model_years_range._1, model_years_range._2).values\n",
    "//model_grids.persist(StorageLevel.DISK_ONLY)\n",
    "\n",
    "//Collect Stats:\n",
    "model_summary = Statistics.colStats(model_grids.map(m => Vectors.dense(m)))\n",
    "//model_std = model_summary.variance.toArray.map(m => scala.math.sqrt(m))\n",
    "\n",
    "var model_tile0_index: RDD[Double] = model_grids_withIndex.filter(m => m._1 == 0).values.flatMap(m => m)\n",
    "model_cells_size = model_tile0_index.count().toInt\n",
    "\n",
    "t1 = System.nanoTime()\n",
    "println(\"Elapsed time: \" + (t1 - t0) + \"ns\")"
   ]
  },
  {
   "cell_type": "markdown",
   "metadata": {},
   "source": [
    "## Matrices"
   ]
  },
  {
   "cell_type": "markdown",
   "metadata": {},
   "source": [
    "### Satellite"
   ]
  },
  {
   "cell_type": "code",
   "execution_count": 8,
   "metadata": {},
   "outputs": [
    {
     "name": "stdout",
     "output_type": "stream",
     "text": [
      "[Stage 31:===================================================>    (34 + 3) / 37]"
     ]
    },
    {
     "data": {
      "text/plain": [
       "satellite_cells_sizeB = Broadcast(38)\n",
       "satellite_mat = org.apache.spark.mllib.linalg.distributed.RowMatrix@7f313738\n",
       "sat_byColumnAndRow = MapPartitionsRDD[117] at flatMap at <console>:67\n",
       "satellite_blockMatrix = org.apache.spark.mllib.linalg.distributed.BlockMatrix@1474dd1f\n"
      ]
     },
     "metadata": {},
     "output_type": "display_data"
    },
    {
     "data": {
      "text/plain": [
       "org.apache.spark.mllib.linalg.distributed.BlockMatrix@1474dd1f"
      ]
     },
     "execution_count": 8,
     "metadata": {},
     "output_type": "execute_result"
    }
   ],
   "source": [
    "//Satellite\n",
    "val satellite_cells_sizeB = sc.broadcast(satellite_cells_size)\n",
    "val satellite_mat: RowMatrix = new RowMatrix(satellite_grids.map(m => m.zipWithIndex).map(m => m.filter(!_._1.isNaN)).map(m => Vectors.sparse(satellite_cells_sizeB.value.toInt, m.map(v => v._2), m.map(v => v._1))))\n",
    "\n",
    "// Split the matrix into one number per line.\n",
    "val sat_byColumnAndRow = satellite_mat.rows.zipWithIndex.map {\n",
    "  case (row, rowIndex) => row.toArray.zipWithIndex.map {\n",
    "    case (number, columnIndex) => new MatrixEntry(rowIndex, columnIndex, number)\n",
    "  }\n",
    "}.flatMap(x => x)\n",
    "val satellite_blockMatrix: BlockMatrix = new CoordinateMatrix(sat_byColumnAndRow).toBlockMatrix()"
   ]
  },
  {
   "cell_type": "markdown",
   "metadata": {},
   "source": [
    "### SC"
   ]
  },
  {
   "cell_type": "code",
   "execution_count": 9,
   "metadata": {},
   "outputs": [
    {
     "name": "stdout",
     "output_type": "stream",
     "text": [
      "                                                                                \r"
     ]
    },
    {
     "data": {
      "text/plain": [
       "sc_exists = false\n",
       "Sc = org.apache.spark.mllib.linalg.distributed.BlockMatrix@f788e64\n"
      ]
     },
     "metadata": {},
     "output_type": "display_data"
    },
    {
     "data": {
      "text/plain": [
       "org.apache.spark.mllib.linalg.distributed.BlockMatrix@f788e64"
      ]
     },
     "execution_count": 9,
     "metadata": {},
     "output_type": "execute_result"
    }
   ],
   "source": [
    "//SC\n",
    "val sc_exists = fs.exists(new org.apache.hadoop.fs.Path(sc_path))\n",
    "var Sc :BlockMatrix = null\n",
    "if (sc_exists) {\n",
    "  val rdd_indexed_rows :RDD[IndexedRow]= sc.objectFile(sc_path)\n",
    "  Sc = new IndexedRowMatrix(rdd_indexed_rows).toBlockMatrix()\n",
    "} else {\n",
    "  val satellite_M_1_Gc = sc.parallelize(Array[Vector](satellite_summary.mean)).map(m => Vectors.dense(m.toArray))\n",
    "  val satellite_M_1_Gc_RowM: RowMatrix = new RowMatrix(satellite_M_1_Gc)\n",
    "  val sat_M_1_Gc_byColumnAndRow = satellite_M_1_Gc_RowM.rows.zipWithIndex.map {\n",
    "    case (row, rowIndex) => row.toArray.zipWithIndex.map {\n",
    "      case (number, columnIndex) => new MatrixEntry(rowIndex, columnIndex, number)\n",
    "    }\n",
    "  }.flatMap(x => x)\n",
    "  val satellite_M_1_Gc_blockMatrix = new CoordinateMatrix(sat_M_1_Gc_byColumnAndRow).toBlockMatrix()\n",
    "\n",
    "  val sat_matrix_Nt_1 = new Array[Double](satellite_grids.count().toInt)\n",
    "  //satellite_grids.unpersist(false)\n",
    "  for (i <- 0 until sat_matrix_Nt_1.length)\n",
    "    sat_matrix_Nt_1(i) = 1\n",
    "  val satellite_M_Nt_1 = sc.parallelize(sat_matrix_Nt_1).map(m => Vectors.dense(m))\n",
    "  val satellite_M_Nt_1_RowM: RowMatrix = new RowMatrix(satellite_M_Nt_1)\n",
    "  val sat_M_Nt_1_byColumnAndRow = satellite_M_Nt_1_RowM.rows.zipWithIndex.map {\n",
    "    case (row, rowIndex) => row.toArray.zipWithIndex.map {\n",
    "      case (number, columnIndex) => new MatrixEntry(rowIndex, columnIndex, number)\n",
    "    }\n",
    "  }.flatMap(x => x)\n",
    "  val satellite_M_Nt_1_blockMatrix = new CoordinateMatrix(sat_M_Nt_1_byColumnAndRow).toBlockMatrix()\n",
    "  val satellite_M_Nt_Gc_blockMatrix = satellite_M_Nt_1_blockMatrix.multiply(satellite_M_1_Gc_blockMatrix)\n",
    "\n",
    "  //Sc = satellite_blockMatrix.subtract(satellite_M_Nt_Gc_blockMatrix)\n",
    "  val joined_mat :RDD[ (Long, (Array[Double], Array[Double]))] = satellite_blockMatrix.toIndexedRowMatrix().rows.map(m => (m.index, m.vector.toArray)).join(satellite_M_Nt_Gc_blockMatrix.toCoordinateMatrix().toIndexedRowMatrix().rows.map(m => (m.index, m.vector.toArray)))\n",
    "  Sc = (new CoordinateMatrix(joined_mat.map {case (row_index, (a,b)) => a.zip(b).map(m => m._1-m._2).zipWithIndex.map{ case (v,col_index) => new MatrixEntry(row_index, col_index,v)}}.flatMap(m => m))).toBlockMatrix() \n",
    "\n",
    "  //save to disk\n",
    "  Sc.toIndexedRowMatrix().rows.saveAsObjectFile(sc_path)\n",
    "}\n",
    "//Sc.persist(StorageLevel.DISK_ONLY)"
   ]
  },
  {
   "cell_type": "markdown",
   "metadata": {},
   "source": [
    "### Model Data"
   ]
  },
  {
   "cell_type": "code",
   "execution_count": 10,
   "metadata": {},
   "outputs": [
    {
     "name": "stdout",
     "output_type": "stream",
     "text": [
      "[Stage 66:===================================================>    (34 + 3) / 37]"
     ]
    },
    {
     "data": {
      "text/plain": [
       "model_cells_sizeB = Broadcast(62)\n",
       "model_mat = org.apache.spark.mllib.linalg.distributed.RowMatrix@6be2eb6a\n",
       "mod_byColumnAndRow = MapPartitionsRDD[178] at flatMap at <console>:67\n",
       "model_blockMatrix = org.apache.spark.mllib.linalg.distributed.BlockMatrix@3ce4cbf7\n"
      ]
     },
     "metadata": {},
     "output_type": "display_data"
    },
    {
     "data": {
      "text/plain": [
       "org.apache.spark.mllib.linalg.distributed.BlockMatrix@3ce4cbf7"
      ]
     },
     "execution_count": 10,
     "metadata": {},
     "output_type": "execute_result"
    }
   ],
   "source": [
    "//Model\n",
    "val model_cells_sizeB = sc.broadcast(model_cells_size)\n",
    "val model_mat: RowMatrix = new RowMatrix(model_grids.map(m => m.zipWithIndex).map(m => m.filter(!_._1.isNaN)).map(m => Vectors.sparse(model_cells_sizeB.value.toInt, m.map(v => v._2), m.map(v => v._1))))\n",
    "\n",
    "// Split the matrix into one number per line.\n",
    "val mod_byColumnAndRow = model_mat.rows.zipWithIndex.map {\n",
    "  case (row, rowIndex) => row.toArray.zipWithIndex.map {\n",
    "    case (number, columnIndex) => new MatrixEntry(rowIndex, columnIndex, number)\n",
    "  }\n",
    "}.flatMap(x => x)\n",
    "val model_blockMatrix: BlockMatrix = new CoordinateMatrix(mod_byColumnAndRow).transpose().toBlockMatrix()"
   ]
  },
  {
   "cell_type": "markdown",
   "metadata": {},
   "source": [
    "### Mc"
   ]
  },
  {
   "cell_type": "code",
   "execution_count": 11,
   "metadata": {},
   "outputs": [
    {
     "name": "stdout",
     "output_type": "stream",
     "text": [
      "[Stage 99:===================================================>(986 + 14) / 1000]"
     ]
    },
    {
     "data": {
      "text/plain": [
       "mc_exists = false\n",
       "Mc = org.apache.spark.mllib.linalg.distributed.BlockMatrix@2c6644f2\n"
      ]
     },
     "metadata": {},
     "output_type": "display_data"
    },
    {
     "data": {
      "text/plain": [
       "org.apache.spark.mllib.linalg.distributed.BlockMatrix@2c6644f2"
      ]
     },
     "execution_count": 11,
     "metadata": {},
     "output_type": "execute_result"
    }
   ],
   "source": [
    "//MC\n",
    "val mc_exists = fs.exists(new org.apache.hadoop.fs.Path(mc_path))\n",
    "var Mc :BlockMatrix = null\n",
    "if (mc_exists) {\n",
    "  val rdd_indexed_rows :RDD[IndexedRow]= sc.objectFile(mc_path)\n",
    "  Mc = new IndexedRowMatrix(rdd_indexed_rows).toBlockMatrix()\n",
    "} else {\n",
    "  val model_M_1_Gc = sc.parallelize(Array[Vector](model_summary.mean)).map(m => Vectors.dense(m.toArray))\n",
    "  val model_M_1_Gc_RowM: RowMatrix = new RowMatrix(model_M_1_Gc)\n",
    "  val mod_M_1_Gc_byColumnAndRow = model_M_1_Gc_RowM.rows.zipWithIndex.map {\n",
    "    case (row, rowIndex) => row.toArray.zipWithIndex.map {\n",
    "      case (number, columnIndex) => new MatrixEntry(rowIndex, columnIndex, number)\n",
    "    }\n",
    "  }.flatMap(x => x)\n",
    "  val model_M_1_Gc_blockMatrix = new CoordinateMatrix(mod_M_1_Gc_byColumnAndRow).toBlockMatrix()\n",
    "\n",
    "  val model_matrix_Nt_1 = new Array[Double](model_grids.count().toInt)\n",
    "  //model_grids.unpersist(false)\n",
    "\n",
    "  for (i <- 0 until model_matrix_Nt_1.length)\n",
    "    model_matrix_Nt_1(i) = 1\n",
    "  val model_M_Nt_1 = sc.parallelize(model_matrix_Nt_1).map(m => Vectors.dense(m))\n",
    "  val model_M_Nt_1_RowM: RowMatrix = new RowMatrix(model_M_Nt_1)\n",
    "  val mod_M_Nt_1_byColumnAndRow = model_M_Nt_1_RowM.rows.zipWithIndex.map {\n",
    "    case (row, rowIndex) => row.toArray.zipWithIndex.map {\n",
    "      case (number, columnIndex) => new MatrixEntry(rowIndex, columnIndex, number)\n",
    "    }\n",
    "  }.flatMap(x => x)\n",
    "  val model_M_Nt_1_blockMatrix = new CoordinateMatrix(mod_M_Nt_1_byColumnAndRow).toBlockMatrix()\n",
    "  val model_M_Nt_Gc_blockMatrix = model_M_Nt_1_blockMatrix.multiply(model_M_1_Gc_blockMatrix)\n",
    "  val model_M_Gc_Nt_blockMatrix = model_M_Nt_Gc_blockMatrix.transpose\n",
    "  \n",
    "  //Mc = model_blockMatrix.subtract(model_M_Gc_Nt_blockMatrix)\n",
    "  val joined_mat :RDD[ (Long, (Array[Double], Array[Double]))] = model_blockMatrix.toIndexedRowMatrix().rows.map( m => (m.index, m.vector.toArray)).join(model_M_Gc_Nt_blockMatrix.toIndexedRowMatrix().rows.map(m => (m.index, m.vector.toArray)))\n",
    "  Mc = (new CoordinateMatrix(joined_mat.map {case (row_index, (a,b)) => a.zip(b).map(m => m._1-m._2).zipWithIndex.map{ case (v,col_index) => new MatrixEntry(row_index, col_index,v)}}.flatMap(m => m))).toBlockMatrix()\n",
    "\n",
    "  //save to disk\n",
    "  Mc.toIndexedRowMatrix().rows.saveAsObjectFile(mc_path)\n",
    "}\n",
    "//Mc.persist(StorageLevel.DISK_ONLY)"
   ]
  },
  {
   "cell_type": "markdown",
   "metadata": {},
   "source": [
    "### Sr"
   ]
  },
  {
   "cell_type": "code",
   "execution_count": 12,
   "metadata": {},
   "outputs": [
    {
     "data": {
      "text/plain": [
       "Sr: org.apache.spark.mllib.linalg.distributed.BlockMatrix = null\n"
      ]
     },
     "metadata": {},
     "output_type": "display_data"
    }
   ],
   "source": [
    "//SR\n",
    "var Sr :BlockMatrix = null"
   ]
  },
  {
   "cell_type": "markdown",
   "metadata": {},
   "source": [
    "### Mr"
   ]
  },
  {
   "cell_type": "code",
   "execution_count": 13,
   "metadata": {},
   "outputs": [
    {
     "data": {
      "text/plain": [
       "Mr: org.apache.spark.mllib.linalg.distributed.BlockMatrix = null\n"
      ]
     },
     "metadata": {},
     "output_type": "display_data"
    }
   ],
   "source": [
    "//MR\n",
    "var Mr :BlockMatrix = null"
   ]
  },
  {
   "cell_type": "markdown",
   "metadata": {},
   "source": [
    "## Matrix Multiplication"
   ]
  },
  {
   "cell_type": "code",
   "execution_count": 14,
   "metadata": {},
   "outputs": [
    {
     "name": "stdout",
     "output_type": "stream",
     "text": [
      "[Stage 103:========================================>                (5 + 2) / 7]"
     ]
    },
    {
     "data": {
      "text/plain": [
       "matrix_mul = org.apache.spark.mllib.linalg.distributed.IndexedRowMatrix@60d23b86\n",
       "n_components = 26\n"
      ]
     },
     "metadata": {},
     "output_type": "display_data"
    },
    {
     "data": {
      "text/plain": [
       "26"
      ]
     },
     "execution_count": 14,
     "metadata": {},
     "output_type": "execute_result"
    }
   ],
   "source": [
    "//Matrix Multiplication\n",
    "var matrix_mul :IndexedRowMatrix = null\n",
    "var n_components :Long = 0\n",
    "\n",
    "//Normal Matrix\n",
    "if (matrix_mode == 0) {\n",
    "  matrix_mul = model_blockMatrix.toIndexedRowMatrix().multiply(satellite_blockMatrix.toLocalMatrix())\n",
    "  n_components = List(model_blockMatrix.numRows(), model_blockMatrix.numCols(), satellite_blockMatrix.numRows(), satellite_blockMatrix.numCols()).min\n",
    "}\n",
    "\n",
    "//SC Matrix\n",
    "if (matrix_mode == 1) {\n",
    "  matrix_mul = Mc.toIndexedRowMatrix().multiply(Sc.toLocalMatrix())\n",
    "  n_components = List(Mc.numRows(), Mc.numCols(), Sc.numRows(), Sc.numCols()).min\n",
    "}\n",
    "\n",
    "//SR Matrix\n",
    "if (matrix_mode == 2) {\n",
    "  matrix_mul = Mr.toIndexedRowMatrix().multiply(Sr.toLocalMatrix())\n",
    "  n_components = List(Mr.numRows(), Mr.numCols(), Sr.numRows(), Sr.numCols()).min\n",
    "}"
   ]
  },
  {
   "cell_type": "markdown",
   "metadata": {},
   "source": [
    "## Paths to save GeoTiffs"
   ]
  },
  {
   "cell_type": "code",
   "execution_count": 24,
   "metadata": {},
   "outputs": [
    {
     "name": "stdout",
     "output_type": "stream",
     "text": [
      "DEPRECATED: Use of this script to execute hdfs command is deprecated.\n",
      "Instead use the hdfs command for it.\n",
      "\n",
      "DEPRECATED: Use of this script to execute hdfs command is deprecated.\n",
      "Instead use the hdfs command for it.\n",
      "\n"
     ]
    },
    {
     "data": {
      "text/plain": [
       "u_geotiff_hdfs_paths = Array(hdfs:///user/pheno/svd/spark/BloomGridmetLeafGridmet/u_tiffs/svd_u_0_26.tif, hdfs:///user/pheno/svd/spark/BloomGridmetLeafGridmet/u_tiffs/svd_u_1_26.tif, hdfs:///user/pheno/svd/spark/BloomGridmetLeafGridmet/u_tiffs/svd_u_2_26.tif, hdfs:///user/pheno/svd/spark/BloomGridmetLeafGridmet/u_tiffs/svd_u_3_26.tif, hdfs:///user/pheno/svd/spark/BloomGridmetLeafGridmet/u_tiffs/svd_u_4_26.tif, hdfs:///user/pheno/svd/spark/BloomGridmetLeafGridmet/u_tiffs/svd_u_5_26.tif, hdfs:///user/pheno/svd/spark/BloomGridmetLeafGridmet/u_tiffs/svd_u_6_26.tif, hdfs:///user/pheno/svd/spark/BloomGridmetLeafGridmet/u_tiffs/svd_u_7_26.tif, hdfs:///user/pheno/svd/spark/BloomGridmetLeafGridmet/u_tiffs/svd_u_8_26.tif, hdfs:///user/pheno/svd/spark/BloomGridmetLeafGridmet/u_tiffs...\n"
      ]
     },
     "metadata": {},
     "output_type": "display_data"
    },
    {
     "data": {
      "text/plain": [
       "warning: there were two feature warnings; re-run with -feature for details\n"
      ]
     },
     "metadata": {},
     "output_type": "display_data"
    },
    {
     "data": {
      "text/plain": [
       "[hdfs:///user/pheno/svd/spark/BloomGridmetLeafGridmet/u_tiffs/svd_u_0_26.tif, hdfs:///user/pheno/svd/spark/BloomGridmetLeafGridmet/u_tiffs/svd_u_1_26.tif, hdfs:///user/pheno/svd/spark/BloomGridmetLeafGridmet/u_tiffs/svd_u_2_26.tif, hdfs:///user/pheno/svd/spark/BloomGridmetLeafGridmet/u_tiffs/svd_u_3_26.tif, hdfs:///user/pheno/svd/spark/BloomGridmetLeafGridmet/u_tiffs/svd_u_4_26.tif, hdfs:///user/pheno/svd/spark/BloomGridmetLeafGridmet/u_tiffs/svd_u_5_26.tif, hdfs:///user/pheno/svd/spark/BloomGridmetLeafGridmet/u_tiffs/svd_u_6_26.tif, hdfs:///user/pheno/svd/spark/BloomGridmetLeafGridmet/u_tiffs/svd_u_7_26.tif, hdfs:///user/pheno/svd/spark/BloomGridmetLeafGridmet/u_tiffs/svd_u_8_26.tif, hdfs:///user/pheno/svd/spark/BloomGridmetLeafGridmet/u_tiffs/svd_u_9_26.tif, hdfs:///user/pheno/svd/spark/BloomGridmetLeafGridmet/u_tiffs/svd_u_10_26.tif, hdfs:///user/pheno/svd/spark/BloomGridmetLeafGridmet/u_tiffs/svd_u_11_26.tif, hdfs:///user/pheno/svd/spark/BloomGridmetLeafGridmet/u_tiffs/svd_u_12_26.tif, hdfs:///user/pheno/svd/spark/BloomGridmetLeafGridmet/u_tiffs/svd_u_13_26.tif, hdfs:///user/pheno/svd/spark/BloomGridmetLeafGridmet/u_tiffs/svd_u_14_26.tif, hdfs:///user/pheno/svd/spark/BloomGridmetLeafGridmet/u_tiffs/svd_u_15_26.tif, hdfs:///user/pheno/svd/spark/BloomGridmetLeafGridmet/u_tiffs/svd_u_16_26.tif, hdfs:///user/pheno/svd/spark/BloomGridmetLeafGridmet/u_tiffs/svd_u_17_26.tif, hdfs:///user/pheno/svd/spark/BloomGridmetLeafGridmet/u_tiffs/svd_u_18_26.tif, hdfs:///user/pheno/svd/spark/BloomGridmetLeafGridmet/u_tiffs/svd_u_19_26.tif, hdfs:///user/pheno/svd/spark/BloomGridmetLeafGridmet/u_tiffs/svd_u_20_26.tif, hdfs:///user/pheno/svd/spark/BloomGridmetLeafGridmet/u_tiffs/svd_u_21_26.tif, hdfs:///user/pheno/svd/spark/BloomGridmetLeafGridmet/u_tiffs/svd_u_22_26.tif, hdfs:///user/pheno/svd/spark/BloomGridmetLeafGridmet/u_tiffs/svd_u_23_26.tif, hdfs:///user/pheno/svd/spark/BloomGridmetLeafGridmet/u_tiffs/svd_u_24_26.tif, hdfs:///user/pheno/svd/spark/BloomGridmetLeafGridmet/u_tiffs/svd_u_25_26.tif]"
      ]
     },
     "execution_count": 24,
     "metadata": {},
     "output_type": "execute_result"
    }
   ],
   "source": [
    "//Paths to save GeoTiffs\n",
    "var u_geotiff_hdfs_paths :Array[String] = Array.fill[String](n_components.toInt)(\"\")\n",
    "var u_geotiff_tmp_paths :Array[String] = Array.fill[String](n_components.toInt)(\"\")\n",
    "var v_geotiff_hdfs_paths :Array[String] = Array.fill[String](n_components.toInt)(\"\")\n",
    "var v_geotiff_tmp_paths :Array[String] = Array.fill[String](n_components.toInt)(\"\")\n",
    "\n",
    "//Create dirs in HDFS\n",
    "var cmd = \"hadoop dfs -mkdir \" + out_path + \"u_tiffs/\"\n",
    "Process(cmd)!\n",
    "\n",
    "cmd = \"hadoop dfs -mkdir \" + out_path + \"v_tiffs/\"\n",
    "Process(cmd)!\n",
    "\n",
    "cfor(0)(_ < n_components, _ + 1) { k =>\n",
    "  u_geotiff_hdfs_paths(k) =  out_path + \"u_tiffs/svd_u_\" + k + \"_\" + n_components + matrix_mode_str + \".tif\"\n",
    "  u_geotiff_tmp_paths(k) = \"/tmp/svd_u_\" + k + \"_\" + n_components + matrix_mode_str + \".tif\"\n",
    "  if (fs.exists(new org.apache.hadoop.fs.Path(u_geotiff_hdfs_paths(k)))) {\n",
    "    println(\"There is already a GeoTiff with the path: \" + u_geotiff_hdfs_paths(k) + \". Please make either a copy or move it to another location, otherwise, it will be over-written.\")\n",
    "  }\n",
    "    \n",
    "  v_geotiff_hdfs_paths(k) =  out_path + \"v_tiffs/svd_v_\" + k + \"_\" + n_components + matrix_mode_str + \".tif\"\n",
    "  v_geotiff_tmp_paths(k) = \"/tmp/svd_v_\" + k + \"_\" + n_components + matrix_mode_str + \".tif\"\n",
    "  if (fs.exists(new org.apache.hadoop.fs.Path(v_geotiff_hdfs_paths(k)))) {\n",
    "    println(\"There is already a GeoTiff with the path: \" + v_geotiff_hdfs_paths(k) + \". Please make either a copy or move it to another location, otherwise, it will be over-written.\")\n",
    "  }\n",
    "}"
   ]
  },
  {
   "cell_type": "markdown",
   "metadata": {},
   "source": [
    "## SVD"
   ]
  },
  {
   "cell_type": "code",
   "execution_count": 16,
   "metadata": {},
   "outputs": [
    {
     "name": "stdout",
     "output_type": "stream",
     "text": [
      "[Stage 312:===============================================>       (27 + 4) / 31]"
     ]
    },
    {
     "data": {
      "text/plain": [
       "svd = \n"
      ]
     },
     "metadata": {},
     "output_type": "display_data"
    },
    {
     "data": {
      "text/plain": [
       "SingularValueDecomposition(org.apache.spark.mllib.linalg.distributed.RowMatrix@55d22e75,[1.2051734846237378E11,1.573150206334601E8,9.35471485444846E7,6.905679842999041E7,5.526621808388986E7,4.070192902337192E7,3.2127821601917822E7,2.490325281301633E7,1.932031231871508E7,1.8266300373007737E7,1.719057402518154E7,1.5019956259419689E7,1.2725605528641595E7,1.164630709787464E7,1.0860080572826311E7,1.0439342694534676E7,9931441.018273862,8331478.3497914625,8252190.491014856,7354727.077607903,6655639.861438522,5983963.356948727,5924921.769039181,5790605.1208739225,5170085.782857857,4426607.045517619],-0.002036923656377453   -1.2352680576094462E...\n"
      ]
     },
     "metadata": {},
     "output_type": "display_data"
    },
    {
     "data": {
      "text/plain": [
       "SingularValueDecomposition(org.apache.spark.mllib.linalg.distributed.RowMatrix@55d22e75,[1.2051734846237378E11,1.573150206334601E8,9.35471485444846E7,6.905679842999041E7,5.526621808388986E7,4.070192902337192E7,3.2127821601917822E7,2.490325281301633E7,1.932031231871508E7,1.8266300373007737E7,1.719057402518154E7,1.5019956259419689E7,1.2725605528641595E7,1.164630709787464E7,1.0860080572826311E7,1.0439342694534676E7,9931441.018273862,8331478.3497914625,8252190.491014856,7354727.077607903,6655639.861438522,5983963.356948727,5924921.769039181,5790605.1208739225,5170085.782857857,4426607.045517619],-0.002036923656377453   -1.2352680576094462E-4  ... (26 total)\n",
       "-0.0020369236563774528  -1.235268057610409E-4   ...\n",
       "-0.0020500859530872525  -9.65667812644858E-5    ...\n",
       "-0.0020482374188388     -6.239900059127777E-5   ...\n",
       "-0.0020469477474922915  -8.282905757390959E-5   ...\n",
       "-0.002046921195694614   -8.469442990963454E-5   ...\n",
       "-0.0020494828957270876  -1.1646198380387777E-4  ...\n",
       "-0.0020482163771796268  -1.0750978256375641E-4  ...\n",
       "-0.002048860666861446   -9.424934725537574E-5   ...\n",
       "-0.0020456599060407563  -9.284860894099287E-5   ...\n",
       "-0.002045659906040758   -9.284860894076454E-5   ...\n",
       "-0.0020362532465157198  -1.4156767437598214E-4  ...\n",
       "-0.0020356343955318045  -1.7376906063041502E-4  ...\n",
       "-0.0020469166743874363  -9.28518492484408E-5    ...\n",
       "-0.002047567966121498   -8.566994728676923E-5   ...\n",
       "-0.0020450582685366293  -4.819300307212088E-5   ...\n",
       "-0.0020431007412379703  -2.233067859427288E-5   ...\n",
       "-0.002046888408163147   -1.0471313699444789E-4  ...\n",
       "-0.0020475328111961427  -1.2259768761988888E-4  ...\n",
       "-0.002050768917035125   2.44738985835072E-6     ...\n",
       "-0.00204313514635117    -4.118750628960056E-5   ...\n",
       "-0.0020449852352686375  -8.045340076109518E-5   ...\n",
       "-0.0020330654076552096  -1.541002702783495E-4   ...\n",
       "-0.0020350016717730498  -1.6436333168731547E-4  ...\n",
       "-0.0020469166743874354  -9.285184924845359E-5   ...\n",
       "-0.0020469166743874345  -9.285184924815457E-5   ...\n",
       "-0.0020456804974022715  -7.040563962084647E-5   ...\n",
       "-0.002042456451556157   -3.559111390254166E-5   ...\n",
       "-0.0020456115361717864  -9.877202219913252E-5   ...\n",
       "-0.002045614754169391   -9.479088045582802E-5   ...\n",
       "-0.0020405421046142884  4.572804891389863E-6    ...\n",
       "-0.0020405421046142892  4.572804891676526E-6    ...\n",
       "-0.0020411865076472857  -1.3311745734127453E-5  ...\n",
       "-0.0020424802926817098  -2.1882550881784178E-5  ...\n",
       "-0.0020330701552174037  -1.5391140459920859E-4  ...\n",
       "-0.0020337285230061716  -1.470157142710632E-4   ...\n",
       "-0.0020456429070425017  -5.17846067761439E-5    ...\n",
       "-0.002045687386103337   -4.533918703389936E-5   ...\n",
       "-0.00204318048406612    -1.8067096688281596E-5  ...\n",
       "-0.002039284753603888   -4.795837077779417E-6   ...\n",
       "-0.0020392847536038865  -4.795837077594669E-6   ...\n",
       "-0.002039284753603889   -4.795837077437894E-6   ...\n",
       "-0.002039897814932473   -8.687630416577292E-6   ...\n",
       "-0.0020374108187109167  7.485972447443534E-6    ...\n",
       "-0.0020386643050476234  -4.3477093651803425E-6  ...\n",
       "-0.002041226806345009   -1.0048869068945629E-5  ...\n",
       "-0.0020331086005524477  -1.091716547736521E-4   ...\n",
       "-0.002033108600552449   -1.0917165477339385E-4  ...\n",
       "-0.0020399483741719137  -4.34041140923787E-6    ...\n",
       "-0.0020399483741719146  -4.340411409183226E-6   ...\n",
       "-0.0020331072196157285  -1.295485619598382E-4   ...\n",
       "-0.002037353952345596   -3.299882680163997E-6   ...\n",
       "-0.0020373539523455965  -3.2998826802802233E-6  ...\n",
       "-0.0020373539523455947  -3.2998826801332055E-6  ...\n",
       "-0.00203996135882749    8.762588816559579E-6    ...\n",
       "-0.00203931706914567    -4.4978464919882746E-6  ...\n",
       "-0.0020393170691456715  -4.4978464916649655E-6  ...\n",
       "-0.0020368166687647934  5.624642090011622E-5    ...\n",
       "-0.001081172167946579   -6.364488505958082E-5   ...\n",
       "-0.001086837902618134   -7.975934007424155E-5   ...\n",
       "-0.0010976071622420115  -2.0322086550545598E-4  ...\n",
       "-0.0010944055065315737  -2.2789134736338006E-4  ...\n",
       "-0.001096964340351669   -3.4231674394211826E-4  ...\n",
       "-0.0011039323551304758  -4.2251610357852483E-4  ...\n",
       "-0.0010911609531107707  -4.5525410284383565E-4  ...\n",
       "-0.0010843484880747709  -5.321783518324218E-4   ...\n",
       "-0.0010760816352601657  -6.227994905678295E-4   ...\n",
       "-0.0010259482462703642  -7.205786904802426E-4   ...\n",
       "-0.0010152188812891086  -5.619287563027305E-4   ...\n",
       "-0.001030481906745187   -5.343081137310598E-4   ...\n",
       "-0.0011093668985572794  -4.896376294026715E-4   ...\n",
       "-0.0010482233202553778  -6.862352924267513E-4   ...\n",
       "-9.505424559768773E-4   -3.0318444922902395E-4  ...\n",
       "-9.567714919107653E-4   -2.8524331304729373E-4  ...\n",
       "-0.001117592895431808   1.171279730291081E-4    ...\n",
       "-0.0012415777026099646  3.7462154364563914E-4   ...\n",
       "-0.0011214716508284334  -9.455983009696222E-6   ...\n",
       "-0.0012382410916588688  -1.754363693697936E-5   ...\n",
       "-0.0013858088086952558  1.6681646010412903E-4   ...\n",
       "... (483850 total))"
      ]
     },
     "execution_count": 16,
     "metadata": {},
     "output_type": "execute_result"
    }
   ],
   "source": [
    "val svd: SingularValueDecomposition[RowMatrix, Matrix] = matrix_mul.toRowMatrix().computeSVD(n_components.toInt, computeU = true)"
   ]
  },
  {
   "cell_type": "code",
   "execution_count": 17,
   "metadata": {},
   "outputs": [
    {
     "data": {
      "text/plain": [
       "U = org.apache.spark.mllib.linalg.distributed.RowMatrix@55d22e75\n",
       "s = [1.2051734846237378E11,1.573150206334601E8,9.35471485444846E7,6.905679842999041E7,5.526621808388986E7,4.070192902337192E7,3.2127821601917822E7,2.490325281301633E7,1.932031231871508E7,1.8266300373007737E7,1.719057402518154E7,1.5019956259419689E7,1.2725605528641595E7,1.164630709787464E7,1.0860080572826311E7,1.0439342694534676E7,9931441.018273862,8331478.3497914625,8252190.491014856,7354727.077607903,6655639.861438522,5983963.356948727,5924921.769039181,5790605.1208739225,5170085.782857857,4426607.045517619]\n",
       "V = \n"
      ]
     },
     "metadata": {},
     "output_type": "display_data"
    },
    {
     "data": {
      "text/plain": [
       "-0.002036923656377452...\n"
      ]
     },
     "metadata": {},
     "output_type": "display_data"
    },
    {
     "data": {
      "text/plain": [
       "-0.002036923656377453   -1.2352680576094462E-4  ... (26 total)\n",
       "-0.0020369236563774528  -1.235268057610409E-4   ...\n",
       "-0.0020500859530872525  -9.65667812644858E-5    ...\n",
       "-0.0020482374188388     -6.239900059127777E-5   ...\n",
       "-0.0020469477474922915  -8.282905757390959E-5   ...\n",
       "-0.002046921195694614   -8.469442990963454E-5   ...\n",
       "-0.0020494828957270876  -1.1646198380387777E-4  ...\n",
       "-0.0020482163771796268  -1.0750978256375641E-4  ...\n",
       "-0.002048860666861446   -9.424934725537574E-5   ...\n",
       "-0.0020456599060407563  -9.284860894099287E-5   ...\n",
       "-0.002045659906040758   -9.284860894076454E-5   ...\n",
       "-0.0020362532465157198  -1.4156767437598214E-4  ...\n",
       "-0.0020356343955318045  -1.7376906063041502E-4  ...\n",
       "-0.0020469166743874363  -9.28518492484408E-5    ...\n",
       "-0.002047567966121498   -8.566994728676923E-5   ...\n",
       "-0.0020450582685366293  -4.819300307212088E-5   ...\n",
       "-0.0020431007412379703  -2.233067859427288E-5   ...\n",
       "-0.002046888408163147   -1.0471313699444789E-4  ...\n",
       "-0.0020475328111961427  -1.2259768761988888E-4  ...\n",
       "-0.002050768917035125   2.44738985835072E-6     ...\n",
       "-0.00204313514635117    -4.118750628960056E-5   ...\n",
       "-0.0020449852352686375  -8.045340076109518E-5   ...\n",
       "-0.0020330654076552096  -1.541002702783495E-4   ...\n",
       "-0.0020350016717730498  -1.6436333168731547E-4  ...\n",
       "-0.0020469166743874354  -9.285184924845359E-5   ...\n",
       "-0.0020469166743874345  -9.285184924815457E-5   ...\n",
       "-0.0020456804974022715  -7.040563962084647E-5   ...\n",
       "-0.002042456451556157   -3.559111390254166E-5   ...\n",
       "-0.0020456115361717864  -9.877202219913252E-5   ...\n",
       "-0.002045614754169391   -9.479088045582802E-5   ...\n",
       "-0.0020405421046142884  4.572804891389863E-6    ...\n",
       "-0.0020405421046142892  4.572804891676526E-6    ...\n",
       "-0.0020411865076472857  -1.3311745734127453E-5  ...\n",
       "-0.0020424802926817098  -2.1882550881784178E-5  ...\n",
       "-0.0020330701552174037  -1.5391140459920859E-4  ...\n",
       "-0.0020337285230061716  -1.470157142710632E-4   ...\n",
       "-0.0020456429070425017  -5.17846067761439E-5    ...\n",
       "-0.002045687386103337   -4.533918703389936E-5   ...\n",
       "-0.00204318048406612    -1.8067096688281596E-5  ...\n",
       "-0.002039284753603888   -4.795837077779417E-6   ...\n",
       "-0.0020392847536038865  -4.795837077594669E-6   ...\n",
       "-0.002039284753603889   -4.795837077437894E-6   ...\n",
       "-0.002039897814932473   -8.687630416577292E-6   ...\n",
       "-0.0020374108187109167  7.485972447443534E-6    ...\n",
       "-0.0020386643050476234  -4.3477093651803425E-6  ...\n",
       "-0.002041226806345009   -1.0048869068945629E-5  ...\n",
       "-0.0020331086005524477  -1.091716547736521E-4   ...\n",
       "-0.002033108600552449   -1.0917165477339385E-4  ...\n",
       "-0.0020399483741719137  -4.34041140923787E-6    ...\n",
       "-0.0020399483741719146  -4.340411409183226E-6   ...\n",
       "-0.0020331072196157285  -1.295485619598382E-4   ...\n",
       "-0.002037353952345596   -3.299882680163997E-6   ...\n",
       "-0.0020373539523455965  -3.2998826802802233E-6  ...\n",
       "-0.0020373539523455947  -3.2998826801332055E-6  ...\n",
       "-0.00203996135882749    8.762588816559579E-6    ...\n",
       "-0.00203931706914567    -4.4978464919882746E-6  ...\n",
       "-0.0020393170691456715  -4.4978464916649655E-6  ...\n",
       "-0.0020368166687647934  5.624642090011622E-5    ...\n",
       "-0.001081172167946579   -6.364488505958082E-5   ...\n",
       "-0.001086837902618134   -7.975934007424155E-5   ...\n",
       "-0.0010976071622420115  -2.0322086550545598E-4  ...\n",
       "-0.0010944055065315737  -2.2789134736338006E-4  ...\n",
       "-0.001096964340351669   -3.4231674394211826E-4  ...\n",
       "-0.0011039323551304758  -4.2251610357852483E-4  ...\n",
       "-0.0010911609531107707  -4.5525410284383565E-4  ...\n",
       "-0.0010843484880747709  -5.321783518324218E-4   ...\n",
       "-0.0010760816352601657  -6.227994905678295E-4   ...\n",
       "-0.0010259482462703642  -7.205786904802426E-4   ...\n",
       "-0.0010152188812891086  -5.619287563027305E-4   ...\n",
       "-0.001030481906745187   -5.343081137310598E-4   ...\n",
       "-0.0011093668985572794  -4.896376294026715E-4   ...\n",
       "-0.0010482233202553778  -6.862352924267513E-4   ...\n",
       "-9.505424559768773E-4   -3.0318444922902395E-4  ...\n",
       "-9.567714919107653E-4   -2.8524331304729373E-4  ...\n",
       "-0.001117592895431808   1.171279730291081E-4    ...\n",
       "-0.0012415777026099646  3.7462154364563914E-4   ...\n",
       "-0.0011214716508284334  -9.455983009696222E-6   ...\n",
       "-0.0012382410916588688  -1.754363693697936E-5   ...\n",
       "-0.0013858088086952558  1.6681646010412903E-4   ...\n",
       "... (483850 total)"
      ]
     },
     "execution_count": 17,
     "metadata": {},
     "output_type": "execute_result"
    }
   ],
   "source": [
    "val U: RowMatrix = svd.U // The U factor is a RowMatrix.\n",
    "val s: Vector = svd.s // The singular values are stored in a local dense vector.\n",
    "val V: Matrix = svd.V // The V factor is a local dense matrix.\n",
    "val S = Matrices.diag(s)"
   ]
  },
  {
   "cell_type": "markdown",
   "metadata": {},
   "source": [
    "# Save results"
   ]
  },
  {
   "cell_type": "markdown",
   "metadata": {},
   "source": [
    "### R"
   ]
  },
  {
   "cell_type": "code",
   "execution_count": 18,
   "metadata": {},
   "outputs": [
    {
     "name": "stdout",
     "output_type": "stream",
     "text": [
      "[Stage 315:===================================================>(999 + 1) / 1000]"
     ]
    },
    {
     "data": {
      "text/plain": [
       "u_path = hdfs:///user/pheno/svd/spark/BloomGridmetLeafGridmet/U.csv\n"
      ]
     },
     "metadata": {},
     "output_type": "display_data"
    },
    {
     "data": {
      "text/plain": [
       "warning: there was one feature warning; re-run with -feature for details\n"
      ]
     },
     "metadata": {},
     "output_type": "display_data"
    },
    {
     "data": {
      "text/plain": [
       "hdfs:///user/pheno/svd/spark/BloomGridmetLeafGridmet/U.csv"
      ]
     },
     "execution_count": 18,
     "metadata": {},
     "output_type": "execute_result"
    }
   ],
   "source": [
    "val u_path = out_path + \"U\" + matrix_mode_str +\".csv\"\n",
    "if (fs.exists(new org.apache.hadoop.fs.Path(u_path))) {\n",
    "  cmd = \"hadoop dfs -rm -r \" + u_path\n",
    "  Process(cmd)!\n",
    "}\n",
    "U.rows.map(m => m.toArray.mkString(\",\")).repartition(1).saveAsTextFile(u_path)"
   ]
  },
  {
   "cell_type": "markdown",
   "metadata": {},
   "source": [
    "### V"
   ]
  },
  {
   "cell_type": "code",
   "execution_count": 23,
   "metadata": {},
   "outputs": [
    {
     "name": "stdout",
     "output_type": "stream",
     "text": [
      "DEPRECATED: Use of this script to execute hdfs command is deprecated.\n",
      "Instead use the hdfs command for it.\n",
      "\n",
      "Deleted hdfs:///user/pheno/svd/spark/BloomGridmetLeafGridmet/V.csv\n",
      "[Stage 396:==========================================>              (3 + 1) / 4]"
     ]
    },
    {
     "data": {
      "text/plain": [
       "v_path = hdfs:///user/pheno/svd/spark/BloomGridmetLeafGridmet/V.csv\n"
      ]
     },
     "metadata": {},
     "output_type": "display_data"
    },
    {
     "data": {
      "text/plain": [
       "lastException: Throwable = null\n",
       "warning: there was one feature warning; re-run with -feature for details\n"
      ]
     },
     "metadata": {},
     "output_type": "display_data"
    },
    {
     "data": {
      "text/plain": [
       "hdfs:///user/pheno/svd/spark/BloomGridmetLeafGridmet/V.csv"
      ]
     },
     "execution_count": 23,
     "metadata": {},
     "output_type": "execute_result"
    }
   ],
   "source": [
    "val v_path = out_path + \"V\" + matrix_mode_str +\".csv\"\n",
    "if (fs.exists(new org.apache.hadoop.fs.Path(v_path))) {\n",
    "  cmd = \"hadoop dfs -rm -r \" + v_path\n",
    "  Process(cmd)!\n",
    "}\n",
    "sc.parallelize(V.rowIter.toVector.map(m => m.toArray.mkString(\"'\")),4).saveAsTextFile(v_path)"
   ]
  },
  {
   "cell_type": "markdown",
   "metadata": {},
   "source": [
    "### S"
   ]
  },
  {
   "cell_type": "code",
   "execution_count": 20,
   "metadata": {},
   "outputs": [
    {
     "data": {
      "text/plain": [
       "s_path = hdfs:///user/pheno/svd/spark/BloomGridmetLeafGridmet/S.csv\n"
      ]
     },
     "metadata": {},
     "output_type": "display_data"
    },
    {
     "data": {
      "text/plain": [
       "lastException: Throwable = null\n",
       "warning: there was one feature warning; re-run with -feature for details\n"
      ]
     },
     "metadata": {},
     "output_type": "display_data"
    },
    {
     "data": {
      "text/plain": [
       "hdfs:///user/pheno/svd/spark/BloomGridmetLeafGridmet/S.csv"
      ]
     },
     "execution_count": 20,
     "metadata": {},
     "output_type": "execute_result"
    }
   ],
   "source": [
    "val s_path = out_path + \"S\" + matrix_mode_str +\".csv\"\n",
    "if (fs.exists(new org.apache.hadoop.fs.Path(s_path))) {\n",
    "  cmd = \"hadoop dfs -rm -r \" + s_path\n",
    "  Process(cmd)!\n",
    "}\n",
    "sc.parallelize(S.rowIter.toVector.map(m => m.toArray.mkString(\",\")),1).saveAsTextFile(s_path)"
   ]
  },
  {
   "cell_type": "markdown",
   "metadata": {},
   "source": [
    "# Save GeoTiffs"
   ]
  },
  {
   "cell_type": "markdown",
   "metadata": {},
   "source": [
    "## Create GeoTiffs for U (dimension is M(A) x n_components)"
   ]
  },
  {
   "cell_type": "code",
   "execution_count": 25,
   "metadata": {},
   "outputs": [
    {
     "name": "stdout",
     "output_type": "stream",
     "text": [
      "[Stage 415:==================================================>(987 + 13) / 1000]]]DEPRECATED: Use of this script to execute hdfs command is deprecated.\n",
      "Instead use the hdfs command for it.\n",
      "\n",
      "[Stage 418:========>                                          (165 + 112) / 999]"
     ]
    },
    {
     "data": {
      "text/plain": [
       "Name: org.apache.spark.SparkException\n",
       "Message: Job 125 cancelled as part of cancellation of all jobs\n",
       "StackTrace: org.apache.spark.SparkException: Job 125 cancelled as part of cancellation of all jobs\n",
       "  at org.apache.spark.scheduler.DAGScheduler.org$apache$spark$scheduler$DAGScheduler$$failJobAndIndependentStages(DAGScheduler.scala:1435)\n",
       "  at org.apache.spark.scheduler.DAGScheduler.handleJobCancellation(DAGScheduler.scala:1375)\n",
       "  at org.apache.spark.scheduler.DAGScheduler$$anonfun$doCancelAllJobs$1.apply$mcVI$sp(DAGScheduler.scala:721)\n",
       "  at org.apache.spark.scheduler.DAGScheduler$$anonfun$doCancelAllJobs$1.apply(DAGScheduler.scala:721)\n",
       "  at org.apache.spark.scheduler.DAGScheduler$$anonfun$doCancelAllJobs$1.apply(DAGScheduler.scala:721)\n",
       "  at scala.collection.mutable.HashSet.foreach(HashSet.scala:78)\n",
       "  at org.apache.spark.scheduler.DAGScheduler.doCancelAllJobs(DAGScheduler.scala:721)\n",
       "  at org.apache.spark.scheduler.DAGSchedulerEventProcessLoop.doOnReceive(DAGScheduler.scala:1628)\n",
       "  at org.apache.spark.scheduler.DAGSchedulerEventProcessLoop.onReceive(DAGScheduler.scala:1605)\n",
       "  at org.apache.spark.scheduler.DAGSchedulerEventProcessLoop.onReceive(DAGScheduler.scala:1594)\n",
       "  at org.apache.spark.util.EventLoop$$anon$1.run(EventLoop.scala:48)\n",
       "  at org.apache.spark.scheduler.DAGScheduler.runJob(DAGScheduler.scala:628)\n",
       "  at org.apache.spark.SparkContext.runJob(SparkContext.scala:1925)\n",
       "  at org.apache.spark.SparkContext.runJob(SparkContext.scala:1938)\n",
       "  at org.apache.spark.SparkContext.runJob(SparkContext.scala:1951)\n",
       "  at org.apache.spark.rdd.ZippedWithIndexRDD.<init>(ZippedWithIndexRDD.scala:50)\n",
       "  at org.apache.spark.rdd.RDD$$anonfun$zipWithIndex$1.apply(RDD.scala:1294)\n",
       "  at org.apache.spark.rdd.RDD$$anonfun$zipWithIndex$1.apply(RDD.scala:1294)\n",
       "  at org.apache.spark.rdd.RDDOperationScope$.withScope(RDDOperationScope.scala:151)\n",
       "  at org.apache.spark.rdd.RDDOperationScope$.withScope(RDDOperationScope.scala:112)\n",
       "  at org.apache.spark.rdd.RDD.withScope(RDD.scala:362)\n",
       "  at org.apache.spark.rdd.RDD.zipWithIndex(RDD.scala:1293)"
      ]
     },
     "execution_count": 25,
     "metadata": {},
     "output_type": "execute_result"
    }
   ],
   "source": [
    "t0 = System.nanoTime()\n",
    "val mod_grid0_index_I = model_grid0_index.zipWithIndex().map{ case (v,i) => (i,v)}\n",
    "cfor(0)(_ < n_components, _ + 1) { k =>\n",
    "  //Merge two RDDs, one containing the clusters_ID indices and the other one the indices of a Tile's grid cells\n",
    "  val kB = sc.broadcast(k)\n",
    "  val U_k_RDD = U.rows.map(_.toArray.zipWithIndex.filter(_._2 == kB.value).sortBy(_._2).map{ case (v,i) => v}).flatMap(m => m)\n",
    "  val cluster_cell_pos = ((U_k_RDD.zipWithIndex().map{ case (v,i) => (i,v)}).join(mod_grid0_index_I)).map{ case (k,(v,i)) => (v,i)}\n",
    "\n",
    "  //Associate a Cluster_IDs to respective Grid_cell\n",
    "  val grid_clusters :RDD[ (Long, (Double, Option[Double]))] = model_grid0.leftOuterJoin(cluster_cell_pos.map{ case (c,i) => (i, c)})\n",
    "\n",
    "  //Convert all None to NaN\n",
    "  val grid_clusters_res = grid_clusters.sortByKey(true).map{case (k, (v, c)) => if (c == None) (k, Double.NaN) else (k, c.get)}\n",
    "\n",
    "  //Define a Tile\n",
    "  val cluster_cells :Array[Double] = grid_clusters_res.values.collect()\n",
    "  val cluster_cellsD = DoubleArrayTile(cluster_cells, num_cols_rows._1, num_cols_rows._2)\n",
    "  val geoTif = new SinglebandGeoTiff(cluster_cellsD, projected_extent.extent, projected_extent.crs, Tags.empty, GeoTiffOptions(compression.DeflateCompression))\n",
    "\n",
    "  //Save to /tmp/\n",
    "  GeoTiffWriter.write(geoTif, u_geotiff_tmp_paths(k))\n",
    "\n",
    "  //Upload to HDFS\n",
    "  var cmd = \"hadoop dfs -copyFromLocal -f \" + u_geotiff_tmp_paths(k) + \" \" + u_geotiff_hdfs_paths(k)\n",
    "  Process(cmd)!\n",
    "\n",
    "  //Remove from /tmp/\n",
    "  cmd = \"rm -fr \" + u_geotiff_tmp_paths(k)\n",
    "  Process(cmd)!\n",
    "}\n",
    "t1 = System.nanoTime()\n",
    "println(\"Elapsed time: \" + (t1 - t0) + \"ns\")"
   ]
  },
  {
   "cell_type": "markdown",
   "metadata": {},
   "source": [
    "## Create GeoTiffs for V (dimension is M(B) x n_components)"
   ]
  },
  {
   "cell_type": "code",
   "execution_count": 26,
   "metadata": {},
   "outputs": [
    {
     "name": "stdout",
     "output_type": "stream",
     "text": [
      "[Stage 431:===================================================>(998 + 2) / 1000]]"
     ]
    },
    {
     "data": {
      "text/plain": [
       "lastException = null\n"
      ]
     },
     "metadata": {},
     "output_type": "display_data"
    },
    {
     "data": {
      "text/plain": [
       "Name: java.lang.ArrayIndexOutOfBoundsException\n",
       "Message: 483850\n",
       "StackTrace:   at geotrellis.raster.DoubleConstantNoDataArrayTile.applyDouble(DoubleArrayTile.scala:125)\n",
       "  at geotrellis.raster.ArrayTile$class.getDouble(ArrayTile.scala:337)\n",
       "  at geotrellis.raster.DoubleArrayTile.getDouble(DoubleArrayTile.scala:24)\n",
       "  at geotrellis.raster.CroppedTile.getDouble(CroppedTile.scala:116)\n",
       "  at geotrellis.raster.CroppedTile.mutable(CroppedTile.scala:155)\n",
       "  at geotrellis.raster.CroppedTile.mutable(CroppedTile.scala:133)\n",
       "  at geotrellis.raster.CroppedTile.toArrayTile(CroppedTile.scala:125)\n",
       "  at geotrellis.raster.CroppedTile.toBytes(CroppedTile.scala:206)\n",
       "  at geotrellis.raster.io.geotiff.GeoTiffTile$.apply(GeoTiffTile.scala:103)\n",
       "  at geotrellis.raster.io.geotiff.package$GeoTiffTileMethods.toGeoTiffTile(package.scala:31)\n",
       "  at geotrellis.raster.io.geotiff.SinglebandGeoTiff.imageData(SinglebandGeoTiff.scala:40)\n",
       "  at geotrellis.raster.io.geotiff.writer.GeoTiffWriter.<init>(GeoTiffWriter.scala:62)\n",
       "  at geotrellis.raster.io.geotiff.writer.GeoTiffWriter$.write(GeoTiffWriter.scala:35)"
      ]
     },
     "execution_count": 26,
     "metadata": {},
     "output_type": "execute_result"
    }
   ],
   "source": [
    "t0 = System.nanoTime()\n",
    "val sat_grid0_index_I = satellite_grid0_index.zipWithIndex().map{ case (v,i) => (i,v)}\n",
    "val iter = V.colIter\n",
    "var k :Int = 0\n",
    "while (iter.hasNext) {\n",
    "  //Merge two RDDs, one containing the clusters_ID indices and the other one the indices of a Tile's grid cells\n",
    "  val V_k_RDD = sc.parallelize(iter.next().toArray)\n",
    "  val cluster_cell_pos = ((V_k_RDD.zipWithIndex().map{ case (v,i) => (i,v)}).join(sat_grid0_index_I)).map{ case (k,(v,i)) => (v,i)}\n",
    "\n",
    "  //Associate a Cluster_IDs to respective Grid_cell\n",
    "  val grid_clusters :RDD[ (Long, (Double, Option[Double]))] = satellite_grid0.leftOuterJoin(cluster_cell_pos.map{ case (c,i) => (i, c)})\n",
    "\n",
    "  //Convert all None to NaN\n",
    "  val grid_clusters_res = grid_clusters.sortByKey(true).map{case (k, (v, c)) => if (c == None) (k, Double.NaN) else (k, c.get)}\n",
    "\n",
    "  //Define a Tile\n",
    "  val cluster_cells :Array[Double] = grid_clusters_res.values.collect()\n",
    "  val cluster_cellsD = DoubleArrayTile(cluster_cells, num_cols_rows._1, num_cols_rows._2)\n",
    "  val geoTif = new SinglebandGeoTiff(cluster_cellsD, projected_extent.extent, projected_extent.crs, Tags.empty, GeoTiffOptions(compression.DeflateCompression))\n",
    "\n",
    "  //Save to /tmp/\n",
    "  GeoTiffWriter.write(geoTif, v_geotiff_tmp_paths(k))\n",
    "\n",
    "  //Upload to HDFS\n",
    "  var cmd = \"hadoop dfs -copyFromLocal -f \" + v_geotiff_tmp_paths(k) + \" \" + v_geotiff_hdfs_paths(k)\n",
    "  Process(cmd)!\n",
    "\n",
    "  //Remove from /tmp/\n",
    "  cmd = \"rm -fr \" + v_geotiff_tmp_paths(k)\n",
    "  Process(cmd)!\n",
    "    \n",
    "  k += 1\n",
    "}\n",
    "t1 = System.nanoTime()\n",
    "println(\"Elapsed time: \" + (t1 - t0) + \"ns\")"
   ]
  },
  {
   "cell_type": "code",
   "execution_count": 27,
   "metadata": {},
   "outputs": [
    {
     "data": {
      "text/plain": [
       "lastException: Throwable = null\n"
      ]
     },
     "metadata": {},
     "output_type": "display_data"
    },
    {
     "data": {
      "text/plain": [
       "1684"
      ]
     },
     "execution_count": 27,
     "metadata": {},
     "output_type": "execute_result"
    }
   ],
   "source": [
    "num_cols_rows._1"
   ]
  },
  {
   "cell_type": "code",
   "execution_count": null,
   "metadata": {},
   "outputs": [],
   "source": []
  }
 ],
 "metadata": {
  "kernelspec": {
   "display_name": "Apache Toree - Scala",
   "language": "scala",
   "name": "apache_toree_scala"
  },
  "language_info": {
   "codemirror_mode": "text/x-scala",
   "file_extension": ".scala",
   "mimetype": "text/x-scala",
   "name": "scala",
   "pygments_lexer": "scala",
   "version": "2.11.8"
  }
 },
 "nbformat": 4,
 "nbformat_minor": 2
}
