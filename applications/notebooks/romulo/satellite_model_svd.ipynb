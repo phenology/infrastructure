{
 "cells": [
  {
   "cell_type": "markdown",
   "metadata": {},
   "source": [
    "# SVD between a Model and Satellite data\n",
    "\n",
    "This notebook shows how to multiply two matrices and calculate SVD. Each matrix is created out a set of GeoTiffs for a series of years. Both matrices should have the same dimension.\n",
    "\n",
    "For demonstration we will use from a model (spring-index) and from a satellite (AVHRR)."
   ]
  },
  {
   "cell_type": "markdown",
   "metadata": {},
   "source": [
    "## Dependencies"
   ]
  },
  {
   "cell_type": "code",
   "execution_count": 1,
   "metadata": {},
   "outputs": [],
   "source": [
    "import java.io.{ByteArrayInputStream, ByteArrayOutputStream, ObjectInputStream, ObjectOutputStream}\n",
    "\n",
    "import geotrellis.proj4.CRS\n",
    "import geotrellis.raster.io.geotiff.writer.GeoTiffWriter\n",
    "import geotrellis.raster.io.geotiff.{SinglebandGeoTiff, _}\n",
    "import geotrellis.raster.{CellType, DoubleArrayTile, Tile, UByteCellType}\n",
    "import geotrellis.spark.io.hadoop._\n",
    "import geotrellis.vector.{Extent, ProjectedExtent}\n",
    "import org.apache.hadoop.io.SequenceFile.Writer\n",
    "import org.apache.hadoop.io.{SequenceFile, _}\n",
    "import org.apache.spark.broadcast.Broadcast\n",
    "import org.apache.spark.mllib.linalg._\n",
    "import org.apache.spark.mllib.linalg.distributed._\n",
    "import org.apache.spark.mllib.stat.{MultivariateStatisticalSummary, Statistics}\n",
    "import org.apache.spark.rdd.RDD\n",
    "import org.apache.spark.storage.StorageLevel\n",
    "import org.apache.spark.{SparkConf, SparkContext}\n",
    "import spire.syntax.cfor.cfor\n",
    "\n",
    "import scala.sys.process.Process"
   ]
  },
  {
   "cell_type": "markdown",
   "metadata": {},
   "source": [
    "## Mode of operation\n",
    "\n",
    "Here the user can define the mode of operation.\n",
    "* **rdd_offline_mode**: If false it means the notebook will create all data from scratch and store protected_extent and num_cols_rows into HDFS. Otherwise, these data structures are read from HDFS.\n",
    "\n",
    "It is also possible to define which directory of GeoTiffs is to be used and on which **band** to run Kmeans. The options are\n",
    "* **all** which are a multi-band (**8 bands**) GeoTiffs\n",
    "* Or choose single band ones:\n",
    "    0. Onset_Greenness_Increase\n",
    "    1. Onset_Greenness_Maximum\n",
    "    2. Onset_Greenness_Decrease\n",
    "    3. Onset_Greenness_Minimum\n",
    "    4. NBAR_EVI_Onset_Greenness_Minimum\n",
    "    5. NBAR_EVI_Onset_Greenness_Maximum\n",
    "    6. NBAR_EVI_Area\n",
    "    7. Dynamics_QC\n",
    "\n",
    "<span style=\"color:red\">Note that when using a range **kemans offline mode** is not possible and it will be reset to **online mode**</span>."
   ]
  },
  {
   "cell_type": "markdown",
   "metadata": {},
   "source": [
    "### Mode of Operation setup\n",
    "<a id='mode_of_operation_setup'></a>"
   ]
  },
  {
   "cell_type": "code",
   "execution_count": 2,
   "metadata": {},
   "outputs": [
    {
     "data": {
      "text/plain": [
       "model_rdd_offline_mode = true\n",
       "model_matrix_offline_mode = true\n",
       "satellite_rdd_offline_mode = true\n",
       "satellite_matrix_offline_mode = true\n",
       "model_path = hdfs:///user/hadoop/spring-index/\n",
       "model_dir = BloomFinalLowPR\n",
       "model_band_num = 0\n",
       "satellite_path = hdfs:///user/hadoop/avhrr/\n",
       "satellite_dir = SOSTLowPR\n",
       "sat_band_num = 0\n",
       "out_path = hdfs:///user/pheno/svd/spark/BloomFinalLowPRSOSTLowPR3/\n",
       "satellite_first_year = 1989\n",
       "satellite_last_year = 2014\n",
       "model_first_year = 1989\n",
       "model_last_year = 2014\n",
       "modToBeMasked = false\n",
       "satToBeMasked = false\n",
       "mod_mask_path = hdfs:///user/hadoop/usa_mask_low.tif\n",
       "sat_mask_path = hdfs:///user/hadoop/usa_mask_low.tif\n",
       "matrix_mode = 0\n"
      ]
     },
     "metadata": {},
     "output_type": "display_data"
    },
    {
     "data": {
      "text/plain": [
       "sa...\n"
      ]
     },
     "metadata": {},
     "output_type": "display_data"
    },
    {
     "data": {
      "text/plain": [
       "0"
      ]
     },
     "execution_count": 2,
     "metadata": {},
     "output_type": "execute_result"
    }
   ],
   "source": [
    "var model_rdd_offline_mode = true\n",
    "var model_matrix_offline_mode = true\n",
    "var satellite_rdd_offline_mode = true\n",
    "var satellite_matrix_offline_mode = true\n",
    "\n",
    "//Using spring-index model\n",
    "var model_path = \"hdfs:///user/hadoop/spring-index/\"\n",
    "var model_dir = \"BloomFinalLowPR\"\n",
    "var model_band_num = 0  //First band is 0\n",
    "\n",
    "//Using AVHRR Satellite data\n",
    "var satellite_path = \"hdfs:///user/hadoop/avhrr/\"\n",
    "var satellite_dir = \"SOSTLowPR\"\n",
    "//var satellite_path = \"hdfs:///user/hadoop/spring-index/\"\n",
    "//var satellite_dir = \"LeafGridmet\"\n",
    "var sat_band_num = 0  //First band is 0\n",
    "\n",
    "var out_path = \"hdfs:///user/emma/svd/spark/\" + model_dir + satellite_dir + \"3/\"\n",
    "//var out_path = \"hdfs:///user/pheno/svd/spark/\" + satellite_dir + model_dir + \"3/\"\n",
    "\n",
    "//Years between (inclusive) 1989 - 2014\n",
    "var satellite_first_year = 1989\n",
    "var satellite_last_year = 2014\n",
    "\n",
    "//Years between (inclusive) 1980 - 2015\n",
    "var model_first_year = 1989\n",
    "var model_last_year = 2014\n",
    "\n",
    "//Mask\n",
    "val modToBeMasked = false\n",
    "val satToBeMasked = false\n",
    "//val mask_path = \"hdfs:///user/hadoop/usa_mask_low.tif\"\n",
    "val mod_mask_path = \"hdfs:///user/hadoop/usa_mask_low.tif\"\n",
    "val sat_mask_path = \"hdfs:///user/hadoop/usa_mask_low.tif\"\n",
    "\n",
    "//Matrix Mode: 0 Normal, 1 SC, 2 SR\n",
    "val matrix_mode = 0\n",
    "\n",
    "val save_rdds = true\n",
    "val save_matrix = true"
   ]
  },
  {
   "cell_type": "markdown",
   "metadata": {},
   "source": [
    "\n",
    "<span style=\"color:red\">DON'T MODIFY ANY PIECE OF CODE FROM HERE ON!!!</span>.\n"
   ]
  },
  {
   "cell_type": "markdown",
   "metadata": {},
   "source": [
    "### Mode of operation validation"
   ]
  },
  {
   "cell_type": "code",
   "execution_count": 3,
   "metadata": {},
   "outputs": [
    {
     "data": {
      "text/plain": [
       "Waiting for a Spark session to start..."
      ]
     },
     "metadata": {},
     "output_type": "display_data"
    },
    {
     "data": {
      "text/plain": [
       "conf = Configuration: core-default.xml, core-site.xml, mapred-default.xml, mapred-site.xml, yarn-default.xml, yarn-site.xml, hdfs-default.xml, hdfs-site.xml, file:/usr/lib/spark-2.1.1-bin-without-hadoop/conf/hive-site.xml\n",
       "fs = DFS[DFSClient[clientName=DFSClient_NONMAPREDUCE_1091801106_42, ugi=emma (auth:SIMPLE)]]\n",
       "model_grid0_path = hdfs:///user/pheno/svd/spark/BloomFinalLowPRSOSTLowPR3/BloomFinalLowPR_grid0\n",
       "model_grid0_index_path = hdfs:///user/pheno/svd/spark/BloomFinalLowPRSOSTLowPR3/BloomFinalLowPR_grid0_index\n",
       "satellite_grid0_path = hdfs:///user/pheno/svd/spark/BloomFinalLowPRSOSTLowPR3/SOSTLowPR_grid0\n"
      ]
     },
     "metadata": {},
     "output_type": "display_data"
    },
    {
     "data": {
      "text/plain": [
       "mod_mask_str: String = \"\"\n",
       "sat_mask_str: String = \"\"\n",
       "matrix_mode_str: String = \"\"\n",
       "satellit...\n"
      ]
     },
     "metadata": {},
     "output_type": "display_data"
    },
    {
     "data": {
      "text/plain": [
       "hdfs:///user/pheno/svd/spark/BloomFinalLowPRSOSTLowPR3/SOSTLowPR_grid0"
      ]
     },
     "execution_count": 3,
     "metadata": {},
     "output_type": "execute_result"
    }
   ],
   "source": [
    "//Check offline modes\n",
    "var conf = sc.hadoopConfiguration\n",
    "var fs = org.apache.hadoop.fs.FileSystem.get(conf)\n",
    "\n",
    "//Paths to store data structures for Offline runs\n",
    "var mod_mask_str = \"\"\n",
    "var sat_mask_str = \"\"\n",
    "if (modToBeMasked)\n",
    "  mod_mask_str = \"_mask\"\n",
    "if (satToBeMasked)\n",
    "  sat_mask_str = \"_mask\"\n",
    "\n",
    "val matrix_mode_str = matrix_mode match {\n",
    "  case 1 => \"_Sc_Mc\"\n",
    "  case 2 => \"_Sr_Mr\"\n",
    "  case _ => \"\"\n",
    "}\n",
    "\n",
    "var model_grid0_path = out_path + model_dir + \"_grid0\"\n",
    "var model_grid0_index_path = out_path + model_dir + \"_grid0_index\"\n",
    "var satellite_grid0_path = out_path + satellite_dir + \"_grid0\"\n",
    "var satellite_grid0_index_path = out_path + satellite_dir + \"_grid0_index\"\n",
    "\n",
    "var model_grid_path = out_path + model_dir + \"_grid\"\n",
    "var satellite_grid_path = out_path + satellite_dir + \"_grid\"\n",
    "var model_matrix_path = out_path + model_dir + \"_matrix\"\n",
    "var satellite_matrix_path = out_path + satellite_dir + \"_matrix\"\n",
    "var metadata_path = out_path + model_dir + \"_metadata\""
   ]
  },
  {
   "cell_type": "code",
   "execution_count": 4,
   "metadata": {},
   "outputs": [
    {
     "name": "stdout",
     "output_type": "stream",
     "text": [
      "\"Load GeoTiffs\" offline mode is not set properly, i.e., either it was set to false and the required file does not exist or vice-versa. We will reset it to false\n",
      "\"Matrix\" offline mode is not set properly, i.e., either it was set to false and the required file does not exist or vice-versa. We will reset it to false\n",
      "\"Load GeoTiffs\" offline mode is not set properly, i.e., either it was set to false and the required file does not exist or vice-versa. We will reset it to false\n",
      "\"Matrix\" offline mode is not set properly, i.e., either it was set to false and the required file does not exist or vice-versa. We will reset it to false\n",
      "[Stage 2:=====================================================>   (28 + 2) / 30]0"
     ]
    },
    {
     "data": {
      "text/plain": [
       "sc_path = hdfs:///user/pheno/svd/spark/BloomFinalLowPRSOSTLowPR3/BloomFinalLowPR_sc\n",
       "mc_path = hdfs:///user/pheno/svd/spark/BloomFinalLowPRSOSTLowPR3/BloomFinalLowPR_mc\n",
       "model_rdd_offline_exists = false\n",
       "model_matrix_offline_exists = false\n",
       "satellite_rdd_offline_exists = false\n",
       "satellite_matrix_offline_exists = false\n",
       "model_skip_rdd = false\n",
       "satellite_skip_rdd = false\n",
       "model_years = Range(1989, 1990, 1991, 1992, 1993, 1994, 1995, 1996, 1997, 1998, 1999, 2000, 2001, 2002, 2003, 2004, 2005, 2006, 2007, 2008, 2009, 2010, 2011, 2012, 2013, 2014)\n",
       "satellite_years = Range(1989, 1990, 1991, 1992, 1993, 1994, 1995, 1996, 1997, 1998, 1999, 2000, 200...\n"
      ]
     },
     "metadata": {},
     "output_type": "display_data"
    },
    {
     "data": {
      "text/plain": [
       "Range(1989, 1990, 1991, 1992, 1993, 1994, 1995, 1996, 1997, 1998, 1999, 2000, 2001, 2002, 2003, 2004, 2005, 2006, 2007, 2008, 2009, 2010, 2011, 2012, 2013, 2014)"
      ]
     },
     "execution_count": 4,
     "metadata": {},
     "output_type": "execute_result"
    }
   ],
   "source": [
    "var sc_path = out_path + model_dir + \"_sc\"\n",
    "var mc_path = out_path + model_dir + \"_mc\"\n",
    "\n",
    "val model_rdd_offline_exists = fs.exists(new org.apache.hadoop.fs.Path(model_grid_path))\n",
    "val model_matrix_offline_exists = fs.exists(new org.apache.hadoop.fs.Path(model_matrix_path))\n",
    "val satellite_rdd_offline_exists = fs.exists(new org.apache.hadoop.fs.Path(satellite_grid_path))\n",
    "val satellite_matrix_offline_exists = fs.exists(new org.apache.hadoop.fs.Path(satellite_matrix_path))\n",
    "\n",
    "if (model_rdd_offline_mode != model_rdd_offline_exists) {\n",
    "  println(\"\\\"Load GeoTiffs\\\" offline mode is not set properly, i.e., either it was set to false and the required file does not exist or vice-versa. We will reset it to \" + model_rdd_offline_exists.toString())\n",
    "  model_rdd_offline_mode = model_rdd_offline_exists\n",
    "}\n",
    "\n",
    "if (model_matrix_offline_mode != model_matrix_offline_exists) {\n",
    "  println(\"\\\"Matrix\\\" offline mode is not set properly, i.e., either it was set to false and the required file does not exist or vice-versa. We will reset it to \" + model_matrix_offline_exists.toString())\n",
    "  model_matrix_offline_mode = model_matrix_offline_exists\n",
    "}\n",
    "\n",
    "var model_skip_rdd = false\n",
    "if (model_matrix_offline_exists) {\n",
    "    println(\"Since we have a matrix, the load of the grids RDD will be skipped!!!\")\n",
    "    model_skip_rdd = true\n",
    "}\n",
    "\n",
    "if (satellite_rdd_offline_mode != satellite_rdd_offline_exists) {\n",
    "  println(\"\\\"Load GeoTiffs\\\" offline mode is not set properly, i.e., either it was set to false and the required file does not exist or vice-versa. We will reset it to \" + satellite_rdd_offline_exists.toString())\n",
    "  satellite_rdd_offline_mode = satellite_rdd_offline_exists\n",
    "}\n",
    "\n",
    "if (satellite_matrix_offline_mode != satellite_matrix_offline_exists) {\n",
    "  println(\"\\\"Matrix\\\" offline mode is not set properly, i.e., either it was set to false and the required file does not exist or vice-versa. We will reset it to \" + satellite_matrix_offline_exists.toString())\n",
    "  satellite_matrix_offline_mode = satellite_matrix_offline_exists\n",
    "}\n",
    "\n",
    "var satellite_skip_rdd = false\n",
    "if (satellite_matrix_offline_exists) {\n",
    "    println(\"Since we have a matrix, the load of the grids RDD will be skipped!!!\")\n",
    "    satellite_skip_rdd = true\n",
    "}\n",
    "\n",
    "//Years\n",
    "val model_years = 1989 to 2014\n",
    "val satellite_years = 1989 to 2014\n",
    "\n",
    "if (!satellite_years.contains(satellite_first_year) || !(satellite_years.contains(satellite_last_year))) {\n",
    "  println(\"Invalid range of years for \" + satellite_dir + \". I should be between \" + satellite_first_year + \" and \" + satellite_last_year)\n",
    "  System.exit(0)\n",
    "}\n",
    "\n",
    "if (!model_years.contains(model_first_year) || !(model_years.contains(model_last_year))) {\n",
    "  println(\"Invalid range of years for \" + model_dir + \". I should be between \" + model_first_year + \" and \" + model_last_year)\n",
    "  System.exit(0)\n",
    "}\n",
    "\n",
    "if ( ((satellite_last_year - model_first_year) > (model_last_year - model_first_year)) || ((satellite_last_year - model_first_year) > (model_last_year - model_first_year))) {\n",
    "  println(\"The range of years for each data set should be of the same length.\");\n",
    "  System.exit(0)\n",
    "}\n",
    "\n",
    "var model_years_range = (model_years.indexOf(model_first_year), model_years.indexOf(model_last_year))\n",
    "var satellite_years_range = (satellite_years.indexOf(satellite_first_year), satellite_years.indexOf(satellite_last_year))\n",
    "\n",
    "//Global variables\n",
    "var projected_extent = new ProjectedExtent(new Extent(0,0,0,0), CRS.fromName(\"EPSG:3857\"))\n",
    "var model_grid0: RDD[(Long, Double)] = sc.emptyRDD\n",
    "var model_grid0_index: RDD[Long] = sc.emptyRDD\n",
    "var mod_grids_RDD: RDD[Array[Double]] = sc.emptyRDD\n",
    "var model_grids_RDD: RDD[Array[Double]] = sc.emptyRDD\n",
    "var model_grids: RDD[Array[Double]] = sc.emptyRDD\n",
    "val rows = sc.parallelize(Array[Double]()).map(m => Vectors.dense(m))\n",
    "var model_summary: MultivariateStatisticalSummary = new RowMatrix(rows).computeColumnSummaryStatistics()\n",
    "var model_std :Array[Double] = new Array[Double](0)\n",
    "\n",
    "var satellite_grid0: RDD[(Long, Double)] = sc.emptyRDD\n",
    "var satellite_grid0_index: RDD[Long] = sc.emptyRDD\n",
    "var sat_grids_RDD: RDD[Array[Double]] = sc.emptyRDD\n",
    "var satellite_grids_RDD: RDD[Array[Double]] = sc.emptyRDD\n",
    "var satellite_grids: RDD[Array[Double]] = sc.emptyRDD\n",
    "var satellite_summary: MultivariateStatisticalSummary = new RowMatrix(rows).computeColumnSummaryStatistics()\n",
    "var satellite_std :Array[Double] = new Array[Double](0)\n",
    "\n",
    "var num_cols_rows :(Int, Int) = (0, 0)\n",
    "var cellT :CellType = UByteCellType\n",
    "var mod_mask_tile0 :Tile = new SinglebandGeoTiff(geotrellis.raster.ArrayTile.empty(cellT, num_cols_rows._1, num_cols_rows._2), projected_extent.extent, projected_extent.crs, Tags.empty, GeoTiffOptions.DEFAULT).tile\n",
    "var sat_mask_tile0 :Tile = new SinglebandGeoTiff(geotrellis.raster.ArrayTile.empty(cellT, num_cols_rows._1, num_cols_rows._2), projected_extent.extent, projected_extent.crs, Tags.empty, GeoTiffOptions.DEFAULT).tile\n",
    "var satellite_cells_size :Long = 0\n",
    "var model_cells_size :Long = 0\n",
    "var t0 : Long = 0\n",
    "var t1 : Long = 0\n",
    "print(t0)"
   ]
  },
  {
   "cell_type": "markdown",
   "metadata": {},
   "source": [
    "## Functions to (de)serialize any structure into Array[Byte]"
   ]
  },
  {
   "cell_type": "code",
   "execution_count": 5,
   "metadata": {},
   "outputs": [
    {
     "data": {
      "text/plain": [
       "serialize: (value: Any)Array[Byte]\n",
       "deserialize: (bytes: Array[Byte])Any\n"
      ]
     },
     "metadata": {},
     "output_type": "display_data"
    }
   ],
   "source": [
    "def serialize(value: Any): Array[Byte] = {\n",
    "    val out_stream: ByteArrayOutputStream = new ByteArrayOutputStream()\n",
    "    val obj_out_stream = new ObjectOutputStream(out_stream)\n",
    "    obj_out_stream.writeObject(value)\n",
    "    obj_out_stream.close\n",
    "    out_stream.toByteArray\n",
    "}\n",
    "\n",
    "def deserialize(bytes: Array[Byte]): Any = {\n",
    "    val obj_in_stream = new ObjectInputStream(new ByteArrayInputStream(bytes))\n",
    "    val value = obj_in_stream.readObject\n",
    "    obj_in_stream.close\n",
    "    value\n",
    "}"
   ]
  },
  {
   "cell_type": "markdown",
   "metadata": {},
   "source": [
    "## Load GeoTiffs\n",
    "\n",
    "Using GeoTrellis all GeoTiffs of a directory will be loaded into a RDD. Using the RDD, we extract a grid from the first file to lated store the Kmeans cluster_IDS, we build an Index for populate such grid and we filter out here all NaN values."
   ]
  },
  {
   "cell_type": "code",
   "execution_count": 6,
   "metadata": {},
   "outputs": [
    {
     "name": "stdout",
     "output_type": "stream",
     "text": [
      "Elapsed time: 92488ns\n"
     ]
    },
    {
     "data": {
      "text/plain": [
       "t0 = 14262587364774\n",
       "pattern = tif\n",
       "satellite_filepath = hdfs:///user/hadoop/avhrr/SOSTLowPR\n",
       "model_filepath = hdfs:///user/hadoop/spring-index//BloomFinalLowPR\n",
       "t1 = 14262587457262\n"
      ]
     },
     "metadata": {},
     "output_type": "display_data"
    },
    {
     "data": {
      "text/plain": [
       "14262587457262"
      ]
     },
     "execution_count": 6,
     "metadata": {},
     "output_type": "execute_result"
    }
   ],
   "source": [
    "t0 = System.nanoTime()\n",
    "\n",
    "//Load Mask\n",
    "if (modToBeMasked) {\n",
    "  val mask_tiles_RDD = sc.hadoopGeoTiffRDD(mod_mask_path).values\n",
    "  val mask_tiles_withIndex = mask_tiles_RDD.zipWithIndex().map { case (e, v) => (v, e) }\n",
    "  mod_mask_tile0 = (mask_tiles_withIndex.filter(m => m._1 == 0).filter(m => !m._1.isNaN).values.collect()) (0)\n",
    "}\n",
    "\n",
    "if (satToBeMasked) {\n",
    "  val mask_tiles_RDD = sc.hadoopGeoTiffRDD(sat_mask_path).values\n",
    "  val mask_tiles_withIndex = mask_tiles_RDD.zipWithIndex().map { case (e, v) => (v, e) }\n",
    "  sat_mask_tile0 = (mask_tiles_withIndex.filter(m => m._1 == 0).filter(m => !m._1.isNaN).values.collect()) (0)\n",
    "}\n",
    "\n",
    "//Local variables\n",
    "val pattern: String = \"tif\"\n",
    "val satellite_filepath: String = satellite_path + satellite_dir\n",
    "val model_filepath: String = model_path + \"/\" + model_dir\n",
    "\n",
    "t1 = System.nanoTime()\n",
    "println(\"Elapsed time: \" + (t1 - t0) + \"ns\")"
   ]
  },
  {
   "cell_type": "markdown",
   "metadata": {},
   "source": [
    "### Satellite data"
   ]
  },
  {
   "cell_type": "code",
   "execution_count": 7,
   "metadata": {},
   "outputs": [
    {
     "name": "stdout",
     "output_type": "stream",
     "text": [
      "[Stage 12:===========================================>              (3 + 1) / 4]Number of cells is: 30870\n",
      "Elapsed time: 17739767427ns\n"
     ]
    },
    {
     "data": {
      "text/plain": [
       "14282777110158"
      ]
     },
     "execution_count": 7,
     "metadata": {},
     "output_type": "execute_result"
    },
    {
     "data": {
      "text/plain": [
       "t0 = 14265037342731\n",
       "satellite_grids_withIndex = MapPartitionsRDD[43] at map at <console>:146\n",
       "satellite_grids = MapPartitionsRDD[45] at values at <console>:149\n",
       "satellite_summary = org.apache.spark.mllib.stat.MultivariateOnlineSummarizer@4c32315\n",
       "satellite_std = [D@7d6a74e1\n",
       "satellite_cells_size = 30870\n",
       "t1 = 14282777110158\n"
      ]
     },
     "metadata": {},
     "output_type": "display_data"
    }
   ],
   "source": [
    "t0 = System.nanoTime()\n",
    "if (satellite_rdd_offline_mode) {\n",
    "  satellite_grids_RDD = sc.objectFile(satellite_grid_path)\n",
    "  satellite_grid0 = sc.objectFile(satellite_grid0_path)\n",
    "  satellite_grid0_index = sc.objectFile(satellite_grid0_index_path)\n",
    "} else {\n",
    "  //Lets load MODIS Singleband GeoTiffs and return RDD just with the tiles.\n",
    "  if (sat_band_num == 0) {\n",
    "    val satellite_geos_RDD = sc.hadoopGeoTiffRDD(satellite_filepath, pattern)\n",
    "    val satellite_tiles_RDD = satellite_geos_RDD.values\n",
    "\n",
    "    if (satToBeMasked) {\n",
    "      val mask_tile_broad: Broadcast[Tile] = sc.broadcast(sat_mask_tile0)\n",
    "      sat_grids_RDD = satellite_tiles_RDD.map(m => m.localInverseMask(mask_tile_broad.value, 1, -2000).toArrayDouble().map(m => if (m == -1000) Double.NaN else m))\n",
    "    } else {\n",
    "      sat_grids_RDD = satellite_tiles_RDD.map(m => m.toArrayDouble())\n",
    "    }\n",
    "  } else {\n",
    "    val satellite_geos_RDD = sc.hadoopMultibandGeoTiffRDD(satellite_filepath, pattern)\n",
    "    val satellite_tiles_RDD = satellite_geos_RDD.values\n",
    "\n",
    "    val band_numB: Broadcast[Int] = sc.broadcast(sat_band_num)\n",
    "    if (satToBeMasked) {\n",
    "      val mask_tile_broad: Broadcast[Tile] = sc.broadcast(sat_mask_tile0)\n",
    "      sat_grids_RDD = satellite_tiles_RDD.map(m => m.band(band_numB.value).localInverseMask(mask_tile_broad.value, 1, -2000).toArrayDouble().map(m => if (m == -1000) Double.NaN else m))\n",
    "    } else {\n",
    "      sat_grids_RDD = satellite_tiles_RDD.map(m => m.band(band_numB.value).toArrayDouble())\n",
    "    }\n",
    "  }\n",
    "\n",
    "  //Get Index for each Cell\n",
    "  val grids_withIndex = sat_grids_RDD.zipWithIndex().map { case (e, v) => (v, e) }\n",
    "  if (satToBeMasked) {\n",
    "    satellite_grid0_index = grids_withIndex.filter(m => m._1 == 0).values.flatMap(m => m).zipWithIndex.filter(m => m._1 != -2000.0).map { case (v, i) => (i) }\n",
    "  } else {\n",
    "    satellite_grid0_index = grids_withIndex.filter(m => m._1 == 0).values.flatMap(m => m).zipWithIndex.map { case (v, i) => (i) }\n",
    "  }\n",
    "\n",
    "  //Get the Tile's grid\n",
    "  satellite_grid0 = grids_withIndex.filter(m => m._1 == 0).values.flatMap(m => m).zipWithIndex.map { case (v, i) => (i, v) }\n",
    "\n",
    "  //Lets filter out NaN\n",
    "  if (satToBeMasked) {\n",
    "    satellite_grids_RDD = sat_grids_RDD.map(m => m.filter(m => m != -2000.0))\n",
    "  } else {\n",
    "    satellite_grids_RDD = sat_grids_RDD\n",
    "  }\n",
    "\n",
    "  //Store in HDFS\n",
    "  if (save_rdds) {\n",
    "    satellite_grids_RDD.saveAsObjectFile(satellite_grid_path)\n",
    "    satellite_grid0.saveAsObjectFile(satellite_grid0_path)\n",
    "    satellite_grid0_index.saveAsObjectFile(satellite_grid0_index_path)\n",
    "  }\n",
    "}\n",
    "val satellite_grids_withIndex = satellite_grids_RDD.zipWithIndex().map { case (e, v) => (v, e) }\n",
    "\n",
    "//Filter out the range of years:\n",
    "satellite_grids = satellite_grids_withIndex.filterByRange(satellite_years_range._1, satellite_years_range._2).values\n",
    "satellite_grids.persist(StorageLevel.DISK_ONLY)\n",
    "\n",
    "//Collect Stats:\n",
    "satellite_summary = Statistics.colStats(satellite_grids.map(m => Vectors.dense(m)))\n",
    "satellite_std = satellite_summary.variance.toArray.map(m => scala.math.sqrt(m))\n",
    "\n",
    "satellite_cells_size = satellite_grid0_index.count().toInt\n",
    "println(\"Number of cells is: \" + satellite_cells_size)\n",
    "t1 = System.nanoTime()\n",
    "println(\"Elapsed time: \" + (t1 - t0) + \"ns\")"
   ]
  },
  {
   "cell_type": "markdown",
   "metadata": {},
   "source": [
    "### Model data"
   ]
  },
  {
   "cell_type": "code",
   "execution_count": 8,
   "metadata": {},
   "outputs": [
    {
     "name": "stdout",
     "output_type": "stream",
     "text": [
      "Elapsed time: 13281679586ns                                                     \n"
     ]
    },
    {
     "data": {
      "text/plain": [
       "t0 = 14286059168480\n",
       "model_grids_withIndex = MapPartitionsRDD[83] at map at <console>:187\n",
       "model_grids = MapPartitionsRDD[85] at values at <console>:190\n",
       "model_summary = org.apache.spark.mllib.stat.MultivariateOnlineSummarizer@c81cdf7\n",
       "model_tile0_index = MapPartitionsRDD[93] at flatMap at <console>:197\n",
       "model_cells_size = 30870\n",
       "t1 = 14299340848066\n"
      ]
     },
     "metadata": {},
     "output_type": "display_data"
    },
    {
     "data": {
      "text/plain": [
       "14299340848066"
      ]
     },
     "execution_count": 8,
     "metadata": {},
     "output_type": "execute_result"
    }
   ],
   "source": [
    "t0 = System.nanoTime()\n",
    "\n",
    "if (model_rdd_offline_mode) {\n",
    "  model_grids_RDD = sc.objectFile(model_grid_path)\n",
    "  model_grid0 = sc.objectFile(model_grid0_path)\n",
    "  model_grid0_index = sc.objectFile(model_grid0_index_path)\n",
    "  val metadata = sc.sequenceFile(metadata_path, classOf[IntWritable], classOf[BytesWritable]).map(_._2.copyBytes()).collect()\n",
    "  projected_extent = deserialize(metadata(0)).asInstanceOf[ProjectedExtent]\n",
    "  num_cols_rows = (deserialize(metadata(1)).asInstanceOf[Int], deserialize(metadata(2)).asInstanceOf[Int])\n",
    "  cellT = deserialize(metadata(3)).asInstanceOf[CellType]\n",
    "} else {\n",
    "  if (model_band_num == 0) {\n",
    "    val model_geos_RDD = sc.hadoopGeoTiffRDD(model_filepath, pattern)\n",
    "    val model_tiles_RDD = model_geos_RDD.values\n",
    "\n",
    "    //Retrieve the number of cols and rows of the Tile's grid\n",
    "    val tiles_withIndex = model_tiles_RDD.zipWithIndex().map { case (v, i) => (i, v) }\n",
    "    val tile0 = (tiles_withIndex.filter(m => m._1 == 0).values.collect()) (0)\n",
    "\n",
    "    num_cols_rows = (tile0.cols, tile0.rows)\n",
    "    cellT = tile0.cellType\n",
    "\n",
    "    //Retrieve the ProjectExtent which contains metadata such as CRS and bounding box\n",
    "    val projected_extents_withIndex = model_geos_RDD.keys.zipWithIndex().map { case (e, v) => (v, e) }\n",
    "    projected_extent = (projected_extents_withIndex.filter(m => m._1 == 0).values.collect()) (0)\n",
    "\n",
    "    if (modToBeMasked) {\n",
    "      val mask_tile_broad: Broadcast[Tile] = sc.broadcast(mod_mask_tile0)\n",
    "      mod_grids_RDD = model_tiles_RDD.map(m => m.localInverseMask(mask_tile_broad.value, 1, -1000).toArrayDouble())\n",
    "    } else {\n",
    "      mod_grids_RDD = model_tiles_RDD.map(m => m.toArrayDouble())\n",
    "    }\n",
    "  } else {\n",
    "    val model_geos_RDD = sc.hadoopMultibandGeoTiffRDD(model_filepath, pattern)\n",
    "    val model_tiles_RDD = model_geos_RDD.values\n",
    "\n",
    "    //Retrieve the number of cols and rows of the Tile's grid\n",
    "    val tiles_withIndex = model_tiles_RDD.zipWithIndex().map { case (v, i) => (i, v) }\n",
    "    val tile0 = (tiles_withIndex.filter(m => m._1 == 0).values.collect()) (0)\n",
    "\n",
    "    num_cols_rows = (tile0.cols, tile0.rows)\n",
    "    cellT = tile0.cellType\n",
    "\n",
    "    //Retrieve the ProjectExtent which contains metadata such as CRS and bounding box\n",
    "    val projected_extents_withIndex = model_geos_RDD.keys.zipWithIndex().map { case (e, v) => (v, e) }\n",
    "    projected_extent = (projected_extents_withIndex.filter(m => m._1 == 0).values.collect()) (0)\n",
    "\n",
    "    val band_numB: Broadcast[Int] = sc.broadcast(model_band_num)\n",
    "    if (modToBeMasked) {\n",
    "      val mask_tile_broad: Broadcast[Tile] = sc.broadcast(mod_mask_tile0)\n",
    "      mod_grids_RDD = model_tiles_RDD.map(m => m.band(band_numB.value).localInverseMask(mask_tile_broad.value, 1, -1000).toArrayDouble())\n",
    "    } else {\n",
    "      mod_grids_RDD = model_tiles_RDD.map(m => m.band(band_numB.value).toArrayDouble())\n",
    "    }\n",
    "  }\n",
    "\n",
    "  //Get Index for each Cell\n",
    "  val grids_withIndex = mod_grids_RDD.zipWithIndex().map { case (e, v) => (v, e) }\n",
    "  if (modToBeMasked) {\n",
    "    model_grid0_index = grids_withIndex.filter(m => m._1 == 0).values.flatMap(m => m).zipWithIndex.filter(m => m._1 != -1000.0).map { case (v, i) => (i) }\n",
    "  } else {\n",
    "    model_grid0_index = grids_withIndex.filter(m => m._1 == 0).values.flatMap(m => m).zipWithIndex.map { case (v, i) => (i) }\n",
    "  }\n",
    "\n",
    "  //Get the Tile's grid\n",
    "  model_grid0 = grids_withIndex.filter(m => m._1 == 0).values.flatMap( m => m).zipWithIndex.map{case (v,i) => (i,v)}\n",
    "\n",
    "  //Lets filter out NaN\n",
    "  if (modToBeMasked) {\n",
    "    model_grids_RDD = mod_grids_RDD.map(m => m.filter(m => m != -1000.0))\n",
    "  } else {\n",
    "    model_grids_RDD = mod_grids_RDD\n",
    "  }\n",
    "\n",
    "  //Store data in HDFS\n",
    "  model_grids_RDD.saveAsObjectFile(model_grid_path)\n",
    "  model_grid0.saveAsObjectFile(model_grid0_path)\n",
    "  model_grid0_index.saveAsObjectFile(model_grid0_index_path)\n",
    "\n",
    "  val writer: SequenceFile.Writer = SequenceFile.createWriter(conf,\n",
    "    Writer.file(metadata_path),\n",
    "    Writer.keyClass(classOf[IntWritable]),\n",
    "    Writer.valueClass(classOf[BytesWritable])\n",
    "  )\n",
    "\n",
    "  writer.append(new IntWritable(1), new BytesWritable(serialize(projected_extent)))\n",
    "  writer.append(new IntWritable(2), new BytesWritable(serialize(num_cols_rows._1)))\n",
    "  writer.append(new IntWritable(3), new BytesWritable(serialize(num_cols_rows._2)))\n",
    "  writer.append(new IntWritable(4), new BytesWritable(serialize(cellT)))\n",
    "  writer.hflush()\n",
    "  writer.close()\n",
    "}\n",
    "\n",
    "val model_grids_withIndex = model_grids_RDD.zipWithIndex().map { case (e, v) => (v, e) }\n",
    "\n",
    "//Filter out the range of years:\n",
    "model_grids = model_grids_withIndex.filterByRange(model_years_range._1, model_years_range._2).values\n",
    "//model_grids.persist(StorageLevel.DISK_ONLY)\n",
    "\n",
    "//Collect Stats:\n",
    "model_summary = Statistics.colStats(model_grids.map(m => Vectors.dense(m)))\n",
    "//model_std = model_summary.variance.toArray.map(m => scala.math.sqrt(m))\n",
    "\n",
    "var model_tile0_index: RDD[Double] = model_grids_withIndex.filter(m => m._1 == 0).values.flatMap(m => m)\n",
    "model_cells_size = model_tile0_index.count().toInt\n",
    "\n",
    "t1 = System.nanoTime()\n",
    "println(\"Elapsed time: \" + (t1 - t0) + \"ns\")"
   ]
  },
  {
   "cell_type": "markdown",
   "metadata": {},
   "source": [
    "## Matrices"
   ]
  },
  {
   "cell_type": "markdown",
   "metadata": {},
   "source": [
    "### Satellite"
   ]
  },
  {
   "cell_type": "code",
   "execution_count": 9,
   "metadata": {},
   "outputs": [
    {
     "name": "stdout",
     "output_type": "stream",
     "text": [
      "[Stage 28:=====================================================>  (24 + 1) / 25]"
     ]
    },
    {
     "data": {
      "text/plain": [
       "satellite_cells_sizeB = Broadcast(30)\n",
       "satellite_mat = org.apache.spark.mllib.linalg.distributed.RowMatrix@5256b241\n",
       "sat_byColumnAndRow = MapPartitionsRDD[99] at flatMap at <console>:67\n",
       "satellite_blockMatrix = org.apache.spark.mllib.linalg.distributed.BlockMatrix@328d26ec\n"
      ]
     },
     "metadata": {},
     "output_type": "display_data"
    },
    {
     "data": {
      "text/plain": [
       "org.apache.spark.mllib.linalg.distributed.BlockMatrix@328d26ec"
      ]
     },
     "execution_count": 9,
     "metadata": {},
     "output_type": "execute_result"
    }
   ],
   "source": [
    "//Satellite\n",
    "val satellite_cells_sizeB = sc.broadcast(satellite_cells_size)\n",
    "val satellite_mat: RowMatrix = new RowMatrix(satellite_grids.map(m => m.zipWithIndex).map(m => m.filter(!_._1.isNaN)).map(m => Vectors.sparse(satellite_cells_sizeB.value.toInt, m.map(v => v._2), m.map(v => v._1))))\n",
    "\n",
    "// Split the matrix into one number per line.\n",
    "val sat_byColumnAndRow = satellite_mat.rows.zipWithIndex.map {\n",
    "  case (row, rowIndex) => row.toArray.zipWithIndex.map {\n",
    "    case (number, columnIndex) => new MatrixEntry(rowIndex, columnIndex, number)\n",
    "  }\n",
    "}.flatMap(x => x)\n",
    "val satellite_blockMatrix: BlockMatrix = new CoordinateMatrix(sat_byColumnAndRow).toBlockMatrix()\n",
    "//val satellite_blockMatrix: BlockMatrix = new CoordinateMatrix(sat_byColumnAndRow).transpose().toBlockMatrix()"
   ]
  },
  {
   "cell_type": "markdown",
   "metadata": {},
   "source": [
    "### SC"
   ]
  },
  {
   "cell_type": "code",
   "execution_count": 10,
   "metadata": {},
   "outputs": [
    {
     "name": "stdout",
     "output_type": "stream",
     "text": [
      "[Stage 62:======================================================> (29 + 1) / 30]"
     ]
    },
    {
     "data": {
      "text/plain": [
       "sc_exists = false\n",
       "Sc = org.apache.spark.mllib.linalg.distributed.BlockMatrix@44b7f109\n"
      ]
     },
     "metadata": {},
     "output_type": "display_data"
    },
    {
     "data": {
      "text/plain": [
       "org.apache.spark.mllib.linalg.distributed.BlockMatrix@44b7f109"
      ]
     },
     "execution_count": 10,
     "metadata": {},
     "output_type": "execute_result"
    }
   ],
   "source": [
    "//SC\n",
    "val sc_exists = fs.exists(new org.apache.hadoop.fs.Path(sc_path))\n",
    "var Sc :BlockMatrix = null\n",
    "if (sc_exists) {\n",
    "  val rdd_indexed_rows :RDD[IndexedRow]= sc.objectFile(sc_path)\n",
    "  Sc = new IndexedRowMatrix(rdd_indexed_rows).toBlockMatrix()\n",
    "} else {\n",
    "  val satellite_M_1_Gc = sc.parallelize(Array[Vector](satellite_summary.mean)).map(m => Vectors.dense(m.toArray))\n",
    "  val satellite_M_1_Gc_RowM: RowMatrix = new RowMatrix(satellite_M_1_Gc)\n",
    "  val sat_M_1_Gc_byColumnAndRow = satellite_M_1_Gc_RowM.rows.zipWithIndex.map {\n",
    "    case (row, rowIndex) => row.toArray.zipWithIndex.map {\n",
    "      case (number, columnIndex) => new MatrixEntry(rowIndex, columnIndex, number)\n",
    "    }\n",
    "  }.flatMap(x => x)\n",
    "  val satellite_M_1_Gc_blockMatrix = new CoordinateMatrix(sat_M_1_Gc_byColumnAndRow).toBlockMatrix()\n",
    "\n",
    "  val sat_matrix_Nt_1 = new Array[Double](satellite_grids.count().toInt)\n",
    "  //satellite_grids.unpersist(false)\n",
    "  for (i <- 0 until sat_matrix_Nt_1.length)\n",
    "    sat_matrix_Nt_1(i) = 1\n",
    "  val satellite_M_Nt_1 = sc.parallelize(sat_matrix_Nt_1).map(m => Vectors.dense(m))\n",
    "  val satellite_M_Nt_1_RowM: RowMatrix = new RowMatrix(satellite_M_Nt_1)\n",
    "  val sat_M_Nt_1_byColumnAndRow = satellite_M_Nt_1_RowM.rows.zipWithIndex.map {\n",
    "    case (row, rowIndex) => row.toArray.zipWithIndex.map {\n",
    "      case (number, columnIndex) => new MatrixEntry(rowIndex, columnIndex, number)\n",
    "    }\n",
    "  }.flatMap(x => x)\n",
    "  val satellite_M_Nt_1_blockMatrix = new CoordinateMatrix(sat_M_Nt_1_byColumnAndRow).toBlockMatrix()\n",
    "  val satellite_M_Nt_Gc_blockMatrix = satellite_M_Nt_1_blockMatrix.multiply(satellite_M_1_Gc_blockMatrix)\n",
    "\n",
    "  //Sc = satellite_blockMatrix.subtract(satellite_M_Nt_Gc_blockMatrix)\n",
    "  val joined_mat :RDD[ (Long, (Array[Double], Array[Double]))] = satellite_blockMatrix.toIndexedRowMatrix().rows.map(m => (m.index, m.vector.toArray)).join(satellite_M_Nt_Gc_blockMatrix.toCoordinateMatrix().toIndexedRowMatrix().rows.map(m => (m.index, m.vector.toArray)))\n",
    "  Sc = (new CoordinateMatrix(joined_mat.map {case (row_index, (a,b)) => a.zip(b).map(m => m._1-m._2).zipWithIndex.map{ case (v,col_index) => new MatrixEntry(row_index, col_index,v)}}.flatMap(m => m))).toBlockMatrix() \n",
    "\n",
    "  //save to disk\n",
    "  Sc.toIndexedRowMatrix().rows.saveAsObjectFile(sc_path)\n",
    "}"
   ]
  },
  {
   "cell_type": "markdown",
   "metadata": {},
   "source": [
    "### Model Data"
   ]
  },
  {
   "cell_type": "code",
   "execution_count": 11,
   "metadata": {},
   "outputs": [
    {
     "name": "stdout",
     "output_type": "stream",
     "text": [
      "[Stage 64:====================================>                   (17 + 4) / 26]"
     ]
    },
    {
     "data": {
      "text/plain": [
       "model_cells_sizeB = Broadcast(54)\n",
       "model_mat = org.apache.spark.mllib.linalg.distributed.RowMatrix@7ce409a4\n",
       "mod_byColumnAndRow = MapPartitionsRDD[160] at flatMap at <console>:67\n",
       "model_blockMatrix = org.apache.spark.mllib.linalg.distributed.BlockMatrix@64b9855c\n"
      ]
     },
     "metadata": {},
     "output_type": "display_data"
    },
    {
     "data": {
      "text/plain": [
       "org.apache.spark.mllib.linalg.distributed.BlockMatrix@64b9855c"
      ]
     },
     "execution_count": 11,
     "metadata": {},
     "output_type": "execute_result"
    }
   ],
   "source": [
    "//Model\n",
    "val model_cells_sizeB = sc.broadcast(model_cells_size)\n",
    "val model_mat: RowMatrix = new RowMatrix(model_grids.map(m => m.zipWithIndex).map(m => m.filter(!_._1.isNaN)).map(m => Vectors.sparse(model_cells_sizeB.value.toInt, m.map(v => v._2), m.map(v => v._1))))\n",
    "\n",
    "// Split the matrix into one number per line.\n",
    "val mod_byColumnAndRow = model_mat.rows.zipWithIndex.map {\n",
    "  case (row, rowIndex) => row.toArray.zipWithIndex.map {\n",
    "    case (number, columnIndex) => new MatrixEntry(rowIndex, columnIndex, number)\n",
    "  }\n",
    "}.flatMap(x => x)\n",
    "val model_blockMatrix: BlockMatrix = new CoordinateMatrix(mod_byColumnAndRow).transpose().toBlockMatrix()\n",
    "//val model_blockMatrix: BlockMatrix = new CoordinateMatrix(mod_byColumnAndRow).toBlockMatrix()"
   ]
  },
  {
   "cell_type": "markdown",
   "metadata": {},
   "source": [
    "### Mc"
   ]
  },
  {
   "cell_type": "code",
   "execution_count": 12,
   "metadata": {},
   "outputs": [
    {
     "name": "stdout",
     "output_type": "stream",
     "text": [
      "[Stage 97:====================================================>   (28 + 2) / 30]"
     ]
    },
    {
     "data": {
      "text/plain": [
       "mc_exists = false\n",
       "Mc = org.apache.spark.mllib.linalg.distributed.BlockMatrix@58df42d2\n"
      ]
     },
     "metadata": {},
     "output_type": "display_data"
    },
    {
     "data": {
      "text/plain": [
       "org.apache.spark.mllib.linalg.distributed.BlockMatrix@58df42d2"
      ]
     },
     "execution_count": 12,
     "metadata": {},
     "output_type": "execute_result"
    }
   ],
   "source": [
    "//MC\n",
    "val mc_exists = fs.exists(new org.apache.hadoop.fs.Path(mc_path))\n",
    "var Mc :BlockMatrix = null\n",
    "if (mc_exists) {\n",
    "  val rdd_indexed_rows :RDD[IndexedRow]= sc.objectFile(mc_path)\n",
    "  Mc = new IndexedRowMatrix(rdd_indexed_rows).toBlockMatrix()\n",
    "} else {\n",
    "  val model_M_1_Gc = sc.parallelize(Array[Vector](model_summary.mean)).map(m => Vectors.dense(m.toArray))\n",
    "  val model_M_1_Gc_RowM: RowMatrix = new RowMatrix(model_M_1_Gc)\n",
    "  val mod_M_1_Gc_byColumnAndRow = model_M_1_Gc_RowM.rows.zipWithIndex.map {\n",
    "    case (row, rowIndex) => row.toArray.zipWithIndex.map {\n",
    "      case (number, columnIndex) => new MatrixEntry(rowIndex, columnIndex, number)\n",
    "    }\n",
    "  }.flatMap(x => x)\n",
    "  val model_M_1_Gc_blockMatrix = new CoordinateMatrix(mod_M_1_Gc_byColumnAndRow).toBlockMatrix()\n",
    "\n",
    "  val model_matrix_Nt_1 = new Array[Double](model_grids.count().toInt)\n",
    "  //model_grids.unpersist(false)\n",
    "\n",
    "  for (i <- 0 until model_matrix_Nt_1.length)\n",
    "    model_matrix_Nt_1(i) = 1\n",
    "  val model_M_Nt_1 = sc.parallelize(model_matrix_Nt_1).map(m => Vectors.dense(m))\n",
    "  val model_M_Nt_1_RowM: RowMatrix = new RowMatrix(model_M_Nt_1)\n",
    "  val mod_M_Nt_1_byColumnAndRow = model_M_Nt_1_RowM.rows.zipWithIndex.map {\n",
    "    case (row, rowIndex) => row.toArray.zipWithIndex.map {\n",
    "      case (number, columnIndex) => new MatrixEntry(rowIndex, columnIndex, number)\n",
    "    }\n",
    "  }.flatMap(x => x)\n",
    "  val model_M_Nt_1_blockMatrix = new CoordinateMatrix(mod_M_Nt_1_byColumnAndRow).toBlockMatrix()\n",
    "  val model_M_Nt_Gc_blockMatrix = model_M_Nt_1_blockMatrix.multiply(model_M_1_Gc_blockMatrix)\n",
    "  val model_M_Gc_Nt_blockMatrix = model_M_Nt_Gc_blockMatrix.transpose\n",
    "  \n",
    "  //Mc = model_blockMatrix.subtract(model_M_Gc_Nt_blockMatrix)\n",
    "  val joined_mat :RDD[ (Long, (Array[Double], Array[Double]))] = model_blockMatrix.toIndexedRowMatrix().rows.map( m => (m.index, m.vector.toArray)).join(model_M_Gc_Nt_blockMatrix.toIndexedRowMatrix().rows.map(m => (m.index, m.vector.toArray)))\n",
    "  Mc = (new CoordinateMatrix(joined_mat.map {case (row_index, (a,b)) => a.zip(b).map(m => m._1-m._2).zipWithIndex.map{ case (v,col_index) => new MatrixEntry(row_index, col_index,v)}}.flatMap(m => m))).toBlockMatrix()\n",
    "\n",
    "  //save to disk\n",
    "  Mc.toIndexedRowMatrix().rows.saveAsObjectFile(mc_path)\n",
    "}"
   ]
  },
  {
   "cell_type": "markdown",
   "metadata": {},
   "source": [
    "### Sr"
   ]
  },
  {
   "cell_type": "code",
   "execution_count": 13,
   "metadata": {},
   "outputs": [
    {
     "data": {
      "text/plain": [
       "Sr: org.apache.spark.mllib.linalg.distributed.BlockMatrix = null\n"
      ]
     },
     "metadata": {},
     "output_type": "display_data"
    }
   ],
   "source": [
    "//SR\n",
    "var Sr :BlockMatrix = null"
   ]
  },
  {
   "cell_type": "markdown",
   "metadata": {},
   "source": [
    "### Mr"
   ]
  },
  {
   "cell_type": "code",
   "execution_count": 14,
   "metadata": {},
   "outputs": [
    {
     "data": {
      "text/plain": [
       "Mr: org.apache.spark.mllib.linalg.distributed.BlockMatrix = null\n"
      ]
     },
     "metadata": {},
     "output_type": "display_data"
    }
   ],
   "source": [
    "//MR\n",
    "var Mr :BlockMatrix = null"
   ]
  },
  {
   "cell_type": "markdown",
   "metadata": {},
   "source": [
    "## Matrix Multiplication"
   ]
  },
  {
   "cell_type": "code",
   "execution_count": 15,
   "metadata": {},
   "outputs": [
    {
     "name": "stdout",
     "output_type": "stream",
     "text": [
      "[Stage 101:===============================================>         (5 + 1) / 6]"
     ]
    },
    {
     "data": {
      "text/plain": [
       "matrix_mul = org.apache.spark.mllib.linalg.distributed.IndexedRowMatrix@7049e690\n",
       "n_components = 3\n",
       "n_components = 3\n"
      ]
     },
     "metadata": {},
     "output_type": "display_data"
    },
    {
     "data": {
      "text/plain": [
       "3"
      ]
     },
     "execution_count": 15,
     "metadata": {},
     "output_type": "execute_result"
    }
   ],
   "source": [
    "//Matrix Multiplication\n",
    "var matrix_mul :IndexedRowMatrix = null\n",
    "var n_components :Long = 0\n",
    "\n",
    "//Normal Matrix\n",
    "if (matrix_mode == 0) {\n",
    "  model_blockMatrix.persist(StorageLevel.DISK_ONLY)\n",
    "  satellite_blockMatrix.persist(StorageLevel.DISK_ONLY)\n",
    "  matrix_mul = model_blockMatrix.toIndexedRowMatrix().multiply(satellite_blockMatrix.toLocalMatrix())\n",
    "  //matrix_mul = satellite_blockMatrix.toIndexedRowMatrix().multiply(model_blockMatrix.toLocalMatrix())\n",
    "  n_components = List(model_blockMatrix.numRows(), model_blockMatrix.numCols(), satellite_blockMatrix.numRows(), satellite_blockMatrix.numCols()).min\n",
    "}\n",
    "\n",
    "//SC Matrix\n",
    "if (matrix_mode == 1) {\n",
    "  Mc.persist(StorageLevel.DISK_ONLY)\n",
    "  Sc.persist(StorageLevel.DISK_ONLY)\n",
    "  matrix_mul = Mc.toIndexedRowMatrix().multiply(Sc.toLocalMatrix())\n",
    "  n_components = List(Mc.numRows(), Mc.numCols(), Sc.numRows(), Sc.numCols()).min\n",
    "}\n",
    "\n",
    "//SR Matrix\n",
    "if (matrix_mode == 2) {\n",
    "  Mr.persist(StorageLevel.DISK_ONLY)\n",
    "  Sr.persist(StorageLevel.DISK_ONLY)\n",
    "  matrix_mul = Mr.toIndexedRowMatrix().multiply(Sr.toLocalMatrix())\n",
    "  n_components = List(Mr.numRows(), Mr.numCols(), Sr.numRows(), Sr.numCols()).min\n",
    "}\n",
    "\n",
    "n_components = 3"
   ]
  },
  {
   "cell_type": "markdown",
   "metadata": {},
   "source": [
    "## Paths to save GeoTiffs"
   ]
  },
  {
   "cell_type": "code",
   "execution_count": 17,
   "metadata": {},
   "outputs": [
    {
     "name": "stdout",
     "output_type": "stream",
     "text": [
      "DEPRECATED: Use of this script to execute hdfs command is deprecated.\n",
      "Instead use the hdfs command for it.\n",
      "\n",
      "DEPRECATED: Use of this script to execute hdfs command is deprecated.\n",
      "Instead use the hdfs command for it.\n",
      "\n"
     ]
    },
    {
     "data": {
      "text/plain": [
       "u_geotiff_hdfs_paths = Array(hdfs:///user/pheno/svd/spark/BloomFinalLowPRSOSTLowPR3/u_tiffs/svd_u_0_3.tif, hdfs:///user/pheno/svd/spark/BloomFinalLowPRSOSTLowPR3/u_tiffs/svd_u_1_3.tif, hdfs:///user/pheno/svd/spark/BloomFinalLowPRSOSTLowPR3/u_tiffs/svd_u_2_3.tif)\n",
       "u_geotiff_tmp_paths = Array(/tmp/svd_u_0_3.tif, /tmp/svd_u_1_3.tif, /tmp/svd_u_2_3.tif)\n",
       "v_geotiff_hdfs_paths = Array(hdfs:///user/pheno/svd/spark/BloomFinalLowPRSOSTLowPR3/v_tiffs/svd_v_0_3.tif, hdfs:///user/pheno/svd/spark/BloomFinalLowPRSOSTLowPR3/v_tiffs/svd_v_1_3.tif, hdfs:///user/pheno/svd/spark/BloomFinalLowPRSOSTLowPR3/v_tiffs/svd_v_2_3.tif)\n",
       "v_geotiff_tmp_paths = Array(/tmp/svd_v_0_3.tif, /tmp/svd_v_1_3.tif, /tmp/svd_v_2_3.tif)\n",
       "cmd = hadoop dfs -mkdir hdf...\n"
      ]
     },
     "metadata": {},
     "output_type": "display_data"
    },
    {
     "data": {
      "text/plain": [
       "warning: there were two feature warnings; re-run with -feature for details\n"
      ]
     },
     "metadata": {},
     "output_type": "display_data"
    },
    {
     "data": {
      "text/plain": [
       "hadoop dfs -mkdir hdfs:///user/pheno/svd/spark/BloomFinalLowPRSOSTLowPR3/v_tiffs/"
      ]
     },
     "execution_count": 17,
     "metadata": {},
     "output_type": "execute_result"
    }
   ],
   "source": [
    "//Paths to save GeoTiffs\n",
    "var u_geotiff_hdfs_paths :Array[String] = Array.fill[String](n_components.toInt)(\"\")\n",
    "var u_geotiff_tmp_paths :Array[String] = Array.fill[String](n_components.toInt)(\"\")\n",
    "var v_geotiff_hdfs_paths :Array[String] = Array.fill[String](n_components.toInt)(\"\")\n",
    "var v_geotiff_tmp_paths :Array[String] = Array.fill[String](n_components.toInt)(\"\")\n",
    "\n",
    "//Create dirs in HDFS\n",
    "var cmd = \"hadoop dfs -mkdir \" + out_path + \"u_tiffs/\"\n",
    "Process(cmd)!\n",
    "\n",
    "cmd = \"hadoop dfs -mkdir \" + out_path + \"v_tiffs/\"\n",
    "Process(cmd)!\n",
    "\n",
    "cfor(0)(_ < n_components, _ + 1) { k =>\n",
    "  u_geotiff_hdfs_paths(k) =  out_path + \"u_tiffs/svd_u_\" + k + \"_\" + n_components + matrix_mode_str + \".tif\"\n",
    "  u_geotiff_tmp_paths(k) = \"/tmp/svd_u_\" + k + \"_\" + n_components + matrix_mode_str + \".tif\"\n",
    "  if (fs.exists(new org.apache.hadoop.fs.Path(u_geotiff_hdfs_paths(k)))) {\n",
    "    println(\"There is already a GeoTiff with the path: \" + u_geotiff_hdfs_paths(k) + \". Please make either a copy or move it to another location, otherwise, it will be over-written.\")\n",
    "  }\n",
    "    \n",
    "  v_geotiff_hdfs_paths(k) =  out_path + \"v_tiffs/svd_v_\" + k + \"_\" + n_components + matrix_mode_str + \".tif\"\n",
    "  v_geotiff_tmp_paths(k) = \"/tmp/svd_v_\" + k + \"_\" + n_components + matrix_mode_str + \".tif\"\n",
    "  if (fs.exists(new org.apache.hadoop.fs.Path(v_geotiff_hdfs_paths(k)))) {\n",
    "    println(\"There is already a GeoTiff with the path: \" + v_geotiff_hdfs_paths(k) + \". Please make either a copy or move it to another location, otherwise, it will be over-written.\")\n",
    "  }\n",
    "}"
   ]
  },
  {
   "cell_type": "markdown",
   "metadata": {},
   "source": [
    "## SVD"
   ]
  },
  {
   "cell_type": "code",
   "execution_count": 18,
   "metadata": {},
   "outputs": [
    {
     "name": "stdout",
     "output_type": "stream",
     "text": [
      "[Stage 157:=====================================================> (29 + 1) / 30]"
     ]
    },
    {
     "data": {
      "text/plain": [
       "svd = \n"
      ]
     },
     "metadata": {},
     "output_type": "display_data"
    },
    {
     "data": {
      "text/plain": [
       "-0.0031281087007062826  3.59889857364454E-4     -2.57503458...\n"
      ]
     },
     "metadata": {},
     "output_type": "display_data"
    },
    {
     "data": {
      "text/plain": [
       "SingularValueDecomposition(org.apache.spark.mllib.linalg.distributed.IndexedRowMatrix@1d2a4a41,[1.2058745930351883E10,1.6180989320622066E7,7149599.582807035],-0.003094082471529021   2.751008759221239E-4    -3.495392832804974E-4   \n",
       "-0.0030982550899576527  -5.077106383386543E-4   -9.506898530275529E-4   \n",
       "-0.003103467512738654   1.2189548021424712E-4   -5.262205488864441E-6   \n",
       "-0.003120955465414803   -1.7211863725889273E-4  -5.366885485462618E-4   \n",
       "-0.003120955465414802   -1.721186372601296E-4   -5.36688548552774E-4    \n",
       "-0.003144528624468846   -2.5694479469636503E-4  -3.506686153675054E-4   \n",
       "-0.0031281087007062826  3.59889857364454E-4     -2.575034589537284E-4   \n",
       "-0.003097208015263957   4.970262360332279E-4    4.856529696598507E-4    \n",
       "-0.0031176622400108313  -6.696045355606668E-5   1.2973119728400826E-4   \n",
       "-0.003117662240010832   -6.696045355532517E-5   1.2973119728789447E-4   \n",
       "-0.003103452580306946   5.460274068996505E-5    2.8749117769129046E-4   \n",
       "-0.003077470745398415   3.0288884711260653E-4   -2.0180083587448402E-4  \n",
       "-0.003079888834805732   -3.2934449470587584E-4  1.030135767536508E-4    \n",
       "-0.0030560873832695826  -3.8299400269064556E-4  8.667215094869786E-5    \n",
       "-0.0030560873832695835  -3.829940026912491E-4   8.667215094539495E-5    \n",
       "-0.0031124959004053127  -2.3004608186535746E-4  -4.956809462148787E-4   \n",
       "-0.0031517201369965983  4.142116154570355E-4    2.1956111154889215E-4   \n",
       "-0.003098285480697483   5.103182878134889E-4    -6.434341604856391E-4   \n",
       "-0.003100041620973572   2.5434820173554266E-4   -3.927268091843375E-4   \n",
       "-0.0031000416209735716  2.5434820173495686E-4   -3.9272680918751163E-4  \n",
       "-0.003077755449741333   2.3988400344889546E-4   -2.080757405565725E-4   \n",
       "-0.0030754615876506315  -6.85307532480509E-5    -1.2489605728686383E-4  \n",
       "-0.003089654008525518   -5.805704749548176E-4   3.1864298439328786E-4   \n",
       "-0.003127852884911115   -3.238702675279776E-4   7.973030713429381E-4    \n",
       "-0.0031394789504803847  -4.891395402672503E-4   2.099124806047778E-4    \n",
       "-0.0031394789504803847  -4.891395402687443E-4   2.0991248059681758E-4   \n",
       "-0.0031647622173731995  -8.104209732194975E-5   -2.7345430888580866E-4  \n",
       "-0.003130227457145495   4.015206949082166E-5    8.049885603479603E-5    \n",
       "-0.003135540187661171   -3.2988992200436574E-5  -1.4361856906466419E-5  \n",
       "-0.00305901669901572    3.233450184892993E-4    7.219261881736289E-4    \n",
       "-0.003059016699015719   3.2334501849117653E-4   7.219261881835862E-4    \n",
       "-0.0030310044289257754  2.634660027119492E-4    9.317394876058628E-4    \n",
       "-0.0029831975503410353  -3.695877121660733E-4   -5.476824904963092E-5   \n",
       "-0.0030376199872543717  0.003234659297996179    5.011421942340121E-4    \n",
       "-0.0016563771915849431  -0.017306694358487706   0.010181533117806398    \n",
       "-0.0016563771915849422  -0.017306694358488976   0.010181533117799657    \n",
       "-0.0028879664800352217  0.0031279473781098284   -7.599077227899817E-4   \n",
       "-0.0015681428353171946  -0.018060410132865766   0.010532362003522965    \n",
       "-0.0016380197560674056  -0.01797106731690787    0.010853468953276421    \n",
       "-0.0028086660535734187  -0.0012189469964255884  4.813462478372131E-5    \n",
       "-0.0028086660535734174  -0.0012189469964264752  4.8134624779210596E-5   \n",
       "-0.002968313734736702   0.0024671007896782614   -0.0014617848476862027  \n",
       "-0.002798861664934126   2.8412239081452987E-4   1.6601860229455232E-4   \n",
       "-0.0028395867442129823  -2.462183691755459E-4   2.924046580760416E-4    \n",
       "-0.0029502732253427052  5.20957484746748E-4     4.823544199737584E-4    \n",
       "-0.002950273225342706   5.209574847466822E-4    4.8235441997348735E-4   \n",
       "-0.003045420286479596   -1.803247724700605E-4   1.353517637088168E-4    \n",
       "-0.002930571511404157   2.6470082146540084E-4   3.813383636321337E-4    \n",
       "-0.002875907895041483   5.927691767358793E-4    7.587305392396083E-4    \n",
       "-0.0027821014549215795  2.064508396148061E-4    5.345256557663229E-4    \n",
       "-0.00278210145492158    2.064508396139462E-4    5.345256557617978E-4    \n",
       "-0.0027727581522947113  -1.3052366128258678E-4  6.791727701280842E-4    \n",
       "-0.0027999701275104815  1.0101811815232869E-4   5.784824139860143E-4    \n",
       "-0.002830890563408313   -2.172547175080215E-5   0.0010131738808669874   \n",
       "-0.002831820680297555   -1.4769717277907E-4     0.0010880932827536556   \n",
       "-0.0028453480671606596  -2.120221643566899E-4   9.266218837904825E-4    \n",
       "-0.0028453480671606604  -2.1202216435829778E-4  9.266218837818978E-4    \n",
       "-0.0028976192435942708  -1.3294764569947936E-4  9.656997485764957E-4    \n",
       "-0.0029486326692068653  -3.1492421997612825E-4  4.122970609309485E-5    \n",
       "-0.0030091015428017234  -2.828605173039061E-4   -2.135724108884452E-4   \n",
       "-0.003045749266896622   5.4590504421909946E-5   7.765894861868489E-4    \n",
       "-0.002954967704881317   2.558599977192401E-4    8.760683870394827E-4    \n",
       "-0.0029602323438684556  5.83750326809792E-6     1.4551371071840026E-4   \n",
       "-0.0030053028963805675  2.765685063833751E-4    3.6752507128659084E-4   \n",
       "-0.0030468150710338906  8.619562107882757E-4    6.614416214637962E-4    \n",
       "-0.0030511004842384637  8.663526427779276E-4    9.468212471624498E-4    \n",
       "-0.003051100484238464   8.663526427778979E-4    9.468212471621983E-4    \n",
       "-0.0031484295878849403  4.423508753347872E-4    4.836011603108394E-5    \n",
       "-0.003181808953967997   3.948555320712883E-5    6.420660282585567E-4    \n",
       "-0.003223521725820748   -1.7096287825608806E-4  4.168439491584069E-4    \n",
       "-0.0032023677025839977  1.7097827213425652E-4   4.185617877910529E-4    \n",
       "-0.0032023677025839977  1.7097827213518357E-4   4.1856178779596694E-4   \n",
       "-0.0032011401426749364  4.2481054303968713E-4   1.4856642578743064E-4   \n",
       "-0.0031856006374146066  -2.375709626040163E-4   -1.1522106979454253E-4  \n",
       "-0.0031957759346242145  -3.2471804798343194E-4  -6.154933703957817E-4   \n",
       "-0.003133987255593916   -3.1841235354522864E-4  4.4157961707330055E-5   \n",
       "-0.0031339872555939154  -3.1841235354397E-4     4.41579617140391E-5     \n",
       "-0.0031428426753113857  -5.722953933114119E-4   4.272903571957442E-4    \n",
       "-0.0031465078729083122  -5.464934930351307E-4   -7.458581755040092E-6   \n",
       "... (30870 total))"
      ]
     },
     "execution_count": 18,
     "metadata": {},
     "output_type": "execute_result"
    }
   ],
   "source": [
    "val svd: SingularValueDecomposition[IndexedRowMatrix, Matrix] = matrix_mul.computeSVD(n_components.toInt, computeU = true)"
   ]
  },
  {
   "cell_type": "code",
   "execution_count": 19,
   "metadata": {},
   "outputs": [
    {
     "data": {
      "text/plain": [
       "U = org.apache.spark.mllib.linalg.distributed.IndexedRowMatrix@1d2a4a41\n",
       "s = [1.2058745930351883E10,1.6180989320622066E7,7149599.582807035]\n",
       "V = \n"
      ]
     },
     "metadata": {},
     "output_type": "display_data"
    },
    {
     "data": {
      "text/plain": [
       "-0.003097208015263957   4.970...\n"
      ]
     },
     "metadata": {},
     "output_type": "display_data"
    },
    {
     "data": {
      "text/plain": [
       "-0.003094082471529021   2.751008759221239E-4    -3.495392832804974E-4   \n",
       "-0.0030982550899576527  -5.077106383386543E-4   -9.506898530275529E-4   \n",
       "-0.003103467512738654   1.2189548021424712E-4   -5.262205488864441E-6   \n",
       "-0.003120955465414803   -1.7211863725889273E-4  -5.366885485462618E-4   \n",
       "-0.003120955465414802   -1.721186372601296E-4   -5.36688548552774E-4    \n",
       "-0.003144528624468846   -2.5694479469636503E-4  -3.506686153675054E-4   \n",
       "-0.0031281087007062826  3.59889857364454E-4     -2.575034589537284E-4   \n",
       "-0.003097208015263957   4.970262360332279E-4    4.856529696598507E-4    \n",
       "-0.0031176622400108313  -6.696045355606668E-5   1.2973119728400826E-4   \n",
       "-0.003117662240010832   -6.696045355532517E-5   1.2973119728789447E-4   \n",
       "-0.003103452580306946   5.460274068996505E-5    2.8749117769129046E-4   \n",
       "-0.003077470745398415   3.0288884711260653E-4   -2.0180083587448402E-4  \n",
       "-0.003079888834805732   -3.2934449470587584E-4  1.030135767536508E-4    \n",
       "-0.0030560873832695826  -3.8299400269064556E-4  8.667215094869786E-5    \n",
       "-0.0030560873832695835  -3.829940026912491E-4   8.667215094539495E-5    \n",
       "-0.0031124959004053127  -2.3004608186535746E-4  -4.956809462148787E-4   \n",
       "-0.0031517201369965983  4.142116154570355E-4    2.1956111154889215E-4   \n",
       "-0.003098285480697483   5.103182878134889E-4    -6.434341604856391E-4   \n",
       "-0.003100041620973572   2.5434820173554266E-4   -3.927268091843375E-4   \n",
       "-0.0031000416209735716  2.5434820173495686E-4   -3.9272680918751163E-4  \n",
       "-0.003077755449741333   2.3988400344889546E-4   -2.080757405565725E-4   \n",
       "-0.0030754615876506315  -6.85307532480509E-5    -1.2489605728686383E-4  \n",
       "-0.003089654008525518   -5.805704749548176E-4   3.1864298439328786E-4   \n",
       "-0.003127852884911115   -3.238702675279776E-4   7.973030713429381E-4    \n",
       "-0.0031394789504803847  -4.891395402672503E-4   2.099124806047778E-4    \n",
       "-0.0031394789504803847  -4.891395402687443E-4   2.0991248059681758E-4   \n",
       "-0.0031647622173731995  -8.104209732194975E-5   -2.7345430888580866E-4  \n",
       "-0.003130227457145495   4.015206949082166E-5    8.049885603479603E-5    \n",
       "-0.003135540187661171   -3.2988992200436574E-5  -1.4361856906466419E-5  \n",
       "-0.00305901669901572    3.233450184892993E-4    7.219261881736289E-4    \n",
       "-0.003059016699015719   3.2334501849117653E-4   7.219261881835862E-4    \n",
       "-0.0030310044289257754  2.634660027119492E-4    9.317394876058628E-4    \n",
       "-0.0029831975503410353  -3.695877121660733E-4   -5.476824904963092E-5   \n",
       "-0.0030376199872543717  0.003234659297996179    5.011421942340121E-4    \n",
       "-0.0016563771915849431  -0.017306694358487706   0.010181533117806398    \n",
       "-0.0016563771915849422  -0.017306694358488976   0.010181533117799657    \n",
       "-0.0028879664800352217  0.0031279473781098284   -7.599077227899817E-4   \n",
       "-0.0015681428353171946  -0.018060410132865766   0.010532362003522965    \n",
       "-0.0016380197560674056  -0.01797106731690787    0.010853468953276421    \n",
       "-0.0028086660535734187  -0.0012189469964255884  4.813462478372131E-5    \n",
       "-0.0028086660535734174  -0.0012189469964264752  4.8134624779210596E-5   \n",
       "-0.002968313734736702   0.0024671007896782614   -0.0014617848476862027  \n",
       "-0.002798861664934126   2.8412239081452987E-4   1.6601860229455232E-4   \n",
       "-0.0028395867442129823  -2.462183691755459E-4   2.924046580760416E-4    \n",
       "-0.0029502732253427052  5.20957484746748E-4     4.823544199737584E-4    \n",
       "-0.002950273225342706   5.209574847466822E-4    4.8235441997348735E-4   \n",
       "-0.003045420286479596   -1.803247724700605E-4   1.353517637088168E-4    \n",
       "-0.002930571511404157   2.6470082146540084E-4   3.813383636321337E-4    \n",
       "-0.002875907895041483   5.927691767358793E-4    7.587305392396083E-4    \n",
       "-0.0027821014549215795  2.064508396148061E-4    5.345256557663229E-4    \n",
       "-0.00278210145492158    2.064508396139462E-4    5.345256557617978E-4    \n",
       "-0.0027727581522947113  -1.3052366128258678E-4  6.791727701280842E-4    \n",
       "-0.0027999701275104815  1.0101811815232869E-4   5.784824139860143E-4    \n",
       "-0.002830890563408313   -2.172547175080215E-5   0.0010131738808669874   \n",
       "-0.002831820680297555   -1.4769717277907E-4     0.0010880932827536556   \n",
       "-0.0028453480671606596  -2.120221643566899E-4   9.266218837904825E-4    \n",
       "-0.0028453480671606604  -2.1202216435829778E-4  9.266218837818978E-4    \n",
       "-0.0028976192435942708  -1.3294764569947936E-4  9.656997485764957E-4    \n",
       "-0.0029486326692068653  -3.1492421997612825E-4  4.122970609309485E-5    \n",
       "-0.0030091015428017234  -2.828605173039061E-4   -2.135724108884452E-4   \n",
       "-0.003045749266896622   5.4590504421909946E-5   7.765894861868489E-4    \n",
       "-0.002954967704881317   2.558599977192401E-4    8.760683870394827E-4    \n",
       "-0.0029602323438684556  5.83750326809792E-6     1.4551371071840026E-4   \n",
       "-0.0030053028963805675  2.765685063833751E-4    3.6752507128659084E-4   \n",
       "-0.0030468150710338906  8.619562107882757E-4    6.614416214637962E-4    \n",
       "-0.0030511004842384637  8.663526427779276E-4    9.468212471624498E-4    \n",
       "-0.003051100484238464   8.663526427778979E-4    9.468212471621983E-4    \n",
       "-0.0031484295878849403  4.423508753347872E-4    4.836011603108394E-5    \n",
       "-0.003181808953967997   3.948555320712883E-5    6.420660282585567E-4    \n",
       "-0.003223521725820748   -1.7096287825608806E-4  4.168439491584069E-4    \n",
       "-0.0032023677025839977  1.7097827213425652E-4   4.185617877910529E-4    \n",
       "-0.0032023677025839977  1.7097827213518357E-4   4.1856178779596694E-4   \n",
       "-0.0032011401426749364  4.2481054303968713E-4   1.4856642578743064E-4   \n",
       "-0.0031856006374146066  -2.375709626040163E-4   -1.1522106979454253E-4  \n",
       "-0.0031957759346242145  -3.2471804798343194E-4  -6.154933703957817E-4   \n",
       "-0.003133987255593916   -3.1841235354522864E-4  4.4157961707330055E-5   \n",
       "-0.0031339872555939154  -3.1841235354397E-4     4.41579617140391E-5     \n",
       "-0.0031428426753113857  -5.722953933114119E-4   4.272903571957442E-4    \n",
       "-0.0031465078729083122  -5.464934930351307E-4   -7.458581755040092E-6   \n",
       "... (30870 total)"
      ]
     },
     "execution_count": 19,
     "metadata": {},
     "output_type": "execute_result"
    }
   ],
   "source": [
    "val U: IndexedRowMatrix = svd.U // The U factor is a RowMatrix.\n",
    "val s: Vector = svd.s // The singular values are stored in a local dense vector.\n",
    "val V: Matrix = svd.V // The V factor is a local dense matrix.\n",
    "val S = Matrices.diag(s)"
   ]
  },
  {
   "cell_type": "markdown",
   "metadata": {},
   "source": [
    "# Save Matrices"
   ]
  },
  {
   "cell_type": "markdown",
   "metadata": {},
   "source": [
    "## R"
   ]
  },
  {
   "cell_type": "code",
   "execution_count": 30,
   "metadata": {},
   "outputs": [
    {
     "name": "stdout",
     "output_type": "stream",
     "text": [
      "[Stage 278:===================================================>   (28 + 2) / 30]"
     ]
    },
    {
     "data": {
      "text/plain": [
       "R_path = hdfs:///user/pheno/svd/spark/BloomFinalLowPRSOSTLowPR3/U_matrix\n"
      ]
     },
     "metadata": {},
     "output_type": "display_data"
    },
    {
     "data": {
      "text/plain": [
       "hdfs:///user/pheno/svd/spark/BloomFinalLowPRSOSTLowPR3/U_matrix"
      ]
     },
     "execution_count": 30,
     "metadata": {},
     "output_type": "execute_result"
    }
   ],
   "source": [
    "val R_path = out_path + \"U_matrix\"\n",
    "val U_RDD = U.rows.sortBy(_.index).map(_.vector.toArray)\n",
    "U_RDD.cache()\n",
    "U_RDD.saveAsObjectFile(R_path)"
   ]
  },
  {
   "cell_type": "markdown",
   "metadata": {},
   "source": [
    "# V"
   ]
  },
  {
   "cell_type": "code",
   "execution_count": 21,
   "metadata": {},
   "outputs": [
    {
     "name": "stdout",
     "output_type": "stream",
     "text": [
      "[Stage 159:===================================================>   (28 + 2) / 30]"
     ]
    },
    {
     "data": {
      "text/plain": [
       "V_path = hdfs:///user/pheno/svd/spark/BloomFinalLowPRSOSTLowPR3/V_matrix\n",
       "V_RDD = ParallelCollectionRDD[286] at parallelize at <console>:67\n"
      ]
     },
     "metadata": {},
     "output_type": "display_data"
    },
    {
     "data": {
      "text/plain": [
       "ParallelCollectionRDD[286] at parallelize at <console>:67"
      ]
     },
     "execution_count": 21,
     "metadata": {},
     "output_type": "execute_result"
    }
   ],
   "source": [
    "val V_path = out_path + \"V_matrix\"\n",
    "val V_RDD = sc.parallelize(V.rowIter.toVector)\n",
    "V_RDD.saveAsObjectFile(V_path)"
   ]
  },
  {
   "cell_type": "markdown",
   "metadata": {},
   "source": [
    "# S"
   ]
  },
  {
   "cell_type": "code",
   "execution_count": 22,
   "metadata": {},
   "outputs": [
    {
     "name": "stdout",
     "output_type": "stream",
     "text": [
      "[Stage 160:===================================================>   (28 + 2) / 30]"
     ]
    },
    {
     "data": {
      "text/plain": [
       "S_path = hdfs:///user/pheno/svd/spark/BloomFinalLowPRSOSTLowPR3/S_matrix\n",
       "S_RDD = ParallelCollectionRDD[289] at parallelize at <console>:68\n"
      ]
     },
     "metadata": {},
     "output_type": "display_data"
    },
    {
     "data": {
      "text/plain": [
       "ParallelCollectionRDD[289] at parallelize at <console>:68"
      ]
     },
     "execution_count": 22,
     "metadata": {},
     "output_type": "execute_result"
    }
   ],
   "source": [
    "val S_path = out_path + \"S_matrix\"\n",
    "val S_RDD = sc.parallelize(S.rowIter.toVector)\n",
    "S_RDD.saveAsObjectFile(S_path)"
   ]
  },
  {
   "cell_type": "markdown",
   "metadata": {},
   "source": [
    "# Save results"
   ]
  },
  {
   "cell_type": "markdown",
   "metadata": {},
   "source": [
    "### R"
   ]
  },
  {
   "cell_type": "code",
   "execution_count": 23,
   "metadata": {},
   "outputs": [
    {
     "name": "stdout",
     "output_type": "stream",
     "text": [
      "[Stage 167:=================================================>     (27 + 3) / 30]"
     ]
    },
    {
     "data": {
      "text/plain": [
       "u_path = hdfs:///user/pheno/svd/spark/BloomFinalLowPRSOSTLowPR3/U.csv\n",
       "U_RDD = MapPartitionsRDD[297] at map at <console>:78\n"
      ]
     },
     "metadata": {},
     "output_type": "display_data"
    },
    {
     "data": {
      "text/plain": [
       "warning: there was one feature warning; re-run with -feature for details\n"
      ]
     },
     "metadata": {},
     "output_type": "display_data"
    },
    {
     "data": {
      "text/plain": [
       "MapPartitionsRDD[297] at map at <console>:78"
      ]
     },
     "execution_count": 23,
     "metadata": {},
     "output_type": "execute_result"
    }
   ],
   "source": [
    "val u_path = out_path + \"U\" + matrix_mode_str +\".csv\"\n",
    "if (fs.exists(new org.apache.hadoop.fs.Path(u_path))) {\n",
    "  cmd = \"hadoop dfs -rm -r \" + u_path\n",
    "  Process(cmd)!\n",
    "}\n",
    "U_RDD.map(m => m.mkString(\",\")).saveAsTextFile(u_path)"
   ]
  },
  {
   "cell_type": "markdown",
   "metadata": {},
   "source": [
    "### V"
   ]
  },
  {
   "cell_type": "code",
   "execution_count": 26,
   "metadata": {},
   "outputs": [
    {
     "name": "stdout",
     "output_type": "stream",
     "text": [
      "[Stage 172:==========================================>              (3 + 1) / 4]"
     ]
    },
    {
     "data": {
      "text/plain": [
       "v_path = hdfs:///user/pheno/svd/spark/BloomFinalLowPRSOSTLowPR3/V.csv\n"
      ]
     },
     "metadata": {},
     "output_type": "display_data"
    },
    {
     "data": {
      "text/plain": [
       "warning: there was one feature warning; re-run with -feature for details\n"
      ]
     },
     "metadata": {},
     "output_type": "display_data"
    },
    {
     "data": {
      "text/plain": [
       "hdfs:///user/pheno/svd/spark/BloomFinalLowPRSOSTLowPR3/V.csv"
      ]
     },
     "execution_count": 26,
     "metadata": {},
     "output_type": "execute_result"
    }
   ],
   "source": [
    "val v_path = out_path + \"V\" + matrix_mode_str +\".csv\"\n",
    "if (fs.exists(new org.apache.hadoop.fs.Path(v_path))) {\n",
    "  cmd = \"hadoop dfs -rm -r \" + v_path\n",
    "  Process(cmd)!\n",
    "}\n",
    "sc.parallelize(V.rowIter.toVector.map(m => m.toArray.mkString(\",\")),4).saveAsTextFile(v_path)"
   ]
  },
  {
   "cell_type": "markdown",
   "metadata": {},
   "source": [
    "### S"
   ]
  },
  {
   "cell_type": "code",
   "execution_count": 27,
   "metadata": {},
   "outputs": [
    {
     "data": {
      "text/plain": [
       "s_path = hdfs:///user/pheno/svd/spark/BloomFinalLowPRSOSTLowPR3/S.csv\n"
      ]
     },
     "metadata": {},
     "output_type": "display_data"
    },
    {
     "data": {
      "text/plain": [
       "warning: there was one feature warning; re-run with -feature for details\n"
      ]
     },
     "metadata": {},
     "output_type": "display_data"
    },
    {
     "data": {
      "text/plain": [
       "hdfs:///user/pheno/svd/spark/BloomFinalLowPRSOSTLowPR3/S.csv"
      ]
     },
     "execution_count": 27,
     "metadata": {},
     "output_type": "execute_result"
    }
   ],
   "source": [
    "val s_path = out_path + \"S\" + matrix_mode_str +\".csv\"\n",
    "if (fs.exists(new org.apache.hadoop.fs.Path(s_path))) {\n",
    "  cmd = \"hadoop dfs -rm -r \" + s_path\n",
    "  Process(cmd)!\n",
    "}\n",
    "sc.parallelize(S.rowIter.toVector.map(m => m.toArray.mkString(\",\")),1).saveAsTextFile(s_path)"
   ]
  },
  {
   "cell_type": "markdown",
   "metadata": {},
   "source": [
    "# Save GeoTiffs"
   ]
  },
  {
   "cell_type": "markdown",
   "metadata": {},
   "source": [
    "## Create GeoTiffs for U (dimension is M(A) x n_components)"
   ]
  },
  {
   "cell_type": "code",
   "execution_count": 28,
   "metadata": {},
   "outputs": [
    {
     "name": "stdout",
     "output_type": "stream",
     "text": [
      "[Stage 195:===============================================>       (26 + 2) / 30]DEPRECATED: Use of this script to execute hdfs command is deprecated.\n",
      "Instead use the hdfs command for it.\n",
      "\n",
      "[Stage 216:=====================================================> (29 + 1) / 30]DEPRECATED: Use of this script to execute hdfs command is deprecated.\n",
      "Instead use the hdfs command for it.\n",
      "\n",
      "[Stage 237:=================================================>     (27 + 2) / 30]DEPRECATED: Use of this script to execute hdfs command is deprecated.\n",
      "Instead use the hdfs command for it.\n",
      "\n",
      "Elapsed time: 67667513733ns\n"
     ]
    },
    {
     "data": {
      "text/plain": [
       "t0 = 15231585110629\n",
       "mod_grid0_index_I = MapPartitionsRDD[307] at map at <console>:80\n",
       "t1 = 15299252624362\n"
      ]
     },
     "metadata": {},
     "output_type": "display_data"
    },
    {
     "data": {
      "text/plain": [
       "warning: there were two feature warnings; re-run with -feature for details\n"
      ]
     },
     "metadata": {},
     "output_type": "display_data"
    },
    {
     "data": {
      "text/plain": [
       "15299252624362"
      ]
     },
     "execution_count": 28,
     "metadata": {},
     "output_type": "execute_result"
    }
   ],
   "source": [
    "t0 = System.nanoTime()\n",
    "val mod_grid0_index_I = model_grid0_index.zipWithIndex().map{ case (v,i) => (i,v)}\n",
    "mod_grid0_index_I.cache()\n",
    "model_grid0.cache()\n",
    "cfor(0)(_ < n_components, _ + 1) { k =>\n",
    "  //Merge two RDDs, one containing the clusters_ID indices and the other one the indices of a Tile's grid cells\n",
    "  val kB = sc.broadcast(k)\n",
    "  //val U_k_RDD = U.rows.map(_.toArray.zipWithIndex.filter(_._2 == kB.value).sortBy(_._2).map{ case (v,i) => v}).flatMap(m => m)\n",
    "  val U_k_RDD = U_RDD.map(_(kB.value))\n",
    "  val cluster_cell_pos = ((U_k_RDD.zipWithIndex().map{ case (v,i) => (i,v)}).join(mod_grid0_index_I)).map{ case (k,(v,i)) => (v,i)}\n",
    "  cluster_cell_pos.cache()\n",
    "    \n",
    "  //Associate a Cluster_IDs to respective Grid_cell\n",
    "  val grid_clusters :RDD[ (Long, (Double, Option[Double]))] = model_grid0.leftOuterJoin(cluster_cell_pos.map{ case (c,i) => (i, c)})\n",
    "\n",
    "  //Convert all None to NaN\n",
    "  val grid_clusters_res = grid_clusters.sortByKey(true).map{case (k, (v, c)) => if (c == None) (k, Double.NaN) else (k, c.get)}\n",
    "\n",
    "  //Define a Tile\n",
    "  val cluster_cells :Array[Double] = grid_clusters_res.values.collect()\n",
    "  val cluster_cellsD = DoubleArrayTile(cluster_cells, num_cols_rows._1, num_cols_rows._2)\n",
    "  val geoTif = new SinglebandGeoTiff(cluster_cellsD, projected_extent.extent, projected_extent.crs, Tags.empty, GeoTiffOptions(compression.DeflateCompression))\n",
    "  cluster_cell_pos.unpersist()\n",
    "    \n",
    "  //Save to /tmp/\n",
    "  GeoTiffWriter.write(geoTif, u_geotiff_tmp_paths(k))\n",
    "\n",
    "  //Upload to HDFS\n",
    "  var cmd = \"hadoop dfs -copyFromLocal -f \" + u_geotiff_tmp_paths(k) + \" \" + u_geotiff_hdfs_paths(k)\n",
    "  Process(cmd)!\n",
    "\n",
    "  //Remove from /tmp/\n",
    "  cmd = \"rm -fr \" + u_geotiff_tmp_paths(k)\n",
    "  Process(cmd)!\n",
    "}\n",
    "U_RDD.unpersist()\n",
    "model_grid0.unpersist()\n",
    "mod_grid0_index_I.unpersist()\n",
    "t1 = System.nanoTime()\n",
    "println(\"Elapsed time: \" + (t1 - t0) + \"ns\")"
   ]
  },
  {
   "cell_type": "markdown",
   "metadata": {},
   "source": [
    "## Create GeoTiffs for V (dimension is M(B) x n_components)"
   ]
  },
  {
   "cell_type": "code",
   "execution_count": 52,
   "metadata": {},
   "outputs": [
    {
     "name": "stdout",
     "output_type": "stream",
     "text": [
      "[Stage 341:===================================================>   (28 + 2) / 30]DEPRECATED: Use of this script to execute hdfs command is deprecated.\n",
      "Instead use the hdfs command for it.\n",
      "\n",
      "[Stage 353:=================================================>     (27 + 3) / 30]DEPRECATED: Use of this script to execute hdfs command is deprecated.\n",
      "Instead use the hdfs command for it.\n",
      "\n",
      "[Stage 365:=============================================>         (25 + 2) / 30]DEPRECATED: Use of this script to execute hdfs command is deprecated.\n",
      "Instead use the hdfs command for it.\n",
      "\n",
      "Elapsed time: 53006246028ns\n"
     ]
    },
    {
     "data": {
      "text/plain": [
       "t0 = 16674678706701\n",
       "sat_grid0_index_I = MapPartitionsRDD[437] at map at <console>:90\n",
       "iter = empty iterator\n",
       "k = 3\n",
       "t1 = 16727684952729\n"
      ]
     },
     "metadata": {},
     "output_type": "display_data"
    },
    {
     "data": {
      "text/plain": [
       "warning: there were two feature warnings; re-run with -feature for details\n"
      ]
     },
     "metadata": {},
     "output_type": "display_data"
    },
    {
     "data": {
      "text/plain": [
       "16727684952729"
      ]
     },
     "execution_count": 52,
     "metadata": {},
     "output_type": "execute_result"
    }
   ],
   "source": [
    "t0 = System.nanoTime()\n",
    "val sat_grid0_index_I = satellite_grid0_index.zipWithIndex().map{ case (v,i) => (i,v)}\n",
    "val iter = V.colIter\n",
    "var k :Int = 0\n",
    "while (iter.hasNext) {\n",
    "  //Merge two RDDs, one containing the clusters_ID indices and the other one the indices of a Tile's grid cells\n",
    "  val V_k_RDD = sc.parallelize(iter.next().toArray.zipWithIndex().map{ case (v,i) => (i.toLong,v)})\n",
    "  val cluster_cell_pos = (V_k_RDD.join(sat_grid0_index_I)).map{ case (k,(v,i)) => (v,i)}\n",
    "\n",
    "  //Associate a Cluster_IDs to respective Grid_cell\n",
    "  val grid_clusters :RDD[ (Long, (Double, Option[Double]))] = satellite_grid0.leftOuterJoin(cluster_cell_pos.map{ case (c,i) => (i, c)})\n",
    "\n",
    "  //Convert all None to NaN\n",
    "  val grid_clusters_res = grid_clusters.sortByKey(true).map{case (k, (v, c)) => if (c == None) (k, Double.NaN) else (k, c.get)}\n",
    "\n",
    "  //Define a Tile\n",
    "  val cluster_cells :Array[Double] = grid_clusters_res.values.collect()\n",
    "  val cluster_cellsD = DoubleArrayTile(cluster_cells, num_cols_rows._1, num_cols_rows._2)\n",
    "  val geoTif = new SinglebandGeoTiff(cluster_cellsD, projected_extent.extent, projected_extent.crs, Tags.empty, GeoTiffOptions(compression.DeflateCompression))\n",
    "\n",
    "  //Save to /tmp/\n",
    "  GeoTiffWriter.write(geoTif, v_geotiff_tmp_paths(k))\n",
    "\n",
    "  //Upload to HDFS\n",
    "  var cmd = \"hadoop dfs -copyFromLocal -f \" + v_geotiff_tmp_paths(k) + \" \" + v_geotiff_hdfs_paths(k)\n",
    "  Process(cmd)!\n",
    "\n",
    "  //Remove from /tmp/\n",
    "  cmd = \"rm -fr \" + v_geotiff_tmp_paths(k)\n",
    "  Process(cmd)!\n",
    "    \n",
    "  k += 1\n",
    "}\n",
    "t1 = System.nanoTime()\n",
    "println(\"Elapsed time: \" + (t1 - t0) + \"ns\")"
   ]
  },
  {
   "cell_type": "code",
   "execution_count": null,
   "metadata": {},
   "outputs": [],
   "source": []
  }
 ],
 "metadata": {
  "kernelspec": {
   "display_name": "Apache Toree - Scala",
   "language": "scala",
   "name": "apache_toree_scala"
  },
  "language_info": {
   "codemirror_mode": "text/x-scala",
   "file_extension": ".scala",
   "mimetype": "text/x-scala",
   "name": "scala",
   "pygments_lexer": "scala",
   "version": "2.11.8"
  }
 },
 "nbformat": 4,
 "nbformat_minor": 2
}
