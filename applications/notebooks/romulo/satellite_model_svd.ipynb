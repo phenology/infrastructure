{
 "cells": [
  {
   "cell_type": "markdown",
   "metadata": {},
   "source": [
    "# SVD between a Model and Satellite data\n",
    "\n",
    "This notebook shows how to multiply two matrices and calculate SVD. Each matrix is created out a set of GeoTiffs for a series of years. Both matrices should have the same dimension.\n",
    "\n",
    "For demonstration we will use from a model (spring-index) and from a satellite (AVHRR)."
   ]
  },
  {
   "cell_type": "markdown",
   "metadata": {},
   "source": [
    "## Dependencies"
   ]
  },
  {
   "cell_type": "code",
   "execution_count": 1,
   "metadata": {},
   "outputs": [],
   "source": [
    "\n",
    "import java.io.{ByteArrayInputStream, ByteArrayOutputStream, ObjectInputStream, ObjectOutputStream}\n",
    "\n",
    "import geotrellis.proj4.CRS\n",
    "import geotrellis.raster.io.geotiff.writer.GeoTiffWriter\n",
    "import geotrellis.raster.io.geotiff.{SinglebandGeoTiff, _}\n",
    "import geotrellis.raster.{CellType, DoubleArrayTile, Tile, UByteCellType}\n",
    "import geotrellis.spark.io.hadoop._\n",
    "import geotrellis.vector.{Extent, ProjectedExtent}\n",
    "import org.apache.hadoop.io.SequenceFile.Writer\n",
    "import org.apache.hadoop.io.{SequenceFile, _}\n",
    "import org.apache.spark.broadcast.Broadcast\n",
    "import org.apache.spark.mllib.linalg._\n",
    "import org.apache.spark.mllib.linalg.distributed._\n",
    "import org.apache.spark.mllib.stat.{MultivariateStatisticalSummary, Statistics}\n",
    "import org.apache.spark.rdd.RDD\n",
    "import org.apache.spark.storage.StorageLevel\n",
    "import org.apache.spark.{SparkConf, SparkContext}\n",
    "\n",
    "import scala.sys.process._"
   ]
  },
  {
   "cell_type": "markdown",
   "metadata": {},
   "source": [
    "## Mode of operation\n",
    "\n",
    "Here the user can define the mode of operation.\n",
    "* **rdd_offline_mode**: If false it means the notebook will create all data from scratch and store protected_extent and num_cols_rows into HDFS. Otherwise, these data structures are read from HDFS.\n",
    "\n",
    "It is also possible to define which directory of GeoTiffs is to be used and on which **band** to run Kmeans. The options are\n",
    "* **all** which are a multi-band (**8 bands**) GeoTiffs\n",
    "* Or choose single band ones:\n",
    "    0. Onset_Greenness_Increase\n",
    "    1. Onset_Greenness_Maximum\n",
    "    2. Onset_Greenness_Decrease\n",
    "    3. Onset_Greenness_Minimum\n",
    "    4. NBAR_EVI_Onset_Greenness_Minimum\n",
    "    5. NBAR_EVI_Onset_Greenness_Maximum\n",
    "    6. NBAR_EVI_Area\n",
    "    7. Dynamics_QC\n",
    "\n",
    "<span style=\"color:red\">Note that when using a range **kemans offline mode** is not possible and it will be reset to **online mode**</span>."
   ]
  },
  {
   "cell_type": "markdown",
   "metadata": {},
   "source": [
    "### Mode of Operation setup\n",
    "<a id='mode_of_operation_setup'></a>"
   ]
  },
  {
   "cell_type": "code",
   "execution_count": 2,
   "metadata": {},
   "outputs": [
    {
     "data": {
      "text/plain": [
       "model_rdd_offline_mode = true\n",
       "model_matrix_offline_mode = true\n",
       "satellite_rdd_offline_mode = true\n",
       "satellite_matrix_offline_mode = true\n",
       "model_path = hdfs:///user/hadoop/spring-index/\n",
       "model_dir = BloomGridmet\n",
       "model_band_num = 3\n",
       "satellite_path = hdfs:///user/hadoop/spring-index/\n",
       "satellite_dir = LeafGridmet\n",
       "sat_band_num = 3\n",
       "out_path = hdfs:///user/pheno/svd/spark/BloomGridmetLeafGridmet/\n",
       "satellite_first_year = 1989\n",
       "satellite_last_year = 2014\n",
       "model_first_year = 1989\n",
       "model_last_year = 2014\n",
       "toBeMasked = true\n",
       "mask_path = hdfs:///user/hadoop/usa_mask_gridmet.tif\n",
       "matrix_mode = 0\n",
       "save_rdds = true\n",
       "save_matrix = true\n"
      ]
     },
     "metadata": {},
     "output_type": "display_data"
    },
    {
     "data": {
      "text/plain": [
       "true"
      ]
     },
     "execution_count": 2,
     "metadata": {},
     "output_type": "execute_result"
    }
   ],
   "source": [
    "var model_rdd_offline_mode = true\n",
    "var model_matrix_offline_mode = true\n",
    "var satellite_rdd_offline_mode = true\n",
    "var satellite_matrix_offline_mode = true\n",
    "\n",
    "//Using spring-index model\n",
    "var model_path = \"hdfs:///user/hadoop/spring-index/\"\n",
    "var model_dir = \"BloomGridmet\"\n",
    "var model_band_num = 3  //First band is 0\n",
    "\n",
    "//Using AVHRR Satellite data\n",
    "//var satellite_path = \"hdfs:///user/hadoop/avhrr/\"\n",
    "//var satellite_dir = \"SOSTLowPR\"\n",
    "var satellite_path = \"hdfs:///user/hadoop/spring-index/\"\n",
    "var satellite_dir = \"LeafGridmet\"\n",
    "var sat_band_num = 3  //First band is 0\n",
    "\n",
    "var out_path = \"hdfs:///user/pheno/svd/spark/\" + model_dir + satellite_dir + \"/\"\n",
    "\n",
    "//Years between (inclusive) 1989 - 2014\n",
    "var satellite_first_year = 1989\n",
    "var satellite_last_year = 2014\n",
    "\n",
    "//Years between (inclusive) 1980 - 2015\n",
    "var model_first_year = 1989\n",
    "var model_last_year = 2014\n",
    "\n",
    "//Mask\n",
    "val toBeMasked = true\n",
    "//val mask_path = \"hdfs:///user/hadoop/usa_mask_low.tif\"\n",
    "val mask_path = \"hdfs:///user/hadoop/usa_mask_gridmet.tif\"\n",
    "\n",
    "//Matrix Mode: 0 Normal, 1 SC, 2 SR\n",
    "val matrix_mode = 0\n",
    "\n",
    "val save_rdds = true\n",
    "val save_matrix = true"
   ]
  },
  {
   "cell_type": "markdown",
   "metadata": {},
   "source": [
    "\n",
    "<span style=\"color:red\">DON'T MODIFY ANY PIECE OF CODE FROM HERE ON!!!</span>.\n"
   ]
  },
  {
   "cell_type": "markdown",
   "metadata": {},
   "source": [
    "### Mode of operation validation"
   ]
  },
  {
   "cell_type": "code",
   "execution_count": 3,
   "metadata": {},
   "outputs": [
    {
     "data": {
      "text/plain": [
       "Waiting for a Spark session to start..."
      ]
     },
     "metadata": {},
     "output_type": "display_data"
    },
    {
     "name": "stdout",
     "output_type": "stream",
     "text": [
      "\"Matrix\" offline mode is not set properly, i.e., either it was set to false and the required file does not exist or vice-versa. We will reset it to false\n",
      "\"Matrix\" offline mode is not set properly, i.e., either it was set to false and the required file does not exist or vice-versa. We will reset it to false\n",
      "[Stage 2:=====================================================>(994 + 6) / 1000]"
     ]
    },
    {
     "data": {
      "text/plain": [
       "conf = Configuration: core-default.xml, core-site.xml, mapred-default.xml, mapred-site.xml, yarn-default.xml, yarn-site.xml, hdfs-default.xml, hdfs-site.xml, file:/usr/lib/spark-2.1.1-bin-without-hadoop/conf/hive-site.xml\n",
       "fs = DFS[DFSClient[clientName=DFSClient_NONMAPREDUCE_-1473718442_41, ugi=pheno (auth:SIMPLE)]]\n",
       "mask_str = _mask\n",
       "model_grid0_path = hdfs:///user/pheno/svd/spark/BloomGridmetLeafGridmet/BloomGridmet_grid0\n",
       "model_grid0_index_path = hdfs:///user/pheno/svd/spark/BloomGridmetLeafGridmet/BloomGridmet_grid0_index\n",
       "model_grid_path = hdfs:///user/pheno/svd/spark/BloomGridmetLeafGridmet/BloomGridmet_grid\n",
       "satellite_grid_path = hdfs:///user/pheno/svd/spark/BloomGridmetLeafGr...\n"
      ]
     },
     "metadata": {},
     "output_type": "display_data"
    },
    {
     "data": {
      "text/plain": [
       "hdfs:///user/pheno/svd/spark/BloomGridmetLeafGridmet/LeafGridmet_grid"
      ]
     },
     "execution_count": 3,
     "metadata": {},
     "output_type": "execute_result"
    }
   ],
   "source": [
    "//Check offline modes\n",
    "var conf = sc.hadoopConfiguration\n",
    "var fs = org.apache.hadoop.fs.FileSystem.get(conf)\n",
    "\n",
    "//Paths to store data structures for Offline runs\n",
    "var mask_str = \"\"\n",
    "if (toBeMasked)\n",
    "  mask_str = \"_mask\"\n",
    "var model_grid0_path = out_path + model_dir + \"_grid0\"\n",
    "var model_grid0_index_path = out_path + model_dir + \"_grid0_index\"\n",
    "\n",
    "var model_grid_path = out_path + model_dir + \"_grid\"\n",
    "var satellite_grid_path = out_path + satellite_dir + \"_grid\"\n",
    "var model_matrix_path = out_path + model_dir + \"_matrix\"\n",
    "var satellite_matrix_path = out_path + satellite_dir + \"_matrix\"\n",
    "var metadata_path = out_path + model_dir + \"_metadata\"\n",
    "\n",
    "var sc_path = out_path + model_dir + \"_sc\"\n",
    "var mc_path = out_path + model_dir + \"_mc\"\n",
    "\n",
    "val model_rdd_offline_exists = fs.exists(new org.apache.hadoop.fs.Path(model_grid_path))\n",
    "val model_matrix_offline_exists = fs.exists(new org.apache.hadoop.fs.Path(model_matrix_path))\n",
    "val satellite_rdd_offline_exists = fs.exists(new org.apache.hadoop.fs.Path(satellite_grid_path))\n",
    "val satellite_matrix_offline_exists = fs.exists(new org.apache.hadoop.fs.Path(satellite_matrix_path))\n",
    "\n",
    "if (model_rdd_offline_mode != model_rdd_offline_exists) {\n",
    "  println(\"\\\"Load GeoTiffs\\\" offline mode is not set properly, i.e., either it was set to false and the required file does not exist or vice-versa. We will reset it to \" + model_rdd_offline_exists.toString())\n",
    "  model_rdd_offline_mode = model_rdd_offline_exists\n",
    "}\n",
    "\n",
    "if (model_matrix_offline_mode != model_matrix_offline_exists) {\n",
    "  println(\"\\\"Matrix\\\" offline mode is not set properly, i.e., either it was set to false and the required file does not exist or vice-versa. We will reset it to \" + model_matrix_offline_exists.toString())\n",
    "  model_matrix_offline_mode = model_matrix_offline_exists\n",
    "}\n",
    "\n",
    "var model_skip_rdd = false\n",
    "if (model_matrix_offline_exists) {\n",
    "    println(\"Since we have a matrix, the load of the grids RDD will be skipped!!!\")\n",
    "    model_skip_rdd = true\n",
    "}\n",
    "\n",
    "if (satellite_rdd_offline_mode != satellite_rdd_offline_exists) {\n",
    "  println(\"\\\"Load GeoTiffs\\\" offline mode is not set properly, i.e., either it was set to false and the required file does not exist or vice-versa. We will reset it to \" + satellite_rdd_offline_exists.toString())\n",
    "  satellite_rdd_offline_mode = satellite_rdd_offline_exists\n",
    "}\n",
    "\n",
    "if (satellite_matrix_offline_mode != satellite_matrix_offline_exists) {\n",
    "  println(\"\\\"Matrix\\\" offline mode is not set properly, i.e., either it was set to false and the required file does not exist or vice-versa. We will reset it to \" + satellite_matrix_offline_exists.toString())\n",
    "  satellite_matrix_offline_mode = satellite_matrix_offline_exists\n",
    "}\n",
    "\n",
    "var satellite_skip_rdd = false\n",
    "if (satellite_matrix_offline_exists) {\n",
    "    println(\"Since we have a matrix, the load of the grids RDD will be skipped!!!\")\n",
    "    satellite_skip_rdd = true\n",
    "}\n",
    "\n",
    "var corr_tif = out_path + \"_\" + satellite_dir + \"_\" + model_dir + \".tif\"\n",
    "var corr_tif_tmp = \"/tmp/svd_\" + satellite_dir + \"_\" + model_dir + \".tif\"\n",
    "\n",
    "//Years\n",
    "val model_years = 1989 to 2014\n",
    "val satellite_years = 1989 to 2014\n",
    "\n",
    "if (!satellite_years.contains(satellite_first_year) || !(satellite_years.contains(satellite_last_year))) {\n",
    "  println(\"Invalid range of years for \" + satellite_dir + \". I should be between \" + satellite_first_year + \" and \" + satellite_last_year)\n",
    "  System.exit(0)\n",
    "}\n",
    "\n",
    "if (!model_years.contains(model_first_year) || !(model_years.contains(model_last_year))) {\n",
    "  println(\"Invalid range of years for \" + model_dir + \". I should be between \" + model_first_year + \" and \" + model_last_year)\n",
    "  System.exit(0)\n",
    "}\n",
    "\n",
    "if ( ((satellite_last_year - model_first_year) > (model_last_year - model_first_year)) || ((satellite_last_year - model_first_year) > (model_last_year - model_first_year))) {\n",
    "  println(\"The range of years for each data set should be of the same length.\");\n",
    "  System.exit(0)\n",
    "}\n",
    "\n",
    "var model_years_range = (model_years.indexOf(model_first_year), model_years.indexOf(model_last_year))\n",
    "var satellite_years_range = (satellite_years.indexOf(satellite_first_year), satellite_years.indexOf(satellite_last_year))\n",
    "\n",
    "//Global variables\n",
    "var projected_extent = new ProjectedExtent(new Extent(0,0,0,0), CRS.fromName(\"EPSG:3857\"))\n",
    "var model_grid0: RDD[(Long, Double)] = sc.emptyRDD\n",
    "var model_grid0_index: RDD[Long] = sc.emptyRDD\n",
    "var grids_RDD: RDD[Array[Double]] = sc.emptyRDD\n",
    "var model_grids_RDD: RDD[Array[Double]] = sc.emptyRDD\n",
    "var model_grids: RDD[Array[Double]] = sc.emptyRDD\n",
    "val rows = sc.parallelize(Array[Double]()).map(m => Vectors.dense(m))\n",
    "var model_summary: MultivariateStatisticalSummary = new RowMatrix(rows).computeColumnSummaryStatistics()\n",
    "var model_std :Array[Double] = new Array[Double](0)\n",
    "\n",
    "var satellite_grids_RDD: RDD[Array[Double]] = sc.emptyRDD\n",
    "var satellite_grids: RDD[Array[Double]] = sc.emptyRDD\n",
    "var satellite_summary: MultivariateStatisticalSummary = new RowMatrix(rows).computeColumnSummaryStatistics()\n",
    "var satellite_std :Array[Double] = new Array[Double](0)\n",
    "\n",
    "var num_cols_rows :(Int, Int) = (0, 0)\n",
    "var cellT :CellType = UByteCellType\n",
    "var mask_tile0 :Tile = new SinglebandGeoTiff(geotrellis.raster.ArrayTile.empty(cellT, num_cols_rows._1, num_cols_rows._2), projected_extent.extent, projected_extent.crs, Tags.empty, GeoTiffOptions.DEFAULT).tile\n",
    "var satellite_cells_size :Long = 0\n",
    "var model_cells_size :Long = 0\n",
    "var t0 : Long = 0\n",
    "var t1 : Long = 0"
   ]
  },
  {
   "cell_type": "markdown",
   "metadata": {},
   "source": [
    "## Functions to (de)serialize any structure into Array[Byte]"
   ]
  },
  {
   "cell_type": "code",
   "execution_count": 4,
   "metadata": {},
   "outputs": [
    {
     "data": {
      "text/plain": [
       "serialize: (value: Any)Array[Byte]\n",
       "deserialize: (bytes: Array[Byte])Any\n"
      ]
     },
     "metadata": {},
     "output_type": "display_data"
    }
   ],
   "source": [
    "def serialize(value: Any): Array[Byte] = {\n",
    "    val out_stream: ByteArrayOutputStream = new ByteArrayOutputStream()\n",
    "    val obj_out_stream = new ObjectOutputStream(out_stream)\n",
    "    obj_out_stream.writeObject(value)\n",
    "    obj_out_stream.close\n",
    "    out_stream.toByteArray\n",
    "}\n",
    "\n",
    "def deserialize(bytes: Array[Byte]): Any = {\n",
    "    val obj_in_stream = new ObjectInputStream(new ByteArrayInputStream(bytes))\n",
    "    val value = obj_in_stream.readObject\n",
    "    obj_in_stream.close\n",
    "    value\n",
    "}"
   ]
  },
  {
   "cell_type": "markdown",
   "metadata": {},
   "source": [
    "## Load GeoTiffs\n",
    "\n",
    "Using GeoTrellis all GeoTiffs of a directory will be loaded into a RDD. Using the RDD, we extract a grid from the first file to lated store the Kmeans cluster_IDS, we build an Index for populate such grid and we filter out here all NaN values."
   ]
  },
  {
   "cell_type": "code",
   "execution_count": 5,
   "metadata": {},
   "outputs": [
    {
     "name": "stdout",
     "output_type": "stream",
     "text": [
      "Elapsed time: 1702500743ns\n"
     ]
    },
    {
     "data": {
      "text/plain": [
       "t0 = 1158682843545\n",
       "pattern = tif\n",
       "satellite_filepath = hdfs:///user/hadoop/spring-index/LeafGridmet\n",
       "model_filepath = hdfs:///user/hadoop/spring-index//BloomGridmet\n",
       "t1 = 1160385344288\n"
      ]
     },
     "metadata": {},
     "output_type": "display_data"
    },
    {
     "data": {
      "text/plain": [
       "1160385344288"
      ]
     },
     "execution_count": 5,
     "metadata": {},
     "output_type": "execute_result"
    }
   ],
   "source": [
    "t0 = System.nanoTime()\n",
    "\n",
    "//Load Mask\n",
    "if (toBeMasked) {\n",
    "  val mask_tiles_RDD = sc.hadoopGeoTiffRDD(mask_path).values\n",
    "  val mask_tiles_withIndex = mask_tiles_RDD.zipWithIndex().map{case (e,v) => (v,e)}\n",
    "  mask_tile0 = (mask_tiles_withIndex.filter(m => m._1==0).filter(m => !m._1.isNaN).values.collect())(0)\n",
    "}\n",
    "\n",
    "//Local variables\n",
    "val pattern: String = \"tif\"\n",
    "val satellite_filepath: String = satellite_path + satellite_dir\n",
    "val model_filepath: String = model_path + \"/\" + model_dir\n",
    "\n",
    "t1 = System.nanoTime()\n",
    "println(\"Elapsed time: \" + (t1 - t0) + \"ns\")"
   ]
  },
  {
   "cell_type": "markdown",
   "metadata": {},
   "source": [
    "### Satellite data"
   ]
  },
  {
   "cell_type": "code",
   "execution_count": 6,
   "metadata": {},
   "outputs": [
    {
     "name": "stdout",
     "output_type": "stream",
     "text": [
      "[Stage 7:===============================================>           (4 + 1) / 5]Number of cells is: 483850\n",
      "Elapsed time: 3001483778ns\n"
     ]
    },
    {
     "data": {
      "text/plain": [
       "t0 = 1163045238075\n",
       "satellite_grids_withIndex = MapPartitionsRDD[28] at map at <console>:120\n",
       "satellite_grids = MapPartitionsRDD[30] at values at <console>:123\n",
       "satellite_summary = org.apache.spark.mllib.stat.MultivariateOnlineSummarizer@761d8c65\n",
       "satellite_std = [D@332a42d0\n",
       "satellite_grid0_index = MapPartitionsRDD[38] at flatMap at <console>:130\n",
       "satellite_cells_size = 483850\n",
       "t1 = 1166046721853\n"
      ]
     },
     "metadata": {},
     "output_type": "display_data"
    },
    {
     "data": {
      "text/plain": [
       "1166046721853"
      ]
     },
     "execution_count": 6,
     "metadata": {},
     "output_type": "execute_result"
    }
   ],
   "source": [
    "t0 = System.nanoTime()\n",
    "\n",
    "if (satellite_rdd_offline_mode) {\n",
    "  satellite_grids_RDD = sc.objectFile(satellite_grid_path)\n",
    "} else {\n",
    "  //Lets load MODIS Singleband GeoTiffs and return RDD just with the tiles.\n",
    "  if (sat_band_num == 0) {\n",
    "    val satellite_geos_RDD = sc.hadoopGeoTiffRDD(satellite_filepath, pattern)\n",
    "    val satellite_tiles_RDD = satellite_geos_RDD.values\n",
    "\n",
    "    if (toBeMasked) {\n",
    "      val mask_tile_broad: Broadcast[Tile] = sc.broadcast(mask_tile0)\n",
    "      satellite_grids_RDD = satellite_tiles_RDD.map(m => m.localInverseMask(mask_tile_broad.value, 1, -1000).toArrayDouble().filter(_ != -1000))\n",
    "    } else {\n",
    "      satellite_grids_RDD = satellite_tiles_RDD.map(m => m.toArrayDouble())\n",
    "    }\n",
    "  } else {\n",
    "    val satellite_geos_RDD = sc.hadoopMultibandGeoTiffRDD(satellite_filepath, pattern)\n",
    "    val satellite_tiles_RDD = satellite_geos_RDD.values\n",
    "\n",
    "    val band_numB: Broadcast[Int] = sc.broadcast(sat_band_num)\n",
    "    if (toBeMasked) {\n",
    "      val mask_tile_broad: Broadcast[Tile] = sc.broadcast(mask_tile0)\n",
    "      satellite_grids_RDD = satellite_tiles_RDD.map(m => m.band(band_numB.value).localInverseMask(mask_tile_broad.value, 1, -1000).toArrayDouble().filter(_ != -1000))\n",
    "    } else {\n",
    "      satellite_grids_RDD = satellite_tiles_RDD.map(m => m.band(band_numB.value).toArrayDouble())\n",
    "    }\n",
    "  }\n",
    "\n",
    "  //Store in HDFS\n",
    "  if (save_rdds) {\n",
    "      satellite_grids_RDD.saveAsObjectFile(satellite_grid_path)\n",
    "  }\n",
    "}\n",
    "val satellite_grids_withIndex = satellite_grids_RDD.zipWithIndex().map { case (e, v) => (v, e) }\n",
    "\n",
    "//Filter out the range of years:\n",
    "satellite_grids = satellite_grids_withIndex.filterByRange(satellite_years_range._1, satellite_years_range._2).values\n",
    "//satellite_grids.persist(StorageLevel.DISK_ONLY)\n",
    "\n",
    "//Collect Stats:\n",
    "satellite_summary = Statistics.colStats(satellite_grids.map(m => Vectors.dense(m)))\n",
    "satellite_std = satellite_summary.variance.toArray.map(m => scala.math.sqrt(m))\n",
    "\n",
    "var satellite_grid0_index: RDD[Double] = satellite_grids_withIndex.filter(m => m._1 == 0).values.flatMap(m => m)\n",
    "satellite_cells_size = satellite_grid0_index.count().toInt\n",
    "println(\"Number of cells is: \" + satellite_cells_size)\n",
    "\n",
    "t1 = System.nanoTime()\n",
    "println(\"Elapsed time: \" + (t1 - t0) + \"ns\")"
   ]
  },
  {
   "cell_type": "markdown",
   "metadata": {},
   "source": [
    "### Model data"
   ]
  },
  {
   "cell_type": "code",
   "execution_count": 7,
   "metadata": {},
   "outputs": [
    {
     "name": "stdout",
     "output_type": "stream",
     "text": [
      "[Stage 12:==============================================>           (4 + 1) / 5]Elapsed time: 2432090908ns\n"
     ]
    },
    {
     "data": {
      "text/plain": [
       "t0 = 1169174905705\n",
       "model_grids_withIndex = MapPartitionsRDD[48] at map at <console>:187\n",
       "model_grids = MapPartitionsRDD[50] at values at <console>:190\n",
       "model_summary = org.apache.spark.mllib.stat.MultivariateOnlineSummarizer@772abde6\n",
       "model_tile0_index = MapPartitionsRDD[58] at flatMap at <console>:197\n",
       "model_cells_size = 483850\n",
       "t1 = 1171606996613\n"
      ]
     },
     "metadata": {},
     "output_type": "display_data"
    },
    {
     "data": {
      "text/plain": [
       "1171606996613"
      ]
     },
     "execution_count": 7,
     "metadata": {},
     "output_type": "execute_result"
    }
   ],
   "source": [
    "t0 = System.nanoTime()\n",
    "\n",
    "if (model_rdd_offline_mode) {\n",
    "  model_grids_RDD = sc.objectFile(model_grid_path)\n",
    "  model_grid0 = sc.objectFile(model_grid0_path)\n",
    "  model_grid0_index = sc.objectFile(model_grid0_index_path)\n",
    "  val metadata = sc.sequenceFile(metadata_path, classOf[IntWritable], classOf[BytesWritable]).map(_._2.copyBytes()).collect()\n",
    "  projected_extent = deserialize(metadata(0)).asInstanceOf[ProjectedExtent]\n",
    "  num_cols_rows = (deserialize(metadata(1)).asInstanceOf[Int], deserialize(metadata(2)).asInstanceOf[Int])\n",
    "  cellT = deserialize(metadata(3)).asInstanceOf[CellType]\n",
    "} else {\n",
    "  if (model_band_num != 0) {\n",
    "    val model_geos_RDD = sc.hadoopMultibandGeoTiffRDD(model_filepath, pattern)\n",
    "    val model_tiles_RDD = model_geos_RDD.values\n",
    "\n",
    "    //Retrieve the number of cols and rows of the Tile's grid\n",
    "    val tiles_withIndex = model_tiles_RDD.zipWithIndex().map { case (v, i) => (i, v) }\n",
    "    val tile0 = (tiles_withIndex.filter(m => m._1 == 0).values.collect()) (0)\n",
    "\n",
    "    num_cols_rows = (tile0.cols, tile0.rows)\n",
    "    cellT = tile0.cellType\n",
    "\n",
    "    //Retrieve the ProjectExtent which contains metadata such as CRS and bounding box\n",
    "    val projected_extents_withIndex = model_geos_RDD.keys.zipWithIndex().map { case (e, v) => (v, e) }\n",
    "    projected_extent = (projected_extents_withIndex.filter(m => m._1 == 0).values.collect()) (0)\n",
    "\n",
    "    val band_numB: Broadcast[Int] = sc.broadcast(model_band_num)\n",
    "    if (toBeMasked) {\n",
    "      val mask_tile_broad: Broadcast[Tile] = sc.broadcast(mask_tile0)\n",
    "      grids_RDD = model_tiles_RDD.map(m => m.band(band_numB.value).localInverseMask(mask_tile_broad.value, 1, -1000).toArrayDouble())\n",
    "    } else {\n",
    "      grids_RDD = model_tiles_RDD.map(m => m.band(band_numB.value).toArrayDouble())\n",
    "    }\n",
    "  } else {\n",
    "    val model_geos_RDD = sc.hadoopGeoTiffRDD(model_filepath, pattern)\n",
    "    val model_tiles_RDD = model_geos_RDD.values\n",
    "\n",
    "    //Retrieve the number of cols and rows of the Tile's grid\n",
    "    val tiles_withIndex = model_tiles_RDD.zipWithIndex().map { case (v, i) => (i, v) }\n",
    "    val tile0 = (tiles_withIndex.filter(m => m._1 == 0).values.collect()) (0)\n",
    "\n",
    "    num_cols_rows = (tile0.cols, tile0.rows)\n",
    "    cellT = tile0.cellType\n",
    "\n",
    "    //Retrieve the ProjectExtent which contains metadata such as CRS and bounding box\n",
    "    val projected_extents_withIndex = model_geos_RDD.keys.zipWithIndex().map { case (e, v) => (v, e) }\n",
    "    projected_extent = (projected_extents_withIndex.filter(m => m._1 == 0).values.collect()) (0)\n",
    "\n",
    "    if (toBeMasked) {\n",
    "      val mask_tile_broad: Broadcast[Tile] = sc.broadcast(mask_tile0)\n",
    "      grids_RDD = model_tiles_RDD.map(m => m.localInverseMask(mask_tile_broad.value, 1, -1000).toArrayDouble())\n",
    "    } else {\n",
    "      grids_RDD = model_tiles_RDD.map(m => m.toArrayDouble())\n",
    "    }\n",
    "  }\n",
    "\n",
    "  //Get Index for each Cell\n",
    "  val grids_withIndex = grids_RDD.zipWithIndex().map { case (e, v) => (v, e) }\n",
    "  if (toBeMasked) {\n",
    "    model_grid0_index = grids_withIndex.filter(m => m._1 == 0).values.flatMap(m => m).zipWithIndex.filter(m => m._1 != -1000.0).map { case (v, i) => (i) }\n",
    "  } else {\n",
    "    model_grid0_index = grids_withIndex.filter(m => m._1 == 0).values.flatMap(m => m).zipWithIndex.map { case (v, i) => (i) }\n",
    "  }\n",
    "\n",
    "  //Get the Tile's grid\n",
    "  model_grid0 = grids_withIndex.filter(m => m._1 == 0).values.flatMap( m => m).zipWithIndex.map{case (v,i) => (i,v)}\n",
    "\n",
    "  //Lets filter out NaN\n",
    "  if (toBeMasked) {\n",
    "    model_grids_RDD = grids_RDD.map(m => m.filter(m => m != -1000.0))\n",
    "  } else {\n",
    "    model_grids_RDD = grids_RDD\n",
    "  }\n",
    "\n",
    "  //Store data in HDFS\n",
    "  model_grids_RDD.saveAsObjectFile(model_grid_path)\n",
    "  model_grid0.saveAsObjectFile(model_grid0_path)\n",
    "  model_grid0_index.saveAsObjectFile(model_grid0_index_path)\n",
    "\n",
    "  val writer: SequenceFile.Writer = SequenceFile.createWriter(conf,\n",
    "    Writer.file(metadata_path),\n",
    "    Writer.keyClass(classOf[IntWritable]),\n",
    "    Writer.valueClass(classOf[BytesWritable])\n",
    "  )\n",
    "\n",
    "  writer.append(new IntWritable(1), new BytesWritable(serialize(projected_extent)))\n",
    "  writer.append(new IntWritable(2), new BytesWritable(serialize(num_cols_rows._1)))\n",
    "  writer.append(new IntWritable(3), new BytesWritable(serialize(num_cols_rows._2)))\n",
    "  writer.append(new IntWritable(4), new BytesWritable(serialize(cellT)))\n",
    "  writer.hflush()\n",
    "  writer.close()\n",
    "}\n",
    "\n",
    "val model_grids_withIndex = model_grids_RDD.zipWithIndex().map { case (e, v) => (v, e) }\n",
    "\n",
    "//Filter out the range of years:\n",
    "model_grids = model_grids_withIndex.filterByRange(model_years_range._1, model_years_range._2).values\n",
    "//model_grids.persist(StorageLevel.DISK_ONLY)\n",
    "\n",
    "//Collect Stats:\n",
    "model_summary = Statistics.colStats(model_grids.map(m => Vectors.dense(m)))\n",
    "//model_std = model_summary.variance.toArray.map(m => scala.math.sqrt(m))\n",
    "\n",
    "var model_tile0_index: RDD[Double] = model_grids_withIndex.filter(m => m._1 == 0).values.flatMap(m => m)\n",
    "model_cells_size = model_tile0_index.count().toInt\n",
    "\n",
    "t1 = System.nanoTime()\n",
    "println(\"Elapsed time: \" + (t1 - t0) + \"ns\")"
   ]
  },
  {
   "cell_type": "markdown",
   "metadata": {},
   "source": [
    "## Matrices"
   ]
  },
  {
   "cell_type": "markdown",
   "metadata": {},
   "source": [
    "### Satellite"
   ]
  },
  {
   "cell_type": "code",
   "execution_count": 8,
   "metadata": {},
   "outputs": [
    {
     "name": "stdout",
     "output_type": "stream",
     "text": [
      "\r",
      "[Stage 15:====================================================>   (35 + 2) / 37]"
     ]
    },
    {
     "data": {
      "text/plain": [
       "satellite_cells_sizeB = Broadcast(20)\n",
       "satellite_mat = org.apache.spark.mllib.linalg.distributed.RowMatrix@161d14e3\n",
       "sat_byColumnAndRow = MapPartitionsRDD[64] at flatMap at <console>:68\n",
       "satellite_blockMatrix = org.apache.spark.mllib.linalg.distributed.BlockMatrix@314b66b\n"
      ]
     },
     "metadata": {},
     "output_type": "display_data"
    },
    {
     "data": {
      "text/plain": [
       "org.apache.spark.mllib.linalg.distributed.BlockMatrix@314b66b"
      ]
     },
     "execution_count": 8,
     "metadata": {},
     "output_type": "execute_result"
    }
   ],
   "source": [
    "//Satellite\n",
    "val satellite_cells_sizeB = sc.broadcast(satellite_cells_size)\n",
    "val satellite_mat: RowMatrix = new RowMatrix(satellite_grids.map(m => m.zipWithIndex).map(m => m.filter(!_._1.isNaN)).map(m => Vectors.sparse(satellite_cells_sizeB.value.toInt, m.map(v => v._2), m.map(v => v._1))))\n",
    "\n",
    "// Split the matrix into one number per line.\n",
    "val sat_byColumnAndRow = satellite_mat.rows.zipWithIndex.map {\n",
    "  case (row, rowIndex) => row.toArray.zipWithIndex.map {\n",
    "    case (number, columnIndex) => new MatrixEntry(rowIndex, columnIndex, number)\n",
    "  }\n",
    "}.flatMap(x => x)\n",
    "val satellite_blockMatrix: BlockMatrix = new CoordinateMatrix(sat_byColumnAndRow).toBlockMatrix()"
   ]
  },
  {
   "cell_type": "markdown",
   "metadata": {},
   "source": [
    "### SC"
   ]
  },
  {
   "cell_type": "code",
   "execution_count": 9,
   "metadata": {},
   "outputs": [
    {
     "name": "stdout",
     "output_type": "stream",
     "text": [
      "                                                                                \r"
     ]
    },
    {
     "data": {
      "text/plain": [
       "sc_exists = true\n",
       "Sc = org.apache.spark.mllib.linalg.distributed.BlockMatrix@7e7eeab4\n"
      ]
     },
     "metadata": {},
     "output_type": "display_data"
    },
    {
     "data": {
      "text/plain": [
       "org.apache.spark.mllib.linalg.distributed.BlockMatrix@7e7eeab4"
      ]
     },
     "execution_count": 9,
     "metadata": {},
     "output_type": "execute_result"
    }
   ],
   "source": [
    "//SC\n",
    "val sc_exists = fs.exists(new org.apache.hadoop.fs.Path(sc_path))\n",
    "var Sc :BlockMatrix = null\n",
    "if (sc_exists) {\n",
    "  val rdd_indexed_rows :RDD[IndexedRow]= sc.objectFile(sc_path)\n",
    "  Sc = new IndexedRowMatrix(rdd_indexed_rows).toBlockMatrix()\n",
    "} else {\n",
    "  val satellite_M_1_Gc = sc.parallelize(Array[Vector](satellite_summary.mean)).map(m => Vectors.dense(m.toArray))\n",
    "  val satellite_M_1_Gc_RowM: RowMatrix = new RowMatrix(satellite_M_1_Gc)\n",
    "  val sat_M_1_Gc_byColumnAndRow = satellite_M_1_Gc_RowM.rows.zipWithIndex.map {\n",
    "    case (row, rowIndex) => row.toArray.zipWithIndex.map {\n",
    "      case (number, columnIndex) => new MatrixEntry(rowIndex, columnIndex, number)\n",
    "    }\n",
    "  }.flatMap(x => x)\n",
    "  val satellite_M_1_Gc_blockMatrix = new CoordinateMatrix(sat_M_1_Gc_byColumnAndRow).toBlockMatrix()\n",
    "\n",
    "  val sat_matrix_Nt_1 = new Array[Double](satellite_grids.count().toInt)\n",
    "  //satellite_grids.unpersist(false)\n",
    "  for (i <- 0 until sat_matrix_Nt_1.length)\n",
    "    sat_matrix_Nt_1(i) = 1\n",
    "  val satellite_M_Nt_1 = sc.parallelize(sat_matrix_Nt_1).map(m => Vectors.dense(m))\n",
    "  val satellite_M_Nt_1_RowM: RowMatrix = new RowMatrix(satellite_M_Nt_1)\n",
    "  val sat_M_Nt_1_byColumnAndRow = satellite_M_Nt_1_RowM.rows.zipWithIndex.map {\n",
    "    case (row, rowIndex) => row.toArray.zipWithIndex.map {\n",
    "      case (number, columnIndex) => new MatrixEntry(rowIndex, columnIndex, number)\n",
    "    }\n",
    "  }.flatMap(x => x)\n",
    "  val satellite_M_Nt_1_blockMatrix = new CoordinateMatrix(sat_M_Nt_1_byColumnAndRow).toBlockMatrix()\n",
    "  val satellite_M_Nt_Gc_blockMatrix = satellite_M_Nt_1_blockMatrix.multiply(satellite_M_1_Gc_blockMatrix)\n",
    "\n",
    "  //Sc = satellite_blockMatrix.subtract(satellite_M_Nt_Gc_blockMatrix)\n",
    "  val joined_mat :RDD[ (Long, (Array[Double], Array[Double]))] = satellite_blockMatrix.toIndexedRowMatrix().rows.map(m => (m.index, m.vector.toArray)).join(satellite_M_Nt_Gc_blockMatrix.toCoordinateMatrix().toIndexedRowMatrix().rows.map(m => (m.index, m.vector.toArray)))\n",
    "  Sc = (new CoordinateMatrix(joined_mat.map {case (row_index, (a,b)) => a.zip(b).map(m => m._1-m._2).zipWithIndex.map{ case (v,col_index) => new MatrixEntry(row_index, col_index,v)}}.flatMap(m => m))).toBlockMatrix() \n",
    "\n",
    "  //save to disk\n",
    "  Sc.toIndexedRowMatrix().rows.saveAsObjectFile(sc_path)\n",
    "}\n",
    "//Sc.persist(StorageLevel.DISK_ONLY)"
   ]
  },
  {
   "cell_type": "markdown",
   "metadata": {},
   "source": [
    "### Model Data"
   ]
  },
  {
   "cell_type": "code",
   "execution_count": 10,
   "metadata": {},
   "outputs": [
    {
     "name": "stdout",
     "output_type": "stream",
     "text": [
      "[Stage 18:====================================================>   (34 + 2) / 36]"
     ]
    },
    {
     "data": {
      "text/plain": [
       "model_cells_sizeB = Broadcast(26)\n",
       "model_mat = org.apache.spark.mllib.linalg.distributed.RowMatrix@7cb62cb3\n",
       "mod_byColumnAndRow = MapPartitionsRDD[81] at flatMap at <console>:68\n",
       "model_blockMatrix = org.apache.spark.mllib.linalg.distributed.BlockMatrix@4c4e703f\n"
      ]
     },
     "metadata": {},
     "output_type": "display_data"
    },
    {
     "data": {
      "text/plain": [
       "org.apache.spark.mllib.linalg.distributed.BlockMatrix@4c4e703f"
      ]
     },
     "execution_count": 10,
     "metadata": {},
     "output_type": "execute_result"
    }
   ],
   "source": [
    "//Model\n",
    "val model_cells_sizeB = sc.broadcast(model_cells_size)\n",
    "val model_mat: RowMatrix = new RowMatrix(model_grids.map(m => m.zipWithIndex).map(m => m.filter(!_._1.isNaN)).map(m => Vectors.sparse(model_cells_sizeB.value.toInt, m.map(v => v._2), m.map(v => v._1))))\n",
    "\n",
    "// Split the matrix into one number per line.\n",
    "val mod_byColumnAndRow = model_mat.rows.zipWithIndex.map {\n",
    "  case (row, rowIndex) => row.toArray.zipWithIndex.map {\n",
    "    case (number, columnIndex) => new MatrixEntry(rowIndex, columnIndex, number)\n",
    "  }\n",
    "}.flatMap(x => x)\n",
    "val model_blockMatrix: BlockMatrix = new CoordinateMatrix(mod_byColumnAndRow).transpose().toBlockMatrix()"
   ]
  },
  {
   "cell_type": "markdown",
   "metadata": {},
   "source": [
    "### Mc"
   ]
  },
  {
   "cell_type": "code",
   "execution_count": 11,
   "metadata": {},
   "outputs": [
    {
     "name": "stdout",
     "output_type": "stream",
     "text": [
      "[Stage 20:=======================================>           (766 + 234) / 1000]"
     ]
    },
    {
     "data": {
      "text/plain": [
       "mc_exists = true\n",
       "Mc = org.apache.spark.mllib.linalg.distributed.BlockMatrix@1e0d3bf3\n"
      ]
     },
     "metadata": {},
     "output_type": "display_data"
    },
    {
     "data": {
      "text/plain": [
       "org.apache.spark.mllib.linalg.distributed.BlockMatrix@1e0d3bf3"
      ]
     },
     "execution_count": 11,
     "metadata": {},
     "output_type": "execute_result"
    }
   ],
   "source": [
    "//MC\n",
    "val mc_exists = fs.exists(new org.apache.hadoop.fs.Path(mc_path))\n",
    "var Mc :BlockMatrix = null\n",
    "if (mc_exists) {\n",
    "  val rdd_indexed_rows :RDD[IndexedRow]= sc.objectFile(mc_path)\n",
    "  Mc = new IndexedRowMatrix(rdd_indexed_rows).toBlockMatrix()\n",
    "} else {\n",
    "  val model_M_1_Gc = sc.parallelize(Array[Vector](model_summary.mean)).map(m => Vectors.dense(m.toArray))\n",
    "  val model_M_1_Gc_RowM: RowMatrix = new RowMatrix(model_M_1_Gc)\n",
    "  val mod_M_1_Gc_byColumnAndRow = model_M_1_Gc_RowM.rows.zipWithIndex.map {\n",
    "    case (row, rowIndex) => row.toArray.zipWithIndex.map {\n",
    "      case (number, columnIndex) => new MatrixEntry(rowIndex, columnIndex, number)\n",
    "    }\n",
    "  }.flatMap(x => x)\n",
    "  val model_M_1_Gc_blockMatrix = new CoordinateMatrix(mod_M_1_Gc_byColumnAndRow).toBlockMatrix()\n",
    "\n",
    "  val model_matrix_Nt_1 = new Array[Double](model_grids.count().toInt)\n",
    "  //model_grids.unpersist(false)\n",
    "\n",
    "  for (i <- 0 until model_matrix_Nt_1.length)\n",
    "    model_matrix_Nt_1(i) = 1\n",
    "  val model_M_Nt_1 = sc.parallelize(model_matrix_Nt_1).map(m => Vectors.dense(m))\n",
    "  val model_M_Nt_1_RowM: RowMatrix = new RowMatrix(model_M_Nt_1)\n",
    "  val mod_M_Nt_1_byColumnAndRow = model_M_Nt_1_RowM.rows.zipWithIndex.map {\n",
    "    case (row, rowIndex) => row.toArray.zipWithIndex.map {\n",
    "      case (number, columnIndex) => new MatrixEntry(rowIndex, columnIndex, number)\n",
    "    }\n",
    "  }.flatMap(x => x)\n",
    "  val model_M_Nt_1_blockMatrix = new CoordinateMatrix(mod_M_Nt_1_byColumnAndRow).toBlockMatrix()\n",
    "  val model_M_Nt_Gc_blockMatrix = model_M_Nt_1_blockMatrix.multiply(model_M_1_Gc_blockMatrix)\n",
    "  val model_M_Gc_Nt_blockMatrix = model_M_Nt_Gc_blockMatrix.transpose\n",
    "  \n",
    "  //Mc = model_blockMatrix.subtract(model_M_Gc_Nt_blockMatrix)\n",
    "  val joined_mat :RDD[ (Long, (Array[Double], Array[Double]))] = model_blockMatrix.toIndexedRowMatrix().rows.map( m => (m.index, m.vector.toArray)).join(model_M_Gc_Nt_blockMatrix.toIndexedRowMatrix().rows.map(m => (m.index, m.vector.toArray)))\n",
    "  Mc = (new CoordinateMatrix(joined_mat.map {case (row_index, (a,b)) => a.zip(b).map(m => m._1-m._2).zipWithIndex.map{ case (v,col_index) => new MatrixEntry(row_index, col_index,v)}}.flatMap(m => m))).toBlockMatrix()\n",
    "\n",
    "  //save to disk\n",
    "  Mc.toIndexedRowMatrix().rows.saveAsObjectFile(mc_path)\n",
    "}\n",
    "//Mc.persist(StorageLevel.DISK_ONLY)"
   ]
  },
  {
   "cell_type": "markdown",
   "metadata": {},
   "source": [
    "### Sr"
   ]
  },
  {
   "cell_type": "code",
   "execution_count": 12,
   "metadata": {},
   "outputs": [
    {
     "data": {
      "text/plain": [
       "Sr: org.apache.spark.mllib.linalg.distributed.BlockMatrix = null\n"
      ]
     },
     "metadata": {},
     "output_type": "display_data"
    }
   ],
   "source": [
    "//SR\n",
    "var Sr :BlockMatrix = null"
   ]
  },
  {
   "cell_type": "markdown",
   "metadata": {},
   "source": [
    "### Mr"
   ]
  },
  {
   "cell_type": "code",
   "execution_count": 13,
   "metadata": {},
   "outputs": [
    {
     "data": {
      "text/plain": [
       "Mr: org.apache.spark.mllib.linalg.distributed.BlockMatrix = null\n"
      ]
     },
     "metadata": {},
     "output_type": "display_data"
    }
   ],
   "source": [
    "//MR\n",
    "var Mr :BlockMatrix = null"
   ]
  },
  {
   "cell_type": "markdown",
   "metadata": {},
   "source": [
    "## Matrix Multiplication"
   ]
  },
  {
   "cell_type": "code",
   "execution_count": 14,
   "metadata": {},
   "outputs": [
    {
     "name": "stdout",
     "output_type": "stream",
     "text": [
      "[Stage 25:=================================================>        (6 + 1) / 7]"
     ]
    },
    {
     "data": {
      "text/plain": [
       "matrix_mul = org.apache.spark.mllib.linalg.distributed.IndexedRowMatrix@46ac09ef\n",
       "n_components = 26\n"
      ]
     },
     "metadata": {},
     "output_type": "display_data"
    },
    {
     "data": {
      "text/plain": [
       "26"
      ]
     },
     "execution_count": 14,
     "metadata": {},
     "output_type": "execute_result"
    }
   ],
   "source": [
    "//Matrix Multiplication\n",
    "var matrix_mul :IndexedRowMatrix = null\n",
    "var n_components :Long = 0\n",
    "\n",
    "//Normal Matrix\n",
    "if (matrix_mode == 0) {\n",
    "  matrix_mul = model_blockMatrix.toIndexedRowMatrix().multiply(satellite_blockMatrix.toLocalMatrix())\n",
    "  n_components = List(model_blockMatrix.numRows(), model_blockMatrix.numCols(), satellite_blockMatrix.numRows(), satellite_blockMatrix.numCols()).min\n",
    "}\n",
    "\n",
    "//SC Matrix\n",
    "if (matrix_mode == 1) {\n",
    "  matrix_mul = Mc.toIndexedRowMatrix().multiply(Sc.toLocalMatrix())\n",
    "  n_components = List(Mc.numRows(), Mc.numCols(), Sc.numRows(), Sc.numCols()).min\n",
    "}\n",
    "\n",
    "//SR Matrix\n",
    "if (matrix_mode == 2) {\n",
    "  matrix_mul = Mr.toIndexedRowMatrix().multiply(Sr.toLocalMatrix())\n",
    "  n_components = List(Mr.numRows(), Mr.numCols(), Sr.numRows(), Sr.numCols()).min\n",
    "}"
   ]
  },
  {
   "cell_type": "markdown",
   "metadata": {},
   "source": [
    "## SVD"
   ]
  },
  {
   "cell_type": "code",
   "execution_count": 15,
   "metadata": {},
   "outputs": [
    {
     "name": "stdout",
     "output_type": "stream",
     "text": [
      "[Stage 234:============================================>          (25 + 6) / 31]"
     ]
    },
    {
     "data": {
      "text/plain": [
       "svd = \n"
      ]
     },
     "metadata": {},
     "output_type": "display_data"
    },
    {
     "data": {
      "text/plain": [
       "SingularValueDecomposition(org.apache.spark.mllib.linalg.distributed.RowMatrix@45e8b92c,[1.2051734846237378E11,1.5731502063346007E8,9.354714854448463E7,6.905679842999004E7,5.526621808388971E7,4.0701929023372E7,3.212782160191781E7,2.4903252813016314E7,1.9320312318715412E7,1.82663003730079E7,1.7190574025181644E7,1.5019956259419689E7,1.2725605528641628E7,1.1646307097874615E7,1.0860080572826205E7,1.043934269453451E7,9931441.01827396,8331478.349791396,8252190.491014826,7354727.077607888,6655639.861438513,5983963.356948634,5924921.769039156,5790605.120873877,5170085.782857946,4426607.045517704],-0.0020369236563774515  -1.2352680576094898E-4 ...\n"
      ]
     },
     "metadata": {},
     "output_type": "display_data"
    },
    {
     "data": {
      "text/plain": [
       "SingularValueDecomposition(org.apache.spark.mllib.linalg.distributed.RowMatrix@45e8b92c,[1.2051734846237378E11,1.5731502063346007E8,9.354714854448463E7,6.905679842999004E7,5.526621808388971E7,4.0701929023372E7,3.212782160191781E7,2.4903252813016314E7,1.9320312318715412E7,1.82663003730079E7,1.7190574025181644E7,1.5019956259419689E7,1.2725605528641628E7,1.1646307097874615E7,1.0860080572826205E7,1.043934269453451E7,9931441.01827396,8331478.349791396,8252190.491014826,7354727.077607888,6655639.861438513,5983963.356948634,5924921.769039156,5790605.120873877,5170085.782857946,4426607.045517704],-0.0020369236563774515  -1.2352680576094898E-4  ... (26 total)\n",
       "-0.0020369236563774536  -1.2352680576104455E-4  ...\n",
       "-0.002050085953087252   -9.656678126447997E-5   ...\n",
       "-0.0020482374188388014  -6.239900059127528E-5   ...\n",
       "-0.0020469477474922906  -8.282905757388564E-5   ...\n",
       "-0.002046921195694613   -8.469442990960812E-5   ...\n",
       "-0.0020494828957270854  -1.1646198380386294E-4  ...\n",
       "-0.0020482163771796263  -1.0750978256375236E-4  ...\n",
       "-0.002048860666861444   -9.424934725535012E-5   ...\n",
       "-0.0020456599060407563  -9.284860894097065E-5   ...\n",
       "-0.002045659906040756   -9.284860894073978E-5   ...\n",
       "-0.0020362532465157206  -1.415676743759653E-4   ...\n",
       "-0.0020356343955318067  -1.7376906063041402E-4  ...\n",
       "-0.0020469166743874332  -9.285184924842558E-5   ...\n",
       "-0.0020475679661214967  -8.566994728675451E-5   ...\n",
       "-0.00204505826853663    -4.8193003072109784E-5  ...\n",
       "-0.002043100741237972   -2.23306785942502E-5    ...\n",
       "-0.002046888408163146   -1.0471313699443129E-4  ...\n",
       "-0.00204753281119614    -1.2259768761988018E-4  ...\n",
       "-0.0020507689170351224  2.4473898583562997E-6   ...\n",
       "-0.00204313514635117    -4.1187506289579295E-5  ...\n",
       "-0.002044985235268637   -8.045340076108095E-5   ...\n",
       "-0.002033065407655209   -1.541002702783258E-4   ...\n",
       "-0.002035001671773048   -1.643633316872914E-4   ...\n",
       "-0.0020469166743874354  -9.28518492484388E-5    ...\n",
       "-0.002046916674387434   -9.285184924813732E-5   ...\n",
       "-0.002045680497402271   -7.040563962082157E-5   ...\n",
       "-0.0020424564515561555  -3.559111390252276E-5   ...\n",
       "-0.0020456115361717855  -9.877202219910778E-5   ...\n",
       "-0.002045614754169389   -9.479088045579937E-5   ...\n",
       "-0.002040542104614292   4.57280489140325E-6     ...\n",
       "-0.002040542104614291   4.572804891689641E-6    ...\n",
       "-0.002041186507647283   -1.3311745734107461E-5  ...\n",
       "-0.0020424802926817106  -2.188255088176619E-5   ...\n",
       "-0.002033070155217404   -1.539114045991814E-4   ...\n",
       "-0.0020337285230061695  -1.470157142710588E-4   ...\n",
       "-0.002045642907042502   -5.178460677611944E-5   ...\n",
       "-0.002045687386103337   -4.533918703387817E-5   ...\n",
       "-0.0020431804840661183  -1.8067096688263863E-5  ...\n",
       "-0.0020392847536038843  -4.795837077762949E-6   ...\n",
       "-0.0020392847536038865  -4.79583707757733E-6    ...\n",
       "-0.0020392847536038856  -4.795837077420233E-6   ...\n",
       "-0.0020398978149324706  -8.687630416562989E-6   ...\n",
       "-0.002037410818710917   7.4859724474595735E-6   ...\n",
       "-0.0020386643050476216  -4.347709365145737E-6   ...\n",
       "-0.0020412268063450052  -1.0048869068925698E-5  ...\n",
       "-0.0020331086005524485  -1.091716547736324E-4   ...\n",
       "-0.002033108600552448   -1.0917165477337296E-4  ...\n",
       "-0.0020399483741719154  -4.340411409219632E-6   ...\n",
       "-0.002039948374171915   -4.340411409168031E-6   ...\n",
       "-0.0020331072196157277  -1.2954856195981614E-4  ...\n",
       "-0.002037353952345594   -3.299882680150777E-6   ...\n",
       "-0.0020373539523455956  -3.299882680266814E-6   ...\n",
       "-0.0020373539523455943  -3.299882680119359E-6   ...\n",
       "-0.0020399613588274867  8.762588816571769E-6    ...\n",
       "-0.0020393170691456702  -4.497846491973157E-6   ...\n",
       "-0.0020393170691456707  -4.4978464916503245E-6  ...\n",
       "-0.0020368166687647965  5.62464209001187E-5     ...\n",
       "-0.0010811721679465818  -6.36448850595725E-5    ...\n",
       "-0.0010868379026181363  -7.975934007423156E-5   ...\n",
       "-0.0010976071622420109  -2.0322086550545016E-4  ...\n",
       "-0.0010944055065315735  -2.2789134736337028E-4  ...\n",
       "-0.0010969643403516698  -3.423167439421144E-4   ...\n",
       "-0.001103932355130475   -4.2251610357851307E-4  ...\n",
       "-0.0010911609531107718  -4.552541028438331E-4   ...\n",
       "-0.0010843484880747707  -5.321783518324126E-4   ...\n",
       "-0.0010760816352601665  -6.227994905678209E-4   ...\n",
       "-0.001025948246270365   -7.205786904802435E-4   ...\n",
       "-0.001015218881289108   -5.619287563027218E-4   ...\n",
       "-0.0010304819067451835  -5.343081137310486E-4   ...\n",
       "-0.0011093668985572781  -4.896376294026588E-4   ...\n",
       "-0.0010482233202553772  -6.862352924267426E-4   ...\n",
       "-9.505424559768761E-4   -3.031844492290136E-4   ...\n",
       "-9.567714919107663E-4   -2.8524331304729E-4     ...\n",
       "-0.001117592895431806   1.1712797302912081E-4   ...\n",
       "-0.0012415777026099644  3.746215436456539E-4    ...\n",
       "-0.0011214716508284337  -9.455983009686277E-6   ...\n",
       "-0.0012382410916588666  -1.7543636936962284E-5  ...\n",
       "-0.0013858088086952545  1.6681646010414407E-4   ...\n",
       "... (483850 total))"
      ]
     },
     "execution_count": 15,
     "metadata": {},
     "output_type": "execute_result"
    }
   ],
   "source": [
    "val svd: SingularValueDecomposition[RowMatrix, Matrix] = matrix_mul.toRowMatrix().computeSVD(n_components.toInt, computeU = true)"
   ]
  },
  {
   "cell_type": "code",
   "execution_count": 16,
   "metadata": {},
   "outputs": [
    {
     "data": {
      "text/plain": [
       "U = org.apache.spark.mllib.linalg.distributed.RowMatrix@45e8b92c\n",
       "s = [1.2051734846237378E11,1.5731502063346007E8,9.354714854448463E7,6.905679842999004E7,5.526621808388971E7,4.0701929023372E7,3.212782160191781E7,2.4903252813016314E7,1.9320312318715412E7,1.82663003730079E7,1.7190574025181644E7,1.5019956259419689E7,1.2725605528641628E7,1.1646307097874615E7,1.0860080572826205E7,1.043934269453451E7,9931441.01827396,8331478.349791396,8252190.491014826,7354727.077607888,6655639.861438513,5983963.356948634,5924921.769039156,5790605.120873877,5170085.782857946,4426607.045517704]\n",
       "V = \n"
      ]
     },
     "metadata": {},
     "output_type": "display_data"
    },
    {
     "data": {
      "text/plain": [
       "-0.0020369236563774536  ...\n"
      ]
     },
     "metadata": {},
     "output_type": "display_data"
    },
    {
     "data": {
      "text/plain": [
       "-0.0020369236563774515  -1.2352680576094898E-4  ... (26 total)\n",
       "-0.0020369236563774536  -1.2352680576104455E-4  ...\n",
       "-0.002050085953087252   -9.656678126447997E-5   ...\n",
       "-0.0020482374188388014  -6.239900059127528E-5   ...\n",
       "-0.0020469477474922906  -8.282905757388564E-5   ...\n",
       "-0.002046921195694613   -8.469442990960812E-5   ...\n",
       "-0.0020494828957270854  -1.1646198380386294E-4  ...\n",
       "-0.0020482163771796263  -1.0750978256375236E-4  ...\n",
       "-0.002048860666861444   -9.424934725535012E-5   ...\n",
       "-0.0020456599060407563  -9.284860894097065E-5   ...\n",
       "-0.002045659906040756   -9.284860894073978E-5   ...\n",
       "-0.0020362532465157206  -1.415676743759653E-4   ...\n",
       "-0.0020356343955318067  -1.7376906063041402E-4  ...\n",
       "-0.0020469166743874332  -9.285184924842558E-5   ...\n",
       "-0.0020475679661214967  -8.566994728675451E-5   ...\n",
       "-0.00204505826853663    -4.8193003072109784E-5  ...\n",
       "-0.002043100741237972   -2.23306785942502E-5    ...\n",
       "-0.002046888408163146   -1.0471313699443129E-4  ...\n",
       "-0.00204753281119614    -1.2259768761988018E-4  ...\n",
       "-0.0020507689170351224  2.4473898583562997E-6   ...\n",
       "-0.00204313514635117    -4.1187506289579295E-5  ...\n",
       "-0.002044985235268637   -8.045340076108095E-5   ...\n",
       "-0.002033065407655209   -1.541002702783258E-4   ...\n",
       "-0.002035001671773048   -1.643633316872914E-4   ...\n",
       "-0.0020469166743874354  -9.28518492484388E-5    ...\n",
       "-0.002046916674387434   -9.285184924813732E-5   ...\n",
       "-0.002045680497402271   -7.040563962082157E-5   ...\n",
       "-0.0020424564515561555  -3.559111390252276E-5   ...\n",
       "-0.0020456115361717855  -9.877202219910778E-5   ...\n",
       "-0.002045614754169389   -9.479088045579937E-5   ...\n",
       "-0.002040542104614292   4.57280489140325E-6     ...\n",
       "-0.002040542104614291   4.572804891689641E-6    ...\n",
       "-0.002041186507647283   -1.3311745734107461E-5  ...\n",
       "-0.0020424802926817106  -2.188255088176619E-5   ...\n",
       "-0.002033070155217404   -1.539114045991814E-4   ...\n",
       "-0.0020337285230061695  -1.470157142710588E-4   ...\n",
       "-0.002045642907042502   -5.178460677611944E-5   ...\n",
       "-0.002045687386103337   -4.533918703387817E-5   ...\n",
       "-0.0020431804840661183  -1.8067096688263863E-5  ...\n",
       "-0.0020392847536038843  -4.795837077762949E-6   ...\n",
       "-0.0020392847536038865  -4.79583707757733E-6    ...\n",
       "-0.0020392847536038856  -4.795837077420233E-6   ...\n",
       "-0.0020398978149324706  -8.687630416562989E-6   ...\n",
       "-0.002037410818710917   7.4859724474595735E-6   ...\n",
       "-0.0020386643050476216  -4.347709365145737E-6   ...\n",
       "-0.0020412268063450052  -1.0048869068925698E-5  ...\n",
       "-0.0020331086005524485  -1.091716547736324E-4   ...\n",
       "-0.002033108600552448   -1.0917165477337296E-4  ...\n",
       "-0.0020399483741719154  -4.340411409219632E-6   ...\n",
       "-0.002039948374171915   -4.340411409168031E-6   ...\n",
       "-0.0020331072196157277  -1.2954856195981614E-4  ...\n",
       "-0.002037353952345594   -3.299882680150777E-6   ...\n",
       "-0.0020373539523455956  -3.299882680266814E-6   ...\n",
       "-0.0020373539523455943  -3.299882680119359E-6   ...\n",
       "-0.0020399613588274867  8.762588816571769E-6    ...\n",
       "-0.0020393170691456702  -4.497846491973157E-6   ...\n",
       "-0.0020393170691456707  -4.4978464916503245E-6  ...\n",
       "-0.0020368166687647965  5.62464209001187E-5     ...\n",
       "-0.0010811721679465818  -6.36448850595725E-5    ...\n",
       "-0.0010868379026181363  -7.975934007423156E-5   ...\n",
       "-0.0010976071622420109  -2.0322086550545016E-4  ...\n",
       "-0.0010944055065315735  -2.2789134736337028E-4  ...\n",
       "-0.0010969643403516698  -3.423167439421144E-4   ...\n",
       "-0.001103932355130475   -4.2251610357851307E-4  ...\n",
       "-0.0010911609531107718  -4.552541028438331E-4   ...\n",
       "-0.0010843484880747707  -5.321783518324126E-4   ...\n",
       "-0.0010760816352601665  -6.227994905678209E-4   ...\n",
       "-0.001025948246270365   -7.205786904802435E-4   ...\n",
       "-0.001015218881289108   -5.619287563027218E-4   ...\n",
       "-0.0010304819067451835  -5.343081137310486E-4   ...\n",
       "-0.0011093668985572781  -4.896376294026588E-4   ...\n",
       "-0.0010482233202553772  -6.862352924267426E-4   ...\n",
       "-9.505424559768761E-4   -3.031844492290136E-4   ...\n",
       "-9.567714919107663E-4   -2.8524331304729E-4     ...\n",
       "-0.001117592895431806   1.1712797302912081E-4   ...\n",
       "-0.0012415777026099644  3.746215436456539E-4    ...\n",
       "-0.0011214716508284337  -9.455983009686277E-6   ...\n",
       "-0.0012382410916588666  -1.7543636936962284E-5  ...\n",
       "-0.0013858088086952545  1.6681646010414407E-4   ...\n",
       "... (483850 total)"
      ]
     },
     "execution_count": 16,
     "metadata": {},
     "output_type": "execute_result"
    }
   ],
   "source": [
    "val U: RowMatrix = svd.U // The U factor is a RowMatrix.\n",
    "val s: Vector = svd.s // The singular values are stored in a local dense vector.\n",
    "val V: Matrix = svd.V // The V factor is a local dense matrix.\n",
    "val S = Matrices.diag(s)"
   ]
  },
  {
   "cell_type": "markdown",
   "metadata": {},
   "source": [
    "# Save results"
   ]
  },
  {
   "cell_type": "markdown",
   "metadata": {},
   "source": [
    "### R"
   ]
  },
  {
   "cell_type": "code",
   "execution_count": 17,
   "metadata": {},
   "outputs": [
    {
     "name": "stdout",
     "output_type": "stream",
     "text": [
      "[Stage 237:===================================================>(998 + 2) / 1000]"
     ]
    }
   ],
   "source": [
    "U.rows.map(m => m.toArray.mkString(\",\")).repartition(1).saveAsTextFile(out_path + \"U_Sc.csv\")"
   ]
  },
  {
   "cell_type": "markdown",
   "metadata": {},
   "source": [
    "### V"
   ]
  },
  {
   "cell_type": "code",
   "execution_count": 23,
   "metadata": {},
   "outputs": [
    {
     "name": "stdout",
     "output_type": "stream",
     "text": [
      "[Stage 241:==========================================>              (3 + 1) / 4]"
     ]
    },
    {
     "data": {
      "text/plain": [
       "lastException: Throwable = null\n"
      ]
     },
     "metadata": {},
     "output_type": "display_data"
    }
   ],
   "source": [
    "sc.parallelize(V.rowIter.toVector.map(m => m.toArray.mkString(\",\")),4).saveAsTextFile(out_path + \"V_Sc.csv\")"
   ]
  },
  {
   "cell_type": "markdown",
   "metadata": {},
   "source": [
    "### S"
   ]
  },
  {
   "cell_type": "code",
   "execution_count": 24,
   "metadata": {},
   "outputs": [],
   "source": [
    "sc.parallelize(S.rowIter.toVector.map(m => m.toArray.mkString(\",\")),1).saveAsTextFile(out_path + \"S_Sc.csv\")"
   ]
  },
  {
   "cell_type": "code",
   "execution_count": null,
   "metadata": {},
   "outputs": [],
   "source": []
  },
  {
   "cell_type": "code",
   "execution_count": null,
   "metadata": {},
   "outputs": [],
   "source": []
  }
 ],
 "metadata": {
  "kernelspec": {
   "display_name": "Apache Toree - Scala",
   "language": "scala",
   "name": "apache_toree_scala"
  },
  "language_info": {
   "codemirror_mode": "text/x-scala",
   "file_extension": ".scala",
   "mimetype": "text/x-scala",
   "name": "scala",
   "pygments_lexer": "scala",
   "version": "2.11.8"
  }
 },
 "nbformat": 4,
 "nbformat_minor": 2
}
