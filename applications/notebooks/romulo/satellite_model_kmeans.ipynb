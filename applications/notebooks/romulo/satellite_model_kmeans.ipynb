{
 "cells": [
  {
   "cell_type": "markdown",
   "metadata": {},
   "source": [
    "# Kmeans over a set of GeoTiffs\n",
    "\n",
    "This notebook loads a set of GeoTiffs into a **RDD** of Tiles, with each Tile being a band in the GeoTiff. Each GeoTiff file contains **SpringIndex-** or **LastFreeze-** value for one year over the entire USA.\n",
    "\n",
    "Kmeans takes years as dimensions. Hence, the matrix has cells as rows and the years as columns. To cluster on all years, the matrix needs to be transposed. The notebook has two flavors of matrix transpose, locally by the Spark-driver or distributed using the Spark-workers. Once transposed the matrix is converted to a **RDD** of dense vectors to be used by **Kmeans** algorithm from **Spark-MLlib**. The end result is a grid where each cell has a cluster ID which is then saved into a SingleBand GeoTiff. By saving the result into a GeoTiff, the reader can plot it using a Python notebook as the one defined in the [python examples](../examples/python).\n",
    "\n",
    "<span style=\"color:red\">In this notebook the reader only needs to modify the variables in **Mode of Operation Setup**</span>."
   ]
  },
  {
   "cell_type": "markdown",
   "metadata": {},
   "source": [
    "## Dependencies"
   ]
  },
  {
   "cell_type": "code",
   "execution_count": 1,
   "metadata": {},
   "outputs": [
    {
     "data": {
      "text/plain": [
       "im...\n"
      ]
     },
     "metadata": {},
     "output_type": "display_data"
    }
   ],
   "source": [
    "import java.io.{ByteArrayInputStream, ByteArrayOutputStream, ObjectInputStream, ObjectOutputStream}\n",
    "\n",
    "import breeze.linalg.norm\n",
    "import geotrellis.proj4.CRS\n",
    "import geotrellis.raster.io.geotiff.writer.GeoTiffWriter\n",
    "import geotrellis.raster.io.geotiff.{SinglebandGeoTiff, _}\n",
    "import geotrellis.raster.{CellType, DoubleArrayTile, Tile, UByteCellType}\n",
    "import geotrellis.spark.io.hadoop._\n",
    "import geotrellis.vector.{Extent, ProjectedExtent}\n",
    "import org.apache.hadoop.io.SequenceFile.Writer\n",
    "import org.apache.hadoop.io.{SequenceFile, _}\n",
    "import org.apache.spark.broadcast.Broadcast\n",
    "import org.apache.spark.mllib.clustering.{KMeans, KMeansModel}\n",
    "import org.apache.spark.mllib.linalg._\n",
    "import org.apache.spark.mllib.linalg.distributed.{CoordinateMatrix, MatrixEntry, RowMatrix}\n",
    "import org.apache.spark.rdd.RDD\n",
    "import org.apache.spark.{SparkConf, SparkContext}\n",
    "\n",
    "import scala.sys.process._\n",
    "\n",
    "//Spire is a numeric library for Scala which is intended to be generic, fast, and precise.\n",
    "import spire.syntax.cfor._"
   ]
  },
  {
   "cell_type": "markdown",
   "metadata": {},
   "source": [
    "## Mode of operation\n",
    "\n",
    "Here the user can define the mode of operation.\n",
    "* **rdd_offline_mode**: If false it means the notebook will create all data from scratch and store grid0, grid0_index, protected_extent and num_cols_rows (from grid0) into HDFS. Otherwise, these data structures are read from HDFS.\n",
    "* **matrix_offline_mode**: If false it means the notebook will create a mtrix,  transposed it and save it to HDFS. Otherwise, these data structures are read from HDFS.\n",
    "* **kmeans_offline_mode**: If false it means the notebook will train kmeans and run kemans and store kmeans model into HDFS. Otherwise, these data structures are read from HDFS.\n",
    "\n",
    "It is also possible to define which directory of GeoTiffs is to be used and on which **band** to run Kmeans. The options are\n",
    "* **BloomFinal** or **LeafFinal** which are multi-band (**4 bands**)\n",
    "* **DamageIndex** and **LastFreeze** which are single-band and if set band_num higher, it will reset to 0\n",
    "\n",
    "For kmeans the user can define the **number of iterations** and **number of clusters** as an inclusive range. Such range is defined using **minClusters**, **maxClusters**, and **stepClusters**. These variables will set a loop starting at **minClusters** and stopping at **maxClusters** (inclusive), iterating **stepClusters** at the time. <span style=\"color:red\">Note that when using a range **kemans offline mode** is not possible and it will be reset to **online mode**</span>."
   ]
  },
  {
   "cell_type": "markdown",
   "metadata": {},
   "source": [
    "### Mode of Operation setup\n",
    "<a id='mode_of_operation_setup'></a>"
   ]
  },
  {
   "cell_type": "code",
   "execution_count": 2,
   "metadata": {},
   "outputs": [
    {
     "data": {
      "text/plain": [
       "inpB_rdd_offline_mode = true\n",
       "inpA_rdd_offline_mode = true\n",
       "matrix_offline_mode = true\n",
       "kmeans_offline_mode = true\n",
       "inpB_path = hdfs:///user/hadoop/spring-index/\n",
       "inpB_dir = BloomFinal\n",
       "inpA_path = hdfs:///user/hadoop/spring-index/\n",
       "inpA_dir = LeafFinal\n",
       "out_path = hdfs:///user/pheno/kmeans_BloomFinal_LeafFinal/\n",
       "band_num = 3\n",
       "first_year = 1980\n",
       "last_year = 1986\n",
       "toBeMasked = true\n",
       "mask_path = hdfs:///user/hadoop/usa_state_masks/rhodeIsland.tif\n",
       "numIterations = 75\n",
       "minClusters = 60\n",
       "maxClusters = 60\n",
       "stepClusters = 1\n",
       "save_kmeans_model = true\n",
       "save_rdds = true\n",
       "save_matrix = true\n"
      ]
     },
     "metadata": {},
     "output_type": "display_data"
    },
    {
     "data": {
      "text/plain": [
       "true"
      ]
     },
     "execution_count": 2,
     "metadata": {},
     "output_type": "execute_result"
    }
   ],
   "source": [
    "//OPERATION MODE\n",
    "var inpB_rdd_offline_mode = true\n",
    "var inpA_rdd_offline_mode = true\n",
    "var matrix_offline_mode = true\n",
    "var kmeans_offline_mode = true\n",
    "\n",
    "//Using spring-index model\n",
    "var inpB_path = \"hdfs:///user/hadoop/spring-index/\"\n",
    "var inpB_dir = \"BloomFinal\"\n",
    "\n",
    "//Using AVHRR Satellite data\n",
    "var inpA_path = \"hdfs:///user/hadoop/spring-index/\"\n",
    "var inpA_dir = \"LeafFinal\"\n",
    "\n",
    "var out_path = \"hdfs:///user/pheno/kmeans_\" + inpB_dir + \"_\" + inpA_dir + \"/\"\n",
    "var band_num = 3\n",
    "\n",
    "//Satellite years between (inclusive) 1989 - 2014\n",
    "//Model years between (inclusive) 1980 - 2015\n",
    "\n",
    "var first_year = 1980\n",
    "var last_year = 1986\n",
    "\n",
    "//Mask\n",
    "val toBeMasked = true\n",
    "//val mask_path = \"hdfs:///user/hadoop/usa_mask.tif\"\n",
    "val mask_path = \"hdfs:///user/hadoop/usa_state_masks/rhodeIsland.tif\"\n",
    "\n",
    "\n",
    "//Kmeans number of iterations and clusters\n",
    "var numIterations = 75\n",
    "var minClusters = 60\n",
    "var maxClusters = 60\n",
    "var stepClusters = 1\n",
    "var save_kmeans_model = true\n",
    "val save_rdds = true\n",
    "val save_matrix = true"
   ]
  },
  {
   "cell_type": "markdown",
   "metadata": {},
   "source": [
    "\n",
    "<span style=\"color:red\">DON'T MODIFY ANY PIECE OF CODE FROM HERE ON!!!</span>.\n"
   ]
  },
  {
   "cell_type": "markdown",
   "metadata": {},
   "source": [
    "### Mode of operation validation"
   ]
  },
  {
   "cell_type": "code",
   "execution_count": 3,
   "metadata": {},
   "outputs": [
    {
     "data": {
      "text/plain": [
       "Waiting for a Spark session to start..."
      ]
     },
     "metadata": {},
     "output_type": "display_data"
    },
    {
     "name": "stdout",
     "output_type": "stream",
     "text": [
      "\"Load GeoTiffs\" offline mode is not set properly, i.e., either it was set to false and the required file does not exist or vice-versa. We will reset it to false\n",
      "\"Load GeoTiffs\" offline mode is not set properly, i.e., either it was set to false and the required file does not exist or vice-versa. We will reset it to false\n",
      "\"Matrix\" offline mode is not set properly, i.e., either it was set to false and the required file does not exist or vice-versa. We will reset it to false\n",
      "1\n",
      "\"Kmeans\" offline mode is not set properly, i.e., either it was set to false and the required file does not exist or vice-versa. We will reset it to false\n"
     ]
    },
    {
     "data": {
      "text/plain": [
       "conf = Configuration: core-default.xml, core-site.xml, mapred-default.xml, mapred-site.xml, yarn-default.xml, yarn-site.xml, hdfs-default.xml, hdfs-site.xml, file:/usr/lib/spark-2.1.1-bin-without-hadoop/conf/hive-site.xml\n",
       "fs = DFS[DFSClient[clientName=DFSClient_NONMAPREDUCE_1462098204_39, ugi=pheno (auth:SIMPLE)]]\n",
       "mask_str = _mask\n",
       "inpB_grid_path = hdfs:///user/pheno/kmeans_BloomFinal_LeafFinal/BloomFinal_grid\n",
       "inpA_grid_path = hdfs:///user/pheno/kmeans_BloomFinal_LeafFinal/LeafFinal_grid\n",
       "grid0_path = hdfs:///user/pheno/kmeans_BloomFinal_LeafFinal/BloomFinal_grid0_\n",
       "grid0_index_path = hdfs:///user/pheno/kmeans_BloomFinal_LeafFinal/BloomFinal_grid0_index\n",
       "matrix_path = hdfs:...\n"
      ]
     },
     "metadata": {},
     "output_type": "display_data"
    },
    {
     "data": {
      "text/plain": [
       "hdfs:///user/pheno/kmeans_BloomFinal_LeafFinal/BloomFinal_matrix1980_1986"
      ]
     },
     "execution_count": 3,
     "metadata": {},
     "output_type": "execute_result"
    }
   ],
   "source": [
    "// OPERATION VALIDATION\n",
    "var conf = sc.hadoopConfiguration\n",
    "var fs = org.apache.hadoop.fs.FileSystem.get(conf)\n",
    "\n",
    "//Paths to store data structures for Offline runs\n",
    "var mask_str = \"\"\n",
    "if (toBeMasked)\n",
    "  mask_str = \"_mask\"\n",
    "\n",
    "var inpB_grid_path = out_path + inpB_dir + \"_grid\"  \n",
    "var inpA_grid_path = out_path + inpA_dir + \"_grid\"\n",
    "var grid0_path = out_path + inpB_dir + \"_grid0_\"\n",
    "var grid0_index_path = out_path + inpB_dir + \"_grid0_index\"\n",
    "var matrix_path = out_path + inpB_dir + \"_matrix\" + first_year + \"_\" + last_year\n",
    "var metadata_path = out_path + inpB_dir + \"_metadata\"\n",
    "\n",
    "val inpB_rdd_offline_exists = fs.exists(new org.apache.hadoop.fs.Path(inpB_grid_path))\n",
    "val inpA_rdd_offline_exists = fs.exists(new org.apache.hadoop.fs.Path(inpA_grid_path))\n",
    "val matrix_offline_exists = fs.exists(new org.apache.hadoop.fs.Path(matrix_path))\n",
    "\n",
    "if (minClusters > maxClusters) {\n",
    "  maxClusters = minClusters\n",
    "  stepClusters = 1\n",
    "}\n",
    "if (stepClusters < 1) {\n",
    "  stepClusters = 1\n",
    "}\n",
    "\n",
    "if (inpB_rdd_offline_mode != inpB_rdd_offline_exists) {\n",
    "  println(\"\\\"Load GeoTiffs\\\" offline mode is not set properly, i.e., either it was set to false and the required file does not exist or vice-versa. We will reset it to \" + inpB_rdd_offline_exists.toString())\n",
    "  inpB_rdd_offline_mode = inpB_rdd_offline_exists\n",
    "}\n",
    "\n",
    "if (inpA_rdd_offline_mode != inpA_rdd_offline_exists) {\n",
    "  println(\"\\\"Load GeoTiffs\\\" offline mode is not set properly, i.e., either it was set to false and the required file does not exist or vice-versa. We will reset it to \" + inpA_rdd_offline_exists.toString())\n",
    "  inpA_rdd_offline_mode = inpA_rdd_offline_exists\n",
    "}\n",
    "\n",
    "if (matrix_offline_mode != matrix_offline_exists) {\n",
    "  println(\"\\\"Matrix\\\" offline mode is not set properly, i.e., either it was set to false and the required file does not exist or vice-versa. We will reset it to \" + matrix_offline_exists.toString())\n",
    "  matrix_offline_mode = matrix_offline_exists\n",
    "}\n",
    "\n",
    "//Years\n",
    "val years = 1980 to 2015\n",
    "if (!years.contains(first_year) || !(years.contains(last_year))) {\n",
    "  println(\"Invalid range of years for \" + inpA_dir + \". I should be between \" + first_year + \" and \" + last_year)\n",
    "  System.exit(0)\n",
    "}\n",
    "var years_range = (years.indexOf(first_year), years.indexOf(last_year))\n",
    "\n",
    "var num_kmeans: Int = 1\n",
    "if (minClusters != maxClusters) {\n",
    "  num_kmeans = ((maxClusters - minClusters) / stepClusters) + 1\n",
    "}\n",
    "println(num_kmeans)\n",
    "var kmeans_model_paths: Array[String] = Array.fill[String](num_kmeans)(\"\")\n",
    "var wssse_path: String = out_path + \"/\" + numIterations + \"_wssse_\" + first_year + \"_\" + last_year\n",
    "var geotiff_hdfs_paths: Array[String] = Array.fill[String](num_kmeans)(\"\")\n",
    "var geotiff_tmp_paths: Array[String] = Array.fill[String](num_kmeans)(\"\")\n",
    "var numClusters_id = 0\n",
    "\n",
    "if (num_kmeans > 1) {\n",
    "  numClusters_id = 0\n",
    "  cfor(minClusters)(_ <= maxClusters, _ + stepClusters) { numClusters =>\n",
    "    kmeans_model_paths(numClusters_id) = out_path + \"/kmeans_model_\" + band_num + \"_\" + numClusters + \"_\" + numIterations + \"_\" + first_year + \"_\" + last_year\n",
    "\n",
    "    //Check if the file exists\n",
    "    val kmeans_exist = fs.exists(new org.apache.hadoop.fs.Path(kmeans_model_paths(numClusters_id)))\n",
    "    if (kmeans_exist && !kmeans_offline_mode) {\n",
    "      println(\"The kmeans model path \" + kmeans_model_paths(numClusters_id) + \" exists, please remove it.\")\n",
    "    } else if (!kmeans_exist && kmeans_offline_mode) {\n",
    "      kmeans_offline_mode = false\n",
    "    }\n",
    "\n",
    "    geotiff_hdfs_paths(numClusters_id) = out_path + \"/clusters_\" + band_num + \"_\" + numClusters + \"_\" + numIterations  + \"_\" + first_year + \"_\" + last_year\n",
    "    geotiff_tmp_paths(numClusters_id) = \"/tmp/clusters_\" + band_num + \"_\" + numClusters + \"_\" + numIterations\n",
    "    numClusters_id += 1\n",
    "  }\n",
    "  kmeans_offline_mode = false\n",
    "} else {\n",
    "  kmeans_model_paths(0) = out_path + \"/kmeans_model_\" + band_num + \"_\" + minClusters + \"_\" + numIterations + \"_\" + first_year + \"_\" + last_year\n",
    "  val kmeans_offline_exists = fs.exists(new org.apache.hadoop.fs.Path(kmeans_model_paths(0)))\n",
    "  if (kmeans_offline_mode != kmeans_offline_exists) {\n",
    "    println(\"\\\"Kmeans\\\" offline mode is not set properly, i.e., either it was set to false and the required file does not exist or vice-versa. We will reset it to \" + kmeans_offline_exists.toString())\n",
    "    kmeans_offline_mode = kmeans_offline_exists\n",
    "  }\n",
    "  geotiff_hdfs_paths(0) = out_path + \"/clusters_\" + band_num + \"_\" + minClusters + \"_\" + numIterations + \"_\" + first_year + \"_\" + last_year\n",
    "  geotiff_tmp_paths(0) = \"/tmp/clusters_\" + band_num + \"_\" + minClusters + \"_\" + numIterations\n",
    "}\n",
    "\n",
    "//Global variables\n",
    "var inpA_grids_RDD: RDD[Array[Double]] = sc.emptyRDD\n",
    "var inpA_grids: RDD[Array[Double]] = sc.emptyRDD\n",
    "var inpB_grids_RDD: RDD[Array[Double]] = sc.emptyRDD\n",
    "var inpB_grids: RDD[Array[Double]] = sc.emptyRDD\n",
    "var projected_extent = new ProjectedExtent(new Extent(0, 0, 0, 0), CRS.fromName(\"EPSG:3857\"))\n",
    "var grid0: RDD[(Long, Double)] = sc.emptyRDD\n",
    "var grid0_index: RDD[Long] = sc.emptyRDD\n",
    "var num_cols_rows: (Int, Int) = (0, 0)\n",
    "var cellT: CellType = UByteCellType\n",
    "var mask_tile0: Tile = new SinglebandGeoTiff(geotrellis.raster.ArrayTile.empty(cellT, num_cols_rows._1, num_cols_rows._2), projected_extent.extent, projected_extent.crs, Tags.empty, GeoTiffOptions.DEFAULT).tile\n",
    "var cells_size: Long = 0\n",
    "var inpA_cells_size: Long = 0\n",
    "var inpB_cells_size: Long = 0\n",
    "var t0: Long = 0\n",
    "var t1: Long = 0"
   ]
  },
  {
   "cell_type": "markdown",
   "metadata": {},
   "source": [
    "## Functions to (de)serialize any structure into Array[Byte]"
   ]
  },
  {
   "cell_type": "code",
   "execution_count": 4,
   "metadata": {},
   "outputs": [
    {
     "data": {
      "text/plain": [
       "serialize: (value: Any)Array[Byte]\n",
       "deserialize: (bytes: Array[Byte])Any\n"
      ]
     },
     "metadata": {},
     "output_type": "display_data"
    }
   ],
   "source": [
    "def serialize(value: Any): Array[Byte] = {\n",
    "    val out_stream: ByteArrayOutputStream = new ByteArrayOutputStream()\n",
    "    val obj_out_stream = new ObjectOutputStream(out_stream)\n",
    "    obj_out_stream.writeObject(value)\n",
    "    obj_out_stream.close\n",
    "    out_stream.toByteArray\n",
    "}\n",
    "\n",
    "def deserialize(bytes: Array[Byte]): Any = {\n",
    "    val obj_in_stream = new ObjectInputStream(new ByteArrayInputStream(bytes))\n",
    "    val value = obj_in_stream.readObject\n",
    "    obj_in_stream.close\n",
    "    value\n",
    "}"
   ]
  },
  {
   "cell_type": "markdown",
   "metadata": {},
   "source": [
    "## Load GeoTiffs\n",
    "\n",
    "Using GeoTrellis all GeoTiffs of a directory will be loaded into a RDD. Using the RDD, we extract a grid from the first file to lated store the Kmeans cluster_IDS, we build an Index for populate such grid and we filter out here all NaN values."
   ]
  },
  {
   "cell_type": "markdown",
   "metadata": {},
   "source": [
    "### GeoTiffs A"
   ]
  },
  {
   "cell_type": "code",
   "execution_count": 5,
   "metadata": {},
   "outputs": [
    {
     "name": "stdout",
     "output_type": "stream",
     "text": [
      "Elapsed time: 6436413838ns\n",
      "Number of cells is: 3333                                                        \n",
      "Elapsed time: 257532334798ns\n"
     ]
    },
    {
     "data": {
      "text/plain": [
       "t0 = 118400193766959\n",
       "pattern = tif\n",
       "inpA_filepath = hdfs:///user/hadoop/spring-index/LeafFinal\n",
       "inpB_filepath = hdfs:///user/hadoop/spring-index//BloomFinal\n",
       "t1 = 118657726101757\n",
       "t0 = 118400193766959\n",
       "inpA_grids_withIndex = MapPartitionsRDD[21] at map at <console>:120\n",
       "inpA_grids = MapPartitionsRDD[23] at values at <console>:123\n",
       "inpA_grid0_index = MapPartitionsRDD[26] at flatMap at <console>:125\n",
       "inpA_cells_size = 3333\n",
       "t1 = 118657726101757\n"
      ]
     },
     "metadata": {},
     "output_type": "display_data"
    },
    {
     "data": {
      "text/plain": [
       "118657726101757"
      ]
     },
     "execution_count": 5,
     "metadata": {},
     "output_type": "execute_result"
    }
   ],
   "source": [
    "// GeoTiffs A\n",
    "t0 = System.nanoTime()\n",
    "//Load Mask\n",
    "if (toBeMasked) {\n",
    "  val mask_tiles_RDD = sc.hadoopGeoTiffRDD(mask_path).values\n",
    "  val mask_tiles_withIndex = mask_tiles_RDD.zipWithIndex().map { case (e, v) => (v, e) }\n",
    "  mask_tile0 = (mask_tiles_withIndex.filter(m => m._1 == 0).filter(m => !m._1.isNaN).values.collect()) (0)\n",
    "}\n",
    "\n",
    "//Local variables\n",
    "val pattern: String = \"tif\"\n",
    "val inpA_filepath: String = inpA_path + inpA_dir\n",
    "val inpB_filepath: String = inpB_path + \"/\" + inpB_dir\n",
    "\n",
    "t1 = System.nanoTime()\n",
    "println(\"Elapsed time: \" + (t1 - t0) + \"ns\")\n",
    "\n",
    "t0 = System.nanoTime()\n",
    "if (inpA_rdd_offline_mode) {\n",
    "  inpA_grids_RDD = sc.objectFile(inpA_grid_path)\n",
    "} else {\n",
    "  val inpA_geos_RDD = sc.hadoopMultibandGeoTiffRDD(inpB_filepath, pattern)\n",
    "  val inpA_tiles_RDD = inpA_geos_RDD.values\n",
    "\n",
    "  val band_numB :Broadcast[Int] = sc.broadcast(band_num)\n",
    "  if (toBeMasked) {\n",
    "    val mask_tile_broad: Broadcast[Tile] = sc.broadcast(mask_tile0)\n",
    "    inpA_grids_RDD = inpA_tiles_RDD.map(m => m.band(band_numB.value).localInverseMask(mask_tile_broad.value, 1, -1000).toArrayDouble().filter(_ != -1000))\n",
    "  } else {\n",
    "    inpA_grids_RDD = inpA_tiles_RDD.map(m => m.band(band_numB.value).toArrayDouble())\n",
    "  }\n",
    "\n",
    "  //Store in HDFS\n",
    "  if (save_rdds) {\n",
    "    inpA_grids_RDD.saveAsObjectFile(inpA_grid_path)\n",
    "  }\n",
    "}\n",
    "val inpA_grids_withIndex = inpA_grids_RDD.zipWithIndex().map { case (e, v) => (v, e) }\n",
    "\n",
    "//Filter out the range of years:\n",
    "inpA_grids = inpA_grids_withIndex.filterByRange(years_range._1, years_range._2).values\n",
    "\n",
    "var inpA_grid0_index: RDD[Double] = inpA_grids_withIndex.filter(m => m._1 == 0).values.flatMap(m => m)\n",
    "inpA_cells_size = inpA_grid0_index.count().toInt\n",
    "println(\"Number of cells is: \" + inpA_cells_size)\n",
    "\n",
    "t1 = System.nanoTime()\n",
    "println(\"Elapsed time: \" + (t1 - t0) + \"ns\")"
   ]
  },
  {
   "cell_type": "markdown",
   "metadata": {},
   "source": [
    "### GeoTiffs B"
   ]
  },
  {
   "cell_type": "code",
   "execution_count": 6,
   "metadata": {},
   "outputs": [
    {
     "name": "stdout",
     "output_type": "stream",
     "text": [
      "Number of cells is: 3333                                                        \n",
      "Elapsed time: 992371353041ns\n"
     ]
    },
    {
     "data": {
      "text/plain": [
       "t0 = 118664887451581\n",
       "inpB_grids_withIndex = MapPartitionsRDD[61] at map at <console>:167\n",
       "inpB_grids = MapPartitionsRDD[63] at values at <console>:170\n",
       "inpB_tile0_index = MapPartitionsRDD[66] at flatMap at <console>:172\n",
       "inpB_cells_size = 3333\n",
       "t1 = 119657258804622\n"
      ]
     },
     "metadata": {},
     "output_type": "display_data"
    },
    {
     "data": {
      "text/plain": [
       "119657258804622"
      ]
     },
     "execution_count": 6,
     "metadata": {},
     "output_type": "execute_result"
    }
   ],
   "source": [
    "//GeoTiffs B\n",
    "t0 = System.nanoTime()\n",
    "if (inpB_rdd_offline_mode) {\n",
    "  inpB_grids_RDD = sc.objectFile(inpB_grid_path)\n",
    "  grid0 = sc.objectFile(grid0_path)\n",
    "  grid0_index = sc.objectFile(grid0_index_path)\n",
    "\n",
    "  val metadata = sc.sequenceFile(metadata_path, classOf[IntWritable], classOf[BytesWritable]).map(_._2.copyBytes()).collect()\n",
    "  projected_extent = deserialize(metadata(0)).asInstanceOf[ProjectedExtent]\n",
    "  num_cols_rows = (deserialize(metadata(1)).asInstanceOf[Int], deserialize(metadata(2)).asInstanceOf[Int])\n",
    "  cellT = deserialize(metadata(3)).asInstanceOf[CellType]\n",
    "} else {\n",
    "  val inpB_geos_RDD = sc.hadoopMultibandGeoTiffRDD(inpB_filepath, pattern)\n",
    "  val inpB_tiles_RDD = inpB_geos_RDD.values\n",
    "\n",
    "  //Retrieve the number of cols and rows of the Tile's grid\n",
    "  val tiles_withIndex = inpB_tiles_RDD.zipWithIndex().map { case (v, i) => (i, v) }\n",
    "  val tile0 = (tiles_withIndex.filter(m => m._1 == 0).values.collect()) (0)\n",
    "\n",
    "  num_cols_rows = (tile0.cols, tile0.rows)\n",
    "  cellT = tile0.cellType\n",
    "\n",
    "  //Retrieve the ProjectExtent which contains metadata such as CRS and bounding box\n",
    "  val projected_extents_withIndex = inpB_geos_RDD.keys.zipWithIndex().map { case (e, v) => (v, e) }\n",
    "  projected_extent = (projected_extents_withIndex.filter(m => m._1 == 0).values.collect()) (0)\n",
    "\n",
    "  val band_numB: Broadcast[Int] = sc.broadcast(band_num)\n",
    "  if (toBeMasked) {\n",
    "    val mask_tile_broad: Broadcast[Tile] = sc.broadcast(mask_tile0)\n",
    "    inpB_grids_RDD = inpB_tiles_RDD.map(m => m.band(band_numB.value).localInverseMask(mask_tile_broad.value, 1, -1000).toArrayDouble())\n",
    "  } else {\n",
    "    inpB_grids_RDD = inpB_tiles_RDD.map(m => m.band(band_numB.value).toArrayDouble())\n",
    "  }\n",
    "\n",
    "  //Get Index for each Cell\n",
    "  val grids_withIndex = inpB_grids_RDD.zipWithIndex().map { case (e, v) => (v, e) }\n",
    "  if (toBeMasked) {\n",
    "    grid0_index = grids_withIndex.filter(m => m._1 == 0).values.flatMap(m => m).zipWithIndex.filter(m => m._1 != -1000.0).map { case (v, i) => (i) }\n",
    "  } else {\n",
    "    grid0_index = grids_withIndex.filter(m => m._1 == 0).values.flatMap(m => m).zipWithIndex.map { case (v, i) => (i) }\n",
    "  }\n",
    "\n",
    "  //Get the Tile's grid\n",
    "  grid0 = grids_withIndex.filter(m => m._1 == 0).values.flatMap(m => m).zipWithIndex.map { case (v, i) => (i, v) }\n",
    "\n",
    "  //Lets filter out NaN\n",
    "  if (toBeMasked) {\n",
    "    inpB_grids_RDD = inpB_grids_RDD.map(m => m.filter(m => m != -1000.0))\n",
    "  } else {\n",
    "    inpB_grids_RDD = inpB_grids_RDD\n",
    "  }\n",
    "\n",
    "  //Store data in HDFS\n",
    "  if (save_rdds) {\n",
    "    grid0.saveAsObjectFile(grid0_path)\n",
    "    grid0_index.saveAsObjectFile(grid0_index_path)\n",
    "    inpB_grids_RDD.saveAsObjectFile(inpB_grid_path)\n",
    "\n",
    "    val writer: SequenceFile.Writer = SequenceFile.createWriter(conf,\n",
    "      Writer.file(metadata_path),\n",
    "      Writer.keyClass(classOf[IntWritable]),\n",
    "      Writer.valueClass(classOf[BytesWritable])\n",
    "    )\n",
    "\n",
    "    writer.append(new IntWritable(1), new BytesWritable(serialize(projected_extent)))\n",
    "    writer.append(new IntWritable(2), new BytesWritable(serialize(num_cols_rows._1)))\n",
    "    writer.append(new IntWritable(3), new BytesWritable(serialize(num_cols_rows._2)))\n",
    "    writer.append(new IntWritable(4), new BytesWritable(serialize(cellT)))\n",
    "    writer.hflush()\n",
    "    writer.close()\n",
    "  }\n",
    "}\n",
    "val inpB_grids_withIndex = inpB_grids_RDD.zipWithIndex().map { case (e, v) => (v, e) }\n",
    "\n",
    "//Filter out the range of years:\n",
    "inpB_grids = inpB_grids_withIndex.filterByRange(years_range._1, years_range._2).values\n",
    "\n",
    "var inpB_tile0_index: RDD[Double] = inpB_grids_withIndex.filter(m => m._1 == 0).values.flatMap(m => m)\n",
    "inpB_cells_size = inpB_tile0_index.count().toInt\n",
    "println(\"Number of cells is: \" + inpB_cells_size)\n",
    "\n",
    "if (inpA_cells_size != inpB_cells_size){\n",
    "  println(\"Cells size differs: \" + inpA_cells_size + \" and \" + inpB_cells_size)\n",
    "  System.exit(0)\n",
    "} else {\n",
    "  cells_size = inpA_cells_size\n",
    "}\n",
    "\n",
    "t1 = System.nanoTime()\n",
    "println(\"Elapsed time: \" + (t1 - t0) + \"ns\")"
   ]
  },
  {
   "cell_type": "markdown",
   "metadata": {},
   "source": [
    "## Matrix\n",
    "\n",
    "We need to do a Matrix transpose to have clusters per cell and not per year. With a GeoTiff representing a single year, the loaded data looks liks this:\n",
    "```\n",
    "bands_RDD.map(s => Vectors.dense(s)).cache()\n",
    "\n",
    "//The vectors are rows and therefore the matrix will look like this:\n",
    "[\n",
    "Vectors.dense(0.0, 1.0, 2.0),\n",
    "Vectors.dense(3.0, 4.0, 5.0),\n",
    "Vectors.dense(6.0, 7.0, 8.0),\n",
    "Vectors.dense(9.0, 0.0, 1.0)\n",
    "]\n",
    "```\n",
    "\n",
    "To achieve that we convert the **RDD[Vector]** into a distributed Matrix, a [**CoordinateMatrix**](https://spark.apache.org/docs/latest/mllib-data-types.html#coordinatematrix), which as a **transpose** method."
   ]
  },
  {
   "cell_type": "code",
   "execution_count": 7,
   "metadata": {},
   "outputs": [
    {
     "name": "stdout",
     "output_type": "stream",
     "text": [
      "[Stage 18:======================================================> (31 + 1) / 32]Elapsed time: 138523365832ns\n"
     ]
    },
    {
     "data": {
      "text/plain": [
       "t0 = 119666057999948\n",
       "grids_matrix = MapPartitionsRDD[80] at map at <console>:82\n",
       "inp_grids = MapPartitionsRDD[77] at map at <console>:73\n",
       "t1 = 119804581365780\n"
      ]
     },
     "metadata": {},
     "output_type": "display_data"
    },
    {
     "data": {
      "text/plain": [
       "119804581365780"
      ]
     },
     "execution_count": 7,
     "metadata": {},
     "output_type": "execute_result"
    }
   ],
   "source": [
    "t0 = System.nanoTime()\n",
    "var grids_matrix: RDD[Vector] = sc.emptyRDD\n",
    "val inp_grids :RDD[Array[Double]] = inpA_grids.flatMap(m => m).zipWithUniqueId().map{ case (v,i) => (i,v)}.join(inpB_grids.flatMap(m => m).zipWithUniqueId().map{case (v,i) => (i,v)}).map{case (i, (a1,a2)) => Array(a1, a2)}\n",
    "\n",
    "if (matrix_offline_mode) {\n",
    "    grids_matrix = sc.objectFile(matrix_path)\n",
    "} else {\n",
    "    //Dense Vector\n",
    "    //grids_matrix = inp_grids.map(m => Vectors.dense(m))\n",
    "    //Sparse Vector\n",
    "    val cells_sizeB = sc.broadcast(cells_size)\n",
    "    grids_matrix = inp_grids.map(m => m.zipWithIndex).map(m => m.filter(!_._1.isNaN)).map(m => Vectors.sparse(cells_sizeB.value.toInt, m.map(v => v._2), m.map(v => v._1)))\n",
    "    grids_matrix.saveAsObjectFile(matrix_path)\n",
    "}\n",
    "t1 = System.nanoTime()\n",
    "println(\"Elapsed time: \" + (t1 - t0) + \"ns\")"
   ]
  },
  {
   "cell_type": "markdown",
   "metadata": {
    "collapsed": true
   },
   "source": [
    "## Kmeans\n",
    "\n",
    "We use Kmeans from Sparl-MLlib. The user should only modify the variables on Kmeans setup."
   ]
  },
  {
   "cell_type": "markdown",
   "metadata": {},
   "source": [
    "### Kmeans Training"
   ]
  },
  {
   "cell_type": "code",
   "execution_count": 8,
   "metadata": {},
   "outputs": [
    {
     "name": "stdout",
     "output_type": "stream",
     "text": [
      "60\n",
      "Within Set Sum of Squared Errors = 3.2675249782978486E-25                       \n",
      "[Stage 45:======================================================> (31 + 1) / 32]Lets create it with the new data\n",
      "Elapsed time: 19862240540ns\n"
     ]
    },
    {
     "data": {
      "text/plain": [
       "t0 = 119807593336226\n",
       "kmeans_models = Array(org.apache.spark.mllib.clustering.KMeansModel@1a448906)\n",
       "wssse_data = List((60,75,3.2675249782978486E-25))\n",
       "t1 = 119827455576766\n"
      ]
     },
     "metadata": {},
     "output_type": "display_data"
    },
    {
     "data": {
      "text/plain": [
       "119827455576766"
      ]
     },
     "execution_count": 8,
     "metadata": {},
     "output_type": "execute_result"
    }
   ],
   "source": [
    "//KMEANS TRAINING\n",
    "t0 = System.nanoTime()\n",
    "//Global variables\n",
    "var kmeans_models :Array[KMeansModel] = new Array[KMeansModel](num_kmeans)\n",
    "var wssse_data :List[(Int, Int, Double)] = List.empty\n",
    "\n",
    "if (kmeans_offline_mode) {\n",
    "  numClusters_id = 0\n",
    "  cfor(minClusters)(_ <= maxClusters, _ + stepClusters) { numClusters =>\n",
    "    if (!fs.exists(new org.apache.hadoop.fs.Path(kmeans_model_paths(numClusters_id)))) {\n",
    "      println(\"One of the files does not exist, we will abort!!!\")\n",
    "      System.exit(0)\n",
    "    } else {\n",
    "      kmeans_models(numClusters_id) = KMeansModel.load(sc, kmeans_model_paths(numClusters_id))\n",
    "    }\n",
    "    numClusters_id += 1\n",
    "  }\n",
    "  val wssse_data_RDD :RDD[(Int, Int, Double)]  = sc.objectFile(wssse_path)\n",
    "  wssse_data  = wssse_data_RDD.collect().toList\n",
    "} else {\n",
    "  numClusters_id = 0\n",
    "  if (fs.exists(new org.apache.hadoop.fs.Path(wssse_path))) {\n",
    "    val wssse_data_RDD :RDD[(Int, Int, Double)]  = sc.objectFile(wssse_path)\n",
    "    wssse_data  = wssse_data_RDD.collect().toList\n",
    "  }\n",
    "  grids_matrix.cache()\n",
    "  cfor(minClusters)(_ <= maxClusters, _ + stepClusters) { numClusters =>\n",
    "    println(numClusters)\n",
    "    kmeans_models(numClusters_id) = {\n",
    "      KMeans.train(grids_matrix, numClusters, numIterations)\n",
    "    }\n",
    "\n",
    "    // Evaluate clustering by computing Within Set Sum of Squared Errors\n",
    "    val WSSSE = kmeans_models(numClusters_id).computeCost(grids_matrix)\n",
    "    println(\"Within Set Sum of Squared Errors = \" + WSSSE)\n",
    "\n",
    "    wssse_data = wssse_data :+ (numClusters, numIterations, WSSSE)\n",
    "\n",
    "    //Save kmeans model\n",
    "    if (save_kmeans_model) {\n",
    "      if (!fs.exists(new org.apache.hadoop.fs.Path(kmeans_model_paths(numClusters_id)))) {\n",
    "        kmeans_models(numClusters_id).save(sc, kmeans_model_paths(numClusters_id))\n",
    "      }\n",
    "    }\n",
    "    numClusters_id += 1\n",
    "\n",
    "    if (fs.exists(new org.apache.hadoop.fs.Path(wssse_path))) {\n",
    "      println(\"We will delete the wssse file\")\n",
    "      try { fs.delete(new org.apache.hadoop.fs.Path(wssse_path), true) } catch { case _ : Throwable => { } }\n",
    "    }\n",
    "\n",
    "    println(\"Lets create it with the new data\")\n",
    "    sc.parallelize(wssse_data, 1).saveAsObjectFile(wssse_path)\n",
    "  }\n",
    "\n",
    "  //Un-persist it to save memory\n",
    "  grids_matrix.unpersist()\n",
    "\n",
    "}\n",
    "t1 = System.nanoTime()\n",
    "println(\"Elapsed time: \" + (t1 - t0) + \"ns\")"
   ]
  },
  {
   "cell_type": "markdown",
   "metadata": {},
   "source": [
    "### Inspect WSSSE"
   ]
  },
  {
   "cell_type": "code",
   "execution_count": 10,
   "metadata": {},
   "outputs": [
    {
     "name": "stdout",
     "output_type": "stream",
     "text": [
      "List((60,75,3.2675249782978486E-25))\n",
      "List((60,75,3.2675249782978486E-25))\n",
      "Elapsed time: 513809122ns\n"
     ]
    },
    {
     "data": {
      "text/plain": [
       "t0 = 119873056724451\n",
       "t1 = 119873570533573\n"
      ]
     },
     "metadata": {},
     "output_type": "display_data"
    },
    {
     "data": {
      "text/plain": [
       "119873570533573"
      ]
     },
     "execution_count": 10,
     "metadata": {},
     "output_type": "execute_result"
    }
   ],
   "source": [
    "t0 = System.nanoTime()\n",
    "//current\n",
    "println(wssse_data)\n",
    "\n",
    "//from disk\n",
    "if (fs.exists(new org.apache.hadoop.fs.Path(wssse_path))) {\n",
    "    var wssse_data_tmp :RDD[(Int, Int, Double)] = sc.objectFile(wssse_path)//.collect()//.toList\n",
    "    println(wssse_data_tmp.collect().toList)    \n",
    "}\n",
    "t1 = System.nanoTime()\n",
    "println(\"Elapsed time: \" + (t1 - t0) + \"ns\")"
   ]
  },
  {
   "cell_type": "markdown",
   "metadata": {},
   "source": [
    "### Run Kmeans clustering\n",
    "\n",
    "Run Kmeans and obtain the clusters per each cell."
   ]
  },
  {
   "cell_type": "code",
   "execution_count": 11,
   "metadata": {},
   "outputs": [
    {
     "name": "stdout",
     "output_type": "stream",
     "text": [
      "Elapsed time: 17490199ns\n"
     ]
    },
    {
     "data": {
      "text/plain": [
       "t0 = 119874288656379\n",
       "kmeans_res = Array(MapPartitionsRDD[112] at map at KMeansModel.scala:69)\n",
       "numClusters_id = 1\n",
       "t1 = 119874306146578\n"
      ]
     },
     "metadata": {},
     "output_type": "display_data"
    },
    {
     "data": {
      "text/plain": [
       "119874306146578"
      ]
     },
     "execution_count": 11,
     "metadata": {},
     "output_type": "execute_result"
    }
   ],
   "source": [
    "// KMEANS CLUSTERING\n",
    "t0 = System.nanoTime()\n",
    "//Cache it so kmeans is more efficient\n",
    "grids_matrix.cache()\n",
    "\n",
    "var kmeans_res: Array[RDD[Int]] = Array.fill(num_kmeans)(sc.emptyRDD)\n",
    "numClusters_id = 0\n",
    "cfor(minClusters)(_ <= maxClusters, _ + stepClusters) { numClusters =>\n",
    "  kmeans_res(numClusters_id) = kmeans_models(numClusters_id).predict(grids_matrix)\n",
    "  numClusters_id += 1\n",
    "}\n",
    "\n",
    "//Un-persist it to save memory\n",
    "grids_matrix.unpersist()\n",
    "t1 = System.nanoTime()\n",
    "println(\"Elapsed time: \" + (t1 - t0) + \"ns\")"
   ]
  },
  {
   "cell_type": "markdown",
   "metadata": {},
   "source": [
    "#### Sanity test\n",
    "\n",
    "It can be skipped, it only shows the cluster ID for the first 50 cells"
   ]
  },
  {
   "cell_type": "code",
   "execution_count": 12,
   "metadata": {},
   "outputs": [
    {
     "name": "stdout",
     "output_type": "stream",
     "text": [
      "150131511515114165121610111121511011102221111121181181616151510151613208812168810111410148161611115128161010111101352151211216101010811111511112101505800118151010816821115161310151616111611141211161281010211512110216010216151131515013128216150\n",
      "Elapsed time: 234317654ns\n"
     ]
    },
    {
     "data": {
      "text/plain": [
       "t0 = 119875728059218\n",
       "kmeans_res_out = Array(15, 0, 13, 15, 1, 15, 15, 1, 14, 16, 5, 12, 16, 10, 1, 11, 12, 15, 11, 0, 11, 10, 2, 2, 2, 11, 11, 12, 1, 1, 8, 1, 1, 8, 16, 16, 15, 15, 10, 15, 16, 13, 2, 0, 8, 8, 12, 16, 8, 8, 10, 11, 14, 10, 14, 8, 16, 16, 11, 11, 5, 12, 8, 16, 10, 1, 0, 1, 11, 10, 13, 5, 2, 15, 12, 11, 2, 16, 10, 10, 10, 8, 11, 11, 15, 1, 11, 12, 1, 0, 15, 0, 5, 8, 0, 0, 11, 8, 15, 10, 10, 8, 16, 8, 2, 11, 15, 16, 13, 1, 0, 15, 16, 16, 11, 16, 1, 1, 14, 1, 2, 11, 16, 12, 8, 10, 10, 2, 1, 15, 12, 1, 10, 2, 16, 0, 10, 2, 16, 15, 1, 13, 15, 15, 0, 13, 12, 8, 2, 16)\n",
       "t1 = 119875962376872\n"
      ]
     },
     "metadata": {},
     "output_type": "display_data"
    },
    {
     "data": {
      "text/plain": [
       "119875962376872"
      ]
     },
     "execution_count": 12,
     "metadata": {},
     "output_type": "execute_result"
    }
   ],
   "source": [
    "t0 = System.nanoTime()\n",
    "val kmeans_res_out = kmeans_res(0).take(150)\n",
    "kmeans_res_out.foreach(print)\n",
    "\n",
    "println(kmeans_res_out.size)\n",
    "t1 = System.nanoTime()\n",
    "println(\"Elapsed time: \" + (t1 - t0) + \"ns\")"
   ]
  },
  {
   "cell_type": "markdown",
   "metadata": {},
   "source": [
    "## Build GeoTiff with Kmeans cluster_IDs\n",
    "\n",
    "The Grid with the cluster IDs is stored in a SingleBand GeoTiff and uploaded to HDFS."
   ]
  },
  {
   "cell_type": "markdown",
   "metadata": {},
   "source": [
    "### Assign cluster ID to each grid cell and save the grid as SingleBand GeoTiff\n",
    "\n",
    "To assign the clusterID to each grid cell it is necessary to get the indices of gird cells they belong to. The process is not straight forward because the ArrayDouble used for the creation of each dense Vector does not contain the NaN values, therefore there is not a direct between the indices in the Tile's grid and the ones in **kmeans_res** (kmeans result).\n",
    "\n",
    "To join the two RDDS the knowledge was obtaing from a stackoverflow post on [how to perform basic joins of two rdd tables in spark using python](https://stackoverflow.com/questions/31257077/how-do-you-perform-basic-joins-of-two-rdd-tables-in-spark-using-python)."
   ]
  },
  {
   "cell_type": "code",
   "execution_count": 51,
   "metadata": {},
   "outputs": [
    {
     "name": "stdout",
     "output_type": "stream",
     "text": [
      "3333                                                                            \n",
      "23331\n",
      "Saving GeoTiff for numClustersID: 0 year: 0\n",
      "[Stage 374:=====================================================> (31 + 1) / 32]DEPRECATED: Use of this script to execute hdfs command is deprecated.\n",
      "Instead use the hdfs command for it.\n",
      "\n",
      "Saving GeoTiff for numClustersID: 0 year: 1\n",
      "[Stage 392:=====================================================> (31 + 1) / 32]DEPRECATED: Use of this script to execute hdfs command is deprecated.\n",
      "Instead use the hdfs command for it.\n",
      "\n",
      "Saving GeoTiff for numClustersID: 0 year: 2\n",
      "DEPRECATED: Use of this script to execute hdfs command is deprecated.           \n",
      "Instead use the hdfs command for it.\n",
      "\n",
      "Saving GeoTiff for numClustersID: 0 year: 3\n",
      "[Stage 428:=====================================================> (31 + 1) / 32]DEPRECATED: Use of this script to execute hdfs command is deprecated.\n",
      "Instead use the hdfs command for it.\n",
      "\n",
      "Saving GeoTiff for numClustersID: 0 year: 4\n",
      "[Stage 446:=====================================================> (31 + 1) / 32]DEPRECATED: Use of this script to execute hdfs command is deprecated.\n",
      "Instead use the hdfs command for it.\n",
      "\n",
      "Saving GeoTiff for numClustersID: 0 year: 5\n",
      "[Stage 464:=====================================================> (31 + 1) / 32]DEPRECATED: Use of this script to execute hdfs command is deprecated.\n",
      "Instead use the hdfs command for it.\n",
      "\n",
      "Saving GeoTiff for numClustersID: 0 year: 6\n",
      "[Stage 482:=====================================================> (31 + 1) / 32]DEPRECATED: Use of this script to execute hdfs command is deprecated.\n",
      "Instead use the hdfs command for it.\n",
      "\n",
      "Elapsed time: 985839949713ns\n"
     ]
    },
    {
     "data": {
      "text/plain": [
       "t0 = 122886714337975\n",
       "numClusters_id = 1\n",
       "grid0_index_I = MapPartitionsRDD[345] at map at <console>:90\n",
       "num_cells = 23331\n",
       "cells_per_year = 3333\n",
       "cells_per_yearB = Broadcast(182)\n",
       "t1 = 123872554287688\n"
      ]
     },
     "metadata": {},
     "output_type": "display_data"
    },
    {
     "data": {
      "text/plain": [
       "warning: there were two feature warnings; re-run with -feature for details\n"
      ]
     },
     "metadata": {},
     "output_type": "display_data"
    },
    {
     "data": {
      "text/plain": [
       "123872554287688"
      ]
     },
     "execution_count": 51,
     "metadata": {},
     "output_type": "execute_result"
    }
   ],
   "source": [
    "//CREATE GeoTiffs\n",
    "t0 = System.nanoTime()\n",
    "numClusters_id = 0\n",
    "val grid0_index_I = grid0_index.zipWithIndex().map{ case (v,i) => (i,v)}\n",
    "grid0_index_I.cache()\n",
    "var num_cells = kmeans_res(0).count().toInt\n",
    "var cells_per_year = num_cells / ((last_year-first_year)+1)\n",
    "println(cells_per_year)\n",
    "println(num_cells)\n",
    "val cells_per_yearB = sc.broadcast(cells_per_year)\n",
    "\n",
    "cfor(minClusters)(_ <= maxClusters, _ + stepClusters) { numClusters =>\n",
    "  //Merge two RDDs, one containing the clusters_ID indices and the other one the indices of a Tile's grid cells\n",
    "  var year :Int = 0\n",
    "  cfor(0) (_ < num_cells, _ + cells_per_year) { cellID =>\n",
    "    println(\"Saving GeoTiff for numClustersID: \" + numClusters_id + \" year: \" + year)\n",
    "    val cellIDB = sc.broadcast(cellID)\n",
    "    val kmeans_res_sing = kmeans_res(numClusters_id)\n",
    "    val cluster_cell_pos = ((kmeans_res(numClusters_id).zipWithIndex().map{ case (v,i) => (i,v)}.filterByRange(cellIDB.value, (cellIDB.value+cells_per_yearB.value-1)).map{case (i,v) => (i-cellIDB.value, v)}.join(grid0_index_I)).map{ case (k,(v,i)) => (v,i)})\n",
    "\n",
    "    //Associate a Cluster_IDs to respective Grid_cell\n",
    "    val grid_clusters :RDD[ (Long, (Double, Option[Int]))] = grid0.leftOuterJoin(cluster_cell_pos.map{ case (c,i) => (i.toLong, c)})\n",
    "\n",
    "    //Convert all None to NaN\n",
    "    val grid_clusters_res = grid_clusters.sortByKey(true).map{case (k, (v, c)) => if (c == None) (k, Double.NaN) else (k, c.get.toDouble)}\n",
    "\n",
    "    //Define a Tile\n",
    "    val cluster_cells :Array[Double] = grid_clusters_res.values.collect()\n",
    "    val cluster_cellsD = DoubleArrayTile(cluster_cells, num_cols_rows._1, num_cols_rows._2)\n",
    "    val geoTif = new SinglebandGeoTiff(cluster_cellsD, projected_extent.extent, projected_extent.crs, Tags.empty, GeoTiffOptions(compression.DeflateCompression))\n",
    "\n",
    "    //Save to /tmp/\n",
    "    GeoTiffWriter.write(geoTif, geotiff_tmp_paths(numClusters_id) + \"_\" + years(year) + \".tif\")\n",
    "\n",
    "    //Upload to HDFS\n",
    "    var cmd = \"hadoop dfs -copyFromLocal -f \" + geotiff_tmp_paths(numClusters_id) + \"_\" + years(year) + \".tif\" + \" \" + geotiff_hdfs_paths(numClusters_id) + \"_\" + years(year) + \".tif\"\n",
    "    Process(cmd)!\n",
    "\n",
    "    //Remove from /tmp/\n",
    "    cmd = \"rm -fr \" + geotiff_tmp_paths(numClusters_id) + \"_\" + years(year) + \".tif\"\n",
    "    Process(cmd)!\n",
    "         \n",
    "    cellIDB.destroy()\n",
    "    year += 1\n",
    "  }\n",
    "  numClusters_id += 1\n",
    "}\n",
    "cells_per_yearB.destroy()\n",
    "grid0_index_I.unpersist()\n",
    "t1 = System.nanoTime()\n",
    "println(\"Elapsed time: \" + (t1 - t0) + \"ns\")"
   ]
  },
  {
   "cell_type": "markdown",
   "metadata": {},
   "source": [
    "# [Visualize results](plot_kmeans_clusters.ipynb) --------------- [Plot WSSE](kmeans_wsse.ipynb)"
   ]
  }
 ],
 "metadata": {
  "kernelspec": {
   "display_name": "Apache Toree - Scala",
   "language": "scala",
   "name": "apache_toree_scala"
  },
  "language_info": {
   "codemirror_mode": "text/x-scala",
   "file_extension": ".scala",
   "mimetype": "text/x-scala",
   "name": "scala",
   "pygments_lexer": "scala",
   "version": "2.11.8"
  }
 },
 "nbformat": 4,
 "nbformat_minor": 2
}
