{
 "cells": [
  {
   "cell_type": "code",
   "execution_count": 3,
   "metadata": {
    "collapsed": true
   },
   "outputs": [],
   "source": [
    "/**\n",
    " The following notebook does:\n",
    "     - Reads multi single- or a multi- band GeoTiff from HDFS\n",
    "     - Filters out or converts NaN values\n",
    "     - Runs Kmeans\n",
    "     - Saves the kmeans model to HDFS\n",
    "**/\n",
    "\n",
    "\n",
    "import geotrellis.raster.MultibandTile\n",
    "import geotrellis.vector.Extent\n",
    "import geotrellis.spark.io.hadoop._\n",
    "import geotrellis.vector.ProjectedExtent\n",
    "import org.apache.hadoop.fs.Path\n",
    "import org.apache.spark.{SparkConf, SparkContext}\n",
    "import org.apache.spark.mllib.clustering.KMeans\n",
    "import org.apache.spark.mllib.linalg.Vectors\n",
    "import org.apache.spark.rdd.RDD"
   ]
  },
  {
   "cell_type": "code",
   "execution_count": 10,
   "metadata": {},
   "outputs": [
    {
     "name": "stdout",
     "output_type": "stream",
     "text": [
      "[Stage 11:======================================================> (35 + 1) / 36]"
     ]
    }
   ],
   "source": [
    "//The following example shows how to get the number of bands, however, it is not known \n",
    "//val band_count = geotrellis.raster.io.geotiff.reader.TiffTagsReader.read(filepath).bandCount;\n",
    "\n",
    "val band_count = 1;\n",
    "var band_RDD :RDD[Array[Double]] = sc.emptyRDD\n",
    "val pattern: String = \"tif\"\n",
    "var filepath :String = \"\"\n",
    "\n",
    "var extent_USA = new Extent(-126.30312894720473, 14.29219617034159, -56.162671563152486, 49.25462702827337)\n",
    "var bands_USA :(Double, Double) = (0, 0)  \n",
    "\n",
    "if (band_count == 1) {\n",
    "    //Single band GeoTiff\n",
    "    filepath = \"hdfs:///user/hadoop/spring-index/LastFreeze/\"\n",
    "} else {\n",
    "    //Multi band GeoTiff\n",
    "    filepath = \"hdfs:///user/hadoop/spring-index/BloomFinal/\"\n",
    "}\n",
    "if (band_count == 1) {\n",
    "    //Lets load a Singleband GeoTiff and return RDD just with the tiles.\n",
    "    //Since it is a single GeoTiff, it will be a RDD with a tile.\n",
    "    val bands_RDD = sc.hadoopGeoTiffRDD(filepath, pattern).values\n",
    "    val extents_withIndex = sc.hadoopGeoTiffRDD(filepath, pattern).keys.zipWithIndex().map{case (e,v) => (v,e)}\n",
    "    extent_USA = extents_withIndex.lookup(0).apply(0).extent\n",
    "    \n",
    "    val bands_withIndex = bands_RDD.zipWithIndex().map{case (e,v) => (v,e)}\n",
    "    bands_USA = (bands_withIndex.lookup(0).apply(0).cols, bands_withIndex.lookup(0).apply(0).rows)\n",
    "    \n",
    "    //Lets filter out NaN\n",
    "    band_RDD = bands_RDD.map(m => m.toArrayDouble().filter(!_.isNaN))\n",
    "} else {\n",
    "    //Lets load a Multiband GeoTiff and return RDD just with the tiles.\n",
    "    //Since it is a single GeoTiff, it will be a RDD with a tile.\n",
    "    val bands_RDD = sc.hadoopMultibandGeoTiffRDD(filepath, pattern).values\n",
    "    val extents_withIndex = sc.hadoopGeoTiffRDD(filepath, pattern).keys.zipWithIndex().map{case (e,v) => (v,e)}\n",
    "    extent_USA = extents_withIndex.lookup(0).apply(0).extent\n",
    "    \n",
    "    val bands_withIndex = bands_RDD.zipWithIndex().map{case (e,v) => (v,e)}\n",
    "    bands_USA = (bands_withIndex.lookup(0).apply(0).cols, bands_withIndex.lookup(0).apply(0).rows)\n",
    "    \n",
    "    //Extract the 4th band and filter out NaN\n",
    "    band_RDD = bands_RDD.map(m => m.band(3).toArrayDouble().filter(v => !v.isNaN))\n",
    "}"
   ]
  },
  {
   "cell_type": "code",
   "execution_count": 11,
   "metadata": {},
   "outputs": [
    {
     "name": "stdout",
     "output_type": "stream",
     "text": [
      "(7808.0,3892.0)\n"
     ]
    }
   ],
   "source": [
    "println (bands_USA)"
   ]
  },
  {
   "cell_type": "code",
   "execution_count": null,
   "metadata": {
    "collapsed": true
   },
   "outputs": [],
   "source": [
    "println(extent_USA)"
   ]
  },
  {
   "cell_type": "code",
   "execution_count": 9,
   "metadata": {
    "collapsed": true
   },
   "outputs": [],
   "source": [
    "// Create a Vector without NaN values\n",
    "val band_vec = band_RDD.map(s => Vectors.dense(s)).cache()"
   ]
  },
  {
   "cell_type": "code",
   "execution_count": 11,
   "metadata": {},
   "outputs": [
    {
     "name": "stdout",
     "output_type": "stream",
     "text": [
      "[Stage 23:============================>                           (18 + 7) / 36]"
     ]
    },
    {
     "data": {
      "text/plain": [
       "Name: org.apache.spark.SparkException\n",
       "Message: Job aborted due to stage failure: Task 24 in stage 23.0 failed 4 times, most recent failure: Lost task 24.3 in stage 23.0 (TID 886, 145.100.116.163, executor 18): ExecutorLostFailure (executor 18 exited caused by one of the running tasks) Reason: Remote RPC client disassociated. Likely due to containers exceeding thresholds, or network issues. Check driver logs for WARN messages.\n",
       "Driver stacktrace:\n",
       "StackTrace: Driver stacktrace:\n",
       "  at org.apache.spark.scheduler.DAGScheduler.org$apache$spark$scheduler$DAGScheduler$$failJobAndIndependentStages(DAGScheduler.scala:1435)\n",
       "  at org.apache.spark.scheduler.DAGScheduler$$anonfun$abortStage$1.apply(DAGScheduler.scala:1423)\n",
       "  at org.apache.spark.scheduler.DAGScheduler$$anonfun$abortStage$1.apply(DAGScheduler.scala:1422)\n",
       "  at scala.collection.mutable.ResizableArray$class.foreach(ResizableArray.scala:59)\n",
       "  at scala.collection.mutable.ArrayBuffer.foreach(ArrayBuffer.scala:48)\n",
       "  at org.apache.spark.scheduler.DAGScheduler.abortStage(DAGScheduler.scala:1422)\n",
       "  at org.apache.spark.scheduler.DAGScheduler$$anonfun$handleTaskSetFailed$1.apply(DAGScheduler.scala:802)\n",
       "  at org.apache.spark.scheduler.DAGScheduler$$anonfun$handleTaskSetFailed$1.apply(DAGScheduler.scala:802)\n",
       "  at scala.Option.foreach(Option.scala:257)\n",
       "  at org.apache.spark.scheduler.DAGScheduler.handleTaskSetFailed(DAGScheduler.scala:802)\n",
       "  at org.apache.spark.scheduler.DAGSchedulerEventProcessLoop.doOnReceive(DAGScheduler.scala:1650)\n",
       "  at org.apache.spark.scheduler.DAGSchedulerEventProcessLoop.onReceive(DAGScheduler.scala:1605)\n",
       "  at org.apache.spark.scheduler.DAGSchedulerEventProcessLoop.onReceive(DAGScheduler.scala:1594)\n",
       "  at org.apache.spark.util.EventLoop$$anon$1.run(EventLoop.scala:48)\n",
       "  at org.apache.spark.scheduler.DAGScheduler.runJob(DAGScheduler.scala:628)\n",
       "  at org.apache.spark.SparkContext.runJob(SparkContext.scala:1925)\n",
       "  at org.apache.spark.SparkContext.runJob(SparkContext.scala:1938)\n",
       "  at org.apache.spark.SparkContext.runJob(SparkContext.scala:1951)\n",
       "  at org.apache.spark.SparkContext.runJob(SparkContext.scala:1965)\n",
       "  at org.apache.spark.rdd.RDD$$anonfun$collect$1.apply(RDD.scala:936)\n",
       "  at org.apache.spark.rdd.RDDOperationScope$.withScope(RDDOperationScope.scala:151)\n",
       "  at org.apache.spark.rdd.RDDOperationScope$.withScope(RDDOperationScope.scala:112)\n",
       "  at org.apache.spark.rdd.RDD.withScope(RDD.scala:362)\n",
       "  at org.apache.spark.rdd.RDD.collect(RDD.scala:935)\n",
       "  at org.apache.spark.rdd.RDD$$anonfun$takeSample$1.apply(RDD.scala:578)\n",
       "  at org.apache.spark.rdd.RDDOperationScope$.withScope(RDDOperationScope.scala:151)\n",
       "  at org.apache.spark.rdd.RDDOperationScope$.withScope(RDDOperationScope.scala:112)\n",
       "  at org.apache.spark.rdd.RDD.withScope(RDD.scala:362)\n",
       "  at org.apache.spark.rdd.RDD.takeSample(RDD.scala:557)\n",
       "  at org.apache.spark.mllib.clustering.KMeans.initKMeansParallel(KMeans.scala:353)\n",
       "  at org.apache.spark.mllib.clustering.KMeans.runAlgorithm(KMeans.scala:256)\n",
       "  at org.apache.spark.mllib.clustering.KMeans.run(KMeans.scala:227)\n",
       "  at org.apache.spark.mllib.clustering.KMeans.run(KMeans.scala:209)\n",
       "  at org.apache.spark.mllib.clustering.KMeans$.train(KMeans.scala:530)"
      ]
     },
     "execution_count": 11,
     "metadata": {},
     "output_type": "execute_result"
    }
   ],
   "source": [
    "val numClusters = 3\n",
    "val numIterations = 5\n",
    "val clusters = {\n",
    "    KMeans.train(band_vec,numClusters,numIterations)\n",
    "}\n",
    "\n",
    "// Evaluate clustering by computing Within Set Sum of Squared Errors\n",
    "val WSSSE = clusters.computeCost(band_vec)\n",
    "println(\"Within Set Sum of Squared Errors = \" + WSSSE)\n",
    "\n",
    "//Un-persist the model\n",
    "band_vec.unpersist()"
   ]
  },
  {
   "cell_type": "code",
   "execution_count": 22,
   "metadata": {},
   "outputs": [
    {
     "name": "stdout",
     "output_type": "stream",
     "text": [
      "Cluster Centers: \n",
      "[Stage 18:=============================>                            (2 + 2) / 4]"
     ]
    }
   ],
   "source": [
    "// Shows the result.\n",
    "println(\"Cluster Centers: \")\n",
    "//clusters.clusterCenters.foreach(println)\n",
    "\n",
    "//Clusters save the model\n",
    "if (band_count == 1) {\n",
    "    clusters.save(sc, \"hdfs:///user/emma/spring_index/LastFreeze/all_kmeans_model\")    \n",
    "} else {\n",
    "    clusters.save(sc, \"hdfs:///user/emma/spring_index/BloomFinal/allkmeans_model\")\n",
    "}\n"
   ]
  },
  {
   "cell_type": "code",
   "execution_count": null,
   "metadata": {
    "collapsed": true
   },
   "outputs": [],
   "source": []
  }
 ],
 "metadata": {
  "kernelspec": {
   "display_name": "Apache Toree - Scala",
   "language": "scala",
   "name": "apache_toree_scala"
  },
  "language_info": {
   "codemirror_mode": "text/x-scala",
   "file_extension": ".scala",
   "mimetype": "text/x-scala",
   "name": "scala",
   "pygments_lexer": "scala",
   "version": "2.11.8"
  }
 },
 "nbformat": 4,
 "nbformat_minor": 2
}
