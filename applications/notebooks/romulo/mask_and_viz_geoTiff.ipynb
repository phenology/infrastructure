{
 "cells": [
  {
   "cell_type": "markdown",
   "metadata": {},
   "source": [
    "# Mask and visualize a GeoTiff\n",
    "\n",
    "This notebook takes the examples [mask geotiff](../scala/mask_geotiff.ipynb) written in Scala and [plot geotiffs](../python/plot_GeoTiffs.ipynb) written in Python and merges them into a single notebook using [Pixiedust](https://github.com/ibm-watson-data-lab/pixiedust)."
   ]
  },
  {
   "cell_type": "code",
   "execution_count": 1,
   "metadata": {},
   "outputs": [
    {
     "name": "stdout",
     "output_type": "stream",
     "text": [
      "Pixiedust database opened successfully\n"
     ]
    },
    {
     "data": {
      "text/html": [
       "\n",
       "        <div style=\"margin:10px\">\n",
       "            <a href=\"https://github.com/ibm-cds-labs/pixiedust\" target=\"_new\">\n",
       "                <img src=\"https://github.com/ibm-cds-labs/pixiedust/raw/master/docs/_static/pd_icon32.png\" style=\"float:left;margin-right:10px\"/>\n",
       "            </a>\n",
       "            <span>Pixiedust version 1.0.7</span>\n",
       "        </div>\n",
       "        "
      ],
      "text/plain": [
       "<IPython.core.display.HTML object>"
      ]
     },
     "metadata": {},
     "output_type": "display_data"
    }
   ],
   "source": [
    "import pixiedust"
   ]
  },
  {
   "cell_type": "markdown",
   "metadata": {
    "collapsed": true
   },
   "source": [
    "## Python"
   ]
  },
  {
   "cell_type": "markdown",
   "metadata": {},
   "source": [
    "### Dependencies"
   ]
  },
  {
   "cell_type": "code",
   "execution_count": 2,
   "metadata": {
    "collapsed": true
   },
   "outputs": [],
   "source": [
    "#Add all dependencies to PYTHON_PATH\n",
    "import sys\n",
    "sys.path.append(\"/usr/lib/spark/python\")\n",
    "sys.path.append(\"/usr/lib/spark/python/lib/py4j-0.10.4-src.zip\")\n",
    "sys.path.append(\"/usr/lib/python3/dist-packages\")\n",
    "\n",
    "#Define environment variables\n",
    "import os\n",
    "os.environ[\"HADOOP_CONF_DIR\"] = \"/etc/hadoop/conf\"\n",
    "os.environ[\"PYSPARK_PYTHON\"] = \"python3\"\n",
    "os.environ[\"PYSPARK_DRIVER_PYTHON\"] = \"ipython\"\n",
    "\n",
    "#Load PySpark to connect to a Spark cluster\n",
    "from pyspark import SparkConf, SparkContext\n",
    "\n",
    "#To read GeoTiffs as a ByteArray\n",
    "from io import BytesIO\n",
    "import matplotlib.pyplot as plt\n",
    "import rasterio\n",
    "from rasterio import plot\n",
    "from rasterio.io import MemoryFile"
   ]
  },
  {
   "cell_type": "markdown",
   "metadata": {},
   "source": [
    "### Shared variables"
   ]
  },
  {
   "cell_type": "code",
   "execution_count": 3,
   "metadata": {
    "collapsed": true
   },
   "outputs": [],
   "source": [
    "mask_path = \"hdfs:///user/hadoop/usa_mask.tif\"\n",
    "geo_path = \"hdfs:///user/hadoop/spring-index/BloomFinal/1980.tif\"\n",
    "masked_geotiff = \"hdfs:///user/emma/spring-index/BloomFinal/1980_mask.tif\"\n",
    "tmp_geo = \"/tmp/1980_mask_clone.tif\""
   ]
  },
  {
   "cell_type": "code",
   "execution_count": 33,
   "metadata": {},
   "outputs": [
    {
     "data": {
      "text/plain": [
       "<pyspark.conf.SparkConf at 0x7fdc620279e8>"
      ]
     },
     "execution_count": 33,
     "metadata": {},
     "output_type": "execute_result"
    }
   ],
   "source": [
    "sc._conf.set('spark.jars',  'file:/data/local/pixiedust/bin/cloudant-spark-v2.0.0-185.jar:/usr/lib/spark/jars/*')"
   ]
  },
  {
   "cell_type": "code",
   "execution_count": 34,
   "metadata": {},
   "outputs": [
    {
     "data": {
      "text/plain": [
       "[('spark.driver.extraClassPath', '/data/local/pixiedust/data/libs/*'),\n",
       " ('spark.eventLog.enabled', 'true'),\n",
       " ('spark.dynamicAllocation.initialExecutors', '2'),\n",
       " ('spark.hadoop.fs.s3a.connection.ssl.enabled', 'false'),\n",
       " ('spark.jars.ivy', ''),\n",
       " ('spark.eventLog.dir', '/data/local/spark/spark-events'),\n",
       " ('spark.hadoop.fs.s3a.fs.s3a.fast.upload', 'true'),\n",
       " ('spark.app.id', 'local-1499677300081'),\n",
       " ('spark.hadoop.fs.s3a.endpoint', 'http://145.100.59.64:9091'),\n",
       " ('spark.jars.packages', ''),\n",
       " ('spark.hadoop.fs.s3a.access.key', 'A24H1RIGV4RKFGXJTEMS'),\n",
       " ('spark.serializer', 'org.apache.spark.serializer.KryoSerializer'),\n",
       " ('spark.local.dir', '/data/local/spark/tmp/'),\n",
       " ('spark.memory.storageFraction', '0.5'),\n",
       " ('spark.daemon.memory', '3g'),\n",
       " ('spark.kryoserializer.buffer', '512m'),\n",
       " ('spark.worker.memory', '14g'),\n",
       " ('spark.driver.memory', '8g'),\n",
       " ('spark.serializer.objectStreamReset', '100'),\n",
       " ('spark.default.parallelism', '32'),\n",
       " ('spark.driver.port', '37392'),\n",
       " ('spark.submit.deployMode', 'client'),\n",
       " ('spark.network.timeout', '360s'),\n",
       " ('spark.broadcast.blockSize', '20m'),\n",
       " ('spark.hadoop.fs.s3a.secret.key',\n",
       "  '5jd7ARCOi/XVjLzXqT5wA1NSgjmUo9mYJBgyGyIh'),\n",
       " ('spark.shuffle.service.enabled', 'true'),\n",
       " ('spark.driver.host', '127.0.0.1'),\n",
       " ('spark.driver.allowMultipleContexts', 'true'),\n",
       " ('spark.scheduler.mode', 'FAIR'),\n",
       " ('spark.master', 'local[10]'),\n",
       " ('spark.executor.id', 'driver'),\n",
       " ('spark.executor.cores', '2'),\n",
       " ('spark.jars',\n",
       "  'file:/data/local/pixiedust/bin/cloudant-spark-v2.0.0-185.jar:/usr/lib/spark/jars/*'),\n",
       " ('spark.app.name', 'pyspark-shell'),\n",
       " ('spark.history.fs.cleaner.enabled', 'true'),\n",
       " ('spark.executor.memory', '12g'),\n",
       " ('spark.shuffle.service.port', '7338'),\n",
       " ('spark.hadoop.fs.s3a.impl', 'org.apache.hadoop.fs.s3a.S3AFileSystem'),\n",
       " ('spark.hadoop.fs.s3a.buffer.dir', '/root/spark/work,/tmp'),\n",
       " ('spark.kryoserializer.buffer.max', '1g'),\n",
       " ('spark.executor.extraClassPath',\n",
       "  '/usr/lib/spark/jars/aws-java-sdk-s3-1.10.6.jar:/usr/lib/spark/jars/hadoop-aws-2.8.0.jar:/usr/lib/spark/jars/joda-time-2.9.4.jar'),\n",
       " ('spark.rdd.compress', 'True'),\n",
       " ('spark.memory.fraction', '0.6'),\n",
       " ('spark.driver.maxResultSize', '2g'),\n",
       " ('spark.dynamicAllocation.maxExecutors', '8'),\n",
       " ('spark.dynamicAllocation.enabled', 'true')]"
      ]
     },
     "execution_count": 34,
     "metadata": {},
     "output_type": "execute_result"
    }
   ],
   "source": [
    "sc._conf.getAll()"
   ]
  },
  {
   "cell_type": "markdown",
   "metadata": {},
   "source": [
    "## Scala\n",
    "\n",
    "Here is the scala code to mask a GeoTiff."
   ]
  },
  {
   "cell_type": "markdown",
   "metadata": {},
   "source": [
    "### Dependencies"
   ]
  },
  {
   "cell_type": "code",
   "execution_count": 35,
   "metadata": {},
   "outputs": [
    {
     "ename": "Py4JJavaError",
     "evalue": "An error occurred while calling o1668.invoke.\n: org.apache.spark.SparkException: Job aborted due to stage failure: Task 0 in stage 8.0 failed 1 times, most recent failure: Lost task 0.0 in stage 8.0 (TID 8, localhost, executor driver): java.lang.ClassCastException: cannot assign instance of scala.collection.immutable.List$SerializationProxy to field org.apache.spark.rdd.RDD.org$apache$spark$rdd$RDD$$dependencies_ of type scala.collection.Seq in instance of org.apache.spark.rdd.MapPartitionsRDD\n\tat java.io.ObjectStreamClass$FieldReflector.setObjFieldValues(ObjectStreamClass.java:2133)\n\tat java.io.ObjectStreamClass.setObjFieldValues(ObjectStreamClass.java:1305)\n\tat java.io.ObjectInputStream.defaultReadFields(ObjectInputStream.java:2251)\n\tat java.io.ObjectInputStream.readSerialData(ObjectInputStream.java:2169)\n\tat java.io.ObjectInputStream.readOrdinaryObject(ObjectInputStream.java:2027)\n\tat java.io.ObjectInputStream.readObject0(ObjectInputStream.java:1535)\n\tat java.io.ObjectInputStream.defaultReadFields(ObjectInputStream.java:2245)\n\tat java.io.ObjectInputStream.readSerialData(ObjectInputStream.java:2169)\n\tat java.io.ObjectInputStream.readOrdinaryObject(ObjectInputStream.java:2027)\n\tat java.io.ObjectInputStream.readObject0(ObjectInputStream.java:1535)\n\tat java.io.ObjectInputStream.readObject(ObjectInputStream.java:422)\n\tat scala.collection.immutable.List$SerializationProxy.readObject(List.scala:479)\n\tat sun.reflect.GeneratedMethodAccessor14.invoke(Unknown Source)\n\tat sun.reflect.DelegatingMethodAccessorImpl.invoke(DelegatingMethodAccessorImpl.java:43)\n\tat java.lang.reflect.Method.invoke(Method.java:498)\n\tat java.io.ObjectStreamClass.invokeReadObject(ObjectStreamClass.java:1058)\n\tat java.io.ObjectInputStream.readSerialData(ObjectInputStream.java:2136)\n\tat java.io.ObjectInputStream.readOrdinaryObject(ObjectInputStream.java:2027)\n\tat java.io.ObjectInputStream.readObject0(ObjectInputStream.java:1535)\n\tat java.io.ObjectInputStream.defaultReadFields(ObjectInputStream.java:2245)\n\tat java.io.ObjectInputStream.readSerialData(ObjectInputStream.java:2169)\n\tat java.io.ObjectInputStream.readOrdinaryObject(ObjectInputStream.java:2027)\n\tat java.io.ObjectInputStream.readObject0(ObjectInputStream.java:1535)\n\tat java.io.ObjectInputStream.defaultReadFields(ObjectInputStream.java:2245)\n\tat java.io.ObjectInputStream.readSerialData(ObjectInputStream.java:2169)\n\tat java.io.ObjectInputStream.readOrdinaryObject(ObjectInputStream.java:2027)\n\tat java.io.ObjectInputStream.readObject0(ObjectInputStream.java:1535)\n\tat java.io.ObjectInputStream.readObject(ObjectInputStream.java:422)\n\tat org.apache.spark.serializer.JavaDeserializationStream.readObject(JavaSerializer.scala:75)\n\tat org.apache.spark.serializer.JavaSerializerInstance.deserialize(JavaSerializer.scala:114)\n\tat org.apache.spark.scheduler.ResultTask.runTask(ResultTask.scala:80)\n\tat org.apache.spark.scheduler.Task.run(Task.scala:99)\n\tat org.apache.spark.executor.Executor$TaskRunner.run(Executor.scala:322)\n\tat java.util.concurrent.ThreadPoolExecutor.runWorker(ThreadPoolExecutor.java:1142)\n\tat java.util.concurrent.ThreadPoolExecutor$Worker.run(ThreadPoolExecutor.java:617)\n\tat java.lang.Thread.run(Thread.java:748)\n\nDriver stacktrace:\n\tat org.apache.spark.scheduler.DAGScheduler.org$apache$spark$scheduler$DAGScheduler$$failJobAndIndependentStages(DAGScheduler.scala:1435)\n\tat org.apache.spark.scheduler.DAGScheduler$$anonfun$abortStage$1.apply(DAGScheduler.scala:1423)\n\tat org.apache.spark.scheduler.DAGScheduler$$anonfun$abortStage$1.apply(DAGScheduler.scala:1422)\n\tat scala.collection.mutable.ResizableArray$class.foreach(ResizableArray.scala:59)\n\tat scala.collection.mutable.ArrayBuffer.foreach(ArrayBuffer.scala:48)\n\tat org.apache.spark.scheduler.DAGScheduler.abortStage(DAGScheduler.scala:1422)\n\tat org.apache.spark.scheduler.DAGScheduler$$anonfun$handleTaskSetFailed$1.apply(DAGScheduler.scala:802)\n\tat org.apache.spark.scheduler.DAGScheduler$$anonfun$handleTaskSetFailed$1.apply(DAGScheduler.scala:802)\n\tat scala.Option.foreach(Option.scala:257)\n\tat org.apache.spark.scheduler.DAGScheduler.handleTaskSetFailed(DAGScheduler.scala:802)\n\tat org.apache.spark.scheduler.DAGSchedulerEventProcessLoop.doOnReceive(DAGScheduler.scala:1650)\n\tat org.apache.spark.scheduler.DAGSchedulerEventProcessLoop.onReceive(DAGScheduler.scala:1605)\n\tat org.apache.spark.scheduler.DAGSchedulerEventProcessLoop.onReceive(DAGScheduler.scala:1594)\n\tat org.apache.spark.util.EventLoop$$anon$1.run(EventLoop.scala:48)\n\tat org.apache.spark.scheduler.DAGScheduler.runJob(DAGScheduler.scala:628)\n\tat org.apache.spark.SparkContext.runJob(SparkContext.scala:1925)\n\tat org.apache.spark.SparkContext.runJob(SparkContext.scala:1938)\n\tat org.apache.spark.SparkContext.runJob(SparkContext.scala:1951)\n\tat org.apache.spark.SparkContext.runJob(SparkContext.scala:1965)\n\tat org.apache.spark.rdd.RDD$$anonfun$collect$1.apply(RDD.scala:936)\n\tat org.apache.spark.rdd.RDDOperationScope$.withScope(RDDOperationScope.scala:151)\n\tat org.apache.spark.rdd.RDDOperationScope$.withScope(RDDOperationScope.scala:112)\n\tat org.apache.spark.rdd.RDD.withScope(RDD.scala:362)\n\tat org.apache.spark.rdd.RDD.collect(RDD.scala:935)\n\tat com.ibm.pixiedust.PixiedustScalaRun$.runCell(pixiedustRunner.scala:50)\n\tat sun.reflect.NativeMethodAccessorImpl.invoke0(Native Method)\n\tat sun.reflect.NativeMethodAccessorImpl.invoke(NativeMethodAccessorImpl.java:62)\n\tat sun.reflect.DelegatingMethodAccessorImpl.invoke(DelegatingMethodAccessorImpl.java:43)\n\tat java.lang.reflect.Method.invoke(Method.java:498)\n\tat sun.reflect.GeneratedMethodAccessor18.invoke(Unknown Source)\n\tat sun.reflect.DelegatingMethodAccessorImpl.invoke(DelegatingMethodAccessorImpl.java:43)\n\tat java.lang.reflect.Method.invoke(Method.java:498)\n\tat py4j.reflection.MethodInvoker.invoke(MethodInvoker.java:244)\n\tat py4j.reflection.ReflectionEngine.invoke(ReflectionEngine.java:357)\n\tat py4j.Gateway.invoke(Gateway.java:280)\n\tat py4j.commands.AbstractCommand.invokeMethod(AbstractCommand.java:132)\n\tat py4j.commands.CallCommand.execute(CallCommand.java:79)\n\tat py4j.GatewayConnection.run(GatewayConnection.java:214)\n\tat java.lang.Thread.run(Thread.java:748)\nCaused by: java.lang.ClassCastException: cannot assign instance of scala.collection.immutable.List$SerializationProxy to field org.apache.spark.rdd.RDD.org$apache$spark$rdd$RDD$$dependencies_ of type scala.collection.Seq in instance of org.apache.spark.rdd.MapPartitionsRDD\n\tat java.io.ObjectStreamClass$FieldReflector.setObjFieldValues(ObjectStreamClass.java:2133)\n\tat java.io.ObjectStreamClass.setObjFieldValues(ObjectStreamClass.java:1305)\n\tat java.io.ObjectInputStream.defaultReadFields(ObjectInputStream.java:2251)\n\tat java.io.ObjectInputStream.readSerialData(ObjectInputStream.java:2169)\n\tat java.io.ObjectInputStream.readOrdinaryObject(ObjectInputStream.java:2027)\n\tat java.io.ObjectInputStream.readObject0(ObjectInputStream.java:1535)\n\tat java.io.ObjectInputStream.defaultReadFields(ObjectInputStream.java:2245)\n\tat java.io.ObjectInputStream.readSerialData(ObjectInputStream.java:2169)\n\tat java.io.ObjectInputStream.readOrdinaryObject(ObjectInputStream.java:2027)\n\tat java.io.ObjectInputStream.readObject0(ObjectInputStream.java:1535)\n\tat java.io.ObjectInputStream.readObject(ObjectInputStream.java:422)\n\tat scala.collection.immutable.List$SerializationProxy.readObject(List.scala:479)\n\tat sun.reflect.GeneratedMethodAccessor14.invoke(Unknown Source)\n\tat sun.reflect.DelegatingMethodAccessorImpl.invoke(DelegatingMethodAccessorImpl.java:43)\n\tat java.lang.reflect.Method.invoke(Method.java:498)\n\tat java.io.ObjectStreamClass.invokeReadObject(ObjectStreamClass.java:1058)\n\tat java.io.ObjectInputStream.readSerialData(ObjectInputStream.java:2136)\n\tat java.io.ObjectInputStream.readOrdinaryObject(ObjectInputStream.java:2027)\n\tat java.io.ObjectInputStream.readObject0(ObjectInputStream.java:1535)\n\tat java.io.ObjectInputStream.defaultReadFields(ObjectInputStream.java:2245)\n\tat java.io.ObjectInputStream.readSerialData(ObjectInputStream.java:2169)\n\tat java.io.ObjectInputStream.readOrdinaryObject(ObjectInputStream.java:2027)\n\tat java.io.ObjectInputStream.readObject0(ObjectInputStream.java:1535)\n\tat java.io.ObjectInputStream.defaultReadFields(ObjectInputStream.java:2245)\n\tat java.io.ObjectInputStream.readSerialData(ObjectInputStream.java:2169)\n\tat java.io.ObjectInputStream.readOrdinaryObject(ObjectInputStream.java:2027)\n\tat java.io.ObjectInputStream.readObject0(ObjectInputStream.java:1535)\n\tat java.io.ObjectInputStream.readObject(ObjectInputStream.java:422)\n\tat org.apache.spark.serializer.JavaDeserializationStream.readObject(JavaSerializer.scala:75)\n\tat org.apache.spark.serializer.JavaSerializerInstance.deserialize(JavaSerializer.scala:114)\n\tat org.apache.spark.scheduler.ResultTask.runTask(ResultTask.scala:80)\n\tat org.apache.spark.scheduler.Task.run(Task.scala:99)\n\tat org.apache.spark.executor.Executor$TaskRunner.run(Executor.scala:322)\n\tat java.util.concurrent.ThreadPoolExecutor.runWorker(ThreadPoolExecutor.java:1142)\n\tat java.util.concurrent.ThreadPoolExecutor$Worker.run(ThreadPoolExecutor.java:617)\n\t... 1 more\n",
     "output_type": "error",
     "traceback": [
      "\u001b[0;31m---------------------------------------------------------------------------\u001b[0m",
      "\u001b[0;31mPy4JJavaError\u001b[0m                             Traceback (most recent call last)",
      "\u001b[0;32m<ipython-input-35-960cfcc4db38>\u001b[0m in \u001b[0;36m<module>\u001b[0;34m()\u001b[0m\n\u001b[0;32m----> 1\u001b[0;31m \u001b[0mget_ipython\u001b[0m\u001b[0;34m(\u001b[0m\u001b[0;34m)\u001b[0m\u001b[0;34m.\u001b[0m\u001b[0mrun_cell_magic\u001b[0m\u001b[0;34m(\u001b[0m\u001b[0;34m'scala'\u001b[0m\u001b[0;34m,\u001b[0m \u001b[0;34m''\u001b[0m\u001b[0;34m,\u001b[0m \u001b[0;34m'import sys.process._\\nimport geotrellis.proj4.CRS\\nimport geotrellis.raster.io.geotiff.writer.GeoTiffWriter\\nimport geotrellis.raster.io.geotiff.{SinglebandGeoTiff, _}\\nimport geotrellis.raster.{CellType, DoubleArrayTile}\\nimport geotrellis.spark.io.hadoop._\\nimport geotrellis.vector.{Extent, ProjectedExtent}\\nimport org.apache.spark.mllib.linalg.Vector\\nimport org.apache.spark.rdd.RDD\\nimport org.apache.spark.{SparkConf, SparkContext}\\n\\nimport spire.syntax.cfor._\\n\\n\\nvar geo_num_cols_rows :(Int, Int) = (0, 0)\\nval geo_tiles_RDD = sc.hadoopGeoTiffRDD(geo_path).values\\n\\nval geo_extents_withIndex = sc.hadoopMultibandGeoTiffRDD(geo_path).keys.zipWithIndex().map{case (e,v) => (v,e)}\\nvar geo_projected_extent = (geo_extents_withIndex.filter(m => m._1 == 0).values.collect())//(0)\\nvar geo_projected = geo_projected_extent.take(10)'\u001b[0m\u001b[0;34m)\u001b[0m\u001b[0;34m\u001b[0m\u001b[0m\n\u001b[0m",
      "\u001b[0;32m/usr/local/lib/python3.5/dist-packages/IPython/core/interactiveshell.py\u001b[0m in \u001b[0;36mrun_cell_magic\u001b[0;34m(self, magic_name, line, cell)\u001b[0m\n\u001b[1;32m   2101\u001b[0m             \u001b[0mmagic_arg_s\u001b[0m \u001b[0;34m=\u001b[0m \u001b[0mself\u001b[0m\u001b[0;34m.\u001b[0m\u001b[0mvar_expand\u001b[0m\u001b[0;34m(\u001b[0m\u001b[0mline\u001b[0m\u001b[0;34m,\u001b[0m \u001b[0mstack_depth\u001b[0m\u001b[0;34m)\u001b[0m\u001b[0;34m\u001b[0m\u001b[0m\n\u001b[1;32m   2102\u001b[0m             \u001b[0;32mwith\u001b[0m \u001b[0mself\u001b[0m\u001b[0;34m.\u001b[0m\u001b[0mbuiltin_trap\u001b[0m\u001b[0;34m:\u001b[0m\u001b[0;34m\u001b[0m\u001b[0m\n\u001b[0;32m-> 2103\u001b[0;31m                 \u001b[0mresult\u001b[0m \u001b[0;34m=\u001b[0m \u001b[0mfn\u001b[0m\u001b[0;34m(\u001b[0m\u001b[0mmagic_arg_s\u001b[0m\u001b[0;34m,\u001b[0m \u001b[0mcell\u001b[0m\u001b[0;34m)\u001b[0m\u001b[0;34m\u001b[0m\u001b[0m\n\u001b[0m\u001b[1;32m   2104\u001b[0m             \u001b[0;32mreturn\u001b[0m \u001b[0mresult\u001b[0m\u001b[0;34m\u001b[0m\u001b[0m\n\u001b[1;32m   2105\u001b[0m \u001b[0;34m\u001b[0m\u001b[0m\n",
      "\u001b[0;32m<decorator-gen-126>\u001b[0m in \u001b[0;36mscala\u001b[0;34m(self, line, cell)\u001b[0m\n",
      "\u001b[0;32m/usr/local/lib/python3.5/dist-packages/IPython/core/magic.py\u001b[0m in \u001b[0;36m<lambda>\u001b[0;34m(f, *a, **k)\u001b[0m\n\u001b[1;32m    185\u001b[0m     \u001b[0;31m# but it's overkill for just that one bit of state.\u001b[0m\u001b[0;34m\u001b[0m\u001b[0;34m\u001b[0m\u001b[0m\n\u001b[1;32m    186\u001b[0m     \u001b[0;32mdef\u001b[0m \u001b[0mmagic_deco\u001b[0m\u001b[0;34m(\u001b[0m\u001b[0marg\u001b[0m\u001b[0;34m)\u001b[0m\u001b[0;34m:\u001b[0m\u001b[0;34m\u001b[0m\u001b[0m\n\u001b[0;32m--> 187\u001b[0;31m         \u001b[0mcall\u001b[0m \u001b[0;34m=\u001b[0m \u001b[0;32mlambda\u001b[0m \u001b[0mf\u001b[0m\u001b[0;34m,\u001b[0m \u001b[0;34m*\u001b[0m\u001b[0ma\u001b[0m\u001b[0;34m,\u001b[0m \u001b[0;34m**\u001b[0m\u001b[0mk\u001b[0m\u001b[0;34m:\u001b[0m \u001b[0mf\u001b[0m\u001b[0;34m(\u001b[0m\u001b[0;34m*\u001b[0m\u001b[0ma\u001b[0m\u001b[0;34m,\u001b[0m \u001b[0;34m**\u001b[0m\u001b[0mk\u001b[0m\u001b[0;34m)\u001b[0m\u001b[0;34m\u001b[0m\u001b[0m\n\u001b[0m\u001b[1;32m    188\u001b[0m \u001b[0;34m\u001b[0m\u001b[0m\n\u001b[1;32m    189\u001b[0m         \u001b[0;32mif\u001b[0m \u001b[0mcallable\u001b[0m\u001b[0;34m(\u001b[0m\u001b[0marg\u001b[0m\u001b[0;34m)\u001b[0m\u001b[0;34m:\u001b[0m\u001b[0;34m\u001b[0m\u001b[0m\n",
      "\u001b[0;32m/usr/local/lib/python3.5/dist-packages/pixiedust/utils/scalaBridge.py\u001b[0m in \u001b[0;36mscala\u001b[0;34m(self, line, cell)\u001b[0m\n\u001b[1;32m    184\u001b[0m                 \u001b[0mrunnerObject\u001b[0m\u001b[0;34m.\u001b[0m\u001b[0mcallMethod\u001b[0m\u001b[0;34m(\u001b[0m\u001b[0;34m\"set\"\u001b[0m \u001b[0;34m+\u001b[0m \u001b[0mkey\u001b[0m\u001b[0;34m[\u001b[0m\u001b[0;36m0\u001b[0m\u001b[0;34m]\u001b[0m\u001b[0;34m.\u001b[0m\u001b[0mupper\u001b[0m\u001b[0;34m(\u001b[0m\u001b[0;34m)\u001b[0m \u001b[0;34m+\u001b[0m \u001b[0mkey\u001b[0m\u001b[0;34m[\u001b[0m\u001b[0;36m1\u001b[0m\u001b[0;34m:\u001b[0m\u001b[0;34m]\u001b[0m\u001b[0;34m,\u001b[0m \u001b[0mval\u001b[0m\u001b[0;34m[\u001b[0m\u001b[0;34m\"initValue\"\u001b[0m\u001b[0;34m]\u001b[0m\u001b[0;34m)\u001b[0m\u001b[0;34m\u001b[0m\u001b[0m\n\u001b[1;32m    185\u001b[0m \u001b[0;34m\u001b[0m\u001b[0m\n\u001b[0;32m--> 186\u001b[0;31m         \u001b[0mvarMap\u001b[0m \u001b[0;34m=\u001b[0m \u001b[0mrunnerObject\u001b[0m\u001b[0;34m.\u001b[0m\u001b[0mcallMethod\u001b[0m\u001b[0;34m(\u001b[0m\u001b[0;34m\"runCell\"\u001b[0m\u001b[0;34m)\u001b[0m\u001b[0;34m\u001b[0m\u001b[0m\n\u001b[0m\u001b[1;32m    187\u001b[0m \u001b[0;34m\u001b[0m\u001b[0m\n\u001b[1;32m    188\u001b[0m         \u001b[0;31m#capture the return vars and update the interactive shell\u001b[0m\u001b[0;34m\u001b[0m\u001b[0;34m\u001b[0m\u001b[0m\n",
      "\u001b[0;32m/usr/local/lib/python3.5/dist-packages/pixiedust/utils/javaBridge.py\u001b[0m in \u001b[0;36mcallMethod\u001b[0;34m(self, methodName, *args)\u001b[0m\n\u001b[1;32m    148\u001b[0m                             \u001b[0;32mbreak\u001b[0m\u001b[0;34m;\u001b[0m\u001b[0;34m\u001b[0m\u001b[0m\n\u001b[1;32m    149\u001b[0m                 \u001b[0;32mif\u001b[0m \u001b[0mmatch\u001b[0m\u001b[0;34m:\u001b[0m\u001b[0;34m\u001b[0m\u001b[0m\n\u001b[0;32m--> 150\u001b[0;31m                     \u001b[0;32mreturn\u001b[0m \u001b[0mm\u001b[0m\u001b[0;34m.\u001b[0m\u001b[0minvoke\u001b[0m\u001b[0;34m(\u001b[0m\u001b[0mself\u001b[0m\u001b[0;34m.\u001b[0m\u001b[0mjHandle\u001b[0m\u001b[0;34m,\u001b[0m \u001b[0mjMethodArgs\u001b[0m\u001b[0;34m)\u001b[0m\u001b[0;34m\u001b[0m\u001b[0m\n\u001b[0m\u001b[1;32m    151\u001b[0m \u001b[0;34m\u001b[0m\u001b[0m\n\u001b[1;32m    152\u001b[0m         \u001b[0;32mraise\u001b[0m \u001b[0mValueError\u001b[0m\u001b[0;34m(\u001b[0m\u001b[0;34m\"Method {0} that matches the given arguments not found\"\u001b[0m\u001b[0;34m.\u001b[0m\u001b[0mformat\u001b[0m\u001b[0;34m(\u001b[0m\u001b[0mmethodName\u001b[0m\u001b[0;34m)\u001b[0m \u001b[0;34m)\u001b[0m\u001b[0;34m\u001b[0m\u001b[0m\n",
      "\u001b[0;32m/usr/lib/spark/python/lib/py4j-0.10.4-src.zip/py4j/java_gateway.py\u001b[0m in \u001b[0;36m__call__\u001b[0;34m(self, *args)\u001b[0m\n\u001b[1;32m   1131\u001b[0m         \u001b[0manswer\u001b[0m \u001b[0;34m=\u001b[0m \u001b[0mself\u001b[0m\u001b[0;34m.\u001b[0m\u001b[0mgateway_client\u001b[0m\u001b[0;34m.\u001b[0m\u001b[0msend_command\u001b[0m\u001b[0;34m(\u001b[0m\u001b[0mcommand\u001b[0m\u001b[0;34m)\u001b[0m\u001b[0;34m\u001b[0m\u001b[0m\n\u001b[1;32m   1132\u001b[0m         return_value = get_return_value(\n\u001b[0;32m-> 1133\u001b[0;31m             answer, self.gateway_client, self.target_id, self.name)\n\u001b[0m\u001b[1;32m   1134\u001b[0m \u001b[0;34m\u001b[0m\u001b[0m\n\u001b[1;32m   1135\u001b[0m         \u001b[0;32mfor\u001b[0m \u001b[0mtemp_arg\u001b[0m \u001b[0;32min\u001b[0m \u001b[0mtemp_args\u001b[0m\u001b[0;34m:\u001b[0m\u001b[0;34m\u001b[0m\u001b[0m\n",
      "\u001b[0;32m/usr/lib/spark/python/pyspark/sql/utils.py\u001b[0m in \u001b[0;36mdeco\u001b[0;34m(*a, **kw)\u001b[0m\n\u001b[1;32m     61\u001b[0m     \u001b[0;32mdef\u001b[0m \u001b[0mdeco\u001b[0m\u001b[0;34m(\u001b[0m\u001b[0;34m*\u001b[0m\u001b[0ma\u001b[0m\u001b[0;34m,\u001b[0m \u001b[0;34m**\u001b[0m\u001b[0mkw\u001b[0m\u001b[0;34m)\u001b[0m\u001b[0;34m:\u001b[0m\u001b[0;34m\u001b[0m\u001b[0m\n\u001b[1;32m     62\u001b[0m         \u001b[0;32mtry\u001b[0m\u001b[0;34m:\u001b[0m\u001b[0;34m\u001b[0m\u001b[0m\n\u001b[0;32m---> 63\u001b[0;31m             \u001b[0;32mreturn\u001b[0m \u001b[0mf\u001b[0m\u001b[0;34m(\u001b[0m\u001b[0;34m*\u001b[0m\u001b[0ma\u001b[0m\u001b[0;34m,\u001b[0m \u001b[0;34m**\u001b[0m\u001b[0mkw\u001b[0m\u001b[0;34m)\u001b[0m\u001b[0;34m\u001b[0m\u001b[0m\n\u001b[0m\u001b[1;32m     64\u001b[0m         \u001b[0;32mexcept\u001b[0m \u001b[0mpy4j\u001b[0m\u001b[0;34m.\u001b[0m\u001b[0mprotocol\u001b[0m\u001b[0;34m.\u001b[0m\u001b[0mPy4JJavaError\u001b[0m \u001b[0;32mas\u001b[0m \u001b[0me\u001b[0m\u001b[0;34m:\u001b[0m\u001b[0;34m\u001b[0m\u001b[0m\n\u001b[1;32m     65\u001b[0m             \u001b[0ms\u001b[0m \u001b[0;34m=\u001b[0m \u001b[0me\u001b[0m\u001b[0;34m.\u001b[0m\u001b[0mjava_exception\u001b[0m\u001b[0;34m.\u001b[0m\u001b[0mtoString\u001b[0m\u001b[0;34m(\u001b[0m\u001b[0;34m)\u001b[0m\u001b[0;34m\u001b[0m\u001b[0m\n",
      "\u001b[0;32m/usr/lib/spark/python/lib/py4j-0.10.4-src.zip/py4j/protocol.py\u001b[0m in \u001b[0;36mget_return_value\u001b[0;34m(answer, gateway_client, target_id, name)\u001b[0m\n\u001b[1;32m    317\u001b[0m                 raise Py4JJavaError(\n\u001b[1;32m    318\u001b[0m                     \u001b[0;34m\"An error occurred while calling {0}{1}{2}.\\n\"\u001b[0m\u001b[0;34m.\u001b[0m\u001b[0;34m\u001b[0m\u001b[0m\n\u001b[0;32m--> 319\u001b[0;31m                     format(target_id, \".\", name), value)\n\u001b[0m\u001b[1;32m    320\u001b[0m             \u001b[0;32melse\u001b[0m\u001b[0;34m:\u001b[0m\u001b[0;34m\u001b[0m\u001b[0m\n\u001b[1;32m    321\u001b[0m                 raise Py4JError(\n",
      "\u001b[0;31mPy4JJavaError\u001b[0m: An error occurred while calling o1668.invoke.\n: org.apache.spark.SparkException: Job aborted due to stage failure: Task 0 in stage 8.0 failed 1 times, most recent failure: Lost task 0.0 in stage 8.0 (TID 8, localhost, executor driver): java.lang.ClassCastException: cannot assign instance of scala.collection.immutable.List$SerializationProxy to field org.apache.spark.rdd.RDD.org$apache$spark$rdd$RDD$$dependencies_ of type scala.collection.Seq in instance of org.apache.spark.rdd.MapPartitionsRDD\n\tat java.io.ObjectStreamClass$FieldReflector.setObjFieldValues(ObjectStreamClass.java:2133)\n\tat java.io.ObjectStreamClass.setObjFieldValues(ObjectStreamClass.java:1305)\n\tat java.io.ObjectInputStream.defaultReadFields(ObjectInputStream.java:2251)\n\tat java.io.ObjectInputStream.readSerialData(ObjectInputStream.java:2169)\n\tat java.io.ObjectInputStream.readOrdinaryObject(ObjectInputStream.java:2027)\n\tat java.io.ObjectInputStream.readObject0(ObjectInputStream.java:1535)\n\tat java.io.ObjectInputStream.defaultReadFields(ObjectInputStream.java:2245)\n\tat java.io.ObjectInputStream.readSerialData(ObjectInputStream.java:2169)\n\tat java.io.ObjectInputStream.readOrdinaryObject(ObjectInputStream.java:2027)\n\tat java.io.ObjectInputStream.readObject0(ObjectInputStream.java:1535)\n\tat java.io.ObjectInputStream.readObject(ObjectInputStream.java:422)\n\tat scala.collection.immutable.List$SerializationProxy.readObject(List.scala:479)\n\tat sun.reflect.GeneratedMethodAccessor14.invoke(Unknown Source)\n\tat sun.reflect.DelegatingMethodAccessorImpl.invoke(DelegatingMethodAccessorImpl.java:43)\n\tat java.lang.reflect.Method.invoke(Method.java:498)\n\tat java.io.ObjectStreamClass.invokeReadObject(ObjectStreamClass.java:1058)\n\tat java.io.ObjectInputStream.readSerialData(ObjectInputStream.java:2136)\n\tat java.io.ObjectInputStream.readOrdinaryObject(ObjectInputStream.java:2027)\n\tat java.io.ObjectInputStream.readObject0(ObjectInputStream.java:1535)\n\tat java.io.ObjectInputStream.defaultReadFields(ObjectInputStream.java:2245)\n\tat java.io.ObjectInputStream.readSerialData(ObjectInputStream.java:2169)\n\tat java.io.ObjectInputStream.readOrdinaryObject(ObjectInputStream.java:2027)\n\tat java.io.ObjectInputStream.readObject0(ObjectInputStream.java:1535)\n\tat java.io.ObjectInputStream.defaultReadFields(ObjectInputStream.java:2245)\n\tat java.io.ObjectInputStream.readSerialData(ObjectInputStream.java:2169)\n\tat java.io.ObjectInputStream.readOrdinaryObject(ObjectInputStream.java:2027)\n\tat java.io.ObjectInputStream.readObject0(ObjectInputStream.java:1535)\n\tat java.io.ObjectInputStream.readObject(ObjectInputStream.java:422)\n\tat org.apache.spark.serializer.JavaDeserializationStream.readObject(JavaSerializer.scala:75)\n\tat org.apache.spark.serializer.JavaSerializerInstance.deserialize(JavaSerializer.scala:114)\n\tat org.apache.spark.scheduler.ResultTask.runTask(ResultTask.scala:80)\n\tat org.apache.spark.scheduler.Task.run(Task.scala:99)\n\tat org.apache.spark.executor.Executor$TaskRunner.run(Executor.scala:322)\n\tat java.util.concurrent.ThreadPoolExecutor.runWorker(ThreadPoolExecutor.java:1142)\n\tat java.util.concurrent.ThreadPoolExecutor$Worker.run(ThreadPoolExecutor.java:617)\n\tat java.lang.Thread.run(Thread.java:748)\n\nDriver stacktrace:\n\tat org.apache.spark.scheduler.DAGScheduler.org$apache$spark$scheduler$DAGScheduler$$failJobAndIndependentStages(DAGScheduler.scala:1435)\n\tat org.apache.spark.scheduler.DAGScheduler$$anonfun$abortStage$1.apply(DAGScheduler.scala:1423)\n\tat org.apache.spark.scheduler.DAGScheduler$$anonfun$abortStage$1.apply(DAGScheduler.scala:1422)\n\tat scala.collection.mutable.ResizableArray$class.foreach(ResizableArray.scala:59)\n\tat scala.collection.mutable.ArrayBuffer.foreach(ArrayBuffer.scala:48)\n\tat org.apache.spark.scheduler.DAGScheduler.abortStage(DAGScheduler.scala:1422)\n\tat org.apache.spark.scheduler.DAGScheduler$$anonfun$handleTaskSetFailed$1.apply(DAGScheduler.scala:802)\n\tat org.apache.spark.scheduler.DAGScheduler$$anonfun$handleTaskSetFailed$1.apply(DAGScheduler.scala:802)\n\tat scala.Option.foreach(Option.scala:257)\n\tat org.apache.spark.scheduler.DAGScheduler.handleTaskSetFailed(DAGScheduler.scala:802)\n\tat org.apache.spark.scheduler.DAGSchedulerEventProcessLoop.doOnReceive(DAGScheduler.scala:1650)\n\tat org.apache.spark.scheduler.DAGSchedulerEventProcessLoop.onReceive(DAGScheduler.scala:1605)\n\tat org.apache.spark.scheduler.DAGSchedulerEventProcessLoop.onReceive(DAGScheduler.scala:1594)\n\tat org.apache.spark.util.EventLoop$$anon$1.run(EventLoop.scala:48)\n\tat org.apache.spark.scheduler.DAGScheduler.runJob(DAGScheduler.scala:628)\n\tat org.apache.spark.SparkContext.runJob(SparkContext.scala:1925)\n\tat org.apache.spark.SparkContext.runJob(SparkContext.scala:1938)\n\tat org.apache.spark.SparkContext.runJob(SparkContext.scala:1951)\n\tat org.apache.spark.SparkContext.runJob(SparkContext.scala:1965)\n\tat org.apache.spark.rdd.RDD$$anonfun$collect$1.apply(RDD.scala:936)\n\tat org.apache.spark.rdd.RDDOperationScope$.withScope(RDDOperationScope.scala:151)\n\tat org.apache.spark.rdd.RDDOperationScope$.withScope(RDDOperationScope.scala:112)\n\tat org.apache.spark.rdd.RDD.withScope(RDD.scala:362)\n\tat org.apache.spark.rdd.RDD.collect(RDD.scala:935)\n\tat com.ibm.pixiedust.PixiedustScalaRun$.runCell(pixiedustRunner.scala:50)\n\tat sun.reflect.NativeMethodAccessorImpl.invoke0(Native Method)\n\tat sun.reflect.NativeMethodAccessorImpl.invoke(NativeMethodAccessorImpl.java:62)\n\tat sun.reflect.DelegatingMethodAccessorImpl.invoke(DelegatingMethodAccessorImpl.java:43)\n\tat java.lang.reflect.Method.invoke(Method.java:498)\n\tat sun.reflect.GeneratedMethodAccessor18.invoke(Unknown Source)\n\tat sun.reflect.DelegatingMethodAccessorImpl.invoke(DelegatingMethodAccessorImpl.java:43)\n\tat java.lang.reflect.Method.invoke(Method.java:498)\n\tat py4j.reflection.MethodInvoker.invoke(MethodInvoker.java:244)\n\tat py4j.reflection.ReflectionEngine.invoke(ReflectionEngine.java:357)\n\tat py4j.Gateway.invoke(Gateway.java:280)\n\tat py4j.commands.AbstractCommand.invokeMethod(AbstractCommand.java:132)\n\tat py4j.commands.CallCommand.execute(CallCommand.java:79)\n\tat py4j.GatewayConnection.run(GatewayConnection.java:214)\n\tat java.lang.Thread.run(Thread.java:748)\nCaused by: java.lang.ClassCastException: cannot assign instance of scala.collection.immutable.List$SerializationProxy to field org.apache.spark.rdd.RDD.org$apache$spark$rdd$RDD$$dependencies_ of type scala.collection.Seq in instance of org.apache.spark.rdd.MapPartitionsRDD\n\tat java.io.ObjectStreamClass$FieldReflector.setObjFieldValues(ObjectStreamClass.java:2133)\n\tat java.io.ObjectStreamClass.setObjFieldValues(ObjectStreamClass.java:1305)\n\tat java.io.ObjectInputStream.defaultReadFields(ObjectInputStream.java:2251)\n\tat java.io.ObjectInputStream.readSerialData(ObjectInputStream.java:2169)\n\tat java.io.ObjectInputStream.readOrdinaryObject(ObjectInputStream.java:2027)\n\tat java.io.ObjectInputStream.readObject0(ObjectInputStream.java:1535)\n\tat java.io.ObjectInputStream.defaultReadFields(ObjectInputStream.java:2245)\n\tat java.io.ObjectInputStream.readSerialData(ObjectInputStream.java:2169)\n\tat java.io.ObjectInputStream.readOrdinaryObject(ObjectInputStream.java:2027)\n\tat java.io.ObjectInputStream.readObject0(ObjectInputStream.java:1535)\n\tat java.io.ObjectInputStream.readObject(ObjectInputStream.java:422)\n\tat scala.collection.immutable.List$SerializationProxy.readObject(List.scala:479)\n\tat sun.reflect.GeneratedMethodAccessor14.invoke(Unknown Source)\n\tat sun.reflect.DelegatingMethodAccessorImpl.invoke(DelegatingMethodAccessorImpl.java:43)\n\tat java.lang.reflect.Method.invoke(Method.java:498)\n\tat java.io.ObjectStreamClass.invokeReadObject(ObjectStreamClass.java:1058)\n\tat java.io.ObjectInputStream.readSerialData(ObjectInputStream.java:2136)\n\tat java.io.ObjectInputStream.readOrdinaryObject(ObjectInputStream.java:2027)\n\tat java.io.ObjectInputStream.readObject0(ObjectInputStream.java:1535)\n\tat java.io.ObjectInputStream.defaultReadFields(ObjectInputStream.java:2245)\n\tat java.io.ObjectInputStream.readSerialData(ObjectInputStream.java:2169)\n\tat java.io.ObjectInputStream.readOrdinaryObject(ObjectInputStream.java:2027)\n\tat java.io.ObjectInputStream.readObject0(ObjectInputStream.java:1535)\n\tat java.io.ObjectInputStream.defaultReadFields(ObjectInputStream.java:2245)\n\tat java.io.ObjectInputStream.readSerialData(ObjectInputStream.java:2169)\n\tat java.io.ObjectInputStream.readOrdinaryObject(ObjectInputStream.java:2027)\n\tat java.io.ObjectInputStream.readObject0(ObjectInputStream.java:1535)\n\tat java.io.ObjectInputStream.readObject(ObjectInputStream.java:422)\n\tat org.apache.spark.serializer.JavaDeserializationStream.readObject(JavaSerializer.scala:75)\n\tat org.apache.spark.serializer.JavaSerializerInstance.deserialize(JavaSerializer.scala:114)\n\tat org.apache.spark.scheduler.ResultTask.runTask(ResultTask.scala:80)\n\tat org.apache.spark.scheduler.Task.run(Task.scala:99)\n\tat org.apache.spark.executor.Executor$TaskRunner.run(Executor.scala:322)\n\tat java.util.concurrent.ThreadPoolExecutor.runWorker(ThreadPoolExecutor.java:1142)\n\tat java.util.concurrent.ThreadPoolExecutor$Worker.run(ThreadPoolExecutor.java:617)\n\t... 1 more\n"
     ]
    }
   ],
   "source": [
    "%%scala\n",
    "import sys.process._\n",
    "import geotrellis.proj4.CRS\n",
    "import geotrellis.raster.io.geotiff.writer.GeoTiffWriter\n",
    "import geotrellis.raster.io.geotiff.{SinglebandGeoTiff, _}\n",
    "import geotrellis.raster.{CellType, DoubleArrayTile}\n",
    "import geotrellis.spark.io.hadoop._\n",
    "import geotrellis.vector.{Extent, ProjectedExtent}\n",
    "import org.apache.spark.mllib.linalg.Vector\n",
    "import org.apache.spark.rdd.RDD\n",
    "import org.apache.spark.{SparkConf, SparkContext}\n",
    "\n",
    "import spire.syntax.cfor._\n",
    "\n",
    "\n",
    "var geo_num_cols_rows :(Int, Int) = (0, 0)\n",
    "val geo_tiles_RDD = sc.hadoopGeoTiffRDD(geo_path).values\n",
    "\n",
    "val geo_extents_withIndex = sc.hadoopMultibandGeoTiffRDD(geo_path).keys.zipWithIndex().map{case (e,v) => (v,e)}\n",
    "var geo_projected_extent = (geo_extents_withIndex.filter(m => m._1 == 0).values.collect())//(0)\n",
    "var geo_projected = geo_projected_extent.take(10)"
   ]
  },
  {
   "cell_type": "code",
   "execution_count": null,
   "metadata": {
    "collapsed": true
   },
   "outputs": [],
   "source": [
    "\n",
    "\n",
    "val geo_tiles_withIndex = geo_tiles_RDD.zipWithIndex().map{case (e,v) => (v,e)}\n",
    "val geo_tile0 = (geo_tiles_withIndex.filter(m => m._1==0).values.collect())(0)\n",
    "geo_num_cols_rows = (geo_tile0.cols, geo_tile0.rows)\n",
    "val geo_cellT = geo_tile0.cellType"
   ]
  },
  {
   "cell_type": "markdown",
   "metadata": {},
   "source": [
    "### Read a GeoTiff file"
   ]
  },
  {
   "cell_type": "code",
   "execution_count": 8,
   "metadata": {},
   "outputs": [
    {
     "name": "stdout",
     "output_type": "stream",
     "text": [
      "b'pixiedustRunner.scala:32: error: not found: type ProjectedExtent'\n",
      "b'        var geo_projected_extent = new ProjectedExtent(new Extent(0,0,0,0), CRS.fromName(\"EPSG:3857\"))'\n",
      "b'                                       ^'\n",
      "b'pixiedustRunner.scala:32: error: not found: type Extent'\n",
      "b'        var geo_projected_extent = new ProjectedExtent(new Extent(0,0,0,0), CRS.fromName(\"EPSG:3857\"))'\n",
      "b'                                                           ^'\n",
      "b'pixiedustRunner.scala:32: error: not found: value CRS'\n",
      "b'        var geo_projected_extent = new ProjectedExtent(new Extent(0,0,0,0), CRS.fromName(\"EPSG:3857\"))'\n",
      "b'                                                                            ^'\n",
      "b'pixiedustRunner.scala:34: error: value hadoopGeoTiffRDD is not a member of org.apache.spark.SparkContext'\n",
      "b'val geo_tiles_RDD = sc.hadoopGeoTiffRDD(geo_path).values'\n",
      "b'                       ^'\n",
      "b'pixiedustRunner.scala:36: error: value hadoopMultibandGeoTiffRDD is not a member of org.apache.spark.SparkContext'\n",
      "b'val geo_extents_withIndex = sc.hadoopMultibandGeoTiffRDD(geo_path).keys.zipWithIndex().map{case (e,v) => (v,e)}'\n",
      "b'                               ^'\n",
      "b'5 errors found'\n"
     ]
    }
   ],
   "source": [
    "%%scala\n",
    "var geo_projected_extent = new ProjectedExtent(new Extent(0,0,0,0), CRS.fromName(\"EPSG:3857\"))\n",
    "var geo_num_cols_rows :(Int, Int) = (0, 0)\n",
    "val geo_tiles_RDD = sc.hadoopGeoTiffRDD(geo_path).values\n",
    "\n",
    "val geo_extents_withIndex = sc.hadoopMultibandGeoTiffRDD(geo_path).keys.zipWithIndex().map{case (e,v) => (v,e)}\n",
    "geo_projected_extent = (geo_extents_withIndex.filter(m => m._1 == 0).values.collect())(0)\n",
    "\n",
    "val geo_tiles_withIndex = geo_tiles_RDD.zipWithIndex().map{case (e,v) => (v,e)}\n",
    "val geo_tile0 = (geo_tiles_withIndex.filter(m => m._1==0).values.collect())(0)\n",
    "geo_num_cols_rows = (geo_tile0.cols, geo_tile0.rows)\n",
    "val geo_cellT = geo_tile0.cellType"
   ]
  },
  {
   "cell_type": "markdown",
   "metadata": {},
   "source": [
    "### Read Mask"
   ]
  },
  {
   "cell_type": "code",
   "execution_count": 10,
   "metadata": {},
   "outputs": [
    {
     "name": "stdout",
     "output_type": "stream",
     "text": [
      "b'pixiedustRunner.scala:32: error: value hadoopGeoTiffRDD is not a member of org.apache.spark.SparkContext'\n",
      "b'        val mask_tiles_RDD = sc.hadoopGeoTiffRDD(mask_path).values'\n",
      "b'                                ^'\n",
      "b'one error found'\n"
     ]
    }
   ],
   "source": [
    "%%scala\n",
    "val mask_tiles_RDD = sc.hadoopGeoTiffRDD(mask_path).values\n",
    "val mask_tiles_withIndex = mask_tiles_RDD.zipWithIndex().map{case (e,v) => (v,e)}\n",
    "val mask_tile0 = (mask_tiles_withIndex.filter(m => m._1==0).values.collect())(0)"
   ]
  },
  {
   "cell_type": "markdown",
   "metadata": {},
   "source": [
    "### Mask GeoTiff"
   ]
  },
  {
   "cell_type": "code",
   "execution_count": null,
   "metadata": {
    "collapsed": true
   },
   "outputs": [],
   "source": [
    "%%scala\n",
    "val res_tile = geo_tile0.localInverseMask(mask_tile0, 1, 0).toArrayDouble()"
   ]
  },
  {
   "cell_type": "markdown",
   "metadata": {},
   "source": [
    "### Save the new GeoTiff file"
   ]
  },
  {
   "cell_type": "code",
   "execution_count": null,
   "metadata": {
    "collapsed": true
   },
   "outputs": [],
   "source": [
    "%%scala\n",
    "val clone_tile = DoubleArrayTile(res_tile, geo_num_cols_rows._1, geo_num_cols_rows._2)\n",
    "\n",
    "val cloned = geotrellis.raster.DoubleArrayTile.empty(geo_num_cols_rows._1, geo_num_cols_rows._2)\n",
    "cfor(0)(_ < geo_num_cols_rows._1, _ + 1) { col =>\n",
    "    cfor(0)(_ < geo_num_cols_rows._2, _ + 1) { row =>\n",
    "        val v = clone_tile.getDouble(col, row)\n",
    "        cloned.setDouble(col, row, v)\n",
    "    }\n",
    "}\n",
    "\n",
    "val geoTif = new SinglebandGeoTiff(cloned, geo_projected_extent.extent, geo_projected_extent.crs, Tags.empty, GeoTiffOptions.DEFAULT)\n",
    "\n",
    "//Save GeoTiff to /tmp\n",
    "GeoTiffWriter.write(geoTif, tmp_geo)\n",
    "\n",
    "//Upload to HDFS\n",
    "var cmd = \"hadoop dfs -copyFromLocal -f \" + tmp_geo + \" \" + masked_geo\n",
    "Process(cmd)!\n",
    "\n",
    "cmd = \"rm -fr \" + tmp_geo\n",
    "Process(cmd)!"
   ]
  },
  {
   "cell_type": "markdown",
   "metadata": {},
   "source": [
    "## Python\n",
    "\n",
    "It will read the masked GeoTiff created using Scala and plot it using **matplotlib**"
   ]
  },
  {
   "cell_type": "markdown",
   "metadata": {},
   "source": [
    "### Plot masked GeoTiff"
   ]
  },
  {
   "cell_type": "code",
   "execution_count": null,
   "metadata": {
    "collapsed": true
   },
   "outputs": [],
   "source": [
    "#Read it\n",
    "data = sc.binaryFiles(masked_geo).take(1)\n",
    "dataByteArray = bytearray(data[0][1])\n",
    "\n",
    "#Lets check if the files was read correctly by printing its metadata\n",
    "with MemoryFile(dataByteArray) as memfile:\n",
    "    with memfile.open() as dataset:\n",
    "        print(dataset.profile)\n",
    "\n",
    "%matplotlib notebook\n",
    "with MemoryFile(dataByteArray) as memfile:\n",
    "    with memfile.open() as dataset:\n",
    "        plot.show((dataset,1))"
   ]
  }
 ],
 "metadata": {
  "kernelspec": {
   "display_name": "Python with Pixiedust (Spark 2.1)",
   "language": "python",
   "name": "pythonwithpixiedustspark21"
  },
  "language_info": {
   "codemirror_mode": {
    "name": "ipython",
    "version": 3
   },
   "file_extension": ".py",
   "mimetype": "text/x-python",
   "name": "python",
   "nbconvert_exporter": "python",
   "pygments_lexer": "ipython3",
   "version": "3.5.2"
  }
 },
 "nbformat": 4,
 "nbformat_minor": 2
}
