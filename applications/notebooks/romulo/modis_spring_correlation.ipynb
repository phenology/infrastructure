{
 "cells": [
  {
   "cell_type": "markdown",
   "metadata": {},
   "source": [
    "# Correlation between a Model and Satellite data\n",
    "\n",
    "This notebook shows how to calculate correlation between two matrices. Each matrix is created out a set of GeoTiffs for a series of years. Both matrices should have the same dimension.\n",
    "\n",
    "For demonstration we will use from a model (spring-index) and from a satellite (AVHRR)."
   ]
  },
  {
   "cell_type": "markdown",
   "metadata": {},
   "source": [
    "## Dependencies"
   ]
  },
  {
   "cell_type": "code",
   "execution_count": 1,
   "metadata": {
    "collapsed": true
   },
   "outputs": [],
   "source": [
    "import java.io.{ByteArrayInputStream, ByteArrayOutputStream, ObjectInputStream, ObjectOutputStream}\n",
    "\n",
    "import geotrellis.proj4.CRS\n",
    "import geotrellis.raster.io.geotiff.writer.GeoTiffWriter\n",
    "import geotrellis.raster.io.geotiff.{SinglebandGeoTiff, _}\n",
    "import geotrellis.raster.{CellType, DoubleArrayTile, Tile, UByteCellType}\n",
    "import geotrellis.spark.io.hadoop._\n",
    "import geotrellis.vector.{Extent, ProjectedExtent}\n",
    "import org.apache.hadoop.io.SequenceFile.Writer\n",
    "import org.apache.hadoop.io.{SequenceFile, _}\n",
    "import org.apache.spark.broadcast.Broadcast\n",
    "import org.apache.spark.mllib.linalg._\n",
    "import org.apache.spark.mllib.linalg.distributed.{CoordinateMatrix, MatrixEntry, RowMatrix}\n",
    "import org.apache.spark.mllib.stat.Statistics\n",
    "import org.apache.spark.rdd.RDD\n",
    "import org.apache.spark.{SparkConf, SparkContext}\n",
    "\n",
    "import scala.sys.process._"
   ]
  },
  {
   "cell_type": "markdown",
   "metadata": {},
   "source": [
    "## Mode of operation\n",
    "\n",
    "Here the user can define the mode of operation.\n",
    "* **rdd_offline_mode**: If false it means the notebook will create all data from scratch and store protected_extent and num_cols_rows into HDFS. Otherwise, these data structures are read from HDFS.\n",
    "\n",
    "It is also possible to define which directory of GeoTiffs is to be used and on which **band** to run Kmeans. The options are\n",
    "* **all** which are a multi-band (**8 bands**) GeoTiffs\n",
    "* Or choose single band ones:\n",
    "    0. Onset_Greenness_Increase\n",
    "    1. Onset_Greenness_Maximum\n",
    "    2. Onset_Greenness_Decrease\n",
    "    3. Onset_Greenness_Minimum\n",
    "    4. NBAR_EVI_Onset_Greenness_Minimum\n",
    "    5. NBAR_EVI_Onset_Greenness_Maximum\n",
    "    6. NBAR_EVI_Area\n",
    "    7. Dynamics_QC\n",
    "\n",
    "<span style=\"color:red\">Note that when using a range **kemans offline mode** is not possible and it will be reset to **online mode**</span>."
   ]
  },
  {
   "cell_type": "markdown",
   "metadata": {},
   "source": [
    "### Mode of Operation setup\n",
    "<a id='mode_of_operation_setup'></a>"
   ]
  },
  {
   "cell_type": "code",
   "execution_count": 2,
   "metadata": {},
   "outputs": [
    {
     "data": {
      "text/plain": [
       "rdd_offline_mode = true\n",
       "matrix_offline_mode = true\n",
       "model_path = hdfs:///user/hadoop/spring-index/\n",
       "model_dir = BloomFinal\n",
       "satellite_path = hdfs:///user/hadoop/avhrr/\n",
       "satellite_dir = SOST\n",
       "out_path = hdfs:///user/emma/correlation/\n",
       "band_num = 3\n",
       "satellite_first_year = 1989\n",
       "satellite_last_year = 2014\n",
       "model_first_year = 1989\n",
       "model_last_year = 2014\n",
       "toBeMasked = true\n",
       "mask_path = hdfs:///user/hadoop/usa_mask.tif\n",
       "save_rdds = false\n",
       "save_matrix = false\n"
      ]
     },
     "metadata": {},
     "output_type": "display_data"
    },
    {
     "data": {
      "text/plain": [
       "false"
      ]
     },
     "execution_count": 2,
     "metadata": {},
     "output_type": "execute_result"
    }
   ],
   "source": [
    "var rdd_offline_mode = true\n",
    "var matrix_offline_mode = true\n",
    "\n",
    "//Using spring-index model\n",
    "var model_path = \"hdfs:///user/hadoop/spring-index/\"\n",
    "var model_dir = \"BloomFinal\"\n",
    "\n",
    "//Using AVHRR Satellite data\n",
    "var satellite_path = \"hdfs:///user/hadoop/avhrr/\"\n",
    "var satellite_dir = \"SOST\"\n",
    "\n",
    "var out_path = \"hdfs:///user/emma/correlation/\"\n",
    "var band_num = 3\n",
    "\n",
    "//Years between (inclusive) 1989 - 2014\n",
    "var satellite_first_year = 1989\n",
    "var satellite_last_year = 2014\n",
    "\n",
    "//Years between (inclusive) 1980 - 2015\n",
    "var model_first_year = 1989\n",
    "var model_last_year = 2014\n",
    "\n",
    "//Mask\n",
    "val toBeMasked = true\n",
    "val mask_path = \"hdfs:///user/hadoop/usa_mask.tif\"\n",
    "\n",
    "val save_rdds = false\n",
    "val save_matrix = false"
   ]
  },
  {
   "cell_type": "markdown",
   "metadata": {},
   "source": [
    "\n",
    "<span style=\"color:red\">DON'T MODIFY ANY PIECE OF CODE FROM HERE ON!!!</span>.\n"
   ]
  },
  {
   "cell_type": "markdown",
   "metadata": {},
   "source": [
    "### Mode of operation validation"
   ]
  },
  {
   "cell_type": "code",
   "execution_count": 3,
   "metadata": {},
   "outputs": [
    {
     "data": {
      "text/plain": [
       "Waiting for a Spark session to start..."
      ]
     },
     "metadata": {},
     "output_type": "display_data"
    },
    {
     "name": "stdout",
     "output_type": "stream",
     "text": [
      "\"Load GeoTiffs\" offline mode is not set properly, i.e., either it was set to false and the required file does not exist or vice-versa. We will reset it to false\n",
      "\"Matrix\" offline mode is not set properly, i.e., either it was set to false and the required file does not exist or vice-versa. We will reset it to false\n"
     ]
    },
    {
     "data": {
      "text/plain": [
       "conf = Configuration: core-default.xml, core-site.xml, mapred-default.xml, mapred-site.xml, yarn-default.xml, yarn-site.xml, hdfs-default.xml, hdfs-site.xml, file:/usr/lib/spark-2.1.1-bin-without-hadoop/conf/hive-site.xml\n",
       "fs = DFS[DFSClient[clientName=DFSClient_NONMAPREDUCE_-801984405_36, ugi=emma (auth:SIMPLE)]]\n",
       "mask_str = _mask\n",
       "model_grid_path = hdfs:///user/emma/correlation/BloomFinal_model_grid\n",
       "satellite_grid_path = hdfs:///user/emma/correlation/SOST_satellite_grid\n",
       "model_matrix_path = hdfs:///user/emma/correlation/BloomFinal_model_matrix\n",
       "satellite_matrix_path = hdfs:///user/emma/correlation/SOST_satellite_matrix\n",
       "metadata_path = hdfs:///user/emma/correlation//metadat...\n"
      ]
     },
     "metadata": {},
     "output_type": "display_data"
    },
    {
     "data": {
      "text/plain": [
       "hdfs:///user/emma/correlation//metadata"
      ]
     },
     "execution_count": 3,
     "metadata": {},
     "output_type": "execute_result"
    }
   ],
   "source": [
    "//Check offline modes\n",
    "var conf = sc.hadoopConfiguration\n",
    "var fs = org.apache.hadoop.fs.FileSystem.get(conf)\n",
    "\n",
    "//Paths to store data structures for Offline runs\n",
    "var mask_str = \"\"\n",
    "if (toBeMasked)\n",
    "  mask_str = \"_mask\"\n",
    "var model_grid_path = out_path + model_dir + \"_model_grid\"\n",
    "var satellite_grid_path = out_path + satellite_dir + \"_satellite_grid\"\n",
    "var model_matrix_path = out_path + model_dir + \"_model_matrix\"\n",
    "var satellite_matrix_path = out_path + satellite_dir + \"_satellite_matrix\"\n",
    "var metadata_path = out_path + \"/metadata\"\n",
    "\n",
    "val rdd_offline_exists = fs.exists(new org.apache.hadoop.fs.Path(metadata_path))\n",
    "val matrix_offline_exists = fs.exists(new org.apache.hadoop.fs.Path(satellite_matrix_path))\n",
    "\n",
    "if (rdd_offline_mode != rdd_offline_exists) {\n",
    "  println(\"\\\"Load GeoTiffs\\\" offline mode is not set properly, i.e., either it was set to false and the required file does not exist or vice-versa. We will reset it to \" + rdd_offline_exists.toString())\n",
    "  rdd_offline_mode = rdd_offline_exists\n",
    "}\n",
    "\n",
    "if (matrix_offline_mode != matrix_offline_exists) {\n",
    "  println(\"\\\"Matrix\\\" offline mode is not set properly, i.e., either it was set to false and the required file does not exist or vice-versa. We will reset it to \" + matrix_offline_exists.toString())\n",
    "  matrix_offline_mode = matrix_offline_exists\n",
    "}\n",
    "\n",
    "var skip_rdd = false\n",
    "if (matrix_offline_exists) {\n",
    "    println(\"Since we have a matrix, the load of the grids RDD will be skipped!!!\")\n",
    "    skip_rdd = true\n",
    "}\n",
    "\n",
    "var corr_tif = out_path + \"_\" + satellite_dir + \"_\" + model_dir + \".tif\"\n",
    "var corr_tif_tmp = \"/tmp/correlation_\" + satellite_dir + \"_\" + model_dir + \".tif\"\n",
    "\n",
    "//Years\n",
    "val satellite_years = 1980 to 2015\n",
    "val model_years = 1989 to 2014\n",
    "\n",
    "if (!satellite_years.contains(satellite_first_year) || !(satellite_years.contains(satellite_last_year))) {\n",
    "  println(\"Invalid range of years for \" + satellite_dir + \". I should be between \" + satellite_first_year + \" and \" + satellite_last_year)\n",
    "  System.exit(0)\n",
    "}\n",
    "\n",
    "if (!model_years.contains(model_first_year) || !(model_years.contains(model_last_year))) {\n",
    "  println(\"Invalid range of years for \" + model_dir + \". I should be between \" + model_first_year + \" and \" + model_last_year)\n",
    "  System.exit(0)\n",
    "}\n",
    "\n",
    "if ( ((satellite_last_year - model_first_year) > (model_last_year - model_first_year)) || ((satellite_last_year - model_first_year) > (model_last_year - model_first_year))) {\n",
    "  println(\"The range of years for each data set should be of the same length.\");\n",
    "  System.exit(0)\n",
    "}\n",
    "\n",
    "var model_years_range = (model_years.indexOf(model_first_year), model_years.indexOf(model_last_year))\n",
    "var satellite_years_range = (satellite_years.indexOf(satellite_first_year), satellite_years.indexOf(satellite_last_year))\n",
    "\n",
    "//Global variables\n",
    "var projected_extent = new ProjectedExtent(new Extent(0,0,0,0), CRS.fromName(\"EPSG:3857\"))\n",
    "var model_grids_RDD: RDD[Array[Double]] = sc.emptyRDD\n",
    "var model_grids: RDD[Array[Double]] = sc.emptyRDD\n",
    "var satellite_grids_RDD: RDD[Array[Double]] = sc.emptyRDD\n",
    "var satellite_grids: RDD[Array[Double]] = sc.emptyRDD\n",
    "var num_cols_rows :(Int, Int) = (0, 0)\n",
    "var cellT :CellType = UByteCellType\n",
    "var mask_tile0 :Tile = new SinglebandGeoTiff(geotrellis.raster.ArrayTile.empty(cellT, num_cols_rows._1, num_cols_rows._2), projected_extent.extent, projected_extent.crs, Tags.empty, GeoTiffOptions.DEFAULT).tile\n",
    "var satellite_cells_size :Long = 0\n",
    "var model_cells_size :Long = 0\n",
    "var t0 : Long = 0\n",
    "var t1 : Long = 0"
   ]
  },
  {
   "cell_type": "markdown",
   "metadata": {},
   "source": [
    "## Functions to (de)serialize any structure into Array[Byte]"
   ]
  },
  {
   "cell_type": "code",
   "execution_count": 4,
   "metadata": {},
   "outputs": [
    {
     "data": {
      "text/plain": [
       "serialize: (value: Any)Array[Byte]\n",
       "deserialize: (bytes: Array[Byte])Any\n"
      ]
     },
     "metadata": {},
     "output_type": "display_data"
    }
   ],
   "source": [
    "def serialize(value: Any): Array[Byte] = {\n",
    "    val out_stream: ByteArrayOutputStream = new ByteArrayOutputStream()\n",
    "    val obj_out_stream = new ObjectOutputStream(out_stream)\n",
    "    obj_out_stream.writeObject(value)\n",
    "    obj_out_stream.close\n",
    "    out_stream.toByteArray\n",
    "}\n",
    "\n",
    "def deserialize(bytes: Array[Byte]): Any = {\n",
    "    val obj_in_stream = new ObjectInputStream(new ByteArrayInputStream(bytes))\n",
    "    val value = obj_in_stream.readObject\n",
    "    obj_in_stream.close\n",
    "    value\n",
    "}"
   ]
  },
  {
   "cell_type": "markdown",
   "metadata": {},
   "source": [
    "## Load GeoTiffs\n",
    "\n",
    "Using GeoTrellis all GeoTiffs of a directory will be loaded into a RDD. Using the RDD, we extract a grid from the first file to lated store the Kmeans cluster_IDS, we build an Index for populate such grid and we filter out here all NaN values."
   ]
  },
  {
   "cell_type": "code",
   "execution_count": 10,
   "metadata": {},
   "outputs": [
    {
     "name": "stdout",
     "output_type": "stream",
     "text": [
      "Elapsed time: 7064910432ns\n"
     ]
    },
    {
     "data": {
      "text/plain": [
       "t0 = 19128228445454\n",
       "pattern = tif\n",
       "satellite_filepath = hdfs:///user/hadoop/avhrr/SOST\n",
       "model_filepath = hdfs:///user/hadoop/spring-index//BloomFinal\n",
       "t1 = 19135293355886\n"
      ]
     },
     "metadata": {},
     "output_type": "display_data"
    },
    {
     "data": {
      "text/plain": [
       "19135293355886"
      ]
     },
     "execution_count": 10,
     "metadata": {},
     "output_type": "execute_result"
    }
   ],
   "source": [
    "t0 = System.nanoTime()\n",
    "\n",
    "//Load Mask\n",
    "if (!skip_rdd && toBeMasked) {\n",
    "  val mask_tiles_RDD = sc.hadoopGeoTiffRDD(mask_path).values\n",
    "  val mask_tiles_withIndex = mask_tiles_RDD.zipWithIndex().map{case (e,v) => (v,e)}\n",
    "  mask_tile0 = (mask_tiles_withIndex.filter(m => m._1==0).filter(m => !m._1.isNaN).values.collect())(0)\n",
    "}\n",
    "\n",
    "//Local variables\n",
    "val pattern: String = \"tif\"\n",
    "val satellite_filepath: String = satellite_path + satellite_dir\n",
    "val model_filepath: String = model_path + \"/\" + model_dir\n",
    "\n",
    "t1 = System.nanoTime()\n",
    "println(\"Elapsed time: \" + (t1 - t0) + \"ns\")"
   ]
  },
  {
   "cell_type": "markdown",
   "metadata": {},
   "source": [
    "### Satellite data"
   ]
  },
  {
   "cell_type": "code",
   "execution_count": 14,
   "metadata": {},
   "outputs": [
    {
     "name": "stdout",
     "output_type": "stream",
     "text": [
      "Number of cells is: 10115631                                                    \n",
      "Elapsed time: 15363305923ns\n"
     ]
    },
    {
     "data": {
      "text/plain": [
       "t0 = 20281482863605\n",
       "t1 = 20296846169528\n"
      ]
     },
     "metadata": {},
     "output_type": "display_data"
    },
    {
     "data": {
      "text/plain": [
       "20296846169528"
      ]
     },
     "execution_count": 14,
     "metadata": {},
     "output_type": "execute_result"
    }
   ],
   "source": [
    "t0 = System.nanoTime()\n",
    "if (!skip_rdd) {\n",
    "    if (rdd_offline_mode) {\n",
    "      satellite_grids_RDD = sc.objectFile(satellite_grid_path)\n",
    "    } else {\n",
    "      //Lets load MODIS Singleband GeoTiffs and return RDD just with the tiles.\n",
    "      val satellite_geos_RDD = sc.hadoopGeoTiffRDD(satellite_filepath, pattern)\n",
    "      val satellite_tiles_RDD = satellite_geos_RDD.values\n",
    "\n",
    "      if (toBeMasked) {\n",
    "        val mask_tile_broad :Broadcast[Tile] = sc.broadcast(mask_tile0)\n",
    "        satellite_grids_RDD = satellite_tiles_RDD.map(m => m.localInverseMask(mask_tile_broad.value, 1, -1000).toArrayDouble().filter(_ != -1000))\n",
    "      } else {\n",
    "        satellite_grids_RDD = satellite_tiles_RDD.map(m => m.toArrayDouble())\n",
    "      }\n",
    "\n",
    "      //Store in HDFS\n",
    "      if (save_rdds) {\n",
    "          satellite_grids_RDD.saveAsObjectFile(satellite_grid_path)\n",
    "      }\n",
    "    }\n",
    "    val satellite_grids_withIndex = satellite_grids_RDD.zipWithIndex().map { case (e, v) => (v, e) }\n",
    "\n",
    "    //Filter out the range of years:\n",
    "    satellite_grids = satellite_grids_withIndex.filterByRange(satellite_years_range._1, satellite_years_range._2).values\n",
    "\n",
    "    var satellite_grid0_index: RDD[Double] = satellite_grids_withIndex.filter(m => m._1 == 0).values.flatMap(m => m)\n",
    "    satellite_cells_size = satellite_grid0_index.count().toInt\n",
    "    println(\"Number of cells is: \" + satellite_cells_size)\n",
    "}\n",
    "t1 = System.nanoTime()\n",
    "println(\"Elapsed time: \" + (t1 - t0) + \"ns\")"
   ]
  },
  {
   "cell_type": "markdown",
   "metadata": {},
   "source": [
    "### Model data"
   ]
  },
  {
   "cell_type": "code",
   "execution_count": 13,
   "metadata": {},
   "outputs": [
    {
     "name": "stdout",
     "output_type": "stream",
     "text": [
      "[Stage 8:=======================================================> (34 + 1) / 35]Elapsed time: 604423939836ns\n"
     ]
    },
    {
     "data": {
      "text/plain": [
       "t0 = 19675616707133\n",
       "t1 = 20280040646969\n"
      ]
     },
     "metadata": {},
     "output_type": "display_data"
    },
    {
     "data": {
      "text/plain": [
       "20280040646969"
      ]
     },
     "execution_count": 13,
     "metadata": {},
     "output_type": "execute_result"
    }
   ],
   "source": [
    "t0 = System.nanoTime()\n",
    "\n",
    "if (!skip_rdd) {\n",
    "    if (rdd_offline_mode) {\n",
    "      model_grids_RDD = sc.objectFile(model_grid_path)\n",
    "      val metadata = sc.sequenceFile(metadata_path, classOf[IntWritable], classOf[BytesWritable]).map(_._2.copyBytes()).collect()\n",
    "      projected_extent = deserialize(metadata(0)).asInstanceOf[ProjectedExtent]\n",
    "      num_cols_rows = (deserialize(metadata(1)).asInstanceOf[Int], deserialize(metadata(2)).asInstanceOf[Int])\n",
    "      cellT = deserialize(metadata(3)).asInstanceOf[CellType]  \n",
    "    } else {\n",
    "      val model_geos_RDD = sc.hadoopMultibandGeoTiffRDD(model_filepath, pattern)\n",
    "      val model_tiles_RDD = model_geos_RDD.values\n",
    "\n",
    "      //Retrieve the number of cols and rows of the Tile's grid\n",
    "      val tiles_withIndex = model_tiles_RDD.zipWithIndex().map{case (v,i) => (i,v)}\n",
    "      val tile0 = (tiles_withIndex.filter(m => m._1==0).values.collect())(0)\n",
    "\n",
    "      num_cols_rows = (tile0.cols, tile0.rows)\n",
    "      cellT = tile0.cellType\n",
    "\n",
    "      //Retrieve the ProjectExtent which contains metadata such as CRS and bounding box\n",
    "      val projected_extents_withIndex = model_geos_RDD.keys.zipWithIndex().map{case (e,v) => (v,e)}\n",
    "      projected_extent = (projected_extents_withIndex.filter(m => m._1 == 0).values.collect())(0)\n",
    "\n",
    "      val band_numB :Broadcast[Int] = sc.broadcast(band_num)\n",
    "      if (toBeMasked) {\n",
    "        val mask_tile_broad :Broadcast[Tile] = sc.broadcast(mask_tile0)\n",
    "        model_grids_RDD = model_tiles_RDD.map(m => m.band(band_numB.value).localInverseMask(mask_tile_broad.value, 1, -1000).toArrayDouble().filter(_ != -1000))\n",
    "      } else {\n",
    "        model_grids_RDD = model_tiles_RDD.map(m => m.band(band_numB.value).toArrayDouble())\n",
    "      }\n",
    "\n",
    "      //Store data in HDFS\n",
    "      if (save_rdds) {\n",
    "          model_grids_RDD.saveAsObjectFile(model_grid_path)\n",
    "\n",
    "          val writer: SequenceFile.Writer = SequenceFile.createWriter(conf,\n",
    "            Writer.file(metadata_path),\n",
    "            Writer.keyClass(classOf[IntWritable]),\n",
    "            Writer.valueClass(classOf[BytesWritable])\n",
    "          )\n",
    "\n",
    "          writer.append(new IntWritable(1), new BytesWritable(serialize(projected_extent)))\n",
    "          writer.append(new IntWritable(2), new BytesWritable(serialize(num_cols_rows._1)))\n",
    "          writer.append(new IntWritable(3), new BytesWritable(serialize(num_cols_rows._2)))\n",
    "          writer.append(new IntWritable(4), new BytesWritable(serialize(cellT)))\n",
    "          writer.hflush()\n",
    "          writer.close()\n",
    "      }\n",
    "    }\n",
    "    val model_grids_withIndex = model_grids_RDD.zipWithIndex().map { case (e, v) => (v, e) }\n",
    "\n",
    "    //Filter out the range of years:\n",
    "    model_grids = model_grids_withIndex.filterByRange(model_years_range._1, model_years_range._2).values\n",
    "    \n",
    "    var model_grid0_index: RDD[Double] = model_grids_withIndex.filter(m => m._1 == 0).values.flatMap(m => m)\n",
    "    model_cells_size = model_grid0_index.count().toInt\n",
    "    println(\"Number of cells is: \" + model_cells_size)\n",
    "}\n",
    "t1 = System.nanoTime()\n",
    "println(\"Elapsed time: \" + (t1 - t0) + \"ns\")"
   ]
  },
  {
   "cell_type": "code",
   "execution_count": 16,
   "metadata": {},
   "outputs": [
    {
     "name": "stdout",
     "output_type": "stream",
     "text": [
      "Number of cells is: 10115631                                                    \n"
     ]
    },
    {
     "data": {
      "text/plain": [
       "model_grids_withIndex = MapPartitionsRDD[60] at map at <console>:62\n",
       "model_grids = MapPartitionsRDD[62] at values at <console>:65\n",
       "model_grid0_index = MapPartitionsRDD[65] at flatMap at <console>:67\n",
       "model_cells_size = 10115631\n"
      ]
     },
     "metadata": {},
     "output_type": "display_data"
    },
    {
     "data": {
      "text/plain": [
       "10115631"
      ]
     },
     "execution_count": 16,
     "metadata": {},
     "output_type": "execute_result"
    }
   ],
   "source": [
    "val model_grids_withIndex = model_grids_RDD.zipWithIndex().map { case (e, v) => (v, e) }\n",
    "\n",
    "    //Filter out the range of years:\n",
    "    model_grids = model_grids_withIndex.filterByRange(model_years_range._1, model_years_range._2).values\n",
    "    \n",
    "    var model_grid0_index: RDD[Double] = model_grids_withIndex.filter(m => m._1 == 0).values.flatMap(m => m)\n",
    "    model_cells_size = model_grid0_index.count().toInt\n",
    "    //model_cells_size = num_cols_rows._1 * num_cols_rows._2\n",
    "    println(\"Number of cells is: \" + model_cells_size)"
   ]
  },
  {
   "cell_type": "markdown",
   "metadata": {},
   "source": [
    "## Matrix\n",
    "\n",
    "We need to do a Matrix transpose to have clusters per cell and not per year. With a GeoTiff representing a single year, the loaded data looks liks this:\n",
    "```\n",
    "bands_RDD.map(s => Vectors.dense(s)).cache()\n",
    "\n",
    "//The vectors are rows and therefore the matrix will look like this:\n",
    "[\n",
    "Vectors.dense(0.0, 1.0, 2.0),\n",
    "Vectors.dense(3.0, 4.0, 5.0),\n",
    "Vectors.dense(6.0, 7.0, 8.0),\n",
    "Vectors.dense(9.0, 0.0, 1.0)\n",
    "]\n",
    "```\n",
    "\n",
    "To achieve that we convert the **RDD[Vector]** into a distributed Matrix, a [**CoordinateMatrix**](https://spark.apache.org/docs/latest/mllib-data-types.html#coordinatematrix), which as a **transpose** method."
   ]
  },
  {
   "cell_type": "markdown",
   "metadata": {},
   "source": [
    "### Satellite data"
   ]
  },
  {
   "cell_type": "code",
   "execution_count": 17,
   "metadata": {},
   "outputs": [
    {
     "name": "stdout",
     "output_type": "stream",
     "text": [
      "[Stage 16:======================================================> (31 + 1) / 32]Elapsed time: 174521761497ns\n"
     ]
    },
    {
     "data": {
      "text/plain": [
       "t0 = 20804124974062\n",
       "satellite_matrix = MapPartitionsRDD[83] at map at <console>:82\n",
       "satellite_cells_sizeB = Broadcast(22)\n",
       "t1 = 20978646735559\n"
      ]
     },
     "metadata": {},
     "output_type": "display_data"
    },
    {
     "data": {
      "text/plain": [
       "20978646735559"
      ]
     },
     "execution_count": 17,
     "metadata": {},
     "output_type": "execute_result"
    }
   ],
   "source": [
    "t0 = System.nanoTime()\n",
    "//Global variables\n",
    "var satellite_matrix: RDD[Vector] = sc.emptyRDD\n",
    "val satellite_cells_sizeB = sc.broadcast(satellite_cells_size)\n",
    "if (matrix_offline_mode) {\n",
    "  satellite_matrix = sc.objectFile(satellite_matrix_path)\n",
    "} else {\n",
    "  val mat :RowMatrix = new RowMatrix(satellite_grids_RDD.map(m => m.zipWithIndex).map(m => m.filter(!_._1.isNaN)).map(m => Vectors.sparse(satellite_cells_sizeB.value.toInt, m.map(v => v._2), m.map(v => v._1))))\n",
    "  // Split the matrix into one number per line.\n",
    "  val byColumnAndRow = mat.rows.zipWithIndex.map {\n",
    "    case (row, rowIndex) => row.toArray.zipWithIndex.map {\n",
    "      case (number, columnIndex) => new MatrixEntry(rowIndex, columnIndex, number)\n",
    "    }\n",
    "  }.flatMap(x => x)\n",
    "\n",
    "  val matt: CoordinateMatrix = new CoordinateMatrix(byColumnAndRow)\n",
    "  val matt_T = matt.transpose()\n",
    "\n",
    "  satellite_matrix = matt_T.toIndexedRowMatrix().rows.sortBy(_.index).map(_.vector)\n",
    "  if (save_matrix) {\n",
    "      satellite_matrix.saveAsObjectFile(satellite_matrix_path)\n",
    "  }\n",
    "}\n",
    "\n",
    "t1 = System.nanoTime()\n",
    "println(\"Elapsed time: \" + (t1 - t0) + \"ns\")"
   ]
  },
  {
   "cell_type": "markdown",
   "metadata": {},
   "source": [
    "### Model Data"
   ]
  },
  {
   "cell_type": "code",
   "execution_count": 18,
   "metadata": {},
   "outputs": [
    {
     "name": "stdout",
     "output_type": "stream",
     "text": [
      "[Stage 20:======================================================> (31 + 1) / 32]Elapsed time: 580469517625ns\n"
     ]
    },
    {
     "data": {
      "text/plain": [
       "t0 = 21238374595830\n",
       "model_matrix = MapPartitionsRDD[101] at map at <console>:84\n",
       "model_cells_sizeB = Broadcast(27)\n",
       "t1 = 21818844113455\n"
      ]
     },
     "metadata": {},
     "output_type": "display_data"
    },
    {
     "data": {
      "text/plain": [
       "21818844113455"
      ]
     },
     "execution_count": 18,
     "metadata": {},
     "output_type": "execute_result"
    }
   ],
   "source": [
    "t0 = System.nanoTime()\n",
    "\n",
    "//Global variables\n",
    "var model_matrix: RDD[Vector] = sc.emptyRDD\n",
    "\n",
    "val model_cells_sizeB = sc.broadcast(model_cells_size)\n",
    "if (matrix_offline_mode) {\n",
    "  model_matrix = sc.objectFile(model_matrix_path)\n",
    "} else {\n",
    "  val mat :RowMatrix = new RowMatrix(model_grids_RDD.map(m => m.zipWithIndex).map(m => m.filter(!_._1.isNaN)).map(m => Vectors.sparse(model_cells_sizeB.value.toInt, m.map(v => v._2), m.map(v => v._1))))\n",
    "  // Split the matrix into one number per line.\n",
    "  val byColumnAndRow = mat.rows.zipWithIndex.map {\n",
    "    case (row, rowIndex) => row.toArray.zipWithIndex.map {\n",
    "      case (number, columnIndex) => new MatrixEntry(rowIndex, columnIndex, number)\n",
    "    }\n",
    "  }.flatMap(x => x)\n",
    "\n",
    "  val matt: CoordinateMatrix = new CoordinateMatrix(byColumnAndRow)\n",
    "  val matt_T = matt.transpose()\n",
    "\n",
    "  model_matrix = matt_T.toIndexedRowMatrix().rows.sortBy(_.index).map(_.vector)\n",
    "  \n",
    "  if (save_matrix) {\n",
    "      model_matrix.saveAsObjectFile(model_matrix_path)\n",
    "  }\n",
    "}\n",
    "\n",
    "t1 = System.nanoTime()\n",
    "println(\"Elapsed time: \" + (t1 - t0) + \"ns\")"
   ]
  },
  {
   "cell_type": "markdown",
   "metadata": {},
   "source": [
    "### Validation"
   ]
  },
  {
   "cell_type": "code",
   "execution_count": 19,
   "metadata": {},
   "outputs": [
    {
     "name": "stdout",
     "output_type": "stream",
     "text": [
      "[Stage 26:====================================================>   (30 + 2) / 32]"
     ]
    },
    {
     "data": {
      "text/plain": [
       "model_matrix_rows = 10115631\n",
       "satellite_matrix_rows = 10115631\n"
      ]
     },
     "metadata": {},
     "output_type": "display_data"
    },
    {
     "data": {
      "text/plain": [
       "10115631"
      ]
     },
     "execution_count": 19,
     "metadata": {},
     "output_type": "execute_result"
    }
   ],
   "source": [
    "var model_matrix_rows = model_matrix.count()\n",
    "var satellite_matrix_rows = satellite_matrix.count()\n",
    "\n",
    "if (model_matrix_rows != satellite_matrix_rows) {\n",
    "  println(\"For correlation it is necessary to have a matrix with same number of rows and columns!!!\")\n",
    "  println(\"Model matrix has \" + model_matrix_rows + \" rows while satellite matrix has \" + satellite_matrix_rows + \" rows!!!\")\n",
    "  //System.exit(0)\n",
    "}"
   ]
  },
  {
   "cell_type": "markdown",
   "metadata": {},
   "source": [
    "## Correlation"
   ]
  },
  {
   "cell_type": "code",
   "execution_count": null,
   "metadata": {},
   "outputs": [
    {
     "name": "stdout",
     "output_type": "stream",
     "text": [
      "\r",
      "[Stage 49:>                                                        (0 + 0) / 31]"
     ]
    }
   ],
   "source": [
    "val satellite = satellite_matrix.zipWithIndex().map{ case (v, i) => (i,v)}\n",
    "val model = model_matrix.zipWithIndex().map{case (v,i) => (i, v)}\n",
    "\n",
    "val numCells = satellite.count()\n",
    "var corr_res :Array[Double] = Array[Double](numCells)\n",
    "var cell = 0\n",
    "while (cell < numCells) {\n",
    "  val satellite_array = satellite.filter(_._1 == cell).flatMap(_._2.toArray)\n",
    "  val model_array = model.filter(_._1 == cell).flatMap(_._2.toArray).repartition(satellite_array.getNumPartitions)\n",
    "  corr_res(cell) = Statistics.corr(satellite_array, model_array, \"pearson\")\n",
    "  cell += 1\n",
    "}"
   ]
  },
  {
   "cell_type": "markdown",
   "metadata": {},
   "source": [
    "## Build GeoTiff with Kmeans cluster_IDs\n",
    "\n",
    "The Grid with the cluster IDs is stored in a SingleBand GeoTiff and uploaded to HDFS."
   ]
  },
  {
   "cell_type": "markdown",
   "metadata": {},
   "source": [
    "### Assign cluster ID to each grid cell and save the grid as SingleBand GeoTiff\n",
    "\n",
    "To assign the clusterID to each grid cell it is necessary to get the indices of gird cells they belong to. The process is not straight forward because the ArrayDouble used for the creation of each dense Vector does not contain the NaN values, therefore there is not a direct between the indices in the Tile's grid and the ones in **kmeans_res** (kmeans result).\n",
    "\n",
    "To join the two RDDS the knowledge was obtaing from a stackoverflow post on [how to perform basic joins of two rdd tables in spark using python](https://stackoverflow.com/questions/31257077/how-do-you-perform-basic-joins-of-two-rdd-tables-in-spark-using-python)."
   ]
  },
  {
   "cell_type": "code",
   "execution_count": 12,
   "metadata": {},
   "outputs": [
    {
     "data": {
      "text/plain": [
       "Name: Unknown Error\n",
       "Message: <console>:60: error: not found: value corr_res\n",
       "       val corr_cells :Array[Double] = corr_res\n",
       "                                       ^\n",
       "\n",
       "StackTrace: "
      ]
     },
     "execution_count": 12,
     "metadata": {},
     "output_type": "execute_result"
    }
   ],
   "source": [
    "val corr_cells :Array[Double] = corr_res\n",
    "val corr_cellsD = DoubleArrayTile(corr_cells, num_cols_rows._1, num_cols_rows._2)\n",
    "\n",
    "val geoTif = new SinglebandGeoTiff(corr_cellsD, projected_extent.extent, projected_extent.crs, Tags.empty, GeoTiffOptions(compression.DeflateCompression))\n",
    "\n",
    "//Save to /tmp/\n",
    "GeoTiffWriter.write(geoTif, corr_tif_tmp)\n",
    "\n",
    "//Upload to HDFS\n",
    "var cmd = \"hadoop dfs -copyFromLocal -f \" + corr_tif_tmp + \" \" + corr_tif\n",
    "Process(cmd)!\n",
    "\n",
    "//Remove from /tmp/\n",
    "cmd = \"rm -fr \" + corr_tif_tmp\n",
    "Process(cmd)!"
   ]
  },
  {
   "cell_type": "markdown",
   "metadata": {},
   "source": [
    "# [Visualize results](plot_kmeans_clusters.ipynb)"
   ]
  },
  {
   "cell_type": "code",
   "execution_count": null,
   "metadata": {
    "collapsed": true
   },
   "outputs": [],
   "source": []
  }
 ],
 "metadata": {
  "kernelspec": {
   "display_name": "Apache Toree - Scala",
   "language": "scala",
   "name": "apache_toree_scala"
  },
  "language_info": {
   "codemirror_mode": "text/x-scala",
   "file_extension": ".scala",
   "mimetype": "text/x-scala",
   "name": "scala",
   "pygments_lexer": "scala",
   "version": "2.11.8"
  }
 },
 "nbformat": 4,
 "nbformat_minor": 2
}
