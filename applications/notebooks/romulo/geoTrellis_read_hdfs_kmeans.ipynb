{
 "cells": [
  {
   "cell_type": "code",
   "execution_count": 1,
   "metadata": {
    "collapsed": true
   },
   "outputs": [],
   "source": [
    "/**\n",
    " The following notebook does:\n",
    "     - Reads a single- or a multi- band GeoTiff from HDFS\n",
    "     - Filters out or converts NaN values\n",
    "     - Runs Kmeans\n",
    "     - Saves the kmeans model to HDFS\n",
    "**/\n",
    "\n",
    "\n",
    "import geotrellis.raster.MultibandTile\n",
    "import geotrellis.spark.io.hadoop._\n",
    "import geotrellis.vector.ProjectedExtent\n",
    "import org.apache.hadoop.fs.Path\n",
    "import org.apache.spark.{SparkConf, SparkContext}\n",
    "import org.apache.spark.mllib.clustering.KMeans\n",
    "import org.apache.spark.mllib.linalg.Vectors\n",
    "import org.apache.spark.rdd.RDD"
   ]
  },
  {
   "cell_type": "code",
   "execution_count": 14,
   "metadata": {},
   "outputs": [
    {
     "name": "stdout",
     "output_type": "stream",
     "text": [
      "vector length with NaN is 30388736\n",
      "vector length without NaN is 13695035\n"
     ]
    }
   ],
   "source": [
    "var band_NaN_RDD :RDD[Array[Double]] = sc.emptyRDD\n",
    "\n",
    "//The following example shows how to get the number of bands, however, it is not known \n",
    "//val band_count = geotrellis.raster.io.geotiff.reader.TiffTagsReader.read(filepath).bandCount;\n",
    "\n",
    "val band_count = 4;\n",
    "var filepath :String = \"\"\n",
    "if (band_count == 1) {\n",
    "    //Single band GeoTiff\n",
    "    filepath = \"hdfs:///user/hadoop/spring-index/LastFreeze/1980.tif\"\n",
    "} else {\n",
    "    //Multi band GeoTiff\n",
    "    filepath = \"hdfs:///user/hadoop/spring-index/BloomFinal/1980.tif\"\n",
    "}\n",
    "    \n",
    "if (band_count == 1) {\n",
    "    //Lets load a Singleband GeoTiff and return RDD just with the tiles.\n",
    "    //Since it is a single GeoTiff, it will be a RDD with a tile.\n",
    "    val bands_RDD = sc.hadoopGeoTiffRDD(filepath).values\n",
    "    band_NaN_RDD = bands_RDD.map( m => m.toArrayDouble())\n",
    "} else {\n",
    "    //Lets load a Multiband GeoTiff and return RDD just with the tiles.\n",
    "    //Since it is a single GeoTiff, it will be a RDD with a tile.\n",
    "    val bands_RDD = sc.hadoopMultibandGeoTiffRDD(filepath).values\n",
    "    \n",
    "    //Extract the 4th band\n",
    "    band_NaN_RDD = bands_RDD.map( m => m.band(3).toArrayDouble())\n",
    "}\n",
    "\n",
    "//Go to each vector and print the length of each vector\n",
    "band_NaN_RDD.collect().foreach(m => println(\"vector length with NaN is %d\".format(m.length)))\n",
    "\n",
    "//Go to each vector and filter out all NaN values\n",
    "val band_RDD = band_NaN_RDD.map(m => m.filter(v => !v.isNaN))\n",
    "\n",
    "//Go to each vector and print the length of each vector\n",
    "band_RDD.collect().foreach(m => println(\"vector length without NaN is %d\".format(m.length)))"
   ]
  },
  {
   "cell_type": "code",
   "execution_count": 15,
   "metadata": {
    "collapsed": true
   },
   "outputs": [],
   "source": [
    "// Create a Vector with NaN converted to 0s\n",
    "//val band_vec = band_NaN_RDD.map(s => Vectors.dense(s.map(v => if (v.isNaN) 0 else v))).cache()\n",
    "\n",
    "// Create a Vector without NaN values\n",
    "val band_vec = band_RDD.map(s => Vectors.dense(s)).cache()"
   ]
  },
  {
   "cell_type": "code",
   "execution_count": 16,
   "metadata": {},
   "outputs": [
    {
     "name": "stdout",
     "output_type": "stream",
     "text": [
      "Within Set Sum of Squared Errors = 0.0\n"
     ]
    }
   ],
   "source": [
    "val numClusters = 2\n",
    "val numIterations = 20\n",
    "val clusters = {\n",
    "    KMeans.train(band_vec,numClusters,numIterations)\n",
    "}\n",
    "\n",
    "// Evaluate clustering by computing Within Set Sum of Squared Errors\n",
    "val WSSSE = clusters.computeCost(band_vec)\n",
    "println(\"Within Set Sum of Squared Errors = \" + WSSSE)"
   ]
  },
  {
   "cell_type": "code",
   "execution_count": 18,
   "metadata": {},
   "outputs": [
    {
     "name": "stdout",
     "output_type": "stream",
     "text": [
      "Cluster Centers: \n"
     ]
    }
   ],
   "source": [
    "//Un-persist the model\n",
    "band_vec.unpersist()\n",
    "\n",
    "// Shows the result.\n",
    "println(\"Cluster Centers: \")\n",
    "//clusters.clusterCenters.foreach(println)\n",
    "\n",
    "//Clusters save the model\n",
    "if (band_count == 1) {\n",
    "    clusters.save(sc, \"hdfs:///user/emma/spring_index/LastFreeze/1980_kmeans_model\")    \n",
    "} else {\n",
    "    clusters.save(sc, \"hdfs:///user/emma/spring_index/BloomFinal/1980_kmeans_model\")\n",
    "}\n"
   ]
  },
  {
   "cell_type": "code",
   "execution_count": null,
   "metadata": {
    "collapsed": true
   },
   "outputs": [],
   "source": []
  }
 ],
 "metadata": {
  "kernelspec": {
   "display_name": "Apache Toree - Scala",
   "language": "scala",
   "name": "apache_toree_scala"
  },
  "language_info": {
   "codemirror_mode": "text/x-scala",
   "file_extension": ".scala",
   "mimetype": "text/x-scala",
   "name": "scala",
   "pygments_lexer": "scala",
   "version": "2.11.8"
  }
 },
 "nbformat": 4,
 "nbformat_minor": 2
}
