{
 "cells": [
  {
   "cell_type": "markdown",
   "metadata": {},
   "source": [
    "# Correlation between a Model and Satellite data\n",
    "\n",
    "This notebook shows how to calculate correlation between two matrices. Each matrix is created out a set of GeoTiffs for a series of years. Both matrices should have the same dimension.\n",
    "\n",
    "For demonstration we will use from a model (spring-index) and from a satellite (AVHRR)."
   ]
  },
  {
   "cell_type": "markdown",
   "metadata": {},
   "source": [
    "## Dependencies"
   ]
  },
  {
   "cell_type": "code",
   "execution_count": 1,
   "metadata": {},
   "outputs": [
    {
     "data": {
      "text/plain": [
       "import breeze.linalg.{DenseMatrix=>BDM, _}\n"
      ]
     },
     "metadata": {},
     "output_type": "display_data"
    }
   ],
   "source": [
    "import java.io.{ByteArrayInputStream, ByteArrayOutputStream, ObjectInputStream, ObjectOutputStream}\n",
    "\n",
    "import breeze.linalg.{DenseMatrix => BDM, _}\n",
    "import breeze.stats._\n",
    "import geotrellis.proj4.CRS\n",
    "import geotrellis.raster.io.geotiff.writer.GeoTiffWriter\n",
    "import geotrellis.raster.io.geotiff.{SinglebandGeoTiff, _}\n",
    "import geotrellis.raster.{CellType, DoubleArrayTile, Tile, UByteCellType}\n",
    "import geotrellis.spark.io.hadoop._\n",
    "import geotrellis.vector.{Extent, ProjectedExtent}\n",
    "import org.apache.hadoop.io.SequenceFile.Writer\n",
    "import org.apache.hadoop.io.{SequenceFile, _}\n",
    "import org.apache.spark.broadcast.Broadcast\n",
    "import org.apache.spark.mllib.linalg._\n",
    "import org.apache.spark.mllib.linalg.distributed.{CoordinateMatrix, MatrixEntry, RowMatrix}\n",
    "import org.apache.spark.rdd.RDD\n",
    "import org.apache.spark.{SparkConf, SparkContext, mllib}\n",
    "import com.quantifind.charts.Highcharts._\n",
    "\n",
    "import scala.sys.process._"
   ]
  },
  {
   "cell_type": "markdown",
   "metadata": {},
   "source": [
    "## Mode of operation\n",
    "\n",
    "Here the user can define the mode of operation.\n",
    "* **rdd_offline_mode**: If false it means the notebook will create all data from scratch and store protected_extent and num_cols_rows into HDFS. Otherwise, these data structures are read from HDFS.\n",
    "\n",
    "It is also possible to define which directory of GeoTiffs is to be used and on which **band** to run Kmeans. The options are\n",
    "* **all** which are a multi-band (**8 bands**) GeoTiffs\n",
    "* Or choose single band ones:\n",
    "    0. Onset_Greenness_Increase\n",
    "    1. Onset_Greenness_Maximum\n",
    "    2. Onset_Greenness_Decrease\n",
    "    3. Onset_Greenness_Minimum\n",
    "    4. NBAR_EVI_Onset_Greenness_Minimum\n",
    "    5. NBAR_EVI_Onset_Greenness_Maximum\n",
    "    6. NBAR_EVI_Area\n",
    "    7. Dynamics_QC\n",
    "\n",
    "<span style=\"color:red\">Note that when using a range **kemans offline mode** is not possible and it will be reset to **online mode**</span>."
   ]
  },
  {
   "cell_type": "markdown",
   "metadata": {},
   "source": [
    "### Mode of Operation setup\n",
    "<a id='mode_of_operation_setup'></a>"
   ]
  },
  {
   "cell_type": "code",
   "execution_count": 2,
   "metadata": {},
   "outputs": [
    {
     "data": {
      "text/plain": [
       "model_rdd_offline_mode = true\n",
       "model_matrix_offline_mode = true\n",
       "satellite_rdd_offline_mode = true\n",
       "satellite_matrix_offline_mode = true\n",
       "model_path = hdfs:///user/hadoop/spring-index/\n",
       "model_dir = BloomFinal\n",
       "satellite_path = hdfs:///user/hadoop/spring-index/\n",
       "satellite_dir = LeafFinal\n",
       "out_path = hdfs:///user/pheno/correlation/\n",
       "band_num = 3\n",
       "satellite_first_year = 1989\n",
       "satellite_last_year = 2014\n",
       "model_first_year = 1988\n",
       "model_last_year = 2014\n",
       "toBeMasked = true\n",
       "mask_path = hdfs:///user/hadoop/usa_mask.tif\n",
       "save_rdds = true\n",
       "save_matrix = true\n"
      ]
     },
     "metadata": {},
     "output_type": "display_data"
    },
    {
     "data": {
      "text/plain": [
       "true"
      ]
     },
     "execution_count": 2,
     "metadata": {},
     "output_type": "execute_result"
    }
   ],
   "source": [
    "var model_rdd_offline_mode = true\n",
    "var model_matrix_offline_mode = true\n",
    "var satellite_rdd_offline_mode = true\n",
    "var satellite_matrix_offline_mode = true\n",
    "\n",
    "//Using spring-index model\n",
    "var model_path = \"hdfs:///user/hadoop/spring-index/\"\n",
    "var model_dir = \"BloomFinal\"\n",
    "\n",
    "//Using AVHRR Satellite data\n",
    "var satellite_path = \"hdfs:///user/hadoop/spring-index/\"\n",
    "var satellite_dir = \"LeafFinal\"\n",
    "\n",
    "var out_path = \"hdfs:///user/pheno/correlation/\"\n",
    "var band_num = 3\n",
    "\n",
    "//Years between (inclusive) 1989 - 2014\n",
    "var satellite_first_year = 1989\n",
    "var satellite_last_year = 2014\n",
    "\n",
    "//Years between (inclusive) 1980 - 2015\n",
    "var model_first_year = 1988\n",
    "var model_last_year = 2014\n",
    "\n",
    "//Mask\n",
    "val toBeMasked = true\n",
    "val mask_path = \"hdfs:///user/hadoop/usa_mask.tif\"\n",
    "\n",
    "val save_rdds = true\n",
    "val save_matrix = true"
   ]
  },
  {
   "cell_type": "markdown",
   "metadata": {},
   "source": [
    "\n",
    "<span style=\"color:red\">DON'T MODIFY ANY PIECE OF CODE FROM HERE ON!!!</span>.\n"
   ]
  },
  {
   "cell_type": "markdown",
   "metadata": {},
   "source": [
    "### Mode of operation validation"
   ]
  },
  {
   "cell_type": "code",
   "execution_count": 3,
   "metadata": {},
   "outputs": [
    {
     "data": {
      "text/plain": [
       "Waiting for a Spark session to start..."
      ]
     },
     "metadata": {},
     "output_type": "display_data"
    },
    {
     "name": "stdout",
     "output_type": "stream",
     "text": [
      "Since we have a matrix, the load of the grids RDD will be skipped!!!\n",
      "Since we have a matrix, the load of the grids RDD will be skipped!!!\n"
     ]
    },
    {
     "data": {
      "text/plain": [
       "conf = Configuration: core-default.xml, core-site.xml, mapred-default.xml, mapred-site.xml, yarn-default.xml, yarn-site.xml, hdfs-default.xml, hdfs-site.xml, file:/usr/lib/spark-2.1.1-bin-without-hadoop/conf/hive-site.xml\n",
       "fs = DFS[DFSClient[clientName=DFSClient_NONMAPREDUCE_1408223690_36, ugi=pheno (auth:SIMPLE)]]\n",
       "mask_str = _mask\n",
       "model_grid0_path = hdfs:///user/pheno/correlation/BloomFinal_model_grid0\n",
       "model_grid0_index_path = hdfs:///user/pheno/correlation/BloomFinal_model_grid0_index\n",
       "model_grid_path = hdfs:///user/pheno/correlation/BloomFinal_model_grid\n",
       "satellite_grid_path = hdfs:///user/pheno/correlation/LeafFinal_model_grid\n",
       "model_matrix_path = hdfs:///user/pheno/cor...\n"
      ]
     },
     "metadata": {},
     "output_type": "display_data"
    },
    {
     "data": {
      "text/plain": [
       "hdfs:///user/pheno/correlation/BloomFinal_model_matrix"
      ]
     },
     "execution_count": 3,
     "metadata": {},
     "output_type": "execute_result"
    }
   ],
   "source": [
    "//Check offline modes\n",
    "var conf = sc.hadoopConfiguration\n",
    "var fs = org.apache.hadoop.fs.FileSystem.get(conf)\n",
    "\n",
    "//Paths to store data structures for Offline runs\n",
    "var mask_str = \"\"\n",
    "if (toBeMasked)\n",
    "  mask_str = \"_mask\"\n",
    "var model_grid0_path = out_path + model_dir + \"_model_grid0\"\n",
    "var model_grid0_index_path = out_path + model_dir + \"_model_grid0_index\"\n",
    "\n",
    "var model_grid_path = out_path + model_dir + \"_model_grid\"\n",
    "var satellite_grid_path = out_path + satellite_dir + \"_model_grid\"\n",
    "var model_matrix_path = out_path + model_dir + \"_model_matrix\"\n",
    "var satellite_matrix_path = out_path + satellite_dir + \"_model_matrix\"\n",
    "var metadata_path = out_path + model_dir + \"_metadata\"\n",
    "\n",
    "val model_rdd_offline_exists = fs.exists(new org.apache.hadoop.fs.Path(model_grid_path))\n",
    "val model_matrix_offline_exists = fs.exists(new org.apache.hadoop.fs.Path(model_matrix_path))\n",
    "val satellite_rdd_offline_exists = fs.exists(new org.apache.hadoop.fs.Path(satellite_grid_path))\n",
    "val satellite_matrix_offline_exists = fs.exists(new org.apache.hadoop.fs.Path(satellite_matrix_path))\n",
    "\n",
    "if (model_rdd_offline_mode != model_rdd_offline_exists) {\n",
    "  println(\"\\\"Load GeoTiffs\\\" offline mode is not set properly, i.e., either it was set to false and the required file does not exist or vice-versa. We will reset it to \" + model_rdd_offline_exists.toString())\n",
    "  model_rdd_offline_mode = model_rdd_offline_exists\n",
    "}\n",
    "\n",
    "if (model_matrix_offline_mode != model_matrix_offline_exists) {\n",
    "  println(\"\\\"Matrix\\\" offline mode is not set properly, i.e., either it was set to false and the required file does not exist or vice-versa. We will reset it to \" + model_matrix_offline_exists.toString())\n",
    "  model_matrix_offline_mode = model_matrix_offline_exists\n",
    "}\n",
    "\n",
    "var model_skip_rdd = false\n",
    "if (model_matrix_offline_exists) {\n",
    "    println(\"Since we have a matrix, the load of the grids RDD will be skipped!!!\")\n",
    "    model_skip_rdd = true\n",
    "}\n",
    "\n",
    "if (satellite_rdd_offline_mode != satellite_rdd_offline_exists) {\n",
    "  println(\"\\\"Load GeoTiffs\\\" offline mode is not set properly, i.e., either it was set to false and the required file does not exist or vice-versa. We will reset it to \" + satellite_rdd_offline_exists.toString())\n",
    "  satellite_rdd_offline_mode = satellite_rdd_offline_exists\n",
    "}\n",
    "\n",
    "if (satellite_matrix_offline_mode != satellite_matrix_offline_exists) {\n",
    "  println(\"\\\"Matrix\\\" offline mode is not set properly, i.e., either it was set to false and the required file does not exist or vice-versa. We will reset it to \" + satellite_matrix_offline_exists.toString())\n",
    "  satellite_matrix_offline_mode = satellite_matrix_offline_exists\n",
    "}\n",
    "\n",
    "var satellite_skip_rdd = false\n",
    "if (satellite_matrix_offline_exists) {\n",
    "    println(\"Since we have a matrix, the load of the grids RDD will be skipped!!!\")\n",
    "    satellite_skip_rdd = true\n",
    "}\n",
    "\n",
    "var corr_tif = out_path + satellite_dir + \"_\" + model_dir + \".tif\"\n",
    "var corr_tif_tmp = \"/tmp/correlation_\" + satellite_dir + \"_\" + model_dir + \".tif\"\n",
    "\n",
    "//Years\n",
    "val satellite_years = 1989 to 2014\n",
    "val model_years = 1980 to 2015\n",
    "\n",
    "if (!satellite_years.contains(satellite_first_year) || !(satellite_years.contains(satellite_last_year))) {\n",
    "  println(\"Invalid range of years for \" + satellite_dir + \". I should be between \" + satellite_first_year + \" and \" + satellite_last_year)\n",
    "  System.exit(0)\n",
    "}\n",
    "\n",
    "if (!model_years.contains(model_first_year) || !(model_years.contains(model_last_year))) {\n",
    "  println(\"Invalid range of years for \" + model_dir + \". I should be between \" + model_first_year + \" and \" + model_last_year)\n",
    "  System.exit(0)\n",
    "}\n",
    "\n",
    "if ( ((satellite_last_year - model_first_year) > (model_last_year - model_first_year)) || ((satellite_last_year - model_first_year) > (model_last_year - model_first_year))) {\n",
    "  println(\"The range of years for each data set should be of the same length.\");\n",
    "  System.exit(0)\n",
    "}\n",
    "\n",
    "var model_years_range = (model_years.indexOf(model_first_year), model_years.indexOf(model_last_year))\n",
    "var satellite_years_range = (satellite_years.indexOf(satellite_first_year), satellite_years.indexOf(satellite_last_year))\n",
    "\n",
    "//Global variables\n",
    "var projected_extent = new ProjectedExtent(new Extent(0,0,0,0), CRS.fromName(\"EPSG:3857\"))\n",
    "var model_grid0: RDD[(Long, Double)] = sc.emptyRDD\n",
    "var model_grid0_index: RDD[Long] = sc.emptyRDD\n",
    "var grids_RDD: RDD[Array[Double]] = sc.emptyRDD\n",
    "var model_grids_RDD: RDD[Array[Double]] = sc.emptyRDD\n",
    "var model_grids: RDD[Array[Double]] = sc.emptyRDD\n",
    "var satellite_grids_RDD: RDD[Array[Double]] = sc.emptyRDD\n",
    "var satellite_grids: RDD[Array[Double]] = sc.emptyRDD\n",
    "var num_cols_rows :(Int, Int) = (0, 0)\n",
    "var cellT :CellType = UByteCellType\n",
    "var mask_tile0 :Tile = new SinglebandGeoTiff(geotrellis.raster.ArrayTile.empty(cellT, num_cols_rows._1, num_cols_rows._2), projected_extent.extent, projected_extent.crs, Tags.empty, GeoTiffOptions.DEFAULT).tile\n",
    "var satellite_cells_size :Long = 0\n",
    "var model_cells_size :Long = 0\n",
    "var t0 : Long = 0\n",
    "var t1 : Long = 0"
   ]
  },
  {
   "cell_type": "code",
   "execution_count": 4,
   "metadata": {},
   "outputs": [
    {
     "data": {
      "text/plain": [
       "hdfs:///user/pheno/correlation/LeafFinal_model_matrix"
      ]
     },
     "execution_count": 4,
     "metadata": {},
     "output_type": "execute_result"
    }
   ],
   "source": [
    "satellite_matrix_path"
   ]
  },
  {
   "cell_type": "markdown",
   "metadata": {},
   "source": [
    "## Functions to (de)serialize any structure into Array[Byte]"
   ]
  },
  {
   "cell_type": "code",
   "execution_count": 5,
   "metadata": {},
   "outputs": [
    {
     "data": {
      "text/plain": [
       "serialize: (value: Any)Array[Byte]\n",
       "deserialize: (bytes: Array[Byte])Any\n"
      ]
     },
     "metadata": {},
     "output_type": "display_data"
    }
   ],
   "source": [
    "def serialize(value: Any): Array[Byte] = {\n",
    "    val out_stream: ByteArrayOutputStream = new ByteArrayOutputStream()\n",
    "    val obj_out_stream = new ObjectOutputStream(out_stream)\n",
    "    obj_out_stream.writeObject(value)\n",
    "    obj_out_stream.close\n",
    "    out_stream.toByteArray\n",
    "}\n",
    "\n",
    "def deserialize(bytes: Array[Byte]): Any = {\n",
    "    val obj_in_stream = new ObjectInputStream(new ByteArrayInputStream(bytes))\n",
    "    val value = obj_in_stream.readObject\n",
    "    obj_in_stream.close\n",
    "    value\n",
    "}"
   ]
  },
  {
   "cell_type": "markdown",
   "metadata": {},
   "source": [
    "## Load GeoTiffs\n",
    "\n",
    "Using GeoTrellis all GeoTiffs of a directory will be loaded into a RDD. Using the RDD, we extract a grid from the first file to lated store the Kmeans cluster_IDS, we build an Index for populate such grid and we filter out here all NaN values."
   ]
  },
  {
   "cell_type": "code",
   "execution_count": 6,
   "metadata": {},
   "outputs": [
    {
     "name": "stdout",
     "output_type": "stream",
     "text": [
      "Elapsed time: 122137ns\n"
     ]
    },
    {
     "data": {
      "text/plain": [
       "t0 = 99704405992271\n",
       "pattern = tif\n",
       "satellite_filepath = hdfs:///user/hadoop/spring-index/LeafFinal\n",
       "model_filepath = hdfs:///user/hadoop/spring-index//BloomFinal\n",
       "t1 = 99704406114408\n"
      ]
     },
     "metadata": {},
     "output_type": "display_data"
    },
    {
     "data": {
      "text/plain": [
       "99704406114408"
      ]
     },
     "execution_count": 6,
     "metadata": {},
     "output_type": "execute_result"
    }
   ],
   "source": [
    "t0 = System.nanoTime()\n",
    "\n",
    "//Load Mask\n",
    "if (!(model_skip_rdd && satellite_skip_rdd)  && toBeMasked) {\n",
    "  val mask_tiles_RDD = sc.hadoopGeoTiffRDD(mask_path).values\n",
    "  val mask_tiles_withIndex = mask_tiles_RDD.zipWithIndex().map{case (e,v) => (v,e)}\n",
    "  mask_tile0 = (mask_tiles_withIndex.filter(m => m._1==0).filter(m => !m._1.isNaN).values.collect())(0)\n",
    "}\n",
    "\n",
    "//Local variables\n",
    "val pattern: String = \"tif\"\n",
    "val satellite_filepath: String = satellite_path + satellite_dir\n",
    "val model_filepath: String = model_path + \"/\" + model_dir\n",
    "\n",
    "t1 = System.nanoTime()\n",
    "println(\"Elapsed time: \" + (t1 - t0) + \"ns\")"
   ]
  },
  {
   "cell_type": "code",
   "execution_count": 7,
   "metadata": {},
   "outputs": [
    {
     "data": {
      "text/plain": [
       "0"
      ]
     },
     "execution_count": 7,
     "metadata": {},
     "output_type": "execute_result"
    }
   ],
   "source": [
    "mask_tile0.size"
   ]
  },
  {
   "cell_type": "markdown",
   "metadata": {},
   "source": [
    "### Satellite data"
   ]
  },
  {
   "cell_type": "code",
   "execution_count": 8,
   "metadata": {},
   "outputs": [
    {
     "name": "stdout",
     "output_type": "stream",
     "text": [
      "Elapsed time: 11527ns\n"
     ]
    },
    {
     "data": {
      "text/plain": [
       "t0 = 99706927794900\n",
       "t1 = 99706927806427\n"
      ]
     },
     "metadata": {},
     "output_type": "display_data"
    },
    {
     "data": {
      "text/plain": [
       "99706927806427"
      ]
     },
     "execution_count": 8,
     "metadata": {},
     "output_type": "execute_result"
    }
   ],
   "source": [
    "t0 = System.nanoTime()\n",
    "if (!satellite_skip_rdd) {\n",
    "    if (satellite_rdd_offline_mode) {\n",
    "      satellite_grids_RDD = sc.objectFile(satellite_grid_path)\n",
    "    } else {\n",
    "      //Lets load MODIS Singleband GeoTiffs and return RDD just with the tiles.\n",
    "      val satellite_geos_RDD = sc.hadoopGeoTiffRDD(satellite_filepath, pattern)\n",
    "      val satellite_tiles_RDD = satellite_geos_RDD.values\n",
    "\n",
    "      if (toBeMasked) {\n",
    "        val mask_tile_broad :Broadcast[Tile] = sc.broadcast(mask_tile0)\n",
    "        satellite_grids_RDD = satellite_tiles_RDD.map(m => m.localInverseMask(mask_tile_broad.value, 1, -1000).toArrayDouble().filter(_ != -1000))\n",
    "      } else {\n",
    "        satellite_grids_RDD = satellite_tiles_RDD.map(m => m.toArrayDouble())\n",
    "      }\n",
    "\n",
    "      //Store in HDFS\n",
    "      if (save_rdds) {\n",
    "          satellite_grids_RDD.saveAsObjectFile(satellite_grid_path)\n",
    "      }\n",
    "    }\n",
    "    val satellite_grids_withIndex = satellite_grids_RDD.zipWithIndex().map { case (e, v) => (v, e) }\n",
    "\n",
    "    //Filter out the range of years:\n",
    "    satellite_grids = satellite_grids_withIndex.filterByRange(satellite_years_range._1, satellite_years_range._2).values\n",
    "\n",
    "    var satellite_grid0_index: RDD[Double] = satellite_grids_withIndex.filter(m => m._1 == 0).values.flatMap(m => m)\n",
    "    satellite_cells_size = satellite_grid0_index.count().toInt\n",
    "    println(\"Number of cells is: \" + satellite_cells_size)\n",
    "}\n",
    "t1 = System.nanoTime()\n",
    "println(\"Elapsed time: \" + (t1 - t0) + \"ns\")"
   ]
  },
  {
   "cell_type": "code",
   "execution_count": 9,
   "metadata": {},
   "outputs": [
    {
     "data": {
      "text/plain": [
       "0"
      ]
     },
     "execution_count": 9,
     "metadata": {},
     "output_type": "execute_result"
    }
   ],
   "source": [
    "mask_tile0.size"
   ]
  },
  {
   "cell_type": "markdown",
   "metadata": {},
   "source": [
    "### Model data"
   ]
  },
  {
   "cell_type": "code",
   "execution_count": 10,
   "metadata": {},
   "outputs": [
    {
     "name": "stdout",
     "output_type": "stream",
     "text": [
      "Number of cells is: 10115631                                                    \n",
      "Elapsed time: 13673908340ns\n"
     ]
    },
    {
     "data": {
      "text/plain": [
       "t0 = 99708868750106\n",
       "model_grids_withIndex = MapPartitionsRDD[16] at map at <console>:168\n",
       "model_grids = MapPartitionsRDD[18] at values at <console>:171\n",
       "model_tile0_index = MapPartitionsRDD[21] at flatMap at <console>:173\n",
       "model_cells_size = 10115631\n",
       "t1 = 99722542658446\n"
      ]
     },
     "metadata": {},
     "output_type": "display_data"
    },
    {
     "data": {
      "text/plain": [
       "99722542658446"
      ]
     },
     "execution_count": 10,
     "metadata": {},
     "output_type": "execute_result"
    }
   ],
   "source": [
    "t0 = System.nanoTime()\n",
    "if (model_rdd_offline_mode) {\n",
    "  model_grids_RDD = sc.objectFile(model_grid_path)\n",
    "  model_grid0 = sc.objectFile(model_grid0_path)\n",
    "  model_grid0_index = sc.objectFile(model_grid0_index_path)\n",
    "\n",
    "  val metadata = sc.sequenceFile(metadata_path, classOf[IntWritable], classOf[BytesWritable]).map(_._2.copyBytes()).collect()\n",
    "  projected_extent = deserialize(metadata(0)).asInstanceOf[ProjectedExtent]\n",
    "  num_cols_rows = (deserialize(metadata(1)).asInstanceOf[Int], deserialize(metadata(2)).asInstanceOf[Int])\n",
    "  cellT = deserialize(metadata(3)).asInstanceOf[CellType]  \n",
    "} else {\n",
    "  val model_geos_RDD = sc.hadoopMultibandGeoTiffRDD(model_filepath, pattern)\n",
    "  val model_tiles_RDD = model_geos_RDD.values\n",
    "\n",
    "  //Retrieve the number of cols and rows of the Tile's grid\n",
    "  val tiles_withIndex = model_tiles_RDD.zipWithIndex().map{case (v,i) => (i,v)}\n",
    "  val tile0 = (tiles_withIndex.filter(m => m._1==0).values.collect())(0)\n",
    "\n",
    "  num_cols_rows = (tile0.cols, tile0.rows)\n",
    "  cellT = tile0.cellType\n",
    "\n",
    "  //Retrieve the ProjectExtent which contains metadata such as CRS and bounding box\n",
    "  val projected_extents_withIndex = model_geos_RDD.keys.zipWithIndex().map{case (e,v) => (v,e)}\n",
    "  projected_extent = (projected_extents_withIndex.filter(m => m._1 == 0).values.collect())(0)\n",
    "\n",
    "  val band_numB :Broadcast[Int] = sc.broadcast(band_num)\n",
    "  if (toBeMasked) {\n",
    "    val mask_tile_broad :Broadcast[Tile] = sc.broadcast(mask_tile0)\n",
    "    grids_RDD = model_tiles_RDD.map(m => m.band(band_numB.value).localInverseMask(mask_tile_broad.value, 1, -1000).toArrayDouble())\n",
    "  } else {\n",
    "    grids_RDD = model_tiles_RDD.map(m => m.band(band_numB.value).toArrayDouble())\n",
    "  }\n",
    "\n",
    "  //Get Index for each Cell\n",
    "  val grids_withIndex = grids_RDD.zipWithIndex().map { case (e, v) => (v, e) }\n",
    "  if (toBeMasked) {\n",
    "    model_grid0_index = grids_withIndex.filter(m => m._1 == 0).values.flatMap(m => m).zipWithIndex.filter(m => m._1 != -1000.0).map { case (v, i) => (i) }\n",
    "  } else {\n",
    "    model_grid0_index = grids_withIndex.filter(m => m._1 == 0).values.flatMap(m => m).zipWithIndex.map { case (v, i) => (i) }\n",
    "  }\n",
    "\n",
    "  //Get the Tile's grid\n",
    "  model_grid0 = grids_withIndex.filter(m => m._1 == 0).values.flatMap( m => m).zipWithIndex.map{case (v,i) => (i,v)}\n",
    "\n",
    "  //Lets filter out NaN\n",
    "  if (toBeMasked) {\n",
    "    model_grids_RDD = grids_RDD.map(m => m.filter(m => m != -1000.0))\n",
    "  } else {\n",
    "    model_grids_RDD = grids_RDD\n",
    "  }\n",
    "\n",
    "  //Store data in HDFS\n",
    "  if (save_rdds) {\n",
    "      model_grid0.saveAsObjectFile(model_grid0_path)\n",
    "      model_grid0_index.saveAsObjectFile(model_grid0_index_path)\n",
    "      model_grids_RDD.saveAsObjectFile(model_grid_path)\n",
    "\n",
    "      val writer: SequenceFile.Writer = SequenceFile.createWriter(conf,\n",
    "        Writer.file(metadata_path),\n",
    "        Writer.keyClass(classOf[IntWritable]),\n",
    "        Writer.valueClass(classOf[BytesWritable])\n",
    "      )\n",
    "\n",
    "      writer.append(new IntWritable(1), new BytesWritable(serialize(projected_extent)))\n",
    "      writer.append(new IntWritable(2), new BytesWritable(serialize(num_cols_rows._1)))\n",
    "      writer.append(new IntWritable(3), new BytesWritable(serialize(num_cols_rows._2)))\n",
    "      writer.append(new IntWritable(4), new BytesWritable(serialize(cellT)))\n",
    "      writer.hflush()\n",
    "      writer.close()\n",
    "  }\n",
    "}\n",
    "val model_grids_withIndex = model_grids_RDD.zipWithIndex().map { case (e, v) => (v, e) }\n",
    "\n",
    "//Filter out the range of years:\n",
    "model_grids = model_grids_withIndex.filterByRange(model_years_range._1, model_years_range._2).values\n",
    "\n",
    "var model_tile0_index: RDD[Double] = model_grids_withIndex.filter(m => m._1 == 0).values.flatMap(m => m)\n",
    "model_cells_size = model_tile0_index.count().toInt\n",
    "println(\"Number of cells is: \" + model_cells_size)\n",
    "\n",
    "t1 = System.nanoTime()\n",
    "println(\"Elapsed time: \" + (t1 - t0) + \"ns\")"
   ]
  },
  {
   "cell_type": "markdown",
   "metadata": {},
   "source": [
    "## Matrix\n",
    "\n",
    "We need to do a Matrix transpose to have clusters per cell and not per year. With a GeoTiff representing a single year, the loaded data looks liks this:\n",
    "```\n",
    "bands_RDD.map(s => Vectors.dense(s)).cache()\n",
    "\n",
    "//The vectors are rows and therefore the matrix will look like this:\n",
    "[\n",
    "Vectors.dense(0.0, 1.0, 2.0),\n",
    "Vectors.dense(3.0, 4.0, 5.0),\n",
    "Vectors.dense(6.0, 7.0, 8.0),\n",
    "Vectors.dense(9.0, 0.0, 1.0)\n",
    "]\n",
    "```\n",
    "\n",
    "To achieve that we convert the **RDD[Vector]** into a distributed Matrix, a [**CoordinateMatrix**](https://spark.apache.org/docs/latest/mllib-data-types.html#coordinatematrix), which as a **transpose** method."
   ]
  },
  {
   "cell_type": "markdown",
   "metadata": {},
   "source": [
    "### Satellite data"
   ]
  },
  {
   "cell_type": "code",
   "execution_count": 11,
   "metadata": {},
   "outputs": [
    {
     "name": "stdout",
     "output_type": "stream",
     "text": [
      "Elapsed time: 41386059ns\n"
     ]
    },
    {
     "data": {
      "text/plain": [
       "t0 = 99725166447465\n",
       "satellite_matrix = MapPartitionsRDD[24] at objectFile at <console>:77\n",
       "satellite_cells_sizeB = Broadcast(7)\n",
       "t1 = 99725207833524\n"
      ]
     },
     "metadata": {},
     "output_type": "display_data"
    },
    {
     "data": {
      "text/plain": [
       "99725207833524"
      ]
     },
     "execution_count": 11,
     "metadata": {},
     "output_type": "execute_result"
    }
   ],
   "source": [
    "t0 = System.nanoTime()\n",
    "//Global variables\n",
    "var satellite_matrix: RDD[mllib.linalg.Vector] = sc.emptyRDD\n",
    "val satellite_cells_sizeB = sc.broadcast(satellite_cells_size)\n",
    "if (satellite_matrix_offline_mode) {\n",
    "  satellite_matrix = sc.objectFile(satellite_matrix_path)\n",
    "} else {\n",
    "  val mat :RowMatrix = new RowMatrix(satellite_grids_RDD.map(m => m.zipWithIndex).map(m => m.filter(!_._1.isNaN)).map(m => Vectors.sparse(satellite_cells_sizeB.value.toInt, m.map(v => v._2), m.map(v => v._1))))\n",
    "  // Split the matrix into one number per line.\n",
    "  val byColumnAndRow = mat.rows.zipWithIndex.map {\n",
    "    case (row, rowIndex) => row.toArray.zipWithIndex.map {\n",
    "      case (number, columnIndex) => new MatrixEntry(rowIndex, columnIndex, number)\n",
    "    }\n",
    "  }.flatMap(x => x)\n",
    "\n",
    "  val matt: CoordinateMatrix = new CoordinateMatrix(byColumnAndRow)\n",
    "  val matt_T = matt.transpose()\n",
    "\n",
    "  satellite_matrix = matt_T.toIndexedRowMatrix().rows.sortBy(_.index).map(_.vector)\n",
    "  if (save_matrix) {\n",
    "      satellite_matrix.saveAsObjectFile(satellite_matrix_path)\n",
    "  }\n",
    "}\n",
    "\n",
    "t1 = System.nanoTime()\n",
    "println(\"Elapsed time: \" + (t1 - t0) + \"ns\")"
   ]
  },
  {
   "cell_type": "markdown",
   "metadata": {},
   "source": [
    "### Model Data"
   ]
  },
  {
   "cell_type": "code",
   "execution_count": 12,
   "metadata": {},
   "outputs": [
    {
     "name": "stdout",
     "output_type": "stream",
     "text": [
      "Elapsed time: 27309071ns\n"
     ]
    },
    {
     "data": {
      "text/plain": [
       "t0 = 99726673134833\n",
       "model_matrix = MapPartitionsRDD[27] at objectFile at <console>:79\n",
       "model_cells_sizeB = Broadcast(9)\n",
       "t1 = 99726700443904\n"
      ]
     },
     "metadata": {},
     "output_type": "display_data"
    },
    {
     "data": {
      "text/plain": [
       "99726700443904"
      ]
     },
     "execution_count": 12,
     "metadata": {},
     "output_type": "execute_result"
    }
   ],
   "source": [
    "t0 = System.nanoTime()\n",
    "\n",
    "//Global variables\n",
    "var model_matrix: RDD[mllib.linalg.Vector] = sc.emptyRDD\n",
    "\n",
    "val model_cells_sizeB = sc.broadcast(model_cells_size)\n",
    "if (model_matrix_offline_mode) {\n",
    "  model_matrix = sc.objectFile(model_matrix_path)\n",
    "} else {\n",
    "  val mat :RowMatrix = new RowMatrix(model_grids.map(m => m.zipWithIndex).map(m => m.filter(!_._1.isNaN)).map(m => Vectors.sparse(model_cells_sizeB.value.toInt, m.map(v => v._2), m.map(v => v._1))))\n",
    "  // Split the matrix into one number per line.\n",
    "  val byColumnAndRow = mat.rows.zipWithIndex.map {\n",
    "    case (row, rowIndex) => row.toArray.zipWithIndex.map {\n",
    "      case (number, columnIndex) => new MatrixEntry(rowIndex, columnIndex, number)\n",
    "    }\n",
    "  }.flatMap(x => x)\n",
    "\n",
    "  val matt: CoordinateMatrix = new CoordinateMatrix(byColumnAndRow)\n",
    "  val matt_T = matt.transpose()\n",
    "\n",
    "  model_matrix = matt_T.toIndexedRowMatrix().rows.sortBy(_.index).map(_.vector)\n",
    "  \n",
    "  if (save_matrix) {\n",
    "      model_matrix.saveAsObjectFile(model_matrix_path)\n",
    "  }\n",
    "}\n",
    "\n",
    "t1 = System.nanoTime()\n",
    "println(\"Elapsed time: \" + (t1 - t0) + \"ns\")"
   ]
  },
  {
   "cell_type": "markdown",
   "metadata": {},
   "source": [
    "### Validation"
   ]
  },
  {
   "cell_type": "code",
   "execution_count": 13,
   "metadata": {},
   "outputs": [
    {
     "name": "stdout",
     "output_type": "stream",
     "text": [
      "[Stage 4:=======================================================> (32 + 1) / 33]"
     ]
    },
    {
     "data": {
      "text/plain": [
       "model_matrix_rows = 10115631\n",
       "satellite_matrix_rows = 10115631\n"
      ]
     },
     "metadata": {},
     "output_type": "display_data"
    },
    {
     "data": {
      "text/plain": [
       "10115631"
      ]
     },
     "execution_count": 13,
     "metadata": {},
     "output_type": "execute_result"
    }
   ],
   "source": [
    "var model_matrix_rows = model_matrix.count()\n",
    "var satellite_matrix_rows = satellite_matrix.count()\n",
    "\n",
    "if (model_matrix_rows != satellite_matrix_rows) {\n",
    "  println(\"For correlation it is necessary to have a matrix with same number of rows and columns!!!\")\n",
    "  println(\"Model matrix has \" + model_matrix_rows + \" rows while satellite matrix has \" + satellite_matrix_rows + \" rows!!!\")\n",
    "  //System.exit(0)\n",
    "}"
   ]
  },
  {
   "cell_type": "markdown",
   "metadata": {},
   "source": [
    "## Correlation\n",
    "\n",
    "Inpired in https://gist.github.com/kaja47/6722683"
   ]
  },
  {
   "cell_type": "code",
   "execution_count": 14,
   "metadata": {},
   "outputs": [
    {
     "name": "stdout",
     "output_type": "stream",
     "text": [
      "[Stage 6:=====================================================>   (30 + 2) / 32]"
     ]
    },
    {
     "data": {
      "text/plain": [
       "satellite = MapPartitionsRDD[29] at map at <console>:65\n",
       "model = MapPartitionsRDD[31] at map at <console>:66\n",
       "satellite_model = MapPartitionsRDD[34] at join at <console>:67\n",
       "satellite_model_V = MapPartitionsRDD[35] at map at <console>:68\n"
      ]
     },
     "metadata": {},
     "output_type": "display_data"
    },
    {
     "data": {
      "text/plain": [
       "MapPartitionsRDD[35] at map at <console>:68"
      ]
     },
     "execution_count": 14,
     "metadata": {},
     "output_type": "execute_result"
    }
   ],
   "source": [
    "val satellite :RDD[(Long, Array[Double])] = satellite_matrix.zipWithIndex().map{ case (v, i) => (i,v.toArray)}\n",
    "val model :RDD[(Long, Array[Double])] = model_matrix.zipWithIndex().map{case (v,i) => (i, v.toArray)}\n",
    "val satellite_model = satellite.join(model)\n",
    "val satellite_model_V = satellite_model.map{ case (a,(b, c)) => (a, (new breeze.linalg.DenseVector[Double](b), new breeze.linalg.DenseVector[Double](c)))}\n"
   ]
  },
  {
   "cell_type": "code",
   "execution_count": 15,
   "metadata": {},
   "outputs": [
    {
     "name": "stdout",
     "output_type": "stream",
     "text": [
      "[Stage 9:=======================================================> (31 + 1) / 32]"
     ]
    },
    {
     "data": {
      "text/plain": [
       "satellite_yearsB = Broadcast(15)\n",
       "satellite_model_corr = ShuffledRDD[39] at sortByKey at <console>:138\n"
      ]
     },
     "metadata": {},
     "output_type": "display_data"
    },
    {
     "data": {
      "text/plain": [
       "ShuffledRDD[39] at sortByKey at <console>:138"
      ]
     },
     "execution_count": 15,
     "metadata": {},
     "output_type": "execute_result"
    }
   ],
   "source": [
    "val satellite_yearsB = sc.broadcast(satellite_years)\n",
    "val satellite_model_corr = satellite_model_V.map{ case (i, (b, a)) => ( i, \n",
    "    {\n",
    "        val isLeapYear = (year: Int) => (((year % 4) == 0) && !(\n",
    "          ((year % 100) == 0) &&\n",
    "            !((year % 400) == 0))\n",
    "          )\n",
    "        //a is model, b is satellite (model has an extra day)\n",
    "        var n = a.length\n",
    "        val aC :Array[Double] = new Array[Double](n*2)\n",
    "        val bC = new Array[Double](n*2)\n",
    "        \n",
    "        for (i <- 0 until (n*2)) {\n",
    "          aC(i) = Double.NaN\n",
    "          bC(i) = Double.NaN\n",
    "        }\n",
    "        \n",
    "        var k = 0\n",
    "        for (i <- 0 until (n)) {\n",
    "          aC(k) = a(i)\n",
    "          aC(k+1) = a(i)\n",
    "          if (i > 0)\n",
    "              bC(k) = b(i-1)\n",
    "          k += 2\n",
    "        }\n",
    "\n",
    "        //Let's shift the negative days\n",
    "        var neg_cnt = 0\n",
    "        for (i <- 1 until (n)) {\n",
    "          if (bC(i*2) < 0) {\n",
    "            neg_cnt += 1\n",
    "            if (isLeapYear(satellite_yearsB.value(i-1))) {\n",
    "              bC((i * 2) - 1) = 367 - bC(i * 2)  \n",
    "            } else {\n",
    "              bC((i * 2) - 1) = 366 - bC(i * 2)  \n",
    "            }      \n",
    "            bC(i*2) = Double.NaN\n",
    "          } //else {\n",
    "            //  bC(i*2) = bC(i*2) + 1\n",
    "          //}\n",
    "        }\n",
    "\n",
    "        for (i <- 0 until (n*2)) {\n",
    "          if (bC(i).isNaN)\n",
    "            aC(i) = Double.NaN\n",
    "        }\n",
    "\n",
    "        val aC_NoNAN = new breeze.linalg.DenseVector[Double](aC.filter(!_.isNaN))\n",
    "        val bC_NoNAN = new breeze.linalg.DenseVector[Double](bC.filter(!_.isNaN))\n",
    "\n",
    "        if (aC_NoNAN.length > bC_NoNAN.length) {\n",
    "            assert(false)\n",
    "        }\n",
    "          \n",
    "        n = aC_NoNAN.length\n",
    "        val ameanavar = meanAndVariance(aC_NoNAN)\n",
    "        val amean = ameanavar.mean\n",
    "        val avar = ameanavar.variance\n",
    "        val bmeanbvar = meanAndVariance(bC_NoNAN)\n",
    "        val bmean = bmeanbvar.mean\n",
    "        val bvar = bmeanbvar.variance\n",
    "        val astddev = math.sqrt(avar)\n",
    "        val bstddev = math.sqrt(bvar)\n",
    "\n",
    "        ((1.0 / (n - 1.0) * sum( ((aC_NoNAN - amean) / astddev) :* ((bC_NoNAN - bmean) / bstddev) )), n , neg_cnt)\n",
    "})\n",
    "}.sortByKey()"
   ]
  },
  {
   "cell_type": "markdown",
   "metadata": {},
   "source": [
    "## Build GeoTiff with Kmeans cluster_IDs\n",
    "\n",
    "The Grid with the cluster IDs is stored in a SingleBand GeoTiff and uploaded to HDFS."
   ]
  },
  {
   "cell_type": "markdown",
   "metadata": {},
   "source": [
    "### Assign cluster ID to each grid cell and save the grid as SingleBand GeoTiff\n",
    "\n",
    "To assign the clusterID to each grid cell it is necessary to get the indices of gird cells they belong to. The process is not straight forward because the ArrayDouble used for the creation of each dense Vector does not contain the NaN values, therefore there is not a direct between the indices in the Tile's grid and the ones in **kmeans_res** (kmeans result).\n",
    "\n",
    "To join the two RDDS the knowledge was obtaing from a stackoverflow post on [how to perform basic joins of two rdd tables in spark using python](https://stackoverflow.com/questions/31257077/how-do-you-perform-basic-joins-of-two-rdd-tables-in-spark-using-python)."
   ]
  },
  {
   "cell_type": "markdown",
   "metadata": {},
   "source": [
    "#### Correlation"
   ]
  },
  {
   "cell_type": "code",
   "execution_count": null,
   "metadata": {},
   "outputs": [
    {
     "name": "stdout",
     "output_type": "stream",
     "text": [
      "[Stage 27:======================================================> (31 + 1) / 32]DEPRECATED: Use of this script to execute hdfs command is deprecated.\n",
      "Instead use the hdfs command for it.\n",
      "\n"
     ]
    },
    {
     "data": {
      "text/plain": [
       "corr_res_b = MapPartitionsRDD[40] at map at <console>:85\n",
       "corr_cell_pos = MapPartitionsRDD[46] at map at <console>:87\n",
       "grid_corr = MapPartitionsRDD[51] at leftOuterJoin at <console>:90\n",
       "grid_corr_res = MapPartitionsRDD[55] at map at <console>:93\n",
       "corr_cells = Array(NaN, NaN, NaN, NaN, NaN, NaN, NaN, NaN, NaN, NaN, NaN, NaN, NaN, NaN, NaN, NaN, NaN, NaN, NaN, NaN, NaN, NaN, NaN, NaN, NaN, NaN, NaN, NaN, NaN, NaN, NaN, NaN, NaN, NaN, NaN, NaN, NaN, NaN, NaN, NaN, NaN, NaN, NaN, NaN, NaN, NaN, NaN, NaN, NaN, NaN, NaN, NaN, NaN, NaN, NaN, NaN, NaN, NaN, NaN, NaN, NaN, NaN, NaN, NaN, NaN, NaN, NaN,...\n"
      ]
     },
     "metadata": {},
     "output_type": "display_data"
    },
    {
     "data": {
      "text/plain": [
       "warning: there were two feature warnings; re-run with -feature for details\n"
      ]
     },
     "metadata": {},
     "output_type": "display_data"
    }
   ],
   "source": [
    "val corr_res_b = satellite_model_corr.map{ case (a, (b,c,d)) => (a, b)}\n",
    "//Merge two RDDs, one containing the clusters_ID indices and the other one the indices of a Tile's grid cells\n",
    "var corr_cell_pos = corr_res_b.join(model_grid0_index.zipWithIndex().map{ case (v,i) => (i,v)}).map{ case (k,(v,i)) => (v,i)}\n",
    "\n",
    "//Associate a Cluster_IDs to respective Grid_cell\n",
    "var grid_corr = model_grid0.map{ case (i, v) => if (v == -1000) (i,Double.NaN) else (i,v)}.leftOuterJoin(corr_cell_pos.map{ case (c,i) => (i.toLong, c)})\n",
    "\n",
    "//Convert all None to NaN\n",
    "var grid_corr_res = grid_corr.sortByKey(true).map{case (k, (v, c)) => if (c == None) (k, Double.NaN) else (k, c.get)}\n",
    "\n",
    "//Define a Tile\n",
    "var corr_cells :Array[Double] = grid_corr_res.values.collect()\n",
    "var corr_cellsD = DoubleArrayTile(corr_cells, num_cols_rows._1, num_cols_rows._2)\n",
    "\n",
    "var geoTif = new SinglebandGeoTiff(corr_cellsD, projected_extent.extent, projected_extent.crs, Tags.empty, GeoTiffOptions(compression.DeflateCompression))\n",
    "\n",
    "//Save to /tmp/\n",
    "GeoTiffWriter.write(geoTif, corr_tif_tmp)\n",
    "\n",
    "//Upload to HDFS\n",
    "\n",
    "corr_tif = out_path + satellite_dir + \"_\" + model_dir + \".tif\"\n",
    "var cmd = \"hadoop dfs -copyFromLocal -f \" + corr_tif_tmp + \" \" + corr_tif\n",
    "Process(cmd)!\n",
    "\n",
    "//Remove from /tmp/\n",
    "cmd = \"rm -fr \" + corr_tif_tmp\n",
    "Process(cmd)!"
   ]
  },
  {
   "cell_type": "markdown",
   "metadata": {},
   "source": [
    "#### Array sizes"
   ]
  },
  {
   "cell_type": "code",
   "execution_count": null,
   "metadata": {
    "collapsed": true
   },
   "outputs": [],
   "source": [
    "val corr_res_c = satellite_model_corr.map{ case (a, (b,c,d)) => (a, c)}\n",
    "//Merge two RDDs, one containing the clusters_ID indices and the other one the indices of a Tile's grid cells\n",
    "corr_cell_pos = corr_res_c.join(model_grid0_index.zipWithIndex().map{ case (v,i) => (i,v)}).map{ case (k,(v,i)) => (v,i)}\n",
    "\n",
    "//Associate a Cluster_IDs to respective Grid_cell\n",
    "grid_corr = model_grid0.map{ case (i, v) => if (v == -1000) (i,Double.NaN) else (i,v)}.leftOuterJoin(corr_cell_pos.map{ case (c,i) => (i.toLong, c)})\n",
    "\n",
    "//Convert all None to NaN\n",
    "grid_corr_res = grid_corr.sortByKey(true).map{case (k, (v, c)) => if (c == None) (k, Double.NaN) else (k, c.get)}\n",
    "\n",
    "//Define a Tile\n",
    "corr_cells = grid_corr_res.values.collect()\n",
    "corr_cellsD = DoubleArrayTile(corr_cells, num_cols_rows._1, num_cols_rows._2)\n",
    "\n",
    "geoTif = new SinglebandGeoTiff(corr_cellsD, projected_extent.extent, projected_extent.crs, Tags.empty, GeoTiffOptions(compression.DeflateCompression))\n",
    "\n",
    "//Save to /tmp/\n",
    "GeoTiffWriter.write(geoTif, corr_tif_tmp)\n",
    "\n",
    "//Upload to HDFS\n",
    "corr_tif = out_path + \"len_\" + satellite_dir + \"_\" + model_dir + \".tif\"\n",
    "cmd = \"hadoop dfs -copyFromLocal -f \" + corr_tif_tmp + \" \" + corr_tif\n",
    "Process(cmd)!\n",
    "\n",
    "//Remove from /tmp/\n",
    "cmd = \"rm -fr \" + corr_tif_tmp\n",
    "Process(cmd)!"
   ]
  },
  {
   "cell_type": "markdown",
   "metadata": {},
   "source": [
    "#### Number of Negatives"
   ]
  },
  {
   "cell_type": "code",
   "execution_count": null,
   "metadata": {
    "collapsed": true
   },
   "outputs": [],
   "source": [
    "val corr_res_d = satellite_model_corr.map{ case (a, (b,c,d)) => (a, d)}\n",
    "//Merge two RDDs, one containing the clusters_ID indices and the other one the indices of a Tile's grid cells\n",
    "corr_cell_pos = corr_res_d.join(model_grid0_index.zipWithIndex().map{ case (v,i) => (i,v)}).map{ case (k,(v,i)) => (v,i)}\n",
    "\n",
    "//Associate a Cluster_IDs to respective Grid_cell\n",
    "grid_corr = model_grid0.map{ case (i, v) => if (v == -1000) (i,Double.NaN) else (i,v)}.leftOuterJoin(corr_cell_pos.map{ case (c,i) => (i.toLong, c)})\n",
    "\n",
    "//Convert all None to NaN\n",
    "grid_corr_res = grid_corr.sortByKey(true).map{case (k, (v, c)) => if (c == None) (k, Double.NaN) else (k, c.get.toDouble)}\n",
    "\n",
    "//Define a Tile\n",
    "corr_cells = grid_corr_res.values.collect()\n",
    "corr_cellsD = DoubleArrayTile(corr_cells, num_cols_rows._1, num_cols_rows._2)\n",
    "\n",
    "geoTif = new SinglebandGeoTiff(corr_cellsD, projected_extent.extent, projected_extent.crs, Tags.empty, GeoTiffOptions(compression.DeflateCompression))\n",
    "\n",
    "//Save to /tmp/\n",
    "corr_tif = out_path + \"neg_\" + satellite_dir + \"_\" + model_dir + \".tif\"\n",
    "GeoTiffWriter.write(geoTif, corr_tif_tmp)\n",
    "\n",
    "//Upload to HDFS\n",
    "cmd = \"hadoop dfs -copyFromLocal -f \" + corr_tif_tmp + \" \" + corr_tif\n",
    "Process(cmd)!\n",
    "\n",
    "//Remove from /tmp/\n",
    "cmd = \"rm -fr \" + corr_tif_tmp\n",
    "Process(cmd)!"
   ]
  },
  {
   "cell_type": "markdown",
   "metadata": {},
   "source": [
    "# [Visualize results](plot_kmeans_clusters.ipynb)"
   ]
  },
  {
   "cell_type": "code",
   "execution_count": 15,
   "metadata": {},
   "outputs": [
    {
     "name": "stdout",
     "output_type": "stream",
     "text": [
      "[Stage 9:=======================================================> (31 + 1) / 32]"
     ]
    },
    {
     "data": {
      "text/plain": [
       "satellite_yearsB = Broadcast(15)\n",
       "satellite_model_arrays = ShuffledRDD[39] at sortByKey at <console>:122\n"
      ]
     },
     "metadata": {},
     "output_type": "display_data"
    },
    {
     "data": {
      "text/plain": [
       "ShuffledRDD[39] at sortByKey at <console>:122"
      ]
     },
     "execution_count": 15,
     "metadata": {},
     "output_type": "execute_result"
    }
   ],
   "source": [
    "val satellite_yearsB = sc.broadcast(satellite_years)\n",
    "val satellite_model_arrays = satellite_model_V.map{ case (i, (b, a)) => ( i, \n",
    "    {\n",
    "        val isLeapYear = (year: Int) => (((year % 4) == 0) && !(\n",
    "          ((year % 100) == 0) &&\n",
    "            !((year % 400) == 0))\n",
    "          )\n",
    "        //a is model, b is satellite (model has an extra day)\n",
    "        var n = a.length\n",
    "        val aC :Array[Double] = new Array[Double](n*2)\n",
    "        val bC = new Array[Double](n*2)\n",
    "        \n",
    "        for (i <- 0 until (n*2)) {\n",
    "          aC(i) = Double.NaN\n",
    "          bC(i) = Double.NaN\n",
    "        }\n",
    "        \n",
    "        var k = 0\n",
    "        for (i <- 0 until (n)) {\n",
    "          aC(k) = a(i)\n",
    "          aC(k+1) = a(i)\n",
    "          if (i > 0)\n",
    "              bC(k) = b(i-1)\n",
    "          k += 2\n",
    "        }\n",
    "\n",
    "        //Let's shift the negative days\n",
    "        var neg_cnt = 0\n",
    "        for (i <- 1 until (n)) {\n",
    "          if (bC(i*2) < 0) {\n",
    "            neg_cnt += 1\n",
    "            if (isLeapYear(satellite_yearsB.value(i-1))) {\n",
    "              bC((i * 2) - 1) = 367 - bC(i * 2)  \n",
    "            } else {\n",
    "              bC((i * 2) - 1) = 366 - bC(i * 2)  \n",
    "            }      \n",
    "            bC(i*2) = Double.NaN\n",
    "          } else {\n",
    "              bC(i*2) = bC(i*2) + 1\n",
    "          }\n",
    "        }\n",
    "\n",
    "        for (i <- 0 until (n*2)) {\n",
    "          if (bC(i).isNaN)\n",
    "            aC(i) = Double.NaN\n",
    "        }\n",
    "\n",
    "        val aC_NoNAN = new breeze.linalg.DenseVector[Double](aC.filter(!_.isNaN))\n",
    "        val bC_NoNAN = new breeze.linalg.DenseVector[Double](bC.filter(!_.isNaN))\n",
    "\n",
    "        (bC_NoNAN, aC_NoNAN)\n",
    "})\n",
    "}.sortByKey()"
   ]
  },
  {
   "cell_type": "code",
   "execution_count": 23,
   "metadata": {},
   "outputs": [
    {
     "name": "stdout",
     "output_type": "stream",
     "text": [
      "[Stage 18:======================================================> (35 + 1) / 36]"
     ]
    },
    {
     "data": {
      "text/plain": [
       "index_id_gridID = MapPartitionsRDD[51] at map at <console>:66\n",
       "cell_ID = 0\n",
       "id_cell = 0\n",
       "xs_ys = (List(),List())\n",
       "cell_IDB = Broadcast(33)\n",
       "id_cellB = Broadcast(34)\n"
      ]
     },
     "metadata": {},
     "output_type": "display_data"
    },
    {
     "data": {
      "text/plain": [
       "lastException: Throwable = null\n"
      ]
     },
     "metadata": {},
     "output_type": "display_data"
    },
    {
     "data": {
      "text/plain": [
       "Broadcast(34)"
      ]
     },
     "execution_count": 23,
     "metadata": {},
     "output_type": "execute_result"
    }
   ],
   "source": [
    "val index_id_gridID = model_grid0_index.zipWithIndex().map{ case (v,i) => (i,v)}\n",
    "\n",
    "var cell_ID : Int = 0\n",
    "var id_cell :Long = 0\n",
    "var xs_ys :(Seq[Double], Seq[Double]) = (Seq.empty, Seq.empty)"
   ]
  },
  {
   "cell_type": "code",
   "execution_count": 26,
   "metadata": {},
   "outputs": [
    {
     "name": "stdout",
     "output_type": "stream",
     "text": [
      "[Stage 23:====================================================>   (30 + 2) / 32]"
     ]
    },
    {
     "data": {
      "text/plain": [
       "cell_ID = 1994166\n",
       "cell_IDB = Broadcast(37)\n",
       "id_cell = 814813\n",
       "id_cellB = Broadcast(39)\n",
       "xs_ys = (WrappedArray(109.0, 119.0, 109.0, 99.0, 98.0, 104.0, 113.0, 112.0, 110.0, 96.0, 110.0, 112.0, 100.0, 131.0, 112.0, 110.0, 123.0, 117.0, 105.0, 107.0, 112.0, 106.0, 109.0, 126.0, 114.0, 114.0),WrappedArray(114.0, 112.0, 98.0, 118.0, 117.0, 113.0, 121.0, 125.0, 119.0, 106.0, 113.0, 115.0, 119.0, 114.0, 105.0, 109.0, 100.0, 106.0, 111.0, 123.0, 118.0, 104.0, 120.0, 87.0, 127.0, 118.0))\n"
      ]
     },
     "metadata": {},
     "output_type": "display_data"
    },
    {
     "data": {
      "text/plain": [
       "lastException: Throwable = null\n"
      ]
     },
     "metadata": {},
     "output_type": "display_data"
    },
    {
     "data": {
      "text/plain": [
       "(WrappedArray(109.0, 119.0, 109.0, 99.0, 98.0, 104.0, 113.0, 112.0, 110.0, 96.0, 110.0, 112.0, 100.0, 131.0, 112.0, 110.0, 123.0, 117.0, 105.0, 107.0, 112.0, 106.0, 109.0, 126.0, 114.0, 114.0),WrappedArray(114.0, 112.0, 98.0, 118.0, 117.0, 113.0, 121.0, 125.0, 119.0, 106.0, 113.0, 115.0, 119.0, 114.0, 105.0, 109.0, 100.0, 106.0, 111.0, 123.0, 118.0, 104.0, 120.0, 87.0, 127.0, 118.0))"
      ]
     },
     "execution_count": 26,
     "metadata": {},
     "output_type": "execute_result"
    }
   ],
   "source": [
    "cell_ID = 1994166\n",
    "//cell_ID = 6789976\n",
    "\n",
    "val cell_IDB = sc.broadcast(cell_ID)\n",
    "id_cell = index_id_gridID.filter(_._2 == cell_IDB.value).map{ case (i,v) => i}.collect()(0)\n",
    "val id_cellB = sc.broadcast(id_cell)\n",
    "xs_ys = satellite_model_arrays.filter(_._1 == id_cellB.value).map{ case (i, (b,a)) => (b.toArray.toSeq,a.toArray.toSeq)}.collect()(0)"
   ]
  },
  {
   "cell_type": "code",
   "execution_count": 40,
   "metadata": {},
   "outputs": [
    {
     "name": "stdout",
     "output_type": "stream",
     "text": [
      "[Stage 43:====================================================>   (30 + 2) / 32]"
     ]
    },
    {
     "data": {
      "text/plain": [
       "cell_ID = 3203272\n",
       "cell_IDB1 = Broadcast(64)\n",
       "id_cell = 1505898\n",
       "id_cellB1 = Broadcast(66)\n",
       "xs_ys = (WrappedArray(66.0, 74.0, 78.0, 90.0, 85.0, 83.0, 66.0, 96.0, 78.0, 75.0, 88.0, 72.0, 79.0, 101.0, 85.0, 73.0, 74.0, 86.0, 69.0, 97.0, 89.0, 74.0, 95.0, 95.0, 73.0, 86.0),WrappedArray(104.0, 94.0, 89.0, 83.0, 94.0, 92.0, 79.0, 91.0, 100.0, 101.0, 87.0, 96.0, 105.0, 105.0, 96.0, 87.0, 85.0, 98.0, 84.0, 109.0, 103.0, 95.0, 100.0, 84.0, 110.0, 104.0))\n"
      ]
     },
     "metadata": {},
     "output_type": "display_data"
    },
    {
     "data": {
      "text/plain": [
       "(WrappedArray(66.0, 74.0, 78.0, 90.0, 85.0, 83.0, 66.0, 96.0, 78.0, 75.0, 88.0, 72.0, 79.0, 101.0, 85.0, 73.0, 74.0, 86.0, 69.0, 97.0, 89.0, 74.0, 95.0, 95.0, 73.0, 86.0),WrappedArray(104.0, 94.0, 89.0, 83.0, 94.0, 92.0, 79.0, 91.0, 100.0, 101.0, 87.0, 96.0, 105.0, 105.0, 96.0, 87.0, 85.0, 98.0, 84.0, 109.0, 103.0, 95.0, 100.0, 84.0, 110.0, 104.0))"
      ]
     },
     "execution_count": 40,
     "metadata": {},
     "output_type": "execute_result"
    }
   ],
   "source": [
    "//cell_ID = 1994166\n",
    "//cell_ID = 11150671\n",
    "cell_ID = 3203272\n",
    "val cell_IDB1 = sc.broadcast(cell_ID)\n",
    "id_cell = index_id_gridID.filter(_._2 == cell_IDB1.value).map{ case (i,v) => i}.collect()(0)\n",
    "val id_cellB1 = sc.broadcast(id_cell)\n",
    "xs_ys = satellite_model_arrays.filter(_._1 == id_cellB1.value).map{ case (i, (b,a)) => (b.toArray.toSeq,a.toArray.toSeq)}.collect()(0)"
   ]
  },
  {
   "cell_type": "code",
   "execution_count": 41,
   "metadata": {},
   "outputs": [
    {
     "name": "stdout",
     "output_type": "stream",
     "text": [
      "Output written to http://145.100.58.124:38440 (CMD + Click link in Mac OSX).\n",
      "Output written to http://145.100.58.124:38440 (CMD + Click link in Mac OSX).\n"
     ]
    },
    {
     "data": {
      "text/plain": [
       "Highchart(List(Series(ArrayBuffer(Data(66.0,104.0,None,None), Data(74.0,94.0,None,None), Data(78.0,89.0,None,None), Data(90.0,83.0,None,None), Data(85.0,94.0,None,None), Data(83.0,92.0,None,None), Data(66.0,79.0,None,None), Data(96.0,91.0,None,None), Data(78.0,100.0,None,None), Data(75.0,101.0,None,None), Data(88.0,87.0,None,None), Data(72.0,96.0,None,None), Data(79.0,105.0,None,None), Data(101.0,105.0,None,None), Data(85.0,96.0,None,None), Data(73.0,87.0,None,None), Data(74.0,85.0,None,None), Data(86.0,98.0,None,None), Data(69.0,84.0,None,None), Data(97.0,109.0,None,None), Data(89.0,103.0,None,None), Data(74.0,95.0,None,None), Data(95.0,100.0,None,None), Data(95.0,84.0,None,None), Data(73.0,110.0,None,None), Data(86.0,104.0,None,None)),None,None,None,Some(scatter),None,None,None,None,series)),Some(Title(,None,None,None,None,None,None,None,title)),Some(Chart(Some(xy))),None,Some(Credits(None,,None,None,)),Some(Exporting(chart,None,None,None,None,None,None)),None,Some(PlotOptions(None,None,None,None,None,None,None,None,None,None,None,None,None,None,None,None,None,None,None,None,None,plotOptions)),None,true,None,Some([Lcom.quantifind.charts.highcharts.Axis;@67b04ccf),Some([Lcom.quantifind.charts.highcharts.Axis;@1662f2ca))"
      ]
     },
     "execution_count": 41,
     "metadata": {},
     "output_type": "execute_result"
    }
   ],
   "source": [
    "startServer\n",
    "deleteAll()\n",
    "scatter(xs_ys._1, xs_ys._2)"
   ]
  },
  {
   "cell_type": "code",
   "execution_count": 29,
   "metadata": {},
   "outputs": [
    {
     "name": "stdout",
     "output_type": "stream",
     "text": [
      "Output written to http://145.100.58.124:35120 (CMD + Click link in Mac OSX).\n"
     ]
    }
   ],
   "source": [
    "deleteAll()\n",
    "stopWispServer\n",
    "stopServer"
   ]
  },
  {
   "cell_type": "code",
   "execution_count": null,
   "metadata": {
    "collapsed": true
   },
   "outputs": [],
   "source": []
  }
 ],
 "metadata": {
  "kernelspec": {
   "display_name": "Apache Toree - Scala",
   "language": "scala",
   "name": "apache_toree_scala"
  },
  "language_info": {
   "codemirror_mode": "text/x-scala",
   "file_extension": ".scala",
   "mimetype": "text/x-scala",
   "name": "scala",
   "pygments_lexer": "scala",
   "version": "2.11.8"
  }
 },
 "nbformat": 4,
 "nbformat_minor": 2
}
