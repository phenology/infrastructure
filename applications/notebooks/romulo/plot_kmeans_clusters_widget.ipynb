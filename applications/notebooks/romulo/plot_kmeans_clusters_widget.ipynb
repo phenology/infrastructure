{
 "cells": [
  {
   "cell_type": "markdown",
   "metadata": {},
   "source": [
    "# Plot Kmeans clusters stored in a GeoTiff\n",
    "\n",
    "This is a notebook plots the GeoTiffs created out of [kmeans](../stable/kmeans.ipynb). Such GeoTiffs contains the Kmeans cluster IDs."
   ]
  },
  {
   "cell_type": "markdown",
   "metadata": {},
   "source": [
    "## Dependencies"
   ]
  },
  {
   "cell_type": "code",
   "execution_count": 3,
   "metadata": {
    "collapsed": true
   },
   "outputs": [],
   "source": [
    "import sys\n",
    "sys.path.append(\"/usr/lib/spark/python\")\n",
    "sys.path.append(\"/usr/lib/spark/python/lib/py4j-0.10.4-src.zip\")\n",
    "sys.path.append(\"/usr/lib/python3/dist-packages\")\n",
    "\n",
    "import os\n",
    "os.environ[\"HADOOP_CONF_DIR\"] = \"/etc/hadoop/conf\"\n",
    "\n",
    "import os\n",
    "os.environ[\"PYSPARK_PYTHON\"] = \"python3\"\n",
    "os.environ[\"PYSPARK_DRIVER_PYTHON\"] = \"ipython\"\n",
    "\n",
    "from pyspark.mllib.clustering import KMeans, KMeansModel \n",
    "from pyspark import SparkConf, SparkContext\n",
    "\n",
    "from osgeo import gdal\n",
    "from io import BytesIO\n",
    "\n",
    "import scipy.misc\n",
    "\n",
    "import rasterio\n",
    "from rasterio import plot\n",
    "from rasterio.io import MemoryFile"
   ]
  },
  {
   "cell_type": "markdown",
   "metadata": {},
   "source": [
    "## Spark Context"
   ]
  },
  {
   "cell_type": "code",
   "execution_count": 4,
   "metadata": {},
   "outputs": [
    {
     "name": "stdout",
     "output_type": "stream",
     "text": [
      "A  new Spark Context will be created.\n"
     ]
    }
   ],
   "source": [
    "appName = \"plot_kmeans_clusters\"\n",
    "masterURL=\"spark://pheno0.phenovari-utwente.surf-hosted.nl:7077\"\n",
    "\n",
    "try:\n",
    "    sc.stop()\n",
    "except NameError:\n",
    "    print(\"A  new Spark Context will be created.\")\n",
    "    \n",
    "sc = SparkContext(conf = SparkConf().setAppName(appName).setMaster(masterURL))"
   ]
  },
  {
   "cell_type": "markdown",
   "metadata": {},
   "source": [
    "## Mode of Operation setup\n",
    "\n",
    "The user should modify the following variables to define which GeoTiffs should be loaded. In case it (s)he wants to visualize results that just came out of [kmeans](kmeans.ipnyb) laste execution, just copy the values set at its [**Mode of Operation Setup**](../stable/kmeans.ipynb#mode_of_operation_setup)."
   ]
  },
  {
   "cell_type": "code",
   "execution_count": 5,
   "metadata": {
    "collapsed": true
   },
   "outputs": [],
   "source": [
    "#GeoTiffs to be read from \"hdfs:///user/hadoop/modis/\"\n",
    "offline_dir_path = \"hdfs:///user/pheno/spring-index/\"\n",
    "\n",
    "geoTiff_dir = \"kmeans_BloomFinal_LeafFinal_test\" \n",
    "band_num = 3\n",
    "\n",
    "#Satellite years between (inclusive) 1989 - 2014\n",
    "#Model years between (inclusive) 1980 - 2015\n",
    "first_year = 1980\n",
    "last_year = 2015\n",
    "\n",
    "#Kmeans number of iterations and clusters\n",
    "numIterations = 75\n",
    "numClusters = 60"
   ]
  },
  {
   "cell_type": "markdown",
   "metadata": {},
   "source": [
    "## Mode of Operation verification"
   ]
  },
  {
   "cell_type": "code",
   "execution_count": 6,
   "metadata": {
    "collapsed": true
   },
   "outputs": [],
   "source": [
    "geotiff_hdfs_paths = []\n",
    "\n",
    "if first_year > last_year:\n",
    "    last_year = first_year\n",
    "    \n",
    "#Satellite years between (inclusive) 1989 - 2014\n",
    "#Model years between (inclusive) 1980 - 2015\n",
    "years = list(range(1980,2015))\n",
    "    \n",
    "year_id = 0\n",
    "year = first_year\n",
    "while year < last_year :\n",
    "    path = offline_dir_path + geoTiff_dir + '/clusters_' + str(band_num) + '_' + str(numClusters) + '_' + str(numIterations) + '_' + str(first_year) + '_' + str(last_year) + '_' + str(years[year_id]) + '.tif'\n",
    "    geotiff_hdfs_paths.append(path)\n",
    "    year_id += 1\n",
    "    year += 1"
   ]
  },
  {
   "cell_type": "markdown",
   "metadata": {},
   "source": [
    "## Load GeoTiffs\n",
    "\n",
    "Load the GeoTiffs into MemoryFiles."
   ]
  },
  {
   "cell_type": "code",
   "execution_count": 7,
   "metadata": {},
   "outputs": [
    {
     "name": "stdout",
     "output_type": "stream",
     "text": [
      "hdfs:///user/pheno/spring-index/kmeans_BloomFinal_LeafFinal_test/clusters_3_60_75_1980_2015_1980.tif\n",
      "hdfs:///user/pheno/spring-index/kmeans_BloomFinal_LeafFinal_test/clusters_3_60_75_1980_2015_1981.tif\n",
      "hdfs:///user/pheno/spring-index/kmeans_BloomFinal_LeafFinal_test/clusters_3_60_75_1980_2015_1982.tif\n",
      "hdfs:///user/pheno/spring-index/kmeans_BloomFinal_LeafFinal_test/clusters_3_60_75_1980_2015_1983.tif\n",
      "hdfs:///user/pheno/spring-index/kmeans_BloomFinal_LeafFinal_test/clusters_3_60_75_1980_2015_1984.tif\n",
      "hdfs:///user/pheno/spring-index/kmeans_BloomFinal_LeafFinal_test/clusters_3_60_75_1980_2015_1985.tif\n",
      "hdfs:///user/pheno/spring-index/kmeans_BloomFinal_LeafFinal_test/clusters_3_60_75_1980_2015_1986.tif\n",
      "hdfs:///user/pheno/spring-index/kmeans_BloomFinal_LeafFinal_test/clusters_3_60_75_1980_2015_1987.tif\n",
      "hdfs:///user/pheno/spring-index/kmeans_BloomFinal_LeafFinal_test/clusters_3_60_75_1980_2015_1988.tif\n",
      "hdfs:///user/pheno/spring-index/kmeans_BloomFinal_LeafFinal_test/clusters_3_60_75_1980_2015_1989.tif\n",
      "hdfs:///user/pheno/spring-index/kmeans_BloomFinal_LeafFinal_test/clusters_3_60_75_1980_2015_1990.tif\n",
      "hdfs:///user/pheno/spring-index/kmeans_BloomFinal_LeafFinal_test/clusters_3_60_75_1980_2015_1991.tif\n",
      "hdfs:///user/pheno/spring-index/kmeans_BloomFinal_LeafFinal_test/clusters_3_60_75_1980_2015_1992.tif\n",
      "hdfs:///user/pheno/spring-index/kmeans_BloomFinal_LeafFinal_test/clusters_3_60_75_1980_2015_1993.tif\n",
      "hdfs:///user/pheno/spring-index/kmeans_BloomFinal_LeafFinal_test/clusters_3_60_75_1980_2015_1994.tif\n",
      "hdfs:///user/pheno/spring-index/kmeans_BloomFinal_LeafFinal_test/clusters_3_60_75_1980_2015_1995.tif\n",
      "hdfs:///user/pheno/spring-index/kmeans_BloomFinal_LeafFinal_test/clusters_3_60_75_1980_2015_1996.tif\n",
      "hdfs:///user/pheno/spring-index/kmeans_BloomFinal_LeafFinal_test/clusters_3_60_75_1980_2015_1997.tif\n",
      "hdfs:///user/pheno/spring-index/kmeans_BloomFinal_LeafFinal_test/clusters_3_60_75_1980_2015_1998.tif\n",
      "hdfs:///user/pheno/spring-index/kmeans_BloomFinal_LeafFinal_test/clusters_3_60_75_1980_2015_1999.tif\n",
      "hdfs:///user/pheno/spring-index/kmeans_BloomFinal_LeafFinal_test/clusters_3_60_75_1980_2015_2000.tif\n",
      "hdfs:///user/pheno/spring-index/kmeans_BloomFinal_LeafFinal_test/clusters_3_60_75_1980_2015_2001.tif\n",
      "hdfs:///user/pheno/spring-index/kmeans_BloomFinal_LeafFinal_test/clusters_3_60_75_1980_2015_2002.tif\n",
      "hdfs:///user/pheno/spring-index/kmeans_BloomFinal_LeafFinal_test/clusters_3_60_75_1980_2015_2003.tif\n",
      "hdfs:///user/pheno/spring-index/kmeans_BloomFinal_LeafFinal_test/clusters_3_60_75_1980_2015_2004.tif\n",
      "hdfs:///user/pheno/spring-index/kmeans_BloomFinal_LeafFinal_test/clusters_3_60_75_1980_2015_2005.tif\n",
      "hdfs:///user/pheno/spring-index/kmeans_BloomFinal_LeafFinal_test/clusters_3_60_75_1980_2015_2006.tif\n",
      "hdfs:///user/pheno/spring-index/kmeans_BloomFinal_LeafFinal_test/clusters_3_60_75_1980_2015_2007.tif\n",
      "hdfs:///user/pheno/spring-index/kmeans_BloomFinal_LeafFinal_test/clusters_3_60_75_1980_2015_2008.tif\n",
      "hdfs:///user/pheno/spring-index/kmeans_BloomFinal_LeafFinal_test/clusters_3_60_75_1980_2015_2009.tif\n",
      "hdfs:///user/pheno/spring-index/kmeans_BloomFinal_LeafFinal_test/clusters_3_60_75_1980_2015_2010.tif\n",
      "hdfs:///user/pheno/spring-index/kmeans_BloomFinal_LeafFinal_test/clusters_3_60_75_1980_2015_2011.tif\n",
      "hdfs:///user/pheno/spring-index/kmeans_BloomFinal_LeafFinal_test/clusters_3_60_75_1980_2015_2012.tif\n",
      "hdfs:///user/pheno/spring-index/kmeans_BloomFinal_LeafFinal_test/clusters_3_60_75_1980_2015_2013.tif\n",
      "hdfs:///user/pheno/spring-index/kmeans_BloomFinal_LeafFinal_test/clusters_3_60_75_1980_2015_2014.tif\n"
     ]
    }
   ],
   "source": [
    "clusters_dataByteArrays = []\n",
    "imgs = []\n",
    "\n",
    "year_id = 0\n",
    "year = first_year\n",
    "while year < last_year :\n",
    "    print(geotiff_hdfs_paths[year_id])\n",
    "    clusters_data = sc.binaryFiles(geotiff_hdfs_paths[year_id]).take(1)\n",
    "    clusters_dataByteArrays.append(bytearray(clusters_data[0][1]))\n",
    "    img = MemoryFile(clusters_dataByteArrays[year_id]).open()\n",
    "    imgs.append(img.read()[0])\n",
    "    img.close()\n",
    "    year_id += 1\n",
    "    year += 1"
   ]
  },
  {
   "cell_type": "code",
   "execution_count": 16,
   "metadata": {},
   "outputs": [],
   "source": [
    "img = Image.fromarray(imgs[0])\n"
   ]
  },
  {
   "cell_type": "code",
   "execution_count": 21,
   "metadata": {},
   "outputs": [
    {
     "data": {
      "text/plain": [
       "ImagingCore"
      ]
     },
     "execution_count": 21,
     "metadata": {},
     "output_type": "execute_result"
    }
   ],
   "source": []
  },
  {
   "cell_type": "markdown",
   "metadata": {},
   "source": [
    "## Resize Images"
   ]
  },
  {
   "cell_type": "code",
   "execution_count": 30,
   "metadata": {
    "collapsed": true
   },
   "outputs": [],
   "source": [
    "imgs_5 = []\n",
    "i_width = 7808\n",
    "i_height = 3892\n",
    "\n",
    "year_id = 0\n",
    "year = first_year\n",
    "while year < last_year :\n",
    "    img = Image.fromarray(imgs[year_id])\n",
    "    img5 = scipy.misc.imresize(img, (i_height, i_width))\n",
    "    img5 = img\n",
    "    imgs_5.append(img5)\n",
    "    year_id += 1\n",
    "    year += 1"
   ]
  },
  {
   "cell_type": "markdown",
   "metadata": {},
   "source": [
    "## Plot GeoTiffs"
   ]
  },
  {
   "cell_type": "code",
   "execution_count": 31,
   "metadata": {},
   "outputs": [
    {
     "name": "stdout",
     "output_type": "stream",
     "text": [
      "Populating the interactive namespace from numpy and matplotlib\n"
     ]
    },
    {
     "name": "stderr",
     "output_type": "stream",
     "text": [
      "/usr/local/lib/python3.5/dist-packages/IPython/core/magics/pylab.py:160: UserWarning: pylab import has clobbered these variables: ['interactive', 'array']\n",
      "`%matplotlib` prevents importing * from pylab and numpy\n",
      "  \"\\n`%matplotlib` prevents importing * from pylab and numpy\"\n"
     ]
    }
   ],
   "source": [
    "%pylab inline"
   ]
  },
  {
   "cell_type": "code",
   "execution_count": 32,
   "metadata": {
    "collapsed": true
   },
   "outputs": [],
   "source": [
    "from __future__ import print_function\n",
    "from ipywidgets import interact, interactive, fixed, interact_manual\n",
    "import ipywidgets as widgets\n",
    "import matplotlib.image as mpimg\n",
    "\n",
    "from PIL import Image\n",
    "from array import array"
   ]
  },
  {
   "cell_type": "code",
   "execution_count": 35,
   "metadata": {},
   "outputs": [
    {
     "data": {
      "application/vnd.jupyter.widget-view+json": {
       "model_id": "5984b85569ae4644a31b3408267500bb",
       "version_major": 2,
       "version_minor": 0
      },
      "text/plain": [
       "A Jupyter Widget"
      ]
     },
     "metadata": {},
     "output_type": "display_data"
    },
    {
     "data": {
      "application/vnd.jupyter.widget-view+json": {
       "model_id": "ae93459733624746a2e525d3d42bddda",
       "version_major": 2,
       "version_minor": 0
      },
      "text/plain": [
       "A Jupyter Widget"
      ]
     },
     "metadata": {},
     "output_type": "display_data"
    }
   ],
   "source": [
    "def showImageForYear(year = 1980):\n",
    "    year_id = year - 1980\n",
    "    #img = MemoryFile(clusters_dataByteArrays[year_id]).open()\n",
    "    #plt.imshow(img.read()[0], extent=((0, img.width, img.height, 0))) #, cmap='gray')\n",
    "    #img.close()\n",
    "    plt.figure(figsize=(20,20))\n",
    "    im = imshow(imgs_5[year_id])  \n",
    "    plt.axis('off')\n",
    "    plt.show()\n",
    "    \n",
    "play = widgets.Play(\n",
    "    interval=1000,\n",
    "    value=1980,\n",
    "    min=1980,\n",
    "    max=2014,\n",
    "    step=1,\n",
    "    description=\"Press play\",\n",
    "    disabled=False\n",
    ")\n",
    "slider = widgets.IntSlider(min=1980,max=2014,step=1,value=1980)\n",
    "widgets.jslink((play, 'value'), (slider, 'value'))\n",
    "\n",
    "interact(showImageForYear, year=slider)\n",
    "widgets.HBox([play])"
   ]
  },
  {
   "cell_type": "code",
   "execution_count": null,
   "metadata": {
    "collapsed": true
   },
   "outputs": [],
   "source": []
  }
 ],
 "metadata": {
  "kernelspec": {
   "display_name": "Python 3",
   "language": "python",
   "name": "python3"
  },
  "language_info": {
   "codemirror_mode": {
    "name": "ipython",
    "version": 3
   },
   "file_extension": ".py",
   "mimetype": "text/x-python",
   "name": "python",
   "nbconvert_exporter": "python",
   "pygments_lexer": "ipython3",
   "version": "3.5.2"
  }
 },
 "nbformat": 4,
 "nbformat_minor": 2
}
