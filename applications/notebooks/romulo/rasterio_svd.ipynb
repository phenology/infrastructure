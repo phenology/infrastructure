{
 "cells": [
  {
   "cell_type": "markdown",
   "metadata": {
    "slideshow": {
     "slide_type": "slide"
    }
   },
   "source": [
    "# Python SVD\n",
    "\n",
    "\n",
    "In this NoteBook the reader finds code to read GeoTiff files, single- or multi-band, from HDFS. The notebook will read GeoTiffs for two phenology products: phenology model and phenology remote sensing. \n",
    "\n",
    "The GeoTiffs are read as a **ByteArray** and then stored in memory using **MemFile** from **RasterIO** python package. The same package is then used to plot a GeoTiff's band, or multiple bands using sub-plots, histograms, etc. \n",
    "\n",
    "With this example the user can load GeoTiffs from HDFS and then explore all the features of Python packages such as [rasterio](https://github.com/mapbox/rasterio). It also show how to run kmeans from [**sklearn**](http://scikit-learn.org/stable/). The kmeans part in this notebook is inpired in [Unsupervised classification of imagery using scikit-learn](http://nbviewer.jupyter.org/gist/om-henners/c6c8d40389dab75cf535)."
   ]
  },
  {
   "cell_type": "markdown",
   "metadata": {
    "slideshow": {
     "slide_type": "subslide"
    }
   },
   "source": [
    "## Dependencies"
   ]
  },
  {
   "cell_type": "code",
   "execution_count": 2,
   "metadata": {
    "collapsed": true,
    "slideshow": {
     "slide_type": "subslide"
    }
   },
   "outputs": [],
   "source": [
    "#Add all dependencies to PYTHON_PATH\n",
    "import sys\n",
    "sys.path.append(\"/usr/lib/spark/python\")\n",
    "sys.path.append(\"/usr/lib/spark/python/lib/py4j-0.10.4-src.zip\")\n",
    "sys.path.append(\"/usr/lib/python3/dist-packages\")\n",
    "\n",
    "#Define environment variables\n",
    "import os\n",
    "os.environ[\"HADOOP_CONF_DIR\"] = \"/etc/hadoop/conf\"\n",
    "os.environ[\"PYSPARK_PYTHON\"] = \"python3\"\n",
    "os.environ[\"PYSPARK_DRIVER_PYTHON\"] = \"ipython\"\n",
    "\n",
    "#Load PySpark to connect to a Spark cluster\n",
    "from pyspark import SparkConf, SparkContext\n",
    "\n",
    "#from osgeo import gdal\n",
    "#To read GeoTiffs as a ByteArray\n",
    "from io import BytesIO\n",
    "import rasterio\n",
    "from rasterio.io import MemoryFile\n",
    "\n",
    "import numpy as np\n",
    "import matplotlib.pyplot as plt\n",
    "\n",
    "import sklearn.cluster"
   ]
  },
  {
   "cell_type": "markdown",
   "metadata": {},
   "source": [
    "## Connect to Spark"
   ]
  },
  {
   "cell_type": "code",
   "execution_count": 3,
   "metadata": {},
   "outputs": [
    {
     "name": "stdout",
     "output_type": "stream",
     "text": [
      "A  new Spark Context will be created.\n"
     ]
    }
   ],
   "source": [
    "appName = \"plot_GeoTiff\"\n",
    "masterURL=\"spark://emma0.emma.nlesc.nl:7077\"\n",
    "\n",
    "#A context needs to be created if it does not already exist\n",
    "try:\n",
    "    sc.stop()\n",
    "except NameError:\n",
    "    print(\"A  new Spark Context will be created.\")\n",
    "    \n",
    "sc = SparkContext(conf = SparkConf().setAppName(appName).setMaster(masterURL))"
   ]
  },
  {
   "cell_type": "markdown",
   "metadata": {},
   "source": [
    "# Read data into NumPy Arrays"
   ]
  },
  {
   "cell_type": "markdown",
   "metadata": {},
   "source": [
    "## Load Satellite data"
   ]
  },
  {
   "cell_type": "code",
   "execution_count": null,
   "metadata": {},
   "outputs": [
    {
     "name": "stdout",
     "output_type": "stream",
     "text": [
      "hdfs:///user/hadoop/avhrr/SOST//av_SOST1989v4_SIx.tif\n",
      "hdfs:///user/hadoop/avhrr/SOST//av_SOST1990v4_SIx.tif\n",
      "hdfs:///user/hadoop/avhrr/SOST//av_SOST1991v4_SIx.tif\n",
      "hdfs:///user/hadoop/avhrr/SOST//av_SOST1992v4_SIx.tif\n",
      "hdfs:///user/hadoop/avhrr/SOST//av_SOST1993v4_SIx.tif\n"
     ]
    }
   ],
   "source": [
    "data_dir = \"hdfs:///user/hadoop/avhrr/SOST/\"\n",
    "start_year = 1989\n",
    "end_year = 2014\n",
    "years = list(range(start_year, end_year+1))\n",
    "\n",
    "file_paths = []\n",
    "sat_data = np.ndarray(shape=(30388736, len(years)), dtype=float , order='C')\n",
    "\n",
    "for f in range (len(years)):\n",
    "    file_path = data_dir + \"/av_SOST\" + str(years[f]) + \"v4_SIx.tif\"\n",
    "    print(file_path)\n",
    "    data = sc.binaryFiles(file_path).take(1)\n",
    "    dataByteArray = bytearray(data[0][1])\n",
    "    memfile = MemoryFile(dataByteArray)\n",
    "    data_set = memfile.open()\n",
    "    \n",
    "    # Convert to NumPy array the 1st band\n",
    "    data_array = np.asarray(data_set.read())[0]\n",
    "    \n",
    "    # Replace NaN\n",
    "    #data_array[np.isnan(data_array)] = -1\n",
    "    \n",
    "    #Remove NaN\n",
    "    data_array = data_array[~np.isnan(data_array)] \n",
    "                          \n",
    "    sat_data[:,f] = data_array\n",
    "                    "
   ]
  },
  {
   "cell_type": "markdown",
   "metadata": {},
   "source": [
    "## Load model data"
   ]
  },
  {
   "cell_type": "code",
   "execution_count": null,
   "metadata": {
    "collapsed": true
   },
   "outputs": [],
   "source": [
    "data_dir = \"hdfs:///user/hadoop/spring-index/BloomFinal\"\n",
    "start_year = 1989\n",
    "end_year = 2014\n",
    "years = list(range(start_year, end_year+1))\n",
    "\n",
    "file_paths = []\n",
    "mod_data = np.ndarray(shape=(30388736, len(years)), dtype=float , order='C')\n",
    "\n",
    "for f in range (len(years)):\n",
    "    file_path = data_dir + \"/\" + str(years[f]) + \".tif\"\n",
    "    print(file_path)\n",
    "    data = sc.binaryFiles(file_path).take(1)\n",
    "    dataByteArray = bytearray(data[0][1])\n",
    "    memfile = MemoryFile(dataByteArray)\n",
    "    data_set = memfile.open()\n",
    "    \n",
    "    # Convert to NumPy array the 1st band\n",
    "    data_array = np.asarray(data_set.read())[0]\n",
    "    \n",
    "    # Replace NaN\n",
    "    #data_array[np.isnan(data_array)] = -1\n",
    "    \n",
    "    #Remove NaN\n",
    "    data_array = data_array[~np.isnan(data_array)] \n",
    "                          \n",
    "    mod_data[:,f] = data_array\n",
    "                    "
   ]
  },
  {
   "cell_type": "code",
   "execution_count": 4,
   "metadata": {
    "collapsed": true
   },
   "outputs": [],
   "source": []
  }
 ],
 "metadata": {
  "kernelspec": {
   "display_name": "Python 3",
   "language": "python",
   "name": "python3"
  },
  "language_info": {
   "codemirror_mode": {
    "name": "ipython",
    "version": 3
   },
   "file_extension": ".py",
   "mimetype": "text/x-python",
   "name": "python",
   "nbconvert_exporter": "python",
   "pygments_lexer": "ipython3",
   "version": "3.5.2"
  }
 },
 "nbformat": 4,
 "nbformat_minor": 2
}
