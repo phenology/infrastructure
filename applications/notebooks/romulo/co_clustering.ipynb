{
 "cells": [
  {
   "cell_type": "markdown",
   "metadata": {},
   "source": [
    "# Co-clustering in Spark\n",
    "\n",
    "This noteboo attempts to execute in Spark the co-clustering algorithm presented in [co_clustering_R](../r/co_clustering_R.ipynb) which is the implementation of Bregman block average co-clustering algorithm (Banerjee et al., 2007) and it is inpired in the [single node impementation](https://github.com/fnyanez/bbac), [Copyright (c) 2016 Felipe Yanez](https://github.com/fnyanez/bbac/blob/master/LICENSE.md).\n",
    "\n",
    "Next to the Python code the user will see the R code in Markdown format."
   ]
  },
  {
   "cell_type": "markdown",
   "metadata": {
    "slideshow": {
     "slide_type": "subslide"
    }
   },
   "source": [
    "## Dependencies"
   ]
  },
  {
   "cell_type": "code",
   "execution_count": 1,
   "metadata": {
    "collapsed": true,
    "slideshow": {
     "slide_type": "subslide"
    }
   },
   "outputs": [],
   "source": [
    "#Add all dependencies to PYTHON_PATH\n",
    "import sys\n",
    "sys.path.append(\"/usr/lib/spark/python\")\n",
    "sys.path.append(\"/usr/lib/spark/python/lib/py4j-0.10.4-src.zip\")\n",
    "sys.path.append(\"/usr/lib/python3/dist-packages\")\n",
    "\n",
    "#Define environment variables\n",
    "import os\n",
    "os.environ[\"HADOOP_CONF_DIR\"] = \"/etc/hadoop/conf\"\n",
    "os.environ[\"PYSPARK_PYTHON\"] = \"python3\"\n",
    "os.environ[\"PYSPARK_DRIVER_PYTHON\"] = \"ipython\"\n",
    "\n",
    "#Load PySpark to connect to a Spark cluster\n",
    "from pyspark import SparkConf, SparkContext\n",
    "\n",
    "#from osgeo import gdal\n",
    "#To read GeoTiffs as a ByteArray\n",
    "from io import BytesIO\n",
    "from rasterio.io import MemoryFile"
   ]
  },
  {
   "cell_type": "markdown",
   "metadata": {},
   "source": [
    "## Connect to Spark"
   ]
  },
  {
   "cell_type": "code",
   "execution_count": 2,
   "metadata": {},
   "outputs": [
    {
     "name": "stdout",
     "output_type": "stream",
     "text": [
      "A  new Spark Context will be created.\n"
     ]
    }
   ],
   "source": [
    "appName = \"co_clustering\"\n",
    "masterURL=\"spark://pheno0.phenovari-utwente.surf-hosted.nl:7077\"\n",
    "\n",
    "#A context needs to be created if it does not already exist\n",
    "try:\n",
    "    sc.stop()\n",
    "except NameError:\n",
    "    print(\"A  new Spark Context will be created.\")\n",
    "    \n",
    "sc = SparkContext(conf = SparkConf().setAppName(appName).setMaster(masterURL))"
   ]
  },
  {
   "cell_type": "code",
   "execution_count": null,
   "metadata": {
    "collapsed": true
   },
   "outputs": [],
   "source": []
  },
  {
   "cell_type": "markdown",
   "metadata": {},
   "source": [
    "### Support functions"
   ]
  },
  {
   "cell_type": "markdown",
   "metadata": {
    "collapsed": true
   },
   "source": [
    "```\n",
    "coCavg <- function(dist, row_col, R, Z, C, W, epsilon) {\n",
    "  CoCavg <- calculate_average(R, Z, C, W, epsilon)\n",
    "  if (row_col==\"row\") {\n",
    "    return(list(Zrowc = array(dist, dim(Z)), Zrowv = CoCavg %*% t(C)))\n",
    "  } else if (row_col==\"col\") {\n",
    "    return(list(Zcolc = array(dist, dim(Z)), Zcolv = R %*% CoCavg))\n",
    "  }\n",
    "}\n",
    "```"
   ]
  },
  {
   "cell_type": "code",
   "execution_count": null,
   "metadata": {
    "collapsed": true
   },
   "outputs": [],
   "source": []
  },
  {
   "cell_type": "markdown",
   "metadata": {},
   "source": [
    "```\n",
    "calculate_average <- function(Left, Z, Right, W, epsilon) {\n",
    "  if (is.null(W)) {W <- array(1, dim(Z))} else {Z <- W * Z}\n",
    "  numerator <- t(Left) %*% Z %*% Right + mean(Z) * epsilon\n",
    "  denominator <- t(Left) %*% W %*% Right + epsilon\n",
    "  return(numerator/denominator)\n",
    "}\n",
    "```"
   ]
  },
  {
   "cell_type": "code",
   "execution_count": null,
   "metadata": {
    "collapsed": true
   },
   "outputs": [],
   "source": []
  },
  {
   "cell_type": "markdown",
   "metadata": {},
   "source": [
    "```\n",
    "similarity_measure <- function(dist, Z, X, Y, W, epsilon) {\n",
    "  if (is.null(W)) W <- array(1, dim(Z))\n",
    "  if (dist==0) {\n",
    "    euc <- function(i) rowSums(W * (Z - X - rep(Y[i,], each = dim(Z)[1]))^2)\n",
    "    return(sapply(1:dim(Y)[1], euc))\n",
    "  } else if (dist==1) {\n",
    "    return((W * X) %*% t(Y + epsilon) - (W * Z) %*% log(t(Y + epsilon)))\n",
    "  }\n",
    "}\n",
    "```"
   ]
  },
  {
   "cell_type": "code",
   "execution_count": null,
   "metadata": {
    "collapsed": true
   },
   "outputs": [],
   "source": []
  },
  {
   "cell_type": "markdown",
   "metadata": {},
   "source": [
    "```\n",
    "assign_cluster <- function(dist, Z, X, Y, W, epsilon) {\n",
    "  D <- similarity_measure(dist, Z, X, Y, W, epsilon)\n",
    "  id <- sapply(1:dim(D)[1], function(i) sort(D[i,], index.return = TRUE)$ix[1])\n",
    "  res <- sapply(1:dim(D)[1], function(i) sort(D[i,])[1]^(2-dist))\n",
    "  return(list(Cluster = diag(dim(Y)[1])[id,], Error = sum(res)))\n",
    "}\n",
    "```"
   ]
  },
  {
   "cell_type": "code",
   "execution_count": null,
   "metadata": {
    "collapsed": true
   },
   "outputs": [],
   "source": []
  },
  {
   "cell_type": "markdown",
   "metadata": {},
   "source": [
    "### BBAC\n",
    "```\n",
    "Z - m x n data matrix, \n",
    "W - m x n measure matrix, \n",
    "k - num row clusters,\n",
    "l - num col clusters\n",
    "```"
   ]
  },
  {
   "cell_type": "markdown",
   "metadata": {},
   "source": [
    "```\n",
    "bbac <- function(matrixDF, numRowC, numColC, W = NULL, distance = \"euclidean\", errobj = 1e-6, niters = 100, nruns = 5, epsilon = 1e-8) {\n",
    "  \n",
    "  error <- Inf\n",
    "  error_now <- Inf\n",
    "  dist <- pmatch(tolower(distance), c(\"euclidean\",\"divergence\")) - 1\n",
    "  \n",
    "  for (r in 1:nruns) {\n",
    "    \n",
    "    # Initialization of R and C\n",
    "    R <- diag(numRowC)[base::sample(numRowC, dim(matrixDF)[1], replace = TRUE),]\n",
    "    C <- diag(numColC)[base::sample(numColC, dim(matrixDF)[2], replace = TRUE),]\n",
    "    \n",
    "    for (s in 1:niters) {\n",
    "      \n",
    "      # Row estimation\n",
    "      rs <- coCavg(dist, \"row\", R, matrixDF, C, W, epsilon)\n",
    "      ra <- assign_cluster(dist, matrixDF, rs$Zrowc, rs$Zrowv, W, epsilon)\n",
    "      R  <- ra$Cluster\n",
    "      \n",
    "      # Column estimation\n",
    "      cs <- coCavg(dist, \"col\", R, matrixDF, C, W, epsilon)\n",
    "      ca <- assign_cluster(dist, t(matrixDF), t(cs$Zcolc), t(cs$Zcolv), W, epsilon)\n",
    "      C  <- ca$Cluster\n",
    "      \n",
    "      # \n",
    "      if (abs(ca$Error - error_now) < errobj) {\n",
    "        status <- paste(\"converged in\",s,\"iterations\")\n",
    "        return(list(R = R, C = C, status = status))\n",
    "      }\n",
    "      \n",
    "      # Update objective value\n",
    "      error_now <- ca$Error\n",
    "      \n",
    "    }\n",
    "    \n",
    "    # Keep pair with min error\n",
    "    if (error_now < error) {\n",
    "      R_star <- R\n",
    "      C_star <- C\n",
    "      error <- error_now\n",
    "    }\n",
    "    \n",
    "  }\n",
    "  \n",
    "  status <- paste(\"reached maximum of\", niters, \"iterations\")\n",
    "  return(list(R = R_star, C = C_star, status = status))\n",
    "  \n",
    "}\n",
    "```"
   ]
  },
  {
   "cell_type": "code",
   "execution_count": null,
   "metadata": {
    "collapsed": true
   },
   "outputs": [],
   "source": []
  },
  {
   "cell_type": "markdown",
   "metadata": {
    "collapsed": true
   },
   "source": [
    "### Run \n",
    "\n",
    "```\n",
    "set.seed(1)\n",
    "input_matrix <- matrix(rep(1:4, 25), 10, 10)\n",
    "\n",
    "# Run co-clustering algorithm\n",
    "bbac_res <- bbac(matrixDF, k = 2, l = 2, distance = \"e\")\n",
    "\n",
    "\n",
    "```"
   ]
  },
  {
   "cell_type": "code",
   "execution_count": null,
   "metadata": {
    "collapsed": true
   },
   "outputs": [],
   "source": []
  },
  {
   "attachments": {
    "image.png": {
     "image/png": "[encoded data removed]"
    }
   },
   "cell_type": "markdown",
   "metadata": {},
   "source": [
    "### Plot results\n",
    "```\n",
    "plot_coclusters <- function(Z, R, C) {\n",
    "  # Sort matrix\n",
    "  Y <- t(Z[(R * (1:nrow(R)))[R != 0], (C * (1:nrow(C)))[C != 0]])\n",
    "    \n",
    "  # Plot sorted matrix\n",
    "  image(seq(0, 1, length.out = dim(Y)[1]), seq(0, 1, length.out = dim(Y)[2]),\n",
    "        Y, col = grey((0:12)/12), axes = FALSE, xlab = \"\", ylab = \"\")\n",
    "    \n",
    "  # Print row clusters\n",
    "  row_clust <- (head(cumsum(colSums(R)), -1) - 0.5)/(ncol(Y) - 1)\n",
    "  invisible(sapply(1:length(row_clust), function(i) \n",
    "    segments(-0.5, row_clust[i], 1.5, row_clust[i], col = 2, lwd = 2)))\n",
    "  \n",
    "  # Print column clusters\n",
    "  col_clust <- (head(cumsum(colSums(C)), -1) - 0.5)/(nrow(Y) - 1)\n",
    "  invisible(sapply(1:length(col_clust), function(i) \n",
    "    segments(col_clust[i], -0.5, col_clust[i], 1.5, col = 2, lwd = 2)))\n",
    "}\n",
    "                   \n",
    "# Show co-clusters\n",
    "par(mfrow=c(1, 1))\n",
    "plot_coclusters(input_matrix, bbac_res$R, bbac_res$C)\n",
    "title(paste(\"CoCavg algorithm\", bbac_res$status))\n",
    "```\n",
    "![image.png](attachment:image.png)"
   ]
  },
  {
   "cell_type": "code",
   "execution_count": null,
   "metadata": {
    "collapsed": true
   },
   "outputs": [],
   "source": []
  }
 ],
 "metadata": {
  "kernelspec": {
   "display_name": "Python 3",
   "language": "python",
   "name": "python3"
  },
  "language_info": {
   "codemirror_mode": {
    "name": "ipython",
    "version": 3
   },
   "file_extension": ".py",
   "mimetype": "text/x-python",
   "name": "python",
   "nbconvert_exporter": "python",
   "pygments_lexer": "ipython3",
   "version": "3.5.2"
  }
 },
 "nbformat": 4,
 "nbformat_minor": 2
}
