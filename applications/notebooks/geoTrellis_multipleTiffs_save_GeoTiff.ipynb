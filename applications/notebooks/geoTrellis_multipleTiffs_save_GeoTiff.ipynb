{
 "cells": [
  {
   "cell_type": "code",
   "execution_count": 66,
   "metadata": {
    "collapsed": true
   },
   "outputs": [],
   "source": [
    "/**\n",
    " The following notebook does:\n",
    "     - Reads multi single- or a multi- band GeoTiff from HDFS\n",
    "     - Filters out or converts NaN values\n",
    "     - Runs Kmeans\n",
    "     - Saves the kmeans model to HDFS\n",
    "**/\n",
    "\n",
    "\n",
    "import geotrellis.raster.MultibandTile\n",
    "import geotrellis.spark.io.hadoop._\n",
    "import geotrellis.vector.ProjectedExtent\n",
    "import org.apache.hadoop.fs.Path\n",
    "import org.apache.spark.{SparkConf, SparkContext}\n",
    "import org.apache.spark.mllib.clustering.KMeans\n",
    "import org.apache.spark.mllib.linalg.Vectors\n",
    "import org.apache.spark.mllib.linalg.Vector\n",
    "import org.apache.spark.rdd.RDD"
   ]
  },
  {
   "cell_type": "code",
   "execution_count": 67,
   "metadata": {},
   "outputs": [],
   "source": [
    "/*\n",
    " The following example shows how to get the number of bands, however, it is not known \n",
    "val band_count = geotrellis.raster.io.geotiff.reader.TiffTagsReader.read(filepath).bandCount;\n",
    "*/\n",
    "\n",
    "val band_count = 1;\n",
    "val in_memory = 2;\n",
    "var band_RDD :RDD[Array[Double]] = sc.emptyRDD\n",
    "var band_vec :RDD[Vector] = sc.emptyRDD\n",
    "val pattern: String = \"tif\"\n",
    "var filepath :String = \"\"\n",
    "\n",
    "if (band_count == 1) {\n",
    "    //Single band GeoTiff\n",
    "    filepath = \"hdfs:///user/hadoop/spring-index/LastFreeze/\"\n",
    "} else {\n",
    "    //Multi band GeoTiff\n",
    "    filepath = \"hdfs:///user/hadoop/spring-index/BloomFinal/\"\n",
    "}\n",
    "    \n",
    "if (band_count == 1) {\n",
    "    //Lets load a Singleband GeoTiff and return RDD just with the tiles.\n",
    "    //Since it is a single GeoTiff, it will be a RDD with a tile.\n",
    "    val bands_RDD = sc.hadoopGeoTiffRDD(filepath, pattern).values\n",
    "    \n",
    "    //Lets filter out NaN\n",
    "    band_RDD = bands_RDD.map(m => m.toArrayDouble().filter(!_.isNaN).take(100))\n",
    "} else {\n",
    "    //Lets load a Multiband GeoTiff and return RDD just with the tiles.\n",
    "    //Since it is a single GeoTiff, it will be a RDD with a tile.\n",
    "    val bands_RDD = sc.hadoopMultibandGeoTiffRDD(filepath, pattern).values\n",
    "    \n",
    "    //Extract the 4th band and filter out NaN\n",
    "    band_RDD = bands_RDD.map(m => m.band(3).toArrayDouble().filter(v => !v.isNaN).take(1000000))\n",
    "}"
   ]
  },
  {
   "cell_type": "code",
   "execution_count": null,
   "metadata": {},
   "outputs": [],
   "source": []
  },
  {
   "cell_type": "code",
   "execution_count": 68,
   "metadata": {},
   "outputs": [
    {
     "name": "stdout",
     "output_type": "stream",
     "text": [
      "2\n",
      "                                                                                \r"
     ]
    }
   ],
   "source": [
    "/*\n",
    "We need to do a Matrix transpose to have clusters per cell\n",
    "and not per year. If we do:\n",
    "\n",
    "val band_vec = band_RDD.map(s => Vectors.dense(s)).cache()\n",
    "\n",
    "The vectors are rows and therefore the matrix will look like this:\n",
    "Vectors.dense(0.0, 1.0, 2.0),\n",
    "Vectors.dense(3.0, 4.0, 5.0),\n",
    "Vectors.dense(6.0, 7.0, 8.0),\n",
    "Vectors.dense(9.0, 0.0, 1.0)\n",
    "\n",
    "Inspired in:\n",
    "http://jacob119.blogspot.nl/2015/11/how-to-convert-matrix-to-rddvector-in.html\n",
    "and\n",
    "https://stackoverflow.com/questions/29390717/how-to-transpose-an-rdd-in-spark\n",
    "*/\n",
    "\n",
    "if (in_memory == 1) {\n",
    "    //A) For small memory footprint RDDs we can simply bring it to memory and transpose it\n",
    "    //First transpose and then parallelize otherwise you get:\n",
    "    //error: polymorphic expression cannot be instantiated to expected type;\n",
    "    val band_vec_T = band_RDD.collect().transpose\n",
    "    band_vec = sc.parallelize(band_vec_T).map(m => Vectors.dense(m)).cache()\n",
    "} else {\n",
    "    //B) For large memory footpring RDDs we need to run in distributed mode\n",
    "\n",
    "    // Split the matrix into one number per line.\n",
    "    val byColumnAndRow = band_RDD.zipWithIndex.flatMap {\n",
    "        case (row, rowIndex) => row.zipWithIndex.map {\n",
    "          case (number, columnIndex) => columnIndex -> (rowIndex, number)\n",
    "        }\n",
    "    }\n",
    "\n",
    "    // Build up the transposed matrix. Group and sort by column index first.\n",
    "    val byColumn = byColumnAndRow.groupByKey.sortByKey().values\n",
    "\n",
    "    // Then sort by row index.\n",
    "    val transposed = byColumn.map {\n",
    "        indexedRow => indexedRow.toSeq.sortBy(_._1).map(_._2)\n",
    "    }\n",
    "\n",
    "    band_vec = transposed.map(m => Vectors.dense(m.toArray)).cache()\n",
    "}"
   ]
  },
  {
   "cell_type": "code",
   "execution_count": null,
   "metadata": {
    "collapsed": true
   },
   "outputs": [],
   "source": []
  },
  {
   "cell_type": "code",
   "execution_count": 69,
   "metadata": {},
   "outputs": [
    {
     "name": "stdout",
     "output_type": "stream",
     "text": [
      "[Stage 88:=============================================>          (29 + 4) / 36]100\n",
      "36\n",
      "[0.0,0.0,0.0,0.0,0.0,0.0,0.0,0.0,0.0,0.0,0.0,0.0,0.0,0.0,0.0,0.0,0.0,0.0,0.0,0.0,0.0,0.0,0.0,0.0,0.0,0.0,0.0,0.0,0.0,0.0,0.0,0.0,0.0,0.0,0.0,136.0]\n"
     ]
    }
   ],
   "source": [
    "/*\n",
    "    Here we will collect some info to see if the transpose worked correctly\n",
    "*/\n",
    "\n",
    "val band_vec_col = band_vec.collect()\n",
    "\n",
    "//Number of Columns, i.e., years\n",
    "println(band_vec_col.size)\n",
    "\n",
    "//Number of cells after filtering our NaN and a take()\n",
    "println(band_vec_col(0).size)\n",
    "\n",
    "//Values for a cell over the years.\n",
    "println(band_vec_col(0))"
   ]
  },
  {
   "cell_type": "code",
   "execution_count": null,
   "metadata": {},
   "outputs": [],
   "source": []
  },
  {
   "cell_type": "code",
   "execution_count": 70,
   "metadata": {},
   "outputs": [
    {
     "name": "stdout",
     "output_type": "stream",
     "text": [
      "[Stage 125:===================================>                   (23 + 2) / 36]Within Set Sum of Squared Errors = 1157650.8379629645\n"
     ]
    },
    {
     "data": {
      "text/plain": [
       "MapPartitionsRDD[153] at map at <console>:116"
      ]
     },
     "execution_count": 70,
     "metadata": {},
     "output_type": "execute_result"
    }
   ],
   "source": [
    "/*\n",
    " Here we will train kmeans\n",
    "*/\n",
    "\n",
    "val numClusters = 3\n",
    "val numIterations = 5\n",
    "val clusters = {\n",
    "    KMeans.train(band_vec,numClusters,numIterations)\n",
    "}\n",
    "\n",
    "// Evaluate clustering by computing Within Set Sum of Squared Errors\n",
    "val WSSSE = clusters.computeCost(band_vec)\n",
    "println(\"Within Set Sum of Squared Errors = \" + WSSSE)\n",
    "\n",
    "//Un-persist the model\n",
    "band_vec.unpersist()"
   ]
  },
  {
   "cell_type": "code",
   "execution_count": 71,
   "metadata": {},
   "outputs": [
    {
     "name": "stdout",
     "output_type": "stream",
     "text": [
      "Cluster Centers: \n",
      "[140.6,114.7,130.3,128.4,127.93333333333334,105.8,119.0,119.06666666666666,113.36666666666666,135.8,68.4,104.5,60.266666666666666,104.39999999999999,89.7,99.66666666666667,102.13333333333333,138.6,134.86666666666667,154.46666666666667,158.36666666666667,161.36666666666667,159.6,148.63333333333333,147.76666666666665,130.63333333333333,144.8,146.66666666666666,157.2,151.9,153.53333333333333,143.53333333333333,148.4,126.7,118.56666666666666,136.0]\n",
      "[7.518518518518518,10.11111111111111,10.703703703703702,0.0,4.407407407407407,2.462962962962963,12.518518518518517,0.25925925925925924,7.703703703703703,14.925925925925926,11.962962962962962,15.407407407407407,1.1296296296296295,13.648148148148147,6.796296296296296,12.018518518518517,12.574074074074073,6.277777777777778,2.888888888888889,0.0,5.666666666666666,5.259259259259259,16.62962962962963,2.2777777777777777,1.259259259259259,7.425925925925926,13.814814814814815,15.055555555555555,9.796296296296296,13.462962962962962,0.0,13.648148148148147,11.074074074074073,0.8148148148148148,9.62962962962963,136.0]\n",
      "[99.3125,58.375,93.125,55.375,62.0,64.375,52.1875,58.4375,49.0,68.75,50.4375,78.5,7.0,63.75,76.5,64.625,74.4375,102.375,95.4375,118.0,110.125,102.6875,120.75,95.1875,93.25,92.4375,108.625,105.4375,122.3125,108.5,106.5,109.375,90.6875,81.4375,60.0625,136.0]\n"
     ]
    },
    {
     "data": {
      "text/plain": [
       "Name: Syntax Error.\n",
       "Message: \n",
       "StackTrace: "
      ]
     },
     "execution_count": 71,
     "metadata": {},
     "output_type": "execute_result"
    }
   ],
   "source": [
    "/*\n",
    " Cluster model's result management\n",
    "*/\n",
    "\n",
    "// Lets show the result.\n",
    "println(\"Cluster Centers: \")\n",
    "clusters.clusterCenters.foreach(println)\n",
    "\n",
    "//Lets save the model into HDFS. If the file already exists it will abort and report error.\n",
    "/*\n",
    "if (band_count == 1) {\n",
    "    clusters.save(sc, \"hdfs:///user/emma/spring_index/LastFreeze/all_kmeans_model\")    \n",
    "} else {\n",
    "    clusters.save(sc, \"hdfs:///user/emma/spring_index/BloomFinal/all_kmeans_model\")\n",
    "}\n",
    "*/"
   ]
  },
  {
   "cell_type": "code",
   "execution_count": 72,
   "metadata": {},
   "outputs": [],
   "source": [
    "/*\n",
    " Run Kmeans and obtain the clusters per each cell and collect first 50 results.\n",
    "*/\n",
    "\n",
    "//Cache the model\n",
    "band_vec.cache()\n",
    "\n",
    "val res = clusters.predict(band_vec)\n",
    "\n",
    "//Un-persist the model\n",
    "band_vec.unpersist()\n",
    "                           \n",
    "//Collect first 50\n",
    "val res_out = res.collect().take(50)"
   ]
  },
  {
   "cell_type": "code",
   "execution_count": 73,
   "metadata": {},
   "outputs": [
    {
     "name": "stdout",
     "output_type": "stream",
     "text": [
      "1\n",
      "1\n",
      "1\n",
      "1\n",
      "1\n",
      "1\n",
      "1\n",
      "1\n",
      "1\n",
      "1\n",
      "1\n",
      "1\n",
      "1\n",
      "1\n",
      "1\n",
      "1\n",
      "1\n",
      "1\n",
      "1\n",
      "1\n",
      "1\n",
      "1\n",
      "1\n",
      "1\n",
      "1\n",
      "1\n",
      "1\n",
      "1\n",
      "1\n",
      "1\n",
      "1\n",
      "1\n",
      "1\n",
      "1\n",
      "2\n",
      "2\n",
      "0\n",
      "0\n",
      "2\n",
      "1\n",
      "1\n",
      "1\n",
      "1\n",
      "1\n",
      "1\n",
      "1\n",
      "1\n",
      "1\n",
      "1\n",
      "1\n"
     ]
    }
   ],
   "source": [
    "/*\n",
    " Show the cluster ID for the first 50 cells\n",
    "*/\n",
    "\n",
    "res_out.foreach(println)"
   ]
  },
  {
   "cell_type": "code",
   "execution_count": 17,
   "metadata": {},
   "outputs": [
    {
     "name": "stdout",
     "output_type": "stream",
     "text": [
      "100\n"
     ]
    }
   ],
   "source": [
    "/* \n",
    " Save the result as GeoTiff. However, it is not straightforward.\n",
    " We need to get the clusterCenter which is a RDD[Vectors]\n",
    " It contains a vector per year. However, the vector indices\n",
    " are the ones from the ArrayOfDoubles with the NaN values.\n",
    "*/\n"
   ]
  },
  {
   "cell_type": "code",
   "execution_count": null,
   "metadata": {
    "collapsed": true
   },
   "outputs": [],
   "source": []
  }
 ],
 "metadata": {
  "kernelspec": {
   "display_name": "Apache Toree - Scala",
   "language": "scala",
   "name": "apache_toree_scala"
  },
  "language_info": {
   "codemirror_mode": "text/x-scala",
   "file_extension": ".scala",
   "mimetype": "text/x-scala",
   "name": "scala",
   "pygments_lexer": "scala",
   "version": "2.11.8"
  }
 },
 "nbformat": 4,
 "nbformat_minor": 2
}
