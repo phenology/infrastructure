{
 "cells": [
  {
   "cell_type": "markdown",
   "metadata": {
    "slideshow": {
     "slide_type": "slide"
    }
   },
   "source": [
    "# Title\n",
    "\n",
    "\n",
    "Text"
   ]
  },
  {
   "cell_type": "markdown",
   "metadata": {
    "slideshow": {
     "slide_type": "subslide"
    }
   },
   "source": [
    "## Initialization\n",
    "This section initializes the notebook."
   ]
  },
  {
   "cell_type": "markdown",
   "metadata": {
    "slideshow": {
     "slide_type": "subslide"
    }
   },
   "source": [
    "### Dependencies\n",
    "Here, all necessary libraries are imported."
   ]
  },
  {
   "cell_type": "code",
   "execution_count": 1,
   "metadata": {
    "slideshow": {
     "slide_type": "subslide"
    }
   },
   "outputs": [],
   "source": [
    "#Add all dependencies to PYTHON_PATH\n",
    "import sys\n",
    "sys.path.append(\"/usr/lib/spark/python\")\n",
    "sys.path.append(\"/usr/lib/spark/python/lib/py4j-0.10.4-src.zip\")\n",
    "sys.path.append(\"/usr/lib/python3/dist-packages\")\n",
    "sys.path.append(\"/data/local/jupyterhub/modules/python\")\n",
    "\n",
    "#Define environment variables\n",
    "import os\n",
    "os.environ[\"HADOOP_CONF_DIR\"] = \"/etc/hadoop/conf\"\n",
    "os.environ[\"PYSPARK_PYTHON\"] = \"python3\"\n",
    "os.environ[\"PYSPARK_DRIVER_PYTHON\"] = \"ipython\"\n",
    "\n",
    "import subprocess\n",
    "\n",
    "#Load PySpark to connect to a Spark cluster\n",
    "from pyspark import SparkConf, SparkContext\n",
    "from hdfs import InsecureClient\n",
    "from tempfile import TemporaryFile\n",
    "\n",
    "#from osgeo import gdal\n",
    "#To read GeoTiffs as a ByteArray\n",
    "from io import BytesIO\n",
    "from rasterio.io import MemoryFile\n",
    "\n",
    "import numpy\n",
    "import numpy as np\n",
    "import pandas\n",
    "import datetime\n",
    "import matplotlib.pyplot as plt\n",
    "import rasterio\n",
    "from rasterio import plot\n",
    "from os import listdir\n",
    "from os.path import isfile, join\n",
    "import scipy.linalg"
   ]
  },
  {
   "cell_type": "markdown",
   "metadata": {},
   "source": [
    "### Configuration\n",
    "This configuration determines whether functions print logs during the execution."
   ]
  },
  {
   "cell_type": "code",
   "execution_count": 2,
   "metadata": {},
   "outputs": [],
   "source": [
    "debugMode = True"
   ]
  },
  {
   "cell_type": "markdown",
   "metadata": {},
   "source": [
    "### Connect to Spark\n",
    "Here, the Spark context is loaded, which allows for a connection to HDFS."
   ]
  },
  {
   "cell_type": "code",
   "execution_count": 3,
   "metadata": {},
   "outputs": [
    {
     "name": "stdout",
     "output_type": "stream",
     "text": [
      "A new Spark Context will be created.\n"
     ]
    }
   ],
   "source": [
    "appName = \"plot_GeoTiff\"\n",
    "masterURL = \"spark://emma0.emma.nlesc.nl:7077\"\n",
    "\n",
    "#A context needs to be created if it does not already exist\n",
    "try:\n",
    "    sc.stop()\n",
    "except NameError:\n",
    "    print(\"A new Spark Context will be created.\")\n",
    "\n",
    "sc = SparkContext(conf = SparkConf().setAppName(appName).setMaster(masterURL))\n",
    "conf = sc.getConf()"
   ]
  },
  {
   "cell_type": "markdown",
   "metadata": {},
   "source": [
    "## Subtitle"
   ]
  },
  {
   "cell_type": "code",
   "execution_count": 4,
   "metadata": {},
   "outputs": [],
   "source": [
    "def getModeAsArray(filePath):\n",
    "    data = sc.binaryFiles(filePath).take(1)\n",
    "    byteArray = bytearray(data[0][1])\n",
    "    memfile = MemoryFile(byteArray)\n",
    "    dataset = memfile.open()\n",
    "    array = np.array(dataset.read()[0], dtype=np.float64)\n",
    "    memfile.close()\n",
    "    array = array.flatten()\n",
    "    array = array[~np.isnan(array)]\n",
    "    return array"
   ]
  },
  {
   "cell_type": "code",
   "execution_count": 5,
   "metadata": {},
   "outputs": [],
   "source": [
    "def detemineNorm(array1, array2):\n",
    "    if array1.shape != array2.shape:\n",
    "        print(\"Error: shapes are not the same: (\" + str(array1.shape) + \" vs \" + str(array2.shape) + \")\")\n",
    "        return 0\n",
    "    value = scipy.linalg.norm(array1 - array2)\n",
    "    if value > 1:\n",
    "        value = scipy.linalg.norm(array1 + array2)\n",
    "    return value"
   ]
  },
  {
   "cell_type": "code",
   "execution_count": 6,
   "metadata": {},
   "outputs": [],
   "source": [
    "textFile1 = sc.textFile(\"hdfs:///user/emma/svd/spark/BloomGridmetLeafGridmetCali3/U.csv\").map(lambda line: (line.split(','))).map(lambda m: [ float(i) for i in m]).collect()"
   ]
  },
  {
   "cell_type": "code",
   "execution_count": 7,
   "metadata": {},
   "outputs": [],
   "source": [
    "array1 = numpy.array(textFile1, dtype=np.float64)\n",
    "vector11 = array1.T[0]\n",
    "vector12 = array1.T[1]\n",
    "vector13 = array1.T[2]"
   ]
  },
  {
   "cell_type": "code",
   "execution_count": 8,
   "metadata": {},
   "outputs": [],
   "source": [
    "textFile2 = sc.textFile(\"hdfs:///user/emma/svd/BloomGridmetLeafGridmetCali/U.csv\").map(lambda line: (line.split(','))).map(lambda m: [ np.float64(i) for i in m]).collect()"
   ]
  },
  {
   "cell_type": "code",
   "execution_count": 9,
   "metadata": {},
   "outputs": [],
   "source": [
    "array2 = numpy.array(textFile2, dtype=np.float64).reshape(37,23926)\n",
    "vector21 = array2[0]\n",
    "vector22 = array2[1]\n",
    "vector23 = array2[2]"
   ]
  },
  {
   "cell_type": "code",
   "execution_count": 10,
   "metadata": {},
   "outputs": [
    {
     "data": {
      "text/plain": [
       "(26, 23926)"
      ]
     },
     "execution_count": 10,
     "metadata": {},
     "output_type": "execute_result"
    }
   ],
   "source": [
    "array2.shape"
   ]
  },
  {
   "cell_type": "code",
   "execution_count": 11,
   "metadata": {},
   "outputs": [
    {
     "name": "stdout",
     "output_type": "stream",
     "text": [
      "0.019877920048689643\n",
      "0.22515439980564012\n",
      "0.5539126057618723\n"
     ]
    }
   ],
   "source": [
    "print(detemineNorm(vector11, vector21))\n",
    "print(detemineNorm(vector12, vector22))\n",
    "print(detemineNorm(vector13, vector23))"
   ]
  },
  {
   "cell_type": "code",
   "execution_count": 12,
   "metadata": {},
   "outputs": [
    {
     "data": {
      "text/plain": [
       "0.019877920048689643"
      ]
     },
     "execution_count": 12,
     "metadata": {},
     "output_type": "execute_result"
    }
   ],
   "source": [
    "array1 = getModeAsArray(\"hdfs:///user/emma/svd/spark/BloomGridmetLeafGridmetCali3/u_tiffs/svd_u_0_26.tif\")\n",
    "array2 = getModeAsArray(\"hdfs:///user/emma/svd/BloomGridmetLeafGridmetCali/ModeU01.tif\")\n",
    "detemineNorm(array1, array2)"
   ]
  },
  {
   "cell_type": "code",
   "execution_count": 13,
   "metadata": {},
   "outputs": [
    {
     "name": "stdout",
     "output_type": "stream",
     "text": [
      "0.0\n",
      "0.019877920048689643\n",
      "0.019877920048689643\n",
      "0.0\n"
     ]
    }
   ],
   "source": [
    "print(detemineNorm(array1, vector11))\n",
    "print(detemineNorm(array1, vector21))\n",
    "print(detemineNorm(array2, vector11))\n",
    "print(detemineNorm(array2, vector21))"
   ]
  },
  {
   "cell_type": "code",
   "execution_count": 14,
   "metadata": {},
   "outputs": [
    {
     "data": {
      "text/plain": [
       "array([ True,  True,  True, ...,  True,  True,  True], dtype=bool)"
      ]
     },
     "execution_count": 14,
     "metadata": {},
     "output_type": "execute_result"
    }
   ],
   "source": [
    "~np.in1d(array1, vector21)"
   ]
  },
  {
   "cell_type": "code",
   "execution_count": 15,
   "metadata": {},
   "outputs": [
    {
     "name": "stdout",
     "output_type": "stream",
     "text": [
      "0.0054475668246696104 0.0054758155880260369 0.0109233824126956473\n",
      "0.0060040926559457716 0.0060814415638501228 0.0120855342197958952\n",
      "0.0063498673700583394 0.0064090184856642873 0.0127588858557226258\n",
      "0.0066775983071042967 0.0067640268435454360 0.0134416251506497327\n",
      "0.0071891643730413405 0.0071925245790763958 0.0143816889521177355\n",
      "0.0074920533789200119 0.0074329244892621001 0.0149249778681821120\n",
      "0.0080115963666863507 0.0079135797838804072 0.0159251761505667597\n",
      "0.0080884104673247127 0.0080470660225824050 0.0161354764899071176\n",
      "0.0082395320915717492 0.0081619449603445877 0.0164014770519163369\n",
      "0.0082126407883930195 0.0080970752124450082 0.0163097160008380260\n"
     ]
    }
   ],
   "source": [
    "for i in range(10):\n",
    "    print(\"%.19f %0.19f %0.19f\" % (array1[i], array2[i], (array1[i]+array2[i])))"
   ]
  },
  {
   "cell_type": "markdown",
   "metadata": {},
   "source": [
    "### BloomFinalLowPR and LeafFinalLowPR"
   ]
  },
  {
   "cell_type": "code",
   "execution_count": 16,
   "metadata": {},
   "outputs": [
    {
     "data": {
      "text/plain": [
       "9.28098946087584e-16"
      ]
     },
     "execution_count": 16,
     "metadata": {},
     "output_type": "execute_result"
    }
   ],
   "source": [
    "array1 = getModeAsArray(\"hdfs:///user/emma/svd/BloomFinalLowPRLeafFinalLowPR/ModeU01.tif\")\n",
    "array2 = getModeAsArray(\"hdfs:///user/emma/svd/spark/BloomFinalLowPRLeafFinalLowPR3/u_tiffs/svd_u_0_3.tif\")\n",
    "detemineNorm(array1, array2)"
   ]
  },
  {
   "cell_type": "code",
   "execution_count": 17,
   "metadata": {},
   "outputs": [
    {
     "data": {
      "text/plain": [
       "8.816536190170412e-13"
      ]
     },
     "execution_count": 17,
     "metadata": {},
     "output_type": "execute_result"
    }
   ],
   "source": [
    "array1 = getModeAsArray(\"hdfs:///user/emma/svd/BloomFinalLowPRLeafFinalLowPR/ModeU02.tif\")\n",
    "array2 = getModeAsArray(\"hdfs:///user/emma/svd/spark/BloomFinalLowPRLeafFinalLowPR3/u_tiffs/svd_u_1_3.tif\")\n",
    "detemineNorm(array1, array2)"
   ]
  },
  {
   "cell_type": "code",
   "execution_count": 18,
   "metadata": {},
   "outputs": [
    {
     "data": {
      "text/plain": [
       "9.28098946087584e-16"
      ]
     },
     "execution_count": 18,
     "metadata": {},
     "output_type": "execute_result"
    }
   ],
   "source": [
    "array1 = getModeAsArray(\"hdfs:///user/emma/svd/BloomFinalLowPRLeafFinalLowPR/ModeU01.tif\")\n",
    "array2 = getModeAsArray(\"hdfs:///user/emma/svd/spark/BloomFinalLowPRLeafFinalLowPR3/u_tiffs/svd_u_0_3.tif\")\n",
    "detemineNorm(array1, array2)"
   ]
  },
  {
   "cell_type": "markdown",
   "metadata": {},
   "source": [
    "### BloomGridmet and LeafGridmet"
   ]
  },
  {
   "cell_type": "code",
   "execution_count": 36,
   "metadata": {},
   "outputs": [
    {
     "name": "stdout",
     "output_type": "stream",
     "text": [
      "0.019877920048689643\n",
      "0.22515439980564012\n",
      "0.5539126057618723\n",
      "0.7117353852776293\n",
      "0.6851165621257903\n",
      "1.4807162426411247\n",
      "1.1137233966422266\n",
      "1.313815863083196\n",
      "1.2163766695516485\n",
      "1.0750196677899924\n",
      "1.4332856347586593\n",
      "1.556381876954485\n",
      "1.5303061254016956\n",
      "1.4356203489793442\n",
      "1.7161962709948404\n",
      "1.1844712251458485\n",
      "1.245426934074946\n",
      "1.5116259272830825\n",
      "1.1301663108598696\n",
      "1.4550808460826279\n",
      "1.5220695730859273\n",
      "1.4407635322689494\n",
      "1.2046921666560537\n",
      "1.4782273745166723\n",
      "1.4577514911203793\n",
      "1.5840442665155274\n"
     ]
    }
   ],
   "source": [
    "for i in range(37):\n",
    "    if (i < 9):\n",
    "        path1 = \"hdfs:///user/emma/svd/BloomGridmetLeafGridmetCali/ModeU0\"+ str(i+1) + \".tif\"\n",
    "    else:\n",
    "        path1 = \"hdfs:///user/emma/svd/BloomGridmetLeafGridmetCali/ModeU\"+ str(i+1) + \".tif\"\n",
    "    array1 = getModeAsArray(path1)\n",
    "    array2 = getModeAsArray(\"hdfs:///user/emma/svd/spark/BloomGridmetLeafGridmetCali3/u_tiffs/svd_u_\" +str(i) +\"_26.tif\")\n",
    "    print(detemineNorm(array1, array2))"
   ]
  },
  {
   "cell_type": "markdown",
   "metadata": {},
   "source": [
    "End of Notebook"
   ]
  },
  {
   "cell_type": "code",
   "execution_count": null,
   "metadata": {},
   "outputs": [],
   "source": []
  }
 ],
 "metadata": {
  "kernelspec": {
   "display_name": "Python 3",
   "language": "python",
   "name": "python3"
  },
  "language_info": {
   "codemirror_mode": {
    "name": "ipython",
    "version": 3
   },
   "file_extension": ".py",
   "mimetype": "text/x-python",
   "name": "python",
   "nbconvert_exporter": "python",
   "pygments_lexer": "ipython3",
   "version": "3.5.2"
  }
 },
 "nbformat": 4,
 "nbformat_minor": 2
}
