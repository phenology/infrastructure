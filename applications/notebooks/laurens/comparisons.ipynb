{
 "cells": [
  {
   "cell_type": "markdown",
   "metadata": {
    "slideshow": {
     "slide_type": "slide"
    }
   },
   "source": [
    "# Title\n",
    "\n",
    "\n",
    "Text"
   ]
  },
  {
   "cell_type": "markdown",
   "metadata": {
    "slideshow": {
     "slide_type": "subslide"
    }
   },
   "source": [
    "## Initialization\n",
    "This section initializes the notebook."
   ]
  },
  {
   "cell_type": "markdown",
   "metadata": {
    "slideshow": {
     "slide_type": "subslide"
    }
   },
   "source": [
    "### Dependencies\n",
    "Here, all necessary libraries are imported."
   ]
  },
  {
   "cell_type": "code",
   "execution_count": 7,
   "metadata": {
    "slideshow": {
     "slide_type": "subslide"
    }
   },
   "outputs": [],
   "source": [
    "#Add all dependencies to PYTHON_PATH\n",
    "import sys\n",
    "sys.path.append(\"/usr/lib/spark/python\")\n",
    "sys.path.append(\"/usr/lib/spark/python/lib/py4j-0.10.4-src.zip\")\n",
    "sys.path.append(\"/usr/lib/python3/dist-packages\")\n",
    "sys.path.append(\"/data/local/jupyterhub/modules/python\")\n",
    "\n",
    "#Define environment variables\n",
    "import os\n",
    "os.environ[\"HADOOP_CONF_DIR\"] = \"/etc/hadoop/conf\"\n",
    "os.environ[\"PYSPARK_PYTHON\"] = \"python3\"\n",
    "os.environ[\"PYSPARK_DRIVER_PYTHON\"] = \"ipython\"\n",
    "\n",
    "import subprocess\n",
    "\n",
    "#Load PySpark to connect to a Spark cluster\n",
    "from pyspark import SparkConf, SparkContext\n",
    "from hdfs import InsecureClient\n",
    "from tempfile import TemporaryFile\n",
    "\n",
    "#from osgeo import gdal\n",
    "#To read GeoTiffs as a ByteArray\n",
    "from io import BytesIO\n",
    "from rasterio.io import MemoryFile\n",
    "\n",
    "import numpy\n",
    "import numpy as np\n",
    "import pandas\n",
    "import datetime\n",
    "import matplotlib.pyplot as plt\n",
    "import rasterio\n",
    "from rasterio import plot\n",
    "from os import listdir\n",
    "from os.path import isfile, join\n",
    "import scipy.linalg"
   ]
  },
  {
   "cell_type": "markdown",
   "metadata": {},
   "source": [
    "### Configuration\n",
    "This configuration determines whether functions print logs during the execution."
   ]
  },
  {
   "cell_type": "code",
   "execution_count": 8,
   "metadata": {},
   "outputs": [],
   "source": [
    "debugMode = True"
   ]
  },
  {
   "cell_type": "markdown",
   "metadata": {},
   "source": [
    "### Connect to Spark\n",
    "Here, the Spark context is loaded, which allows for a connection to HDFS."
   ]
  },
  {
   "cell_type": "code",
   "execution_count": 9,
   "metadata": {},
   "outputs": [],
   "source": [
    "appName = \"plot_GeoTiff\"\n",
    "masterURL = \"spark://emma0.emma.nlesc.nl:7077\"\n",
    "\n",
    "#A context needs to be created if it does not already exist\n",
    "try:\n",
    "    sc.stop()\n",
    "except NameError:\n",
    "    print(\"A new Spark Context will be created.\")\n",
    "\n",
    "sc = SparkContext(conf = SparkConf().setAppName(appName).setMaster(masterURL))\n",
    "conf = sc.getConf()"
   ]
  },
  {
   "cell_type": "markdown",
   "metadata": {},
   "source": [
    "## Subtitle"
   ]
  },
  {
   "cell_type": "code",
   "execution_count": 10,
   "metadata": {},
   "outputs": [],
   "source": [
    "def getModeAsArray(filePath):\n",
    "    data = sc.binaryFiles(filePath).take(1)\n",
    "    byteArray = bytearray(data[0][1])\n",
    "    memfile = MemoryFile(byteArray)\n",
    "    dataset = memfile.open()\n",
    "    array = np.array(dataset.read()[0])\n",
    "    memfile.close()\n",
    "    array = array.flatten()\n",
    "    array = array[~np.isnan(array)]\n",
    "    return array"
   ]
  },
  {
   "cell_type": "code",
   "execution_count": 11,
   "metadata": {},
   "outputs": [],
   "source": [
    "def detemineNorm(array1, array2):\n",
    "    if array1.shape != array2.shape:\n",
    "        print(\"Error: shapes are not the same: (\" + str(array1.shape) + \" vs \" + str(array2.shape) + \")\")\n",
    "        return 0\n",
    "    value = scipy.linalg.norm(array1 - array2)\n",
    "    if value > 1:\n",
    "        value = scipy.linalg.norm(array1 + array2)\n",
    "    return value"
   ]
  },
  {
   "cell_type": "code",
   "execution_count": 26,
   "metadata": {},
   "outputs": [],
   "source": [
    "textFile1 = sc.textFile(\"hdfs:///user/pheno/svd/spark/BloomGridmetLeafGridmet3/U.csv\").map(lambda line: (line.split(','))).map(lambda m: [ float(i) for i in m]).collect()"
   ]
  },
  {
   "cell_type": "code",
   "execution_count": 79,
   "metadata": {},
   "outputs": [],
   "source": [
    "textFile2 = sc.textFile(\"hdfs:///user/emma/svd/BloomGridmetLeafGridmet/U.csv\").map(lambda line: (line.split(','))).map(lambda m: [ float(i) for i in m]).collect()"
   ]
  },
  {
   "cell_type": "code",
   "execution_count": 80,
   "metadata": {},
   "outputs": [],
   "source": [
    "array1 = numpy.array(textFile1, dtype=float)\n",
    "vector11 = array1.T[0]\n",
    "vector12 = array1.T[1]\n",
    "vector13 = array1.T[2]"
   ]
  },
  {
   "cell_type": "code",
   "execution_count": 81,
   "metadata": {},
   "outputs": [],
   "source": [
    "array2 = numpy.array(textFile2, dtype=float).reshape(483850, 37)\n",
    "vector21 = array2.T[0]\n",
    "vector22 = array2.T[1]\n",
    "vector23 = array2.T[2]"
   ]
  },
  {
   "cell_type": "code",
   "execution_count": 82,
   "metadata": {},
   "outputs": [
    {
     "name": "stdout",
     "output_type": "stream",
     "text": [
      "1.4313286176935427\n",
      "1.4087166733898626\n",
      "1.4221226112304557\n"
     ]
    }
   ],
   "source": [
    "print(detemineNorm(vector11, vector21))\n",
    "print(detemineNorm(vector12, vector22))\n",
    "print(detemineNorm(vector13, vector23))"
   ]
  },
  {
   "cell_type": "code",
   "execution_count": 90,
   "metadata": {},
   "outputs": [
    {
     "data": {
      "text/plain": [
       "0.007051987027367063"
      ]
     },
     "execution_count": 90,
     "metadata": {},
     "output_type": "execute_result"
    }
   ],
   "source": [
    "array1 = getModeAsArray(\"hdfs:///user/pheno/svd/spark/BloomGridmetLeafGridmet/svd_u_0_3.tif\")\n",
    "array2 = getModeAsArray(\"hdfs:///user/emma/svd/BloomGridmetLeafGridmet/ModeU01.tif\")\n",
    "detemineNorm(array1, array2)"
   ]
  },
  {
   "cell_type": "code",
   "execution_count": 91,
   "metadata": {},
   "outputs": [
    {
     "name": "stdout",
     "output_type": "stream",
     "text": [
      "0.18399346566069125\n",
      "1.4324139409648913\n",
      "0.18350224830364414\n",
      "1.4324954144749305\n"
     ]
    }
   ],
   "source": [
    "print(detemineNorm(array1, vector11))\n",
    "print(detemineNorm(array1, vector21))\n",
    "print(detemineNorm(array2, vector11))\n",
    "print(detemineNorm(array2, vector21))"
   ]
  },
  {
   "cell_type": "markdown",
   "metadata": {},
   "source": [
    "### BloomFinalLowPR and LeafFinalLowPR"
   ]
  },
  {
   "cell_type": "code",
   "execution_count": 11,
   "metadata": {},
   "outputs": [
    {
     "data": {
      "text/plain": [
       "9.28098946087584e-16"
      ]
     },
     "execution_count": 11,
     "metadata": {},
     "output_type": "execute_result"
    }
   ],
   "source": [
    "array1 = getModeAsArray(\"hdfs:///user/emma/svd/BloomFinalLowPRLeafFinalLowPR/ModeU01.tif\")\n",
    "array2 = getModeAsArray(\"hdfs:///user/pheno/svd/spark/BloomLowPRLeafLowPR/svd_u_0_3.tif\")\n",
    "detemineNorm(array1, array2)"
   ]
  },
  {
   "cell_type": "code",
   "execution_count": 12,
   "metadata": {},
   "outputs": [
    {
     "data": {
      "text/plain": [
       "8.816536190170412e-13"
      ]
     },
     "execution_count": 12,
     "metadata": {},
     "output_type": "execute_result"
    }
   ],
   "source": [
    "array1 = getModeAsArray(\"hdfs:///user/emma/svd/BloomFinalLowPRLeafFinalLowPR/ModeU02.tif\")\n",
    "array2 = getModeAsArray(\"hdfs:///user/pheno/svd/spark/BloomLowPRLeafLowPR/svd_u_1_3.tif\")\n",
    "detemineNorm(array1, array2)"
   ]
  },
  {
   "cell_type": "code",
   "execution_count": 13,
   "metadata": {},
   "outputs": [
    {
     "data": {
      "text/plain": [
       "9.28098946087584e-16"
      ]
     },
     "execution_count": 13,
     "metadata": {},
     "output_type": "execute_result"
    }
   ],
   "source": [
    "array1 = getModeAsArray(\"hdfs:///user/emma/svd/BloomFinalLowPRLeafFinalLowPR/ModeU01.tif\")\n",
    "array2 = getModeAsArray(\"hdfs:///user/pheno/svd/spark/BloomLowPRLeafLowPR/svd_u_0_3.tif\")\n",
    "detemineNorm(array1, array2)"
   ]
  },
  {
   "cell_type": "markdown",
   "metadata": {},
   "source": [
    "### BloomGridmet and LeafGridmet"
   ]
  },
  {
   "cell_type": "code",
   "execution_count": 87,
   "metadata": {},
   "outputs": [
    {
     "data": {
      "text/plain": [
       "0.007051987027367063"
      ]
     },
     "execution_count": 87,
     "metadata": {},
     "output_type": "execute_result"
    }
   ],
   "source": [
    "array1 = getModeAsArray(\"hdfs:///user/emma/svd/BloomGridmetLeafGridmet/ModeU01.tif\")\n",
    "array2 = getModeAsArray(\"hdfs:///user/pheno/svd/spark/BloomGridmetLeafGridmet/svd_u_0_3.tif\")\n",
    "detemineNorm(array1, array2)"
   ]
  },
  {
   "cell_type": "code",
   "execution_count": 88,
   "metadata": {},
   "outputs": [
    {
     "data": {
      "text/plain": [
       "0.5077786643397328"
      ]
     },
     "execution_count": 88,
     "metadata": {},
     "output_type": "execute_result"
    }
   ],
   "source": [
    "array1 = getModeAsArray(\"hdfs:///user/emma/svd/BloomGridmetLeafGridmet/ModeU02.tif\")\n",
    "array2 = getModeAsArray(\"hdfs:///user/pheno/svd/spark/BloomGridmetLeafGridmet/svd_u_1_3.tif\")\n",
    "detemineNorm(array1, array2)"
   ]
  },
  {
   "cell_type": "code",
   "execution_count": 89,
   "metadata": {},
   "outputs": [
    {
     "data": {
      "text/plain": [
       "0.496526838642191"
      ]
     },
     "execution_count": 89,
     "metadata": {},
     "output_type": "execute_result"
    }
   ],
   "source": [
    "array1 = getModeAsArray(\"hdfs:///user/emma/svd/BloomGridmetLeafGridmet/ModeU03.tif\")\n",
    "array2 = getModeAsArray(\"hdfs:///user/pheno/svd/spark/BloomGridmetLeafGridmet/svd_u_2_3.tif\")\n",
    "detemineNorm(array1, array2)"
   ]
  },
  {
   "cell_type": "markdown",
   "metadata": {},
   "source": [
    "End of Notebook"
   ]
  }
 ],
 "metadata": {
  "kernelspec": {
   "display_name": "Python 3",
   "language": "python",
   "name": "python3"
  },
  "language_info": {
   "codemirror_mode": {
    "name": "ipython",
    "version": 3
   },
   "file_extension": ".py",
   "mimetype": "text/x-python",
   "name": "python",
   "nbconvert_exporter": "python",
   "pygments_lexer": "ipython3",
   "version": "3.5.2"
  }
 },
 "nbformat": 4,
 "nbformat_minor": 2
}
