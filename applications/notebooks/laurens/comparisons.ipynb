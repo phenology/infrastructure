{
 "cells": [
  {
   "cell_type": "markdown",
   "metadata": {
    "slideshow": {
     "slide_type": "slide"
    }
   },
   "source": [
    "# Title\n",
    "\n",
    "\n",
    "Text"
   ]
  },
  {
   "cell_type": "markdown",
   "metadata": {
    "slideshow": {
     "slide_type": "subslide"
    }
   },
   "source": [
    "## Initialization\n",
    "This section initializes the notebook."
   ]
  },
  {
   "cell_type": "markdown",
   "metadata": {
    "slideshow": {
     "slide_type": "subslide"
    }
   },
   "source": [
    "### Dependencies\n",
    "Here, all necessary libraries are imported."
   ]
  },
  {
   "cell_type": "code",
   "execution_count": 1,
   "metadata": {
    "slideshow": {
     "slide_type": "subslide"
    }
   },
   "outputs": [],
   "source": [
    "#Add all dependencies to PYTHON_PATH\n",
    "import sys\n",
    "sys.path.append(\"/usr/lib/spark/python\")\n",
    "sys.path.append(\"/usr/lib/spark/python/lib/py4j-0.10.4-src.zip\")\n",
    "sys.path.append(\"/usr/lib/python3/dist-packages\")\n",
    "sys.path.append(\"/data/local/jupyterhub/modules/python\")\n",
    "\n",
    "#Define environment variables\n",
    "import os\n",
    "os.environ[\"HADOOP_CONF_DIR\"] = \"/etc/hadoop/conf\"\n",
    "os.environ[\"PYSPARK_PYTHON\"] = \"python3\"\n",
    "os.environ[\"PYSPARK_DRIVER_PYTHON\"] = \"ipython\"\n",
    "\n",
    "import subprocess\n",
    "\n",
    "#Load PySpark to connect to a Spark cluster\n",
    "from pyspark import SparkConf, SparkContext\n",
    "from hdfs import InsecureClient\n",
    "from tempfile import TemporaryFile\n",
    "\n",
    "#from osgeo import gdal\n",
    "#To read GeoTiffs as a ByteArray\n",
    "from io import BytesIO\n",
    "from rasterio.io import MemoryFile\n",
    "\n",
    "import numpy\n",
    "import numpy as np\n",
    "import pandas\n",
    "import datetime\n",
    "import matplotlib.pyplot as plt\n",
    "import rasterio\n",
    "from rasterio import plot\n",
    "from os import listdir\n",
    "from os.path import isfile, join\n",
    "import scipy.linalg"
   ]
  },
  {
   "cell_type": "markdown",
   "metadata": {},
   "source": [
    "### Configuration\n",
    "This configuration determines whether functions print logs during the execution."
   ]
  },
  {
   "cell_type": "code",
   "execution_count": 2,
   "metadata": {},
   "outputs": [],
   "source": [
    "debugMode = True"
   ]
  },
  {
   "cell_type": "markdown",
   "metadata": {},
   "source": [
    "### Connect to Spark\n",
    "Here, the Spark context is loaded, which allows for a connection to HDFS."
   ]
  },
  {
   "cell_type": "code",
   "execution_count": 3,
   "metadata": {},
   "outputs": [
    {
     "name": "stdout",
     "output_type": "stream",
     "text": [
      "A new Spark Context will be created.\n"
     ]
    }
   ],
   "source": [
    "appName = \"plot_GeoTiff\"\n",
    "masterURL = \"spark://emma0.emma.nlesc.nl:7077\"\n",
    "\n",
    "#A context needs to be created if it does not already exist\n",
    "try:\n",
    "    sc.stop()\n",
    "except NameError:\n",
    "    print(\"A new Spark Context will be created.\")\n",
    "\n",
    "sc = SparkContext(conf = SparkConf().setAppName(appName).setMaster(masterURL))\n",
    "conf = sc.getConf()"
   ]
  },
  {
   "cell_type": "markdown",
   "metadata": {},
   "source": [
    "## Subtitle"
   ]
  },
  {
   "cell_type": "code",
   "execution_count": 4,
   "metadata": {},
   "outputs": [],
   "source": [
    "def getModeAsArray(filePath):\n",
    "    data = sc.binaryFiles(filePath).take(1)\n",
    "    byteArray = bytearray(data[0][1])\n",
    "    memfile = MemoryFile(byteArray)\n",
    "    dataset = memfile.open()\n",
    "    array = np.array(dataset.read()[0], dtype=np.float64)\n",
    "    memfile.close()\n",
    "    array = array.flatten()\n",
    "    array = array[~np.isnan(array)]\n",
    "    return array"
   ]
  },
  {
   "cell_type": "code",
   "execution_count": 5,
   "metadata": {},
   "outputs": [],
   "source": [
    "def detemineNorm(array1, array2):\n",
    "    if array1.shape != array2.shape:\n",
    "        print(\"Error: shapes are not the same: (\" + str(array1.shape) + \" vs \" + str(array2.shape) + \")\")\n",
    "        return 0\n",
    "    value = scipy.linalg.norm(array1 - array2)\n",
    "    if value > 1:\n",
    "        value = scipy.linalg.norm(array1 + array2)\n",
    "    return value"
   ]
  },
  {
   "cell_type": "code",
   "execution_count": 6,
   "metadata": {},
   "outputs": [],
   "source": [
    "textFile1 = sc.textFile(\"hdfs:///user/emma/svd/spark/BloomGridmetLeafGridmetCali3/U.csv\").map(lambda line: (line.split(','))).map(lambda m: [ float(i) for i in m]).collect()"
   ]
  },
  {
   "cell_type": "code",
   "execution_count": 7,
   "metadata": {},
   "outputs": [],
   "source": [
    "array1 = numpy.array(textFile1, dtype=np.float64)\n",
    "vector11 = array1.T[0]\n",
    "vector12 = array1.T[1]\n",
    "vector13 = array1.T[2]"
   ]
  },
  {
   "cell_type": "code",
   "execution_count": 8,
   "metadata": {},
   "outputs": [],
   "source": [
    "textFile2 = sc.textFile(\"hdfs:///user/emma/svd/BloomGridmetLeafGridmetCali/U.csv\").map(lambda line: (line.split(','))).map(lambda m: [ np.float64(i) for i in m]).collect()"
   ]
  },
  {
   "cell_type": "code",
   "execution_count": 9,
   "metadata": {},
   "outputs": [],
   "source": [
    "array2 = numpy.array(textFile2, dtype=np.float64).reshape(37,23926)\n",
    "vector21 = array2[0]\n",
    "vector22 = array2[1]\n",
    "vector23 = array2[2]"
   ]
  },
  {
   "cell_type": "code",
   "execution_count": 11,
   "metadata": {},
   "outputs": [
    {
     "data": {
      "text/plain": [
       "(37, 23926)"
      ]
     },
     "execution_count": 11,
     "metadata": {},
     "output_type": "execute_result"
    }
   ],
   "source": [
    "array2.shape"
   ]
  },
  {
   "cell_type": "code",
   "execution_count": 15,
   "metadata": {},
   "outputs": [
    {
     "name": "stdout",
     "output_type": "stream",
     "text": [
      "0.022260136362918532\n",
      "0.18853301319992985\n",
      "0.5550399497443205\n"
     ]
    }
   ],
   "source": [
    "print(detemineNorm(vector11, vector21))\n",
    "print(detemineNorm(vector12, vector22))\n",
    "print(detemineNorm(vector13, vector23))"
   ]
  },
  {
   "cell_type": "code",
   "execution_count": 21,
   "metadata": {},
   "outputs": [
    {
     "data": {
      "text/plain": [
       "0.022260136362918532"
      ]
     },
     "execution_count": 21,
     "metadata": {},
     "output_type": "execute_result"
    }
   ],
   "source": [
    "array1 = getModeAsArray(\"hdfs:///user/emma/svd/spark/BloomGridmetLeafGridmetCali3/u_tiffs/svd_u_0_26.tif\")\n",
    "array2 = getModeAsArray(\"hdfs:///user/emma/svd/BloomGridmetLeafGridmetCali/ModeU01.tif\")\n",
    "detemineNorm(array1, array2)"
   ]
  },
  {
   "cell_type": "code",
   "execution_count": 22,
   "metadata": {},
   "outputs": [
    {
     "name": "stdout",
     "output_type": "stream",
     "text": [
      "0.0\n",
      "0.022260136362918532\n",
      "0.022260136362918532\n",
      "0.0\n"
     ]
    }
   ],
   "source": [
    "print(detemineNorm(array1, vector11))\n",
    "print(detemineNorm(array1, vector21))\n",
    "print(detemineNorm(array2, vector11))\n",
    "print(detemineNorm(array2, vector21))"
   ]
  },
  {
   "cell_type": "code",
   "execution_count": 23,
   "metadata": {},
   "outputs": [
    {
     "data": {
      "text/plain": [
       "array([ True,  True,  True, ...,  True,  True,  True], dtype=bool)"
      ]
     },
     "execution_count": 23,
     "metadata": {},
     "output_type": "execute_result"
    }
   ],
   "source": [
    "~np.in1d(array1, vector21)"
   ]
  },
  {
   "cell_type": "code",
   "execution_count": 43,
   "metadata": {},
   "outputs": [
    {
     "name": "stdout",
     "output_type": "stream",
     "text": [
      "0.0023606640691764399 -0.0016509437782497344 0.0007097202909267055\n",
      "0.0045640005668581788 -0.0020441078887899686 0.0025198926780682102\n",
      "0.0053553859440128261 -0.0018522054259890808 0.0035031805180237453\n",
      "0.0061622488178624847 0.0001264991065791714 0.0062887479244416560\n",
      "0.0099863460134408232 -0.0041538877538869496 0.0058324582595538736\n",
      "0.0101254175903585739 -0.0065606070472422192 0.0035648105431163547\n",
      "0.0112847165878050149 -0.0045302850958463684 0.0067544314919586465\n",
      "0.0095248069344842229 -0.0036491920046933923 0.0058756149297908306\n",
      "0.0111647508148495587 -0.0032978926204460662 0.0078668581944034924\n",
      "0.0121092885978979267 -0.0049129764878176564 0.0071963121100802703\n"
     ]
    }
   ],
   "source": [
    "for i in range(10):\n",
    "    print(\"%.19f %0.19f %0.19f\" % (array1[i], array2[i], (array1[i]+array2[i])))"
   ]
  },
  {
   "cell_type": "markdown",
   "metadata": {},
   "source": [
    "### BloomFinalLowPR and LeafFinalLowPR"
   ]
  },
  {
   "cell_type": "code",
   "execution_count": 34,
   "metadata": {},
   "outputs": [
    {
     "data": {
      "text/plain": [
       "9.28098946087584e-16"
      ]
     },
     "execution_count": 34,
     "metadata": {},
     "output_type": "execute_result"
    }
   ],
   "source": [
    "array1 = getModeAsArray(\"hdfs:///user/emma/svd/BloomFinalLowPRLeafFinalLowPR/ModeU01.tif\")\n",
    "array2 = getModeAsArray(\"hdfs:///user/emma/svd/spark/BloomFinalLowPRLeafFinalLowPR3/u_tiffs/svd_u_0_3.tif\")\n",
    "detemineNorm(array1, array2)"
   ]
  },
  {
   "cell_type": "code",
   "execution_count": 35,
   "metadata": {},
   "outputs": [
    {
     "data": {
      "text/plain": [
       "8.816536190170412e-13"
      ]
     },
     "execution_count": 35,
     "metadata": {},
     "output_type": "execute_result"
    }
   ],
   "source": [
    "array1 = getModeAsArray(\"hdfs:///user/emma/svd/BloomFinalLowPRLeafFinalLowPR/ModeU02.tif\")\n",
    "array2 = getModeAsArray(\"hdfs:///user/emma/svd/spark/BloomFinalLowPRLeafFinalLowPR3/u_tiffs/svd_u_1_3.tif\")\n",
    "detemineNorm(array1, array2)"
   ]
  },
  {
   "cell_type": "code",
   "execution_count": 36,
   "metadata": {},
   "outputs": [
    {
     "data": {
      "text/plain": [
       "9.28098946087584e-16"
      ]
     },
     "execution_count": 36,
     "metadata": {},
     "output_type": "execute_result"
    }
   ],
   "source": [
    "array1 = getModeAsArray(\"hdfs:///user/emma/svd/BloomFinalLowPRLeafFinalLowPR/ModeU01.tif\")\n",
    "array2 = getModeAsArray(\"hdfs:///user/emma/svd/spark/BloomFinalLowPRLeafFinalLowPR3/u_tiffs/svd_u_0_3.tif\")\n",
    "detemineNorm(array1, array2)"
   ]
  },
  {
   "cell_type": "markdown",
   "metadata": {},
   "source": [
    "### BloomGridmet and LeafGridmet"
   ]
  },
  {
   "cell_type": "code",
   "execution_count": 39,
   "metadata": {},
   "outputs": [
    {
     "data": {
      "text/plain": [
       "0.022260136362918532"
      ]
     },
     "execution_count": 39,
     "metadata": {},
     "output_type": "execute_result"
    }
   ],
   "source": [
    "array1 = getModeAsArray(\"hdfs:///user/emma/svd/BloomGridmetLeafGridmetCali/ModeU01.tif\")\n",
    "array2 = getModeAsArray(\"hdfs:///user/emma/svd/spark/BloomGridmetLeafGridmetCali3/u_tiffs/svd_u_0_26.tif\")\n",
    "detemineNorm(array1, array2)"
   ]
  },
  {
   "cell_type": "code",
   "execution_count": 40,
   "metadata": {},
   "outputs": [
    {
     "data": {
      "text/plain": [
       "0.18853301319992985"
      ]
     },
     "execution_count": 40,
     "metadata": {},
     "output_type": "execute_result"
    }
   ],
   "source": [
    "array1 = getModeAsArray(\"hdfs:///user/emma/svd/BloomGridmetLeafGridmetCali/ModeU02.tif\")\n",
    "array2 = getModeAsArray(\"hdfs:///user/emma/svd/spark/BloomGridmetLeafGridmetCali3/u_tiffs/svd_u_1_26.tif\")\n",
    "detemineNorm(array1, array2)"
   ]
  },
  {
   "cell_type": "code",
   "execution_count": 42,
   "metadata": {},
   "outputs": [
    {
     "data": {
      "text/plain": [
       "0.5550399497443205"
      ]
     },
     "execution_count": 42,
     "metadata": {},
     "output_type": "execute_result"
    }
   ],
   "source": [
    "array1 = getModeAsArray(\"hdfs:///user/emma/svd/BloomGridmetLeafGridmetCali/ModeU03.tif\")\n",
    "array2 = getModeAsArray(\"hdfs:///user/emma/svd/spark/BloomGridmetLeafGridmetCali3/u_tiffs/svd_u_2_26.tif\")\n",
    "detemineNorm(array1, array2)"
   ]
  },
  {
   "cell_type": "markdown",
   "metadata": {},
   "source": [
    "End of Notebook"
   ]
  },
  {
   "cell_type": "code",
   "execution_count": null,
   "metadata": {},
   "outputs": [],
   "source": []
  }
 ],
 "metadata": {
  "kernelspec": {
   "display_name": "Python 3",
   "language": "python",
   "name": "python3"
  },
  "language_info": {
   "codemirror_mode": {
    "name": "ipython",
    "version": 3
   },
   "file_extension": ".py",
   "mimetype": "text/x-python",
   "name": "python",
   "nbconvert_exporter": "python",
   "pygments_lexer": "ipython3",
   "version": "3.5.2"
  }
 },
 "nbformat": 4,
 "nbformat_minor": 2
}
