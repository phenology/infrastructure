{
 "cells": [
  {
   "cell_type": "markdown",
   "metadata": {
    "slideshow": {
     "slide_type": "slide"
    }
   },
   "source": [
    "# Product SVD in Python\n",
    "\n",
    "\n",
    "In this NoteBook, the reader will find code to load GeoTiff files, single- or multi-band, from HDFS. It reads the GeoTiffs as a **ByteArray**s and then stores the GeoTiffs in memory using **MemFile** from the **RasterIO** Python package. Subsequently, a statistical analysis is performed on each pair of datasets. In particular, the Python module _productsvd_ is used to determine the SVD of the product of the two phenology datasets."
   ]
  },
  {
   "cell_type": "markdown",
   "metadata": {
    "slideshow": {
     "slide_type": "subslide"
    }
   },
   "source": [
    "## Initialization\n",
    "This section initializes the notebook."
   ]
  },
  {
   "cell_type": "markdown",
   "metadata": {
    "slideshow": {
     "slide_type": "subslide"
    }
   },
   "source": [
    "### Dependencies\n",
    "Here, all necessary libraries are imported."
   ]
  },
  {
   "cell_type": "code",
   "execution_count": 1,
   "metadata": {
    "slideshow": {
     "slide_type": "subslide"
    }
   },
   "outputs": [],
   "source": [
    "#Add all dependencies to PYTHON_PATH\n",
    "import sys\n",
    "sys.path.append(\"/usr/lib/spark/python\")\n",
    "sys.path.append(\"/usr/lib/spark/python/lib/py4j-0.10.4-src.zip\")\n",
    "sys.path.append(\"/usr/lib/python3/dist-packages\")\n",
    "sys.path.append(\"/data/local/jupyterhub/modules/python\")\n",
    "\n",
    "#Define environment variables\n",
    "import os\n",
    "os.environ[\"HADOOP_CONF_DIR\"] = \"/etc/hadoop/conf\"\n",
    "os.environ[\"PYSPARK_PYTHON\"] = \"python3\"\n",
    "os.environ[\"PYSPARK_DRIVER_PYTHON\"] = \"ipython\"\n",
    "\n",
    "import subprocess\n",
    "\n",
    "#Load PySpark to connect to a Spark cluster\n",
    "from pyspark import SparkConf, SparkContext\n",
    "from hdfs import InsecureClient\n",
    "from tempfile import TemporaryFile\n",
    "\n",
    "#from osgeo import gdal\n",
    "#To read GeoTiffs as a ByteArray\n",
    "from io import BytesIO\n",
    "from rasterio.io import MemoryFile\n",
    "\n",
    "import numpy as np\n",
    "import pandas\n",
    "import datetime\n",
    "import matplotlib.pyplot as plt\n",
    "import rasterio\n",
    "from rasterio import plot\n",
    "from os import listdir\n",
    "from os.path import isfile, join\n",
    "from numpy import exp, log\n",
    "from numpy.random import standard_normal\n",
    "import scipy.linalg\n",
    "from productsvd import qrproductsvd\n",
    "from sklearn.utils.extmath import randomized_svd"
   ]
  },
  {
   "cell_type": "markdown",
   "metadata": {},
   "source": [
    "### Configuration\n",
    "This configuration determines whether functions print logs during the execution."
   ]
  },
  {
   "cell_type": "code",
   "execution_count": 2,
   "metadata": {},
   "outputs": [],
   "source": [
    "debugMode = True\n",
    "maxModes = 26"
   ]
  },
  {
   "cell_type": "markdown",
   "metadata": {},
   "source": [
    "### Connect to Spark\n",
    "Here, the Spark context is loaded, which allows for a connection to HDFS."
   ]
  },
  {
   "cell_type": "code",
   "execution_count": 3,
   "metadata": {},
   "outputs": [
    {
     "name": "stdout",
     "output_type": "stream",
     "text": [
      "A new Spark Context will be created.\n"
     ]
    }
   ],
   "source": [
    "appName = \"plot_GeoTiff\"\n",
    "masterURL = \"spark://pheno0.phenovari-utwente.surf-hosted.nl:7077\"\n",
    "\n",
    "#A context needs to be created if it does not already exist\n",
    "try:\n",
    "    sc.stop()\n",
    "except NameError:\n",
    "    print(\"A new Spark Context will be created.\")\n",
    "\n",
    "sc = SparkContext(conf = SparkConf().setAppName(appName).setMaster(masterURL))\n",
    "conf = sc.getConf()"
   ]
  },
  {
   "cell_type": "markdown",
   "metadata": {},
   "source": [
    "## Functions\n",
    "This section defines various functions used in the analysis."
   ]
  },
  {
   "cell_type": "markdown",
   "metadata": {
    "slideshow": {
     "slide_type": "subslide"
    }
   },
   "source": [
    "### Support functions\n",
    "These functions support other functions."
   ]
  },
  {
   "cell_type": "code",
   "execution_count": 4,
   "metadata": {},
   "outputs": [],
   "source": [
    "def dprint(msg):\n",
    "    if (debugMode):\n",
    "        print(str(datetime.datetime.now().strftime(\"%Y-%m-%d %H:%M:%S\")) + \" | \" + msg)"
   ]
  },
  {
   "cell_type": "code",
   "execution_count": 5,
   "metadata": {},
   "outputs": [],
   "source": [
    "def progressBar(message, value, endvalue, bar_length = 20):\n",
    "    if (debugMode):\n",
    "        percent = float(value) / endvalue\n",
    "        arrow = '-' * int(round(percent * bar_length)-1) + '>'\n",
    "        spaces = ' ' * (bar_length - len(arrow))\n",
    "        sys.stdout.write(\"\\r\" \n",
    "                         + str(datetime.datetime.now().strftime(\"%Y-%m-%d %H:%M:%S\")) \n",
    "                         + \" | \" \n",
    "                         + message \n",
    "                         + \": [{0}] {1}%\".format(arrow + spaces, int(round(percent * 100)))\n",
    "                        )\n",
    "        if value == endvalue:\n",
    "            sys.stdout.write(\"\\n\")\n",
    "        sys.stdout.flush()"
   ]
  },
  {
   "cell_type": "code",
   "execution_count": 6,
   "metadata": {},
   "outputs": [],
   "source": [
    "def get_hdfs_client():\n",
    "    return InsecureClient(\"emma0.emma.nlesc.nl:50070\", user=\"pheno\",\n",
    "         root=\"/\")"
   ]
  },
  {
   "cell_type": "markdown",
   "metadata": {
    "slideshow": {
     "slide_type": "subslide"
    }
   },
   "source": [
    "### Read functions\n",
    "These functions allow for the reading of data."
   ]
  },
  {
   "cell_type": "code",
   "execution_count": 72,
   "metadata": {},
   "outputs": [],
   "source": [
    "def getDataSet(directoryPath, bandNum):\n",
    "    dprint(\"Running getDataSet(directoryPath)\")\n",
    "    \n",
    "    files = sc.binaryFiles(directoryPath + \"/*.tif\")\n",
    "    fileList = files.keys().collect()\n",
    "    dprint(\"Number of files: \" + str(len(fileList)))\n",
    "    dataSet = []\n",
    "    plotShapes = []\n",
    "    flattenedShapes = []\n",
    "    for i, f in enumerate(sorted(fileList)):\n",
    "        print(f)\n",
    "        #progressBar(\"Reading files\", i + 1, len(fileList))\n",
    "        data = files.lookup(f)\n",
    "        dataByteArray = bytearray(data[0])\n",
    "        memfile = MemoryFile(dataByteArray)\n",
    "        dataset = memfile.open()\n",
    "        relevantBand = np.array(dataset.read()[bandNum])\n",
    "        memfile.close()\n",
    "        plotShapes.append(relevantBand.shape)\n",
    "        flattenedDataSet = relevantBand.flatten()\n",
    "        flattenedShapes.append(flattenedDataSet.shape)\n",
    "        dataSet.append(flattenedDataSet)\n",
    "    dataSet = np.array(dataSet).T\n",
    "    dprint(\"dataSet.shape: \" + str(dataSet.shape))\n",
    "    \n",
    "    dprint(\"Ending getDataSet(directoryPath)\")\n",
    "    return dataSet"
   ]
  },
  {
   "cell_type": "code",
   "execution_count": 8,
   "metadata": {},
   "outputs": [],
   "source": [
    "def getMask(filePath):\n",
    "    dprint(\"Running getMask(filePath)\")\n",
    "    \n",
    "    mask_data = sc.binaryFiles(filePath).take(1)\n",
    "    mask_byteArray = bytearray(mask_data[0][1])\n",
    "    mask_memfile = MemoryFile(mask_byteArray)\n",
    "    mask_dataset = mask_memfile.open()\n",
    "    maskTransform = mask_dataset.transform\n",
    "    mask_data = np.array(mask_dataset.read()[0])\n",
    "    mask_memfile.close()\n",
    "    dprint(\"mask_data.shape: \" + str(mask_data.shape))\n",
    "    \n",
    "    dprint(\"Ending getMask(filePath)\")\n",
    "    return mask_data, maskTransform"
   ]
  },
  {
   "cell_type": "markdown",
   "metadata": {
    "slideshow": {
     "slide_type": "subslide"
    }
   },
   "source": [
    "### Utility functions\n",
    "These functions analyse and manipulate data."
   ]
  },
  {
   "cell_type": "code",
   "execution_count": 9,
   "metadata": {},
   "outputs": [],
   "source": [
    "def filterDataSet(dataSet, maskData):\n",
    "    dprint(\"Running filterDataSet(dataSet, maskIndex)\")\n",
    "    \n",
    "    maskIndex = np.nonzero(np.nan_to_num(maskData.flatten()))[0]\n",
    "    dataSetFiltered = dataSet[maskIndex]\n",
    "    dprint(\"dataSetFiltered.shape: \" + str(dataSetFiltered.shape))\n",
    "    \n",
    "    dprint(\"Ending filterDataSet(dataSet, maskIndex)\")\n",
    "    return dataSetFiltered"
   ]
  },
  {
   "cell_type": "code",
   "execution_count": 10,
   "metadata": {},
   "outputs": [],
   "source": [
    "def validateNorms(dataSet1, dataSet2, U, s, V):\n",
    "    dprint(\"Running validateNorms(dataSet1, dataSet2, U, s, V)\")\n",
    "    \n",
    "    length = len(s)\n",
    "    norms = []\n",
    "    for i in range(length):\n",
    "        progressBar(\"Validating norms\", i + 1, length)\n",
    "        u = dataSet1 @ (dataSet2.T @ V.T[i]) / s[i]\n",
    "        v = dataSet2 @ (dataSet1.T @ U.T[i]) / s[i]\n",
    "        norms.append(scipy.linalg.norm(U.T[i] - u))\n",
    "        norms.append(scipy.linalg.norm(V.T[i] - v))\n",
    "    dprint(\"Largest norm difference: \" + str(max(norms)))\n",
    "    \n",
    "    dprint(\"Ending validateNorms(dataSet1, dataSet2, U, s, V)\")"
   ]
  },
  {
   "cell_type": "markdown",
   "metadata": {
    "slideshow": {
     "slide_type": "subslide"
    }
   },
   "source": [
    "### Write functions\n",
    "These functions write data and plots."
   ]
  },
  {
   "cell_type": "code",
   "execution_count": 11,
   "metadata": {},
   "outputs": [],
   "source": [
    "def writeCSVs(resultDirectory, U, s, V):\n",
    "    dprint(\"Running writeCSV(resultDirectory, U, s, V)\")\n",
    "    \n",
    "    for i, vectorData in enumerate([U, s, V]):\n",
    "        progressBar(\"Writing CSV\", i + 1, 3)\n",
    "        fileName = [\"U\", \"s\", \"V\"][i] + \".csv\"\n",
    "        inFile = \"/tmp/\" + fileName\n",
    "        outFile = resultDirectory + fileName\n",
    "        #decompositionFile = open(inFile, \"w\")\n",
    "        #vectorData.T.tofile(decompositionFile, sep = \",\")\n",
    "        #decompositionFile.close()\n",
    "        np.savetxt(inFile, dataSetFiltered1.T, fmt='%.1f', delimiter=',')\n",
    "        #Upload to HDFS\n",
    "        subprocess.run(['hadoop', 'dfs', '-copyFromLocal', '-f', inFile, outFile])\n",
    "        #Remove from /tmp/\n",
    "        subprocess.run(['rm', '-fr', inFile])\n",
    "    \n",
    "    dprint(\"Ending writeCSV(resultDirectory, U, s, V)\")"
   ]
  },
  {
   "cell_type": "code",
   "execution_count": 12,
   "metadata": {},
   "outputs": [],
   "source": [
    "def plotSingularValues(resultDirectory, s):\n",
    "    dprint(\"Running plotSingularValues(resultDirectory, s)\")\n",
    "    \n",
    "    fileName = \"s.pdf\"\n",
    "    inFile = \"/tmp/\" + fileName\n",
    "    outFile = resultDirectory + fileName\n",
    "    x = range(len(s))\n",
    "    total = s.T @ s\n",
    "    cumulativeValue = 0\n",
    "    valueList = []\n",
    "    cumulativeList = []\n",
    "    for i in x:\n",
    "        value = np.square(s[i]) / total\n",
    "        valueList.append(value)\n",
    "        cumulativeValue = cumulativeValue + value\n",
    "        cumulativeList.append(cumulativeValue)\n",
    "    fig, ax1 = plt.subplots()\n",
    "    ax2 = ax1.twinx()\n",
    "    ax1.plot(x, valueList, \"g^\")\n",
    "    ax2.plot(x, cumulativeList, \"ro\")\n",
    "    ax1.set_xlabel(\"Singular values\")\n",
    "    ax1.set_ylabel(\"Variance explained\", color = \"g\")\n",
    "    ax2.set_ylabel(\"Cumulative variance explained\", color = \"r\")\n",
    "    plt.savefig(inFile)\n",
    "    plt.clf()\n",
    "    #Upload to HDFS\n",
    "    subprocess.run(['hadoop', 'dfs', '-copyFromLocal', '-f', inFile, outFile])  \n",
    "    #Remove from /tmp/\n",
    "    subprocess.run(['rm', '-fr', inFile])\n",
    "    \n",
    "    dprint(\"Ending plotSingularValues(resultDirectory, s)\")"
   ]
  },
  {
   "cell_type": "code",
   "execution_count": 13,
   "metadata": {},
   "outputs": [],
   "source": [
    "def writeModes(resultDirectory, U, s, V):\n",
    "    dprint(\"Running writeModes(resultDirectory, U, s, V)\")\n",
    "    \n",
    "    for i in range(len(s)):\n",
    "        progressBar(\"Writing modes\", i + 1, len(s))\n",
    "        fileName = \"Mode\" + str(i + 1).zfill(2) + \".txt\"\n",
    "        inFile = \"/tmp/\" + fileName\n",
    "        outFile = resultDirectory + fileName\n",
    "        decompositionFile = open(inFile, \"w\")\n",
    "        U.T[i].tofile(decompositionFile, sep = \",\")\n",
    "        decompositionFile.close()\n",
    "        decompositionFile = open(inFile, \"a\")\n",
    "        decompositionFile.write(\"\\n\")\n",
    "        s[i].tofile(decompositionFile, sep = \",\")\n",
    "        decompositionFile.write(\"\\n\")\n",
    "        V.T[i].tofile(decompositionFile, sep = \",\")\n",
    "        decompositionFile.close()\n",
    "        #Upload to HDFS\n",
    "        subprocess.run(['hadoop', 'dfs', '-copyFromLocal', '-f', inFile, outFile])  \n",
    "        #Remove from /tmp/\n",
    "        subprocess.run(['rm', '-fr', inFile])\n",
    "    \n",
    "    dprint(\"Ending writeModes(resultDirectory, U, s, V)\")"
   ]
  },
  {
   "cell_type": "code",
   "execution_count": 14,
   "metadata": {},
   "outputs": [],
   "source": [
    "def plotModes(resultDirectory, U, s, V, maskData, maskTransform):\n",
    "    dprint(\"Running plotModes(resultDirectory, U, s, V, maskData, maskTransform)\")\n",
    "    \n",
    "    plotTemplate = np.full(maskData.shape[0] * maskData.shape[1], np.nan, dtype=np.float64)\n",
    "    maskIndex = np.nonzero(np.nan_to_num(maskData.flatten()))[0]\n",
    "        \n",
    "    for i in range(min(maxModes, len(s))):\n",
    "        progressBar(\"Plotting modes\", i + 1, min(maxModes, len(s)))\n",
    "        for vectorData, vectorName in zip([U, V], [\"U\", \"V\"]):\n",
    "            data = np.copy(plotTemplate)\n",
    "            np.put(data, maskIndex, vectorData.T[i])\n",
    "            data = np.reshape(data, maskData.shape, )\n",
    "                        \n",
    "            fileName = \"Mode\" + vectorName + str(i + 1).zfill(2) + \".tif\"\n",
    "            inFile = \"/tmp/\" + fileName\n",
    "            outFile = resultDirectory + fileName\n",
    "            rasterioPlot = rasterio.open(inFile, \"w\", driver = \"GTiff\", width = data.shape[1], height = data.shape[0], count = 1, dtype = data.dtype, crs = \"EPSG:4326\", transform = maskTransform) #, compress=\"deflate\")\n",
    "            rasterioPlot.write(data, 1)\n",
    "            rasterioPlot.close()\n",
    "            #Upload to HDFS\n",
    "            subprocess.run(['hadoop', 'dfs', '-copyFromLocal', '-f', inFile, outFile])  \n",
    "            #Remove from /tmp/\n",
    "            subprocess.run(['rm', '-fr', inFile])\n",
    "    \n",
    "    dprint(\"Ending plotModes(resultDirectory, U, s, V, maskData, maskTransform)\")"
   ]
  },
  {
   "cell_type": "markdown",
   "metadata": {
    "slideshow": {
     "slide_type": "subslide"
    }
   },
   "source": [
    "### Analysis function\n",
    "This function combines all the necessary steps for the analysis."
   ]
  },
  {
   "cell_type": "code",
   "execution_count": 15,
   "metadata": {},
   "outputs": [],
   "source": [
    "import scipy.linalg\n",
    "import numpy as np\n",
    "from numpy import linalg as LA\n",
    "from sklearn.decomposition import PCA\n",
    "def qrproductsvdRG(A, B):\n",
    "        QA, RA = scipy.linalg.qr(A, mode = \"economic\")\n",
    "        dprint(\"QB.shape: \" + str(QA.shape))\n",
    "        dprint(\"RB.shape: \" + str(RA.shape))\n",
    "        \n",
    "        QB, RB = scipy.linalg.qr(B, mode = \"economic\")\n",
    "        dprint(\"QB.shape: \" + str(QB.shape))\n",
    "        dprint(\"RB.shape: \" + str(RB.shape))\n",
    "        \n",
    "        #C = RA @ RB.T\n",
    "        C = A @ B.T\n",
    "        dprint(\"C.shape: \" + str(C.shape))\n",
    "        #UC, s, VCt = scipy.linalg.svd(C, full_matrices = False)\n",
    "        U, s, Vt = scipy.linalg.svd(C, full_matrices = True)\n",
    "        #U = QA @ UC\n",
    "        #Vt = VCt @ QB.T\n",
    "        return U, s, Vt"
   ]
  },
  {
   "cell_type": "code",
   "execution_count": 20,
   "metadata": {},
   "outputs": [],
   "source": [
    "def runAnalysis(dataDirectory1, dataDirectory2, bandNum1, bandNum2, maskFile, resultDirectory):\n",
    "    dprint(\"Running runAnalysis(dataDirectory1, dataDirectory2, maskFile, resultDirectory)\")\n",
    "\n",
    "    dataSet1 = getDataSet(dataDirectory1, bandNum1)\n",
    "    dataSet2 = getDataSet(dataDirectory2, bandNum2)\n",
    "    \n",
    "    if (dataSet2.shape[1] == 26 and dataSet1.shape[1] != 26): # Hack to align time-dimension of SOS with Bloom and Leaf\n",
    "        dataSet1 = dataSet1[:, 8:34]\n",
    "        \n",
    "    maskData, maskTransform = getMask(maskFile)\n",
    "    \n",
    "    dataSetFiltered1 = filterDataSet(dataSet1, maskData)\n",
    "    dataSetFiltered2 = filterDataSet(dataSet2, maskData)\n",
    "    \n",
    "    U, s, Vt = qrproductsvdRG(dataSetFiltered1, dataSetFiltered2)\n",
    "    V = Vt.T\n",
    "    dprint(\"U.shape: \" + str(U.shape))\n",
    "    dprint(\"s.shape: \" + str(s.shape))\n",
    "    dprint(\"V.shape: \" + str(V.shape))\n",
    "    dprint(\"Singular values of product: \")\n",
    "    dprint(str(s))\n",
    "    \n",
    "    validateNorms(dataSetFiltered1, dataSetFiltered2, U, s, V)\n",
    "    \n",
    "    plotSingularValues(resultDirectory, s)\n",
    "    #writeModes(resultDirectory, U, s, V)\n",
    "    plotModes(resultDirectory, U, s, V, maskData, maskTransform)\n",
    "    writeCSVs(resultDirectory, U, s, V)\n",
    "    \n",
    "    dprint(\"Ending runAnalysis(dataDirectory1, dataDirectory2, maskFile, resultDirectory)\")"
   ]
  },
  {
   "cell_type": "markdown",
   "metadata": {},
   "source": [
    "## Analyses\n",
    "In this section, the various analyses are initiated. Each analysis uses a different pair of datasets."
   ]
  },
  {
   "cell_type": "markdown",
   "metadata": {},
   "source": [
    "### Analysis 0"
   ]
  },
  {
   "cell_type": "code",
   "execution_count": 22,
   "metadata": {
    "scrolled": true
   },
   "outputs": [
    {
     "name": "stdout",
     "output_type": "stream",
     "text": [
      "2017-12-19 18:54:25 | -------------------------------\n",
      "2017-12-19 18:54:25 | Running analysis 0\n",
      "2017-12-19 18:54:25 | -------------------------------\n",
      "2017-12-19 18:54:27 | -------------------------------\n",
      "2017-12-19 18:54:27 | Ending analysis 0\n",
      "2017-12-19 18:54:27 | -------------------------------\n"
     ]
    }
   ],
   "source": [
    "dprint(\"-------------------------------\")\n",
    "dprint(\"Running analysis 0\")\n",
    "dprint(\"-------------------------------\")\n",
    "\n",
    "dataDirectory1 = \"hdfs:///user/hadoop/spring-index/BloomGridmet/\"\n",
    "bandNum1 = 3\n",
    "dataDirectory2 = \"hdfs:///user/hadoop/spring-index/LeafGridmet/\"\n",
    "bandNum2 = 3\n",
    "maskFile = \"hdfs:///user/hadoop/usa_state_masks/rhodeisland_4km.tif\"\n",
    "resultDirectory = \"hdfs:///user/emma/svd/BloomGridmetLeafGridmetRhode/\"\n",
    "\n",
    "#Create Result dir\n",
    "subprocess.run(['hadoop', 'dfs', '-mkdir', resultDirectory])\n",
    "\n",
    "runAnalysis(dataDirectory1, dataDirectory2, bandNum1, bandNum2, maskFile, resultDirectory)\n",
    "\n",
    "dprint(\"-------------------------------\")\n",
    "dprint(\"Ending analysis 0\")\n",
    "dprint(\"-------------------------------\")"
   ]
  },
  {
   "cell_type": "markdown",
   "metadata": {},
   "source": [
    "### Analysis 1\n",
    "This analysis focusses on Bloom and Leaf data from the USA from 1980 to 2016 at a 4K spatial resolution."
   ]
  },
  {
   "cell_type": "code",
   "execution_count": 37,
   "metadata": {
    "scrolled": true
   },
   "outputs": [
    {
     "name": "stdout",
     "output_type": "stream",
     "text": [
      "2017-12-19 14:02:41 | -------------------------------\n",
      "2017-12-19 14:02:41 | Running analysis 1\n",
      "2017-12-19 14:02:41 | -------------------------------\n",
      "2017-12-19 14:02:43 | Running runAnalysis(dataDirectory1, dataDirectory2, maskFile, resultDirectory)\n",
      "2017-12-19 14:02:43 | Running getDataSet(directoryPath)\n",
      "2017-12-19 14:02:51 | Number of files: 37\n",
      "2017-12-19 14:05:18 | Reading files: [------------------->] 100%\n",
      "2017-12-19 14:05:22 | dataSet.shape: (1414560, 37)\n",
      "2017-12-19 14:05:22 | Ending getDataSet(directoryPath)\n",
      "2017-12-19 14:05:22 | Running getDataSet(directoryPath)\n",
      "2017-12-19 14:05:27 | Number of files: 37\n",
      "2017-12-19 14:07:54 | Reading files: [------------------->] 100%\n",
      "2017-12-19 14:07:58 | dataSet.shape: (1414560, 37)\n",
      "2017-12-19 14:07:58 | Ending getDataSet(directoryPath)\n",
      "2017-12-19 14:07:58 | Running getMask(filePath)\n",
      "2017-12-19 14:07:58 | mask_data.shape: (840, 1684)\n",
      "2017-12-19 14:07:58 | Ending getMask(filePath)\n",
      "2017-12-19 14:07:58 | Running filterDataSet(dataSet, maskIndex)\n",
      "2017-12-19 14:07:58 | dataSetFiltered.shape: (483850, 37)\n",
      "2017-12-19 14:07:58 | Ending filterDataSet(dataSet, maskIndex)\n",
      "2017-12-19 14:07:58 | Running filterDataSet(dataSet, maskIndex)\n",
      "2017-12-19 14:07:58 | dataSetFiltered.shape: (483850, 37)\n",
      "2017-12-19 14:07:58 | Ending filterDataSet(dataSet, maskIndex)\n",
      "2017-12-19 14:08:01 | U.shape: (483850, 37)\n",
      "2017-12-19 14:08:01 | s.shape: (37,)\n",
      "2017-12-19 14:08:01 | V.shape: (483850, 37)\n",
      "2017-12-19 14:08:01 | Singular values of product: \n",
      "2017-12-19 14:08:01 | [  1.70007753e+11   1.19616078e+08   7.29084374e+07   6.42819555e+07\n",
      "   5.80418214e+07   5.12221342e+07   4.89769808e+07   4.06611263e+07\n",
      "   3.44933958e+07   2.41666846e+07   2.24012478e+07   2.05042638e+07\n",
      "   1.96482295e+07   1.64202909e+07   1.61609135e+07   1.42735800e+07\n",
      "   1.30580112e+07   1.16381852e+07   1.14932141e+07   1.12352012e+07\n",
      "   1.01934972e+07   1.00678014e+07   9.62994479e+06   8.72390982e+06\n",
      "   8.45472961e+06   8.28437862e+06   7.87977606e+06   7.45475739e+06\n",
      "   6.85599800e+06   6.75892554e+06   6.63093383e+06   6.10233634e+06\n",
      "   5.88542484e+06   5.40913630e+06   5.24693191e+06   5.20727634e+06\n",
      "   4.86917920e+06]\n",
      "2017-12-19 14:08:01 | Running validateNorms(dataSet1, dataSet2, U, s, V)\n",
      "2017-12-19 14:08:04 | Validating norms: [------------------->] 100%\n",
      "2017-12-19 14:08:04 | Largest norm difference: 4.6367642756369234e-11\n",
      "2017-12-19 14:08:04 | Ending validateNorms(dataSet1, dataSet2, U, s, V)\n",
      "2017-12-19 14:08:04 | Running plotSingularValues(resultDirectory, s)\n",
      "2017-12-19 14:08:07 | Ending plotSingularValues(resultDirectory, s)\n",
      "2017-12-19 14:08:07 | Running plotModes(resultDirectory, U, s, V, maskData, maskTransform)\n",
      "2017-12-19 14:10:06 | Plotting modes: [------------------->] 100%\n",
      "2017-12-19 14:10:10 | Ending plotModes(resultDirectory, U, s, V, maskData, maskTransform)\n",
      "2017-12-19 14:10:10 | Ending runAnalysis(dataDirectory1, dataDirectory2, maskFile, resultDirectory)\n",
      "2017-12-19 14:10:10 | -------------------------------\n",
      "2017-12-19 14:10:10 | Ending analysis 1\n",
      "2017-12-19 14:10:10 | -------------------------------\n"
     ]
    }
   ],
   "source": [
    "dprint(\"-------------------------------\")\n",
    "dprint(\"Running analysis 1\")\n",
    "dprint(\"-------------------------------\")\n",
    "\n",
    "dataDirectory1 = \"hdfs:///user/hadoop/spring-index/BloomGridmet/\"\n",
    "bandNum1 = 3\n",
    "dataDirectory2 = \"hdfs:///user/hadoop/spring-index/LeafGridmet/\"\n",
    "bandNum2 = 3\n",
    "maskFile = \"hdfs:///user/hadoop/usa_mask_gridmet.tif\"\n",
    "resultDirectory = \"hdfs:///user/emma/svd/BloomGridmetLeafGridmet/\"\n",
    "\n",
    "#Create Result dir\n",
    "subprocess.run(['hadoop', 'dfs', '-mkdir', resultDirectory])\n",
    "\n",
    "runAnalysis(dataDirectory1, dataDirectory2, bandNum1, bandNum2, maskFile, resultDirectory)\n",
    "\n",
    "dprint(\"-------------------------------\")\n",
    "dprint(\"Ending analysis 1\")\n",
    "dprint(\"-------------------------------\")"
   ]
  },
  {
   "cell_type": "markdown",
   "metadata": {},
   "source": [
    "### Analysis 2\n",
    "This analysis focusses on Bloom and SOS data from the USA from 1980 to 2016 at a 4K spatial resolution."
   ]
  },
  {
   "cell_type": "code",
   "execution_count": 38,
   "metadata": {},
   "outputs": [
    {
     "name": "stdout",
     "output_type": "stream",
     "text": [
      "2017-12-19 14:10:10 | -------------------------------\n",
      "2017-12-19 14:10:10 | Running analysis 2\n",
      "2017-12-19 14:10:10 | -------------------------------\n",
      "2017-12-19 14:10:12 | Running runAnalysis(dataDirectory1, dataDirectory2, maskFile, resultDirectory)\n",
      "2017-12-19 14:10:12 | Running getDataSet(directoryPath)\n",
      "2017-12-19 14:10:17 | Number of files: 37\n",
      "2017-12-19 14:12:41 | Reading files: [------------------->] 100%\n",
      "2017-12-19 14:12:45 | dataSet.shape: (1414560, 37)\n",
      "2017-12-19 14:12:45 | Ending getDataSet(directoryPath)\n",
      "2017-12-19 14:12:45 | Running getDataSet(directoryPath)\n",
      "2017-12-19 14:12:45 | Number of files: 26\n",
      "2017-12-19 14:12:56 | Reading files: [------------------->] 100%\n",
      "2017-12-19 14:12:57 | dataSet.shape: (1414560, 26)\n",
      "2017-12-19 14:12:57 | Ending getDataSet(directoryPath)\n",
      "2017-12-19 14:12:57 | Running getMask(filePath)\n",
      "2017-12-19 14:12:57 | mask_data.shape: (840, 1684)\n",
      "2017-12-19 14:12:57 | Ending getMask(filePath)\n",
      "2017-12-19 14:12:57 | Running filterDataSet(dataSet, maskIndex)\n",
      "2017-12-19 14:12:57 | dataSetFiltered.shape: (483850, 26)\n",
      "2017-12-19 14:12:57 | Ending filterDataSet(dataSet, maskIndex)\n",
      "2017-12-19 14:12:57 | Running filterDataSet(dataSet, maskIndex)\n",
      "2017-12-19 14:12:57 | dataSetFiltered.shape: (483850, 26)\n",
      "2017-12-19 14:12:57 | Ending filterDataSet(dataSet, maskIndex)\n",
      "2017-12-19 14:12:59 | U.shape: (483850, 26)\n",
      "2017-12-19 14:12:59 | s.shape: (26,)\n",
      "2017-12-19 14:12:59 | V.shape: (483850, 26)\n",
      "2017-12-19 14:12:59 | Singular values of product: \n",
      "2017-12-19 14:12:59 | [  3.71279078e+11   1.97006677e+09   1.65032407e+09   1.43691350e+09\n",
      "   1.22883016e+09   1.06724569e+09   8.91424468e+08   7.67043723e+08\n",
      "   6.95387761e+08   6.07248981e+08   5.75044731e+08   5.14411861e+08\n",
      "   4.95179739e+08   4.56491338e+08   4.55202728e+08   4.06761107e+08\n",
      "   3.73649720e+08   3.61594288e+08   3.25743642e+08   3.11077622e+08\n",
      "   3.03513105e+08   2.76592423e+08   2.71045211e+08   2.58266864e+08\n",
      "   2.24464157e+08   1.34794243e+08]\n",
      "2017-12-19 14:12:59 | Running validateNorms(dataSet1, dataSet2, U, s, V)\n",
      "2017-12-19 14:13:02 | Validating norms: [------------------->] 100%\n",
      "2017-12-19 14:13:02 | Largest norm difference: 1.1164926745814216e-11\n",
      "2017-12-19 14:13:02 | Ending validateNorms(dataSet1, dataSet2, U, s, V)\n",
      "2017-12-19 14:13:02 | Running plotSingularValues(resultDirectory, s)\n",
      "2017-12-19 14:13:05 | Ending plotSingularValues(resultDirectory, s)\n",
      "2017-12-19 14:13:05 | Running plotModes(resultDirectory, U, s, V, maskData, maskTransform)\n",
      "2017-12-19 14:15:03 | Plotting modes: [------------------->] 100%\n",
      "2017-12-19 14:15:07 | Ending plotModes(resultDirectory, U, s, V, maskData, maskTransform)\n",
      "2017-12-19 14:15:07 | Ending runAnalysis(dataDirectory1, dataDirectory2, maskFile, resultDirectory)\n",
      "2017-12-19 14:15:07 | -------------------------------\n",
      "2017-12-19 14:15:07 | Ending analysis 2\n",
      "2017-12-19 14:15:07 | -------------------------------\n"
     ]
    }
   ],
   "source": [
    "dprint(\"-------------------------------\")\n",
    "dprint(\"Running analysis 2\")\n",
    "dprint(\"-------------------------------\")\n",
    "\n",
    "dataDirectory1 = \"hdfs:///user/hadoop/spring-index/BloomGridmet/\"\n",
    "bandNum1 = 3\n",
    "dataDirectory2 = \"hdfs:///user/hadoop/avhrr/SOST4Km/\"\n",
    "bandNum2 = 0\n",
    "maskFile = \"hdfs:///user/hadoop/usa_mask_gridmet.tif\"\n",
    "resultDirectory = \"hdfs:///user/emma/svd/BloomGridmetSOST4Km/\"\n",
    "\n",
    "#Create Result dir\n",
    "subprocess.run(['hadoop', 'dfs', '-mkdir', resultDirectory])\n",
    "\n",
    "runAnalysis(dataDirectory1, dataDirectory2, bandNum1, bandNum2, maskFile, resultDirectory)\n",
    "\n",
    "dprint(\"-------------------------------\")\n",
    "dprint(\"Ending analysis 2\")\n",
    "dprint(\"-------------------------------\")"
   ]
  },
  {
   "cell_type": "markdown",
   "metadata": {},
   "source": [
    "### Analysis 3\n",
    "This analysis focusses on Leaf and SOS data from the USA from 1980 to 2016 at a 4K spatial resolution."
   ]
  },
  {
   "cell_type": "code",
   "execution_count": 34,
   "metadata": {},
   "outputs": [
    {
     "name": "stdout",
     "output_type": "stream",
     "text": [
      "2017-12-19 13:40:36 | -------------------------------\n",
      "2017-12-19 13:40:36 | Running analysis 3\n",
      "2017-12-19 13:40:36 | -------------------------------\n",
      "2017-12-19 13:40:41 | Running runAnalysis(dataDirectory1, dataDirectory2, maskFile, resultDirectory)\n",
      "2017-12-19 13:40:41 | Running getDataSet(directoryPath)\n",
      "2017-12-19 13:40:47 | Number of files: 37\n",
      "2017-12-19 13:43:18 | Reading files: [------------------->] 100%\n",
      "2017-12-19 13:43:23 | dataSet.shape: (1414560, 37)\n",
      "2017-12-19 13:43:23 | Ending getDataSet(directoryPath)\n",
      "2017-12-19 13:43:23 | Running getDataSet(directoryPath)\n",
      "2017-12-19 13:43:26 | Number of files: 26\n",
      "2017-12-19 13:45:06 | Reading files: [------------------->] 100%\n",
      "2017-12-19 13:45:10 | dataSet.shape: (1414560, 26)\n",
      "2017-12-19 13:45:10 | Ending getDataSet(directoryPath)\n",
      "2017-12-19 13:45:10 | Running getMask(filePath)\n",
      "2017-12-19 13:45:10 | mask_data.shape: (840, 1684)\n",
      "2017-12-19 13:45:10 | Ending getMask(filePath)\n",
      "2017-12-19 13:45:10 | Running filterDataSet(dataSet, maskIndex)\n",
      "2017-12-19 13:45:10 | dataSetFiltered.shape: (483850, 26)\n",
      "2017-12-19 13:45:10 | Ending filterDataSet(dataSet, maskIndex)\n",
      "2017-12-19 13:45:10 | Running filterDataSet(dataSet, maskIndex)\n",
      "2017-12-19 13:45:11 | dataSetFiltered.shape: (483850, 26)\n",
      "2017-12-19 13:45:11 | Ending filterDataSet(dataSet, maskIndex)\n",
      "2017-12-19 13:45:12 | U.shape: (483850, 26)\n",
      "2017-12-19 13:45:12 | s.shape: (26,)\n",
      "2017-12-19 13:45:12 | V.shape: (483850, 26)\n",
      "2017-12-19 13:45:12 | Singular values of product: \n",
      "2017-12-19 13:45:12 | [  2.91260327e+11   2.44862247e+09   2.25791141e+09   1.72714401e+09\n",
      "   1.60180713e+09   1.19145809e+09   1.08015221e+09   1.04512934e+09\n",
      "   8.88101254e+08   8.51890433e+08   8.09675624e+08   7.37228157e+08\n",
      "   7.02508588e+08   6.30467287e+08   5.92178005e+08   5.79064364e+08\n",
      "   5.65587207e+08   5.30042935e+08   4.90153973e+08   4.86578093e+08\n",
      "   4.62746478e+08   4.14253403e+08   4.10706445e+08   3.85475015e+08\n",
      "   3.65917327e+08   2.63676347e+08]\n",
      "2017-12-19 13:45:12 | Running validateNorms(dataSet1, dataSet2, U, s, V)\n",
      "2017-12-19 13:45:16 | Validating norms: [------------------->] 100%\n",
      "2017-12-19 13:45:16 | Largest norm difference: 2.9308978217699913e-12\n",
      "2017-12-19 13:45:16 | Ending validateNorms(dataSet1, dataSet2, U, s, V)\n",
      "2017-12-19 13:45:16 | Running plotSingularValues(resultDirectory, s)\n",
      "2017-12-19 13:45:19 | Ending plotSingularValues(resultDirectory, s)\n",
      "2017-12-19 13:45:19 | Running plotModes(resultDirectory, U, s, V, maskData, maskTransform)\n",
      "2017-12-19 13:47:14 | Plotting modes: [------------------->] 100%\n",
      "2017-12-19 13:47:19 | Ending plotModes(resultDirectory, U, s, V, maskData, maskTransform)\n",
      "2017-12-19 13:47:19 | Ending runAnalysis(dataDirectory1, dataDirectory2, maskFile, resultDirectory)\n",
      "2017-12-19 13:47:19 | -------------------------------\n",
      "2017-12-19 13:47:19 | Ending analysis 3\n",
      "2017-12-19 13:47:19 | -------------------------------\n"
     ]
    }
   ],
   "source": [
    "dprint(\"-------------------------------\")\n",
    "dprint(\"Running analysis 3\")\n",
    "dprint(\"-------------------------------\")\n",
    "\n",
    "dataDirectory1 = \"hdfs:///user/hadoop/spring-index/LeafGridmet/\"\n",
    "bandNum1 = 3\n",
    "dataDirectory2 = \"hdfs:///user/hadoop/avhrr/SOST4Km/\"\n",
    "bandNum2 = 0\n",
    "maskFile = \"hdfs:///user/hadoop/usa_mask_gridmet.tif\"\n",
    "resultDirectory = \"hdfs:///user/emma/svd/LeafGridmetSOST4Km/\"\n",
    "\n",
    "#Create Result dir\n",
    "subprocess.run(['hadoop', 'dfs', '-mkdir', resultDirectory])\n",
    "\n",
    "runAnalysis(dataDirectory1, dataDirectory2, bandNum1, bandNum2, maskFile, resultDirectory)\n",
    "\n",
    "dprint(\"-------------------------------\")\n",
    "dprint(\"Ending analysis 3\")\n",
    "dprint(\"-------------------------------\")"
   ]
  },
  {
   "cell_type": "markdown",
   "metadata": {},
   "source": [
    "### Analysis 4\n",
    "This analysis focusses on BloomFinalLowPR and SOSTLowPR data from the USA from 1989 to 2014 1Km resolution."
   ]
  },
  {
   "cell_type": "code",
   "execution_count": 35,
   "metadata": {},
   "outputs": [
    {
     "name": "stdout",
     "output_type": "stream",
     "text": [
      "2017-12-19 13:56:34 | -------------------------------\n",
      "2017-12-19 13:56:34 | Running analysis 4\n",
      "2017-12-19 13:56:34 | -------------------------------\n",
      "2017-12-19 13:56:36 | Running runAnalysis(dataDirectory1, dataDirectory2, maskFile, resultDirectory)\n",
      "2017-12-19 13:56:36 | Running getDataSet(directoryPath)\n",
      "2017-12-19 13:56:37 | Number of files: 26\n",
      "2017-12-19 13:57:03 | Reading files: [------------------->] 100%\n",
      "2017-12-19 13:57:05 | dataSet.shape: (30870, 26)\n",
      "2017-12-19 13:57:05 | Ending getDataSet(directoryPath)\n",
      "2017-12-19 13:57:05 | Running getDataSet(directoryPath)\n",
      "2017-12-19 13:57:06 | Number of files: 26\n",
      "2017-12-19 13:57:34 | Reading files: [------------------->] 100%\n",
      "2017-12-19 13:57:35 | dataSet.shape: (30870, 26)\n",
      "2017-12-19 13:57:35 | Ending getDataSet(directoryPath)\n",
      "2017-12-19 13:57:35 | Running getMask(filePath)\n",
      "2017-12-19 13:57:35 | mask_data.shape: (210, 147)\n",
      "2017-12-19 13:57:35 | Ending getMask(filePath)\n",
      "2017-12-19 13:57:35 | Running filterDataSet(dataSet, maskIndex)\n",
      "2017-12-19 13:57:35 | dataSetFiltered.shape: (30870, 26)\n",
      "2017-12-19 13:57:35 | Ending filterDataSet(dataSet, maskIndex)\n",
      "2017-12-19 13:57:35 | Running filterDataSet(dataSet, maskIndex)\n",
      "2017-12-19 13:57:35 | dataSetFiltered.shape: (30870, 26)\n",
      "2017-12-19 13:57:35 | Ending filterDataSet(dataSet, maskIndex)\n",
      "2017-12-19 13:57:36 | U.shape: (30870, 26)\n",
      "2017-12-19 13:57:36 | s.shape: (26,)\n",
      "2017-12-19 13:57:36 | V.shape: (30870, 26)\n",
      "2017-12-19 13:57:36 | Singular values of product: \n",
      "2017-12-19 13:57:36 | [  1.20587459e+10   1.61809893e+07   7.14959958e+06   5.43663867e+06\n",
      "   3.36146096e+06   2.87319546e+06   2.60868335e+06   1.66709042e+06\n",
      "   1.56316663e+06   1.50092982e+06   1.38065996e+06   1.09581415e+06\n",
      "   9.92082603e+05   8.73109084e+05   8.03291265e+05   6.94849214e+05\n",
      "   6.48117639e+05   5.47592331e+05   5.42842103e+05   4.75190088e+05\n",
      "   4.69942723e+05   4.61514941e+05   3.77371034e+05   2.92247653e+05\n",
      "   2.75634196e+05   1.84255706e+05]\n",
      "2017-12-19 13:57:36 | Running validateNorms(dataSet1, dataSet2, U, s, V)\n",
      "2017-12-19 13:57:36 | Validating norms: [------------------->] 100%\n",
      "2017-12-19 13:57:36 | Largest norm difference: 7.402137083765577e-12\n",
      "2017-12-19 13:57:36 | Ending validateNorms(dataSet1, dataSet2, U, s, V)\n",
      "2017-12-19 13:57:36 | Running plotSingularValues(resultDirectory, s)\n",
      "2017-12-19 13:57:38 | Ending plotSingularValues(resultDirectory, s)\n",
      "2017-12-19 13:57:38 | Running plotModes(resultDirectory, U, s, V, maskData, maskTransform)\n",
      "2017-12-19 13:59:32 | Plotting modes: [------------------->] 100%\n",
      "2017-12-19 13:59:36 | Ending plotModes(resultDirectory, U, s, V, maskData, maskTransform)\n",
      "2017-12-19 13:59:36 | Ending runAnalysis(dataDirectory1, dataDirectory2, maskFile, resultDirectory)\n",
      "2017-12-19 13:59:36 | -------------------------------\n",
      "2017-12-19 13:59:36 | Ending analysis 4\n",
      "2017-12-19 13:59:36 | -------------------------------\n"
     ]
    }
   ],
   "source": [
    "dprint(\"-------------------------------\")\n",
    "dprint(\"Running analysis 4\")\n",
    "dprint(\"-------------------------------\")\n",
    "\n",
    "dataDirectory1 = \"hdfs:///user/hadoop/spring-index/BloomFinalLowPR/\"\n",
    "bandNum1 = 0\n",
    "dataDirectory2 = \"hdfs:///user/hadoop/avhrr/SOSTLowPR/\"\n",
    "bandNum2 = 0\n",
    "maskFile = \"hdfs:///user/hadoop/spring-index/BloomFinalLowPR/1989.tif\"\n",
    "resultDirectory = \"hdfs:///user/emma/svd/BloomFinalLowPRSOSTLowPR/\"\n",
    "\n",
    "#Create Result dir\n",
    "subprocess.run(['hadoop', 'dfs', '-mkdir', resultDirectory])\n",
    "\n",
    "runAnalysis(dataDirectory1, dataDirectory2, bandNum1, bandNum2, maskFile, resultDirectory)\n",
    "\n",
    "dprint(\"-------------------------------\")\n",
    "dprint(\"Ending analysis 4\")\n",
    "dprint(\"-------------------------------\")"
   ]
  },
  {
   "cell_type": "markdown",
   "metadata": {},
   "source": [
    "### Analysis 5\n",
    "This analysis focusses on LeafFinalLowPR and SOSTLowPR data from the USA from 1989 to 2014 1Km resolution."
   ]
  },
  {
   "cell_type": "code",
   "execution_count": 36,
   "metadata": {},
   "outputs": [
    {
     "name": "stdout",
     "output_type": "stream",
     "text": [
      "2017-12-19 13:59:36 | -------------------------------\n",
      "2017-12-19 13:59:36 | Running analysis 5\n",
      "2017-12-19 13:59:36 | -------------------------------\n",
      "2017-12-19 13:59:38 | Running runAnalysis(dataDirectory1, dataDirectory2, maskFile, resultDirectory)\n",
      "2017-12-19 13:59:38 | Running getDataSet(directoryPath)\n",
      "2017-12-19 13:59:44 | Number of files: 26\n",
      "2017-12-19 14:00:12 | Reading files: [------------------->] 100%\n",
      "2017-12-19 14:00:13 | dataSet.shape: (30870, 26)\n",
      "2017-12-19 14:00:13 | Ending getDataSet(directoryPath)\n",
      "2017-12-19 14:00:13 | Running getDataSet(directoryPath)\n",
      "2017-12-19 14:00:14 | Number of files: 26\n",
      "2017-12-19 14:00:41 | Reading files: [------------------->] 100%\n",
      "2017-12-19 14:00:42 | dataSet.shape: (30870, 26)\n",
      "2017-12-19 14:00:42 | Ending getDataSet(directoryPath)\n",
      "2017-12-19 14:00:42 | Running getMask(filePath)\n",
      "2017-12-19 14:00:42 | mask_data.shape: (210, 147)\n",
      "2017-12-19 14:00:42 | Ending getMask(filePath)\n",
      "2017-12-19 14:00:42 | Running filterDataSet(dataSet, maskIndex)\n",
      "2017-12-19 14:00:42 | dataSetFiltered.shape: (30870, 26)\n",
      "2017-12-19 14:00:42 | Ending filterDataSet(dataSet, maskIndex)\n",
      "2017-12-19 14:00:42 | Running filterDataSet(dataSet, maskIndex)\n",
      "2017-12-19 14:00:42 | dataSetFiltered.shape: (30870, 26)\n",
      "2017-12-19 14:00:42 | Ending filterDataSet(dataSet, maskIndex)\n",
      "2017-12-19 14:00:42 | U.shape: (30870, 26)\n",
      "2017-12-19 14:00:42 | s.shape: (26,)\n",
      "2017-12-19 14:00:42 | V.shape: (30870, 26)\n",
      "2017-12-19 14:00:42 | Singular values of product: \n",
      "2017-12-19 14:00:42 | [  7.41470894e+09   2.63031158e+07   9.02425892e+06   6.62606689e+06\n",
      "   5.24978714e+06   3.97618140e+06   3.46456570e+06   2.96742328e+06\n",
      "   2.63031152e+06   2.37920646e+06   1.87791908e+06   1.80924544e+06\n",
      "   1.68349978e+06   1.51099198e+06   1.41970179e+06   1.38772949e+06\n",
      "   1.26231120e+06   1.14775291e+06   9.76859389e+05   9.25336223e+05\n",
      "   8.23103195e+05   7.01515433e+05   6.58872327e+05   4.73111161e+05\n",
      "   3.32454318e+05   1.93274133e+05]\n",
      "2017-12-19 14:00:42 | Running validateNorms(dataSet1, dataSet2, U, s, V)\n",
      "2017-12-19 14:00:42 | Validating norms: [------------------->] 100%\n",
      "2017-12-19 14:00:42 | Largest norm difference: 5.53283439094686e-12\n",
      "2017-12-19 14:00:42 | Ending validateNorms(dataSet1, dataSet2, U, s, V)\n",
      "2017-12-19 14:00:42 | Running plotSingularValues(resultDirectory, s)\n",
      "2017-12-19 14:00:44 | Ending plotSingularValues(resultDirectory, s)\n",
      "2017-12-19 14:00:44 | Running plotModes(resultDirectory, U, s, V, maskData, maskTransform)\n",
      "2017-12-19 14:02:37 | Plotting modes: [------------------->] 100%\n",
      "2017-12-19 14:02:41 | Ending plotModes(resultDirectory, U, s, V, maskData, maskTransform)\n",
      "2017-12-19 14:02:41 | Ending runAnalysis(dataDirectory1, dataDirectory2, maskFile, resultDirectory)\n",
      "2017-12-19 14:02:41 | -------------------------------\n",
      "2017-12-19 14:02:41 | Ending analysis 5\n",
      "2017-12-19 14:02:41 | -------------------------------\n"
     ]
    }
   ],
   "source": [
    "dprint(\"-------------------------------\")\n",
    "dprint(\"Running analysis 5\")\n",
    "dprint(\"-------------------------------\")\n",
    "\n",
    "dataDirectory1 = \"hdfs:///user/hadoop/spring-index/LeafFinalLowPR/\"\n",
    "bandNum1 = 0\n",
    "dataDirectory2 = \"hdfs:///user/hadoop/avhrr/SOSTLowPR/\"\n",
    "bandNum2 = 0\n",
    "maskFile = \"hdfs:///user/hadoop/spring-index/LeafFinalLowPR/1989.tif\"\n",
    "resultDirectory = \"hdfs:///user/emma/svd/LeafFinalLowPRSOSTLowPR/\"\n",
    "\n",
    "#Create Result dir\n",
    "subprocess.run(['hadoop', 'dfs', '-mkdir', resultDirectory])\n",
    "\n",
    "runAnalysis(dataDirectory1, dataDirectory2, bandNum1, bandNum2, maskFile, resultDirectory)\n",
    "\n",
    "dprint(\"-------------------------------\")\n",
    "dprint(\"Ending analysis 5\")\n",
    "dprint(\"-------------------------------\")"
   ]
  },
  {
   "cell_type": "markdown",
   "metadata": {},
   "source": [
    "### Analysis 6\n",
    "This analysis focusses on BloomFinalLowPR and LeafFinalLowPR data from the USA from 1989 to 2014 1Km resolution."
   ]
  },
  {
   "cell_type": "code",
   "execution_count": 39,
   "metadata": {},
   "outputs": [
    {
     "name": "stdout",
     "output_type": "stream",
     "text": [
      "2017-12-19 14:15:07 | -------------------------------\n",
      "2017-12-19 14:15:07 | Running analysis 6\n",
      "2017-12-19 14:15:07 | -------------------------------\n",
      "2017-12-19 14:15:09 | Running runAnalysis(dataDirectory1, dataDirectory2, maskFile, resultDirectory)\n",
      "2017-12-19 14:15:09 | Running getDataSet(directoryPath)\n",
      "2017-12-19 14:15:10 | Number of files: 26\n",
      "2017-12-19 14:15:34 | Reading files: [------------------->] 100%\n",
      "2017-12-19 14:15:35 | dataSet.shape: (30870, 26)\n",
      "2017-12-19 14:15:35 | Ending getDataSet(directoryPath)\n",
      "2017-12-19 14:15:35 | Running getDataSet(directoryPath)\n",
      "2017-12-19 14:15:36 | Number of files: 26\n",
      "2017-12-19 14:16:00 | Reading files: [------------------->] 100%\n",
      "2017-12-19 14:16:01 | dataSet.shape: (30870, 26)\n",
      "2017-12-19 14:16:01 | Ending getDataSet(directoryPath)\n",
      "2017-12-19 14:16:01 | Running getMask(filePath)\n",
      "2017-12-19 14:16:01 | mask_data.shape: (210, 147)\n",
      "2017-12-19 14:16:01 | Ending getMask(filePath)\n",
      "2017-12-19 14:16:01 | Running filterDataSet(dataSet, maskIndex)\n",
      "2017-12-19 14:16:01 | dataSetFiltered.shape: (30870, 26)\n",
      "2017-12-19 14:16:01 | Ending filterDataSet(dataSet, maskIndex)\n",
      "2017-12-19 14:16:01 | Running filterDataSet(dataSet, maskIndex)\n",
      "2017-12-19 14:16:01 | dataSetFiltered.shape: (30870, 26)\n",
      "2017-12-19 14:16:01 | Ending filterDataSet(dataSet, maskIndex)\n",
      "2017-12-19 14:16:01 | U.shape: (30870, 26)\n",
      "2017-12-19 14:16:01 | s.shape: (26,)\n",
      "2017-12-19 14:16:01 | V.shape: (30870, 26)\n",
      "2017-12-19 14:16:01 | Singular values of product: \n",
      "2017-12-19 14:16:01 | [  3.68226752e+09   8.06563531e+05   4.85824678e+05   3.10463362e+05\n",
      "   2.30006476e+05   1.61068309e+05   1.12546660e+05   9.62783613e+04\n",
      "   7.68308440e+04   6.31607624e+04   5.01396173e+04   4.52413785e+04\n",
      "   4.27108688e+04   3.49840664e+04   3.29666237e+04   3.12362959e+04\n",
      "   2.51067545e+04   2.44929799e+04   2.18680338e+04   2.03446059e+04\n",
      "   1.83310559e+04   1.52361370e+04   1.48177991e+04   1.34717678e+04\n",
      "   1.03196921e+04   8.50797897e+03]\n",
      "2017-12-19 14:16:01 | Running validateNorms(dataSet1, dataSet2, U, s, V)\n",
      "2017-12-19 14:16:01 | Validating norms: [------------------->] 100%\n",
      "2017-12-19 14:16:01 | Largest norm difference: 3.212667582506447e-11\n",
      "2017-12-19 14:16:01 | Ending validateNorms(dataSet1, dataSet2, U, s, V)\n",
      "2017-12-19 14:16:01 | Running plotSingularValues(resultDirectory, s)\n",
      "2017-12-19 14:16:04 | Ending plotSingularValues(resultDirectory, s)\n",
      "2017-12-19 14:16:04 | Running plotModes(resultDirectory, U, s, V, maskData, maskTransform)\n",
      "2017-12-19 14:17:52 | Plotting modes: [------------------->] 100%\n",
      "2017-12-19 14:17:56 | Ending plotModes(resultDirectory, U, s, V, maskData, maskTransform)\n",
      "2017-12-19 14:17:56 | Ending runAnalysis(dataDirectory1, dataDirectory2, maskFile, resultDirectory)\n",
      "2017-12-19 14:17:56 | -------------------------------\n",
      "2017-12-19 14:17:56 | Ending analysis 6\n",
      "2017-12-19 14:17:56 | -------------------------------\n"
     ]
    }
   ],
   "source": [
    "dprint(\"-------------------------------\")\n",
    "dprint(\"Running analysis 6\")\n",
    "dprint(\"-------------------------------\")\n",
    "\n",
    "dataDirectory1 = \"hdfs:///user/hadoop/spring-index/BloomFinalLowPR/\"\n",
    "bandNum1 = 0\n",
    "dataDirectory2 = \"hdfs:///user/hadoop/spring-index/LeafFinalLowPR/\"\n",
    "bandNum2 = 0\n",
    "maskFile = \"hdfs:///user/hadoop/spring-index/BloomFinalLowPR/1989.tif\"\n",
    "resultDirectory = \"hdfs:///user/emma/svd/BloomFinalLowPRLeafFinalLowPR/\"\n",
    "\n",
    "#Create Result dir\n",
    "subprocess.run(['hadoop', 'dfs', '-mkdir', resultDirectory])\n",
    "\n",
    "runAnalysis(dataDirectory1, dataDirectory2, bandNum1, bandNum2, maskFile, resultDirectory)\n",
    "\n",
    "dprint(\"-------------------------------\")\n",
    "dprint(\"Ending analysis 6\")\n",
    "dprint(\"-------------------------------\")"
   ]
  },
  {
   "cell_type": "markdown",
   "metadata": {},
   "source": [
    "End of Notebook"
   ]
  }
 ],
 "metadata": {
  "kernelspec": {
   "display_name": "Python 3",
   "language": "python",
   "name": "python3"
  },
  "language_info": {
   "codemirror_mode": {
    "name": "ipython",
    "version": 3
   },
   "file_extension": ".py",
   "mimetype": "text/x-python",
   "name": "python",
   "nbconvert_exporter": "python",
   "pygments_lexer": "ipython3",
   "version": "3.5.2"
  }
 },
 "nbformat": 4,
 "nbformat_minor": 2
}
