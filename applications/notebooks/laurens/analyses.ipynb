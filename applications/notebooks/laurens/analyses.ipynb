{
 "cells": [
  {
   "cell_type": "markdown",
   "metadata": {
    "slideshow": {
     "slide_type": "slide"
    }
   },
   "source": [
    "# Product SVD in Python\n",
    "\n",
    "\n",
    "In this NoteBook, the reader will find code to load GeoTiff files, single- or multi-band, from HDFS. It reads the GeoTiffs as a **ByteArray**s and then stores the GeoTiffs in memory using **MemFile** from the **RasterIO** Python package. Subsequently, a statistical analysis is performed on each pair of datasets. In particular, the Python module _productsvd_ is used to determine the SVD of the product of the two phenology datasets."
   ]
  },
  {
   "cell_type": "markdown",
   "metadata": {
    "slideshow": {
     "slide_type": "subslide"
    }
   },
   "source": [
    "## Initialization\n",
    "This section initializes the notebook."
   ]
  },
  {
   "cell_type": "markdown",
   "metadata": {
    "slideshow": {
     "slide_type": "subslide"
    }
   },
   "source": [
    "### Dependencies\n",
    "Here, all necessary libraries are imported."
   ]
  },
  {
   "cell_type": "code",
   "execution_count": 162,
   "metadata": {
    "slideshow": {
     "slide_type": "subslide"
    }
   },
   "outputs": [],
   "source": [
    "#Add all dependencies to PYTHON_PATH\n",
    "import sys\n",
    "sys.path.append(\"/usr/lib/spark/python\")\n",
    "sys.path.append(\"/usr/lib/spark/python/lib/py4j-0.10.4-src.zip\")\n",
    "sys.path.append(\"/usr/lib/python3/dist-packages\")\n",
    "sys.path.append(\"/data/local/jupyterhub/modules/python\")\n",
    "\n",
    "#Define environment variables\n",
    "import os\n",
    "os.environ[\"HADOOP_CONF_DIR\"] = \"/etc/hadoop/conf\"\n",
    "os.environ[\"PYSPARK_PYTHON\"] = \"python3\"\n",
    "os.environ[\"PYSPARK_DRIVER_PYTHON\"] = \"ipython\"\n",
    "\n",
    "import subprocess\n",
    "\n",
    "#Load PySpark to connect to a Spark cluster\n",
    "from pyspark import SparkConf, SparkContext\n",
    "from hdfs import InsecureClient\n",
    "from tempfile import TemporaryFile\n",
    "\n",
    "#from osgeo import gdal\n",
    "#To read GeoTiffs as a ByteArray\n",
    "from io import BytesIO\n",
    "from rasterio.io import MemoryFile\n",
    "\n",
    "import numpy as np\n",
    "import pandas\n",
    "import datetime\n",
    "import matplotlib.pyplot as plt\n",
    "import rasterio\n",
    "from rasterio import plot\n",
    "from os import listdir\n",
    "from os.path import isfile, join\n",
    "from numpy import exp, log\n",
    "from numpy.random import standard_normal\n",
    "from scipy.linalg import norm, qr, svd\n",
    "from productsvd import qrproductsvd\n",
    "from sklearn.utils.extmath import randomized_svd"
   ]
  },
  {
   "cell_type": "markdown",
   "metadata": {},
   "source": [
    "### Configuration\n",
    "This configuration determines whether functions print logs during the execution."
   ]
  },
  {
   "cell_type": "code",
   "execution_count": 163,
   "metadata": {},
   "outputs": [],
   "source": [
    "debugMode = True"
   ]
  },
  {
   "cell_type": "markdown",
   "metadata": {},
   "source": [
    "### Connect to Spark\n",
    "Here, the Spark context is loaded, which allows for a connection to HDFS."
   ]
  },
  {
   "cell_type": "code",
   "execution_count": 164,
   "metadata": {},
   "outputs": [],
   "source": [
    "appName = \"plot_GeoTiff\"\n",
    "masterURL = \"spark://pheno0.phenovari-utwente.surf-hosted.nl:7077\"\n",
    "\n",
    "#A context needs to be created if it does not already exist\n",
    "try:\n",
    "    sc.stop()\n",
    "except NameError:\n",
    "    print(\"A new Spark Context will be created.\")\n",
    "\n",
    "sc = SparkContext(conf = SparkConf().setAppName(appName).setMaster(masterURL))\n",
    "conf = sc.getConf()"
   ]
  },
  {
   "cell_type": "markdown",
   "metadata": {},
   "source": [
    "## Functions\n",
    "This section defines various functions used in the analysis."
   ]
  },
  {
   "cell_type": "markdown",
   "metadata": {
    "slideshow": {
     "slide_type": "subslide"
    }
   },
   "source": [
    "### Support functions\n",
    "These functions support other functions."
   ]
  },
  {
   "cell_type": "code",
   "execution_count": 165,
   "metadata": {},
   "outputs": [],
   "source": [
    "def dprint(msg):\n",
    "    if (debugMode):\n",
    "        print(str(datetime.datetime.now().strftime(\"%Y-%m-%d %H:%M:%S\")) + \" | \" + msg)"
   ]
  },
  {
   "cell_type": "code",
   "execution_count": 166,
   "metadata": {},
   "outputs": [],
   "source": [
    "def progressBar(message, value, endvalue, bar_length = 20):\n",
    "    if (debugMode):\n",
    "        percent = float(value) / endvalue\n",
    "        arrow = '-' * int(round(percent * bar_length)-1) + '>'\n",
    "        spaces = ' ' * (bar_length - len(arrow))\n",
    "        sys.stdout.write(\"\\r\" \n",
    "                         + str(datetime.datetime.now().strftime(\"%Y-%m-%d %H:%M:%S\")) \n",
    "                         + \" | \" \n",
    "                         + message \n",
    "                         + \": [{0}] {1}%\".format(arrow + spaces, int(round(percent * 100)))\n",
    "                        )\n",
    "        if value == endvalue:\n",
    "            sys.stdout.write(\"\\n\")\n",
    "        sys.stdout.flush()"
   ]
  },
  {
   "cell_type": "code",
   "execution_count": 167,
   "metadata": {},
   "outputs": [],
   "source": [
    "def get_hdfs_client():\n",
    "    return InsecureClient(\"pheno0.phenovari-utwente.surf-hosted.nl:50070\", user=\"pheno\",\n",
    "         root=\"/\")"
   ]
  },
  {
   "cell_type": "markdown",
   "metadata": {
    "slideshow": {
     "slide_type": "subslide"
    }
   },
   "source": [
    "### Read functions\n",
    "These functions allow for the reading of data."
   ]
  },
  {
   "cell_type": "code",
   "execution_count": 168,
   "metadata": {},
   "outputs": [],
   "source": [
    "def getDataSet(directoryPath):\n",
    "    dprint(\"Running getDataSet(directoryPath)\")\n",
    "    \n",
    "    files = sc.binaryFiles(directoryPath + \"/*.tif\")\n",
    "    fileList = files.keys().collect()\n",
    "    dprint(\"Number of files: \" + str(len(fileList)))\n",
    "    dataSet = []\n",
    "    plotShapes = []\n",
    "    flattenedShapes = []\n",
    "    for i, f in enumerate(fileList):\n",
    "        progressBar(\"Reading files\", i + 1, len(fileList))\n",
    "        data = files.lookup(f)\n",
    "        dataByteArray = bytearray(data[0])\n",
    "        memfile = MemoryFile(dataByteArray)\n",
    "        dataset = memfile.open()\n",
    "        relevantBand = np.array(dataset.read()[0])\n",
    "        memfile.close()\n",
    "        plotShapes.append(relevantBand.shape)\n",
    "        flattenedDataSet = relevantBand.flatten()\n",
    "        flattenedShapes.append(flattenedDataSet.shape)\n",
    "        dataSet.append(flattenedDataSet)\n",
    "    dataSet = np.array(dataSet).T\n",
    "    dprint(\"dataSet.shape: \" + str(dataSet.shape))\n",
    "    \n",
    "    dprint(\"Ending getDataSet(directoryPath)\")\n",
    "    return dataSet"
   ]
  },
  {
   "cell_type": "code",
   "execution_count": 169,
   "metadata": {},
   "outputs": [],
   "source": [
    "def getMask(filePath):\n",
    "    dprint(\"Running getMask(filePath)\")\n",
    "    \n",
    "    mask_data = sc.binaryFiles(filePath).take(1)\n",
    "    mask_byteArray = bytearray(mask_data[0][1])\n",
    "    mask_memfile = MemoryFile(mask_byteArray)\n",
    "    mask_dataset = mask_memfile.open()\n",
    "    mask_data = np.array(mask_dataset.read()[0])\n",
    "    mask_memfile.close()\n",
    "    dprint(\"mask_data.shape: \" + str(mask_data.shape))\n",
    "    \n",
    "    dprint(\"Ending getMask(filePath)\")\n",
    "    return mask_data"
   ]
  },
  {
   "cell_type": "markdown",
   "metadata": {
    "slideshow": {
     "slide_type": "subslide"
    }
   },
   "source": [
    "### Utility functions\n",
    "These functions analyse and manipulate data."
   ]
  },
  {
   "cell_type": "code",
   "execution_count": 170,
   "metadata": {},
   "outputs": [],
   "source": [
    "def filterDataSet(dataSet, maskData):\n",
    "    dprint(\"Running filterDataSet(dataSet, maskIndex)\")\n",
    "    \n",
    "    maskIndex = np.nonzero(maskData.flatten())[0]\n",
    "    dataSetFiltered = dataSet[maskIndex]\n",
    "    dprint(\"dataSetFiltered.shape: \" + str(dataSetFiltered.shape))\n",
    "    \n",
    "    dprint(\"Ending filterDataSet(dataSet, maskIndex)\")\n",
    "    return dataSetFiltered"
   ]
  },
  {
   "cell_type": "code",
   "execution_count": 171,
   "metadata": {},
   "outputs": [],
   "source": [
    "def validateNorms(dataSet1, dataSet2, U, s, V):\n",
    "    dprint(\"Running validateNorms(dataSet1, dataSet2, U, s, V)\")\n",
    "    \n",
    "    length = len(s)\n",
    "    norms = []\n",
    "    for i in range(length):\n",
    "        progressBar(\"Validating norms\", i + 1, length)\n",
    "        u = dataSet1 @ (dataSet2.T @ V.T[i]) / s[i]\n",
    "        v = dataSet2 @ (dataSet1.T @ U.T[i]) / s[i]\n",
    "        norms.append(norm(U.T[i] - u))\n",
    "        norms.append(norm(V.T[i] - v))\n",
    "    dprint(\"Largest norm difference: \" + str(max(norms)))\n",
    "    \n",
    "    dprint(\"Ending validateNorms(dataSet1, dataSet2, U, s, V)\")"
   ]
  },
  {
   "cell_type": "markdown",
   "metadata": {
    "slideshow": {
     "slide_type": "subslide"
    }
   },
   "source": [
    "### Write functions\n",
    "These functions write data and plots."
   ]
  },
  {
   "cell_type": "code",
   "execution_count": 178,
   "metadata": {},
   "outputs": [],
   "source": [
    "def writeCSVs(resultDirectory, U, s, V):\n",
    "    dprint(\"Running writeCSV(resultDirectory, U, s, V)\")\n",
    "    \n",
    "    for i, vectorData in enumerate([U, s, V]):\n",
    "        progressBar(\"Writing CSV\", i + 1, 3)\n",
    "        fileName = [\"U\", \"s\", \"V\"][i] + \".csv\"\n",
    "        inFile = \"/tmp/\" + fileName\n",
    "        outFile = resultDirectory + fileName\n",
    "        decompositionFile = open(inFile, \"w\")\n",
    "        vectorData.T.tofile(decompositionFile, sep = \",\")\n",
    "        decompositionFile.close()\n",
    "        #Upload to HDFS\n",
    "        subprocess.run(['hadoop', 'dfs', '-copyFromLocal', '-f', inFile, outFile])\n",
    "        #Remove from /tmp/\n",
    "        subprocess.run(['rm', '-fr', inFile])\n",
    "    \n",
    "    dprint(\"Ending writeCSV(resultDirectory, U, s, V)\")"
   ]
  },
  {
   "cell_type": "code",
   "execution_count": 173,
   "metadata": {},
   "outputs": [],
   "source": [
    "def plotSingularValues(resultDirectory, s):\n",
    "    dprint(\"Running plotSingularValues(resultDirectory, s)\")\n",
    "    \n",
    "    fileName = \"s.pdf\"\n",
    "    inFile = \"/tmp/\" + fileName\n",
    "    outFile = resultDirectory + fileName\n",
    "    x = range(len(s))\n",
    "    total = s.T @ s\n",
    "    cumulativeValue = 0\n",
    "    valueList = []\n",
    "    cumulativeList = []\n",
    "    for i in x:\n",
    "        value = np.square(s[i]) / total\n",
    "        valueList.append(value)\n",
    "        cumulativeValue = cumulativeValue + value\n",
    "        cumulativeList.append(cumulativeValue)\n",
    "    fig, ax1 = plt.subplots()\n",
    "    ax2 = ax1.twinx()\n",
    "    ax1.plot(x, valueList, \"g^\")\n",
    "    ax2.plot(x, cumulativeList, \"ro\")\n",
    "    ax1.set_xlabel(\"Singular values\")\n",
    "    ax1.set_ylabel(\"Variance explained\", color = \"g\")\n",
    "    ax2.set_ylabel(\"Cumulative variance explained\", color = \"r\")\n",
    "    plt.savefig(inFile)\n",
    "    plt.clf()\n",
    "    #Upload to HDFS\n",
    "    subprocess.run(['hadoop', 'dfs', '-copyFromLocal', '-f', inFile, outFile])  \n",
    "    #Remove from /tmp/\n",
    "    subprocess.run(['rm', '-fr', inFile])\n",
    "    \n",
    "    dprint(\"Ending plotSingularValues(resultDirectory, s)\")"
   ]
  },
  {
   "cell_type": "code",
   "execution_count": 174,
   "metadata": {},
   "outputs": [],
   "source": [
    "def writeModes(resultDirectory, U, s, V):\n",
    "    dprint(\"Running writeModes(resultDirectory, U, s, V)\")\n",
    "    \n",
    "    for i in range(len(s)):\n",
    "        progressBar(\"Writing modes\", i + 1, len(s))\n",
    "        fileName = \"Mode\" + str(i + 1).zfill(2) + \".txt\"\n",
    "        inFile = \"/tmp/\" + fileName\n",
    "        outFile = resultDirectory + fileName\n",
    "        decompositionFile = open(inFile, \"w\")\n",
    "        U.T[i].tofile(decompositionFile, sep = \",\")\n",
    "        decompositionFile.close()\n",
    "        decompositionFile = open(inFile, \"a\")\n",
    "        decompositionFile.write(\"\\n\")\n",
    "        s[i].tofile(decompositionFile, sep = \",\")\n",
    "        decompositionFile.write(\"\\n\")\n",
    "        V.T[i].tofile(decompositionFile, sep = \",\")\n",
    "        decompositionFile.close()\n",
    "        #Upload to HDFS\n",
    "        subprocess.run(['hadoop', 'dfs', '-copyFromLocal', '-f', inFile, outFile])  \n",
    "        #Remove from /tmp/\n",
    "        subprocess.run(['rm', '-fr', inFile])\n",
    "    \n",
    "    dprint(\"Ending writeModes(resultDirectory, U, s, V)\")"
   ]
  },
  {
   "cell_type": "code",
   "execution_count": 175,
   "metadata": {},
   "outputs": [],
   "source": [
    "def plotModes(resultDirectory, U, s, V, maskData):\n",
    "    dprint(\"Running plotModes(resultDirectory, U, s, V, maskData)\")\n",
    "    \n",
    "    plotTemplate = np.zeros(maskData.shape[0] * maskData.shape[1])\n",
    "    maskIndex = np.nonzero(maskData.flatten())[0]\n",
    "    for i in range(len(s)):\n",
    "        progressBar(\"Plotting modes\", i + 1, len(s))\n",
    "        for vectorData, vectorName in zip([U, V], [\"U\", \"V\"]):\n",
    "            fileName = \"Mode\" + vectorName + str(i + 1).zfill(2) + \".pdf\"\n",
    "            inFile = \"/tmp/\" + fileName\n",
    "            outFile = resultDirectory + fileName\n",
    "            data = np.copy(plotTemplate)\n",
    "            np.put(data, maskIndex, vectorData.T[i])\n",
    "            data = np.reshape(data, maskData.shape)\n",
    "            plt.figure(1)\n",
    "            cmap = plt.cm.get_cmap('YlGn')\n",
    "            img = plt.imshow(data, cmap = 'YlGn')\n",
    "            plt.colorbar(orientation = 'horizontal')\n",
    "            plt.clim(float(np.min(data)), float(np.max(data)))\n",
    "            plt.axis('off')\n",
    "            plt.savefig(inFile)\n",
    "            plt.clf()\n",
    "            #Upload to HDFS\n",
    "            subprocess.run(['hadoop', 'dfs', '-copyFromLocal', '-f', inFile, outFile])  \n",
    "            #Remove from /tmp/\n",
    "            subprocess.run(['rm', '-fr', inFile])\n",
    "    \n",
    "    dprint(\"Ending plotModes(resultDirectory, U, s, V, maskData)\")"
   ]
  },
  {
   "cell_type": "markdown",
   "metadata": {
    "slideshow": {
     "slide_type": "subslide"
    }
   },
   "source": [
    "### Analysis function\n",
    "This function combines all the necessary steps for the analysis."
   ]
  },
  {
   "cell_type": "code",
   "execution_count": 180,
   "metadata": {},
   "outputs": [],
   "source": [
    "def runAnalysis(dataDirectory1, dataDirectory2, maskFile, resultDirectory):\n",
    "    dprint(\"Running runAnalysis(dataDirectory1, dataDirectory2, maskFile, resultDirectory)\")\n",
    "\n",
    "    dataSet1 = getDataSet(dataDirectory1)\n",
    "    dataSet2 = getDataSet(dataDirectory2)\n",
    "    \n",
    "    if dataSet2.shape[1] == 26: # Hack to align time-dimension of SOS with Bloom and Leaf\n",
    "        dataSet1 = dataSet1[:, 8:34]\n",
    "    \n",
    "    maskData = getMask(maskFile)\n",
    "    \n",
    "    dataSetFiltered1 = filterDataSet(dataSet1, maskData)\n",
    "    dataSetFiltered2 = filterDataSet(dataSet2, maskData)\n",
    "    \n",
    "    U, s, Vt = qrproductsvd(dataSetFiltered1, dataSetFiltered2)\n",
    "    V = Vt.T\n",
    "    dprint(\"U.shape: \" + str(U.shape))\n",
    "    dprint(\"s.shape: \" + str(s.shape))\n",
    "    dprint(\"V.shape: \" + str(V.shape))\n",
    "    dprint(\"Singular values of product: \")\n",
    "    dprint(str(s))\n",
    "    \n",
    "    validateNorms(dataSetFiltered1, dataSetFiltered2, U, s, V)\n",
    "    \n",
    "    plotSingularValues(resultDirectory, s)\n",
    "    writeModes(resultDirectory, U, s, V)\n",
    "    plotModes(resultDirectory, U, s, V, maskData)\n",
    "    writeCSVs(resultDirectory, U, s, V)\n",
    "    \n",
    "    dprint(\"Ending runAnalysis(dataDirectory1, dataDirectory2, maskFile, resultDirectory)\")"
   ]
  },
  {
   "cell_type": "markdown",
   "metadata": {},
   "source": [
    "## Analyses\n",
    "In this section, the various analyses are initiated. Each analysis uses a different pair of datasets."
   ]
  },
  {
   "cell_type": "markdown",
   "metadata": {},
   "source": [
    "### Analysis 1\n",
    "This analysis focusses on Bloom and Leaf data from the USA from 1980 to 2016 at a 4K spatial resolution."
   ]
  },
  {
   "cell_type": "code",
   "execution_count": 183,
   "metadata": {},
   "outputs": [
    {
     "name": "stdout",
     "output_type": "stream",
     "text": [
      "2017-11-08 14:16:54 | -------------------------------\n",
      "2017-11-08 14:16:54 | Running analysis 1\n",
      "2017-11-08 14:16:54 | -------------------------------\n",
      "2017-11-08 14:16:56 | Running runAnalysis(dataDirectory1, dataDirectory2, maskFile, resultDirectory)\n",
      "2017-11-08 14:16:56 | Running getDataSet(directoryPath)\n",
      "2017-11-08 14:16:57 | Number of files: 37\n",
      "2017-11-08 14:17:25 | Reading files: [------------------->] 100%\n",
      "2017-11-08 14:17:33 | dataSet.shape: (1414560, 37)\n",
      "2017-11-08 14:17:33 | Ending getDataSet(directoryPath)\n",
      "2017-11-08 14:17:33 | Running getDataSet(directoryPath)\n",
      "2017-11-08 14:17:34 | Number of files: 37\n",
      "2017-11-08 14:18:05 | Reading files: [------------------->] 100%\n",
      "2017-11-08 14:18:14 | dataSet.shape: (1414560, 37)\n",
      "2017-11-08 14:18:14 | Ending getDataSet(directoryPath)\n",
      "2017-11-08 14:18:14 | Running getMask(filePath)\n",
      "2017-11-08 14:18:14 | mask_data.shape: (840, 1684)\n",
      "2017-11-08 14:18:14 | Ending getMask(filePath)\n",
      "2017-11-08 14:18:14 | Running filterDataSet(dataSet, maskIndex)\n",
      "2017-11-08 14:18:14 | dataSetFiltered.shape: (483850, 37)\n",
      "2017-11-08 14:18:14 | Ending filterDataSet(dataSet, maskIndex)\n",
      "2017-11-08 14:18:14 | Running filterDataSet(dataSet, maskIndex)\n",
      "2017-11-08 14:18:15 | dataSetFiltered.shape: (483850, 37)\n",
      "2017-11-08 14:18:15 | Ending filterDataSet(dataSet, maskIndex)\n",
      "2017-11-08 14:18:38 | U.shape: (483850, 37)\n",
      "2017-11-08 14:18:38 | s.shape: (37,)\n",
      "2017-11-08 14:18:38 | V.shape: (483850, 37)\n",
      "2017-11-08 14:18:38 | Singular values of product: \n",
      "2017-11-08 14:18:38 | [  1.78024103e+11   1.19077847e+08   9.34287276e+07   7.27215918e+07\n",
      "   6.58417565e+07   5.94047104e+07   5.16312821e+07   4.95139040e+07\n",
      "   4.71089519e+07   3.89686436e+07   3.79644977e+07   3.08646114e+07\n",
      "   2.97028828e+07   2.88464595e+07   2.68688851e+07   2.56345630e+07\n",
      "   2.18663840e+07   2.12784687e+07   1.96669482e+07   1.93201816e+07\n",
      "   1.75969322e+07   1.70760637e+07   1.64591952e+07   1.57079484e+07\n",
      "   1.54036462e+07   1.45834823e+07   1.39507878e+07   1.35112872e+07\n",
      "   1.31028448e+07   1.26627167e+07   1.23045382e+07   1.16363989e+07\n",
      "   1.07807149e+07   1.00234928e+07   9.84475991e+06   9.40835531e+06\n",
      "   9.02228972e+06]\n",
      "2017-11-08 14:18:38 | Running validateNorms(dataSet1, dataSet2, U, s, V)\n",
      "2017-11-08 14:18:40 | Validating norms: [------------------->] 100%\n",
      "2017-11-08 14:18:40 | Largest norm difference: 9.099062941946471e-10\n",
      "2017-11-08 14:18:40 | Ending validateNorms(dataSet1, dataSet2, U, s, V)\n",
      "2017-11-08 14:18:40 | Running plotSingularValues(resultDirectory, s)\n",
      "2017-11-08 14:18:43 | Ending plotSingularValues(resultDirectory, s)\n",
      "2017-11-08 14:18:43 | Running writeModes(resultDirectory, U, s, V)\n",
      "2017-11-08 14:21:02 | Writing modes: [------------------->] 100%\n",
      "2017-11-08 14:21:06 | Ending writeModes(resultDirectory, U, s, V)\n",
      "2017-11-08 14:21:06 | Running plotModes(resultDirectory, U, s, V, maskData)\n",
      "2017-11-08 14:24:36 | Plotting modes: [------------------->] 100%\n",
      "2017-11-08 14:24:41 | Ending plotModes(resultDirectory, U, s, V, maskData)\n",
      "2017-11-08 14:24:41 | Running writeCSV(resultDirectory, U, s, V)\n",
      "2017-11-08 14:25:11 | Writing CSV: [------------------->] 100%\n",
      "2017-11-08 14:25:36 | Ending writeCSV(resultDirectory, U, s, V)\n",
      "2017-11-08 14:25:36 | Ending runAnalysis(dataDirectory1, dataDirectory2, maskFile, resultDirectory)\n",
      "2017-11-08 14:25:36 | -------------------------------\n",
      "2017-11-08 14:25:36 | Ending analysis 1\n",
      "2017-11-08 14:25:36 | -------------------------------\n"
     ]
    }
   ],
   "source": [
    "dprint(\"-------------------------------\")\n",
    "dprint(\"Running analysis 1\")\n",
    "dprint(\"-------------------------------\")\n",
    "\n",
    "dataDirectory1 = \"hdfs:///user/hadoop/spring-index/BloomGridmet/\"\n",
    "dataDirectory2 = \"hdfs:///user/hadoop/spring-index/LeafGridmet/\"\n",
    "maskFile = \"hdfs:///user/hadoop/usa_mask_gridmet.tif\"\n",
    "resultDirectory = \"hdfs:///user/pheno/svd/BloomGridmetLeafGridmet/\"\n",
    "\n",
    "#Create Result dir\n",
    "subprocess.run(['hadoop', 'dfs', '-mkdir', resultDirectory])\n",
    "\n",
    "runAnalysis(dataDirectory1, dataDirectory2, maskFile, resultDirectory)\n",
    "\n",
    "dprint(\"-------------------------------\")\n",
    "dprint(\"Ending analysis 1\")\n",
    "dprint(\"-------------------------------\")"
   ]
  },
  {
   "cell_type": "markdown",
   "metadata": {},
   "source": [
    "### Analysis 2\n",
    "This analysis focusses on Bloom and SOS data from the USA from 1980 to 2016 at a 4K spatial resolution."
   ]
  },
  {
   "cell_type": "code",
   "execution_count": 181,
   "metadata": {},
   "outputs": [
    {
     "name": "stdout",
     "output_type": "stream",
     "text": [
      "2017-11-08 13:56:12 | -------------------------------\n",
      "2017-11-08 13:56:12 | Running analysis 2\n",
      "2017-11-08 13:56:12 | -------------------------------\n",
      "2017-11-08 13:56:16 | Running runAnalysis(dataDirectory1, dataDirectory2, maskFile, resultDirectory)\n",
      "2017-11-08 13:56:17 | Running getDataSet(directoryPath)\n",
      "2017-11-08 13:56:24 | Number of files: 37\n",
      "2017-11-08 13:57:16 | Reading files: [------------------->] 100%\n",
      "2017-11-08 13:57:24 | dataSet.shape: (1414560, 37)\n",
      "2017-11-08 13:57:24 | Ending getDataSet(directoryPath)\n",
      "2017-11-08 13:57:24 | Running getDataSet(directoryPath)\n",
      "2017-11-08 13:57:25 | Number of files: 26\n",
      "2017-11-08 13:57:44 | Reading files: [------------------->] 100%\n",
      "2017-11-08 13:57:47 | dataSet.shape: (1414560, 26)\n",
      "2017-11-08 13:57:47 | Ending getDataSet(directoryPath)\n",
      "2017-11-08 13:57:47 | Running getMask(filePath)\n",
      "2017-11-08 13:57:48 | mask_data.shape: (840, 1684)\n",
      "2017-11-08 13:57:48 | Ending getMask(filePath)\n",
      "2017-11-08 13:57:48 | Running filterDataSet(dataSet, maskIndex)\n",
      "2017-11-08 13:57:51 | dataSetFiltered.shape: (483850, 26)\n",
      "2017-11-08 13:57:51 | Ending filterDataSet(dataSet, maskIndex)\n",
      "2017-11-08 13:57:51 | Running filterDataSet(dataSet, maskIndex)\n",
      "2017-11-08 13:57:51 | dataSetFiltered.shape: (483850, 26)\n",
      "2017-11-08 13:57:51 | Ending filterDataSet(dataSet, maskIndex)\n",
      "2017-11-08 13:58:04 | U.shape: (483850, 26)\n",
      "2017-11-08 13:58:04 | s.shape: (26,)\n",
      "2017-11-08 13:58:04 | V.shape: (483850, 26)\n",
      "2017-11-08 13:58:04 | Singular values of product: \n",
      "2017-11-08 13:58:05 | [  3.77677353e+11   2.55100268e+09   2.03830593e+09   1.57138072e+09\n",
      "   1.37478931e+09   1.21300375e+09   1.14244436e+09   1.04981351e+09\n",
      "   8.83832378e+08   8.48979712e+08   7.42430931e+08   6.63823113e+08\n",
      "   6.17877047e+08   5.71830555e+08   5.29184078e+08   4.98344171e+08\n",
      "   4.71259182e+08   4.36846306e+08   4.27616912e+08   4.04976656e+08\n",
      "   3.79271265e+08   3.69479771e+08   3.54672911e+08   3.11161258e+08\n",
      "   2.76227878e+08   2.28933166e+08]\n",
      "2017-11-08 13:58:05 | Running validateNorms(dataSet1, dataSet2, U, s, V)\n",
      "2017-11-08 13:58:15 | Validating norms: [------------------->] 100%\n",
      "2017-11-08 13:58:16 | Largest norm difference: 8.02872263103353e-11\n",
      "2017-11-08 13:58:16 | Ending validateNorms(dataSet1, dataSet2, U, s, V)\n",
      "2017-11-08 13:58:16 | Running plotSingularValues(resultDirectory, s)\n",
      "2017-11-08 13:58:28 | Ending plotSingularValues(resultDirectory, s)\n",
      "2017-11-08 13:58:28 | Running writeModes(resultDirectory, U, s, V)\n",
      "2017-11-08 14:02:03 | Writing modes: [------------------->] 100%\n",
      "2017-11-08 14:02:10 | Ending writeModes(resultDirectory, U, s, V)\n",
      "2017-11-08 14:02:10 | Running plotModes(resultDirectory, U, s, V, maskData)\n",
      "2017-11-08 14:05:35 | Plotting modes: [------------------->] 100%\n",
      "2017-11-08 14:05:40 | Ending plotModes(resultDirectory, U, s, V, maskData)\n",
      "2017-11-08 14:05:40 | Running writeCSV(resultDirectory, U, s, V)\n",
      "2017-11-08 14:06:04 | Writing CSV: [------------------->] 100%\n",
      "2017-11-08 14:06:23 | Ending writeCSV(resultDirectory, U, s, V)\n",
      "2017-11-08 14:06:23 | Ending runAnalysis(dataDirectory1, dataDirectory2, maskFile, resultDirectory)\n",
      "2017-11-08 14:06:23 | -------------------------------\n",
      "2017-11-08 14:06:23 | Ending analysis 2\n",
      "2017-11-08 14:06:23 | -------------------------------\n"
     ]
    }
   ],
   "source": [
    "dprint(\"-------------------------------\")\n",
    "dprint(\"Running analysis 2\")\n",
    "dprint(\"-------------------------------\")\n",
    "\n",
    "dataDirectory1 = \"hdfs:///user/hadoop/spring-index/BloomGridmet/\"\n",
    "dataDirectory2 = \"hdfs:///user/hadoop/avhrr/SOST4Km/\"\n",
    "maskFile = \"hdfs:///user/hadoop/usa_mask_gridmet.tif\"\n",
    "resultDirectory = \"hdfs:///user/pheno/svd/BloomGridmetSOST4Km/\"\n",
    "\n",
    "#Create Result dir\n",
    "subprocess.run(['hadoop', 'dfs', '-mkdir', resultDirectory])\n",
    "\n",
    "runAnalysis(dataDirectory1, dataDirectory2, maskFile, resultDirectory)\n",
    "\n",
    "dprint(\"-------------------------------\")\n",
    "dprint(\"Ending analysis 2\")\n",
    "dprint(\"-------------------------------\")"
   ]
  },
  {
   "cell_type": "markdown",
   "metadata": {},
   "source": [
    "### Analysis 3\n",
    "This analysis focusses on Leaf and SOS data from the USA from 1980 to 2016 at a 4K spatial resolution."
   ]
  },
  {
   "cell_type": "code",
   "execution_count": 182,
   "metadata": {},
   "outputs": [
    {
     "name": "stdout",
     "output_type": "stream",
     "text": [
      "2017-11-08 14:09:50 | -------------------------------\n",
      "2017-11-08 14:09:50 | Running analysis 3\n",
      "2017-11-08 14:09:50 | -------------------------------\n",
      "2017-11-08 14:09:53 | Running runAnalysis(dataDirectory1, dataDirectory2, maskFile, resultDirectory)\n",
      "2017-11-08 14:09:53 | Running getDataSet(directoryPath)\n",
      "2017-11-08 14:10:00 | Number of files: 37\n",
      "2017-11-08 14:10:34 | Reading files: [------------------->] 100%\n",
      "2017-11-08 14:10:36 | dataSet.shape: (1414560, 37)\n",
      "2017-11-08 14:10:36 | Ending getDataSet(directoryPath)\n",
      "2017-11-08 14:10:36 | Running getDataSet(directoryPath)\n",
      "2017-11-08 14:10:37 | Number of files: 26\n",
      "2017-11-08 14:10:48 | Reading files: [------------------->] 100%\n",
      "2017-11-08 14:10:48 | dataSet.shape: (1414560, 26)\n",
      "2017-11-08 14:10:48 | Ending getDataSet(directoryPath)\n",
      "2017-11-08 14:10:48 | Running getMask(filePath)\n",
      "2017-11-08 14:10:49 | mask_data.shape: (840, 1684)\n",
      "2017-11-08 14:10:49 | Ending getMask(filePath)\n",
      "2017-11-08 14:10:49 | Running filterDataSet(dataSet, maskIndex)\n",
      "2017-11-08 14:10:49 | dataSetFiltered.shape: (483850, 26)\n",
      "2017-11-08 14:10:49 | Ending filterDataSet(dataSet, maskIndex)\n",
      "2017-11-08 14:10:49 | Running filterDataSet(dataSet, maskIndex)\n",
      "2017-11-08 14:10:49 | dataSetFiltered.shape: (483850, 26)\n",
      "2017-11-08 14:10:49 | Ending filterDataSet(dataSet, maskIndex)\n",
      "2017-11-08 14:11:00 | U.shape: (483850, 26)\n",
      "2017-11-08 14:11:00 | s.shape: (26,)\n",
      "2017-11-08 14:11:00 | V.shape: (483850, 26)\n",
      "2017-11-08 14:11:00 | Singular values of product: \n",
      "2017-11-08 14:11:00 | [  3.01595901e+11   2.76251108e+09   2.36303605e+09   1.93794789e+09\n",
      "   1.85938131e+09   1.66776777e+09   1.38290314e+09   1.32019078e+09\n",
      "   1.17389425e+09   1.11596863e+09   1.05944226e+09   1.01409625e+09\n",
      "   8.77440420e+08   8.58957917e+08   8.21529536e+08   7.73500777e+08\n",
      "   7.50538244e+08   6.95891405e+08   6.76491715e+08   6.58843744e+08\n",
      "   6.50165174e+08   5.90250694e+08   5.50600195e+08   5.38831599e+08\n",
      "   4.61760360e+08   2.94868864e+08]\n",
      "2017-11-08 14:11:00 | Running validateNorms(dataSet1, dataSet2, U, s, V)\n",
      "2017-11-08 14:11:16 | Validating norms: [------------------->] 100%\n",
      "2017-11-08 14:11:16 | Largest norm difference: 3.9725429104310796e-11\n",
      "2017-11-08 14:11:16 | Ending validateNorms(dataSet1, dataSet2, U, s, V)\n",
      "2017-11-08 14:11:16 | Running plotSingularValues(resultDirectory, s)\n",
      "2017-11-08 14:11:20 | Ending plotSingularValues(resultDirectory, s)\n",
      "2017-11-08 14:11:20 | Running writeModes(resultDirectory, U, s, V)\n",
      "2017-11-08 14:13:07 | Writing modes: [------------------->] 100%\n",
      "2017-11-08 14:13:11 | Ending writeModes(resultDirectory, U, s, V)\n",
      "2017-11-08 14:13:11 | Running plotModes(resultDirectory, U, s, V, maskData)\n",
      "2017-11-08 14:16:00 | Plotting modes: [------------------->] 100%\n",
      "2017-11-08 14:16:07 | Ending plotModes(resultDirectory, U, s, V, maskData)\n",
      "2017-11-08 14:16:07 | Running writeCSV(resultDirectory, U, s, V)\n",
      "2017-11-08 14:16:35 | Writing CSV: [------------------->] 100%\n",
      "2017-11-08 14:16:54 | Ending writeCSV(resultDirectory, U, s, V)\n",
      "2017-11-08 14:16:54 | Ending runAnalysis(dataDirectory1, dataDirectory2, maskFile, resultDirectory)\n",
      "2017-11-08 14:16:54 | -------------------------------\n",
      "2017-11-08 14:16:54 | Ending analysis 3\n",
      "2017-11-08 14:16:54 | -------------------------------\n"
     ]
    }
   ],
   "source": [
    "dprint(\"-------------------------------\")\n",
    "dprint(\"Running analysis 3\")\n",
    "dprint(\"-------------------------------\")\n",
    "\n",
    "dataDirectory1 = \"hdfs:///user/hadoop/spring-index/LeafGridmet/\"\n",
    "dataDirectory2 = \"hdfs:///user/hadoop/avhrr/SOST4Km/\"\n",
    "maskFile = \"hdfs:///user/hadoop/usa_mask_gridmet.tif\"\n",
    "resultDirectory = \"hdfs:///user/pheno/svd/LeafGridmetSOST4Km/\"\n",
    "\n",
    "#Create Result dir\n",
    "subprocess.run(['hadoop', 'dfs', '-mkdir', resultDirectory])\n",
    "\n",
    "runAnalysis(dataDirectory1, dataDirectory2, maskFile, resultDirectory)\n",
    "\n",
    "dprint(\"-------------------------------\")\n",
    "dprint(\"Ending analysis 3\")\n",
    "dprint(\"-------------------------------\")"
   ]
  },
  {
   "cell_type": "markdown",
   "metadata": {},
   "source": [
    "End of Notebook"
   ]
  }
 ],
 "metadata": {
  "kernelspec": {
   "display_name": "Python 3",
   "language": "python",
   "name": "python3"
  },
  "language_info": {
   "codemirror_mode": {
    "name": "ipython",
    "version": 3
   },
   "file_extension": ".py",
   "mimetype": "text/x-python",
   "name": "python",
   "nbconvert_exporter": "python",
   "pygments_lexer": "ipython3",
   "version": "3.5.2"
  }
 },
 "nbformat": 4,
 "nbformat_minor": 2
}
