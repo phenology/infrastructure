{
 "cells": [
  {
   "cell_type": "markdown",
   "metadata": {
    "slideshow": {
     "slide_type": "slide"
    }
   },
   "source": [
    "# Product SVD in Python\n",
    "\n",
    "\n",
    "In this NoteBook, the reader will find code to load GeoTiff files, single- or multi-band, from HDFS. It reads the GeoTiffs as a **ByteArray**s and then stores the GeoTiffs in memory using **MemFile** from the **RasterIO** Python package. Subsequently, a statistical analysis is performed on each pair of datasets. In particular, the Python module _productsvd_ is used to determine the SVD of the product of the two phenology datasets."
   ]
  },
  {
   "cell_type": "markdown",
   "metadata": {
    "slideshow": {
     "slide_type": "subslide"
    }
   },
   "source": [
    "## Initialization\n",
    "This section initializes the notebook."
   ]
  },
  {
   "cell_type": "markdown",
   "metadata": {
    "slideshow": {
     "slide_type": "subslide"
    }
   },
   "source": [
    "### Dependencies\n",
    "Here, all necessary libraries are imported."
   ]
  },
  {
   "cell_type": "code",
   "execution_count": 1,
   "metadata": {
    "slideshow": {
     "slide_type": "subslide"
    }
   },
   "outputs": [],
   "source": [
    "#Add all dependencies to PYTHON_PATH\n",
    "import sys\n",
    "sys.path.append(\"/usr/lib/spark/python\")\n",
    "sys.path.append(\"/usr/lib/spark/python/lib/py4j-0.10.4-src.zip\")\n",
    "sys.path.append(\"/usr/lib/python3/dist-packages\")\n",
    "sys.path.append(\"/data/local/jupyterhub/modules/python\")\n",
    "\n",
    "#Define environment variables\n",
    "import os\n",
    "os.environ[\"HADOOP_CONF_DIR\"] = \"/etc/hadoop/conf\"\n",
    "os.environ[\"PYSPARK_PYTHON\"] = \"python3\"\n",
    "os.environ[\"PYSPARK_DRIVER_PYTHON\"] = \"ipython\"\n",
    "\n",
    "import subprocess\n",
    "\n",
    "#Load PySpark to connect to a Spark cluster\n",
    "from pyspark import SparkConf, SparkContext\n",
    "from hdfs import InsecureClient\n",
    "from tempfile import TemporaryFile\n",
    "\n",
    "#from osgeo import gdal\n",
    "#To read GeoTiffs as a ByteArray\n",
    "from io import BytesIO\n",
    "from rasterio.io import MemoryFile\n",
    "\n",
    "import numpy as np\n",
    "import pandas\n",
    "import datetime\n",
    "import matplotlib.pyplot as plt\n",
    "import rasterio\n",
    "from rasterio import plot\n",
    "from os import listdir\n",
    "from os.path import isfile, join\n",
    "from numpy import exp, log\n",
    "from numpy.random import standard_normal\n",
    "from scipy.linalg import norm, qr, svd\n",
    "from productsvd import qrproductsvd\n",
    "from sklearn.utils.extmath import randomized_svd"
   ]
  },
  {
   "cell_type": "markdown",
   "metadata": {},
   "source": [
    "### Configuration\n",
    "This configuration determines whether functions print logs during the execution."
   ]
  },
  {
   "cell_type": "code",
   "execution_count": 2,
   "metadata": {},
   "outputs": [],
   "source": [
    "debugMode = True"
   ]
  },
  {
   "cell_type": "markdown",
   "metadata": {},
   "source": [
    "### Connect to Spark\n",
    "Here, the Spark context is loaded, which allows for a connection to HDFS."
   ]
  },
  {
   "cell_type": "code",
   "execution_count": 3,
   "metadata": {},
   "outputs": [
    {
     "name": "stdout",
     "output_type": "stream",
     "text": [
      "A new Spark Context will be created.\n"
     ]
    }
   ],
   "source": [
    "appName = \"plot_GeoTiff\"\n",
    "masterURL = \"spark://emma0.emma.nlesc.nl:7077\"\n",
    "\n",
    "#A context needs to be created if it does not already exist\n",
    "try:\n",
    "    sc.stop()\n",
    "except NameError:\n",
    "    print(\"A new Spark Context will be created.\")\n",
    "\n",
    "sc = SparkContext(conf = SparkConf().setAppName(appName).setMaster(masterURL))\n",
    "conf = sc.getConf()"
   ]
  },
  {
   "cell_type": "markdown",
   "metadata": {},
   "source": [
    "## Functions\n",
    "This section defines various functions used in the analysis."
   ]
  },
  {
   "cell_type": "markdown",
   "metadata": {
    "slideshow": {
     "slide_type": "subslide"
    }
   },
   "source": [
    "### Support functions\n",
    "These functions support other functions."
   ]
  },
  {
   "cell_type": "code",
   "execution_count": 4,
   "metadata": {},
   "outputs": [],
   "source": [
    "def dprint(msg):\n",
    "    if (debugMode):\n",
    "        print(str(datetime.datetime.now().strftime(\"%Y-%m-%d %H:%M:%S\")) + \" | \" + msg)"
   ]
  },
  {
   "cell_type": "code",
   "execution_count": 5,
   "metadata": {},
   "outputs": [],
   "source": [
    "def progressBar(message, value, endvalue, bar_length = 20):\n",
    "    if (debugMode):\n",
    "        percent = float(value) / endvalue\n",
    "        arrow = '-' * int(round(percent * bar_length)-1) + '>'\n",
    "        spaces = ' ' * (bar_length - len(arrow))\n",
    "        sys.stdout.write(\"\\r\" \n",
    "                         + str(datetime.datetime.now().strftime(\"%Y-%m-%d %H:%M:%S\")) \n",
    "                         + \" | \" \n",
    "                         + message \n",
    "                         + \": [{0}] {1}%\".format(arrow + spaces, int(round(percent * 100)))\n",
    "                        )\n",
    "        if value == endvalue:\n",
    "            sys.stdout.write(\"\\n\")\n",
    "        sys.stdout.flush()"
   ]
  },
  {
   "cell_type": "code",
   "execution_count": 6,
   "metadata": {},
   "outputs": [],
   "source": [
    "def get_hdfs_client():\n",
    "    return InsecureClient(\"emma0.emma.nlesc.nl:50070\", user=\"pheno\",\n",
    "         root=\"/\")"
   ]
  },
  {
   "cell_type": "markdown",
   "metadata": {
    "slideshow": {
     "slide_type": "subslide"
    }
   },
   "source": [
    "### Read functions\n",
    "These functions allow for the reading of data."
   ]
  },
  {
   "cell_type": "code",
   "execution_count": 7,
   "metadata": {},
   "outputs": [],
   "source": [
    "def getDataSet(directoryPath):\n",
    "    dprint(\"Running getDataSet(directoryPath)\")\n",
    "    \n",
    "    files = sc.binaryFiles(directoryPath + \"/*.tif\")\n",
    "    fileList = files.keys().collect()\n",
    "    dprint(\"Number of files: \" + str(len(fileList)))\n",
    "    dataSet = []\n",
    "    plotShapes = []\n",
    "    flattenedShapes = []\n",
    "    for i, f in enumerate(fileList):\n",
    "        progressBar(\"Reading files\", i + 1, len(fileList))\n",
    "        data = files.lookup(f)\n",
    "        dataByteArray = bytearray(data[0])\n",
    "        memfile = MemoryFile(dataByteArray)\n",
    "        dataset = memfile.open()\n",
    "        relevantBand = np.array(dataset.read()[0])\n",
    "        memfile.close()\n",
    "        plotShapes.append(relevantBand.shape)\n",
    "        flattenedDataSet = relevantBand.flatten()\n",
    "        flattenedShapes.append(flattenedDataSet.shape)\n",
    "        dataSet.append(flattenedDataSet)\n",
    "    dataSet = np.array(dataSet).T\n",
    "    dprint(\"dataSet.shape: \" + str(dataSet.shape))\n",
    "    \n",
    "    dprint(\"Ending getDataSet(directoryPath)\")\n",
    "    return dataSet"
   ]
  },
  {
   "cell_type": "code",
   "execution_count": 8,
   "metadata": {},
   "outputs": [],
   "source": [
    "def getMask(filePath):\n",
    "    dprint(\"Running getMask(filePath)\")\n",
    "    \n",
    "    mask_data = sc.binaryFiles(filePath).take(1)\n",
    "    mask_byteArray = bytearray(mask_data[0][1])\n",
    "    mask_memfile = MemoryFile(mask_byteArray)\n",
    "    mask_dataset = mask_memfile.open()\n",
    "    maskTransform = mask_dataset.transform\n",
    "    mask_data = np.array(mask_dataset.read()[0])\n",
    "    mask_memfile.close()\n",
    "    dprint(\"mask_data.shape: \" + str(mask_data.shape))\n",
    "    \n",
    "    dprint(\"Ending getMask(filePath)\")\n",
    "    return mask_data, maskTransform"
   ]
  },
  {
   "cell_type": "markdown",
   "metadata": {
    "slideshow": {
     "slide_type": "subslide"
    }
   },
   "source": [
    "### Utility functions\n",
    "These functions analyse and manipulate data."
   ]
  },
  {
   "cell_type": "code",
   "execution_count": 9,
   "metadata": {},
   "outputs": [],
   "source": [
    "def filterDataSet(dataSet, maskData):\n",
    "    dprint(\"Running filterDataSet(dataSet, maskIndex)\")\n",
    "    \n",
    "    maskIndex = np.nonzero(maskData.flatten())[0]\n",
    "    dataSetFiltered = dataSet[maskIndex]\n",
    "    dprint(\"dataSetFiltered.shape: \" + str(dataSetFiltered.shape))\n",
    "    \n",
    "    dprint(\"Ending filterDataSet(dataSet, maskIndex)\")\n",
    "    return dataSetFiltered"
   ]
  },
  {
   "cell_type": "code",
   "execution_count": 10,
   "metadata": {},
   "outputs": [],
   "source": [
    "def validateNorms(dataSet1, dataSet2, U, s, V):\n",
    "    dprint(\"Running validateNorms(dataSet1, dataSet2, U, s, V)\")\n",
    "    \n",
    "    length = len(s)\n",
    "    norms = []\n",
    "    for i in range(length):\n",
    "        progressBar(\"Validating norms\", i + 1, length)\n",
    "        u = dataSet1 @ (dataSet2.T @ V.T[i]) / s[i]\n",
    "        v = dataSet2 @ (dataSet1.T @ U.T[i]) / s[i]\n",
    "        norms.append(norm(U.T[i] - u))\n",
    "        norms.append(norm(V.T[i] - v))\n",
    "    dprint(\"Largest norm difference: \" + str(max(norms)))\n",
    "    \n",
    "    dprint(\"Ending validateNorms(dataSet1, dataSet2, U, s, V)\")"
   ]
  },
  {
   "cell_type": "markdown",
   "metadata": {
    "slideshow": {
     "slide_type": "subslide"
    }
   },
   "source": [
    "### Write functions\n",
    "These functions write data and plots."
   ]
  },
  {
   "cell_type": "code",
   "execution_count": 11,
   "metadata": {},
   "outputs": [],
   "source": [
    "def writeCSVs(resultDirectory, U, s, V):\n",
    "    dprint(\"Running writeCSV(resultDirectory, U, s, V)\")\n",
    "    \n",
    "    for i, vectorData in enumerate([U, s, V]):\n",
    "        progressBar(\"Writing CSV\", i + 1, 3)\n",
    "        fileName = [\"U\", \"s\", \"V\"][i] + \".csv\"\n",
    "        inFile = \"/tmp/\" + fileName\n",
    "        outFile = resultDirectory + fileName\n",
    "        decompositionFile = open(inFile, \"w\")\n",
    "        vectorData.T.tofile(decompositionFile, sep = \",\")\n",
    "        decompositionFile.close()\n",
    "        #Upload to HDFS\n",
    "        subprocess.run(['hadoop', 'dfs', '-copyFromLocal', '-f', inFile, outFile])\n",
    "        #Remove from /tmp/\n",
    "        subprocess.run(['rm', '-fr', inFile])\n",
    "    \n",
    "    dprint(\"Ending writeCSV(resultDirectory, U, s, V)\")"
   ]
  },
  {
   "cell_type": "code",
   "execution_count": 12,
   "metadata": {},
   "outputs": [],
   "source": [
    "def plotSingularValues(resultDirectory, s):\n",
    "    dprint(\"Running plotSingularValues(resultDirectory, s)\")\n",
    "    \n",
    "    fileName = \"s.pdf\"\n",
    "    inFile = \"/tmp/\" + fileName\n",
    "    outFile = resultDirectory + fileName\n",
    "    x = range(len(s))\n",
    "    total = s.T @ s\n",
    "    cumulativeValue = 0\n",
    "    valueList = []\n",
    "    cumulativeList = []\n",
    "    for i in x:\n",
    "        value = np.square(s[i]) / total\n",
    "        valueList.append(value)\n",
    "        cumulativeValue = cumulativeValue + value\n",
    "        cumulativeList.append(cumulativeValue)\n",
    "    fig, ax1 = plt.subplots()\n",
    "    ax2 = ax1.twinx()\n",
    "    ax1.plot(x, valueList, \"g^\")\n",
    "    ax2.plot(x, cumulativeList, \"ro\")\n",
    "    ax1.set_xlabel(\"Singular values\")\n",
    "    ax1.set_ylabel(\"Variance explained\", color = \"g\")\n",
    "    ax2.set_ylabel(\"Cumulative variance explained\", color = \"r\")\n",
    "    plt.savefig(inFile)\n",
    "    plt.clf()\n",
    "    #Upload to HDFS\n",
    "    subprocess.run(['hadoop', 'dfs', '-copyFromLocal', '-f', inFile, outFile])  \n",
    "    #Remove from /tmp/\n",
    "    subprocess.run(['rm', '-fr', inFile])\n",
    "    \n",
    "    dprint(\"Ending plotSingularValues(resultDirectory, s)\")"
   ]
  },
  {
   "cell_type": "code",
   "execution_count": 13,
   "metadata": {},
   "outputs": [],
   "source": [
    "def writeModes(resultDirectory, U, s, V):\n",
    "    dprint(\"Running writeModes(resultDirectory, U, s, V)\")\n",
    "    \n",
    "    for i in range(len(s)):\n",
    "        progressBar(\"Writing modes\", i + 1, len(s))\n",
    "        fileName = \"Mode\" + str(i + 1).zfill(2) + \".txt\"\n",
    "        inFile = \"/tmp/\" + fileName\n",
    "        outFile = resultDirectory + fileName\n",
    "        decompositionFile = open(inFile, \"w\")\n",
    "        U.T[i].tofile(decompositionFile, sep = \",\")\n",
    "        decompositionFile.close()\n",
    "        decompositionFile = open(inFile, \"a\")\n",
    "        decompositionFile.write(\"\\n\")\n",
    "        s[i].tofile(decompositionFile, sep = \",\")\n",
    "        decompositionFile.write(\"\\n\")\n",
    "        V.T[i].tofile(decompositionFile, sep = \",\")\n",
    "        decompositionFile.close()\n",
    "        #Upload to HDFS\n",
    "        subprocess.run(['hadoop', 'dfs', '-copyFromLocal', '-f', inFile, outFile])  \n",
    "        #Remove from /tmp/\n",
    "        subprocess.run(['rm', '-fr', inFile])\n",
    "    \n",
    "    dprint(\"Ending writeModes(resultDirectory, U, s, V)\")"
   ]
  },
  {
   "cell_type": "code",
   "execution_count": 14,
   "metadata": {},
   "outputs": [],
   "source": [
    "def plotModes(resultDirectory, U, s, V, maskData, maskTransform):\n",
    "    dprint(\"Running plotModes(resultDirectory, U, s, V, maskData, maskTransform)\")\n",
    "    \n",
    "    plotTemplate = np.zeros(maskData.shape[0] * maskData.shape[1])\n",
    "    maskIndex = np.nonzero(maskData.flatten())[0]\n",
    "    for i in range(len(s)):\n",
    "        progressBar(\"Plotting modes\", i + 1, len(s))\n",
    "        for vectorData, vectorName in zip([U, V], [\"U\", \"V\"]):\n",
    "            fileName = \"Mode\" + vectorName + str(i + 1).zfill(2) + \".pdf\"\n",
    "            inFile = \"/tmp/\" + fileName\n",
    "            outFile = resultDirectory + fileName\n",
    "            data = np.copy(plotTemplate)\n",
    "            np.put(data, maskIndex, vectorData.T[i])\n",
    "            data = np.reshape(data, maskData.shape)\n",
    "            plt.figure(1)\n",
    "            cmap = plt.cm.get_cmap('YlGn')\n",
    "            img = plt.imshow(data, cmap = 'YlGn')\n",
    "            plt.colorbar(orientation = 'horizontal')\n",
    "            plt.clim(float(np.min(data)), float(np.max(data)))\n",
    "            plt.axis('off')\n",
    "            plt.savefig(inFile)\n",
    "            plt.clf()\n",
    "            #Upload to HDFS\n",
    "            subprocess.run(['hadoop', 'dfs', '-copyFromLocal', '-f', inFile, outFile])  \n",
    "            #Remove from /tmp/\n",
    "            subprocess.run(['rm', '-fr', inFile])\n",
    "            \n",
    "            fileName = \"Mode\" + vectorName + str(i + 1).zfill(2) + \".tif\"\n",
    "            inFile = \"/tmp/\" + fileName\n",
    "            outFile = resultDirectory + fileName\n",
    "            rasterioPlot = rasterio.open(inFile, \"w\", driver = \"GTiff\", width = data.shape[1], height = data.shape[0], count = 1, dtype = data.dtype, crs = \"EPSG:4326\", transform = maskTransform)\n",
    "            rasterioPlot.write(data, 1)\n",
    "            rasterioPlot.close()\n",
    "            #Upload to HDFS\n",
    "            subprocess.run(['hadoop', 'dfs', '-copyFromLocal', '-f', inFile, outFile])  \n",
    "            #Remove from /tmp/\n",
    "            subprocess.run(['rm', '-fr', inFile])\n",
    "    \n",
    "    dprint(\"Ending plotModes(resultDirectory, U, s, V, maskData, maskTransform)\")"
   ]
  },
  {
   "cell_type": "markdown",
   "metadata": {
    "slideshow": {
     "slide_type": "subslide"
    }
   },
   "source": [
    "### Analysis function\n",
    "This function combines all the necessary steps for the analysis."
   ]
  },
  {
   "cell_type": "code",
   "execution_count": 15,
   "metadata": {},
   "outputs": [],
   "source": [
    "def runAnalysis(dataDirectory1, dataDirectory2, maskFile, resultDirectory):\n",
    "    dprint(\"Running runAnalysis(dataDirectory1, dataDirectory2, maskFile, resultDirectory)\")\n",
    "\n",
    "    dataSet1 = getDataSet(dataDirectory1)\n",
    "    dataSet2 = getDataSet(dataDirectory2)\n",
    "    \n",
    "    if dataSet2.shape[1] == 26: # Hack to align time-dimension of SOS with Bloom and Leaf\n",
    "        dataSet1 = dataSet1[:, 8:34]\n",
    "    \n",
    "    maskData, maskTransform = getMask(maskFile)\n",
    "    \n",
    "    dataSetFiltered1 = filterDataSet(dataSet1, maskData)\n",
    "    dataSetFiltered2 = filterDataSet(dataSet2, maskData)\n",
    "    \n",
    "    U, s, Vt = qrproductsvd(dataSetFiltered1, dataSetFiltered2)\n",
    "    V = Vt.T\n",
    "    dprint(\"U.shape: \" + str(U.shape))\n",
    "    dprint(\"s.shape: \" + str(s.shape))\n",
    "    dprint(\"V.shape: \" + str(V.shape))\n",
    "    dprint(\"Singular values of product: \")\n",
    "    dprint(str(s))\n",
    "    \n",
    "    validateNorms(dataSetFiltered1, dataSetFiltered2, U, s, V)\n",
    "    \n",
    "    plotSingularValues(resultDirectory, s)\n",
    "    writeModes(resultDirectory, U, s, V)\n",
    "    plotModes(resultDirectory, U, s, V, maskData, maskTransform)\n",
    "    writeCSVs(resultDirectory, U, s, V)\n",
    "    \n",
    "    dprint(\"Ending runAnalysis(dataDirectory1, dataDirectory2, maskFile, resultDirectory)\")"
   ]
  },
  {
   "cell_type": "markdown",
   "metadata": {},
   "source": [
    "## Analyses\n",
    "In this section, the various analyses are initiated. Each analysis uses a different pair of datasets."
   ]
  },
  {
   "cell_type": "markdown",
   "metadata": {},
   "source": [
    "### Analysis 1\n",
    "This analysis focusses on Bloom and Leaf data from the USA from 1980 to 2016 at a 4K spatial resolution."
   ]
  },
  {
   "cell_type": "code",
   "execution_count": 16,
   "metadata": {},
   "outputs": [
    {
     "name": "stdout",
     "output_type": "stream",
     "text": [
      "| 0.04, 0.00,-126.33|\n",
      "| 0.00,-0.04, 49.29|\n",
      "| 0.00, 0.00, 1.00|\n"
     ]
    }
   ],
   "source": [
    "maskFile = \"hdfs:///user/hadoop/usa_mask_gridmet.tif\"\n",
    "mask_data = sc.binaryFiles(maskFile).take(1)\n",
    "mask_byteArray = bytearray(mask_data[0][1])\n",
    "mask_memfile = MemoryFile(mask_byteArray)\n",
    "mask_dataset = mask_memfile.open()\n",
    "maskTransform = mask_dataset.transform\n",
    "print(maskTransform)"
   ]
  },
  {
   "cell_type": "code",
   "execution_count": 17,
   "metadata": {},
   "outputs": [
    {
     "name": "stdout",
     "output_type": "stream",
     "text": [
      "2017-11-20 15:26:22 | -------------------------------\n",
      "2017-11-20 15:26:22 | Running analysis 1\n",
      "2017-11-20 15:26:22 | -------------------------------\n",
      "2017-11-20 15:26:25 | Running runAnalysis(dataDirectory1, dataDirectory2, maskFile, resultDirectory)\n",
      "2017-11-20 15:26:25 | Running getDataSet(directoryPath)\n",
      "2017-11-20 15:26:30 | Number of files: 37\n",
      "2017-11-20 15:27:57 | Reading files: [------------------->] 100%\n",
      "2017-11-20 15:28:03 | dataSet.shape: (1414560, 37)\n",
      "2017-11-20 15:28:03 | Ending getDataSet(directoryPath)\n",
      "2017-11-20 15:28:03 | Running getDataSet(directoryPath)\n",
      "2017-11-20 15:28:05 | Number of files: 37\n",
      "2017-11-20 15:29:57 | Reading files: [------------------->] 100%\n",
      "2017-11-20 15:30:05 | dataSet.shape: (1414560, 37)\n",
      "2017-11-20 15:30:06 | Ending getDataSet(directoryPath)\n",
      "2017-11-20 15:30:06 | Running getMask(filePath)\n",
      "2017-11-20 15:30:07 | mask_data.shape: (840, 1684)\n",
      "2017-11-20 15:30:07 | Ending getMask(filePath)\n",
      "2017-11-20 15:30:07 | Running filterDataSet(dataSet, maskIndex)\n",
      "2017-11-20 15:30:14 | dataSetFiltered.shape: (483850, 37)\n",
      "2017-11-20 15:30:14 | Ending filterDataSet(dataSet, maskIndex)\n",
      "2017-11-20 15:30:14 | Running filterDataSet(dataSet, maskIndex)\n",
      "2017-11-20 15:30:15 | dataSetFiltered.shape: (483850, 37)\n",
      "2017-11-20 15:30:15 | Ending filterDataSet(dataSet, maskIndex)\n",
      "2017-11-20 15:30:20 | U.shape: (483850, 37)\n",
      "2017-11-20 15:30:20 | s.shape: (37,)\n",
      "2017-11-20 15:30:20 | V.shape: (483850, 37)\n",
      "2017-11-20 15:30:20 | Singular values of product: \n",
      "2017-11-20 15:30:20 | [  1.77940146e+11   1.15207663e+08   1.00587882e+08   8.74539354e+07\n",
      "   7.48854683e+07   5.44425258e+07   5.19643833e+07   4.77718929e+07\n",
      "   4.69488379e+07   4.00306214e+07   3.51605364e+07   3.42817756e+07\n",
      "   3.13844011e+07   2.91726202e+07   2.65911793e+07   2.31711857e+07\n",
      "   2.11429117e+07   2.09715750e+07   1.93702690e+07   1.89418419e+07\n",
      "   1.80775669e+07   1.70084169e+07   1.66452834e+07   1.55912771e+07\n",
      "   1.45220985e+07   1.41786107e+07   1.38509913e+07   1.34339284e+07\n",
      "   1.28881400e+07   1.25268585e+07   1.19493644e+07   1.16141141e+07\n",
      "   1.13245330e+07   9.96649063e+06   9.74980012e+06   9.15552933e+06\n",
      "   8.71021967e+06]\n",
      "2017-11-20 15:30:20 | Running validateNorms(dataSet1, dataSet2, U, s, V)\n",
      "2017-11-20 15:30:24 | Validating norms: [------------------->] 100%\n",
      "2017-11-20 15:30:24 | Largest norm difference: 1.1047031522395712e-11\n",
      "2017-11-20 15:30:24 | Ending validateNorms(dataSet1, dataSet2, U, s, V)\n",
      "2017-11-20 15:30:24 | Running plotSingularValues(resultDirectory, s)\n",
      "2017-11-20 15:30:29 | Ending plotSingularValues(resultDirectory, s)\n",
      "2017-11-20 15:30:29 | Running writeModes(resultDirectory, U, s, V)\n",
      "2017-11-20 15:33:18 | Writing modes: [------------------->] 100%\n",
      "2017-11-20 15:33:22 | Ending writeModes(resultDirectory, U, s, V)\n",
      "2017-11-20 15:33:22 | Running plotModes(resultDirectory, U, s, V, maskData, maskTransform)\n",
      "2017-11-20 15:41:22 | Plotting modes: [------------------->] 100%\n",
      "2017-11-20 15:41:34 | Ending plotModes(resultDirectory, U, s, V, maskData, maskTransform)\n",
      "2017-11-20 15:41:34 | Running writeCSV(resultDirectory, U, s, V)\n",
      "2017-11-20 15:42:07 | Writing CSV: [------------------->] 100%\n",
      "2017-11-20 15:42:37 | Ending writeCSV(resultDirectory, U, s, V)\n",
      "2017-11-20 15:42:37 | Ending runAnalysis(dataDirectory1, dataDirectory2, maskFile, resultDirectory)\n",
      "2017-11-20 15:42:37 | -------------------------------\n",
      "2017-11-20 15:42:37 | Ending analysis 1\n",
      "2017-11-20 15:42:37 | -------------------------------\n"
     ]
    }
   ],
   "source": [
    "dprint(\"-------------------------------\")\n",
    "dprint(\"Running analysis 1\")\n",
    "dprint(\"-------------------------------\")\n",
    "\n",
    "dataDirectory1 = \"hdfs:///user/hadoop/spring-index/BloomGridmet/\"\n",
    "dataDirectory2 = \"hdfs:///user/hadoop/spring-index/LeafGridmet/\"\n",
    "maskFile = \"hdfs:///user/hadoop/usa_mask_gridmet.tif\"\n",
    "resultDirectory = \"hdfs:///user/emma/svd/BloomGridmetLeafGridmet/\"\n",
    "\n",
    "#Create Result dir\n",
    "subprocess.run(['hadoop', 'dfs', '-mkdir', resultDirectory])\n",
    "\n",
    "runAnalysis(dataDirectory1, dataDirectory2, maskFile, resultDirectory)\n",
    "\n",
    "dprint(\"-------------------------------\")\n",
    "dprint(\"Ending analysis 1\")\n",
    "dprint(\"-------------------------------\")"
   ]
  },
  {
   "cell_type": "markdown",
   "metadata": {},
   "source": [
    "### Analysis 2\n",
    "This analysis focusses on Bloom and SOS data from the USA from 1980 to 2016 at a 4K spatial resolution."
   ]
  },
  {
   "cell_type": "code",
   "execution_count": null,
   "metadata": {},
   "outputs": [],
   "source": [
    "dprint(\"-------------------------------\")\n",
    "dprint(\"Running analysis 2\")\n",
    "dprint(\"-------------------------------\")\n",
    "\n",
    "dataDirectory1 = \"hdfs:///user/hadoop/spring-index/BloomGridmet/\"\n",
    "dataDirectory2 = \"hdfs:///user/hadoop/avhrr/SOST4Km/\"\n",
    "maskFile = \"hdfs:///user/hadoop/usa_mask_gridmet.tif\"\n",
    "resultDirectory = \"hdfs:///user/emma/svd/BloomGridmetSOST4Km/\"\n",
    "\n",
    "#Create Result dir\n",
    "subprocess.run(['hadoop', 'dfs', '-mkdir', resultDirectory])\n",
    "\n",
    "runAnalysis(dataDirectory1, dataDirectory2, maskFile, resultDirectory)\n",
    "\n",
    "dprint(\"-------------------------------\")\n",
    "dprint(\"Ending analysis 2\")\n",
    "dprint(\"-------------------------------\")"
   ]
  },
  {
   "cell_type": "markdown",
   "metadata": {},
   "source": [
    "### Analysis 3\n",
    "This analysis focusses on Leaf and SOS data from the USA from 1980 to 2016 at a 4K spatial resolution."
   ]
  },
  {
   "cell_type": "code",
   "execution_count": null,
   "metadata": {},
   "outputs": [],
   "source": [
    "dprint(\"-------------------------------\")\n",
    "dprint(\"Running analysis 3\")\n",
    "dprint(\"-------------------------------\")\n",
    "\n",
    "dataDirectory1 = \"hdfs:///user/hadoop/spring-index/LeafGridmet/\"\n",
    "dataDirectory2 = \"hdfs:///user/hadoop/avhrr/SOST4Km/\"\n",
    "maskFile = \"hdfs:///user/hadoop/usa_mask_gridmet.tif\"\n",
    "resultDirectory = \"hdfs:///user/emma/svd/LeafGridmetSOST4Km/\"\n",
    "\n",
    "#Create Result dir\n",
    "subprocess.run(['hadoop', 'dfs', '-mkdir', resultDirectory])\n",
    "\n",
    "runAnalysis(dataDirectory1, dataDirectory2, maskFile, resultDirectory)\n",
    "\n",
    "dprint(\"-------------------------------\")\n",
    "dprint(\"Ending analysis 3\")\n",
    "dprint(\"-------------------------------\")"
   ]
  },
  {
   "cell_type": "markdown",
   "metadata": {},
   "source": [
    "End of Notebook"
   ]
  }
 ],
 "metadata": {
  "kernelspec": {
   "display_name": "Python 3",
   "language": "python",
   "name": "python3"
  },
  "language_info": {
   "codemirror_mode": {
    "name": "ipython",
    "version": 3
   },
   "file_extension": ".py",
   "mimetype": "text/x-python",
   "name": "python",
   "nbconvert_exporter": "python",
   "pygments_lexer": "ipython3",
   "version": "3.5.2"
  }
 },
 "nbformat": 4,
 "nbformat_minor": 2
}
