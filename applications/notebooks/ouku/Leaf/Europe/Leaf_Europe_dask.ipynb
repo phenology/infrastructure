{
 "cells": [
  {
   "cell_type": "code",
   "execution_count": 1,
   "metadata": {},
   "outputs": [
    {
     "name": "stdout",
     "output_type": "stream",
     "text": [
      "CGC version: 0.1.1\n"
     ]
    }
   ],
   "source": [
    "import logging\n",
    "import time\n",
    "import sys\n",
    "import numpy as np\n",
    "import matplotlib.pyplot as plt\n",
    "import cgc\n",
    "import dask.array as da\n",
    "import json\n",
    "import hashlib\n",
    "\n",
    "from pathlib import Path\n",
    "from osgeo import gdal\n",
    "from dask.distributed import Client, SSHCluster\n",
    "from cgc.kmeans import Kmeans\n",
    "from cgc.coclustering import Coclustering\n",
    "\n",
    "print('CGC version: {}'.format(cgc.__version__))"
   ]
  },
  {
   "cell_type": "code",
   "execution_count": 2,
   "metadata": {},
   "outputs": [],
   "source": [
    "# Manual input\n",
    "project_name = 'Leaf_Europe' #datasetname regionname\n",
    "dir_output = Path('/data/local/home/parrot/ouku/Leaf/Europe')\n",
    "\n",
    "# Input data \n",
    "dir_tiff = Path('/data/local/files/Leaf/Europe')\n",
    "start_year = 1950\n",
    "load_pattern = '*.tif'\n",
    "band_id = 3 # 4th band\n",
    "\n",
    "# Co-clustering\n",
    "k = 70  # num clusters in rows\n",
    "l = 5  # num clusters in columns\n",
    "n_batch = 1 # total batches\n",
    "nruns_per_batch = 16 # num of runs per batch, this depends on the available memory\n",
    "errobj, niters, epsilon = 1e-5, 20, 10e-8\n",
    "\n",
    "\n",
    "# Kmeans\n",
    "kmean_n_clusters = 3\n",
    "kmean_max_iter = 500\n",
    "k_range = range(2,25)\n",
    "variance_threshold = 8.\n"
   ]
  },
  {
   "cell_type": "code",
   "execution_count": 3,
   "metadata": {},
   "outputs": [
    {
     "name": "stdout",
     "output_type": "stream",
     "text": [
      "Input data caching ID: 2ae4dd1\n",
      "CoClustering caching ID: aaf9d5a\n",
      "Time stamp: 20200904070949\n"
     ]
    }
   ],
   "source": [
    "# Setup evironment\n",
    "\n",
    "# input cache\n",
    "hash_input = hashlib.sha256()\n",
    "for args in (dir_tiff,start_year,load_pattern,band_id):\n",
    "    hash_input.update(str(args).encode('utf-8'))\n",
    "hash_input = hash_input.hexdigest()[:7]\n",
    "print('Input data caching ID: {}'.format(hash_input))\n",
    "\n",
    "# coclustering cache\n",
    "hash_cc = hashlib.sha256()\n",
    "for args in (k,l,n_batch,nruns_per_batch,errobj, niters, epsilon):\n",
    "    hash_cc.update(str(args).encode('utf-8'))\n",
    "hash_cc = hash_cc.hexdigest()[:7]\n",
    "print('CoClustering caching ID: {}'.format(hash_cc))\n",
    "\n",
    "# logging\n",
    "timestamp = '{}'.format(time.strftime('%Y%m%d%H%M%S',time.localtime()))\n",
    "print('Time stamp: {}'.format(timestamp))\n",
    "\n",
    "\n",
    "# Path\n",
    "logdir = (dir_output/'log')\n",
    "resultdir = (dir_output/'results'/('results_{}').format(timestamp))\n",
    "cachedir = (dir_output/'cache')\n",
    "resultdir.mkdir(parents=True, exist_ok=True)\n",
    "logdir.mkdir(parents=True, exist_ok=True)\n",
    "cachedir.mkdir(parents=True, exist_ok=True)\n",
    "\n",
    "logging.basicConfig(format='%(asctime)s | %(levelname)s : %(message)s',\n",
    "                    level=logging.DEBUG,\n",
    "                    handlers=[logging.FileHandler(logdir/('{}_{}.log'.format(project_name,timestamp)), mode='w'),\n",
    "                              logging.StreamHandler(stream=sys.stdout)])"
   ]
  },
  {
   "cell_type": "code",
   "execution_count": 4,
   "metadata": {},
   "outputs": [
    {
     "name": "stdout",
     "output_type": "stream",
     "text": [
      "loading cached data: /data/local/home/parrot/ouku/Leaf/Europe/cache/Leaf_Europe_Z_2ae4dd1.npy\n"
     ]
    }
   ],
   "source": [
    "# Load all the geotiffs\n",
    "fname = cachedir/('{}_Z_{}.npy'.format(project_name, hash_input))\n",
    "if not fname.exists():\n",
    "    h_tif = gdal.Open(dir_tiff.as_posix() +'/{}.tif'.format(start_year))\n",
    "    Z = np.empty((h_tif.RasterXSize*h_tif.RasterYSize,0))\n",
    "    for f_tiff in sorted(dir_tiff.glob(load_pattern)):\n",
    "        print('loading {}'.format(f_tiff))\n",
    "        h_tif = gdal.Open(f_tiff.as_posix())\n",
    "        img = h_tif.ReadAsArray(0, 0, h_tif.RasterXSize, h_tif.RasterYSize)[band_id]\n",
    "        img = img.reshape(-1, 1)\n",
    "        Z = np.append(Z, img, axis=1)\n",
    "    Z = Z.astype('float64')\n",
    "    print('Saving loaded tiffs to: {}'.format(fname.as_posix()))\n",
    "    np.save(fname, Z)\n",
    "else:\n",
    "    print('loading cached data: {}'.format(fname.as_posix()))\n",
    "    Z = np.load(fname)"
   ]
  },
  {
   "cell_type": "code",
   "execution_count": 5,
   "metadata": {
    "scrolled": true
   },
   "outputs": [],
   "source": [
    "# Mask out if there is nan in a row\n",
    "mask = np.where(np.isnan(np.sum(Z, axis=1))==False)[0]\n",
    "\n",
    "# Apply mask\n",
    "Znp = Z[mask, :]\n",
    "del Z\n",
    "\n",
    "assert ~np.any(np.sum(np.isnan(Znp), axis=0))"
   ]
  },
  {
   "cell_type": "code",
   "execution_count": null,
   "metadata": {},
   "outputs": [],
   "source": [
    "# Co-clustering\n",
    "fname = cachedir/'./{}_coclustering_{}.json'.format(project_name, hash_cc)\n",
    "if not fname.exists():\n",
    "    Z = da.from_array(Znp) \n",
    "    print(Z)\n",
    "    \n",
    "    client = Client(\"parrot0:9091\")\n",
    "    print(client)\n",
    "    \n",
    "    Z = client.persist(Z)\n",
    "    \n",
    "    cc = Coclustering(Z, k, l, errobj, niters, nruns_per_batch, epsilon, output_filename=fname)\n",
    "    for b in range(n_batch):\n",
    "        cc.run_with_dask(client, low_memory=True)\n",
    "    row_clusters = cc.results.row_clusters\n",
    "    col_clusters = cc.results.col_clusters\n",
    "    client.close()\n",
    "else:\n",
    "    with open(fname, 'r') as f:\n",
    "        print('loading cached data: {}'.format(fname.as_posix()))\n",
    "        data = json.load(f)\n",
    "    row_clusters = np.array(data['row_clusters'])\n",
    "    col_clusters = np.array(data['col_clusters'])\n"
   ]
  },
  {
   "cell_type": "code",
   "execution_count": null,
   "metadata": {},
   "outputs": [],
   "source": [
    "# Kmean\n",
    "km = Kmeans(Z=Znp,\n",
    "            row_clusters=row_clusters,\n",
    "            col_clusters=col_clusters,\n",
    "            n_row_clusters=k,\n",
    "            n_col_clusters=l,\n",
    "            k_range=k_range,\n",
    "            kmean_max_iter=kmean_max_iter,\n",
    "            var_thres=variance_threshold)\n",
    "km.compute()\n",
    "km.plot_elbow_curve((resultdir/(project_name+'_kmean_elbow_plot')).as_posix())\n",
    "km.cl_mean_centroids"
   ]
  },
  {
   "cell_type": "code",
   "execution_count": null,
   "metadata": {},
   "outputs": [],
   "source": [
    "# Export Plots\n",
    "# Temporal cluster\n",
    "plt.plot(range(0,len(col_clusters)),col_clusters)\n",
    "plt.ylabel('Cluster')\n",
    "plt.xlabel('Years')\n",
    "plt.savefig((resultdir/(project_name+'_temporal_clusters')).as_posix())\n"
   ]
  },
  {
   "cell_type": "code",
   "execution_count": null,
   "metadata": {},
   "outputs": [],
   "source": [
    "# Spatial cluster\n",
    "h_tif = gdal.Open(dir_tiff.as_posix() +'/{}.tif'.format(start_year))\n",
    "spatial_cl = np.empty(h_tif.RasterXSize*h_tif.RasterYSize)\n",
    "spatial_cl[:] = np.nan\n",
    "spatial_cl[mask] = row_clusters\n",
    "spatial_cl = spatial_cl.reshape(h_tif.RasterYSize, h_tif.RasterXSize)\n",
    "plt.imshow(spatial_cl)\n",
    "plt.ylabel('Yaxis')\n",
    "plt.xlabel('Xaxis')\n",
    "plt.savefig((resultdir/(project_name+'_spatial_clusters')).as_posix())\n"
   ]
  },
  {
   "cell_type": "code",
   "execution_count": null,
   "metadata": {},
   "outputs": [],
   "source": [
    "# Export Group average co-clustering\n",
    "CoCavg = np.zeros((k, l)) \n",
    "row_idx = [np.argwhere(row_clusters == i).squeeze() for i in range(k)] \n",
    "col_idx = [np.argwhere(col_clusters == i).squeeze() for i in range(l)]     \n",
    "for ir in range(k): \n",
    "    for ic in range(l): \n",
    "        r, c = np.meshgrid(row_idx[ir], col_idx[ic])\n",
    "        # empty clusters won't be used - the actual num we use below does not matter\n",
    "        CoCavg[ir, ic] = np.nan_to_num(Znp[r, c].mean())\n",
    "\n",
    "for f in range(l):\n",
    "    # Export png\n",
    "    h_tif = gdal.Open(dir_tiff.as_posix() +'/{}.tif'.format(start_year))\n",
    "    band_1 = np.empty(h_tif.RasterXSize*h_tif.RasterYSize)\n",
    "    band_1[:] =  np.nan\n",
    "    band_1[mask] = CoCavg[row_clusters, f]\n",
    "    band_1 = band_1.reshape(h_tif.RasterYSize, h_tif.RasterXSize)\n",
    "    plt.figure()\n",
    "    plt.title('temp_clust_' + str(f))\n",
    "    plt.ylabel('Yaxis')\n",
    "    plt.xlabel('Xaxis')\n",
    "    plt.imshow(band_1)\n",
    "    plt.savefig((resultdir/(project_name+'_spatial_clusters_temp_clust_' + str(f))).as_posix())"
   ]
  },
  {
   "cell_type": "code",
   "execution_count": null,
   "metadata": {
    "scrolled": true
   },
   "outputs": [],
   "source": [
    "# Kmean visualization\n",
    "for f in range(l):\n",
    "    # Export png\n",
    "    h_tif = gdal.Open(dir_tiff.as_posix() +'/{}.tif'.format(start_year))\n",
    "    band_1 = np.empty(h_tif.RasterXSize*h_tif.RasterYSize)\n",
    "    band_1[:] =  np.nan\n",
    "    band_1[mask] = km.cl_mean_centroids[row_clusters, f]\n",
    "    band_1 = band_1.reshape(h_tif.RasterYSize, h_tif.RasterXSize)\n",
    "    plt.figure()\n",
    "    plt.title('temp_clust_' + str(f))\n",
    "    plt.ylabel('Yaxis')\n",
    "    plt.xlabel('Xaxis')\n",
    "    plt.imshow(band_1)\n",
    "    plt.savefig((resultdir/(project_name+'_kmean_spatial_clusters_temp_clust_' + str(f))).as_posix())"
   ]
  }
 ],
 "metadata": {
  "kernelspec": {
   "display_name": "Python 3",
   "language": "python",
   "name": "python3"
  },
  "language_info": {
   "codemirror_mode": {
    "name": "ipython",
    "version": 3
   },
   "file_extension": ".py",
   "mimetype": "text/x-python",
   "name": "python",
   "nbconvert_exporter": "python",
   "pygments_lexer": "ipython3",
   "version": "3.7.6"
  }
 },
 "nbformat": 4,
 "nbformat_minor": 4
}
