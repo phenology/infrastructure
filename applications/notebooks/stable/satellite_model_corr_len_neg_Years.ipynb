{
 "cells": [
  {
   "cell_type": "markdown",
   "metadata": {},
   "source": [
    "# Correlation between a Model and Satellite data\n",
    "\n",
    "This notebook shows how to calculate correlation between two matrices. Each matrix is created out a set of GeoTiffs for a series of years. Both matrices should have the same dimension.\n",
    "\n",
    "For demonstration we will use from a model (spring-index) and from a satellite (AVHRR)."
   ]
  },
  {
   "cell_type": "markdown",
   "metadata": {},
   "source": [
    "## Dependencies"
   ]
  },
  {
   "cell_type": "code",
   "execution_count": 1,
   "metadata": {},
   "outputs": [],
   "source": [
    "import java.io.{ByteArrayInputStream, ByteArrayOutputStream, ObjectInputStream, ObjectOutputStream}\n",
    "\n",
    "import breeze.linalg.sum\n",
    "import breeze.stats._\n",
    "import geotrellis.proj4.CRS\n",
    "import geotrellis.raster.io.geotiff.writer.GeoTiffWriter\n",
    "import geotrellis.raster.io.geotiff.{SinglebandGeoTiff, _}\n",
    "import geotrellis.raster.{CellType, DoubleArrayTile, MultibandTile, Tile, UByteCellType}\n",
    "import geotrellis.spark.io.hadoop._\n",
    "import geotrellis.vector.{Extent, ProjectedExtent}\n",
    "import org.apache.hadoop.io.SequenceFile.Writer\n",
    "import org.apache.hadoop.io.{SequenceFile, _}\n",
    "import org.apache.spark.broadcast.Broadcast\n",
    "import org.apache.spark.mllib.linalg._\n",
    "import org.apache.spark.mllib.linalg.distributed._\n",
    "import org.apache.spark.rdd.RDD\n",
    "import org.apache.spark.{SparkConf, SparkContext, mllib}\n",
    "import spire.syntax.cfor.cfor\n",
    "\n",
    "import scala.sys.process._"
   ]
  },
  {
   "cell_type": "markdown",
   "metadata": {},
   "source": [
    "## Mode of operation\n",
    "\n",
    "Here the user can define the mode of operation.\n",
    "* **rdd_offline_mode**: If false it means the notebook will create all data from scratch and store protected_extent and num_cols_rows into HDFS. Otherwise, these data structures are read from HDFS.\n",
    "\n",
    "It is also possible to define which directory of GeoTiffs is to be used and on which **band** to run Kmeans. The options are\n",
    "* **all** which are a multi-band (**8 bands**) GeoTiffs\n",
    "* Or choose single band ones:\n",
    "    0. Onset_Greenness_Increase\n",
    "    1. Onset_Greenness_Maximum\n",
    "    2. Onset_Greenness_Decrease\n",
    "    3. Onset_Greenness_Minimum\n",
    "    4. NBAR_EVI_Onset_Greenness_Minimum\n",
    "    5. NBAR_EVI_Onset_Greenness_Maximum\n",
    "    6. NBAR_EVI_Area\n",
    "    7. Dynamics_QC\n",
    "\n",
    "<span style=\"color:red\">Note that when using a range **kemans offline mode** is not possible and it will be reset to **online mode**</span>."
   ]
  },
  {
   "cell_type": "markdown",
   "metadata": {},
   "source": [
    "### Mode of Operation setup\n",
    "<a id='mode_of_operation_setup'></a>"
   ]
  },
  {
   "cell_type": "code",
   "execution_count": 2,
   "metadata": {},
   "outputs": [
    {
     "data": {
      "text/plain": [
       "model_rdd_offline_mode = true\n",
       "model_matrix_offline_mode = true\n",
       "satellite_rdd_offline_mode = true\n",
       "satellite_matrix_offline_mode = true\n",
       "model_path = hdfs:///user/hadoop/spring-index/\n",
       "model_dir = LeafFinal\n",
       "satellite_path = hdfs:///user/hadoop/avhrr/\n",
       "satellite_dir = SOST\n",
       "out_path = hdfs:///user/pheno/correlation/LeafFinalSOSTYears/\n",
       "band_num = 3\n",
       "satellite_timeseries = (1989,2014)\n",
       "satellite_first_year = 1989\n",
       "satellite_last_year = 2014\n",
       "model_timeseries = (1980,2015)\n",
       "model_first_year = 1988\n",
       "model_last_year = 2014\n",
       "toBeMasked = true\n",
       "mask_path = hdfs:///user/hadoop/usa_mask.tif\n",
       "save_rdds = false\n",
       "save_matrix = false\n"
      ]
     },
     "metadata": {},
     "output_type": "display_data"
    },
    {
     "data": {
      "text/plain": [
       "false"
      ]
     },
     "execution_count": 2,
     "metadata": {},
     "output_type": "execute_result"
    }
   ],
   "source": [
    "var model_rdd_offline_mode = true\n",
    "var model_matrix_offline_mode = true\n",
    "var satellite_rdd_offline_mode = true\n",
    "var satellite_matrix_offline_mode = true\n",
    "\n",
    "//Using spring-index model\n",
    "var model_path = \"hdfs:///user/hadoop/spring-index/\"\n",
    "var model_dir = \"LeafFinal\"\n",
    "\n",
    "//Using AVHRR Satellite data\n",
    "var satellite_path = \"hdfs:///user/hadoop/avhrr/\"\n",
    "var satellite_dir = \"SOST\"\n",
    "\n",
    "var out_path = \"hdfs:///user/pheno/correlation/\" + model_dir + satellite_dir + \"Years/\"\n",
    "var band_num = 3\n",
    "\n",
    "val satellite_timeseries = (1989, 2014)\n",
    "var satellite_first_year = 1989\n",
    "var satellite_last_year = 2014\n",
    "\n",
    "val model_timeseries = (1980, 2015)\n",
    "//You always need to give an extra year so we can adjust with negative values of AVHRR and MODIS (satellite)\n",
    "var model_first_year = 1988\n",
    "var model_last_year = 2014\n",
    "\n",
    "//Mask\n",
    "val toBeMasked = true\n",
    "val mask_path = \"hdfs:///user/hadoop/usa_mask.tif\"\n",
    "//val mask_path = \"hdfs:///user/hadoop/usa_state_masks/california.tif\"\n",
    "\n",
    "val save_rdds = false\n",
    "val save_matrix = false"
   ]
  },
  {
   "cell_type": "markdown",
   "metadata": {},
   "source": [
    "\n",
    "<span style=\"color:red\">DON'T MODIFY ANY PIECE OF CODE FROM HERE ON!!!</span>.\n"
   ]
  },
  {
   "cell_type": "markdown",
   "metadata": {},
   "source": [
    "### Mode of operation validation"
   ]
  },
  {
   "cell_type": "code",
   "execution_count": 3,
   "metadata": {},
   "outputs": [
    {
     "data": {
      "text/plain": [
       "Waiting for a Spark session to start..."
      ]
     },
     "metadata": {},
     "output_type": "display_data"
    },
    {
     "name": "stdout",
     "output_type": "stream",
     "text": [
      "\"Load GeoTiffs\" offline mode is not set properly, i.e., either it was set to false and the required file does not exist or vice-versa. We will reset it to false\n",
      "\"Matrix\" offline mode is not set properly, i.e., either it was set to false and the required file does not exist or vice-versa. We will reset it to false\n",
      "\"Load GeoTiffs\" offline mode is not set properly, i.e., either it was set to false and the required file does not exist or vice-versa. We will reset it to false\n",
      "\"Matrix\" offline mode is not set properly, i.e., either it was set to false and the required file does not exist or vice-versa. We will reset it to false\n"
     ]
    },
    {
     "data": {
      "text/plain": [
       "conf = Configuration: core-default.xml, core-site.xml, mapred-default.xml, mapred-site.xml, yarn-default.xml, yarn-site.xml, hdfs-default.xml, hdfs-site.xml, file:/usr/lib/spark-2.1.1-bin-without-hadoop/conf/hive-site.xml\n",
       "fs = DFS[DFSClient[clientName=DFSClient_NONMAPREDUCE_-1158019143_41, ugi=pheno (auth:SIMPLE)]]\n",
       "mask_str = _mask\n",
       "model_grid0_path = hdfs:///user/pheno/correlation/LeafFinalSOSTYears/LeafFinal_model_grid0\n",
       "model_grid0_index_path = hdfs:///user/pheno/correlation/LeafFinalSOSTYears/LeafFinal_model_grid0_index\n",
       "model_grid_path = hdfs:///user/pheno/correlation/LeafFinalSOSTYears/LeafFinal_model_grid\n",
       "satellite_grid_path = hdfs:///user/pheno/correlation/LeafFinalSOSTYea...\n"
      ]
     },
     "metadata": {},
     "output_type": "display_data"
    },
    {
     "data": {
      "text/plain": [
       "hdfs:///user/pheno/correlation/LeafFinalSOSTYears/SOST_model_grid"
      ]
     },
     "execution_count": 3,
     "metadata": {},
     "output_type": "execute_result"
    }
   ],
   "source": [
    "//Check offline modes\n",
    "var conf = sc.hadoopConfiguration\n",
    "var fs = org.apache.hadoop.fs.FileSystem.get(conf)\n",
    "\n",
    "//Create dirs in HDFS\n",
    "var cmd = \"hadoop dfs -mkdir -p \" + out_path\n",
    "Process(cmd)!\n",
    "\n",
    "//Paths to store data structures for Offline runs\n",
    "var mask_str = \"\"\n",
    "if (toBeMasked)\n",
    "  mask_str = \"_mask\"\n",
    "var model_grid0_path = out_path + model_dir + \"_model_grid0\"\n",
    "var model_grid0_index_path = out_path + model_dir + \"_model_grid0_index\"\n",
    "\n",
    "var model_grid_path = out_path + model_dir + \"_model_grid\"\n",
    "var satellite_grid_path = out_path + satellite_dir + \"_model_grid\"\n",
    "var model_matrix_path = out_path + model_dir + \"_model_matrix\"\n",
    "var model_matrix_index_path = out_path + model_dir + \"_model_matrix_index\"\n",
    "var satellite_matrix_path = out_path + satellite_dir + \"_model_matrix\"\n",
    "var satellite_matrix_index_path = out_path + satellite_dir + \"_model_matrix_index\"\n",
    "var metadata_path = out_path + model_dir + \"_metadata\"\n",
    "\n",
    "val model_rdd_offline_exists = fs.exists(new org.apache.hadoop.fs.Path(model_grid_path))\n",
    "val model_matrix_offline_exists = fs.exists(new org.apache.hadoop.fs.Path(model_matrix_path))\n",
    "val satellite_rdd_offline_exists = fs.exists(new org.apache.hadoop.fs.Path(satellite_grid_path))\n",
    "val satellite_matrix_offline_exists = fs.exists(new org.apache.hadoop.fs.Path(satellite_matrix_path))\n",
    "\n",
    "if (model_rdd_offline_mode != model_rdd_offline_exists) {\n",
    "  println(\"\\\"Load GeoTiffs\\\" offline mode is not set properly, i.e., either it was set to false and the required file does not exist or vice-versa. We will reset it to \" + model_rdd_offline_exists.toString())\n",
    "  model_rdd_offline_mode = model_rdd_offline_exists\n",
    "}\n",
    "\n",
    "if (model_matrix_offline_mode != model_matrix_offline_exists) {\n",
    "  println(\"\\\"Matrix\\\" offline mode is not set properly, i.e., either it was set to false and the required file does not exist or vice-versa. We will reset it to \" + model_matrix_offline_exists.toString())\n",
    "  model_matrix_offline_mode = model_matrix_offline_exists\n",
    "}\n",
    "\n",
    "var model_skip_rdd = false\n",
    "if (model_matrix_offline_exists) {\n",
    "    println(\"Since we have a matrix, the load of the grids RDD will be skipped!!!\")\n",
    "    model_skip_rdd = true\n",
    "}\n",
    "\n",
    "if (satellite_rdd_offline_mode != satellite_rdd_offline_exists) {\n",
    "  println(\"\\\"Load GeoTiffs\\\" offline mode is not set properly, i.e., either it was set to false and the required file does not exist or vice-versa. We will reset it to \" + satellite_rdd_offline_exists.toString())\n",
    "  satellite_rdd_offline_mode = satellite_rdd_offline_exists\n",
    "}\n",
    "\n",
    "if (satellite_matrix_offline_mode != satellite_matrix_offline_exists) {\n",
    "  println(\"\\\"Matrix\\\" offline mode is not set properly, i.e., either it was set to false and the required file does not exist or vice-versa. We will reset it to \" + satellite_matrix_offline_exists.toString())\n",
    "  satellite_matrix_offline_mode = satellite_matrix_offline_exists\n",
    "}\n",
    "\n",
    "var satellite_skip_rdd = false\n",
    "if (satellite_matrix_offline_exists) {\n",
    "    println(\"Since we have a matrix, the load of the grids RDD will be skipped!!!\")\n",
    "    satellite_skip_rdd = true\n",
    "}\n",
    "\n",
    "var corr_tif = out_path + satellite_dir + \"_\" + model_dir + \".tif\"\n",
    "var corr_tif_tmp = \"/tmp/correlation_\" + satellite_dir + \"_\" + model_dir + \".tif\"\n",
    "\n",
    "//Years\n",
    "val satellite_years = satellite_timeseries._1 to satellite_timeseries._2\n",
    "val model_years = model_timeseries._1 to model_timeseries._2\n",
    "\n",
    "if (!satellite_years.contains(satellite_first_year) || !(satellite_years.contains(satellite_last_year))) {\n",
    "  println(\"Invalid range of years for \" + satellite_dir + \". I should be between \" + satellite_first_year + \" and \" + satellite_last_year)\n",
    "  System.exit(0)\n",
    "}\n",
    "\n",
    "if (!model_years.contains(model_first_year) || !(model_years.contains(model_last_year))) {\n",
    "  println(\"Invalid range of years for \" + model_dir + \". I should be between \" + model_first_year + \" and \" + model_last_year)\n",
    "  System.exit(0)\n",
    "}\n",
    "\n",
    "if ( ((satellite_last_year - model_first_year) > (model_last_year - model_first_year)) || ((satellite_last_year - model_first_year) > (model_last_year - model_first_year))) {\n",
    "  println(\"The range of years for each data set should be of the same length.\");\n",
    "  System.exit(0)\n",
    "}\n",
    "\n",
    "var model_years_range = (model_years.indexOf(model_first_year), model_years.indexOf(model_last_year))\n",
    "var satellite_years_range = (satellite_years.indexOf(satellite_first_year), satellite_years.indexOf(satellite_last_year))\n",
    "\n",
    "//Global variables\n",
    "var projected_extent = new ProjectedExtent(new Extent(0, 0, 0, 0), CRS.fromName(\"EPSG:3857\"))\n",
    "var model_grid0: RDD[(Long, Double)] = sc.emptyRDD\n",
    "var model_grid0_index: RDD[Long] = sc.emptyRDD\n",
    "var grids_RDD: RDD[(Int,Array[Double])] = sc.emptyRDD\n",
    "var model_grids_RDD: RDD[(Int,Array[Double])] = sc.emptyRDD\n",
    "var model_grids: RDD[(Int,Array[Double])] = sc.emptyRDD\n",
    "var satellite_grids_RDD: RDD[(Int,Array[Double])] = sc.emptyRDD\n",
    "var satellite_grids: RDD[(Int, Array[Double])] = sc.emptyRDD\n",
    "var num_cols_rows: (Int, Int) = (0, 0)\n",
    "var cellT: CellType = UByteCellType\n",
    "var mask_tile0: Tile = new SinglebandGeoTiff(geotrellis.raster.ArrayTile.empty(cellT, num_cols_rows._1, num_cols_rows._2), projected_extent.extent, projected_extent.crs, Tags.empty, GeoTiffOptions.DEFAULT).tile\n",
    "var satellite_cells_size: Long = 0\n",
    "var model_cells_size: Long = 0\n",
    "var t0: Long = 0\n",
    "var t1: Long = 0"
   ]
  },
  {
   "cell_type": "markdown",
   "metadata": {},
   "source": [
    "## Functions to (de)serialize any structure into Array[Byte]"
   ]
  },
  {
   "cell_type": "code",
   "execution_count": 4,
   "metadata": {},
   "outputs": [
    {
     "data": {
      "text/plain": [
       "serialize: (value: Any)Array[Byte]\n",
       "deserialize: (bytes: Array[Byte])Any\n"
      ]
     },
     "metadata": {},
     "output_type": "display_data"
    }
   ],
   "source": [
    "def serialize(value: Any): Array[Byte] = {\n",
    "    val out_stream: ByteArrayOutputStream = new ByteArrayOutputStream()\n",
    "    val obj_out_stream = new ObjectOutputStream(out_stream)\n",
    "    obj_out_stream.writeObject(value)\n",
    "    obj_out_stream.close\n",
    "    out_stream.toByteArray\n",
    "}\n",
    "\n",
    "def deserialize(bytes: Array[Byte]): Any = {\n",
    "    val obj_in_stream = new ObjectInputStream(new ByteArrayInputStream(bytes))\n",
    "    val value = obj_in_stream.readObject\n",
    "    obj_in_stream.close\n",
    "    value\n",
    "}"
   ]
  },
  {
   "cell_type": "markdown",
   "metadata": {},
   "source": [
    "## Load GeoTiffs\n",
    "\n",
    "Using GeoTrellis all GeoTiffs of a directory will be loaded into a RDD. Using the RDD, we extract a grid from the first file to lated store the Kmeans cluster_IDS, we build an Index for populate such grid and we filter out here all NaN values."
   ]
  },
  {
   "cell_type": "code",
   "execution_count": 5,
   "metadata": {},
   "outputs": [
    {
     "data": {
      "text/plain": [
       "hadoopGeoTiffRDD: (satellite_filepath: String, pattern: String)org.apache.spark.rdd.RDD[(Int, (geotrellis.vector.ProjectedExtent, geotrellis.raster.Tile))]\n"
      ]
     },
     "metadata": {},
     "output_type": "display_data"
    }
   ],
   "source": [
    "def hadoopGeoTiffRDD(satellite_filepath :String, pattern :String): RDD[(Int, (ProjectedExtent, Tile))] = {\n",
    "  val listFiles = sc.binaryFiles(satellite_filepath + \"/\" + pattern).sortBy(_._1).keys.collect()\n",
    "  var prevRDD :RDD[(Int,(ProjectedExtent, Tile))] = sc.emptyRDD\n",
    "\n",
    "  cfor(0)(_ < listFiles.length, _ + 1) { k =>\n",
    "    val filePath :String = listFiles(k)\n",
    "    val kB = sc.broadcast(k)\n",
    "    val currRDD = sc.hadoopGeoTiffRDD(filePath).map(m => (kB.value, m))\n",
    "    prevRDD = currRDD.union(prevRDD)\n",
    "    //kB.destroy()\n",
    "  }\n",
    "  prevRDD.sortBy(_._1)\n",
    "}"
   ]
  },
  {
   "cell_type": "code",
   "execution_count": 6,
   "metadata": {},
   "outputs": [
    {
     "data": {
      "text/plain": [
       "hadoopMultibandGeoTiffRDD: (satellite_filepath: String, pattern: String)org.apache.spark.rdd.RDD[(Int, (geotrellis.vector.ProjectedExtent, geotrellis.raster.MultibandTile))]\n"
      ]
     },
     "metadata": {},
     "output_type": "display_data"
    }
   ],
   "source": [
    "def hadoopMultibandGeoTiffRDD(satellite_filepath :String, pattern :String): RDD[(Int, (ProjectedExtent, MultibandTile))] = {\n",
    "  val listFiles = sc.binaryFiles(satellite_filepath + \"/\" + pattern).sortBy(_._1).keys.collect()\n",
    "  var prevRDD :RDD[(Int,(ProjectedExtent, MultibandTile))] = sc.emptyRDD\n",
    "\n",
    "  cfor(0)(_ < listFiles.length, _ + 1) { k =>\n",
    "    val filePath :String = listFiles(k)\n",
    "    val kB = sc.broadcast(k)\n",
    "    val currRDD = sc.hadoopMultibandGeoTiffRDD(filePath).map(m => (kB.value,m))\n",
    "    prevRDD = currRDD.union(prevRDD)\n",
    "    //kB.destroy()\n",
    "  }\n",
    "  prevRDD.sortBy(_._1)\n",
    "}"
   ]
  },
  {
   "cell_type": "code",
   "execution_count": 7,
   "metadata": {},
   "outputs": [
    {
     "name": "stdout",
     "output_type": "stream",
     "text": [
      "Elapsed time: 6974410840ns\n"
     ]
    },
    {
     "data": {
      "text/plain": [
       "t0 = 117162872368501\n",
       "pattern = *.tif\n",
       "satellite_filepath = hdfs:///user/hadoop/avhrr/SOST\n",
       "model_filepath = hdfs:///user/hadoop/spring-index//LeafFinal\n",
       "t1 = 117169846779341\n"
      ]
     },
     "metadata": {},
     "output_type": "display_data"
    },
    {
     "data": {
      "text/plain": [
       "117169846779341"
      ]
     },
     "execution_count": 7,
     "metadata": {},
     "output_type": "execute_result"
    }
   ],
   "source": [
    "t0 = System.nanoTime()\n",
    "\n",
    "//Load Mask\n",
    "if (!(model_skip_rdd && satellite_skip_rdd)  && toBeMasked) {\n",
    "  val mask_tiles_RDD = sc.hadoopGeoTiffRDD(mask_path).values\n",
    "  val mask_tiles_withIndex = mask_tiles_RDD.zipWithIndex().map{case (e,v) => (v,e)}\n",
    "  mask_tile0 = (mask_tiles_withIndex.filter(m => m._1==0).filter(m => !m._1.isNaN).values.collect())(0)\n",
    "}\n",
    "\n",
    "//Local variables\n",
    "val pattern: String = \"*.tif\"\n",
    "val satellite_filepath: String = satellite_path + satellite_dir\n",
    "val model_filepath: String = model_path + \"/\" + model_dir\n",
    "\n",
    "t1 = System.nanoTime()\n",
    "println(\"Elapsed time: \" + (t1 - t0) + \"ns\")"
   ]
  },
  {
   "cell_type": "markdown",
   "metadata": {},
   "source": [
    "### Satellite data"
   ]
  },
  {
   "cell_type": "code",
   "execution_count": 8,
   "metadata": {},
   "outputs": [
    {
     "name": "stdout",
     "output_type": "stream",
     "text": [
      "Number of cells is: 10115631                                                    \n",
      "Elapsed time: 29796182344ns\n"
     ]
    },
    {
     "data": {
      "text/plain": [
       "t0 = 117171871061462\n",
       "t1 = 117201667243806\n"
      ]
     },
     "metadata": {},
     "output_type": "display_data"
    },
    {
     "data": {
      "text/plain": [
       "117201667243806"
      ]
     },
     "execution_count": 8,
     "metadata": {},
     "output_type": "execute_result"
    }
   ],
   "source": [
    "t0 = System.nanoTime()\n",
    "if (!satellite_skip_rdd) {\n",
    "  if (satellite_rdd_offline_mode) {\n",
    "    satellite_grids_RDD = sc.objectFile(satellite_grid_path)\n",
    "  } else {\n",
    "    //Lets load MODIS Singleband GeoTiffs and return RDD just with the tiles.\n",
    "    val satellite_geos_RDD = hadoopGeoTiffRDD(satellite_filepath, pattern)\n",
    "    val satellite_tiles_RDD = satellite_geos_RDD.map{ case (i,(p,t)) => (i,t)}\n",
    "\n",
    "    if (toBeMasked) {\n",
    "      val mask_tile_broad: Broadcast[Tile] = sc.broadcast(mask_tile0)\n",
    "      satellite_grids_RDD = satellite_tiles_RDD.map{ case (i,m) => (i,m.localInverseMask(mask_tile_broad.value, 1, -1000).toArrayDouble().filter(_ != -1000))}\n",
    "    } else {\n",
    "      satellite_grids_RDD = satellite_tiles_RDD.map{ case (i,m) => (i,m.toArrayDouble())}\n",
    "    }\n",
    "\n",
    "    //Store in HDFS\n",
    "    if (save_rdds) {\n",
    "      satellite_grids_RDD.saveAsObjectFile(satellite_grid_path)\n",
    "    }\n",
    "  }\n",
    "  val satellite_grids_withIndex = satellite_grids_RDD//.zipWithIndex().map { case (e, v) => (v, e) }\n",
    "\n",
    "  //Filter out the range of years:\n",
    "  val sat_year_diff = satellite_first_year-satellite_timeseries._1\n",
    "  val sat_year_diffB = sc.broadcast(sat_year_diff)\n",
    "  satellite_grids = satellite_grids_withIndex.filterByRange(satellite_years_range._1, satellite_years_range._2).map{ case(i,a) => (i-(sat_year_diffB.value),a)}//.values\n",
    "\n",
    "  var satellite_grid0_index: RDD[Double] = satellite_grids_withIndex.filter(m => m._1 == 0).values.flatMap(m => m)\n",
    "  satellite_cells_size = satellite_grid0_index.count().toInt\n",
    "  println(\"Number of cells is: \" + satellite_cells_size)\n",
    "}\n",
    "t1 = System.nanoTime()\n",
    "println(\"Elapsed time: \" + (t1 - t0) + \"ns\")"
   ]
  },
  {
   "cell_type": "markdown",
   "metadata": {},
   "source": [
    "### Model data"
   ]
  },
  {
   "cell_type": "code",
   "execution_count": 9,
   "metadata": {},
   "outputs": [
    {
     "name": "stdout",
     "output_type": "stream",
     "text": [
      "Number of cells is: 10115631                                                    \n",
      "Elapsed time: 309451745690ns\n"
     ]
    },
    {
     "data": {
      "text/plain": [
       "t0 = 117202991962158\n",
       "model_grids_withIndex = MapPartitionsRDD[314] at map at <console>:145\n",
       "mod_year_diff = 8\n",
       "mod_year_diffB = Broadcast(147)\n",
       "model_grids = MapPartitionsRDD[316] at map at <console>:175\n",
       "model_tile0_index = MapPartitionsRDD[319] at flatMap at <console>:177\n",
       "model_cells_size = 10115631\n",
       "t1 = 117512443707848\n"
      ]
     },
     "metadata": {},
     "output_type": "display_data"
    },
    {
     "data": {
      "text/plain": [
       "117512443707848"
      ]
     },
     "execution_count": 9,
     "metadata": {},
     "output_type": "execute_result"
    }
   ],
   "source": [
    "t0 = System.nanoTime()\n",
    "if (model_rdd_offline_mode) {\n",
    "  model_grids_RDD = sc.objectFile(model_grid_path)\n",
    "  model_grid0 = sc.objectFile(model_grid0_path)\n",
    "  model_grid0_index = sc.objectFile(model_grid0_index_path)\n",
    "\n",
    "  val metadata = sc.sequenceFile(metadata_path, classOf[IntWritable], classOf[BytesWritable]).map(_._2.copyBytes()).collect()\n",
    "  projected_extent = deserialize(metadata(0)).asInstanceOf[ProjectedExtent]\n",
    "  num_cols_rows = (deserialize(metadata(1)).asInstanceOf[Int], deserialize(metadata(2)).asInstanceOf[Int])\n",
    "  cellT = deserialize(metadata(3)).asInstanceOf[CellType]\n",
    "} else {\n",
    "  val model_geos_RDD = hadoopMultibandGeoTiffRDD(model_filepath, pattern)\n",
    "  val model_tiles_RDD = model_geos_RDD.map{ case (i,(p,t)) => (i,t)}\n",
    "\n",
    "  //Retrieve the number of cols and rows of the Tile's grid\n",
    "  val tiles_withIndex = model_tiles_RDD//.zipWithIndex().map { case (v, i) => (i, v) }\n",
    "  val tile0 = (tiles_withIndex.filter(m => m._1 == 0).values.collect()) (0)\n",
    "\n",
    "  num_cols_rows = (tile0.cols, tile0.rows)\n",
    "  cellT = tile0.cellType\n",
    "\n",
    "  //Retrieve the ProjectExtent which contains metadata such as CRS and bounding box\n",
    "  val projected_extents_withIndex = model_geos_RDD.map{ case (i,(p,t)) => (i,p)}\n",
    "  projected_extent = (projected_extents_withIndex.filter(m => m._1 == 0).values.collect()) (0)\n",
    "\n",
    "  val band_numB: Broadcast[Int] = sc.broadcast(band_num)\n",
    "  if (toBeMasked) {\n",
    "    val mask_tile_broad: Broadcast[Tile] = sc.broadcast(mask_tile0)\n",
    "    grids_RDD = model_tiles_RDD.map{ case (i,m) => (i,m.band(band_numB.value).localInverseMask(mask_tile_broad.value, 1, -1000).toArrayDouble())}\n",
    "  } else {\n",
    "    grids_RDD = model_tiles_RDD.map{ case (i,m) => (i, m.band(band_numB.value).toArrayDouble())}\n",
    "  }\n",
    "\n",
    "  //Get Index for each Cell\n",
    "  val grids_withIndex = grids_RDD//.zipWithIndex().map { case (e, v) => (v, e) }\n",
    "  if (toBeMasked) {\n",
    "    model_grid0_index = grids_withIndex.filter(m => m._1 == 0).values.flatMap(m => m).zipWithIndex.filter(m => m._1 != -1000.0).map { case (v, i) => (i) }\n",
    "  } else {\n",
    "    model_grid0_index = grids_withIndex.filter(m => m._1 == 0).values.flatMap(m => m).zipWithIndex.map { case (v, i) => (i) }\n",
    "  }\n",
    "\n",
    "  //Get the Tile's grid\n",
    "  model_grid0 = grids_withIndex.filter(m => m._1 == 0).values.flatMap(m => m).zipWithIndex.map { case (v, i) => (i, v) }\n",
    "\n",
    "  //Lets filter out NaN\n",
    "  if (toBeMasked) {\n",
    "    model_grids_RDD = grids_RDD.map{ case (i,m) => (i,m.filter(m => m != -1000.0))}\n",
    "  } else {\n",
    "    model_grids_RDD = grids_RDD\n",
    "  }\n",
    "\n",
    "  //Store data in HDFS\n",
    "  if (save_rdds) {\n",
    "    model_grid0.saveAsObjectFile(model_grid0_path)\n",
    "    model_grid0_index.saveAsObjectFile(model_grid0_index_path)\n",
    "    model_grids_RDD.saveAsObjectFile(model_grid_path)\n",
    "\n",
    "    val writer: SequenceFile.Writer = SequenceFile.createWriter(conf,\n",
    "      Writer.file(metadata_path),\n",
    "      Writer.keyClass(classOf[IntWritable]),\n",
    "      Writer.valueClass(classOf[BytesWritable])\n",
    "    )\n",
    "\n",
    "    writer.append(new IntWritable(1), new BytesWritable(serialize(projected_extent)))\n",
    "    writer.append(new IntWritable(2), new BytesWritable(serialize(num_cols_rows._1)))\n",
    "    writer.append(new IntWritable(3), new BytesWritable(serialize(num_cols_rows._2)))\n",
    "    writer.append(new IntWritable(4), new BytesWritable(serialize(cellT)))\n",
    "    writer.hflush()\n",
    "    writer.close()\n",
    "  }\n",
    "}\n",
    "val model_grids_withIndex = model_grids_RDD//.zipWithIndex().map { case (e, v) => (v, e) }\n",
    "\n",
    "//Filter out the range of years:\n",
    "val mod_year_diff = model_first_year-model_timeseries._1\n",
    "val mod_year_diffB = sc.broadcast(mod_year_diff)\n",
    "model_grids = model_grids_withIndex.filterByRange(model_years_range._1, model_years_range._2).map{ case(i,a) => (i-(mod_year_diffB.value),a)}//.values\n",
    "\n",
    "var model_tile0_index: RDD[Double] = model_grids_withIndex.filter(m => m._1 == 0).values.flatMap(m => m)\n",
    "model_cells_size = model_tile0_index.count().toInt\n",
    "println(\"Number of cells is: \" + model_cells_size)\n",
    "\n",
    "t1 = System.nanoTime()\n",
    "println(\"Elapsed time: \" + (t1 - t0) + \"ns\")"
   ]
  },
  {
   "cell_type": "markdown",
   "metadata": {},
   "source": [
    "## Matrix\n",
    "\n",
    "We need to do a Matrix transpose to have clusters per cell and not per year. With a GeoTiff representing a single year, the loaded data looks liks this:\n",
    "```\n",
    "bands_RDD.map(s => Vectors.dense(s)).cache()\n",
    "\n",
    "//The vectors are rows and therefore the matrix will look like this:\n",
    "[\n",
    "Vectors.dense(0.0, 1.0, 2.0),\n",
    "Vectors.dense(3.0, 4.0, 5.0),\n",
    "Vectors.dense(6.0, 7.0, 8.0),\n",
    "Vectors.dense(9.0, 0.0, 1.0)\n",
    "]\n",
    "```\n",
    "\n",
    "To achieve that we convert the **RDD[Vector]** into a distributed Matrix, a [**CoordinateMatrix**](https://spark.apache.org/docs/latest/mllib-data-types.html#coordinatematrix), which as a **transpose** method."
   ]
  },
  {
   "cell_type": "markdown",
   "metadata": {},
   "source": [
    "### Satellite data"
   ]
  },
  {
   "cell_type": "code",
   "execution_count": 10,
   "metadata": {},
   "outputs": [
    {
     "name": "stdout",
     "output_type": "stream",
     "text": [
      "[Stage 22:=====================================================>  (25 + 1) / 26]Elapsed time: 25387088419ns\n"
     ]
    },
    {
     "data": {
      "text/plain": [
       "t0 = 117517234940394\n",
       "satellite_matrix = MapPartitionsRDD[330] at map at <console>:81\n",
       "satellite_cells_sizeB = Broadcast(149)\n",
       "t1 = 117542622028813\n"
      ]
     },
     "metadata": {},
     "output_type": "display_data"
    },
    {
     "data": {
      "text/plain": [
       "117542622028813"
      ]
     },
     "execution_count": 10,
     "metadata": {},
     "output_type": "execute_result"
    }
   ],
   "source": [
    "t0 = System.nanoTime()\n",
    "//Global variables\n",
    "var satellite_matrix: RDD[(Long,Vector)] = sc.emptyRDD\n",
    "\n",
    "val satellite_cells_sizeB = sc.broadcast(satellite_cells_size)\n",
    "if (satellite_matrix_offline_mode) {\n",
    "  satellite_matrix = sc.objectFile(satellite_matrix_path)\n",
    "} else {\n",
    "  val mat :IndexedRowMatrix = new IndexedRowMatrix(satellite_grids_RDD.map{ case (i, m) => (i,m.zipWithIndex)}.map{ case (i,m) => (i,m.filter(!_._1.isNaN))}.map{ case (i,m) =>  new IndexedRow(i.toLong, Vectors.sparse(satellite_cells_sizeB.value.toInt, m.map(v => v._2), m.map(v => v._1)))})\n",
    "  val mat_T = mat.toCoordinateMatrix().transpose().toIndexedRowMatrix().rows//.sortBy(_.index)\n",
    "  satellite_matrix = mat_T.map(m => (m.index, m.vector))\n",
    "\n",
    "  if (save_matrix) {\n",
    "    satellite_matrix.saveAsObjectFile(satellite_matrix_path)\n",
    "  }\n",
    "}\n",
    "\n",
    "t1 = System.nanoTime()\n",
    "println(\"Elapsed time: \" + (t1 - t0) + \"ns\")"
   ]
  },
  {
   "cell_type": "markdown",
   "metadata": {},
   "source": [
    "### Model Data"
   ]
  },
  {
   "cell_type": "code",
   "execution_count": 11,
   "metadata": {},
   "outputs": [
    {
     "name": "stdout",
     "output_type": "stream",
     "text": [
      "[Stage 32:=====================================================>  (19 + 1) / 20]Elapsed time: 128812208548ns\n"
     ]
    },
    {
     "data": {
      "text/plain": [
       "t0 = 117544240567939\n",
       "model_matrix = MapPartitionsRDD[341] at map at <console>:82\n",
       "model_cells_sizeB = Broadcast(152)\n",
       "t1 = 117673052776487\n"
      ]
     },
     "metadata": {},
     "output_type": "display_data"
    },
    {
     "data": {
      "text/plain": [
       "117673052776487"
      ]
     },
     "execution_count": 11,
     "metadata": {},
     "output_type": "execute_result"
    }
   ],
   "source": [
    "t0 = System.nanoTime()\n",
    "\n",
    "//Global variables\n",
    "var model_matrix: RDD[(Long,Vector)] = sc.emptyRDD\n",
    "\n",
    "val model_cells_sizeB = sc.broadcast(model_cells_size)\n",
    "if (model_matrix_offline_mode) {\n",
    "  model_matrix = sc.objectFile(model_matrix_path)\n",
    "} else {\n",
    "  val mat :IndexedRowMatrix = new IndexedRowMatrix(model_grids.map{ case (i, m) => (i,m.zipWithIndex)}.map{ case (i,m) => (i,m.filter(!_._1.isNaN))}.map{ case (i,m) =>  new IndexedRow(i.toLong, Vectors.sparse(model_cells_sizeB.value.toInt, m.map(v => v._2), m.map(v => v._1)))})\n",
    "  val mat_T = mat.toCoordinateMatrix().transpose().toIndexedRowMatrix().rows//.sortBy(_.index)\n",
    "  model_matrix = mat_T.map(m => (m.index, m.vector))\n",
    "\n",
    "  if (save_matrix) {\n",
    "    model_matrix.saveAsObjectFile(model_matrix_path)\n",
    "  }\n",
    "}\n",
    "\n",
    "t1 = System.nanoTime()\n",
    "println(\"Elapsed time: \" + (t1 - t0) + \"ns\")"
   ]
  },
  {
   "cell_type": "markdown",
   "metadata": {},
   "source": [
    "## Correlation\n",
    "\n",
    "Inpired in https://gist.github.com/kaja47/6722683"
   ]
  },
  {
   "cell_type": "code",
   "execution_count": 12,
   "metadata": {},
   "outputs": [
    {
     "data": {
      "text/plain": [
       "satellite = MapPartitionsRDD[342] at map at <console>:63\n",
       "model = MapPartitionsRDD[343] at map at <console>:64\n",
       "satellite_model = MapPartitionsRDD[346] at join at <console>:65\n",
       "satellite_model_V = MapPartitionsRDD[347] at map at <console>:66\n"
      ]
     },
     "metadata": {},
     "output_type": "display_data"
    },
    {
     "data": {
      "text/plain": [
       "MapPartitionsRDD[347] at map at <console>:66"
      ]
     },
     "execution_count": 12,
     "metadata": {},
     "output_type": "execute_result"
    }
   ],
   "source": [
    "val satellite :RDD[(Long, Array[Double])] = satellite_matrix.map{ case (i, v) => (i,v.toArray)}\n",
    "val model :RDD[(Long, Array[Double])] = model_matrix.map{case (i,v) => (i, v.toArray)}\n",
    "val satellite_model = satellite.join(model)\n",
    "val satellite_model_V = satellite_model.map{ case (a,(b, c)) => (a, (new breeze.linalg.DenseVector[Double](b), new breeze.linalg.DenseVector[Double](c)))}\n",
    "satellite_model_V.cache()"
   ]
  },
  {
   "cell_type": "code",
   "execution_count": 13,
   "metadata": {},
   "outputs": [
    {
     "name": "stdout",
     "output_type": "stream",
     "text": [
      "[Stage 39:====================================================>(997 + 3) / 1000]"
     ]
    },
    {
     "data": {
      "text/plain": [
       "satellite_yearsB = Broadcast(157)\n",
       "satellite_model_corr = ShuffledRDD[351] at sortByKey at <console>:139\n"
      ]
     },
     "metadata": {},
     "output_type": "display_data"
    },
    {
     "data": {
      "text/plain": [
       "ShuffledRDD[351] at sortByKey at <console>:139"
      ]
     },
     "execution_count": 13,
     "metadata": {},
     "output_type": "execute_result"
    }
   ],
   "source": [
    "val satellite_yearsB = sc.broadcast(satellite_years)\n",
    "val satellite_model_corr = satellite_model_V.map{ case (i, (b, a)) => ( i, \n",
    "    {\n",
    "        val isLeapYear = (year: Int) => (((year % 4) == 0) && !(\n",
    "          ((year % 100) == 0) &&\n",
    "            !((year % 400) == 0))\n",
    "          )\n",
    "        //a is model, b is satellite (model has an extra day)\n",
    "        var n = a.length\n",
    "        val aC :Array[Double] = new Array[Double](n*2)\n",
    "        val bC = new Array[Double](n*2)\n",
    "        \n",
    "        for (i <- 0 until (n*2)) {\n",
    "          aC(i) = Double.NaN\n",
    "          bC(i) = Double.NaN\n",
    "        }\n",
    "        \n",
    "        var k = 0\n",
    "        for (i <- 0 until (n)) {\n",
    "          aC(k) = a(i)\n",
    "          aC(k+1) = a(i)\n",
    "          if (i > 0)\n",
    "              bC(k) = b(i-1)\n",
    "          k += 2\n",
    "        }\n",
    "\n",
    "        //Let's shift the negative days\n",
    "        var neg_cnt = 0\n",
    "        for (i <- 1 until (n)) {\n",
    "          if (bC(i*2) < 0) {\n",
    "            neg_cnt += 1\n",
    "            if (isLeapYear(satellite_yearsB.value(i-1))) {\n",
    "              bC((i * 2) - 1) = 367 - bC(i * 2)  \n",
    "            } else {\n",
    "              bC((i * 2) - 1) = 366 - bC(i * 2)  \n",
    "            }      \n",
    "            bC(i*2) = Double.NaN\n",
    "          } //else { //American system starts countin at 0 days\n",
    "            //  bC(i*2) = bC(i*2) + 1\n",
    "          //}\n",
    "        }\n",
    "\n",
    "        for (i <- 0 until (n*2)) {\n",
    "          if (bC(i).isNaN)\n",
    "            aC(i) = Double.NaN\n",
    "        }\n",
    "\n",
    "        val aC_NoNAN = new breeze.linalg.DenseVector[Double](aC.filter(!_.isNaN))\n",
    "        val bC_NoNAN = new breeze.linalg.DenseVector[Double](bC.filter(!_.isNaN))\n",
    "\n",
    "        if (aC_NoNAN.length > bC_NoNAN.length) {\n",
    "            assert(false)\n",
    "        }\n",
    "         \n",
    "        //Correlation\n",
    "        n = aC_NoNAN.length\n",
    "        val ameanavar = meanAndVariance(aC_NoNAN)\n",
    "        val amean = ameanavar.mean\n",
    "        val avar = ameanavar.variance\n",
    "        val bmeanbvar = meanAndVariance(bC_NoNAN)\n",
    "        val bmean = bmeanbvar.mean\n",
    "        val bvar = bmeanbvar.variance\n",
    "        val astddev = math.sqrt(avar)\n",
    "        val bstddev = math.sqrt(bvar)\n",
    "\n",
    "        ((1.0 / (n - 1.0) * sum( ((aC_NoNAN - amean) / astddev) :* ((bC_NoNAN - bmean) / bstddev) )), n , neg_cnt)\n",
    "})\n",
    "}.sortByKey()"
   ]
  },
  {
   "cell_type": "markdown",
   "metadata": {},
   "source": [
    "## Build GeoTiff with Kmeans cluster_IDs\n",
    "\n",
    "The Grid with the cluster IDs is stored in a SingleBand GeoTiff and uploaded to HDFS."
   ]
  },
  {
   "cell_type": "markdown",
   "metadata": {},
   "source": [
    "### Assign cluster ID to each grid cell and save the grid as SingleBand GeoTiff\n",
    "\n",
    "To assign the clusterID to each grid cell it is necessary to get the indices of gird cells they belong to. The process is not straight forward because the ArrayDouble used for the creation of each dense Vector does not contain the NaN values, therefore there is not a direct between the indices in the Tile's grid and the ones in **kmeans_res** (kmeans result).\n",
    "\n",
    "To join the two RDDS the knowledge was obtaing from a stackoverflow post on [how to perform basic joins of two rdd tables in spark using python](https://stackoverflow.com/questions/31257077/how-do-you-perform-basic-joins-of-two-rdd-tables-in-spark-using-python)."
   ]
  },
  {
   "cell_type": "markdown",
   "metadata": {},
   "source": [
    "#### Correlation"
   ]
  },
  {
   "cell_type": "code",
   "execution_count": 14,
   "metadata": {},
   "outputs": [
    {
     "name": "stdout",
     "output_type": "stream",
     "text": [
      "[Stage 66:====================================================>(995 + 5) / 1000]DEPRECATED: Use of this script to execute hdfs command is deprecated.\n",
      "Instead use the hdfs command for it.\n",
      "\n",
      "copyFromLocal: `hdfs:///user/pheno/correlation/LeafFinalSOSTYears/SOST_LeafFinal.tif': No such file or directory: `hdfs://pheno0.phenovari-utwente.surf-hosted.nl:9000/user/pheno/correlation/LeafFinalSOSTYears/SOST_LeafFinal.tif'\n"
     ]
    },
    {
     "data": {
      "text/plain": [
       "corr_res_b = MapPartitionsRDD[352] at map at <console>:85\n",
       "corr_cell_pos = MapPartitionsRDD[358] at map at <console>:86\n",
       "grid_corr = MapPartitionsRDD[363] at leftOuterJoin at <console>:89\n",
       "grid_corr_res = MapPartitionsRDD[367] at map at <console>:92\n",
       "corr_cells = Array(NaN, NaN, NaN, NaN, NaN, NaN, NaN, NaN, NaN, NaN, NaN, NaN, NaN, NaN, NaN, NaN, NaN, NaN, NaN, NaN, NaN, NaN, NaN, NaN, NaN, NaN, NaN, NaN, NaN, NaN, NaN, NaN, NaN, NaN, NaN, NaN, NaN, NaN, NaN, NaN, NaN, NaN, NaN, NaN, NaN, NaN, NaN, NaN, NaN, NaN, NaN, NaN, NaN, NaN, NaN, NaN, NaN, NaN, NaN, NaN, NaN, NaN, NaN, NaN, NaN, NaN, ...\n"
      ]
     },
     "metadata": {},
     "output_type": "display_data"
    },
    {
     "data": {
      "text/plain": [
       "warning: there were two feature warnings; re-run with -feature for details\n"
      ]
     },
     "metadata": {},
     "output_type": "display_data"
    }
   ],
   "source": [
    "satellite_model_corr.cache()\n",
    "val corr_res_b = satellite_model_corr.map{ case (a, (b,c,d)) => (a, b)}\n",
    "var corr_cell_pos = corr_res_b.join(model_grid0_index.zipWithIndex().map{ case (v,i) => (i,v)}).map{ case (k,(v,i)) => (v,i)}\n",
    "\n",
    "//Associate a Cluster_IDs to respective Grid_cell\n",
    "var grid_corr = model_grid0.map{ case (i, v) => if (v == -1000) (i,Double.NaN) else (i,v)}.leftOuterJoin(corr_cell_pos.map{ case (c,i) => (i.toLong, c)})\n",
    "\n",
    "//Convert all None to NaN\n",
    "var grid_corr_res = grid_corr.sortByKey(true).map{case (k, (v, c)) => if (c == None) (k, Double.NaN) else (k, c.get)}\n",
    "\n",
    "//Define a Tile\n",
    "var corr_cells :Array[Double] = grid_corr_res.values.collect()\n",
    "var corr_cellsD = DoubleArrayTile(corr_cells, num_cols_rows._1, num_cols_rows._2)\n",
    "\n",
    "var geoTif = new SinglebandGeoTiff(corr_cellsD, projected_extent.extent, projected_extent.crs, Tags.empty, GeoTiffOptions(compression.DeflateCompression))\n",
    "\n",
    "//Save to /tmp/\n",
    "GeoTiffWriter.write(geoTif, corr_tif_tmp)\n",
    "\n",
    "//Upload to HDFS\n",
    "\n",
    "corr_tif = out_path + satellite_dir + \"_\" + model_dir + \".tif\"\n",
    "cmd = \"hadoop dfs -copyFromLocal -f \" + corr_tif_tmp + \" \" + corr_tif\n",
    "Process(cmd)!\n",
    "\n",
    "//Remove from /tmp/\n",
    "cmd = \"rm -fr \" + corr_tif_tmp\n",
    "Process(cmd)!"
   ]
  },
  {
   "cell_type": "code",
   "execution_count": null,
   "metadata": {},
   "outputs": [],
   "source": [
    "cmd = \"hadoop dfs -mkdir -p \" + out_path\n",
    "Process(cmd)!"
   ]
  },
  {
   "cell_type": "markdown",
   "metadata": {},
   "source": [
    "#### Array sizes"
   ]
  },
  {
   "cell_type": "code",
   "execution_count": null,
   "metadata": {},
   "outputs": [],
   "source": [
    "val corr_res_c = satellite_model_corr.map{ case (a, (b,c,d)) => (a, c)}\n",
    "//Merge two RDDs, one containing the clusters_ID indices and the other one the indices of a Tile's grid cells\n",
    "corr_cell_pos = corr_res_c.join(model_grid0_index.zipWithIndex().map{ case (v,i) => (i,v)}).map{ case (k,(v,i)) => (v,i)}\n",
    "\n",
    "//Associate a Cluster_IDs to respective Grid_cell\n",
    "grid_corr = model_grid0.map{ case (i, v) => if (v == -1000) (i,Double.NaN) else (i,v)}.leftOuterJoin(corr_cell_pos.map{ case (c,i) => (i.toLong, c)})\n",
    "\n",
    "//Convert all None to NaN\n",
    "grid_corr_res = grid_corr.sortByKey(true).map{case (k, (v, c)) => if (c == None) (k, Double.NaN) else (k, c.get)}\n",
    "\n",
    "//Define a Tile\n",
    "corr_cells = grid_corr_res.values.collect()\n",
    "corr_cellsD = DoubleArrayTile(corr_cells, num_cols_rows._1, num_cols_rows._2)\n",
    "\n",
    "geoTif = new SinglebandGeoTiff(corr_cellsD, projected_extent.extent, projected_extent.crs, Tags.empty, GeoTiffOptions(compression.DeflateCompression))\n",
    "\n",
    "//Save to /tmp/\n",
    "GeoTiffWriter.write(geoTif, corr_tif_tmp)\n",
    "\n",
    "//Upload to HDFS\n",
    "corr_tif = out_path + \"len_\" + satellite_dir + \"_\" + model_dir + \".tif\"\n",
    "cmd = \"hadoop dfs -copyFromLocal -f \" + corr_tif_tmp + \" \" + corr_tif\n",
    "Process(cmd)!\n",
    "\n",
    "//Remove from /tmp/\n",
    "cmd = \"rm -fr \" + corr_tif_tmp\n",
    "Process(cmd)!"
   ]
  },
  {
   "cell_type": "markdown",
   "metadata": {},
   "source": [
    "#### Number of Negatives"
   ]
  },
  {
   "cell_type": "code",
   "execution_count": null,
   "metadata": {},
   "outputs": [
    {
     "name": "stdout",
     "output_type": "stream",
     "text": [
      "[Stage 120:================================================>  (942 + 54) / 1000]]"
     ]
    }
   ],
   "source": [
    "val corr_res_d = satellite_model_corr.map{ case (a, (b,c,d)) => (a, d)}\n",
    "//Merge two RDDs, one containing the clusters_ID indices and the other one the indices of a Tile's grid cells\n",
    "corr_cell_pos = corr_res_d.join(model_grid0_index.zipWithIndex().map{ case (v,i) => (i,v)}).map{ case (k,(v,i)) => (v,i)}\n",
    "\n",
    "//Associate a Cluster_IDs to respective Grid_cell\n",
    "grid_corr = model_grid0.map{ case (i, v) => if (v == -1000) (i,Double.NaN) else (i,v)}.leftOuterJoin(corr_cell_pos.map{ case (c,i) => (i.toLong, c)})\n",
    "\n",
    "//Convert all None to NaN\n",
    "grid_corr_res = grid_corr.sortByKey(true).map{case (k, (v, c)) => if (c == None) (k, Double.NaN) else (k, c.get.toDouble)}\n",
    "\n",
    "//Define a Tile\n",
    "corr_cells = grid_corr_res.values.collect()\n",
    "corr_cellsD = DoubleArrayTile(corr_cells, num_cols_rows._1, num_cols_rows._2)\n",
    "\n",
    "geoTif = new SinglebandGeoTiff(corr_cellsD, projected_extent.extent, projected_extent.crs, Tags.empty, GeoTiffOptions(compression.DeflateCompression))\n",
    "\n",
    "//Save to /tmp/\n",
    "corr_tif = out_path + \"neg_\" + satellite_dir + \"_\" + model_dir + \".tif\"\n",
    "GeoTiffWriter.write(geoTif, corr_tif_tmp)\n",
    "\n",
    "//Upload to HDFS\n",
    "cmd = \"hadoop dfs -copyFromLocal -f \" + corr_tif_tmp + \" \" + corr_tif\n",
    "Process(cmd)!\n",
    "\n",
    "//Remove from /tmp/\n",
    "cmd = \"rm -fr \" + corr_tif_tmp\n",
    "Process(cmd)!"
   ]
  },
  {
   "cell_type": "markdown",
   "metadata": {},
   "source": [
    "# [Visualize results](plot_kmeans_clusters.ipynb)"
   ]
  }
 ],
 "metadata": {
  "kernelspec": {
   "display_name": "Apache Toree - Scala",
   "language": "scala",
   "name": "apache_toree_scala"
  },
  "language_info": {
   "codemirror_mode": "text/x-scala",
   "file_extension": ".scala",
   "mimetype": "text/x-scala",
   "name": "scala",
   "pygments_lexer": "scala",
   "version": "2.11.8"
  }
 },
 "nbformat": 4,
 "nbformat_minor": 2
}
