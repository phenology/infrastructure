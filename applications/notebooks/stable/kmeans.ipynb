{
 "cells": [
  {
   "cell_type": "markdown",
   "metadata": {},
   "source": [
    "# Kmeans over a set of GeoTiffs\n",
    "\n",
    "This notebook loads a set of GeoTiffs into a **RDD** of Tiles, with each Tile being a band in the GeoTiff. Each GeoTiff file contains **SpringIndex-** or **LastFreeze-** value for one year over the entire USA.\n",
    "\n",
    "Kmeans takes years as dimensions. Hence, the matrix has cells as rows and the years as columns. To cluster on all years, the matrix needs to be transposed. The notebook has two flavors of matrix transpose, locally by the Spark-driver or distributed using the Spark-workers. Once transposed the matrix is converted to a **RDD** of dense vectors to be used by **Kmeans** algorithm from **Spark-MLlib**. The end result is a grid where each cell has a cluster ID which is then saved into a SingleBand GeoTiff. By saving the result into a GeoTiff, the reader can plot it using a Python notebook as the one defined in the [python examples](../examples/python).\n",
    "\n",
    "<span style=\"color:red\">In this notebook the reader only needs to modify the variables in **Mode of Operation Setup**</span>."
   ]
  },
  {
   "cell_type": "markdown",
   "metadata": {},
   "source": [
    "## Dependencies"
   ]
  },
  {
   "cell_type": "code",
   "execution_count": 1,
   "metadata": {},
   "outputs": [
    {
     "data": {
      "text/plain": [
       "...\n"
      ]
     },
     "metadata": {},
     "output_type": "display_data"
    }
   ],
   "source": [
    "import sys.process._\n",
    "\n",
    "import java.io.{ByteArrayInputStream, ByteArrayOutputStream, ObjectInputStream, ObjectOutputStream}\n",
    "\n",
    "\n",
    "import geotrellis.proj4.CRS\n",
    "import geotrellis.raster.{CellType, ArrayTile, DoubleArrayTile, Tile, UByteCellType}\n",
    "import geotrellis.raster.io.geotiff._\n",
    "import geotrellis.raster.io.geotiff.writer.GeoTiffWriter\n",
    "import geotrellis.raster.io.geotiff.{GeoTiff, SinglebandGeoTiff}\n",
    "import geotrellis.spark.io.hadoop._\n",
    "import org.apache.hadoop.io._\n",
    "import geotrellis.vector.{Extent, ProjectedExtent}\n",
    "import org.apache.spark.broadcast.Broadcast\n",
    "import org.apache.spark.mllib.clustering.{KMeans, KMeansModel}\n",
    "import org.apache.spark.mllib.linalg.distributed.{CoordinateMatrix, MatrixEntry, RowMatrix}\n",
    "import org.apache.spark.mllib.linalg.{Vector, Vectors}\n",
    "import org.apache.spark.rdd.RDD\n",
    "import org.apache.spark.{SparkConf, SparkContext}\n",
    "\n",
    "import org.apache.hadoop.io.{IOUtils, SequenceFile}\n",
    "import org.apache.hadoop.io.SequenceFile.Writer\n",
    "\n",
    "//Spire is a numeric library for Scala which is intended to be generic, fast, and precise.\n",
    "import spire.syntax.cfor._"
   ]
  },
  {
   "cell_type": "markdown",
   "metadata": {},
   "source": [
    "## Mode of operation\n",
    "\n",
    "Here the user can define the mode of operation.\n",
    "* **rdd_offline_mode**: If false it means the notebook will create all data from scratch and store grid0, grid0_index, protected_extent and num_cols_rows (from grid0) into HDFS. Otherwise, these data structures are read from HDFS.\n",
    "* **matrix_offline_mode**: If false it means the notebook will create a mtrix,  transposed it and save it to HDFS. Otherwise, these data structures are read from HDFS.\n",
    "* **kmeans_offline_mode**: If false it means the notebook will train kmeans and run kemans and store kmeans model into HDFS. Otherwise, these data structures are read from HDFS.\n",
    "\n",
    "It is also possible to define which directory of GeoTiffs is to be used and on which **band** to run Kmeans. The options are\n",
    "* **BloomFinal** or **LeafFinal** which are multi-band (**4 bands**)\n",
    "* **DamageIndex** and **LastFreeze** which are single-band and if set band_num higher, it will reset to 0\n",
    "\n",
    "For kmeans the user can define the **number of iterations** and **number of clusters** as an inclusive range. Such range is defined using **minClusters**, **maxClusters**, and **stepClusters**. These variables will set a loop starting at **minClusters** and stopping at **maxClusters** (inclusive), iterating **stepClusters** at the time. <span style=\"color:red\">Note that when using a range **kemans offline mode** is not possible and it will be reset to **online mode**</span>."
   ]
  },
  {
   "cell_type": "markdown",
   "metadata": {},
   "source": [
    "### Mode of Operation setup\n",
    "<a id='mode_of_operation_setup'></a>"
   ]
  },
  {
   "cell_type": "code",
   "execution_count": 2,
   "metadata": {},
   "outputs": [
    {
     "data": {
      "text/plain": [
       "rdd_offline_mode = true\n",
       "matrix_offline_mode = true\n",
       "kmeans_offline_mode = true\n",
       "dir_path = hdfs:///user/hadoop/spring-index/\n",
       "offline_dir_path = hdfs:///user/emma/spring-index/\n",
       "geoTiff_dir = BloomFinal\n",
       "band_num = 4\n",
       "toBeMasked = true\n",
       "mask_path = hdfs:///user/hadoop/usa_mask.tif\n",
       "numIterations = 35\n",
       "minClusters = 12\n",
       "maxClusters = 12\n",
       "stepClusters = 1\n",
       "save_kmeans_model = true\n"
      ]
     },
     "metadata": {},
     "output_type": "display_data"
    },
    {
     "data": {
      "text/plain": [
       "true"
      ]
     },
     "execution_count": 2,
     "metadata": {},
     "output_type": "execute_result"
    }
   ],
   "source": [
    "//Operation mode\n",
    "var rdd_offline_mode = true\n",
    "var matrix_offline_mode = true\n",
    "var kmeans_offline_mode = true\n",
    "\n",
    "//GeoTiffs to be read from \"hdfs:///user/hadoop/spring-index/\"\n",
    "var dir_path = \"hdfs:///user/hadoop/spring-index/\"\n",
    "var offline_dir_path = \"hdfs:///user/emma/spring-index/\"\n",
    "var geoTiff_dir = \"BloomFinal\"\n",
    "var band_num = 4\n",
    "\n",
    "//Mask\n",
    "val toBeMasked = true\n",
    "val mask_path = \"hdfs:///user/hadoop/usa_mask.tif\"\n",
    "\n",
    "//Kmeans number of iterations and clusters\n",
    "var numIterations = 35\n",
    "var minClusters = 12\n",
    "var maxClusters = 12\n",
    "var stepClusters = 1\n",
    "var save_kmeans_model = true"
   ]
  },
  {
   "cell_type": "markdown",
   "metadata": {},
   "source": [
    "\n",
    "<span style=\"color:red\">DON'T MODIFY ANY PIECE OF CODE FROM HERE ON!!!</span>.\n"
   ]
  },
  {
   "cell_type": "markdown",
   "metadata": {},
   "source": [
    "### Mode of operation validation"
   ]
  },
  {
   "cell_type": "code",
   "execution_count": 3,
   "metadata": {},
   "outputs": [
    {
     "data": {
      "text/plain": [
       "Waiting for a Spark session to start..."
      ]
     },
     "metadata": {},
     "output_type": "display_data"
    },
    {
     "name": "stdout",
     "output_type": "stream",
     "text": [
      "\"Load GeoTiffs\" offline mode is not set properly, i.e., either it was set to false and the required file does not exist or vice-versa. We will reset it to false\n",
      "\"Matrix\" offline mode is not set properly, i.e., either it was set to false and the required file does not exist or vice-versa. We will reset it to false\n",
      "1\n",
      "\"Kmeans\" offline mode is not set properly, i.e., either it was set to false and the required file does not exist or vice-versa. We will reset it to false\n"
     ]
    },
    {
     "data": {
      "text/plain": [
       "single_band = false\n",
       "mask_str = _mask\n",
       "grid0_path = hdfs:///user/emma/spring-index/BloomFinal/grid0_mask\n",
       "grid0_index_path = hdfs:///user/emma/spring-index/BloomFinal/grid0_index_mask\n",
       "grids_noNaN_path = hdfs:///user/emma/spring-index/BloomFinal/grids_noNaN_mask\n",
       "metadata_path = hdfs:///user/emma/spring-index/BloomFinal/metadata_mask\n",
       "grids_matrix_path = hdfs:///user/emma/spring-index/BloomFinal/grids_matrix_mask\n",
       "conf = Configuration: core-default.xml, core-site.xml, mapred-default.xml, mapred-site.xml, yarn-default.xml, yarn-site.xml, hdfs-default.xml, hdfs-site.xml, file:/usr/lib/spark-2.1.1-bin-without-hadoop/conf/hive-site.xml\n",
       "fs = DFS[DFSClient[clientName=DFSCli...\n"
      ]
     },
     "metadata": {},
     "output_type": "display_data"
    },
    {
     "data": {
      "text/plain": [
       "DFS[DFSClient[clientName=DFSClient_NONMAPREDUCE_250625995_39, ugi=emma (auth:SIMPLE)]]"
      ]
     },
     "execution_count": 3,
     "metadata": {},
     "output_type": "execute_result"
    }
   ],
   "source": [
    "//Validation, do not modify these lines.\n",
    "var single_band = false\n",
    "if (geoTiff_dir == \"BloomFinal\" || geoTiff_dir == \"LeafFinal\") {\n",
    "    single_band = false\n",
    "} else if (geoTiff_dir == \"LastFreeze\" || geoTiff_dir == \"DamageIndex\") {\n",
    "    single_band = true\n",
    "    if (band_num > 0) {\n",
    "        println(\"Since LastFreezze and DamageIndex are single band, we will use band 0!!!\")\n",
    "        band_num  = 0\n",
    "    }\n",
    "} else {\n",
    "    println(\"Directory unknown, please set either BloomFinal, LeafFinal, LastFreeze or DamageIndex!!!\")\n",
    "}\n",
    "\n",
    "if (minClusters > maxClusters) {\n",
    "    maxClusters = minClusters\n",
    "    stepClusters = 1\n",
    "}\n",
    "if (stepClusters < 1) {\n",
    "    stepClusters = 1\n",
    "}\n",
    "\n",
    "//Paths to store data structures for Offline runs\n",
    "var mask_str = \"\"\n",
    "if (toBeMasked)\n",
    "    mask_str = \"_mask\"\n",
    "var grid0_path = offline_dir_path + geoTiff_dir + \"/grid0\" + mask_str\n",
    "var grid0_index_path = offline_dir_path + geoTiff_dir + \"/grid0_index\" + mask_str\n",
    "var grids_noNaN_path = offline_dir_path + geoTiff_dir + \"/grids_noNaN\" + mask_str\n",
    "var metadata_path = offline_dir_path + geoTiff_dir + \"/metadata\" + mask_str\n",
    "var grids_matrix_path = offline_dir_path + geoTiff_dir + \"/grids_matrix\" + mask_str\n",
    "\n",
    "//Check offline modes\n",
    "var conf = sc.hadoopConfiguration\n",
    "var fs = org.apache.hadoop.fs.FileSystem.get(conf)\n",
    "\n",
    "val rdd_offline_exists = fs.exists(new org.apache.hadoop.fs.Path(grid0_path))\n",
    "val matrix_offline_exists = fs.exists(new org.apache.hadoop.fs.Path(grids_matrix_path))\n",
    "                                      \n",
    "if (rdd_offline_mode != rdd_offline_exists) {\n",
    "    println(\"\\\"Load GeoTiffs\\\" offline mode is not set properly, i.e., either it was set to false and the required file does not exist or vice-versa. We will reset it to \" + rdd_offline_exists.toString())\n",
    "    rdd_offline_mode = rdd_offline_exists\n",
    "} \n",
    "if (matrix_offline_mode != matrix_offline_exists) {\n",
    "    println(\"\\\"Matrix\\\" offline mode is not set properly, i.e., either it was set to false and the required file does not exist or vice-versa. We will reset it to \" + matrix_offline_exists.toString())\n",
    "    matrix_offline_mode = matrix_offline_exists\n",
    "}\n",
    "\n",
    "if (!fs.exists(new org.apache.hadoop.fs.Path(mask_path))) {\n",
    "    println(\"The mask path: \" + mask_path + \" is invalid!!!\")\n",
    "}\n",
    "\n",
    "var num_kmeans :Int  = 1\n",
    "if (minClusters != maxClusters) {\n",
    "    num_kmeans = ((maxClusters - minClusters) / stepClusters) + 1\n",
    "}\n",
    "println(num_kmeans)\n",
    "var kmeans_model_paths :Array[String] = Array.fill[String](num_kmeans)(\"\")\n",
    "var wssse_path :String = offline_dir_path + geoTiff_dir + \"/wssse\"\n",
    "var geotiff_hdfs_paths :Array[String] = Array.fill[String](num_kmeans)(\"\")\n",
    "var geotiff_tmp_paths :Array[String] = Array.fill[String](num_kmeans)(\"\")\n",
    "\n",
    "if (num_kmeans > 1) {\n",
    "    var numClusters_id = 0\n",
    "    cfor(minClusters)(_ <= maxClusters, _ + stepClusters) { numClusters =>\n",
    "        kmeans_model_paths(numClusters_id) = offline_dir_path + geoTiff_dir + \"/kmeans_model_\" + numClusters + \"_\" + numIterations\n",
    "        \n",
    "        //Check if the file exists\n",
    "        val kmeans_exist = fs.exists(new org.apache.hadoop.fs.Path(kmeans_model_paths(numClusters_id)))\n",
    "        if (kmeans_exist && !kmeans_offline_mode) {\n",
    "            println(\"The kmeans model path \" + kmeans_model_paths(numClusters_id) + \" exists, please remove it.\")\n",
    "        } else if (!kmeans_exist && kmeans_offline_mode) {\n",
    "            kmeans_offline_mode = false\n",
    "        }\n",
    "        \n",
    "        geotiff_hdfs_paths(numClusters_id) = offline_dir_path + geoTiff_dir + \"/clusters_\" + numClusters + \"_\" + numIterations + \".tif\"\n",
    "        geotiff_tmp_paths(numClusters_id) = \"/tmp/clusters_\" + geoTiff_dir + \"_\" + numClusters + \"_\" + numIterations + \".tif\"\n",
    "        if (fs.exists(new org.apache.hadoop.fs.Path(geotiff_hdfs_paths(numClusters_id)))) {\n",
    "            println(\"There is already a GeoTiff with the path: \" + geotiff_hdfs_paths(numClusters_id) + \". Please make either a copy or move it to another location, otherwise, it will be over-written.\")\n",
    "        }\n",
    "        numClusters_id += 1\n",
    "    }\n",
    "    kmeans_offline_mode = false\n",
    "} else { \n",
    "    kmeans_model_paths(0) = offline_dir_path + geoTiff_dir + \"/kmeans_model_\" + minClusters + \"_\" + numIterations\n",
    "    val kmeans_offline_exists = fs.exists(new org.apache.hadoop.fs.Path(kmeans_model_paths(0)))\n",
    "    if (kmeans_offline_mode != kmeans_offline_exists) {\n",
    "        println(\"\\\"Kmeans\\\" offline mode is not set properly, i.e., either it was set to false and the required file does not exist or vice-versa. We will reset it to \" + kmeans_offline_exists.toString())\n",
    "        kmeans_offline_mode = kmeans_offline_exists\n",
    "    }\n",
    "    geotiff_hdfs_paths(0) = offline_dir_path + geoTiff_dir + \"/clusters_\" + minClusters + \"_\" + numIterations + \".tif\"\n",
    "    geotiff_tmp_paths(0) = \"/tmp/clusters_\" + geoTiff_dir + \"_\" + minClusters + \"_\" + numIterations + \".tif\"\n",
    "    if (fs.exists(new org.apache.hadoop.fs.Path(geotiff_hdfs_paths(0)))) {\n",
    "        println(\"There is already a GeoTiff with the path: \" + geotiff_hdfs_paths(0) + \". Please make either a copy or move it to another location, otherwise, it will be over-written.\")\n",
    "    }\n",
    "}"
   ]
  },
  {
   "cell_type": "markdown",
   "metadata": {},
   "source": [
    "## Functions to (de)serialize any structure into Array[Byte]"
   ]
  },
  {
   "cell_type": "code",
   "execution_count": 4,
   "metadata": {},
   "outputs": [
    {
     "data": {
      "text/plain": [
       "serialize: (value: Any)Array[Byte]\n",
       "deserialize: (bytes: Array[Byte])Any\n"
      ]
     },
     "metadata": {},
     "output_type": "display_data"
    }
   ],
   "source": [
    "def serialize(value: Any): Array[Byte] = {\n",
    "    val out_stream: ByteArrayOutputStream = new ByteArrayOutputStream()\n",
    "    val obj_out_stream = new ObjectOutputStream(out_stream)\n",
    "    obj_out_stream.writeObject(value)\n",
    "    obj_out_stream.close\n",
    "    out_stream.toByteArray\n",
    "}\n",
    "\n",
    "def deserialize(bytes: Array[Byte]): Any = {\n",
    "    val obj_in_stream = new ObjectInputStream(new ByteArrayInputStream(bytes))\n",
    "    val value = obj_in_stream.readObject\n",
    "    obj_in_stream.close\n",
    "    value\n",
    "}"
   ]
  },
  {
   "cell_type": "markdown",
   "metadata": {},
   "source": [
    "## Load GeoTiffs\n",
    "\n",
    "Using GeoTrellis all GeoTiffs of a directory will be loaded into a RDD. Using the RDD, we extract a grid from the first file to lated store the Kmeans cluster_IDS, we build an Index for populate such grid and we filter out here all NaN values."
   ]
  },
  {
   "cell_type": "code",
   "execution_count": 5,
   "metadata": {},
   "outputs": [
    {
     "name": "stdout",
     "output_type": "stream",
     "text": [
      "[Stage 10:======================================================> (35 + 1) / 36]"
     ]
    },
    {
     "data": {
      "text/plain": [
       "projected_extent = ProjectedExtent(Extent(-126.30312894720473, 14.29219617034159, -56.162671563152486, 49.25462702827337),geotrellis.proj4.CRS$$anon$3@41d0d1b7)\n",
       "grid0 = MapPartitionsRDD[38] at map at <console>:150\n",
       "grid0_index = MapPartitionsRDD[33] at map at <console>:147\n",
       "grids_noNaN_RDD = MapPartitionsRDD[39] at map at <console>:153\n",
       "num_cols_rows = (7808,3892)\n",
       "cellT = float64raw\n",
       "grids_RDD = MapPartitionsRDD[18] at map at <console>:135\n",
       "mask_tile0 = FloatRawArrayTile([F@c63157f,7808,3892)\n",
       "pattern = tif\n",
       "filepath = hdfs:///...\n"
      ]
     },
     "metadata": {},
     "output_type": "display_data"
    },
    {
     "data": {
      "text/plain": [
       "hdfs:///user/hadoop/spring-index/BloomFinal"
      ]
     },
     "execution_count": 5,
     "metadata": {},
     "output_type": "execute_result"
    }
   ],
   "source": [
    "//Global variables\n",
    "var projected_extent = new ProjectedExtent(new Extent(0,0,0,0), CRS.fromName(\"EPSG:3857\"))\n",
    "var grid0: RDD[(Long, Double)] = sc.emptyRDD\n",
    "var grid0_index: RDD[Long] = sc.emptyRDD\n",
    "var grids_noNaN_RDD: RDD[Array[Double]] = sc.emptyRDD\n",
    "var num_cols_rows :(Int, Int) = (0, 0)\n",
    "var cellT :CellType = UByteCellType\n",
    "var grids_RDD :RDD[Array[Double]] = sc.emptyRDD\n",
    "var mask_tile0 :Tile = new SinglebandGeoTiff(geotrellis.raster.ArrayTile.empty(cellT, num_cols_rows._1, num_cols_rows._2), projected_extent.extent, projected_extent.crs, Tags.empty, GeoTiffOptions.DEFAULT).tile\n",
    "\n",
    "//Load Mask\n",
    "if (toBeMasked) {\n",
    "    val mask_tiles_RDD = sc.hadoopGeoTiffRDD(mask_path).values\n",
    "    val mask_tiles_withIndex = mask_tiles_RDD.zipWithIndex().map{case (e,v) => (v,e)}\n",
    "    mask_tile0 = (mask_tiles_withIndex.filter(m => m._1==0).values.collect())(0)\n",
    "}\n",
    "\n",
    "//Local variables\n",
    "val pattern: String = \"tif\"\n",
    "val filepath: String = dir_path + geoTiff_dir\n",
    "\n",
    "if (rdd_offline_mode) {\n",
    "    grids_noNaN_RDD = sc.objectFile(grids_noNaN_path)\n",
    "    grid0 = sc.objectFile(grid0_path)\n",
    "    grid0_index = sc.objectFile(grid0_index_path)\n",
    "\n",
    "    val metadata = sc.sequenceFile(metadata_path, classOf[IntWritable], classOf[BytesWritable]).map(_._2.copyBytes()).collect()\n",
    "    projected_extent = deserialize(metadata(0)).asInstanceOf[ProjectedExtent]\n",
    "    num_cols_rows = (deserialize(metadata(1)).asInstanceOf[Int], deserialize(metadata(2)).asInstanceOf[Int])\n",
    "} else {\n",
    "    if (single_band) {\n",
    "        //Lets load a Singleband GeoTiffs and return RDD just with the tiles.\n",
    "        var tiles_RDD :RDD[Tile] = sc.hadoopGeoTiffRDD(filepath, pattern).values\n",
    "            \n",
    "        //Retrive the numbre of cols and rows of the Tile's grid\n",
    "        val tiles_withIndex = tiles_RDD.zipWithIndex().map{case (e,v) => (v,e)}\n",
    "        val tile0 = (tiles_withIndex.filter(m => m._1==0).values.collect())(0)\n",
    "        num_cols_rows = (tile0.cols,tile0.rows)\n",
    "        cellT = tile0.cellType\n",
    "    \n",
    "        if (toBeMasked) {\n",
    "            val mask_tile_broad :Broadcast[Tile] = sc.broadcast(mask_tile0)\n",
    "            grids_RDD = tiles_RDD.map(m => m.localInverseMask(mask_tile_broad.value, 1, 0).toArrayDouble())\n",
    "        } else {\n",
    "            grids_RDD = tiles_RDD.map(m => m.toArrayDouble())\n",
    "        }\n",
    "    } else {\n",
    "        //Lets load Multiband GeoTiffs and return RDD just with the tiles.\n",
    "        val tiles_RDD = sc.hadoopMultibandGeoTiffRDD(filepath, pattern).values\n",
    "    \n",
    "        //Retrive the numbre of cols and rows of the Tile's grid\n",
    "        val tiles_withIndex = tiles_RDD.zipWithIndex().map{case (e,v) => (v,e)}\n",
    "        val tile0 = (tiles_withIndex.filter(m => m._1==0).values.collect())(0)\n",
    "        num_cols_rows = (tile0.cols,tile0.rows)\n",
    "        cellT = tile0.cellType\n",
    "    \n",
    "        //Lets read the average of the Spring-Index which is stored in the 4th band\n",
    "        if (toBeMasked) {\n",
    "            val mask_tile_broad :Broadcast[Tile] = sc.broadcast(mask_tile0)\n",
    "            grids_RDD = tiles_RDD.map(m => m.band(3).localInverseMask(mask_tile_broad.value, 1, 0).toArrayDouble().map(m => if (m == 0.0) Double.NaN else m))\n",
    "        } else {\n",
    "            grids_RDD = tiles_RDD.map(m => m.band(3).toArrayDouble())\n",
    "        }\n",
    "    }\n",
    "\n",
    "    //Retrieve the ProjectExtent which contains metadata such as CRS and bounding box\n",
    "    val projected_extents_withIndex = sc.hadoopGeoTiffRDD(filepath, pattern).keys.zipWithIndex().map{case (e,v) => (v,e)}\n",
    "    projected_extent = (projected_extents_withIndex.filter(m => m._1 == 0).values.collect())(0)\n",
    "\n",
    "    //Get Index for each Cell\n",
    "    val grids_withIndex = grids_RDD.zipWithIndex().map { case (e, v) => (v, e) }\n",
    "    grid0_index = grids_withIndex.filter(m => m._1 == 0).values.flatMap(m => m).zipWithIndex.filter(m => !m._1.isNaN).map { case (v, i) => (i) }\n",
    "\n",
    "    //Get the Tile's grid\n",
    "    grid0 = grids_withIndex.filter(m => m._1 == 0).values.flatMap( m => m).zipWithIndex.map{case (v,i) => (i,v)}\n",
    "\n",
    "    //Lets filter out NaN\n",
    "    grids_noNaN_RDD = grids_RDD.map(m => m.filter(!_.isNaN))\n",
    "    \n",
    "    //Store data in HDFS\n",
    "    grid0.saveAsObjectFile(grid0_path)\n",
    "    grid0_index.saveAsObjectFile(grid0_index_path)\n",
    "    grids_noNaN_RDD.saveAsObjectFile(grids_noNaN_path)\n",
    "    \n",
    "    val writer: SequenceFile.Writer = SequenceFile.createWriter(conf,\n",
    "        Writer.file(metadata_path),\n",
    "        Writer.keyClass(classOf[IntWritable]),\n",
    "        Writer.valueClass(classOf[BytesWritable])\n",
    "    )\n",
    "\n",
    "    writer.append(new IntWritable(1), new BytesWritable(serialize(projected_extent)))\n",
    "    writer.append(new IntWritable(2), new BytesWritable(serialize(num_cols_rows._1)))\n",
    "    writer.append(new IntWritable(3), new BytesWritable(serialize(num_cols_rows._2)))\n",
    "    writer.hflush()\n",
    "    writer.close()\n",
    "}"
   ]
  },
  {
   "cell_type": "markdown",
   "metadata": {},
   "source": [
    "## Matrix\n",
    "\n",
    "We need to do a Matrix transpose to have clusters per cell and not per year. With a GeoTiff representing a single year, the loaded data looks liks this:\n",
    "```\n",
    "bands_RDD.map(s => Vectors.dense(s)).cache()\n",
    "\n",
    "//The vectors are rows and therefore the matrix will look like this:\n",
    "[\n",
    "Vectors.dense(0.0, 1.0, 2.0),\n",
    "Vectors.dense(3.0, 4.0, 5.0),\n",
    "Vectors.dense(6.0, 7.0, 8.0),\n",
    "Vectors.dense(9.0, 0.0, 1.0)\n",
    "]\n",
    "```\n",
    "\n",
    "To achieve that we convert the **RDD[Vector]** into a distributed Matrix, a [**CoordinateMatrix**](https://spark.apache.org/docs/latest/mllib-data-types.html#coordinatematrix), which as a **transpose** method."
   ]
  },
  {
   "cell_type": "code",
   "execution_count": 15,
   "metadata": {},
   "outputs": [
    {
     "name": "stdout",
     "output_type": "stream",
     "text": [
      "[Stage 20:======================================================> (31 + 1) / 32]"
     ]
    },
    {
     "data": {
      "text/plain": [
       "grids_matrix = MapPartitionsRDD[82] at map at IndexedRowMatrix.scala:90\n"
      ]
     },
     "metadata": {},
     "output_type": "display_data"
    },
    {
     "data": {
      "text/plain": [
       "MapPartitionsRDD[82] at map at IndexedRowMatrix.scala:90"
      ]
     },
     "execution_count": 15,
     "metadata": {},
     "output_type": "execute_result"
    }
   ],
   "source": [
    "//Global variables\n",
    "var grids_matrix: RDD[Vector] = sc.emptyRDD\n",
    "\n",
    "if (matrix_offline_mode) {\n",
    "    grids_matrix = sc.objectFile(grids_matrix_path)\n",
    "} else {\n",
    "    val mat :RowMatrix = new RowMatrix(grids_noNaN_RDD.map(m => Vectors.dense(m)))\n",
    "\n",
    "    // Split the matrix into one number per line.\n",
    "    val byColumnAndRow = mat.rows.zipWithIndex.map {\n",
    "        case (row, rowIndex) => row.toArray.zipWithIndex.map {\n",
    "            case (number, columnIndex) => new MatrixEntry(rowIndex, columnIndex, number)\n",
    "        }   \n",
    "    }.flatMap(x => x)\n",
    "    \n",
    "    val matt: CoordinateMatrix = new CoordinateMatrix(byColumnAndRow)\n",
    "    val matt_T = matt.transpose()\n",
    "    grids_matrix = matt_T.toRowMatrix().rows\n",
    "    grids_matrix.saveAsObjectFile(grids_matrix_path)\n",
    "}\n"
   ]
  },
  {
   "cell_type": "markdown",
   "metadata": {
    "collapsed": true
   },
   "source": [
    "## Kmeans\n",
    "\n",
    "We use Kmeans from Sparl-MLlib. The user should only modify the variables on Kmeans setup."
   ]
  },
  {
   "cell_type": "markdown",
   "metadata": {},
   "source": [
    "### Kmeans Training"
   ]
  },
  {
   "cell_type": "code",
   "execution_count": 16,
   "metadata": {},
   "outputs": [
    {
     "name": "stdout",
     "output_type": "stream",
     "text": [
      "12                                                                              \n",
      "Within Set Sum of Squared Errors = 1.7268374978505623E10                        \n",
      "[Stage 145:=====================================================> (31 + 1) / 32]We will delete the wssse file\n",
      "Lets create it with the new data\n"
     ]
    },
    {
     "data": {
      "text/plain": [
       "kmeans_models = Array(org.apache.spark.mllib.clustering.KMeansModel@6d6ca5ce)\n",
       "wssse_data = List((35,35,2.5339807158420963E10), (40,35,2.386049786386734E10), (45,35,2.2600763533288258E10), (50,35,2.1799386581334805E10), (55,35,2.098570400859793E10), (60,35,2.0395817151504257E10), (65,35,1.9603798291774227E10), (70,35,1.9086929807489525E10), (75,35,1.854631924299215E10), (80,35,1.8068770812709595E10), (85,35,1.769766672502065E10), (90,35,1.729243792828873E10), (95,35,1.7151593959877056E10), (100,35,1.6705043556647955E10), (110,35,1.6139365756995707E10), (120,35,1.5427827712581413E10), (130,35,1.5008362712794022E10), (140,35,1.4641235988739805E10), (150,35,1.4268992624340197E10), (160,35,1.3952870530548647E10),...\n"
      ]
     },
     "metadata": {},
     "output_type": "display_data"
    },
    {
     "data": {
      "text/plain": [
       "List((35,35,2.5339807158420963E10), (40,35,2.386049786386734E10), (45,35,2.2600763533288258E10), (50,35,2.1799386581334805E10), (55,35,2.098570400859793E10), (60,35,2.0395817151504257E10), (65,35,1.9603798291774227E10), (70,35,1.9086929807489525E10), (75,35,1.854631924299215E10), (80,35,1.8068770812709595E10), (85,35,1.769766672502065E10), (90,35,1.729243792828873E10), (95,35,1.7151593959877056E10), (100,35,1.6705043556647955E10), (110,35,1.6139365756995707E10), (120,35,1.5427827712581413E10), (130,35,1.5008362712794022E10), (140,35,1.4641235988739805E10), (150,35,1.4268992624340197E10), (160,35,1.3952870530548647E10), (170,35,1.3517124877948017E10), (180,35,1.3335754460133108E10), (190,35,1.290478451111284E10), (200,35,1.2687839076375637E10), (210,35,1.2390782393825275E10), (220,35,1.2222396246071983E10), (230,35,1.1960885750938011E10), (240,35,1.1828089797301386E10), (250,35,1.1646639148858463E10), (260,35,1.1481614897674076E10), (270,35,1.1314988131089611E10), (280,35,1.113068574558643E10), (290,35,1.0982926670511286E10), (300,35,1.089449379564343E10), (310,35,1.0766080305843134E10), (320,35,1.0628492418750612E10), (330,35,1.046488057194343E10), (340,35,1.0316377000119371E10), (350,35,1.0246711468981699E10), (360,35,1.0110781774892664E10), (370,35,1.0003973627488213E10), (380,35,9.900869734122932E9), (390,35,9.810632079644274E9), (400,35,9.701455198251537E9), (410,35,9.624722742993126E9), (420,35,9.521112201991747E9), (430,35,9.436414324562468E9), (440,35,9.336532824835947E9), (450,35,9.31170711797303E9), (460,35,9.163726637327354E9), (470,35,9.122905543464937E9), (480,35,9.05046046567211E9), (490,35,8.951041024682995E9), (500,35,8.889976670567446E9), (510,35,8.849985424913687E9), (520,35,8.781035278713596E9), (530,35,8.708246048694708E9), (540,35,8.664031779517975E9), (550,35,8.580526980901892E9), (560,35,8.548525832571593E9), (570,35,8.463730889956692E9), (580,35,8.417791329663825E9), (590,35,8.338533510465174E9), (600,35,8.297145458691788E9), (610,35,8.23970290236781E9), (620,35,8.186753512028185E9), (630,35,8.117557691448627E9), (640,35,8.083871179263615E9), (650,35,8.031779596989054E9), (660,35,8.0006909847185755E9), (670,35,7.942095567464387E9), (680,35,7.89086974417308E9), (690,35,7.852203828306756E9), (700,35,7.795965364437006E9), (2,35,2.5524785206641013E11), (7,35,6.2672969757289185E10), (12,35,4.350884692942694E10), (17,35,3.556601530396991E10), (22,35,3.1350035950238438E10), (27,35,2.8231042538014996E10), (32,35,2.6312140506980667E10), (5,35,8.235744564985794E10), (2,35,2.5524785206638022E11), (3,35,1.56009992170979E11), (4,35,1.0729578674304773E11), (5,35,8.2357443471469E10), (6,35,7.023344290107353E10), (7,35,6.266911883430614E10), (8,35,5.750511385523201E10), (9,35,5.409049895549409E10), (10,35,4.76551229473686E10), (11,35,4.467704363049945E10), (12,35,4.434359968730067E10), (13,35,4.1122226934800835E10), (14,35,4.048909935254453E10), (15,35,3.805780337687862E10), (2,35,2.5524785206638943E11), (3,35,1.560098001676886E11), (4,35,1.0726950354946706E11), (5,35,8.236611580891516E10), (6,35,7.020527014663445E10), (7,35,6.272936733277755E10), (8,35,5.741515669715137E10), (9,35,5.094108300446624E10), (10,35,5.244012603186109E10), (11,35,4.463115860879446E10), (12,35,4.362470601124322E10), (13,35,4.197731604819475E10), (14,35,4.064469663519074E10), (15,35,3.791028313877722E10), (16,35,3.631131183798604E10), (17,35,3.634132512200026E10), (18,35,3.4280066004661457E10), (19,35,3.539888031296368E10), (20,35,3.2894913218554905E10), (21,35,3.1309689120751545E10), (22,35,3.0889919311322742E10), (23,35,3.0246203358742523E10), (24,35,3.0855375778621323E10), (25,35,2.9304561844149246E10), (26,35,2.9922423903753952E10), (27,35,2.9094190406181232E10), (28,35,2.8207582196293163E10), (29,35,2.763037008839294E10), (30,35,2.799840525972226E10), (12,35,4.8212429639378845E10), (12,35,1.7268374978505623E10))"
      ]
     },
     "execution_count": 16,
     "metadata": {},
     "output_type": "execute_result"
    }
   ],
   "source": [
    "//Global variables\n",
    "var kmeans_models :Array[KMeansModel] = new Array[KMeansModel](num_kmeans)\n",
    "var wssse_data :List[(Int, Int, Double)] = List.empty\n",
    "\n",
    "if (kmeans_offline_mode) {\n",
    "    var numClusters_id = 0\n",
    "    cfor(minClusters)(_ <= maxClusters, _ + stepClusters) { numClusters =>\n",
    "        if (!fs.exists(new org.apache.hadoop.fs.Path(kmeans_model_paths(numClusters_id)))) {\n",
    "            println(\"One of the files does not exist, we will abort!!!\")\n",
    "            System.exit(0)\n",
    "        } else {\n",
    "            kmeans_models(numClusters_id) = KMeansModel.load(sc, kmeans_model_paths(numClusters_id))\n",
    "        }\n",
    "        numClusters_id += 1\n",
    "    }\n",
    "    val wssse_data_RDD :RDD[(Int, Int, Double)]  = sc.objectFile(wssse_path)\n",
    "    wssse_data  = wssse_data_RDD.collect().toList\n",
    "} else {\n",
    "    var numClusters_id = 0\n",
    "    if (fs.exists(new org.apache.hadoop.fs.Path(wssse_path))) {\n",
    "        val wssse_data_RDD :RDD[(Int, Int, Double)]  = sc.objectFile(wssse_path)\n",
    "        wssse_data  = wssse_data_RDD.collect().toList\n",
    "    }\n",
    "    grids_matrix.cache()\n",
    "    cfor(minClusters)(_ <= maxClusters, _ + stepClusters) { numClusters =>\n",
    "        println(numClusters)\n",
    "        kmeans_models(numClusters_id) = {\n",
    "            KMeans.train(grids_matrix, numClusters, numIterations)\n",
    "        }\n",
    "\n",
    "        // Evaluate clustering by computing Within Set Sum of Squared Errors\n",
    "        val WSSSE = kmeans_models(numClusters_id).computeCost(grids_matrix)\n",
    "        println(\"Within Set Sum of Squared Errors = \" + WSSSE)\n",
    "                \n",
    "        wssse_data = wssse_data :+ (numClusters, numIterations, WSSSE)\n",
    "        \n",
    "        //Save kmeans model\n",
    "        if (save_kmeans_model) {\n",
    "            if (!fs.exists(new org.apache.hadoop.fs.Path(kmeans_model_paths(numClusters_id)))) {\n",
    "                kmeans_models(numClusters_id).save(sc, kmeans_model_paths(numClusters_id))\n",
    "            }\n",
    "        }\n",
    "        numClusters_id += 1\n",
    "    }\n",
    "\n",
    "    //Un-persist it to save memory\n",
    "    grids_matrix.unpersist()\n",
    "    \n",
    "    if (fs.exists(new org.apache.hadoop.fs.Path(wssse_path))) {\n",
    "        println(\"We will delete the wssse file\")\n",
    "        try { fs.delete(new org.apache.hadoop.fs.Path(wssse_path), true) } catch { case _ : Throwable => { } }\n",
    "    }\n",
    "    \n",
    "    println(\"Lets create it with the new data\")\n",
    "    sc.parallelize(wssse_data, 1).saveAsObjectFile(wssse_path)\n",
    "}"
   ]
  },
  {
   "cell_type": "markdown",
   "metadata": {},
   "source": [
    "### Inspect WSSSE"
   ]
  },
  {
   "cell_type": "code",
   "execution_count": 17,
   "metadata": {},
   "outputs": [
    {
     "name": "stdout",
     "output_type": "stream",
     "text": [
      "List((35,35,2.5339807158420963E10), (40,35,2.386049786386734E10), (45,35,2.2600763533288258E10), (50,35,2.1799386581334805E10), (55,35,2.098570400859793E10), (60,35,2.0395817151504257E10), (65,35,1.9603798291774227E10), (70,35,1.9086929807489525E10), (75,35,1.854631924299215E10), (80,35,1.8068770812709595E10), (85,35,1.769766672502065E10), (90,35,1.729243792828873E10), (95,35,1.7151593959877056E10), (100,35,1.6705043556647955E10), (110,35,1.6139365756995707E10), (120,35,1.5427827712581413E10), (130,35,1.5008362712794022E10), (140,35,1.4641235988739805E10), (150,35,1.4268992624340197E10), (160,35,1.3952870530548647E10), (170,35,1.3517124877948017E10), (180,35,1.3335754460133108E10), (190,35,1.290478451111284E10), (200,35,1.2687839076375637E10), (210,35,1.2390782393825275E10), (220,35,1.2222396246071983E10), (230,35,1.1960885750938011E10), (240,35,1.1828089797301386E10), (250,35,1.1646639148858463E10), (260,35,1.1481614897674076E10), (270,35,1.1314988131089611E10), (280,35,1.113068574558643E10), (290,35,1.0982926670511286E10), (300,35,1.089449379564343E10), (310,35,1.0766080305843134E10), (320,35,1.0628492418750612E10), (330,35,1.046488057194343E10), (340,35,1.0316377000119371E10), (350,35,1.0246711468981699E10), (360,35,1.0110781774892664E10), (370,35,1.0003973627488213E10), (380,35,9.900869734122932E9), (390,35,9.810632079644274E9), (400,35,9.701455198251537E9), (410,35,9.624722742993126E9), (420,35,9.521112201991747E9), (430,35,9.436414324562468E9), (440,35,9.336532824835947E9), (450,35,9.31170711797303E9), (460,35,9.163726637327354E9), (470,35,9.122905543464937E9), (480,35,9.05046046567211E9), (490,35,8.951041024682995E9), (500,35,8.889976670567446E9), (510,35,8.849985424913687E9), (520,35,8.781035278713596E9), (530,35,8.708246048694708E9), (540,35,8.664031779517975E9), (550,35,8.580526980901892E9), (560,35,8.548525832571593E9), (570,35,8.463730889956692E9), (580,35,8.417791329663825E9), (590,35,8.338533510465174E9), (600,35,8.297145458691788E9), (610,35,8.23970290236781E9), (620,35,8.186753512028185E9), (630,35,8.117557691448627E9), (640,35,8.083871179263615E9), (650,35,8.031779596989054E9), (660,35,8.0006909847185755E9), (670,35,7.942095567464387E9), (680,35,7.89086974417308E9), (690,35,7.852203828306756E9), (700,35,7.795965364437006E9), (2,35,2.5524785206641013E11), (7,35,6.2672969757289185E10), (12,35,4.350884692942694E10), (17,35,3.556601530396991E10), (22,35,3.1350035950238438E10), (27,35,2.8231042538014996E10), (32,35,2.6312140506980667E10), (5,35,8.235744564985794E10), (2,35,2.5524785206638022E11), (3,35,1.56009992170979E11), (4,35,1.0729578674304773E11), (5,35,8.2357443471469E10), (6,35,7.023344290107353E10), (7,35,6.266911883430614E10), (8,35,5.750511385523201E10), (9,35,5.409049895549409E10), (10,35,4.76551229473686E10), (11,35,4.467704363049945E10), (12,35,4.434359968730067E10), (13,35,4.1122226934800835E10), (14,35,4.048909935254453E10), (15,35,3.805780337687862E10), (2,35,2.5524785206638943E11), (3,35,1.560098001676886E11), (4,35,1.0726950354946706E11), (5,35,8.236611580891516E10), (6,35,7.020527014663445E10), (7,35,6.272936733277755E10), (8,35,5.741515669715137E10), (9,35,5.094108300446624E10), (10,35,5.244012603186109E10), (11,35,4.463115860879446E10), (12,35,4.362470601124322E10), (13,35,4.197731604819475E10), (14,35,4.064469663519074E10), (15,35,3.791028313877722E10), (16,35,3.631131183798604E10), (17,35,3.634132512200026E10), (18,35,3.4280066004661457E10), (19,35,3.539888031296368E10), (20,35,3.2894913218554905E10), (21,35,3.1309689120751545E10), (22,35,3.0889919311322742E10), (23,35,3.0246203358742523E10), (24,35,3.0855375778621323E10), (25,35,2.9304561844149246E10), (26,35,2.9922423903753952E10), (27,35,2.9094190406181232E10), (28,35,2.8207582196293163E10), (29,35,2.763037008839294E10), (30,35,2.799840525972226E10), (12,35,4.8212429639378845E10), (12,35,1.7268374978505623E10))\n",
      "List((35,35,2.5339807158420963E10), (40,35,2.386049786386734E10), (45,35,2.2600763533288258E10), (50,35,2.1799386581334805E10), (55,35,2.098570400859793E10), (60,35,2.0395817151504257E10), (65,35,1.9603798291774227E10), (70,35,1.9086929807489525E10), (75,35,1.854631924299215E10), (80,35,1.8068770812709595E10), (85,35,1.769766672502065E10), (90,35,1.729243792828873E10), (95,35,1.7151593959877056E10), (100,35,1.6705043556647955E10), (110,35,1.6139365756995707E10), (120,35,1.5427827712581413E10), (130,35,1.5008362712794022E10), (140,35,1.4641235988739805E10), (150,35,1.4268992624340197E10), (160,35,1.3952870530548647E10), (170,35,1.3517124877948017E10), (180,35,1.3335754460133108E10), (190,35,1.290478451111284E10), (200,35,1.2687839076375637E10), (210,35,1.2390782393825275E10), (220,35,1.2222396246071983E10), (230,35,1.1960885750938011E10), (240,35,1.1828089797301386E10), (250,35,1.1646639148858463E10), (260,35,1.1481614897674076E10), (270,35,1.1314988131089611E10), (280,35,1.113068574558643E10), (290,35,1.0982926670511286E10), (300,35,1.089449379564343E10), (310,35,1.0766080305843134E10), (320,35,1.0628492418750612E10), (330,35,1.046488057194343E10), (340,35,1.0316377000119371E10), (350,35,1.0246711468981699E10), (360,35,1.0110781774892664E10), (370,35,1.0003973627488213E10), (380,35,9.900869734122932E9), (390,35,9.810632079644274E9), (400,35,9.701455198251537E9), (410,35,9.624722742993126E9), (420,35,9.521112201991747E9), (430,35,9.436414324562468E9), (440,35,9.336532824835947E9), (450,35,9.31170711797303E9), (460,35,9.163726637327354E9), (470,35,9.122905543464937E9), (480,35,9.05046046567211E9), (490,35,8.951041024682995E9), (500,35,8.889976670567446E9), (510,35,8.849985424913687E9), (520,35,8.781035278713596E9), (530,35,8.708246048694708E9), (540,35,8.664031779517975E9), (550,35,8.580526980901892E9), (560,35,8.548525832571593E9), (570,35,8.463730889956692E9), (580,35,8.417791329663825E9), (590,35,8.338533510465174E9), (600,35,8.297145458691788E9), (610,35,8.23970290236781E9), (620,35,8.186753512028185E9), (630,35,8.117557691448627E9), (640,35,8.083871179263615E9), (650,35,8.031779596989054E9), (660,35,8.0006909847185755E9), (670,35,7.942095567464387E9), (680,35,7.89086974417308E9), (690,35,7.852203828306756E9), (700,35,7.795965364437006E9), (2,35,2.5524785206641013E11), (7,35,6.2672969757289185E10), (12,35,4.350884692942694E10), (17,35,3.556601530396991E10), (22,35,3.1350035950238438E10), (27,35,2.8231042538014996E10), (32,35,2.6312140506980667E10), (5,35,8.235744564985794E10), (2,35,2.5524785206638022E11), (3,35,1.56009992170979E11), (4,35,1.0729578674304773E11), (5,35,8.2357443471469E10), (6,35,7.023344290107353E10), (7,35,6.266911883430614E10), (8,35,5.750511385523201E10), (9,35,5.409049895549409E10), (10,35,4.76551229473686E10), (11,35,4.467704363049945E10), (12,35,4.434359968730067E10), (13,35,4.1122226934800835E10), (14,35,4.048909935254453E10), (15,35,3.805780337687862E10), (2,35,2.5524785206638943E11), (3,35,1.560098001676886E11), (4,35,1.0726950354946706E11), (5,35,8.236611580891516E10), (6,35,7.020527014663445E10), (7,35,6.272936733277755E10), (8,35,5.741515669715137E10), (9,35,5.094108300446624E10), (10,35,5.244012603186109E10), (11,35,4.463115860879446E10), (12,35,4.362470601124322E10), (13,35,4.197731604819475E10), (14,35,4.064469663519074E10), (15,35,3.791028313877722E10), (16,35,3.631131183798604E10), (17,35,3.634132512200026E10), (18,35,3.4280066004661457E10), (19,35,3.539888031296368E10), (20,35,3.2894913218554905E10), (21,35,3.1309689120751545E10), (22,35,3.0889919311322742E10), (23,35,3.0246203358742523E10), (24,35,3.0855375778621323E10), (25,35,2.9304561844149246E10), (26,35,2.9922423903753952E10), (27,35,2.9094190406181232E10), (28,35,2.8207582196293163E10), (29,35,2.763037008839294E10), (30,35,2.799840525972226E10), (12,35,4.8212429639378845E10), (12,35,1.7268374978505623E10))\n"
     ]
    }
   ],
   "source": [
    "//current\n",
    "println(wssse_data)\n",
    "\n",
    "//from disk\n",
    "if (fs.exists(new org.apache.hadoop.fs.Path(wssse_path))) {\n",
    "    var wssse_data_tmp :RDD[(Int, Int, Double)] = sc.objectFile(wssse_path)//.collect()//.toList\n",
    "    println(wssse_data_tmp.collect().toList)    \n",
    "}"
   ]
  },
  {
   "cell_type": "markdown",
   "metadata": {},
   "source": [
    "### Run Kmeans clustering\n",
    "\n",
    "Run Kmeans and obtain the clusters per each cell."
   ]
  },
  {
   "cell_type": "code",
   "execution_count": 18,
   "metadata": {},
   "outputs": [
    {
     "data": {
      "text/plain": [
       "kmeans_res = Array(MapPartitionsRDD[188] at map at KMeansModel.scala:69)\n",
       "numClusters_id = 1\n"
      ]
     },
     "metadata": {},
     "output_type": "display_data"
    },
    {
     "data": {
      "text/plain": [
       "MapPartitionsRDD[82] at map at IndexedRowMatrix.scala:90"
      ]
     },
     "execution_count": 18,
     "metadata": {},
     "output_type": "execute_result"
    }
   ],
   "source": [
    "//Cache it so kmeans is more efficient\n",
    "grids_matrix.cache()\n",
    "\n",
    "var kmeans_res: Array[RDD[Int]] = Array.fill(num_kmeans)(sc.emptyRDD)\n",
    "var numClusters_id = 0\n",
    "cfor(minClusters)(_ <= maxClusters, _ + stepClusters) { numClusters =>\n",
    "    kmeans_res(numClusters_id) = kmeans_models(numClusters_id).predict(grids_matrix)\n",
    "    numClusters_id += 1\n",
    "}\n",
    "\n",
    "//Un-persist it to save memory\n",
    "grids_matrix.unpersist()"
   ]
  },
  {
   "cell_type": "markdown",
   "metadata": {},
   "source": [
    "#### Sanity test\n",
    "\n",
    "It can be skipped, it only shows the cluster ID for the first 50 cells"
   ]
  },
  {
   "cell_type": "code",
   "execution_count": 20,
   "metadata": {},
   "outputs": [
    {
     "name": "stdout",
     "output_type": "stream",
     "text": [
      "10988280542438271008711069888111026113103111091480656711011703711029781577411101110897082011743100108664798112116143443370118104878884428328114978117109701117411411490980781145041150\n"
     ]
    },
    {
     "data": {
      "text/plain": [
       "kmeans_res_out = Array(10, 9, 8, 8, 2, 8, 0, 5, 4, 2, 4, 3, 8, 2, 7, 1, 0, 0, 8, 7, 11, 0, 6, 9, 8, 8, 8, 11, 10, 2, 6, 11, 3, 10, 3, 11, 10, 9, 1, 4, 8, 0, 6, 5, 6, 7, 11, 0, 11, 7, 0, 3, 7, 1, 10, 2, 9, 7, 8, 1, 5, 7, 7, 4, 11, 10, 11, 10, 8, 9, 7, 0, 8, 2, 0, 11, 7, 4, 3, 10, 0, 10, 8, 6, 6, 4, 7, 9, 8, 11, 2, 11, 6, 1, 4, 3, 4, 4, 3, 3, 7, 0, 11, 8, 10, 4, 8, 7, 8, 8, 8, 4, 4, 2, 8, 3, 2, 8, 11, 4, 9, 7, 8, 11, 7, 10, 9, 7, 0, 11, 1, 7, 4, 11, 4, 11, 4, 9, 0, 9, 8, 0, 7, 8, 11, 4, 5, 0, 4, 1)\n"
      ]
     },
     "metadata": {},
     "output_type": "display_data"
    },
    {
     "data": {
      "text/plain": [
       "[10, 9, 8, 8, 2, 8, 0, 5, 4, 2, 4, 3, 8, 2, 7, 1, 0, 0, 8, 7, 11, 0, 6, 9, 8, 8, 8, 11, 10, 2, 6, 11, 3, 10, 3, 11, 10, 9, 1, 4, 8, 0, 6, 5, 6, 7, 11, 0, 11, 7, 0, 3, 7, 1, 10, 2, 9, 7, 8, 1, 5, 7, 7, 4, 11, 10, 11, 10, 8, 9, 7, 0, 8, 2, 0, 11, 7, 4, 3, 10, 0, 10, 8, 6, 6, 4, 7, 9, 8, 11, 2, 11, 6, 1, 4, 3, 4, 4, 3, 3, 7, 0, 11, 8, 10, 4, 8, 7, 8, 8, 8, 4, 4, 2, 8, 3, 2, 8, 11, 4, 9, 7, 8, 11, 7, 10, 9, 7, 0, 11, 1, 7, 4, 11, 4, 11, 4, 9, 0, 9, 8, 0, 7, 8, 11, 4, 5, 0, 4, 1]"
      ]
     },
     "execution_count": 20,
     "metadata": {},
     "output_type": "execute_result"
    }
   ],
   "source": [
    "val kmeans_res_out = kmeans_res(0).take(150)\n",
    "kmeans_res_out.foreach(print)\n",
    "\n",
    "println(kmeans_res_out.size)"
   ]
  },
  {
   "cell_type": "markdown",
   "metadata": {},
   "source": [
    "## Build GeoTiff with Kmeans cluster_IDs\n",
    "\n",
    "The Grid with the cluster IDs is stored in a SingleBand GeoTiff and uploaded to HDFS."
   ]
  },
  {
   "cell_type": "markdown",
   "metadata": {},
   "source": [
    "### Assign cluster ID to each grid cell and save the grid as SingleBand GeoTiff\n",
    "\n",
    "To assign the clusterID to each grid cell it is necessary to get the indices of gird cells they belong to. The process is not straight forward because the ArrayDouble used for the creation of each dense Vector does not contain the NaN values, therefore there is not a direct between the indices in the Tile's grid and the ones in **kmeans_res** (kmeans result).\n",
    "\n",
    "To join the two RDDS the knowledge was obtaing from a stackoverflow post on [how to perform basic joins of two rdd tables in spark using python](https://stackoverflow.com/questions/31257077/how-do-you-perform-basic-joins-of-two-rdd-tables-in-spark-using-python)."
   ]
  },
  {
   "cell_type": "code",
   "execution_count": 22,
   "metadata": {},
   "outputs": [
    {
     "name": "stdout",
     "output_type": "stream",
     "text": [
      "[Stage 167:==========================================>            (25 + 7) / 32]DEPRECATED: Use of this script to execute hdfs command is deprecated.\n",
      "Instead use the hdfs command for it.\n",
      "\n"
     ]
    },
    {
     "data": {
      "text/plain": [
       "numClusters_id = 1\n"
      ]
     },
     "metadata": {},
     "output_type": "display_data"
    },
    {
     "data": {
      "text/plain": [
       "warning: there were two feature warnings; re-run with -feature for details\n"
      ]
     },
     "metadata": {},
     "output_type": "display_data"
    },
    {
     "data": {
      "text/plain": [
       "1"
      ]
     },
     "execution_count": 22,
     "metadata": {},
     "output_type": "execute_result"
    }
   ],
   "source": [
    "var numClusters_id = 0\n",
    "\n",
    "cfor(minClusters)(_ <= maxClusters, _ + stepClusters) { numClusters =>\n",
    "    //Merge two RDDs, one containing the clusters_ID indices and the other one the indices of a Tile's grid cells\n",
    "    val cluster_cell_pos = ((kmeans_res(numClusters_id).zipWithIndex().map{ case (v,i) => (i,v)}).join(grid0_index.zipWithIndex().map{ case (v,i) => (i,v)})).map{ case (k,(v,i)) => (v,i)}\n",
    "\n",
    "    //Associate a Cluster_IDs to respective Grid_cell\n",
    "    val grid_clusters = grid0.leftOuterJoin(cluster_cell_pos.map{ case (c,i) => (i.toLong, c)})\n",
    "\n",
    "    //Convert all None to NaN\n",
    "    val grid_clusters_res = grid_clusters.sortByKey(true).map{case (k, (v, c)) => if (c == None) (k, Double.NaN) else (k, c.get.toDouble)}\n",
    "    \n",
    "    //Define a Tile\n",
    "    val cluster_cells :Array[Double] = grid_clusters_res.values.collect()\n",
    "    val cluster_cellsD = DoubleArrayTile(cluster_cells, num_cols_rows._1, num_cols_rows._2)\n",
    "    val cluster_tile = geotrellis.raster.DoubleArrayTile.empty(num_cols_rows._1, num_cols_rows._2)\n",
    "    cfor(0)(_ < num_cols_rows._1, _ + 1) { col =>\n",
    "        cfor(0)(_ < num_cols_rows._2, _ + 1) { row =>\n",
    "            val v = cluster_cellsD.getDouble(col, row)\n",
    "            if (v != Double.NaN)\n",
    "                cluster_tile.setDouble(col, row, v)\n",
    "        }\n",
    "    }\n",
    "\n",
    "    val geoTif = new SinglebandGeoTiff(cluster_tile, projected_extent.extent, projected_extent.crs, Tags.empty, GeoTiffOptions(compression.DeflateCompression))\n",
    "    \n",
    "    //Save to /tmp/\n",
    "    GeoTiffWriter.write(geoTif, geotiff_tmp_paths(numClusters_id))\n",
    "\n",
    "    //Upload to HDFS\n",
    "    var cmd = \"hadoop dfs -copyFromLocal -f \" + geotiff_tmp_paths(numClusters_id) + \" \" + geotiff_hdfs_paths(numClusters_id)\n",
    "    Process(cmd)!\n",
    "    \n",
    "    //Remove from /tmp/\n",
    "    cmd = \"rm -fr \" + geotiff_tmp_paths(numClusters_id)\n",
    "    Process(cmd)!\n",
    "    \n",
    "    numClusters_id += 1\n",
    "}"
   ]
  },
  {
   "cell_type": "code",
   "execution_count": null,
   "metadata": {
    "collapsed": true
   },
   "outputs": [],
   "source": []
  },
  {
   "cell_type": "markdown",
   "metadata": {},
   "source": [
    "# [Visualize results](../stable/plot_kmeans_clusters.ipynb)"
   ]
  }
 ],
 "metadata": {
  "kernelspec": {
   "display_name": "Apache Toree - Scala",
   "language": "scala",
   "name": "apache_toree_scala"
  },
  "language_info": {
   "codemirror_mode": "text/x-scala",
   "file_extension": ".scala",
   "mimetype": "text/x-scala",
   "name": "scala",
   "pygments_lexer": "scala",
   "version": "2.11.8"
  }
 },
 "nbformat": 4,
 "nbformat_minor": 2
}
