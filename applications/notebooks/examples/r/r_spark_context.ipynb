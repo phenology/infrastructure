{
 "cells": [
  {
   "cell_type": "code",
   "execution_count": 1,
   "metadata": {
    "collapsed": true
   },
   "outputs": [],
   "source": [
    "Sys.setenv(SPARK_HOME='/usr/lib/spark')\n",
    ".libPaths(c(file.path(Sys.getenv('SPARK_HOME'), 'R', 'lib'), .libPaths()))"
   ]
  },
  {
   "cell_type": "code",
   "execution_count": 8,
   "metadata": {},
   "outputs": [],
   "source": [
    "library(SparkR)"
   ]
  },
  {
   "cell_type": "code",
   "execution_count": 9,
   "metadata": {},
   "outputs": [],
   "source": [
    "appName <- 'r_spark_context'\n",
    "masterURL <- 'spark://emma0.phenovari-utwente.surf-hosted.nl:7077'\n",
    "\n",
    "sc <- sparkR.session(master=masterURL, appName=)\n"
   ]
  },
  {
   "cell_type": "code",
   "execution_count": 14,
   "metadata": {
    "collapsed": true
   },
   "outputs": [],
   "source": [
    "offline_dir_path <- \"hdfs://emma0.phenovari-utwente.surf-hosted.nl:9000/user/emma/spring-index/\"\n",
    "geoTiff_dir <- \"BloomFinal\"\n",
    "wssse_csv_path <- paste(offline_dir_path, geoTiff_dir, \"/wssse.csv\", sep=\"\")"
   ]
  },
  {
   "cell_type": "code",
   "execution_count": null,
   "metadata": {},
   "outputs": [],
   "source": [
    "columns <- c(\"num_clusters\", \"num_iterations\", \"wssse\")\n",
    "\n",
    "data <- read.df(wssse_csv_path, source=\"csv\") #, header = FALSE, col.names = columns, stringsAsFactors = FALSE)"
   ]
  },
  {
   "cell_type": "code",
   "execution_count": null,
   "metadata": {
    "collapsed": true
   },
   "outputs": [],
   "source": [
    "head(df)"
   ]
  },
  {
   "cell_type": "code",
   "execution_count": null,
   "metadata": {
    "collapsed": true
   },
   "outputs": [],
   "source": []
  }
 ],
 "metadata": {
  "kernelspec": {
   "display_name": "R",
   "language": "R",
   "name": "ir"
  },
  "language_info": {
   "codemirror_mode": "r",
   "file_extension": ".r",
   "mimetype": "text/x-r-source",
   "name": "R",
   "pygments_lexer": "r",
   "version": "3.4.0"
  }
 },
 "nbformat": 4,
 "nbformat_minor": 2
}
