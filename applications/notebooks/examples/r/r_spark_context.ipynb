{
 "cells": [
  {
   "cell_type": "code",
   "execution_count": 1,
   "metadata": {
    "collapsed": true
   },
   "outputs": [],
   "source": [
    "Sys.setenv(SPARK_HOME='/usr/lib/spark')\n",
    ".libPaths(c(file.path(Sys.getenv('SPARK_HOME'), 'R', 'lib'), .libPaths()))"
   ]
  },
  {
   "cell_type": "code",
   "execution_count": 2,
   "metadata": {},
   "outputs": [
    {
     "name": "stderr",
     "output_type": "stream",
     "text": [
      "\n",
      "Attaching package: ‘SparkR’\n",
      "\n",
      "The following objects are masked from ‘package:stats’:\n",
      "\n",
      "    cov, filter, lag, na.omit, predict, sd, var, window\n",
      "\n",
      "The following objects are masked from ‘package:base’:\n",
      "\n",
      "    as.data.frame, colnames, colnames<-, drop, endsWith, intersect,\n",
      "    rank, rbind, sample, startsWith, subset, summary, transform, union\n",
      "\n"
     ]
    }
   ],
   "source": [
    "library(SparkR)"
   ]
  },
  {
   "cell_type": "code",
   "execution_count": 3,
   "metadata": {},
   "outputs": [
    {
     "name": "stderr",
     "output_type": "stream",
     "text": [
      "Spark package found in SPARK_HOME: /usr/lib/spark\n"
     ]
    },
    {
     "name": "stdout",
     "output_type": "stream",
     "text": [
      "Launching java with spark-submit command /usr/lib/spark/bin/spark-submit   sparkr-shell /tmp/RtmpLfcZC8/backend_port2c601e8c51e4 \n"
     ]
    }
   ],
   "source": [
    "appName <- 'r_spark_context'\n",
    "masterURL <- 'spark://pheno0.phenovari-utwente.surf-hosted.nl:7077'\n",
    "\n",
    "sc <- sparkR.session(master=masterURL, appName=)\n"
   ]
  },
  {
   "cell_type": "code",
   "execution_count": 13,
   "metadata": {
    "collapsed": true
   },
   "outputs": [],
   "source": [
    "offline_dir_path <- \"hdfs:///user/pheno/spring-index/\"\n",
    "geoTiff_dir <- \"BloomFinal\"\n",
    "wssse_csv_path <- paste(offline_dir_path, geoTiff_dir, \"/wssse.csv\", sep=\"\")"
   ]
  },
  {
   "cell_type": "code",
   "execution_count": 32,
   "metadata": {},
   "outputs": [
    {
     "ename": "ERROR",
     "evalue": "Error: Error in loadDF : No status is returned. Java SparkR backend might have failed.\n\n",
     "output_type": "error",
     "traceback": [
      "Error: Error in loadDF : No status is returned. Java SparkR backend might have failed.\n\nTraceback:\n",
      "1. read.df(wssse_csv_path, source = \"csv\", header = FALSE)",
      "2. dispatchFunc(\"read.df(path = NULL, source = NULL, schema = NULL, ...)\", \n .     x, ...)",
      "3. f(x, ...)",
      "4. handledCallJStatic(\"org.apache.spark.sql.api.r.SQLUtils\", \"loadDF\", \n .     sparkSession, source, options)",
      "5. tryCatch(callJStatic(cls, method, ...), error = function(e) {\n .     captureJVMException(e, method)\n . })",
      "6. tryCatchList(expr, classes, parentenv, handlers)",
      "7. tryCatchOne(expr, names, parentenv, handlers[[1L]])",
      "8. value[[3L]](cond)",
      "9. captureJVMException(e, method)",
      "10. stop(stacktrace, call. = FALSE)"
     ]
    }
   ],
   "source": [
    "columns <- c(\"num_clusters\", \"num_iterations\", \"wssse\")\n",
    "\n",
    "data <- read.df(wssse_csv_path, source=\"csv\") #, header=FALSE) #, col.names = columns, stringsAsFactors = FALSE)"
   ]
  },
  {
   "cell_type": "code",
   "execution_count": 30,
   "metadata": {},
   "outputs": [
    {
     "ename": "ERROR",
     "evalue": "Error in data[0, 1]: Expressions other than filtering predicates are not supported in the first parameter of extract operator [ or subset() method.\n",
     "output_type": "error",
     "traceback": [
      "Error in data[0, 1]: Expressions other than filtering predicates are not supported in the first parameter of extract operator [ or subset() method.\nTraceback:\n",
      "1. print(data[0, 1])",
      "2. data[0, 1]",
      "3. data[0, 1]",
      "4. stop(paste0(\"Expressions other than filtering predicates are not supported \", \n .     \"in the first parameter of extract operator [ or subset() method.\"))"
     ]
    }
   ],
   "source": [
    "print(data[0,1])"
   ]
  },
  {
   "cell_type": "code",
   "execution_count": 23,
   "metadata": {},
   "outputs": [
    {
     "ename": "ERROR",
     "evalue": "Error in factor(input$TESTCELL_CONTENT): object 'input' not found\n",
     "output_type": "error",
     "traceback": [
      "Error in factor(input$TESTCELL_CONTENT): object 'input' not found\nTraceback:\n",
      "1. factor(input$TESTCELL_CONTENT)"
     ]
    }
   ],
   "source": [
    "plot(data, x='_c0', y='_c2')"
   ]
  },
  {
   "cell_type": "code",
   "execution_count": null,
   "metadata": {
    "collapsed": true
   },
   "outputs": [],
   "source": []
  }
 ],
 "metadata": {
  "kernelspec": {
   "display_name": "R",
   "language": "R",
   "name": "ir"
  },
  "language_info": {
   "codemirror_mode": "r",
   "file_extension": ".r",
   "mimetype": "text/x-r-source",
   "name": "R",
   "pygments_lexer": "r",
   "version": "3.4.1"
  }
 },
 "nbformat": 4,
 "nbformat_minor": 2
}
