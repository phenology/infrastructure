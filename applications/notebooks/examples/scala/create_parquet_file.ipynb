{
 "cells": [
  {
   "cell_type": "markdown",
   "metadata": {},
   "source": [
    "# Create a Parquet file\n",
    "\n",
    "This notebook shows how to create a Parquet file out of a matrix stored as object file. Once converted to a Parquet file, the matrix can be loaded into other notebook kernels such as Python and R."
   ]
  },
  {
   "cell_type": "markdown",
   "metadata": {},
   "source": [
    "## Dependencies"
   ]
  },
  {
   "cell_type": "code",
   "execution_count": 16,
   "metadata": {
    "collapsed": true
   },
   "outputs": [],
   "source": [
    "import org.apache.spark.mllib.linalg.Vector\n",
    "import org.apache.spark.rdd.RDD\n",
    "import org.apache.spark.sql.types.{DoubleType, StructField, StructType}\n",
    "import org.apache.spark.sql.{Row, SparkSession}\n",
    "import org.apache.spark.{SparkConf, SparkContext}"
   ]
  },
  {
   "cell_type": "markdown",
   "metadata": {},
   "source": [
    "## Configuration"
   ]
  },
  {
   "cell_type": "code",
   "execution_count": 17,
   "metadata": {},
   "outputs": [
    {
     "data": {
      "text/plain": [
       "dir_path = hdfs:///user/hadoop/spring-index/\n",
       "offline_dir_path = hdfs:///user/pheno/spring-index/\n",
       "geoTiff_dir = BloomFinal\n",
       "toBeMasked = true\n",
       "mask_str = _mask\n",
       "grids_matrix_path = hdfs:///user/pheno/spring-index/BloomFinal/grids_matrix_mask\n",
       "grids_parquet_path = hdfs:///user/pheno/spring-index/BloomFinal/grids_matrix_mask.parquet\n"
      ]
     },
     "metadata": {},
     "output_type": "display_data"
    },
    {
     "data": {
      "text/plain": [
       "hdfs:///user/pheno/spring-index/BloomFinal/grids_matrix_mask.parquet"
      ]
     },
     "execution_count": 17,
     "metadata": {},
     "output_type": "execute_result"
    }
   ],
   "source": [
    "var dir_path = \"hdfs:///user/hadoop/spring-index/\"\n",
    "var offline_dir_path = \"hdfs:///user/pheno/spring-index/\"\n",
    "var geoTiff_dir = \"BloomFinal\"\n",
    "val toBeMasked = true\n",
    "\n",
    "var mask_str = \"\"\n",
    "if (toBeMasked)\n",
    "    mask_str = \"_mask\"\n",
    "\n",
    "var grids_matrix_path = offline_dir_path + geoTiff_dir + \"/grids_matrix\" + mask_str\n",
    "var grids_parquet_path = offline_dir_path + geoTiff_dir + \"/grids_matrix\" + mask_str + \".parquet\""
   ]
  },
  {
   "cell_type": "markdown",
   "metadata": {},
   "source": [
    "## Read Matrix"
   ]
  },
  {
   "cell_type": "code",
   "execution_count": 18,
   "metadata": {},
   "outputs": [
    {
     "data": {
      "text/plain": [
       "grids_matrix = MapPartitionsRDD[21] at objectFile at <console>:63\n",
       "grids_matrix = MapPartitionsRDD[21] at objectFile at <console>:63\n"
      ]
     },
     "metadata": {},
     "output_type": "display_data"
    },
    {
     "data": {
      "text/plain": [
       "MapPartitionsRDD[21] at objectFile at <console>:63"
      ]
     },
     "execution_count": 18,
     "metadata": {},
     "output_type": "execute_result"
    }
   ],
   "source": [
    "var grids_matrix: RDD[Vector] = sc.emptyRDD\n",
    "grids_matrix = sc.objectFile(grids_matrix_path)"
   ]
  },
  {
   "cell_type": "markdown",
   "metadata": {},
   "source": [
    "## Create DataFrame\n",
    "\n",
    "The dataFram will have years as columns. Since it is a transposed matrix saved as **RDD[Vector]** each vector is a row."
   ]
  },
  {
   "cell_type": "code",
   "execution_count": 21,
   "metadata": {},
   "outputs": [
    {
     "data": {
      "text/plain": [
       "start_year = 1980\n",
       "end_year = 2015\n",
       "cols = Array(1980, 1981, 1982, 1983, 1984, 1985, 1986, 1987, 1988, 1989, 1990, 1991, 1992, 1993, 1994, 1995, 1996, 1997, 1998, 1999, 2000, 2001, 2002, 2003, 2004, 2005, 2006, 2007, 2008, 2009, 2010, 2011, 2012, 2013, 2014, 2015)\n",
       "schema = StructType(StructField(1980,DoubleType,true), StructField(1981,DoubleType,true), StructField(1982,DoubleType,true), StructField(1983,DoubleType,true), StructField(1984,DoubleType,true), StructField(1985,DoubleType,true), StructField(1986,DoubleType,true), StructField(1987,DoubleType,true), StructField(1988,DoubleType,true), StructField(1989,DoubleType,true), StructField(1990,DoubleType,true), StructField(1991,DoubleType,true), StructField(1992,DoubleType,tr...\n"
      ]
     },
     "metadata": {},
     "output_type": "display_data"
    },
    {
     "data": {
      "text/plain": [
       "lastException: Throwable = null\n"
      ]
     },
     "metadata": {},
     "output_type": "display_data"
    },
    {
     "data": {
      "text/plain": [
       "StructType(StructField(1980,DoubleType,true), StructField(1981,DoubleType,true), StructField(1982,DoubleType,true), StructField(1983,DoubleType,true), StructField(1984,DoubleType,true), StructField(1985,DoubleType,true), StructField(1986,DoubleType,true), StructField(1987,DoubleType,true), StructField(1988,DoubleType,true), StructField(1989,DoubleType,true), StructField(1990,DoubleType,true), StructField(1991,DoubleType,true), StructField(1992,DoubleType,true), StructField(1993,DoubleType,true), StructField(1994,DoubleType,true), StructField(1995,DoubleType,true), StructField(1996,DoubleType,true), StructField(1997,DoubleType,true), StructField(1998,DoubleType,true), StructField(1999,DoubleType,true), StructField(2000,DoubleType,true), StructField(2001,DoubleType,true), StructField(2002,DoubleType,true), StructField(2003,DoubleType,true), StructField(2004,DoubleType,true), StructField(2005,DoubleType,true), StructField(2006,DoubleType,true), StructField(2007,DoubleType,true), StructField(2008,DoubleType,true), StructField(2009,DoubleType,true), StructField(2010,DoubleType,true), StructField(2011,DoubleType,true), StructField(2012,DoubleType,true), StructField(2013,DoubleType,true), StructField(2014,DoubleType,true), StructField(2015,DoubleType,true))"
      ]
     },
     "execution_count": 21,
     "metadata": {},
     "output_type": "execute_result"
    }
   ],
   "source": [
    "//Define the columns names\n",
    "val start_year = 1980\n",
    "val end_year = 2015\n",
    "var cols :Array[String] = new Array[String](end_year-start_year+1)\n",
    "for (f <- start_year to end_year) {\n",
    "    cols(f-start_year) = f.toString\n",
    "}\n",
    "\n",
    "val schema = new StructType(cols.map( m => StructField(m, DoubleType, nullable = true)))\n",
    "val rowRDD = grids_matrix.map( m => Row.fromSeq(m.toArray))\n",
    "var matrixDF = spark.createDataFrame(rowRDD, schema)"
   ]
  },
  {
   "cell_type": "markdown",
   "metadata": {},
   "source": [
    "## Save Dataframe into a Parquet"
   ]
  },
  {
   "cell_type": "code",
   "execution_count": 23,
   "metadata": {},
   "outputs": [
    {
     "name": "stdout",
     "output_type": "stream",
     "text": [
      "[Stage 6:========================================================>(63 + 1) / 64]"
     ]
    },
    {
     "data": {
      "text/plain": [
       "lastException: Throwable = null\n"
      ]
     },
     "metadata": {},
     "output_type": "display_data"
    }
   ],
   "source": [
    "matrixDF.write.parquet(grids_parquet_path)"
   ]
  },
  {
   "cell_type": "code",
   "execution_count": null,
   "metadata": {
    "collapsed": true
   },
   "outputs": [],
   "source": []
  }
 ],
 "metadata": {
  "kernelspec": {
   "display_name": "Apache Toree - Scala",
   "language": "scala",
   "name": "apache_toree_scala"
  },
  "language_info": {
   "codemirror_mode": "text/x-scala",
   "file_extension": ".scala",
   "mimetype": "text/x-scala",
   "name": "scala",
   "pygments_lexer": "scala",
   "version": "2.11.8"
  }
 },
 "nbformat": 4,
 "nbformat_minor": 2
}
