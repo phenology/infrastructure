{
 "cells": [
  {
   "cell_type": "markdown",
   "metadata": {},
   "source": [
    "# Create CSV file\n",
    "\n",
    "This notebook show how to load an Array of triples stored as objectFile and save it again as a CSV file."
   ]
  },
  {
   "cell_type": "markdown",
   "metadata": {},
   "source": [
    "## Dependencies"
   ]
  },
  {
   "cell_type": "code",
   "execution_count": 11,
   "metadata": {
    "collapsed": true
   },
   "outputs": [],
   "source": [
    "import org.apache.spark.rdd.RDD\n",
    "import org.apache.spark.{SparkConf, SparkContext}\n",
    "import geotrellis.spark.io.hadoop._\n",
    "\n",
    "import org.apache.hadoop.io._\n",
    "import org.apache.hadoop.io.{IOUtils, SequenceFile}"
   ]
  },
  {
   "cell_type": "markdown",
   "metadata": {},
   "source": [
    "## Configuration"
   ]
  },
  {
   "cell_type": "code",
   "execution_count": 18,
   "metadata": {},
   "outputs": [
    {
     "data": {
      "text/plain": [
       "offline_dir_path = hdfs:///user/emma/spring-index/\n",
       "geoTiff_dir = BloomFinal\n",
       "wssse_path = hdfs:///user/emma/spring-index/BloomFinal/wssse\n",
       "wssse_csv_path = hdfs:///user/emma/spring-index/BloomFinal/wssse.csv\n",
       "conf = Configuration: core-default.xml, core-site.xml, mapred-default.xml, mapred-site.xml, yarn-default.xml, yarn-site.xml, hdfs-default.xml, hdfs-site.xml, file:/usr/lib/spark-2.1.1-bin-without-hadoop/conf/hive-site.xml\n",
       "fs = DFS[DFSClient[clientName=DFSClient_NONMAPREDUCE_-1911800544_39, ugi=emma (auth:SIMPLE)]]\n"
      ]
     },
     "metadata": {},
     "output_type": "display_data"
    },
    {
     "data": {
      "text/plain": [
       "DFS[DFSClient[clientName=DFSClient_NONMAPREDUCE_-1911800544_39, ugi=emma (auth:SIMPLE)]]"
      ]
     },
     "execution_count": 18,
     "metadata": {},
     "output_type": "execute_result"
    }
   ],
   "source": [
    "var offline_dir_path = \"hdfs:///user/emma/spring-index/\"\n",
    "var geoTiff_dir = \"BloomFinal\"\n",
    "var wssse_path :String = offline_dir_path + geoTiff_dir + \"/wssse\"\n",
    "var wssse_csv_path :String = offline_dir_path + geoTiff_dir + \"/wssse.csv\"\n",
    "\n",
    "//Check offline modes\n",
    "var conf = sc.hadoopConfiguration\n",
    "var fs = org.apache.hadoop.fs.FileSystem.get(conf)"
   ]
  },
  {
   "cell_type": "markdown",
   "metadata": {},
   "source": [
    "## Load Data"
   ]
  },
  {
   "cell_type": "code",
   "execution_count": 19,
   "metadata": {},
   "outputs": [
    {
     "name": "stdout",
     "output_type": "stream",
     "text": [
      "List((35,35,2.5339807158420963E10), (40,35,2.386049786386734E10), (45,35,2.2600763533288258E10), (50,35,2.1799386581334805E10), (55,35,2.098570400859793E10), (60,35,2.0395817151504257E10), (65,35,1.9603798291774227E10), (70,35,1.9086929807489525E10), (75,35,1.854631924299215E10), (80,35,1.8068770812709595E10), (85,35,1.769766672502065E10), (90,35,1.729243792828873E10), (95,35,1.7151593959877056E10), (100,35,1.6705043556647955E10), (110,35,1.6139365756995707E10), (120,35,1.5427827712581413E10), (130,35,1.5008362712794022E10), (140,35,1.4641235988739805E10), (150,35,1.4268992624340197E10), (160,35,1.3952870530548647E10), (170,35,1.3517124877948017E10), (180,35,1.3335754460133108E10), (190,35,1.290478451111284E10), (200,35,1.2687839076375637E10), (210,35,1.2390782393825275E10), (220,35,1.2222396246071983E10), (230,35,1.1960885750938011E10), (240,35,1.1828089797301386E10), (250,35,1.1646639148858463E10), (260,35,1.1481614897674076E10), (270,35,1.1314988131089611E10), (280,35,1.113068574558643E10), (290,35,1.0982926670511286E10), (300,35,1.089449379564343E10), (310,35,1.0766080305843134E10), (320,35,1.0628492418750612E10), (330,35,1.046488057194343E10), (340,35,1.0316377000119371E10), (350,35,1.0246711468981699E10), (360,35,1.0110781774892664E10), (370,35,1.0003973627488213E10), (380,35,9.900869734122932E9), (390,35,9.810632079644274E9), (400,35,9.701455198251537E9), (410,35,9.624722742993126E9), (420,35,9.521112201991747E9), (430,35,9.436414324562468E9), (440,35,9.336532824835947E9), (450,35,9.31170711797303E9), (460,35,9.163726637327354E9), (470,35,9.122905543464937E9), (480,35,9.05046046567211E9), (490,35,8.951041024682995E9), (500,35,8.889976670567446E9))\n"
     ]
    },
    {
     "data": {
      "text/plain": [
       "wssse_data = MapPartitionsRDD[13] at objectFile at <console>:53\n"
      ]
     },
     "metadata": {},
     "output_type": "display_data"
    },
    {
     "data": {
      "text/plain": [
       "MapPartitionsRDD[13] at objectFile at <console>:53"
      ]
     },
     "execution_count": 19,
     "metadata": {},
     "output_type": "execute_result"
    }
   ],
   "source": [
    "var wssse_data :RDD[(Int, Int, Double)] = sc.emptyRDD\n",
    "\n",
    "//from disk\n",
    "if (fs.exists(new org.apache.hadoop.fs.Path(wssse_path))) {\n",
    "    wssse_data = sc.objectFile(wssse_path)\n",
    "    println(wssse_data.collect().toList)        \n",
    "}"
   ]
  },
  {
   "cell_type": "markdown",
   "metadata": {},
   "source": [
    "## Save Data"
   ]
  },
  {
   "cell_type": "code",
   "execution_count": 20,
   "metadata": {},
   "outputs": [
    {
     "data": {
      "text/plain": [
       "wssse = MapPartitionsRDD[14] at map at <console>:47\n"
      ]
     },
     "metadata": {},
     "output_type": "display_data"
    },
    {
     "data": {
      "text/plain": [
       "MapPartitionsRDD[14] at map at <console>:47"
      ]
     },
     "execution_count": 20,
     "metadata": {},
     "output_type": "execute_result"
    }
   ],
   "source": [
    "val wssse = wssse_data.map{case (a,b,c) => Array(a,b,c).mkString(\",\")}\n",
    "wssse.saveAsTextFile(wssse_csv_path)"
   ]
  },
  {
   "cell_type": "code",
   "execution_count": null,
   "metadata": {
    "collapsed": true
   },
   "outputs": [],
   "source": []
  }
 ],
 "metadata": {
  "kernelspec": {
   "display_name": "Apache Toree - Scala",
   "language": "scala",
   "name": "apache_toree_scala"
  },
  "language_info": {
   "codemirror_mode": "text/x-scala",
   "file_extension": ".scala",
   "mimetype": "text/x-scala",
   "name": "scala",
   "pygments_lexer": "scala",
   "version": "2.11.8"
  }
 },
 "nbformat": 4,
 "nbformat_minor": 2
}
