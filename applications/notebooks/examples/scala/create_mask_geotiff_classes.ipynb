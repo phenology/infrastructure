{
 "cells": [
  {
   "cell_type": "markdown",
   "metadata": {},
   "source": [
    "# Mask a GeoTiff\n",
    "\n",
    "In this notebook the user can load two GeoTiffs, extract a Tile from the first GeoTiff and mask it with second GeoTiff."
   ]
  },
  {
   "cell_type": "markdown",
   "metadata": {},
   "source": [
    "## Dependencies"
   ]
  },
  {
   "cell_type": "code",
   "execution_count": 1,
   "metadata": {
    "collapsed": true
   },
   "outputs": [],
   "source": [
    "import sys.process._\n",
    "import geotrellis.proj4.CRS\n",
    "import geotrellis.raster.io.geotiff.writer.GeoTiffWriter\n",
    "import geotrellis.raster.io.geotiff.{SinglebandGeoTiff, _}\n",
    "import geotrellis.raster.{CellType, DoubleArrayTile}\n",
    "import geotrellis.spark.io.hadoop._\n",
    "import geotrellis.vector.{Extent, ProjectedExtent}\n",
    "import org.apache.spark.mllib.linalg.Vector\n",
    "import org.apache.spark.rdd.RDD\n",
    "import org.apache.spark.{SparkConf, SparkContext}\n",
    "\n",
    "//Spire is a numeric library for Scala which is intended to be generic, fast, and precise.\n",
    "import spire.syntax.cfor._"
   ]
  },
  {
   "cell_type": "markdown",
   "metadata": {},
   "source": [
    "## Read a GeoTiff file"
   ]
  },
  {
   "cell_type": "code",
   "execution_count": 2,
   "metadata": {},
   "outputs": [
    {
     "data": {
      "text/plain": [
       "Waiting for a Spark session to start..."
      ]
     },
     "metadata": {},
     "output_type": "display_data"
    },
    {
     "data": {
      "text/plain": [
       "geo_projected_extent = ProjectedExtent(Extent(-171.1296209227216, 19.996701428244357, -42.56469205974807, 49.99999999547987),geotrellis.proj4.CRS$$anon$3@41d0d1b7)\n",
       "geo_num_cols_rows = (17800,4154)\n",
       "geo_path = hdfs:///user/hadoop/modis/Onset_Greenness_Increase/A2001001__Onset_Greenness_Increase.tif\n",
       "geo_tiles_RDD = MapPartitionsRDD[2] at values at <console>:50\n",
       "geo_extents_withIndex = MapPartitionsRDD[7] at map at <console>:52\n",
       "geo_projected_extent = ProjectedExtent(Extent(-171.1296209227216, 19.996701428244357, -42.56469205974807, 49.99999999547987),geotrellis.proj4.CRS$$anon$3@41d0d1b...\n"
      ]
     },
     "metadata": {},
     "output_type": "display_data"
    },
    {
     "data": {
      "text/plain": [
       "ProjectedExtent(Extent(-171.1296209227216, 19.996701428244357, -42.56469205974807, 49.99999999547987),geotrellis.proj4.CRS$$anon$3@41d0d1b7)"
      ]
     },
     "execution_count": 2,
     "metadata": {},
     "output_type": "execute_result"
    }
   ],
   "source": [
    "var geo_projected_extent = new ProjectedExtent(new Extent(0,0,0,0), CRS.fromName(\"EPSG:3857\"))\n",
    "var geo_num_cols_rows :(Int, Int) = (0, 0)\n",
    "val geo_path = \"hdfs:///user/hadoop/modis/Onset_Greenness_Increase/A2001001__Onset_Greenness_Increase.tif\"\n",
    "\n",
    "val geo_tiles_RDD = sc.hadoopGeoTiffRDD(geo_path).values\n",
    "\n",
    "val geo_extents_withIndex = sc.hadoopMultibandGeoTiffRDD(geo_path).keys.zipWithIndex().map{case (e,v) => (v,e)}\n",
    "geo_projected_extent = (geo_extents_withIndex.filter(m => m._1 == 0).values.collect())(0)\n",
    "\n",
    "val geo_tiles_withIndex = geo_tiles_RDD.zipWithIndex().map{case (e,v) => (v,e)}\n",
    "val geo_tile0 = (geo_tiles_withIndex.filter(m => m._1==0).values.collect())(0)\n",
    "geo_num_cols_rows = (geo_tile0.cols, geo_tile0.rows)\n",
    "val geo_cellT = geo_tile0.cellType"
   ]
  },
  {
   "cell_type": "markdown",
   "metadata": {},
   "source": [
    "## Convert classes to NaN\n",
    "\n",
    "We used the class numbers from [MCD12Q1.051](https://lpdaac.usgs.gov/dataset_discovery/modis/modis_products_table/mcd12q1)"
   ]
  },
  {
   "cell_type": "code",
   "execution_count": 3,
   "metadata": {},
   "outputs": [
    {
     "data": {
      "text/plain": [
       "classes = Array(32767)\n",
       "classesBro = Broadcast(4)\n",
       "res_tile = MapPartitionsRDD[15] at map at <console>:52\n"
      ]
     },
     "metadata": {},
     "output_type": "display_data"
    },
    {
     "data": {
      "text/plain": [
       "MapPartitionsRDD[15] at map at <console>:52"
      ]
     },
     "execution_count": 3,
     "metadata": {},
     "output_type": "execute_result"
    }
   ],
   "source": [
    "val classes = Array(32767)\n",
    "\n",
    "val classesBro = sc.broadcast(classes)\n",
    "val res_tile = geo_tiles_RDD.map(m => m.toArrayDouble()).map(m => m.map(v => if (classesBro.value.contains(v)) 1.0 else 0.0))"
   ]
  },
  {
   "cell_type": "markdown",
   "metadata": {},
   "source": [
    "## Save the new GeoTiff file"
   ]
  },
  {
   "cell_type": "code",
   "execution_count": 4,
   "metadata": {},
   "outputs": [
    {
     "name": "stdout",
     "output_type": "stream",
     "text": [
      "DEPRECATED: Use of this script to execute hdfs command is deprecated.\n",
      "Instead use the hdfs command for it.\n",
      "\n"
     ]
    },
    {
     "data": {
      "text/plain": [
       "clone_tile = DoubleConstantNoDataArrayTile([D@2ea6dcc8,17800,4154)\n",
       "cloned = DoubleConstantNoDataArrayTile([D@108690ef,17800,4154)\n",
       "geoTif = SinglebandGeoTiff(DoubleConstantNoDataArrayTile([D@108690ef,17800,4154),Extent(-171.1296209227216, 19.996701428244357, -42.56469205974807, 49.99999999547987),geotrellis.proj4.CRS$$anon$3@41d0d1b7,Tags(Map(),List()),GeoTiffOptions(geotrellis.raster.io.geotiff.Striped@7a8ae72b,geotrellis.raster.io.geotiff.compression.DeflateCompression$@5230299e,1,None))\n",
       "output = hdfs:///user/pheno/modis/Onset_Greenness_Increase/A2001001__Onset_Greenness_Increase.tif\n",
       "tmp_output = /tmp/A2001001__Onset_Greenness_Increase.tif\n",
       "cmd = r...\n"
      ]
     },
     "metadata": {},
     "output_type": "display_data"
    },
    {
     "data": {
      "text/plain": [
       "warning: there were two feature warnings; re-run with -feature for details\n"
      ]
     },
     "metadata": {},
     "output_type": "display_data"
    },
    {
     "data": {
      "text/plain": [
       "rm -fr /tmp/A2001001__Onset_Greenness_Increase.tif"
      ]
     },
     "execution_count": 4,
     "metadata": {},
     "output_type": "execute_result"
    }
   ],
   "source": [
    "val clone_tile = DoubleArrayTile(res_tile.collect()(0), geo_num_cols_rows._1, geo_num_cols_rows._2)\n",
    "\n",
    "val cloned = geotrellis.raster.DoubleArrayTile.empty(geo_num_cols_rows._1, geo_num_cols_rows._2)\n",
    "cfor(0)(_ < geo_num_cols_rows._1, _ + 1) { col =>\n",
    "    cfor(0)(_ < geo_num_cols_rows._2, _ + 1) { row =>\n",
    "        val v = clone_tile.getDouble(col, row)\n",
    "        cloned.setDouble(col, row, v)\n",
    "    }\n",
    "}\n",
    "\n",
    "val geoTif = new SinglebandGeoTiff(cloned, geo_projected_extent.extent, geo_projected_extent.crs, Tags.empty, GeoTiffOptions(compression.DeflateCompression))\n",
    "\n",
    "//Save GeoTiff to /tmp\n",
    "val output = \"hdfs:///user/pheno/modis/Onset_Greenness_Increase/A2001001__Onset_Greenness_Increase.tif\"\n",
    "val tmp_output = \"/tmp/A2001001__Onset_Greenness_Increase.tif\"\n",
    "\n",
    "GeoTiffWriter.write(geoTif, tmp_output)\n",
    "\n",
    "//Upload to HDFS\n",
    "var cmd = \"hadoop dfs -copyFromLocal -f \" + tmp_output + \" \" + output\n",
    "Process(cmd)!\n",
    "\n",
    "cmd = \"rm -fr \" + tmp_output\n",
    "Process(cmd)!"
   ]
  },
  {
   "cell_type": "code",
   "execution_count": null,
   "metadata": {
    "collapsed": true
   },
   "outputs": [],
   "source": []
  }
 ],
 "metadata": {
  "kernelspec": {
   "display_name": "Apache Toree - Scala",
   "language": "scala",
   "name": "apache_toree_scala"
  },
  "language_info": {
   "codemirror_mode": "text/x-scala",
   "file_extension": ".scala",
   "mimetype": "text/x-scala",
   "name": "scala",
   "pygments_lexer": "scala",
   "version": "2.11.8"
  }
 },
 "nbformat": 4,
 "nbformat_minor": 2
}
