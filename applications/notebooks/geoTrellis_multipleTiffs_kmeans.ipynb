{
 "cells": [
  {
   "cell_type": "code",
   "execution_count": 1,
   "metadata": {
    "collapsed": true
   },
   "outputs": [],
   "source": [
    "/**\n",
    " The following notebook does:\n",
    "     - Reads multi single- or a multi- band GeoTiff from HDFS\n",
    "     - Filters out or converts NaN values\n",
    "     - Runs Kmeans\n",
    "     - Saves the kmeans model to HDFS\n",
    "**/\n",
    "\n",
    "\n",
    "import geotrellis.raster.MultibandTile\n",
    "import geotrellis.spark.io.hadoop._\n",
    "import geotrellis.vector.ProjectedExtent\n",
    "import org.apache.hadoop.fs.Path\n",
    "import org.apache.spark.{SparkConf, SparkContext}\n",
    "import org.apache.spark.mllib.clustering.KMeans\n",
    "import org.apache.spark.mllib.linalg.Vectors\n",
    "import org.apache.spark.rdd.RDD"
   ]
  },
  {
   "cell_type": "code",
   "execution_count": 19,
   "metadata": {},
   "outputs": [],
   "source": [
    "//The following example shows how to get the number of bands, however, it is not known \n",
    "//val band_count = geotrellis.raster.io.geotiff.reader.TiffTagsReader.read(filepath).bandCount;\n",
    "\n",
    "val band_count = 1;\n",
    "var band_RDD :RDD[Array[Double]] = sc.emptyRDD\n",
    "val pattern: String = \"tif\"\n",
    "var filepath :String = \"\"\n",
    "if (band_count == 1) {\n",
    "    //Single band GeoTiff\n",
    "    filepath = \"hdfs:///user/hadoop/spring-index/LastFreeze/\"\n",
    "} else {\n",
    "    //Multi band GeoTiff\n",
    "    filepath = \"hdfs:///user/hadoop/spring-index/BloomFinal/\"\n",
    "}\n",
    "    \n",
    "if (band_count == 1) {\n",
    "    //Lets load a Singleband GeoTiff and return RDD just with the tiles.\n",
    "    //Since it is a single GeoTiff, it will be a RDD with a tile.\n",
    "    val bands_RDD = sc.hadoopGeoTiffRDD(filepath, pattern).values\n",
    "    \n",
    "    //Lets filter out NaN\n",
    "    band_RDD = bands_RDD.map(m => m.toArrayDouble().filter(!_.isNaN).take(1000000))\n",
    "} else {\n",
    "    //Lets load a Multiband GeoTiff and return RDD just with the tiles.\n",
    "    //Since it is a single GeoTiff, it will be a RDD with a tile.\n",
    "    val bands_RDD = sc.hadoopMultibandGeoTiffRDD(filepath, pattern).values\n",
    "    \n",
    "    //Extract the 4th band and filter out NaN\n",
    "    band_RDD = bands_RDD.map(m => m.band(3).toArrayDouble().filter(v => !v.isNaN))\n",
    "}"
   ]
  },
  {
   "cell_type": "code",
   "execution_count": 20,
   "metadata": {},
   "outputs": [],
   "source": [
    "// Create a Vector without NaN values\n",
    "val band_vec = band_RDD.map(s => Vectors.dense(s)).cache()"
   ]
  },
  {
   "cell_type": "code",
   "execution_count": 21,
   "metadata": {},
   "outputs": [
    {
     "name": "stdout",
     "output_type": "stream",
     "text": [
      "[Stage 13:======================================================> (35 + 1) / 36]Within Set Sum of Squared Errors = 5.975771808460358E9\n"
     ]
    }
   ],
   "source": [
    "val numClusters = 3\n",
    "val numIterations = 20\n",
    "val clusters = {\n",
    "    KMeans.train(band_vec,numClusters,numIterations)\n",
    "}\n",
    "\n",
    "// Evaluate clustering by computing Within Set Sum of Squared Errors\n",
    "val WSSSE = clusters.computeCost(band_vec)\n",
    "println(\"Within Set Sum of Squared Errors = \" + WSSSE)"
   ]
  },
  {
   "cell_type": "code",
   "execution_count": 22,
   "metadata": {},
   "outputs": [
    {
     "name": "stdout",
     "output_type": "stream",
     "text": [
      "Cluster Centers: \n",
      "[Stage 18:=============================>                            (2 + 2) / 4]"
     ]
    }
   ],
   "source": [
    "//Un-persist the model\n",
    "band_vec.unpersist()\n",
    "\n",
    "// Shows the result.\n",
    "println(\"Cluster Centers: \")\n",
    "//clusters.clusterCenters.foreach(println)\n",
    "\n",
    "//Clusters save the model\n",
    "if (band_count == 1) {\n",
    "    clusters.save(sc, \"hdfs:///user/emma/spring_index/LastFreeze/all_kmeans_model\")    \n",
    "} else {\n",
    "    clusters.save(sc, \"hdfs:///user/emma/spring_index/BloomFinal/allkmeans_model\")\n",
    "}\n"
   ]
  },
  {
   "cell_type": "code",
   "execution_count": null,
   "metadata": {
    "collapsed": true
   },
   "outputs": [],
   "source": []
  }
 ],
 "metadata": {
  "kernelspec": {
   "display_name": "Apache Toree - Scala",
   "language": "scala",
   "name": "apache_toree_scala"
  },
  "language_info": {
   "codemirror_mode": "text/x-scala",
   "file_extension": ".scala",
   "mimetype": "text/x-scala",
   "name": "scala",
   "pygments_lexer": "scala",
   "version": "2.11.8"
  }
 },
 "nbformat": 4,
 "nbformat_minor": 2
}
